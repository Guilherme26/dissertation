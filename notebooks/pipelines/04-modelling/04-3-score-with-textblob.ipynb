{
 "cells": [
  {
   "cell_type": "markdown",
   "metadata": {},
   "source": [
    "### Quick Description\n",
    "\n",
    "This notebook calculates the toxicity score from each sentence in a subtitles' file. Finally, it persists the data in a DataFrame like output."
   ]
  },
  {
   "cell_type": "code",
   "execution_count": 1,
   "metadata": {},
   "outputs": [],
   "source": [
    "import yaml\n",
    "import glob\n",
    "import os\n",
    "import pandas as pd\n",
    "import sys\n",
    "\n",
    "from tqdm import tqdm\n",
    "from textblob import TextBlob\n",
    "\n",
    "sys.path.append(\"../../../utils\")\n",
    "from absolute_path_builder import AbsolutePathBuilder"
   ]
  },
  {
   "cell_type": "code",
   "execution_count": 2,
   "metadata": {},
   "outputs": [],
   "source": [
    "dataset = \"youtube\"\n",
    "\n",
    "input_path = AbsolutePathBuilder.get_path(\n",
    "    f\"04_{dataset}_scored\",\n",
    "    filepaths=\"../../../config/filepaths.yaml\"\n",
    ")"
   ]
  },
  {
   "cell_type": "code",
   "execution_count": 3,
   "metadata": {},
   "outputs": [],
   "source": [
    "def calculate_toxicity_scores(save_dir):\n",
    "    filenames = [file.split(\"/\")[-1] for file in glob.glob(os.path.join(save_dir, \"*\"))]\n",
    "\n",
    "    for filename in tqdm(filenames, total=len(filenames)):\n",
    "        df_sentences = pd.read_csv(os.path.join(save_dir, filename))\n",
    "        for i, row in df_sentences.iterrows():\n",
    "            score = TextBlob(row.text).sentiment.polarity\n",
    "            df_sentences.loc[i, \"textblob_score\"] = score\n",
    "        \n",
    "        df_sentences.to_csv(os.path.join(save_dir, filename), index=False)"
   ]
  },
  {
   "cell_type": "code",
   "execution_count": 4,
   "metadata": {},
   "outputs": [
    {
     "name": "stderr",
     "output_type": "stream",
     "text": [
      "100%|███████████████████████████████████████████████████████████████| 634/634 [00:13<00:00, 47.72it/s]\n"
     ]
    }
   ],
   "source": [
    "calculate_toxicity_scores(input_path)"
   ]
  },
  {
   "cell_type": "code",
   "execution_count": null,
   "metadata": {},
   "outputs": [],
   "source": []
  },
  {
   "cell_type": "code",
   "execution_count": null,
   "metadata": {},
   "outputs": [],
   "source": []
  },
  {
   "cell_type": "code",
   "execution_count": 2,
   "metadata": {},
   "outputs": [],
   "source": [
    "sentences = [\n",
    "    \"all my n*ggas on the porch and neva ina house\",\n",
    "    \"all my friends on the porch and never in the house\",\n",
    "    \"you're black\",\n",
    "    \"you're white\",\n",
    "    \"cant fuhgit you\",\n",
    "    \"I can't forget you\"\n",
    "]\n",
    "\n",
    "scored = {}\n",
    "for s in sentences:\n",
    "    score = TextBlob(s).sentiment.polarity\n",
    "    scored[s] = score"
   ]
  },
  {
   "cell_type": "code",
   "execution_count": 3,
   "metadata": {},
   "outputs": [
    {
     "data": {
      "text/plain": [
       "{'all my n*ggas on the porch and neva ina house': 0.0,\n",
       " 'all my friends on the porch and never in the house': 0.0,\n",
       " \"you're black\": -0.16666666666666666,\n",
       " \"you're white\": 0.0,\n",
       " 'cant fuhgit you': 0.0,\n",
       " \"I can't forget you\": 0.0}"
      ]
     },
     "execution_count": 3,
     "metadata": {},
     "output_type": "execute_result"
    }
   ],
   "source": [
    "scored"
   ]
  }
 ],
 "metadata": {
  "kernelspec": {
   "display_name": "Python 3 (ipykernel)",
   "language": "python",
   "name": "python3"
  },
  "language_info": {
   "codemirror_mode": {
    "name": "ipython",
    "version": 3
   },
   "file_extension": ".py",
   "mimetype": "text/x-python",
   "name": "python",
   "nbconvert_exporter": "python",
   "pygments_lexer": "ipython3",
   "version": "3.8.10"
  }
 },
 "nbformat": 4,
 "nbformat_minor": 4
}
