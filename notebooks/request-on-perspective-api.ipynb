{
 "cells": [
  {
   "cell_type": "markdown",
   "metadata": {},
   "source": [
    "### Quick Description\n",
    "\n",
    "This notebook calculates the toxicity score from each sentence in a subtitles' file. Finally, it persists the data in a DataFrame like output."
   ]
  },
  {
   "cell_type": "code",
   "execution_count": 1,
   "metadata": {},
   "outputs": [],
   "source": [
    "%%capture\n",
    "!pip install --upgrade google-api-python-client"
   ]
  },
  {
   "cell_type": "code",
   "execution_count": 2,
   "metadata": {},
   "outputs": [],
   "source": [
    "import yaml\n",
    "import glob\n",
    "import os\n",
    "import pandas as pd\n",
    "import time\n",
    "import re\n",
    "import logging\n",
    "import sys\n",
    "\n",
    "from tqdm import tqdm\n",
    "from googleapiclient import discovery\n",
    "\n",
    "sys.path.append(\"../utils\")\n",
    "from toxicity_api_communication import get_toxicity_score"
   ]
  },
  {
   "cell_type": "code",
   "execution_count": 3,
   "metadata": {},
   "outputs": [
    {
     "name": "stderr",
     "output_type": "stream",
     "text": [
      "/tmp/ipykernel_29770/3592292361.py:1: YAMLLoadWarning: calling yaml.load() without Loader=... is deprecated, as the default Loader is unsafe. Please read https://msg.pyyaml.org/load for full details.\n",
      "  credentials = yaml.load(open(\"../credentials.yaml\"))[\"perspective-api\"]\n"
     ]
    }
   ],
   "source": [
    "credentials = yaml.load(open(\"../credentials.yaml\"))[\"perspective-api\"]"
   ]
  },
  {
   "cell_type": "code",
   "execution_count": 4,
   "metadata": {},
   "outputs": [],
   "source": [
    "def calculate_toxicity_scores(credentials, input_path, output_path):\n",
    "    services = [\n",
    "        discovery.build(\n",
    "            \"commentanalyzer\",\n",
    "            \"v1alpha1\",\n",
    "            developerKey=value,\n",
    "            discoveryServiceUrl=\"https://commentanalyzer.googleapis.com/$discovery/rest?version=v1alpha1\",\n",
    "            static_discovery=False,\n",
    "        ) for _, value in credentials.items()\n",
    "    ]\n",
    "\n",
    "    n_services = len(services)\n",
    "    filenames = [file.split(\"/\")[-1] for file in glob.glob(os.path.join(input_path, \"*\"))]\n",
    "\n",
    "    for filename in tqdm(filenames, total=len(filenames)):\n",
    "        df_sentences = pd.read_csv(os.path.join(input_path, filename))\n",
    "        for i, row in df_sentences.iterrows():\n",
    "            df_sentences.loc[i, \"score\"] = get_toxicity_score(\n",
    "                services[i % n_services],\n",
    "                row.text,\n",
    "                \"SEVERE_TOXICITY\"\n",
    "            )\n",
    "\n",
    "            if (i % n_services) == 0:\n",
    "                time.sleep(1)\n",
    "\n",
    "        df_sentences.to_csv(os.path.join(output_path, filename), index=False)"
   ]
  },
  {
   "cell_type": "code",
   "execution_count": 5,
   "metadata": {},
   "outputs": [
    {
     "name": "stderr",
     "output_type": "stream",
     "text": [
      " 90%|████████████████████████████████████████████████████▉      | 495/552 [8:50:39<1:12:03, 75.85s/it]ERROR:root:The following error occured: \n",
      "({'vary': 'Origin, X-Origin, Referer', 'content-type': 'application/json; charset=UTF-8', 'date': 'Tue, 26 Oct 2021 09:50:08 GMT', 'server': 'ESF', 'cache-control': 'private', 'x-xss-protection': '0', 'x-frame-options': 'SAMEORIGIN', 'x-content-type-options': 'nosniff', 'alt-svc': 'h3=\":443\"; ma=2592000,h3-29=\":443\"; ma=2592000,h3-Q050=\":443\"; ma=2592000,h3-Q046=\":443\"; ma=2592000,h3-Q043=\":443\"; ma=2592000', 'transfer-encoding': 'chunked', 'status': '400', 'content-length': '498', '-content-encoding': 'gzip'}, b'{\\n  \"error\": {\\n    \"code\": 400,\\n    \"message\": \"Attribute SEVERE_TOXICITY does not support request languages: haw\",\\n    \"status\": \"INVALID_ARGUMENT\",\\n    \"details\": [\\n      {\\n        \"@type\": \"type.googleapis.com/google.commentanalyzer.v1alpha1.Error\",\\n        \"errorType\": \"LANGUAGE_NOT_SUPPORTED_BY_ATTRIBUTE\",\\n        \"languageNotSupportedByAttributeError\": {\\n          \"detectedLanguages\": [\\n            \"haw\"\\n          ],\\n          \"attribute\": \"SEVERE_TOXICITY\"\\n        }\\n      }\\n    ]\\n  }\\n}\\n')\n",
      "100%|████████████████████████████████████████████████████████████| 552/552 [10:02:57<00:00, 65.54s/it]\n"
     ]
    }
   ],
   "source": [
    "calculate_toxicity_scores(\n",
    "    credentials,\n",
    "    \"../data/02_segmented/fixed_size_context/without_inputation\",\n",
    "    \"../data/03_scored/without_inputation/severe_toxicity/\"\n",
    ")"
   ]
  }
 ],
 "metadata": {
  "kernelspec": {
   "display_name": "Python 3",
   "language": "python",
   "name": "python3"
  },
  "language_info": {
   "codemirror_mode": {
    "name": "ipython",
    "version": 3
   },
   "file_extension": ".py",
   "mimetype": "text/x-python",
   "name": "python",
   "nbconvert_exporter": "python",
   "pygments_lexer": "ipython3",
   "version": "3.8.10"
  }
 },
 "nbformat": 4,
 "nbformat_minor": 4
}
