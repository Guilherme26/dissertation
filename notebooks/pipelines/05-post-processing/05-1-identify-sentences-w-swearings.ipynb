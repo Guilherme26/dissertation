{
 "cells": [
  {
   "cell_type": "code",
   "execution_count": 1,
   "id": "06f42fe2",
   "metadata": {},
   "outputs": [],
   "source": [
    "import glob\n",
    "import os\n",
    "import pandas as pd\n",
    "import yaml\n",
    "import re"
   ]
  },
  {
   "cell_type": "code",
   "execution_count": 2,
   "id": "9e4ade1e",
   "metadata": {},
   "outputs": [
    {
     "name": "stderr",
     "output_type": "stream",
     "text": [
      "/tmp/ipykernel_211175/4175686493.py:1: YAMLLoadWarning: calling yaml.load() without Loader=... is deprecated, as the default Loader is unsafe. Please read https://msg.pyyaml.org/load for full details.\n",
      "  filepaths = yaml.load(open(\"/home/guilherme/Desktop/dissertation/config/filepaths.yaml\"))\n"
     ]
    }
   ],
   "source": [
    "filepaths = yaml.load(open(\"/home/guilherme/Desktop/dissertation/config/filepaths.yaml\"))"
   ]
  },
  {
   "cell_type": "code",
   "execution_count": 3,
   "id": "bde0557a",
   "metadata": {},
   "outputs": [],
   "source": [
    "dataset = \"twitter\"\n",
    "\n",
    "filenames = [file.split(\"/\")[-1] for file in glob.glob(os.path.join(filepaths[f\"04_{dataset}_scored\"], \"*\"))]"
   ]
  },
  {
   "cell_type": "code",
   "execution_count": 4,
   "id": "a7e57688",
   "metadata": {},
   "outputs": [],
   "source": [
    "df_swearings = pd.read_csv(filepaths[\"00_bad_words_scored\"])\n",
    "swearing_set = set(df_swearings.swearing.values)\n",
    "\n",
    "for filename in filenames:\n",
    "    df = pd.read_csv(os.path.join(filepaths[f\"04_{dataset}_scored\"], filename))\n",
    "    \n",
    "    df[\"text\"] = df.text.str.lower()\n",
    "    \n",
    "    df[\"has_swearing\"] = False\n",
    "    for i, row in df.iterrows():\n",
    "        splitted_text = re.sub(\"[.,;:?!]+\", '', row.text).split()\n",
    "        intersection = swearing_set.intersection(splitted_text)\n",
    "        if len(intersection):\n",
    "            df.loc[i, \"has_swearing\"] = True\n",
    "    \n",
    "    df = df[~df.text.str.contains(\"__fuckin__\")]\n",
    "    df.to_csv(os.path.join(filepaths[f\"04_{dataset}_scored\"], filename), index=False)"
   ]
  },
  {
   "cell_type": "code",
   "execution_count": null,
   "id": "fccd5057",
   "metadata": {},
   "outputs": [],
   "source": []
  }
 ],
 "metadata": {
  "kernelspec": {
   "display_name": "Python 3 (ipykernel)",
   "language": "python",
   "name": "python3"
  },
  "language_info": {
   "codemirror_mode": {
    "name": "ipython",
    "version": 3
   },
   "file_extension": ".py",
   "mimetype": "text/x-python",
   "name": "python",
   "nbconvert_exporter": "python",
   "pygments_lexer": "ipython3",
   "version": "3.8.10"
  }
 },
 "nbformat": 4,
 "nbformat_minor": 5
}
