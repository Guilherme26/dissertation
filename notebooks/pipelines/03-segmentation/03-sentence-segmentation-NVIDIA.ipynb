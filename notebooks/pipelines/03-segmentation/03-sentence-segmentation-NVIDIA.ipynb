{
 "cells": [
  {
   "cell_type": "markdown",
   "id": "00f53b51",
   "metadata": {},
   "source": [
    "## Quick Description\n",
    "\n",
    "This notebook uses [NVIDIA's NeMo](https://docs.nvidia.com/deeplearning/nemo/user-guide/docs/en/main/nlp/punctuation_and_capitalization.html) library to segment YouTube subtitles with a BERT based model"
   ]
  },
  {
   "cell_type": "code",
   "execution_count": null,
   "id": "5d76acf2",
   "metadata": {},
   "outputs": [],
   "source": [
    "import pandas as pd\n",
    "import glob\n",
    "import os\n",
    "import yaml\n",
    "from tqdm import tqdm\n",
    "\n",
    "from nemo.collections.nlp.models import PunctuationCapitalizationModel"
   ]
  },
  {
   "cell_type": "code",
   "execution_count": null,
   "id": "e31ff9a7",
   "metadata": {},
   "outputs": [],
   "source": [
    "dataset = \"coraal\"\n",
    "\n",
    "filepaths = yaml.load(open(\"/home/guilherme/Desktop/dissertation/config/filepaths.yaml\"))"
   ]
  },
  {
   "cell_type": "code",
   "execution_count": null,
   "id": "40bd147a",
   "metadata": {},
   "outputs": [],
   "source": [
    "model = PunctuationCapitalizationModel.from_pretrained(\"punctuation_en_bert\")"
   ]
  },
  {
   "cell_type": "code",
   "execution_count": null,
   "id": "96204153",
   "metadata": {},
   "outputs": [],
   "source": [
    "filenames = [file.split(\"/\")[-1] for file in glob.glob(os.path.join(filepaths[f\"02_{dataset}_preprocessed\"], \"*\"))]\n",
    "\n",
    "for filename in tqdm(filenames, total=len(filenames)):\n",
    "    with open(os.path.join(filepaths[f\"02_{dataset}_preprocessed\"], filename)) as file:\n",
    "        text = file.read()\n",
    "        \n",
    "    text = model.add_punctuation_capitalization([text])[0]\n",
    "    text = text.split('.')\n",
    "    text = [s.strip() for s in text]\n",
    "\n",
    "    df = pd.DataFrame(text, columns=[\"text\"])\n",
    "    # Remove evetual splits on the final period\n",
    "    df = df[df.text != '']\n",
    "    df.to_csv(os.path.join(filepaths[f\"03_{dataset}_segmented\"], filename), index=False)"
   ]
  }
 ],
 "metadata": {
  "kernelspec": {
   "display_name": "Python 3 (ipykernel)",
   "language": "python",
   "name": "python3"
  },
  "language_info": {
   "codemirror_mode": {
    "name": "ipython",
    "version": 3
   },
   "file_extension": ".py",
   "mimetype": "text/x-python",
   "name": "python",
   "nbconvert_exporter": "python",
   "pygments_lexer": "ipython3",
   "version": "3.8.10"
  }
 },
 "nbformat": 4,
 "nbformat_minor": 5
}
