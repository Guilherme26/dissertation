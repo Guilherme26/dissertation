{
 "cells": [
  {
   "cell_type": "code",
   "execution_count": 1,
   "metadata": {},
   "outputs": [],
   "source": [
    "import sys\n",
    "import liwc\n",
    "import glob\n",
    "import os\n",
    "import pandas as pd\n",
    "import yaml\n",
    "\n",
    "from tqdm import tqdm\n",
    "\n",
    "sys.path.append(\"../../../utils\")\n",
    "from absolute_path_builder import AbsolutePathBuilder"
   ]
  },
  {
   "cell_type": "markdown",
   "metadata": {},
   "source": [
    "--- \n",
    "### Adding Race Label to Youtube Data"
   ]
  },
  {
   "cell_type": "code",
   "execution_count": 2,
   "metadata": {},
   "outputs": [],
   "source": [
    "def get_video_id(url):\n",
    "    video_id_and_channel = url.split(\"v=\")[1]\n",
    "    video_id = video_id_and_channel.split(\"&\")[0]\n",
    "    \n",
    "    return video_id"
   ]
  },
  {
   "cell_type": "code",
   "execution_count": 3,
   "metadata": {},
   "outputs": [],
   "source": [
    "df_youtube_desc = pd.read_csv(\n",
    "    AbsolutePathBuilder.get_path(\n",
    "        \"00_youtube_data_description\",\n",
    "        filepaths=\"../../../config/filepaths.yaml\"\n",
    "    )\n",
    ")\n",
    "\n",
    "df_youtube_desc[\"video_id\"] = df_youtube_desc.url.apply(get_video_id)\n",
    "\n",
    "youtube_path = AbsolutePathBuilder.get_path(\n",
    "    f\"05_youtube_features\",\n",
    "    filepaths=\"../../../config/filepaths.yaml\"\n",
    ")"
   ]
  },
  {
   "cell_type": "code",
   "execution_count": 4,
   "metadata": {},
   "outputs": [
    {
     "name": "stderr",
     "output_type": "stream",
     "text": [
      "100%|██████████████████████████████████████████████████████████████| 634/634 [00:03<00:00, 210.49it/s]\n"
     ]
    }
   ],
   "source": [
    "black_producers = df_youtube_desc[df_youtube_desc.group.str.contains(\"Black\")].video_id.values\n",
    "white_producers = df_youtube_desc[df_youtube_desc.group.str.contains(\"White\")].video_id.values\n",
    "\n",
    "filenames = [file.split(\"/\")[-1] for file in glob.glob(os.path.join(youtube_path, \"*\"))]\n",
    "for file in tqdm(filenames):\n",
    "    if file in black_producers:\n",
    "        race = \"Black\"\n",
    "    else:\n",
    "        race = \"White\"\n",
    "    \n",
    "    df = pd.read_csv(os.path.join(youtube_path, file))\n",
    "    df[\"race\"] = race\n",
    "    df.to_csv(os.path.join(youtube_path, file), index=False)"
   ]
  },
  {
   "cell_type": "markdown",
   "metadata": {},
   "source": [
    "---\n",
    "### Adding Race Label to CORAAL Data"
   ]
  },
  {
   "cell_type": "code",
   "execution_count": 5,
   "metadata": {},
   "outputs": [
    {
     "name": "stderr",
     "output_type": "stream",
     "text": [
      "100%|███████████████████████████████████████████████████████████████| 142/142 [00:02<00:00, 68.06it/s]\n"
     ]
    }
   ],
   "source": [
    "coraal_path = AbsolutePathBuilder.get_path(\n",
    "    f\"05_coraal_features\",\n",
    "    filepaths=\"../../../config/filepaths.yaml\"\n",
    ")\n",
    "\n",
    "filenames = [file.split(\"/\")[-1] for file in glob.glob(os.path.join(coraal_path, \"*\"))]\n",
    "for file in tqdm(filenames):\n",
    "    df = pd.read_csv(os.path.join(coraal_path, file))\n",
    "    df[\"race\"] = \"Black\"\n",
    "    df.to_csv(os.path.join(coraal_path, file), index=False)"
   ]
  },
  {
   "cell_type": "markdown",
   "metadata": {},
   "source": [
    "---\n",
    "### Adding Race Label to Buckeye Data"
   ]
  },
  {
   "cell_type": "code",
   "execution_count": 6,
   "metadata": {},
   "outputs": [
    {
     "name": "stderr",
     "output_type": "stream",
     "text": [
      "100%|█████████████████████████████████████████████████████████████████| 39/39 [00:00<00:00, 63.72it/s]\n"
     ]
    }
   ],
   "source": [
    "buckeye_path = AbsolutePathBuilder.get_path(\n",
    "    f\"05_buckeye_features\",\n",
    "    filepaths=\"../../../config/filepaths.yaml\"\n",
    ")\n",
    "\n",
    "filenames = [file.split(\"/\")[-1] for file in glob.glob(os.path.join(buckeye_path, \"*\"))]\n",
    "for file in tqdm(filenames):\n",
    "    df = pd.read_csv(os.path.join(buckeye_path, file))\n",
    "    df[\"race\"] = \"White\"\n",
    "    df.to_csv(os.path.join(buckeye_path, file), index=False)"
   ]
  },
  {
   "cell_type": "markdown",
   "metadata": {},
   "source": [
    "---\n",
    "### Adding Race Label to Twitter Data"
   ]
  },
  {
   "cell_type": "code",
   "execution_count": 7,
   "metadata": {},
   "outputs": [
    {
     "name": "stderr",
     "output_type": "stream",
     "text": [
      "100%|██████████████████████████████████████████████████████████████| 500/500 [00:00<00:00, 689.56it/s]\n"
     ]
    }
   ],
   "source": [
    "twitter_path = AbsolutePathBuilder.get_path(\n",
    "    f\"05_twitter_features\",\n",
    "    filepaths=\"../../../config/filepaths.yaml\"\n",
    ")\n",
    "\n",
    "filenames = [file.split(\"/\")[-1] for file in glob.glob(os.path.join(twitter_path, \"*\"))]\n",
    "for file in tqdm(filenames):\n",
    "    if \"aa\" in file:\n",
    "        race = \"Black\"\n",
    "    else:\n",
    "        race = \"White\"\n",
    "    \n",
    "    df = pd.read_csv(os.path.join(twitter_path, file))\n",
    "    df[\"race\"] = race\n",
    "    df.to_csv(os.path.join(twitter_path, file), index=False)"
   ]
  }
 ],
 "metadata": {
  "interpreter": {
   "hash": "716bd3ad375c41b9a51e5bdb0fea9e61f5f5b3cdf5599be47497d0ef2a02897b"
  },
  "kernelspec": {
   "display_name": "Python 3 (ipykernel)",
   "language": "python",
   "name": "python3"
  },
  "language_info": {
   "codemirror_mode": {
    "name": "ipython",
    "version": 3
   },
   "file_extension": ".py",
   "mimetype": "text/x-python",
   "name": "python",
   "nbconvert_exporter": "python",
   "pygments_lexer": "ipython3",
   "version": "3.8.10"
  }
 },
 "nbformat": 4,
 "nbformat_minor": 2
}
