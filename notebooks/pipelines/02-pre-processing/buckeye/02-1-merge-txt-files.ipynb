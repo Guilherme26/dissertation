{
 "cells": [
  {
   "cell_type": "markdown",
   "id": "d0422b19",
   "metadata": {},
   "source": [
    "## Quick Description\n",
    "\n",
    "This notebook is meant to read the raw files from Buckeye Corpus, and glue every content from a speaker into only one file."
   ]
  },
  {
   "cell_type": "code",
   "execution_count": null,
   "id": "dee4535a",
   "metadata": {},
   "outputs": [],
   "source": [
    "import glob\n",
    "import yaml\n",
    "import os"
   ]
  },
  {
   "cell_type": "code",
   "execution_count": null,
   "id": "1d202124",
   "metadata": {},
   "outputs": [],
   "source": [
    "filepaths = yaml.load(open(\"/home/guilherme/Desktop/dissertation/config/filepaths.yaml\"), Loader=yaml.FullLoader)"
   ]
  },
  {
   "cell_type": "code",
   "execution_count": null,
   "id": "21d414da",
   "metadata": {
    "scrolled": false
   },
   "outputs": [],
   "source": [
    "interviewed_persons = os.listdir(filepaths[\"01_buckeye_raw\"])\n",
    "\n",
    "for person_id in interviewed_persons:\n",
    "    contents = []\n",
    "\n",
    "    path = os.path.join(filepaths[\"01_buckeye_raw\"], person_id, \"*.txt\")\n",
    "    text_files = glob.glob(path)\n",
    "    \n",
    "    for filename in text_files:\n",
    "        with open(filename) as f:\n",
    "            contents.append(f.read())\n",
    "    \n",
    "    contents = ' '.join(contents)\n",
    "\n",
    "    with open(os.path.join(filepaths[\"02_buckeye_preprocessed\"], person_id), 'w') as f:\n",
    "        f.write(contents)"
   ]
  },
  {
   "cell_type": "code",
   "execution_count": null,
   "id": "50d1da22",
   "metadata": {},
   "outputs": [],
   "source": []
  }
 ],
 "metadata": {
  "kernelspec": {
   "display_name": "Python 3 (ipykernel)",
   "language": "python",
   "name": "python3"
  },
  "language_info": {
   "codemirror_mode": {
    "name": "ipython",
    "version": 3
   },
   "file_extension": ".py",
   "mimetype": "text/x-python",
   "name": "python",
   "nbconvert_exporter": "python",
   "pygments_lexer": "ipython3",
   "version": "3.8.10"
  }
 },
 "nbformat": 4,
 "nbformat_minor": 5
}
