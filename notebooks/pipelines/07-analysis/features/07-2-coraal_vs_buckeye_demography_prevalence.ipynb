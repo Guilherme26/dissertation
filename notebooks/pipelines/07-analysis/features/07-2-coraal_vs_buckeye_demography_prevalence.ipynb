{
 "cells": [
  {
   "cell_type": "code",
   "execution_count": 1,
   "id": "0b2ec60a",
   "metadata": {},
   "outputs": [],
   "source": [
    "import sys\n",
    "import liwc\n",
    "import glob\n",
    "import os\n",
    "import pandas as pd\n",
    "import yaml\n",
    "\n",
    "from tqdm import tqdm\n",
    "\n",
    "sys.path.append(\"../../../utils\")\n",
    "from absolute_path_builder import AbsolutePathBuilder"
   ]
  },
  {
   "cell_type": "code",
   "execution_count": 2,
   "id": "b4f5b8fc",
   "metadata": {},
   "outputs": [],
   "source": [
    "pd.set_option('display.max_rows', None)"
   ]
  },
  {
   "cell_type": "code",
   "execution_count": 3,
   "id": "58575427",
   "metadata": {},
   "outputs": [],
   "source": [
    "coraal_path = AbsolutePathBuilder.get_path(\n",
    "    \"05_coraal_features\",\n",
    "    filepaths=\"../../../config/filepaths.yaml\"\n",
    ")\n",
    "\n",
    "buckeye_path = AbsolutePathBuilder.get_path(\n",
    "    \"05_buckeye_features\",\n",
    "    filepaths=\"../../../config/filepaths.yaml\"\n",
    ")"
   ]
  },
  {
   "cell_type": "code",
   "execution_count": 4,
   "id": "468038d3",
   "metadata": {},
   "outputs": [
    {
     "name": "stderr",
     "output_type": "stream",
     "text": [
      "100%|█████████████████████████████████████████████████████████████████████████████████████████████████████████████████████████████████████████████████████████████████████| 142/142 [00:00<00:00, 233.14it/s]\n",
      "100%|███████████████████████████████████████████████████████████████████████████████████████████████████████████████████████████████████████████████████████████████████████| 39/39 [00:00<00:00, 225.94it/s]\n"
     ]
    }
   ],
   "source": [
    "dfs = []\n",
    "\n",
    "filenames = [file.split(\"/\")[-1] for file in glob.glob(os.path.join(coraal_path, \"*\"))]\n",
    "for file in tqdm(filenames):\n",
    "    dfs.append(pd.read_csv(os.path.join(coraal_path, file)))\n",
    "    \n",
    "filenames = [file.split(\"/\")[-1] for file in glob.glob(os.path.join(buckeye_path, \"*\"))]\n",
    "for file in tqdm(filenames):\n",
    "    dfs.append(pd.read_csv(os.path.join(buckeye_path, file)))\n",
    "    \n",
    "df = pd.concat(dfs).reset_index(drop=True)"
   ]
  },
  {
   "cell_type": "code",
   "execution_count": 5,
   "id": "8d1453c1",
   "metadata": {},
   "outputs": [],
   "source": [
    "cols_to_use = [col for col in df.columns if \"LIWC\" in col]\n",
    "\n",
    "df = df[cols_to_use + [\"race\"]]"
   ]
  },
  {
   "cell_type": "code",
   "execution_count": 6,
   "id": "629982cc",
   "metadata": {},
   "outputs": [],
   "source": [
    "df_grouped_by_race = df.groupby(\"race\").mean()"
   ]
  },
  {
   "cell_type": "code",
   "execution_count": 7,
   "id": "846063f6",
   "metadata": {},
   "outputs": [],
   "source": [
    "biggest_mean_group = [df_grouped_by_race[col].nlargest(1) for col in cols_to_use]\n",
    "\n",
    "data = [{\"tool class\": item.name, \"biggest mean demographic group\": item.index[0]} for item in biggest_mean_group]"
   ]
  },
  {
   "cell_type": "code",
   "execution_count": 8,
   "id": "a216d09d",
   "metadata": {},
   "outputs": [],
   "source": [
    "relevant_cols = [\n",
    "    'LIWC_SWEAR', 'LIWC_SEXUAL', 'LIWC_DEATH', 'LIWC_BODY',\n",
    "    'LIWC_ANGER', 'LIWC_NEGEMO', 'AAE_TERMS_COUNT', 'LIWC_SAD',\n",
    "    'LIWC_SEE', 'LIWC_SOCIAL', 'LIWC_POWER', 'LIWC_WORK', 'LIWC_ANX',\n",
    "    'LIWC_FOCUSPAST', 'LIWC_DISCREP', 'LIWC_TENTAT', 'LIWC_CAUSE',\n",
    "    'LIWC_HEALTH', 'LIWC_BIO', 'LIWC_COGPROC', 'LIWC_FOCUSPRESENT'\n",
    "]"
   ]
  },
  {
   "cell_type": "code",
   "execution_count": 9,
   "id": "3af3de0a",
   "metadata": {
    "scrolled": false
   },
   "outputs": [
    {
     "data": {
      "text/html": [
       "<div>\n",
       "<style scoped>\n",
       "    .dataframe tbody tr th:only-of-type {\n",
       "        vertical-align: middle;\n",
       "    }\n",
       "\n",
       "    .dataframe tbody tr th {\n",
       "        vertical-align: top;\n",
       "    }\n",
       "\n",
       "    .dataframe thead th {\n",
       "        text-align: right;\n",
       "    }\n",
       "</style>\n",
       "<table border=\"1\" class=\"dataframe\">\n",
       "  <thead>\n",
       "    <tr style=\"text-align: right;\">\n",
       "      <th></th>\n",
       "      <th>tool class</th>\n",
       "      <th>biggest mean demographic group</th>\n",
       "    </tr>\n",
       "  </thead>\n",
       "  <tbody>\n",
       "    <tr>\n",
       "      <th>0</th>\n",
       "      <td>AAE_TERMS_COUNT</td>\n",
       "      <td>Black</td>\n",
       "    </tr>\n",
       "  </tbody>\n",
       "</table>\n",
       "</div>"
      ],
      "text/plain": [
       "        tool class biggest mean demographic group\n",
       "0  AAE_TERMS_COUNT                          Black"
      ]
     },
     "execution_count": 9,
     "metadata": {},
     "output_type": "execute_result"
    }
   ],
   "source": [
    "df_prevalance = pd.DataFrame(data)\n",
    "df_prevalance[df_prevalance[\"tool class\"].isin(relevant_cols)]"
   ]
  }
 ],
 "metadata": {
  "kernelspec": {
   "display_name": "Python 3 (ipykernel)",
   "language": "python",
   "name": "python3"
  },
  "language_info": {
   "codemirror_mode": {
    "name": "ipython",
    "version": 3
   },
   "file_extension": ".py",
   "mimetype": "text/x-python",
   "name": "python",
   "nbconvert_exporter": "python",
   "pygments_lexer": "ipython3",
   "version": "3.8.10"
  }
 },
 "nbformat": 4,
 "nbformat_minor": 5
}
