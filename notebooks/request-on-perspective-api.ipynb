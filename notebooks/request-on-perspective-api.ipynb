{
 "cells": [
  {
   "cell_type": "code",
   "execution_count": null,
   "metadata": {},
   "outputs": [],
   "source": [
    "!pip install --upgrade google-api-python-client"
   ]
  },
  {
   "cell_type": "code",
   "execution_count": null,
   "metadata": {},
   "outputs": [],
   "source": [
    "# Run with Python2\n",
    "import json, gzip\n",
    "import sys\n",
    "import time\n",
    "import yaml\n",
    "\n",
    "from random import randint\n",
    "# pip install --upgrade google-api-python-client\n",
    "from googleapiclient import discovery"
   ]
  },
  {
   "cell_type": "code",
   "execution_count": null,
   "metadata": {},
   "outputs": [],
   "source": [
    "credentials = yaml.load(open(\"../credentials.yaml\"))[\"perspective-api\"]"
   ]
  },
  {
   "cell_type": "code",
   "execution_count": null,
   "metadata": {},
   "outputs": [],
   "source": [
    "# Generates API client object dynamically based on service name and version. You can request more keys if required in their website\n",
    "# service = discovery.build('commentanalyzer', 'v1alpha1', developerKey=credentials[\"service\"])\n",
    "\n",
    "service2 = discovery.build('commentanalyzer', 'v1alpha1', developerKey=credentials[\"service2\"])\n",
    "\n",
    "description = \"This is an example: I hate n*****.\"\n",
    "# https://www.perspectiveapi.com/#/\n",
    "# Expected toxicity (according to the website): 78,75\n",
    "\n",
    "try:\n",
    "    if sys.getsizeof(description) > 0 and sys.getsizeof(description) < 3000:\n",
    "        analyze_request = {\n",
    "            'comment': { 'text': description },\n",
    "            'requestedAttributes': {'TOXICITY': {}}\n",
    "        }\n",
    "        response = service2.comments().analyze(body=analyze_request).execute()\n",
    "        toxicityScore = response\n",
    "    else:\n",
    "        toxicityScore = None\n",
    "except:\n",
    "    toxicityScore = None\n",
    "\n",
    "print(toxicityScore)"
   ]
  },
  {
   "cell_type": "code",
   "execution_count": null,
   "metadata": {},
   "outputs": [],
   "source": []
  }
 ],
 "metadata": {
  "kernelspec": {
   "display_name": "Python 2",
   "language": "python",
   "name": "python2"
  },
  "language_info": {
   "codemirror_mode": {
    "name": "ipython",
    "version": 3
   },
   "file_extension": ".py",
   "mimetype": "text/x-python",
   "name": "python",
   "nbconvert_exporter": "python",
   "pygments_lexer": "ipython3",
   "version": "3.7.6"
  }
 },
 "nbformat": 4,
 "nbformat_minor": 4
}
