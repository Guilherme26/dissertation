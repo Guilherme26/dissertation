{
 "cells": [
  {
   "cell_type": "code",
   "execution_count": 1,
   "id": "72529228",
   "metadata": {},
   "outputs": [],
   "source": [
    "import pandas as pd\n",
    "import sys\n",
    "import yaml \n",
    "import glob \n",
    "import os\n",
    "\n",
    "from tqdm import tqdm\n",
    "\n",
    "sys.path.append(\"../../../utils\")\n",
    "from absolute_path_builder import AbsolutePathBuilder"
   ]
  },
  {
   "cell_type": "code",
   "execution_count": 2,
   "id": "b354ab0d",
   "metadata": {},
   "outputs": [],
   "source": [
    "aae_terms_path = AbsolutePathBuilder.get_path(\n",
    "    \"00_aae_terms\",\n",
    "    filepaths=\"../../../config/filepaths.yaml\"\n",
    ")\n",
    "\n",
    "terms = yaml.safe_load(open(aae_terms_path))[\"terms\"]"
   ]
  },
  {
   "cell_type": "code",
   "execution_count": 3,
   "id": "fa68798d",
   "metadata": {},
   "outputs": [],
   "source": [
    "DATASET = \"buckeye\"\n",
    "\n",
    "data_path = AbsolutePathBuilder.get_path(\n",
    "    f\"05_{DATASET}_features\",\n",
    "    filepaths=\"../../../config/filepaths.yaml\"\n",
    ")"
   ]
  },
  {
   "cell_type": "markdown",
   "id": "176cdb39",
   "metadata": {},
   "source": [
    "### Load data into a single dataframe"
   ]
  },
  {
   "cell_type": "code",
   "execution_count": 4,
   "id": "619b659a",
   "metadata": {},
   "outputs": [
    {
     "name": "stderr",
     "output_type": "stream",
     "text": [
      "100%|████████████████████████████████████████████████████████████████| 39/39 [00:00<00:00, 141.31it/s]\n"
     ]
    }
   ],
   "source": [
    "dfs = []\n",
    "\n",
    "filenames = [file.split(\"/\")[-1] for file in glob.glob(os.path.join(data_path, \"*\"))]\n",
    "for i, file in enumerate(tqdm(filenames)):\n",
    "    df = pd.read_csv(os.path.join(data_path, file))\n",
    "    # Unique index to group information of a single file\n",
    "    df[\"FILE_ID\"] = i\n",
    "\n",
    "    dfs.append(df)"
   ]
  },
  {
   "cell_type": "code",
   "execution_count": 5,
   "id": "cf41d11e",
   "metadata": {},
   "outputs": [],
   "source": [
    "df = pd.concat(dfs)"
   ]
  },
  {
   "cell_type": "markdown",
   "id": "8d9f8153",
   "metadata": {},
   "source": [
    "### Calculate the number of AAE terms and files in each race"
   ]
  },
  {
   "cell_type": "code",
   "execution_count": 6,
   "id": "fd2e6694",
   "metadata": {},
   "outputs": [],
   "source": [
    "df[\"n_words\"] = df.text.apply(lambda s: len(s.split()))"
   ]
  },
  {
   "cell_type": "code",
   "execution_count": 7,
   "id": "d9674d8d",
   "metadata": {},
   "outputs": [],
   "source": [
    "df_grouped = (\n",
    "    df.groupby(\"race\")\n",
    "    .agg(\n",
    "        n_sentences=(\"text\", \"count\"),\n",
    "        n_words=(\"n_words\", \"sum\"),\n",
    "        n_aae_terms=(\"AAE_TERMS_COUNT\", \"sum\"),\n",
    "        n_files=(\"FILE_ID\", \"nunique\")\n",
    "    )\n",
    ")\n",
    "\n",
    "df_grouped[\"avg_terms_per_file\"] = df_grouped.n_aae_terms / df_grouped.n_files\n",
    "df_grouped[\"avg_terms_per_sentence\"] = df_grouped.n_aae_terms / df_grouped.n_sentences"
   ]
  },
  {
   "cell_type": "code",
   "execution_count": 8,
   "id": "867f3650",
   "metadata": {},
   "outputs": [
    {
     "data": {
      "text/html": [
       "<div>\n",
       "<style scoped>\n",
       "    .dataframe tbody tr th:only-of-type {\n",
       "        vertical-align: middle;\n",
       "    }\n",
       "\n",
       "    .dataframe tbody tr th {\n",
       "        vertical-align: top;\n",
       "    }\n",
       "\n",
       "    .dataframe thead th {\n",
       "        text-align: right;\n",
       "    }\n",
       "</style>\n",
       "<table border=\"1\" class=\"dataframe\">\n",
       "  <thead>\n",
       "    <tr style=\"text-align: right;\">\n",
       "      <th></th>\n",
       "      <th>n_sentences</th>\n",
       "      <th>n_words</th>\n",
       "      <th>n_aae_terms</th>\n",
       "      <th>n_files</th>\n",
       "      <th>avg_terms_per_file</th>\n",
       "      <th>avg_terms_per_sentence</th>\n",
       "    </tr>\n",
       "    <tr>\n",
       "      <th>race</th>\n",
       "      <th></th>\n",
       "      <th></th>\n",
       "      <th></th>\n",
       "      <th></th>\n",
       "      <th></th>\n",
       "      <th></th>\n",
       "    </tr>\n",
       "  </thead>\n",
       "  <tbody>\n",
       "    <tr>\n",
       "      <th>White</th>\n",
       "      <td>19304</td>\n",
       "      <td>275830</td>\n",
       "      <td>18712</td>\n",
       "      <td>39</td>\n",
       "      <td>479.794872</td>\n",
       "      <td>0.969333</td>\n",
       "    </tr>\n",
       "  </tbody>\n",
       "</table>\n",
       "</div>"
      ],
      "text/plain": [
       "       n_sentences  n_words  n_aae_terms  n_files  avg_terms_per_file  \\\n",
       "race                                                                    \n",
       "White        19304   275830        18712       39          479.794872   \n",
       "\n",
       "       avg_terms_per_sentence  \n",
       "race                           \n",
       "White                0.969333  "
      ]
     },
     "execution_count": 8,
     "metadata": {},
     "output_type": "execute_result"
    }
   ],
   "source": [
    "df_grouped"
   ]
  },
  {
   "cell_type": "markdown",
   "id": "392cc893",
   "metadata": {},
   "source": [
    "### Calculate the number of AAE terms in each file"
   ]
  },
  {
   "cell_type": "code",
   "execution_count": 9,
   "id": "5f8f6238",
   "metadata": {},
   "outputs": [],
   "source": [
    "df_grouped = (\n",
    "    df.groupby(\"FILE_ID\")\n",
    "    .agg(\n",
    "        n_aae_terms=(\"AAE_TERMS_COUNT\", \"sum\"),\n",
    "        race=(\"race\", \"first\")\n",
    "    )\n",
    ")"
   ]
  },
  {
   "cell_type": "code",
   "execution_count": 10,
   "id": "9d28739b",
   "metadata": {},
   "outputs": [
    {
     "name": "stderr",
     "output_type": "stream",
     "text": [
      "/home/guilherme/.local/lib/python3.8/site-packages/seaborn/distributions.py:2619: FutureWarning: `distplot` is a deprecated function and will be removed in a future version. Please adapt your code to use either `displot` (a figure-level function with similar flexibility) or `histplot` (an axes-level function for histograms).\n",
      "  warnings.warn(msg, FutureWarning)\n",
      "/home/guilherme/.local/lib/python3.8/site-packages/seaborn/distributions.py:2657: RuntimeWarning: Mean of empty slice.\n",
      "  line, = ax.plot(a.mean(), 0)\n",
      "/home/guilherme/.local/lib/python3.8/site-packages/numpy/core/_methods.py:189: RuntimeWarning: invalid value encountered in double_scalars\n",
      "  ret = ret.dtype.type(ret / rcount)\n",
      "/home/guilherme/.local/lib/python3.8/site-packages/numpy/lib/histograms.py:906: RuntimeWarning: invalid value encountered in true_divide\n",
      "  return n/db/n.sum(), bin_edges\n",
      "/home/guilherme/.local/lib/python3.8/site-packages/seaborn/distributions.py:2619: FutureWarning: `distplot` is a deprecated function and will be removed in a future version. Please adapt your code to use either `displot` (a figure-level function with similar flexibility) or `histplot` (an axes-level function for histograms).\n",
      "  warnings.warn(msg, FutureWarning)\n"
     ]
    },
    {
     "data": {
      "image/png": "[encoded data removed]",
      "text/plain": [
       "<Figure size 864x504 with 1 Axes>"
      ]
     },
     "metadata": {
      "needs_background": "light"
     },
     "output_type": "display_data"
    }
   ],
   "source": [
    "import seaborn as sns\n",
    "import matplotlib.pyplot as plt\n",
    "\n",
    "plt.subplots(figsize=(12,7))\n",
    "\n",
    "sns.distplot(df_grouped.loc[df_grouped.race == \"Black\", \"n_aae_terms\"], label=\"Black\")\n",
    "sns.distplot(df_grouped.loc[df_grouped.race == \"White\", \"n_aae_terms\"], label=\"White\")\n",
    "\n",
    "plt.legend()\n",
    "plt.title(\"Distribution of Term Usage\")\n",
    "plt.show()"
   ]
  },
  {
   "cell_type": "code",
   "execution_count": null,
   "id": "58e1ca65",
   "metadata": {},
   "outputs": [],
   "source": []
  }
 ],
 "metadata": {
  "kernelspec": {
   "display_name": "Python 3 (ipykernel)",
   "language": "python",
   "name": "python3"
  },
  "language_info": {
   "codemirror_mode": {
    "name": "ipython",
    "version": 3
   },
   "file_extension": ".py",
   "mimetype": "text/x-python",
   "name": "python",
   "nbconvert_exporter": "python",
   "pygments_lexer": "ipython3",
   "version": "3.8.10"
  }
 },
 "nbformat": 4,
 "nbformat_minor": 5
}
