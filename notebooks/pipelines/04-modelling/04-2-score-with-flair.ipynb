{
 "cells": [
  {
   "cell_type": "markdown",
   "metadata": {},
   "source": [
    "### Quick Description\n",
    "\n",
    "This notebook calculates the toxicity score from each sentence in a subtitles' file. Finally, it persists the data in a DataFrame like output."
   ]
  },
  {
   "cell_type": "code",
   "execution_count": 1,
   "metadata": {},
   "outputs": [
    {
     "name": "stderr",
     "output_type": "stream",
     "text": [
      "2023-05-29 10:44:47.958911: I tensorflow/core/util/util.cc:169] oneDNN custom operations are on. You may see slightly different numerical results due to floating-point round-off errors from different computation orders. To turn them off, set the environment variable `TF_ENABLE_ONEDNN_OPTS=0`.\n",
      "2023-05-29 10:44:48.008046: W tensorflow/stream_executor/platform/default/dso_loader.cc:64] Could not load dynamic library 'libcudart.so.11.0'; dlerror: libcudart.so.11.0: cannot open shared object file: No such file or directory\n",
      "2023-05-29 10:44:48.008059: I tensorflow/stream_executor/cuda/cudart_stub.cc:29] Ignore above cudart dlerror if you do not have a GPU set up on your machine.\n"
     ]
    }
   ],
   "source": [
    "import yaml\n",
    "import glob\n",
    "import os\n",
    "import pandas as pd\n",
    "import sys\n",
    "\n",
    "from tqdm import tqdm\n",
    "from flair.models import TextClassifier\n",
    "from flair.data import Sentence\n",
    "\n",
    "sys.path.append(\"../../../utils\")\n",
    "from absolute_path_builder import AbsolutePathBuilder"
   ]
  },
  {
   "cell_type": "code",
   "execution_count": 2,
   "metadata": {},
   "outputs": [],
   "source": [
    "dataset = \"buckeye\"\n",
    "\n",
    "input_path = AbsolutePathBuilder.get_path(\n",
    "    f\"04_{dataset}_scored\",\n",
    "    filepaths=\"../../../config/filepaths.yaml\"\n",
    ")"
   ]
  },
  {
   "cell_type": "code",
   "execution_count": 3,
   "metadata": {},
   "outputs": [],
   "source": [
    "def calculate_toxicity_scores(save_dir):\n",
    "    classifier = TextClassifier.load('en-sentiment')\n",
    "    filenames = [file.split(\"/\")[-1] for file in glob.glob(os.path.join(save_dir, \"*\"))]\n",
    "\n",
    "    for filename in tqdm(filenames, total=len(filenames)):\n",
    "        df_sentences = pd.read_csv(os.path.join(save_dir, filename))\n",
    "        for i, row in df_sentences.iterrows():\n",
    "            sentence = Sentence(row.text)\n",
    "            classifier.predict(sentence)\n",
    "\n",
    "            df_sentences.loc[i, \"flair_score\"] = (\n",
    "                -sentence.labels[0]._score\n",
    "                if sentence.labels[0]._value == \"NEGATIVE\"\n",
    "                else sentence.labels[0]._score\n",
    "            )\n",
    "\n",
    "        df_sentences.to_csv(os.path.join(save_dir, filename), index=False)"
   ]
  },
  {
   "cell_type": "code",
   "execution_count": 4,
   "metadata": {},
   "outputs": [
    {
     "name": "stdout",
     "output_type": "stream",
     "text": [
      "2022-10-14 07:01:34,367 loading file /home/guilherme/.flair/models/sentiment-en-mix-distillbert_4.pt\n"
     ]
    },
    {
     "name": "stderr",
     "output_type": "stream",
     "text": [
      "100%|█████████████████████████████████████████████████████████████████| 39/39 [05:28<00:00,  8.41s/it]\n"
     ]
    }
   ],
   "source": [
    "calculate_toxicity_scores(input_path)"
   ]
  },
  {
   "cell_type": "code",
   "execution_count": null,
   "metadata": {},
   "outputs": [],
   "source": []
  },
  {
   "cell_type": "code",
   "execution_count": null,
   "metadata": {},
   "outputs": [],
   "source": []
  },
  {
   "cell_type": "code",
   "execution_count": 3,
   "metadata": {},
   "outputs": [
    {
     "name": "stdout",
     "output_type": "stream",
     "text": [
      "2023-05-29 10:46:03,893 loading file /home/guilherme/.flair/models/sentiment-en-mix-distillbert_4.pt\n"
     ]
    }
   ],
   "source": [
    "classifier = TextClassifier.load('en-sentiment')\n",
    "\n",
    "sentences = [\n",
    "    \"all my n*ggas on the porch and neva ina house\",\n",
    "    \"all my friends on the porch and never in the house\",\n",
    "    \"you're black\",\n",
    "    \"you're white\",\n",
    "    \"cant fuhgit you\",\n",
    "    \"I can't forget you\"\n",
    "]\n",
    "\n",
    "scored = {}\n",
    "for s in sentences:\n",
    "    sentence = Sentence(s)\n",
    "    classifier.predict(sentence)\n",
    "    \n",
    "    scored[s] = (\n",
    "        -sentence.labels[0]._score\n",
    "        if sentence.labels[0]._value == \"NEGATIVE\"\n",
    "        else sentence.labels[0]._score\n",
    "    )"
   ]
  },
  {
   "cell_type": "code",
   "execution_count": 4,
   "metadata": {},
   "outputs": [
    {
     "data": {
      "text/plain": [
       "{'all my n*ggas on the porch and neva ina house': -0.7296380400657654,\n",
       " 'all my friends on the porch and never in the house': 0.9830883145332336,\n",
       " \"you're black\": 0.9994387030601501,\n",
       " \"you're white\": 0.9992408752441406,\n",
       " 'cant fuhgit you': 0.9111694693565369,\n",
       " \"I can't forget you\": 0.995732843875885}"
      ]
     },
     "execution_count": 4,
     "metadata": {},
     "output_type": "execute_result"
    }
   ],
   "source": [
    "scored"
   ]
  }
 ],
 "metadata": {
  "kernelspec": {
   "display_name": "Python 3 (ipykernel)",
   "language": "python",
   "name": "python3"
  },
  "language_info": {
   "codemirror_mode": {
    "name": "ipython",
    "version": 3
   },
   "file_extension": ".py",
   "mimetype": "text/x-python",
   "name": "python",
   "nbconvert_exporter": "python",
   "pygments_lexer": "ipython3",
   "version": "3.8.10"
  }
 },
 "nbformat": 4,
 "nbformat_minor": 4
}
