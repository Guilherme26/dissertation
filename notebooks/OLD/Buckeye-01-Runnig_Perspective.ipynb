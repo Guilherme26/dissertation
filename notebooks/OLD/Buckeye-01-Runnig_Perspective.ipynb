{
 "cells": [
  {
   "cell_type": "code",
   "execution_count": 1,
   "id": "14b5ce4d-eb2f-472f-8006-7889e2d028fc",
   "metadata": {},
   "outputs": [],
   "source": [
    "import pandas as pd\n",
    "import glob\n",
    "import os\n",
    "import matplotlib.pyplot as plt\n",
    "import numpy as np\n",
    "import seaborn as sns\n",
    "\n",
    "from scipy.stats import ks_2samp\n",
    "from mpl_toolkits.axes_grid1.inset_locator import zoomed_inset_axes\n",
    "from statsmodels.distributions.empirical_distribution import ECDF"
   ]
  },
  {
   "cell_type": "markdown",
   "id": "ca88b781-75e7-4f72-9393-b4163a745c4f",
   "metadata": {
    "tags": []
   },
   "source": [
    "# Manual \n",
    "We recorded 40 people, each being interviewed for about one hour. The group of speakers is stratified on age and gender - 20 old, 20 young, 20 male, 20 female. They were all Caucasian, long-time local residents of Columbus, Ohio. The style of speech is unmonitored casual speech. The speakers responded to a newspaper advertisement seeking people to participate in a focus group on current local issues. Only after the recordings were made were they told the true purpose of the recordings. The acoustic signal is clear of noise, digitally recorded in a quiet room with a close-talking head-mounted microphone. The words spoken by these people are entered in word label files (as used by XWaves or WaveSurfer) and have time stamps that indicate the exact acoustic chunk that corresponds to each word.\n",
    "\n",
    "Manual: https://buckeyecorpus.osu.edu/BuckeyeCorpusmanual.pdf"
   ]
  },
  {
   "cell_type": "code",
   "execution_count": 2,
   "id": "3b76ec52-0509-4155-9280-86a62c9e8d4d",
   "metadata": {},
   "outputs": [
    {
     "data": {
      "text/html": [
       "<div>\n",
       "<style scoped>\n",
       "    .dataframe tbody tr th:only-of-type {\n",
       "        vertical-align: middle;\n",
       "    }\n",
       "\n",
       "    .dataframe tbody tr th {\n",
       "        vertical-align: top;\n",
       "    }\n",
       "\n",
       "    .dataframe thead th {\n",
       "        text-align: right;\n",
       "    }\n",
       "</style>\n",
       "<table border=\"1\" class=\"dataframe\">\n",
       "  <thead>\n",
       "    <tr style=\"text-align: right;\">\n",
       "      <th></th>\n",
       "      <th>original</th>\n",
       "      <th>part</th>\n",
       "      <th>interviewed</th>\n",
       "      <th>sentence</th>\n",
       "    </tr>\n",
       "  </thead>\n",
       "  <tbody>\n",
       "    <tr>\n",
       "      <th>0</th>\n",
       "      <td>&lt;SIL&gt; aren't really saying much new where if t...</td>\n",
       "      <td>s3403b</td>\n",
       "      <td>s34</td>\n",
       "      <td>aren't really saying much new where if they ha...</td>\n",
       "    </tr>\n",
       "    <tr>\n",
       "      <th>1</th>\n",
       "      <td>well that's it's competition to be earliest an...</td>\n",
       "      <td>s3403b</td>\n",
       "      <td>s34</td>\n",
       "      <td>well that's it's competition to be earliest an...</td>\n",
       "    </tr>\n",
       "    <tr>\n",
       "      <th>2</th>\n",
       "      <td>&lt;VOCNOISE&gt; that's &lt;VOCNOISE&gt; probably what i'l...</td>\n",
       "      <td>s3403b</td>\n",
       "      <td>s34</td>\n",
       "      <td>that's probably what i'll do ignore it till un...</td>\n",
       "    </tr>\n",
       "    <tr>\n",
       "      <th>3</th>\n",
       "      <td>&lt;VOCNOISE&gt; &lt;SIL&gt; yeah &lt;SIL&gt; &lt;VOCNOISE&gt; wait ri...</td>\n",
       "      <td>s3403b</td>\n",
       "      <td>s34</td>\n",
       "      <td>yeah wait right the amount of money that is sp...</td>\n",
       "    </tr>\n",
       "    <tr>\n",
       "      <th>4</th>\n",
       "      <td>my background &lt;IVER&gt;</td>\n",
       "      <td>s3403b</td>\n",
       "      <td>s34</td>\n",
       "      <td>my background</td>\n",
       "    </tr>\n",
       "  </tbody>\n",
       "</table>\n",
       "</div>"
      ],
      "text/plain": [
       "                                            original    part interviewed  \\\n",
       "0  <SIL> aren't really saying much new where if t...  s3403b         s34   \n",
       "1  well that's it's competition to be earliest an...  s3403b         s34   \n",
       "2  <VOCNOISE> that's <VOCNOISE> probably what i'l...  s3403b         s34   \n",
       "3  <VOCNOISE> <SIL> yeah <SIL> <VOCNOISE> wait ri...  s3403b         s34   \n",
       "4                               my background <IVER>  s3403b         s34   \n",
       "\n",
       "                                            sentence  \n",
       "0  aren't really saying much new where if they ha...  \n",
       "1  well that's it's competition to be earliest an...  \n",
       "2  that's probably what i'll do ignore it till un...  \n",
       "3  yeah wait right the amount of money that is sp...  \n",
       "4                                      my background  "
      ]
     },
     "execution_count": 2,
     "metadata": {},
     "output_type": "execute_result"
    }
   ],
   "source": [
    "corpus = pd.read_csv('../Buckeye/sentences.csv')\n",
    "corpus.head()"
   ]
  },
  {
   "cell_type": "markdown",
   "id": "437ece25-9e2c-42b1-a40b-741898066620",
   "metadata": {},
   "source": [
    "### Saving samples"
   ]
  },
  {
   "cell_type": "code",
   "execution_count": 3,
   "id": "bc31183c-f18f-4724-801d-ff69735b4c72",
   "metadata": {},
   "outputs": [],
   "source": [
    "for item in corpus.itertuples():\n",
    "    with open('data/coraal/Buckeye/00_sentences/'+str(item.Index), 'w') as f:\n",
    "        f.write(item.sentence)\n",
    "        f.close()"
   ]
  },
  {
   "cell_type": "markdown",
   "id": "63802e0d-0ac4-4e1f-9125-31215c82500b",
   "metadata": {},
   "source": [
    "## Running Perspective"
   ]
  },
  {
   "cell_type": "code",
   "execution_count": 4,
   "id": "31d21097-cfcf-4ae2-abbb-1f2ddc6c02de",
   "metadata": {},
   "outputs": [],
   "source": [
    "%%capture\n",
    "!pip install --upgrade google-api-python-client"
   ]
  },
  {
   "cell_type": "code",
   "execution_count": 5,
   "id": "0820489b-f550-4c23-8d0d-08428c61449e",
   "metadata": {},
   "outputs": [],
   "source": [
    "import yaml\n",
    "import glob\n",
    "import os\n",
    "import pandas as pd\n",
    "import time\n",
    "import re\n",
    "import logging\n",
    "import sys\n",
    "\n",
    "import warnings\n",
    "warnings.simplefilter(action='ignore', category=FutureWarning)\n",
    "\n",
    "from tqdm import tqdm\n",
    "from googleapiclient import discovery\n",
    "\n",
    "sys.path.append(\"utils\")\n",
    "from toxicity_api_communication import get_toxicity_score"
   ]
  },
  {
   "cell_type": "code",
   "execution_count": 6,
   "id": "b1b59b71-6a98-4d60-a20c-0e676493649a",
   "metadata": {},
   "outputs": [],
   "source": [
    "credentials = yaml.load(open(\"config/credentials.yaml\"),Loader=yaml.FullLoader)[\"perspective-api\"]"
   ]
  },
  {
   "cell_type": "code",
   "execution_count": 7,
   "id": "6a0334d1-2740-4b30-b199-93822c6f6e56",
   "metadata": {},
   "outputs": [],
   "source": [
    "def calculate_toxicity_scores(credentials, input_path, output_path):\n",
    "    services = [\n",
    "        discovery.build(\n",
    "            \"commentanalyzer\",\n",
    "            \"v1alpha1\",\n",
    "            developerKey=value,\n",
    "            discoveryServiceUrl=\"https://commentanalyzer.googleapis.com/$discovery/rest?version=v1alpha1\",\n",
    "            static_discovery=False,\n",
    "        ) for _, value in credentials.items()\n",
    "    ]\n",
    "\n",
    "    n_services = len(services)\n",
    "    filenames = [file.split(\"/\")[-1] for file in glob.glob(os.path.join(input_path, \"*\"))]\n",
    "    \n",
    "    \n",
    "    for filename in tqdm(filenames, total=len(filenames)):\n",
    "        \n",
    "        sentence = open(os.path.join(input_path, filename)).read()\n",
    "        df_sentences = pd.DataFrame().append({'text':sentence},ignore_index=True)\n",
    "        \n",
    "        try:\n",
    "            for i, row in df_sentences.iterrows():\n",
    "                df_sentences.loc[i, \"score\"] = get_toxicity_score(\n",
    "                    services[i % n_services],\n",
    "                    row.text,\n",
    "                    \"TOXICITY\"\n",
    "                )\n",
    "\n",
    "                if (i % n_services) == 0:\n",
    "                    time.sleep(.3)\n",
    "        except Exception as e:\n",
    "            # print(e)\n",
    "            print(filename)\n",
    "\n",
    "        df_sentences.to_csv(os.path.join(output_path, filename), index=False)"
   ]
  },
  {
   "cell_type": "markdown",
   "id": "8e6338fa-572a-4e89-a23e-9eccae3ca905",
   "metadata": {},
   "source": [
    "## Running Perspective"
   ]
  },
  {
   "cell_type": "code",
   "execution_count": null,
   "id": "41402778-7193-40d0-9064-a66e59d0916c",
   "metadata": {},
   "outputs": [
    {
     "name": "stderr",
     "output_type": "stream",
     "text": [
      "  0%|                                           | 43/21047 [00:53<7:45:41,  1.33s/it]ERROR:root:The following error occured: \n",
      "({'vary': 'Origin, X-Origin, Referer', 'content-type': 'application/json; charset=UTF-8', 'date': 'Fri, 27 May 2022 16:24:18 GMT', 'server': 'ESF', 'cache-control': 'private', 'x-xss-protection': '0', 'x-frame-options': 'SAMEORIGIN', 'x-content-type-options': 'nosniff', 'alt-svc': 'h3=\":443\"; ma=2592000,h3-29=\":443\"; ma=2592000,h3-Q050=\":443\"; ma=2592000,h3-Q046=\":443\"; ma=2592000,h3-Q043=\":443\"; ma=2592000,quic=\":443\"; ma=2592000; v=\"46,43\"', 'transfer-encoding': 'chunked', 'status': '400', 'content-length': '484', '-content-encoding': 'gzip'}, b'{\\n  \"error\": {\\n    \"code\": 400,\\n    \"message\": \"Attribute TOXICITY does not support request languages: und\",\\n    \"status\": \"INVALID_ARGUMENT\",\\n    \"details\": [\\n      {\\n        \"@type\": \"type.googleapis.com/google.commentanalyzer.v1alpha1.Error\",\\n        \"errorType\": \"LANGUAGE_NOT_SUPPORTED_BY_ATTRIBUTE\",\\n        \"languageNotSupportedByAttributeError\": {\\n          \"detectedLanguages\": [\\n            \"und\"\\n          ],\\n          \"attribute\": \"TOXICITY\"\\n        }\\n      }\\n    ]\\n  }\\n}\\n')\n",
      "  1%|▎                                         | 153/21047 [02:59<7:52:10,  1.36s/it]ERROR:root:The following error occured: \n",
      "({'vary': 'Origin, X-Origin, Referer', 'content-type': 'application/json; charset=UTF-8', 'date': 'Fri, 27 May 2022 16:26:23 GMT', 'server': 'ESF', 'cache-control': 'private', 'x-xss-protection': '0', 'x-frame-options': 'SAMEORIGIN', 'x-content-type-options': 'nosniff', 'alt-svc': 'h3=\":443\"; ma=2592000,h3-29=\":443\"; ma=2592000,h3-Q050=\":443\"; ma=2592000,h3-Q046=\":443\"; ma=2592000,h3-Q043=\":443\"; ma=2592000,quic=\":443\"; ma=2592000; v=\"46,43\"', 'transfer-encoding': 'chunked', 'status': '400', 'content-length': '482', '-content-encoding': 'gzip'}, b'{\\n  \"error\": {\\n    \"code\": 400,\\n    \"message\": \"Attribute TOXICITY does not support request languages: so\",\\n    \"status\": \"INVALID_ARGUMENT\",\\n    \"details\": [\\n      {\\n        \"@type\": \"type.googleapis.com/google.commentanalyzer.v1alpha1.Error\",\\n        \"errorType\": \"LANGUAGE_NOT_SUPPORTED_BY_ATTRIBUTE\",\\n        \"languageNotSupportedByAttributeError\": {\\n          \"detectedLanguages\": [\\n            \"so\"\\n          ],\\n          \"attribute\": \"TOXICITY\"\\n        }\\n      }\\n    ]\\n  }\\n}\\n')\n",
      "  1%|▎                                         | 182/21047 [03:25<4:59:56,  1.16it/s]ERROR:root:The following error occured: \n",
      "({'vary': 'Origin, X-Origin, Referer', 'content-type': 'application/json; charset=UTF-8', 'date': 'Fri, 27 May 2022 16:26:49 GMT', 'server': 'ESF', 'cache-control': 'private', 'x-xss-protection': '0', 'x-frame-options': 'SAMEORIGIN', 'x-content-type-options': 'nosniff', 'alt-svc': 'h3=\":443\"; ma=2592000,h3-29=\":443\"; ma=2592000,h3-Q050=\":443\"; ma=2592000,h3-Q046=\":443\"; ma=2592000,h3-Q043=\":443\"; ma=2592000,quic=\":443\"; ma=2592000; v=\"46,43\"', 'transfer-encoding': 'chunked', 'status': '400', 'content-length': '484', '-content-encoding': 'gzip'}, b'{\\n  \"error\": {\\n    \"code\": 400,\\n    \"message\": \"Attribute TOXICITY does not support request languages: und\",\\n    \"status\": \"INVALID_ARGUMENT\",\\n    \"details\": [\\n      {\\n        \"@type\": \"type.googleapis.com/google.commentanalyzer.v1alpha1.Error\",\\n        \"errorType\": \"LANGUAGE_NOT_SUPPORTED_BY_ATTRIBUTE\",\\n        \"languageNotSupportedByAttributeError\": {\\n          \"detectedLanguages\": [\\n            \"und\"\\n          ],\\n          \"attribute\": \"TOXICITY\"\\n        }\\n      }\\n    ]\\n  }\\n}\\n')\n",
      "  3%|█▍                                        | 726/21047 [11:49<5:18:50,  1.06it/s]ERROR:root:The following error occured: \n",
      "({'vary': 'Origin, X-Origin, Referer', 'content-type': 'application/json; charset=UTF-8', 'date': 'Fri, 27 May 2022 16:35:13 GMT', 'server': 'ESF', 'cache-control': 'private', 'x-xss-protection': '0', 'x-frame-options': 'SAMEORIGIN', 'x-content-type-options': 'nosniff', 'alt-svc': 'h3=\":443\"; ma=2592000,h3-29=\":443\"; ma=2592000,h3-Q050=\":443\"; ma=2592000,h3-Q046=\":443\"; ma=2592000,h3-Q043=\":443\"; ma=2592000,quic=\":443\"; ma=2592000; v=\"46,43\"', 'transfer-encoding': 'chunked', 'status': '400', 'content-length': '482', '-content-encoding': 'gzip'}, b'{\\n  \"error\": {\\n    \"code\": 400,\\n    \"message\": \"Attribute TOXICITY does not support request languages: la\",\\n    \"status\": \"INVALID_ARGUMENT\",\\n    \"details\": [\\n      {\\n        \"@type\": \"type.googleapis.com/google.commentanalyzer.v1alpha1.Error\",\\n        \"errorType\": \"LANGUAGE_NOT_SUPPORTED_BY_ATTRIBUTE\",\\n        \"languageNotSupportedByAttributeError\": {\\n          \"detectedLanguages\": [\\n            \"la\"\\n          ],\\n          \"attribute\": \"TOXICITY\"\\n        }\\n      }\\n    ]\\n  }\\n}\\n')\n",
      "  6%|██▍                                      | 1273/21047 [19:38<5:01:51,  1.09it/s]ERROR:root:The following error occured: \n",
      "({'vary': 'Origin, X-Origin, Referer', 'content-type': 'application/json; charset=UTF-8', 'date': 'Fri, 27 May 2022 16:43:02 GMT', 'server': 'ESF', 'cache-control': 'private', 'x-xss-protection': '0', 'x-frame-options': 'SAMEORIGIN', 'x-content-type-options': 'nosniff', 'alt-svc': 'h3=\":443\"; ma=2592000,h3-29=\":443\"; ma=2592000,h3-Q050=\":443\"; ma=2592000,h3-Q046=\":443\"; ma=2592000,h3-Q043=\":443\"; ma=2592000,quic=\":443\"; ma=2592000; v=\"46,43\"', 'transfer-encoding': 'chunked', 'status': '400', 'content-length': '482', '-content-encoding': 'gzip'}, b'{\\n  \"error\": {\\n    \"code\": 400,\\n    \"message\": \"Attribute TOXICITY does not support request languages: af\",\\n    \"status\": \"INVALID_ARGUMENT\",\\n    \"details\": [\\n      {\\n        \"@type\": \"type.googleapis.com/google.commentanalyzer.v1alpha1.Error\",\\n        \"errorType\": \"LANGUAGE_NOT_SUPPORTED_BY_ATTRIBUTE\",\\n        \"languageNotSupportedByAttributeError\": {\\n          \"detectedLanguages\": [\\n            \"af\"\\n          ],\\n          \"attribute\": \"TOXICITY\"\\n        }\\n      }\\n    ]\\n  }\\n}\\n')\n",
      "  8%|███▍                                     | 1752/21047 [25:56<4:06:56,  1.30it/s]"
     ]
    }
   ],
   "source": [
    "# calculate_toxicity_scores(\n",
    "#     credentials,\n",
    "#     'data/coraal/Buckeye/00_sentences/',\n",
    "#     'data/coraal/Buckeye/01_scored/'\n",
    "# )"
   ]
  },
  {
   "cell_type": "code",
   "execution_count": null,
   "id": "3220b767-5b2d-4fe6-b2c9-bda7164e50a5",
   "metadata": {},
   "outputs": [],
   "source": []
  },
  {
   "cell_type": "code",
   "execution_count": null,
   "id": "4d980a0a-eaf3-4538-9952-e98e38a4da15",
   "metadata": {},
   "outputs": [],
   "source": []
  },
  {
   "cell_type": "code",
   "execution_count": null,
   "id": "f1cee6ec-980d-49d1-b938-edb34f97d1f0",
   "metadata": {},
   "outputs": [],
   "source": []
  },
  {
   "cell_type": "code",
   "execution_count": null,
   "id": "427ac13a-c84e-4edf-9373-d91eb59dd9c9",
   "metadata": {},
   "outputs": [],
   "source": []
  },
  {
   "cell_type": "code",
   "execution_count": null,
   "id": "f00fce47-6c68-4b3f-8b8d-8513b4841ae9",
   "metadata": {},
   "outputs": [],
   "source": []
  },
  {
   "cell_type": "code",
   "execution_count": null,
   "id": "c390132b-558c-491e-99f7-b23ecbe9146e",
   "metadata": {},
   "outputs": [],
   "source": []
  },
  {
   "cell_type": "code",
   "execution_count": null,
   "id": "e47bb2a5-f3f8-4b05-831a-e5f2f1303b61",
   "metadata": {},
   "outputs": [],
   "source": []
  },
  {
   "cell_type": "code",
   "execution_count": null,
   "id": "0c9ab1e0-bbc9-4ba5-971b-5b270c9c2fb8",
   "metadata": {},
   "outputs": [],
   "source": []
  },
  {
   "cell_type": "code",
   "execution_count": 2,
   "id": "81f5b486-71bf-4a63-b381-018010122a3d",
   "metadata": {},
   "outputs": [],
   "source": [
    "INTERVIEW_SCORED_FILES_PATH = 'data/coraal/INTERVIEW/01_scored/'\n",
    "CORAAL_SCORED_FILES_PATH = 'data/coraal/CORAAL/01_scored/'"
   ]
  },
  {
   "cell_type": "code",
   "execution_count": 3,
   "id": "5cf10f0c-edac-4f1b-a211-301630315667",
   "metadata": {},
   "outputs": [
    {
     "name": "stdout",
     "output_type": "stream",
     "text": [
      "Errors while reading CORAAL data: 0\n",
      "Errors while reading INTERVIEW data: 0\n"
     ]
    },
    {
     "data": {
      "text/html": [
       "<div>\n",
       "<style scoped>\n",
       "    .dataframe tbody tr th:only-of-type {\n",
       "        vertical-align: middle;\n",
       "    }\n",
       "\n",
       "    .dataframe tbody tr th {\n",
       "        vertical-align: top;\n",
       "    }\n",
       "\n",
       "    .dataframe thead th {\n",
       "        text-align: right;\n",
       "    }\n",
       "</style>\n",
       "<table border=\"1\" class=\"dataframe\">\n",
       "  <thead>\n",
       "    <tr style=\"text-align: right;\">\n",
       "      <th></th>\n",
       "      <th>text</th>\n",
       "      <th>score</th>\n",
       "      <th>corpus</th>\n",
       "    </tr>\n",
       "  </thead>\n",
       "  <tbody>\n",
       "    <tr>\n",
       "      <th>0</th>\n",
       "      <td>Circuit, which is the appellate court, and the...</td>\n",
       "      <td>0.031694</td>\n",
       "      <td>INTERVIEW</td>\n",
       "    </tr>\n",
       "    <tr>\n",
       "      <th>0</th>\n",
       "      <td>Tolan was a Detroit native who chewed gum whil...</td>\n",
       "      <td>0.282517</td>\n",
       "      <td>INTERVIEW</td>\n",
       "    </tr>\n",
       "    <tr>\n",
       "      <th>0</th>\n",
       "      <td>But, even if I lie and then try to go out ther...</td>\n",
       "      <td>0.158707</td>\n",
       "      <td>CORAAL</td>\n",
       "    </tr>\n",
       "    <tr>\n",
       "      <th>0</th>\n",
       "      <td>So, I in- for the most part, that was like kin...</td>\n",
       "      <td>0.031350</td>\n",
       "      <td>CORAAL</td>\n",
       "    </tr>\n",
       "  </tbody>\n",
       "</table>\n",
       "</div>"
      ],
      "text/plain": [
       "                                                text     score     corpus\n",
       "0  Circuit, which is the appellate court, and the...  0.031694  INTERVIEW\n",
       "0  Tolan was a Detroit native who chewed gum whil...  0.282517  INTERVIEW\n",
       "0  But, even if I lie and then try to go out ther...  0.158707     CORAAL\n",
       "0  So, I in- for the most part, that was like kin...  0.031350     CORAAL"
      ]
     },
     "execution_count": 3,
     "metadata": {},
     "output_type": "execute_result"
    }
   ],
   "source": [
    "# INTERVIEW\n",
    "filenames_score_interview = glob.glob(INTERVIEW_SCORED_FILES_PATH+'*')\n",
    "count_interviews = 0\n",
    "\n",
    "df_interviews = []\n",
    "for filename in filenames_score_interview:\n",
    "    try:\n",
    "        df_interviews.append(pd.read_csv(filename))\n",
    "    except:\n",
    "        count_interviews += 1\n",
    "\n",
    "# CORAAL\n",
    "filenames_score_coraal = glob.glob(CORAAL_SCORED_FILES_PATH+'*')\n",
    "count_coraal = 0\n",
    "        \n",
    "df_coraal = []\n",
    "for filename in filenames_score_coraal:\n",
    "    try:\n",
    "        df_coraal.append(pd.read_csv(filename))\n",
    "    except:\n",
    "        count_coraal += 1        \n",
    "\n",
    "print(\"Errors while reading CORAAL data:\", count_coraal)\n",
    "print(\"Errors while reading INTERVIEW data:\", count_interviews)\n",
    "df_interviews = pd.concat(df_interviews)\n",
    "df_coraal = pd.concat(df_coraal)\n",
    "df_interviews['corpus'] = \"INTERVIEW\"\n",
    "df_coraal['corpus'] = \"CORAAL\"\n",
    "df = pd.concat([df_interviews,df_coraal])\n",
    "\n",
    "#head and tail\n",
    "df.iloc[np.r_[0:2, -2:0]]"
   ]
  },
  {
   "cell_type": "code",
   "execution_count": 4,
   "id": "8e9a66b5-ffde-4171-9554-46b7b036d3a2",
   "metadata": {},
   "outputs": [
    {
     "data": {
      "image/png": "[encoded data removed]",
      "text/plain": [
       "<Figure size 432x288 with 1 Axes>"
      ]
     },
     "metadata": {
      "needs_background": "light"
     },
     "output_type": "display_data"
    },
    {
     "data": {
      "image/png": "[encoded data removed]",
      "text/plain": [
       "<Figure size 432x288 with 1 Axes>"
      ]
     },
     "metadata": {
      "needs_background": "light"
     },
     "output_type": "display_data"
    }
   ],
   "source": [
    "df_interviews.score.hist()\n",
    "plt.title('INTERVIEW')\n",
    "plt.show()\n",
    "\n",
    "df_interviews.score.hist()\n",
    "plt.title('CORAAL')\n",
    "plt.show()"
   ]
  },
  {
   "cell_type": "code",
   "execution_count": 5,
   "id": "65a9f4a2-156f-4d53-a11e-43b86e6ab1a3",
   "metadata": {},
   "outputs": [
    {
     "data": {
      "image/png": "[encoded data removed]",
      "text/plain": [
       "<Figure size 1008x648 with 1 Axes>"
      ]
     },
     "metadata": {
      "needs_background": "light"
     },
     "output_type": "display_data"
    }
   ],
   "source": [
    "figure, ax = plt.subplots(figsize=(14,9))\n",
    "\n",
    "ecdf_i = ECDF(df_interviews.score)\n",
    "ecdf_c = ECDF(df_coraal.score)\n",
    "\n",
    "ax.plot(ecdf_i.x, 1-ecdf_i.y, label=\"INTERVIEW\")\n",
    "ax.plot(ecdf_c.x, 1-ecdf_c.y, label=\"CORAAL\")\n",
    "ax.set(yscale='log')\n",
    "\n",
    "plt.legend()\n",
    "plt.show()\n"
   ]
  },
  {
   "cell_type": "code",
   "execution_count": 6,
   "id": "8d1a990d-055f-4994-889b-f894363d4a2a",
   "metadata": {},
   "outputs": [
    {
     "data": {
      "image/png": "[encoded data removed]",
      "text/plain": [
       "<Figure size 432x288 with 1 Axes>"
      ]
     },
     "metadata": {
      "needs_background": "light"
     },
     "output_type": "display_data"
    }
   ],
   "source": [
    "sns.boxplot(data=df, x=\"corpus\", y=\"score\", showfliers=False)\n",
    "plt.xlabel(\"Group\")\n",
    "plt.ylabel(\"Score\")\n",
    "\n",
    "plt.show()"
   ]
  },
  {
   "cell_type": "code",
   "execution_count": 7,
   "id": "34068f94-08a2-4a41-9a80-4fcfb80d3677",
   "metadata": {},
   "outputs": [
    {
     "data": {
      "text/plain": [
       "(0.0708485857211845, 1.758988119569288e-16)"
      ]
     },
     "execution_count": 7,
     "metadata": {},
     "output_type": "execute_result"
    }
   ],
   "source": [
    "statistic, p_value = ks_2samp(\n",
    "    df[df.corpus == 'CORAAL'].score,\n",
    "    df[df.corpus == 'INTERVIEW'].score\n",
    ")\n",
    "statistic, p_value"
   ]
  },
  {
   "cell_type": "code",
   "execution_count": null,
   "id": "42422541-3215-4b4b-8015-d1ddd1320cdc",
   "metadata": {},
   "outputs": [],
   "source": []
  }
 ],
 "metadata": {
  "kernelspec": {
   "display_name": "Python 3 (ipykernel)",
   "language": "python",
   "name": "python3"
  },
  "language_info": {
   "codemirror_mode": {
    "name": "ipython",
    "version": 3
   },
   "file_extension": ".py",
   "mimetype": "text/x-python",
   "name": "python",
   "nbconvert_exporter": "python",
   "pygments_lexer": "ipython3",
   "version": "3.10.4"
  }
 },
 "nbformat": 4,
 "nbformat_minor": 5
}
