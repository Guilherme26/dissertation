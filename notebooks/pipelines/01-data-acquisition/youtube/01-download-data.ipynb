{
 "cells": [
  {
   "cell_type": "markdown",
   "metadata": {},
   "source": [
    "### Quick Description\n",
    "This notebook downloads every video subtitle listed in **download_descriptions.csv**, and creates a single output file with all sentences concatenated"
   ]
  },
  {
   "cell_type": "code",
   "execution_count": 1,
   "metadata": {},
   "outputs": [],
   "source": [
    "import pandas as pd\n",
    "import subprocess\n",
    "import logging\n",
    "import os\n",
    "import yaml\n",
    "\n",
    "from youtube_transcript_api import YouTubeTranscriptApi\n",
    "from tqdm import tqdm"
   ]
  },
  {
   "cell_type": "code",
   "execution_count": 6,
   "metadata": {},
   "outputs": [
    {
     "name": "stderr",
     "output_type": "stream",
     "text": [
      "/home/guilherme-resende/anaconda3/lib/python3.7/site-packages/ipykernel_launcher.py:1: YAMLLoadWarning: calling yaml.load() without Loader=... is deprecated, as the default Loader is unsafe. Please read https://msg.pyyaml.org/load for full details.\n",
      "  \"\"\"Entry point for launching an IPython kernel.\n"
     ]
    }
   ],
   "source": [
    "filepaths = yaml.load(open(\"/home/guilherme/Desktop/dissertation/config/filepaths.yaml\"))"
   ]
  },
  {
   "cell_type": "code",
   "execution_count": null,
   "metadata": {},
   "outputs": [],
   "source": [
    "df = pd.read_csv(filepaths[\"00_youtube_download_descriptions\"])\n",
    "for i, row in tqdm(df.iterrows(), total=len(df)):\n",
    "    video_id_and_channel = row[\"url\"].split(\"v=\")[1]\n",
    "    video_id = video_id_and_channel.split(\"&\")[0]\n",
    "\n",
    "    try:\n",
    "        if row[\"has-en-sub\"]:\n",
    "            transcript_list = YouTubeTranscriptApi.list_transcripts(video_id)\n",
    "            subtitles = transcript_list.find_manually_created_transcript([\"en\"]).fetch()\n",
    "        else:\n",
    "            transcript_list = YouTubeTranscriptApi.list_transcripts(video_id)\n",
    "            subtitles = transcript_list.find_generated_transcript([\"en\"]).fetch()\n",
    "\n",
    "        subtitles = [sentence[\"text\"] for sentence in subtitles]\n",
    "        subtitles = \" \".join(subtitles)\n",
    "\n",
    "        with open(os.path.join(filepaths[\"01_youtube_raw\"], video_id), 'w') as f:\n",
    "            f.write(subtitles)\n",
    "    except Exception as e:\n",
    "        logging.error(f\"Error while downloading the {i}-th video.\")"
   ]
  },
  {
   "cell_type": "code",
   "execution_count": null,
   "metadata": {},
   "outputs": [],
   "source": []
  }
 ],
 "metadata": {
  "kernelspec": {
   "display_name": "Python 3 (ipykernel)",
   "language": "python",
   "name": "python3"
  },
  "language_info": {
   "codemirror_mode": {
    "name": "ipython",
    "version": 3
   },
   "file_extension": ".py",
   "mimetype": "text/x-python",
   "name": "python",
   "nbconvert_exporter": "python",
   "pygments_lexer": "ipython3",
   "version": "3.8.10"
  }
 },
 "nbformat": 4,
 "nbformat_minor": 4
}
