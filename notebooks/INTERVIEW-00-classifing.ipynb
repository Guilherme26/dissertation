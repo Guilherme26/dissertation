{
 "cells": [
  {
   "cell_type": "markdown",
   "id": "827729b8-033a-499b-944b-f7de087e69d6",
   "metadata": {},
   "source": [
    "# INTERVIEW\n",
    "\n",
    "https://www.kaggle.com/datasets/shuyangli94/interview-npr-media-dialog-transcripts"
   ]
  },
  {
   "cell_type": "code",
   "execution_count": 41,
   "id": "5630edc2",
   "metadata": {},
   "outputs": [],
   "source": [
    "import pandas as pd\n",
    "import datetime\n",
    "import matplotlib.pyplot as plt"
   ]
  },
  {
   "cell_type": "markdown",
   "id": "c99a31ec",
   "metadata": {},
   "source": [
    "### Lendo dados dos episodeos"
   ]
  },
  {
   "cell_type": "code",
   "execution_count": 43,
   "id": "2f9808a3",
   "metadata": {},
   "outputs": [
    {
     "data": {
      "text/html": [
       "<div>\n",
       "<style scoped>\n",
       "    .dataframe tbody tr th:only-of-type {\n",
       "        vertical-align: middle;\n",
       "    }\n",
       "\n",
       "    .dataframe tbody tr th {\n",
       "        vertical-align: top;\n",
       "    }\n",
       "\n",
       "    .dataframe thead th {\n",
       "        text-align: right;\n",
       "    }\n",
       "</style>\n",
       "<table border=\"1\" class=\"dataframe\">\n",
       "  <thead>\n",
       "    <tr style=\"text-align: right;\">\n",
       "      <th></th>\n",
       "      <th>id</th>\n",
       "      <th>program</th>\n",
       "      <th>title</th>\n",
       "      <th>episode_date</th>\n",
       "    </tr>\n",
       "  </thead>\n",
       "  <tbody>\n",
       "    <tr>\n",
       "      <th>0</th>\n",
       "      <td>98814</td>\n",
       "      <td>Morning Edition</td>\n",
       "      <td>Senate Ushers In New Year With 'Fiscal Cliff' ...</td>\n",
       "      <td>2013-01-01</td>\n",
       "    </tr>\n",
       "    <tr>\n",
       "      <th>1</th>\n",
       "      <td>98824</td>\n",
       "      <td>Morning Edition</td>\n",
       "      <td>Cheap Bubbly Or Expensive Sparkling Wine? Look...</td>\n",
       "      <td>2012-12-31</td>\n",
       "    </tr>\n",
       "    <tr>\n",
       "      <th>2</th>\n",
       "      <td>98821</td>\n",
       "      <td>Morning Edition</td>\n",
       "      <td>U.S. Gas Prices Reach Record Level In 2012</td>\n",
       "      <td>2013-01-01</td>\n",
       "    </tr>\n",
       "    <tr>\n",
       "      <th>3</th>\n",
       "      <td>98806</td>\n",
       "      <td>Morning Edition</td>\n",
       "      <td>House Approves 'Fiscal Cliff' Measure</td>\n",
       "      <td>2013-01-02</td>\n",
       "    </tr>\n",
       "    <tr>\n",
       "      <th>4</th>\n",
       "      <td>98823</td>\n",
       "      <td>Morning Edition</td>\n",
       "      <td>The Fiscal Cliff: A Love Story</td>\n",
       "      <td>2012-12-31</td>\n",
       "    </tr>\n",
       "    <tr>\n",
       "      <th>...</th>\n",
       "      <td>...</td>\n",
       "      <td>...</td>\n",
       "      <td>...</td>\n",
       "      <td>...</td>\n",
       "    </tr>\n",
       "    <tr>\n",
       "      <th>105843</th>\n",
       "      <td>98839</td>\n",
       "      <td>All Things Considered</td>\n",
       "      <td>With Malaysia Airlines Crash, A Loss For AIDS ...</td>\n",
       "      <td>2014-07-19</td>\n",
       "    </tr>\n",
       "    <tr>\n",
       "      <th>105844</th>\n",
       "      <td>98840</td>\n",
       "      <td>All Things Considered</td>\n",
       "      <td>The Israeli-Palestinian Conflict, Remixed And ...</td>\n",
       "      <td>2014-07-19</td>\n",
       "    </tr>\n",
       "    <tr>\n",
       "      <th>105845</th>\n",
       "      <td>98842</td>\n",
       "      <td>All Things Considered</td>\n",
       "      <td>As Superheroes Go Mainstream, Comic Cons Get C...</td>\n",
       "      <td>2014-07-19</td>\n",
       "    </tr>\n",
       "    <tr>\n",
       "      <th>105846</th>\n",
       "      <td>98833</td>\n",
       "      <td>All Things Considered</td>\n",
       "      <td>Despite California's Drought, Taps Still Flowi...</td>\n",
       "      <td>2014-07-20</td>\n",
       "    </tr>\n",
       "    <tr>\n",
       "      <th>105847</th>\n",
       "      <td>98845</td>\n",
       "      <td>All Things Considered</td>\n",
       "      <td>An American Radio Station That's Saying 'Jambo...</td>\n",
       "      <td>2014-07-19</td>\n",
       "    </tr>\n",
       "  </tbody>\n",
       "</table>\n",
       "<p>105848 rows × 4 columns</p>\n",
       "</div>"
      ],
      "text/plain": [
       "           id                program  \\\n",
       "0       98814        Morning Edition   \n",
       "1       98824        Morning Edition   \n",
       "2       98821        Morning Edition   \n",
       "3       98806        Morning Edition   \n",
       "4       98823        Morning Edition   \n",
       "...       ...                    ...   \n",
       "105843  98839  All Things Considered   \n",
       "105844  98840  All Things Considered   \n",
       "105845  98842  All Things Considered   \n",
       "105846  98833  All Things Considered   \n",
       "105847  98845  All Things Considered   \n",
       "\n",
       "                                                    title episode_date  \n",
       "0       Senate Ushers In New Year With 'Fiscal Cliff' ...   2013-01-01  \n",
       "1       Cheap Bubbly Or Expensive Sparkling Wine? Look...   2012-12-31  \n",
       "2              U.S. Gas Prices Reach Record Level In 2012   2013-01-01  \n",
       "3                   House Approves 'Fiscal Cliff' Measure   2013-01-02  \n",
       "4                          The Fiscal Cliff: A Love Story   2012-12-31  \n",
       "...                                                   ...          ...  \n",
       "105843  With Malaysia Airlines Crash, A Loss For AIDS ...   2014-07-19  \n",
       "105844  The Israeli-Palestinian Conflict, Remixed And ...   2014-07-19  \n",
       "105845  As Superheroes Go Mainstream, Comic Cons Get C...   2014-07-19  \n",
       "105846  Despite California's Drought, Taps Still Flowi...   2014-07-20  \n",
       "105847  An American Radio Station That's Saying 'Jambo...   2014-07-19  \n",
       "\n",
       "[105848 rows x 4 columns]"
      ]
     },
     "execution_count": 43,
     "metadata": {},
     "output_type": "execute_result"
    }
   ],
   "source": [
    "episodes = pd.read_csv('../data/00_raw/interview/original/episodes.csv')\n",
    "episodes.episode_date = episodes.episode_date.apply(lambda x: datetime.datetime.strptime(x,\"%Y-%m-%d\"))\n",
    "episodes.head()"
   ]
  },
  {
   "cell_type": "code",
   "execution_count": 44,
   "id": "05ff7fbe",
   "metadata": {},
   "outputs": [
    {
     "data": {
      "image/png": "[encoded data removed]",
      "text/plain": [
       "<Figure size 432x288 with 1 Axes>"
      ]
     },
     "metadata": {
      "needs_background": "light"
     },
     "output_type": "display_data"
    }
   ],
   "source": [
    "episodes.episode_date.hist(bins=200)\n",
    "plt.show()"
   ]
  },
  {
   "cell_type": "markdown",
   "id": "0a987f60",
   "metadata": {},
   "source": [
    "### Vamos usar os dados depois de 2010"
   ]
  },
  {
   "cell_type": "code",
   "execution_count": 45,
   "id": "a7b297fe",
   "metadata": {},
   "outputs": [
    {
     "data": {
      "image/png": "[encoded data removed]",
      "text/plain": [
       "<Figure size 432x288 with 1 Axes>"
      ]
     },
     "metadata": {
      "needs_background": "light"
     },
     "output_type": "display_data"
    }
   ],
   "source": [
    "episodes = episodes[episodes.episode_date>datetime.datetime.strptime('2010',\"%Y\")]\n",
    "episodes.episode_date.hist(bins=100)\n",
    "plt.show()"
   ]
  },
  {
   "cell_type": "markdown",
   "id": "0a987f60",
   "metadata": {},
   "source": [
    "### Lendo os dados de entrevista"
   ]
  },
  {
   "cell_type": "code",
   "execution_count": 46,
   "id": "9511815f",
   "metadata": {},
   "outputs": [
    {
     "data": {
      "text/html": [
       "<div>\n",
       "<style scoped>\n",
       "    .dataframe tbody tr th:only-of-type {\n",
       "        vertical-align: middle;\n",
       "    }\n",
       "\n",
       "    .dataframe tbody tr th {\n",
       "        vertical-align: top;\n",
       "    }\n",
       "\n",
       "    .dataframe thead th {\n",
       "        text-align: right;\n",
       "    }\n",
       "</style>\n",
       "<table border=\"1\" class=\"dataframe\">\n",
       "  <thead>\n",
       "    <tr style=\"text-align: right;\">\n",
       "      <th></th>\n",
       "      <th>episode</th>\n",
       "      <th>episode_order</th>\n",
       "      <th>turn_order</th>\n",
       "      <th>speaker_order</th>\n",
       "      <th>host_id</th>\n",
       "      <th>is_host</th>\n",
       "      <th>utterance</th>\n",
       "    </tr>\n",
       "  </thead>\n",
       "  <tbody>\n",
       "    <tr>\n",
       "      <th>0</th>\n",
       "      <td>1</td>\n",
       "      <td>1</td>\n",
       "      <td>0</td>\n",
       "      <td>0</td>\n",
       "      <td>0</td>\n",
       "      <td>True</td>\n",
       "      <td>The impeachment inquiry picks up tomorrow wher...</td>\n",
       "    </tr>\n",
       "    <tr>\n",
       "      <th>1</th>\n",
       "      <td>1</td>\n",
       "      <td>1</td>\n",
       "      <td>1</td>\n",
       "      <td>0</td>\n",
       "      <td>0</td>\n",
       "      <td>True</td>\n",
       "      <td>Just this morning, the lawyer for the whistleb...</td>\n",
       "    </tr>\n",
       "    <tr>\n",
       "      <th>2</th>\n",
       "      <td>1</td>\n",
       "      <td>1</td>\n",
       "      <td>2</td>\n",
       "      <td>0</td>\n",
       "      <td>0</td>\n",
       "      <td>True</td>\n",
       "      <td>There's are a lot of moving parts.</td>\n",
       "    </tr>\n",
       "    <tr>\n",
       "      <th>3</th>\n",
       "      <td>1</td>\n",
       "      <td>1</td>\n",
       "      <td>3</td>\n",
       "      <td>0</td>\n",
       "      <td>0</td>\n",
       "      <td>True</td>\n",
       "      <td>Fortunately, NPR's Mara Liasson is here to help.</td>\n",
       "    </tr>\n",
       "    <tr>\n",
       "      <th>4</th>\n",
       "      <td>1</td>\n",
       "      <td>2</td>\n",
       "      <td>0</td>\n",
       "      <td>0</td>\n",
       "      <td>0</td>\n",
       "      <td>True</td>\n",
       "      <td>Good morning.</td>\n",
       "    </tr>\n",
       "  </tbody>\n",
       "</table>\n",
       "</div>"
      ],
      "text/plain": [
       "   episode  episode_order  turn_order  speaker_order  host_id  is_host  \\\n",
       "0        1              1           0              0        0     True   \n",
       "1        1              1           1              0        0     True   \n",
       "2        1              1           2              0        0     True   \n",
       "3        1              1           3              0        0     True   \n",
       "4        1              2           0              0        0     True   \n",
       "\n",
       "                                           utterance  \n",
       "0  The impeachment inquiry picks up tomorrow wher...  \n",
       "1  Just this morning, the lawyer for the whistleb...  \n",
       "2                 There's are a lot of moving parts.  \n",
       "3   Fortunately, NPR's Mara Liasson is here to help.  \n",
       "4                                      Good morning.  "
      ]
     },
     "execution_count": 46,
     "metadata": {},
     "output_type": "execute_result"
    }
   ],
   "source": [
    "interview = pd.read_csv('../data/00_raw/interview/original/utterances-2sp.csv')\n",
    "interview.head()"
   ]
  },
  {
   "cell_type": "code",
   "execution_count": 47,
   "id": "72fd46f4",
   "metadata": {},
   "outputs": [
    {
     "data": {
      "text/plain": [
       "443184"
      ]
     },
     "execution_count": 47,
     "metadata": {},
     "output_type": "execute_result"
    }
   ],
   "source": [
    "interview = interview[\n",
    "    (interview.is_host==False)\n",
    "    & (interview.episode.isin(episodes.id.unique()))\n",
    "]\n",
    "len(interview)"
   ]
  },
  {
   "cell_type": "code",
   "execution_count": 48,
   "id": "840ffe5e",
   "metadata": {},
   "outputs": [
    {
     "data": {
      "text/plain": [
       "438458"
      ]
     },
     "execution_count": 48,
     "metadata": {},
     "output_type": "execute_result"
    }
   ],
   "source": [
    "# exclui episodeos em que depois de selecionar somente o entrevistado (acima) \n",
    "# o speaker order é duplicado considerando que somente deveriam existir 2 pessoas na conversa\n",
    "\n",
    "more_than_one = interview[['episode','speaker_order']].drop_duplicates()['episode'][interview[['episode','speaker_order']].drop_duplicates()['episode'].duplicated()]\n",
    "interview = interview[~ interview.episode.isin(more_than_one)]\n",
    "len(interview)"
   ]
  },
  {
   "cell_type": "markdown",
   "id": "0a987f60",
   "metadata": {},
   "source": [
    "### Lendo os dados dos episodeos"
   ]
  },
  {
   "cell_type": "code",
   "execution_count": 49,
   "id": "422bd62a",
   "metadata": {},
   "outputs": [
    {
     "data": {
      "text/html": [
       "<div>\n",
       "<style scoped>\n",
       "    .dataframe tbody tr th:only-of-type {\n",
       "        vertical-align: middle;\n",
       "    }\n",
       "\n",
       "    .dataframe tbody tr th {\n",
       "        vertical-align: top;\n",
       "    }\n",
       "\n",
       "    .dataframe thead th {\n",
       "        text-align: right;\n",
       "    }\n",
       "</style>\n",
       "<table border=\"1\" class=\"dataframe\">\n",
       "  <thead>\n",
       "    <tr style=\"text-align: right;\">\n",
       "      <th></th>\n",
       "      <th>episode</th>\n",
       "      <th>episode_order</th>\n",
       "      <th>speaker</th>\n",
       "      <th>utterance</th>\n",
       "    </tr>\n",
       "  </thead>\n",
       "  <tbody>\n",
       "    <tr>\n",
       "      <th>0</th>\n",
       "      <td>57264</td>\n",
       "      <td>9</td>\n",
       "      <td>Ms. LOREN MOONEY (Editor-in-Chief, Bicycling M...</td>\n",
       "      <td>It's a 2,200-mile race. To give some sense of ...</td>\n",
       "    </tr>\n",
       "    <tr>\n",
       "      <th>1</th>\n",
       "      <td>57264</td>\n",
       "      <td>10</td>\n",
       "      <td>Ms. LOREN MOONEY (Editor-in-Chief, Bicycling M...</td>\n",
       "      <td>So for a top competitor like Lance to try to m...</td>\n",
       "    </tr>\n",
       "    <tr>\n",
       "      <th>2</th>\n",
       "      <td>57264</td>\n",
       "      <td>11</td>\n",
       "      <td>NEAL CONAN, host</td>\n",
       "      <td>So in every team, presumably there's one star,...</td>\n",
       "    </tr>\n",
       "    <tr>\n",
       "      <th>3</th>\n",
       "      <td>57264</td>\n",
       "      <td>12</td>\n",
       "      <td>Ms. LOREN MOONEY (Editor-in-Chief, Bicycling M...</td>\n",
       "      <td>That's right. Each team has nine riders. And w...</td>\n",
       "    </tr>\n",
       "    <tr>\n",
       "      <th>4</th>\n",
       "      <td>57264</td>\n",
       "      <td>13</td>\n",
       "      <td>NEAL CONAN, host</td>\n",
       "      <td>So slipstream, this is like drafting in car ra...</td>\n",
       "    </tr>\n",
       "  </tbody>\n",
       "</table>\n",
       "</div>"
      ],
      "text/plain": [
       "   episode  episode_order                                            speaker  \\\n",
       "0    57264              9  Ms. LOREN MOONEY (Editor-in-Chief, Bicycling M...   \n",
       "1    57264             10  Ms. LOREN MOONEY (Editor-in-Chief, Bicycling M...   \n",
       "2    57264             11                                   NEAL CONAN, host   \n",
       "3    57264             12  Ms. LOREN MOONEY (Editor-in-Chief, Bicycling M...   \n",
       "4    57264             13                                   NEAL CONAN, host   \n",
       "\n",
       "                                           utterance  \n",
       "0  It's a 2,200-mile race. To give some sense of ...  \n",
       "1  So for a top competitor like Lance to try to m...  \n",
       "2  So in every team, presumably there's one star,...  \n",
       "3  That's right. Each team has nine riders. And w...  \n",
       "4  So slipstream, this is like drafting in car ra...  "
      ]
     },
     "execution_count": 49,
     "metadata": {},
     "output_type": "execute_result"
    }
   ],
   "source": [
    "all_episodes = pd.read_csv('../data/00_raw/interview/original/utterances.csv')\n",
    "all_episodes.head()"
   ]
  },
  {
   "cell_type": "markdown",
   "id": "0a987f60",
   "metadata": {},
   "source": [
    "### Obtendo os Speakers"
   ]
  },
  {
   "cell_type": "code",
   "execution_count": 50,
   "id": "f923cd59",
   "metadata": {},
   "outputs": [
    {
     "data": {
      "text/html": [
       "<div>\n",
       "<style scoped>\n",
       "    .dataframe tbody tr th:only-of-type {\n",
       "        vertical-align: middle;\n",
       "    }\n",
       "\n",
       "    .dataframe tbody tr th {\n",
       "        vertical-align: top;\n",
       "    }\n",
       "\n",
       "    .dataframe thead th {\n",
       "        text-align: right;\n",
       "    }\n",
       "</style>\n",
       "<table border=\"1\" class=\"dataframe\">\n",
       "  <thead>\n",
       "    <tr style=\"text-align: right;\">\n",
       "      <th></th>\n",
       "      <th>speaker</th>\n",
       "    </tr>\n",
       "    <tr>\n",
       "      <th>episode</th>\n",
       "      <th></th>\n",
       "    </tr>\n",
       "  </thead>\n",
       "  <tbody>\n",
       "  </tbody>\n",
       "</table>\n",
       "</div>"
      ],
      "text/plain": [
       "Empty DataFrame\n",
       "Columns: [speaker]\n",
       "Index: []"
      ]
     },
     "execution_count": 50,
     "metadata": {},
     "output_type": "execute_result"
    }
   ],
   "source": [
    "speakers = all_episodes[all_episodes.episode.isin(interview.episode.unique())][['episode','speaker']].drop_duplicates()\n",
    "speakers.speaker = speakers.speaker.str.lower()\n",
    "speakers = speakers[~ speakers.speaker.str.contains('_no_speaker')]\n",
    "\n",
    "speakers.groupby('episode').count().query('speaker > 2')"
   ]
  },
  {
   "cell_type": "code",
   "execution_count": 51,
   "id": "4b2fea6d",
   "metadata": {},
   "outputs": [
    {
     "data": {
      "text/plain": [
       "13423"
      ]
     },
     "execution_count": 51,
     "metadata": {},
     "output_type": "execute_result"
    }
   ],
   "source": [
    "speakers[speakers.speaker.str.contains('host')].episode.nunique()"
   ]
  },
  {
   "cell_type": "markdown",
   "id": "0a987f60",
   "metadata": {},
   "source": [
    "### Obtendo os dados de guests (covidados) a partir dos speakers"
   ]
  },
  {
   "cell_type": "code",
   "execution_count": 52,
   "id": "2cddf696",
   "metadata": {},
   "outputs": [
    {
     "data": {
      "text/plain": [
       "13416"
      ]
     },
     "execution_count": 52,
     "metadata": {},
     "output_type": "execute_result"
    }
   ],
   "source": [
    "guests = speakers[~speakers.speaker.str.contains('host')]\n",
    "guests.episode.nunique()"
   ]
  },
  {
   "cell_type": "code",
   "execution_count": 53,
   "id": "0967b340",
   "metadata": {},
   "outputs": [
    {
     "data": {
      "text/html": [
       "<div>\n",
       "<style scoped>\n",
       "    .dataframe tbody tr th:only-of-type {\n",
       "        vertical-align: middle;\n",
       "    }\n",
       "\n",
       "    .dataframe tbody tr th {\n",
       "        vertical-align: top;\n",
       "    }\n",
       "\n",
       "    .dataframe thead th {\n",
       "        text-align: right;\n",
       "    }\n",
       "</style>\n",
       "<table border=\"1\" class=\"dataframe\">\n",
       "  <thead>\n",
       "    <tr style=\"text-align: right;\">\n",
       "      <th></th>\n",
       "      <th>speaker</th>\n",
       "    </tr>\n",
       "    <tr>\n",
       "      <th>episode</th>\n",
       "      <th></th>\n",
       "    </tr>\n",
       "  </thead>\n",
       "  <tbody>\n",
       "  </tbody>\n",
       "</table>\n",
       "</div>"
      ],
      "text/plain": [
       "Empty DataFrame\n",
       "Columns: [speaker]\n",
       "Index: []"
      ]
     },
     "execution_count": 53,
     "metadata": {},
     "output_type": "execute_result"
    }
   ],
   "source": [
    "guests.groupby('episode').count().query('speaker > 1')"
   ]
  },
  {
   "cell_type": "markdown",
   "id": "0a987f60",
   "metadata": {},
   "source": [
    "### Cria DF de sentenças usando os dados que vem de interview e guests"
   ]
  },
  {
   "cell_type": "code",
   "execution_count": 54,
   "id": "5bdcfa1b",
   "metadata": {},
   "outputs": [
    {
     "name": "stdout",
     "output_type": "stream",
     "text": [
      "438458\n",
      "438249\n"
     ]
    }
   ],
   "source": [
    "print(len(interview))\n",
    "sentences = interview.merge(guests)[['episode','episode_order','turn_order','utterance','speaker']]\n",
    "print(len(sentences))"
   ]
  },
  {
   "cell_type": "code",
   "execution_count": 55,
   "id": "7df60141",
   "metadata": {},
   "outputs": [
    {
     "data": {
      "text/html": [
       "<div>\n",
       "<style scoped>\n",
       "    .dataframe tbody tr th:only-of-type {\n",
       "        vertical-align: middle;\n",
       "    }\n",
       "\n",
       "    .dataframe tbody tr th {\n",
       "        vertical-align: top;\n",
       "    }\n",
       "\n",
       "    .dataframe thead th {\n",
       "        text-align: right;\n",
       "    }\n",
       "</style>\n",
       "<table border=\"1\" class=\"dataframe\">\n",
       "  <thead>\n",
       "    <tr style=\"text-align: right;\">\n",
       "      <th></th>\n",
       "      <th>utterance</th>\n",
       "      <th>speaker</th>\n",
       "      <th>utterance_id</th>\n",
       "    </tr>\n",
       "  </thead>\n",
       "  <tbody>\n",
       "    <tr>\n",
       "      <th>0</th>\n",
       "      <td>Good morning, Lulu.</td>\n",
       "      <td>mara liasson, byline</td>\n",
       "      <td>1_3_0</td>\n",
       "    </tr>\n",
       "    <tr>\n",
       "      <th>1</th>\n",
       "      <td>Well, the latest is that the lawyer for the fi...</td>\n",
       "      <td>mara liasson, byline</td>\n",
       "      <td>1_5_0</td>\n",
       "    </tr>\n",
       "    <tr>\n",
       "      <th>2</th>\n",
       "      <td>The first whistleblower only had second and th...</td>\n",
       "      <td>mara liasson, byline</td>\n",
       "      <td>1_5_1</td>\n",
       "    </tr>\n",
       "    <tr>\n",
       "      <th>3</th>\n",
       "      <td>We also know that there are subpoenas for Whit...</td>\n",
       "      <td>mara liasson, byline</td>\n",
       "      <td>1_5_2</td>\n",
       "    </tr>\n",
       "    <tr>\n",
       "      <th>4</th>\n",
       "      <td>We don't know how cooperative the administrati...</td>\n",
       "      <td>mara liasson, byline</td>\n",
       "      <td>1_5_3</td>\n",
       "    </tr>\n",
       "  </tbody>\n",
       "</table>\n",
       "</div>"
      ],
      "text/plain": [
       "                                           utterance               speaker  \\\n",
       "0                                Good morning, Lulu.  mara liasson, byline   \n",
       "1  Well, the latest is that the lawyer for the fi...  mara liasson, byline   \n",
       "2  The first whistleblower only had second and th...  mara liasson, byline   \n",
       "3  We also know that there are subpoenas for Whit...  mara liasson, byline   \n",
       "4  We don't know how cooperative the administrati...  mara liasson, byline   \n",
       "\n",
       "  utterance_id  \n",
       "0        1_3_0  \n",
       "1        1_5_0  \n",
       "2        1_5_1  \n",
       "3        1_5_2  \n",
       "4        1_5_3  "
      ]
     },
     "execution_count": 55,
     "metadata": {},
     "output_type": "execute_result"
    }
   ],
   "source": [
    "sentences['utterance_id'] = sentences[['episode','episode_order','turn_order']].apply(lambda x: '_'.join(x.values.astype(str)), axis=1)\n",
    "sentences = sentences.drop(columns=['episode','episode_order','turn_order'])\n",
    "sentences.head()"
   ]
  },
  {
   "cell_type": "markdown",
   "id": "0a987f60",
   "metadata": {},
   "source": [
    "### A partir do DF de sentenças com a info do covidado e das senteças, precisamos classificar os convidados por raça e genero. Para isso vamos usar dados da wikipedia para direcionar as buscas."
   ]
  },
  {
   "cell_type": "code",
   "execution_count": 56,
   "id": "f836965c",
   "metadata": {},
   "outputs": [],
   "source": [
    "import wikipedia\n",
    "from tqdm import tqdm\n",
    "import pickle\n",
    "import random\n",
    "tqdm.pandas()"
   ]
  },
  {
   "cell_type": "markdown",
   "id": "60ee7bf2",
   "metadata": {},
   "source": [
    "#### Antes analisamos quantas senteças cada usuario falou e pegamos somente aqueles que tem entre 15 e 100 sentenças. Isso irá diminuir o tempo de execução da coleta da wikipedia"
   ]
  },
  {
   "cell_type": "code",
   "execution_count": 59,
   "id": "676c275b",
   "metadata": {},
   "outputs": [
    {
     "data": {
      "text/html": [
       "<div>\n",
       "<style scoped>\n",
       "    .dataframe tbody tr th:only-of-type {\n",
       "        vertical-align: middle;\n",
       "    }\n",
       "\n",
       "    .dataframe tbody tr th {\n",
       "        vertical-align: top;\n",
       "    }\n",
       "\n",
       "    .dataframe thead th {\n",
       "        text-align: right;\n",
       "    }\n",
       "</style>\n",
       "<table border=\"1\" class=\"dataframe\">\n",
       "  <thead>\n",
       "    <tr style=\"text-align: right;\">\n",
       "      <th></th>\n",
       "      <th>speaker_original</th>\n",
       "      <th>num</th>\n",
       "      <th>speaker</th>\n",
       "    </tr>\n",
       "  </thead>\n",
       "  <tbody>\n",
       "    <tr>\n",
       "      <th>0</th>\n",
       "      <td>a</td>\n",
       "      <td>38</td>\n",
       "      <td>a</td>\n",
       "    </tr>\n",
       "    <tr>\n",
       "      <th>1</th>\n",
       "      <td>a e dick howard</td>\n",
       "      <td>27</td>\n",
       "      <td>a e dick howard</td>\n",
       "    </tr>\n",
       "    <tr>\n",
       "      <th>2</th>\n",
       "      <td>a lot of people are asking the paris city gove...</td>\n",
       "      <td>5</td>\n",
       "      <td>a lot of people are asking the paris city gove...</td>\n",
       "    </tr>\n",
       "    <tr>\n",
       "      <th>3</th>\n",
       "      <td>a martinez</td>\n",
       "      <td>3</td>\n",
       "      <td>a martinez</td>\n",
       "    </tr>\n",
       "    <tr>\n",
       "      <th>4</th>\n",
       "      <td>a martinez, byline</td>\n",
       "      <td>43</td>\n",
       "      <td>a martinez</td>\n",
       "    </tr>\n",
       "  </tbody>\n",
       "</table>\n",
       "</div>"
      ],
      "text/plain": [
       "                                    speaker_original  num  \\\n",
       "0                                                  a   38   \n",
       "1                                    a e dick howard   27   \n",
       "2  a lot of people are asking the paris city gove...    5   \n",
       "3                                         a martinez    3   \n",
       "4                                 a martinez, byline   43   \n",
       "\n",
       "                                             speaker  \n",
       "0                                                  a  \n",
       "1                                    a e dick howard  \n",
       "2  a lot of people are asking the paris city gove...  \n",
       "3                                         a martinez  \n",
       "4                                         a martinez  "
      ]
     },
     "execution_count": 59,
     "metadata": {},
     "output_type": "execute_result"
    }
   ],
   "source": [
    "s_num = sentences.groupby('speaker',as_index=False).count().rename(columns={'utterance':'num'})[['speaker','num']]\n",
    "s_num['speaker_processed'] = s_num.speaker.apply(lambda x: x.split(',')[0].split('(')[0].rstrip())\n",
    "s_num = s_num.rename(columns={'speaker':'speaker_original', 'speaker_processed':'speaker'})\n",
    "s_num.head()"
   ]
  },
  {
   "cell_type": "code",
   "execution_count": 60,
   "id": "45d03907",
   "metadata": {},
   "outputs": [
    {
     "data": {
      "image/png": "[encoded data removed]",
      "text/plain": [
       "<Figure size 432x288 with 1 Axes>"
      ]
     },
     "metadata": {
      "needs_background": "light"
     },
     "output_type": "display_data"
    },
    {
     "data": {
      "image/png": "[encoded data removed]",
      "text/plain": [
       "<Figure size 432x288 with 1 Axes>"
      ]
     },
     "metadata": {
      "needs_background": "light"
     },
     "output_type": "display_data"
    }
   ],
   "source": [
    "s_num.num.hist(bins=100)\n",
    "plt.show()\n",
    "\n",
    "s_num[(s_num.num>15) & (s_num.num<=100)].hist(bins=50)\n",
    "plt.show()\n",
    "\n",
    "s_num_cut = s_num[(s_num.num>15) & (s_num.num<=100)]"
   ]
  },
  {
   "cell_type": "markdown",
   "id": "dba974f6",
   "metadata": {},
   "source": [
    "### Coleta os dados da Wikipedia\n",
    "\n",
    "Deixar comentado para não executar atoa. Os dados são salvos e lidos na proxima celula."
   ]
  },
  {
   "cell_type": "code",
   "execution_count": null,
   "id": "45ac9ffb",
   "metadata": {},
   "outputs": [],
   "source": [
    "# wiki_data = {}\n",
    "# for s in tqdm(s_num_cut.speaker.unique()):\n",
    "#     try:\n",
    "#         w = wikipedia.page(s)\n",
    "#         wiki_data[s] = w\n",
    "#     except:\n",
    "#         continue\n",
    "\n",
    "# with open(\"../data/wiki_data_cut.pkl\", \"wb\") as pkl_handle:\n",
    "# \tpickle.dump(wiki_data, pkl_handle)"
   ]
  },
  {
   "cell_type": "code",
   "execution_count": null,
   "id": "6099e662",
   "metadata": {},
   "outputs": [],
   "source": [
    "with open(\"../data/wiki_data_cut.pkl\", \"rb\") as pkl_handle:\n",
    "\twiki_data = pickle.load(pkl_handle)   "
   ]
  },
  {
   "cell_type": "markdown",
   "id": "3f063147",
   "metadata": {},
   "source": [
    "#### black_spkrs é um nome ruim pra esse DF, mas ele guarda os dados dos convidados que tem pagina na wikipedia"
   ]
  },
  {
   "cell_type": "code",
   "execution_count": 61,
   "id": "48118f14",
   "metadata": {},
   "outputs": [
    {
     "data": {
      "text/html": [
       "<div>\n",
       "<style scoped>\n",
       "    .dataframe tbody tr th:only-of-type {\n",
       "        vertical-align: middle;\n",
       "    }\n",
       "\n",
       "    .dataframe tbody tr th {\n",
       "        vertical-align: top;\n",
       "    }\n",
       "\n",
       "    .dataframe thead th {\n",
       "        text-align: right;\n",
       "    }\n",
       "</style>\n",
       "<table border=\"1\" class=\"dataframe\">\n",
       "  <thead>\n",
       "    <tr style=\"text-align: right;\">\n",
       "      <th></th>\n",
       "      <th>speaker</th>\n",
       "      <th>num</th>\n",
       "    </tr>\n",
       "  </thead>\n",
       "  <tbody>\n",
       "    <tr>\n",
       "      <th>0</th>\n",
       "      <td>a</td>\n",
       "      <td>38</td>\n",
       "    </tr>\n",
       "    <tr>\n",
       "      <th>1</th>\n",
       "      <td>a e dick howard</td>\n",
       "      <td>27</td>\n",
       "    </tr>\n",
       "    <tr>\n",
       "      <th>2</th>\n",
       "      <td>a martinez</td>\n",
       "      <td>43</td>\n",
       "    </tr>\n",
       "    <tr>\n",
       "      <th>5</th>\n",
       "      <td>aaron neville</td>\n",
       "      <td>52</td>\n",
       "    </tr>\n",
       "    <tr>\n",
       "      <th>10</th>\n",
       "      <td>abby finkenauer</td>\n",
       "      <td>34</td>\n",
       "    </tr>\n",
       "  </tbody>\n",
       "</table>\n",
       "</div>"
      ],
      "text/plain": [
       "            speaker  num\n",
       "0                 a   38\n",
       "1   a e dick howard   27\n",
       "2        a martinez   43\n",
       "5     aaron neville   52\n",
       "10  abby finkenauer   34"
      ]
     },
     "execution_count": 61,
     "metadata": {},
     "output_type": "execute_result"
    }
   ],
   "source": [
    "black_spkrs = s_num_cut.groupby('speaker',as_index=False).sum()[['speaker','num']]\n",
    "black_spkrs = black_spkrs[black_spkrs.speaker.isin(wiki_data.keys())]\n",
    "black_spkrs.head()"
   ]
  },
  {
   "cell_type": "markdown",
   "id": "ec568f5b",
   "metadata": {},
   "source": [
    "#### Criamos uma coluna com as categorias que a wikipedia atribui a cada convidado\n",
    "\n",
    "Esses dados tambem são salvos pois demoram muito para obter"
   ]
  },
  {
   "cell_type": "code",
   "execution_count": 64,
   "id": "15f22b01",
   "metadata": {},
   "outputs": [],
   "source": [
    "# black_spkrs['categories'] = black_spkrs.speaker.progress_apply(lambda x: wiki_data[x].categories)\n",
    "# black_spkrs.head()"
   ]
  },
  {
   "cell_type": "code",
   "execution_count": null,
   "id": "4c5406ae",
   "metadata": {},
   "outputs": [],
   "source": [
    "# black_spkrs.to_csv('../data/black_speakers_categories.csv', index=False)"
   ]
  },
  {
   "cell_type": "code",
   "execution_count": 65,
   "id": "4c572341",
   "metadata": {},
   "outputs": [],
   "source": [
    "black_spkrs = pd.read_csv('../data/black_speakers_categories.csv')"
   ]
  },
  {
   "cell_type": "code",
   "execution_count": 66,
   "id": "66b8a27e",
   "metadata": {},
   "outputs": [],
   "source": [
    "black_spkrs.categories = black_spkrs.categories.astype(str).str.lower()\n",
    "black_spkrs['url'] = black_spkrs.speaker.progress_apply(lambda x: wiki_data[x].url)"
   ]
  },
  {
   "cell_type": "markdown",
   "id": "501686e4",
   "metadata": {},
   "source": [
    "#### Novo DF é definido contendo somente dados de convidados que contenham 'black' ou 'afric' em alguma das categorias da wikipedia. A partir desse df fazemos a classificação. Essa classificação é salva em um dicionario e por fim salva num CSV."
   ]
  },
  {
   "cell_type": "code",
   "execution_count": 68,
   "id": "ed5b3565",
   "metadata": {},
   "outputs": [],
   "source": [
    "black_spkrs_cut = black_spkrs[black_spkrs.categories.str.contains('black') | black_spkrs.categories.str.contains('afric')]"
   ]
  },
  {
   "cell_type": "code",
   "execution_count": 69,
   "id": "3fe51d4f",
   "metadata": {},
   "outputs": [],
   "source": [
    "black_spkrs_cut = black_spkrs_cut.sample(frac=1)"
   ]
  },
  {
   "cell_type": "code",
   "execution_count": 70,
   "id": "a823b930",
   "metadata": {},
   "outputs": [
    {
     "data": {
      "text/html": [
       "<div>\n",
       "<style scoped>\n",
       "    .dataframe tbody tr th:only-of-type {\n",
       "        vertical-align: middle;\n",
       "    }\n",
       "\n",
       "    .dataframe tbody tr th {\n",
       "        vertical-align: top;\n",
       "    }\n",
       "\n",
       "    .dataframe thead th {\n",
       "        text-align: right;\n",
       "    }\n",
       "</style>\n",
       "<table border=\"1\" class=\"dataframe\">\n",
       "  <thead>\n",
       "    <tr style=\"text-align: right;\">\n",
       "      <th></th>\n",
       "      <th>speaker</th>\n",
       "      <th>num</th>\n",
       "      <th>categories</th>\n",
       "      <th>url</th>\n",
       "    </tr>\n",
       "  </thead>\n",
       "  <tbody>\n",
       "    <tr>\n",
       "      <th>2339</th>\n",
       "      <td>lianne la havas</td>\n",
       "      <td>64</td>\n",
       "      <td>['1989 births', '21st-century black british wo...</td>\n",
       "      <td>https://en.wikipedia.org/wiki/Lianne_La_Havas</td>\n",
       "    </tr>\n",
       "    <tr>\n",
       "      <th>2674</th>\n",
       "      <td>michael donkor</td>\n",
       "      <td>57</td>\n",
       "      <td>['1985 births', '21st-century british male wri...</td>\n",
       "      <td>https://en.wikipedia.org/wiki/Michael_Donkor</td>\n",
       "    </tr>\n",
       "    <tr>\n",
       "      <th>950</th>\n",
       "      <td>dean baquet</td>\n",
       "      <td>33</td>\n",
       "      <td>['1956 births', '20th-century african-american...</td>\n",
       "      <td>https://en.wikipedia.org/wiki/Dean_Baquet</td>\n",
       "    </tr>\n",
       "    <tr>\n",
       "      <th>1837</th>\n",
       "      <td>joanne barbara</td>\n",
       "      <td>57</td>\n",
       "      <td>['1947 births', 'activists from new york (stat...</td>\n",
       "      <td>https://en.wikipedia.org/wiki/Assata_Shakur</td>\n",
       "    </tr>\n",
       "    <tr>\n",
       "      <th>3278</th>\n",
       "      <td>ms. peggy orenstein</td>\n",
       "      <td>52</td>\n",
       "      <td>['1952 births', 'african-american academics', ...</td>\n",
       "      <td>https://en.wikipedia.org/wiki/Carla_Hayden</td>\n",
       "    </tr>\n",
       "    <tr>\n",
       "      <th>4492</th>\n",
       "      <td>tree sampson</td>\n",
       "      <td>21</td>\n",
       "      <td>['1918 births', '2013 deaths', '20th-century m...</td>\n",
       "      <td>https://en.wikipedia.org/wiki/Nelson_Mandela</td>\n",
       "    </tr>\n",
       "    <tr>\n",
       "      <th>3510</th>\n",
       "      <td>percival everett</td>\n",
       "      <td>44</td>\n",
       "      <td>['1956 births', '20th-century african-american...</td>\n",
       "      <td>https://en.wikipedia.org/wiki/Percival_Everett</td>\n",
       "    </tr>\n",
       "    <tr>\n",
       "      <th>3853</th>\n",
       "      <td>riley starks</td>\n",
       "      <td>33</td>\n",
       "      <td>['1965 births', '20th-century african-american...</td>\n",
       "      <td>https://en.wikipedia.org/wiki/John_Starks</td>\n",
       "    </tr>\n",
       "    <tr>\n",
       "      <th>3380</th>\n",
       "      <td>nicole auerbach</td>\n",
       "      <td>31</td>\n",
       "      <td>['1979 births', '21st-century american guitari...</td>\n",
       "      <td>https://en.wikipedia.org/wiki/Dan_Auerbach</td>\n",
       "    </tr>\n",
       "    <tr>\n",
       "      <th>3135</th>\n",
       "      <td>mr. rory stewart</td>\n",
       "      <td>48</td>\n",
       "      <td>['1973 births', '20th-century british army per...</td>\n",
       "      <td>https://en.wikipedia.org/wiki/Rory_Stewart</td>\n",
       "    </tr>\n",
       "  </tbody>\n",
       "</table>\n",
       "</div>"
      ],
      "text/plain": [
       "                  speaker  num  \\\n",
       "2339      lianne la havas   64   \n",
       "2674       michael donkor   57   \n",
       "950           dean baquet   33   \n",
       "1837       joanne barbara   57   \n",
       "3278  ms. peggy orenstein   52   \n",
       "4492         tree sampson   21   \n",
       "3510     percival everett   44   \n",
       "3853         riley starks   33   \n",
       "3380      nicole auerbach   31   \n",
       "3135     mr. rory stewart   48   \n",
       "\n",
       "                                             categories  \\\n",
       "2339  ['1989 births', '21st-century black british wo...   \n",
       "2674  ['1985 births', '21st-century british male wri...   \n",
       "950   ['1956 births', '20th-century african-american...   \n",
       "1837  ['1947 births', 'activists from new york (stat...   \n",
       "3278  ['1952 births', 'african-american academics', ...   \n",
       "4492  ['1918 births', '2013 deaths', '20th-century m...   \n",
       "3510  ['1956 births', '20th-century african-american...   \n",
       "3853  ['1965 births', '20th-century african-american...   \n",
       "3380  ['1979 births', '21st-century american guitari...   \n",
       "3135  ['1973 births', '20th-century british army per...   \n",
       "\n",
       "                                                 url  \n",
       "2339   https://en.wikipedia.org/wiki/Lianne_La_Havas  \n",
       "2674    https://en.wikipedia.org/wiki/Michael_Donkor  \n",
       "950        https://en.wikipedia.org/wiki/Dean_Baquet  \n",
       "1837     https://en.wikipedia.org/wiki/Assata_Shakur  \n",
       "3278      https://en.wikipedia.org/wiki/Carla_Hayden  \n",
       "4492    https://en.wikipedia.org/wiki/Nelson_Mandela  \n",
       "3510  https://en.wikipedia.org/wiki/Percival_Everett  \n",
       "3853       https://en.wikipedia.org/wiki/John_Starks  \n",
       "3380      https://en.wikipedia.org/wiki/Dan_Auerbach  \n",
       "3135      https://en.wikipedia.org/wiki/Rory_Stewart  "
      ]
     },
     "execution_count": 70,
     "metadata": {},
     "output_type": "execute_result"
    }
   ],
   "source": [
    "i = 160\n",
    "black_spkrs_cut.iloc[i:i+10]"
   ]
  },
  {
   "cell_type": "code",
   "execution_count": 71,
   "id": "ec7ef92d",
   "metadata": {},
   "outputs": [
    {
     "data": {
      "text/plain": [
       "'https://en.wikipedia.org/wiki/Freeman_A._Hrabowski_III'"
      ]
     },
     "execution_count": 71,
     "metadata": {},
     "output_type": "execute_result"
    }
   ],
   "source": [
    "black_spkrs_cut[black_spkrs_cut.speaker=='freeman hrabowski iii'].url.iloc[0]"
   ]
  },
  {
   "cell_type": "code",
   "execution_count": 72,
   "id": "9c60d14e",
   "metadata": {},
   "outputs": [],
   "source": [
    "m = 'm'\n",
    "f = 'f'\n",
    "\n",
    "black_clasifications = {\n",
    "    'governor deval patrick': m,\n",
    "    'lianne la havas': f,\n",
    "    'latoya ruby frazier': f,\n",
    "    'zandria robinson': f,\n",
    "    'district attorney kenneth thompson': m,\n",
    "    'jonathan capehart': m,\n",
    "    'marc morial': m,\n",
    "    'mr. yohannes haile-selassie': m,\n",
    "    'jamelle bouie': m,\n",
    "    'zinzi clemmons': f,\n",
    "    'darrick hamilton': m,\n",
    "    'mohammed fairouz': m,\n",
    "    'teju cole': m,\n",
    "    'darcel clark': f,\n",
    "    'julius thomas': m,\n",
    "    'elijah cummings': m,\n",
    "    'attica locke': f,\n",
    "    'sam sanders': m,\n",
    "\n",
    "    'sho baraka': m,\n",
    "    'nikuyah walker': f,\n",
    "    'seth jones': m,\n",
    "    'jim zion': m,\n",
    "    'john ridley': m,\n",
    "    'craig david': m,\n",
    "    'audie cornish': f,\n",
    "    'janelle bynum': f,\n",
    "    'alondra nelson': f,\n",
    "    'general colin powell': m,\n",
    "    'anquan boldin': m,\n",
    "    'sharon weston broome': f,\n",
    "    'sheila jackson lee': f,\n",
    "    'michael donkor': m,\n",
    "    'hank johnson': m,\n",
    "    'goldie taylor': f,\n",
    "    'farai chideya': f,\n",
    "    'josh green': m,\n",
    "    'diran adebayo': m,\n",
    "    'valerie jarrett': f, #?\n",
    "    'kevyn orr': m,\n",
    "    'alexis mcgill johnson': f,\n",
    "    'carmen twillie ambar': f,\n",
    "\n",
    "    'aaron neville': m,\n",
    "    'thomas hollywood': m,\n",
    "    'clarence page': m,\n",
    "    'colion noir': m,\n",
    "    'charlayne hunter': f,\n",
    "    'meshell ndegeocello': f,\n",
    "    'larycia hawkins': f,\n",
    "    'alysia montano': f,\n",
    "    'stephen henderson': m,\n",
    "    'eleanor holmes norton': f,\n",
    "    'caron butler': m,\n",
    "    'helen oyeyemi': f,\n",
    "    'alderman antonio french': m,\n",
    "\n",
    "    'rachel swarns': f,\n",
    "    'jamaica kincaid': f,\n",
    "    'sarah m broom': f,\n",
    "    'dorothy roberts': f,\n",
    "    'professor melissa harris-lacewell': f,\n",
    "    'olivia hooker': f,\n",
    "    'helene cooper': f,\n",
    "    'john lewis': m,\n",
    "    'david o brown': m,\n",
    "    'jemele hill': f,\n",
    "    'marilyn nelson': f,\n",
    "    'david price': m,\n",
    "    'marshall shepherd': m,\n",
    "    'percival everett': m,\n",
    "    'esi edugyan': f,\n",
    "    'professor margaret burnham': f,\n",
    "\n",
    "    'kurt schmoke': m,\n",
    "    'fawn weaver': f,\n",
    "    'michael eric dyson': m,\n",
    "    'fred luter': m,\n",
    "    'jason wright': m,\n",
    "    'harriet washington': f,\n",
    "    'freeman hrabowski iii': m,\n",
    "    'walter kimbrough': m,\n",
    "    'darnell hunt': m,\n",
    "    'gwen carr': f,\n",
    "    'dr. susan rice': f,\n",
    "    'the-dream': m,\n",
    "    'rokhaya diallo': f,\n",
    "    'tracy k smith': f,\n",
    "}"
   ]
  },
  {
   "cell_type": "code",
   "execution_count": 73,
   "id": "97c02f72",
   "metadata": {},
   "outputs": [
    {
     "data": {
      "text/html": [
       "<div>\n",
       "<style scoped>\n",
       "    .dataframe tbody tr th:only-of-type {\n",
       "        vertical-align: middle;\n",
       "    }\n",
       "\n",
       "    .dataframe tbody tr th {\n",
       "        vertical-align: top;\n",
       "    }\n",
       "\n",
       "    .dataframe thead th {\n",
       "        text-align: right;\n",
       "    }\n",
       "</style>\n",
       "<table border=\"1\" class=\"dataframe\">\n",
       "  <thead>\n",
       "    <tr style=\"text-align: right;\">\n",
       "      <th></th>\n",
       "      <th>speaker</th>\n",
       "      <th>gender</th>\n",
       "      <th>race</th>\n",
       "      <th>speaker_original</th>\n",
       "    </tr>\n",
       "  </thead>\n",
       "  <tbody>\n",
       "    <tr>\n",
       "      <th>0</th>\n",
       "      <td>governor deval patrick</td>\n",
       "      <td>m</td>\n",
       "      <td>black</td>\n",
       "      <td>governor deval patrick (democrat, massachusetts)</td>\n",
       "    </tr>\n",
       "    <tr>\n",
       "      <th>1</th>\n",
       "      <td>lianne la havas</td>\n",
       "      <td>f</td>\n",
       "      <td>black</td>\n",
       "      <td>lianne la havas</td>\n",
       "    </tr>\n",
       "    <tr>\n",
       "      <th>2</th>\n",
       "      <td>latoya ruby frazier</td>\n",
       "      <td>f</td>\n",
       "      <td>black</td>\n",
       "      <td>latoya ruby frazier</td>\n",
       "    </tr>\n",
       "    <tr>\n",
       "      <th>3</th>\n",
       "      <td>zandria robinson</td>\n",
       "      <td>f</td>\n",
       "      <td>black</td>\n",
       "      <td>zandria robinson</td>\n",
       "    </tr>\n",
       "    <tr>\n",
       "      <th>4</th>\n",
       "      <td>district attorney kenneth thompson</td>\n",
       "      <td>m</td>\n",
       "      <td>black</td>\n",
       "      <td>district attorney kenneth thompson</td>\n",
       "    </tr>\n",
       "  </tbody>\n",
       "</table>\n",
       "</div>"
      ],
      "text/plain": [
       "                              speaker gender   race  \\\n",
       "0              governor deval patrick      m  black   \n",
       "1                     lianne la havas      f  black   \n",
       "2                 latoya ruby frazier      f  black   \n",
       "3                    zandria robinson      f  black   \n",
       "4  district attorney kenneth thompson      m  black   \n",
       "\n",
       "                                   speaker_original  \n",
       "0  governor deval patrick (democrat, massachusetts)  \n",
       "1                                   lianne la havas  \n",
       "2                               latoya ruby frazier  \n",
       "3                                  zandria robinson  \n",
       "4                district attorney kenneth thompson  "
      ]
     },
     "execution_count": 73,
     "metadata": {},
     "output_type": "execute_result"
    }
   ],
   "source": [
    "black_df = pd.DataFrame.from_dict(black_clasifications,orient='index').reset_index().rename(columns={0:'gender','index':'speaker'})\n",
    "black_df['race'] = 'black'\n",
    "black_df = black_df.merge(s_num[['speaker_original','speaker']],how='left')\n",
    "black_df.head()"
   ]
  },
  {
   "cell_type": "code",
   "execution_count": 74,
   "id": "e2f860ca",
   "metadata": {},
   "outputs": [
    {
     "data": {
      "text/html": [
       "<div>\n",
       "<style scoped>\n",
       "    .dataframe tbody tr th:only-of-type {\n",
       "        vertical-align: middle;\n",
       "    }\n",
       "\n",
       "    .dataframe tbody tr th {\n",
       "        vertical-align: top;\n",
       "    }\n",
       "\n",
       "    .dataframe thead th {\n",
       "        text-align: right;\n",
       "    }\n",
       "</style>\n",
       "<table border=\"1\" class=\"dataframe\">\n",
       "  <thead>\n",
       "    <tr style=\"text-align: right;\">\n",
       "      <th></th>\n",
       "      <th>speaker</th>\n",
       "      <th>gender</th>\n",
       "      <th>race</th>\n",
       "      <th>speaker_original</th>\n",
       "    </tr>\n",
       "  </thead>\n",
       "  <tbody>\n",
       "    <tr>\n",
       "      <th>22</th>\n",
       "      <td>john ridley</td>\n",
       "      <td>m</td>\n",
       "      <td>black</td>\n",
       "      <td>john ridley</td>\n",
       "    </tr>\n",
       "    <tr>\n",
       "      <th>23</th>\n",
       "      <td>john ridley</td>\n",
       "      <td>m</td>\n",
       "      <td>black</td>\n",
       "      <td>john ridley, byline</td>\n",
       "    </tr>\n",
       "    <tr>\n",
       "      <th>50</th>\n",
       "      <td>stephen henderson</td>\n",
       "      <td>m</td>\n",
       "      <td>black</td>\n",
       "      <td>stephen henderson</td>\n",
       "    </tr>\n",
       "    <tr>\n",
       "      <th>51</th>\n",
       "      <td>stephen henderson</td>\n",
       "      <td>m</td>\n",
       "      <td>black</td>\n",
       "      <td>stephen henderson, byline</td>\n",
       "    </tr>\n",
       "  </tbody>\n",
       "</table>\n",
       "</div>"
      ],
      "text/plain": [
       "              speaker gender   race           speaker_original\n",
       "22        john ridley      m  black                john ridley\n",
       "23        john ridley      m  black        john ridley, byline\n",
       "50  stephen henderson      m  black          stephen henderson\n",
       "51  stephen henderson      m  black  stephen henderson, byline"
      ]
     },
     "execution_count": 74,
     "metadata": {},
     "output_type": "execute_result"
    }
   ],
   "source": [
    "#duplicates\n",
    "black_df[black_df.speaker.duplicated(keep=False)]"
   ]
  },
  {
   "cell_type": "code",
   "execution_count": 75,
   "id": "615cf087",
   "metadata": {},
   "outputs": [
    {
     "data": {
      "text/html": [
       "<div>\n",
       "<style scoped>\n",
       "    .dataframe tbody tr th:only-of-type {\n",
       "        vertical-align: middle;\n",
       "    }\n",
       "\n",
       "    .dataframe tbody tr th {\n",
       "        vertical-align: top;\n",
       "    }\n",
       "\n",
       "    .dataframe thead th {\n",
       "        text-align: right;\n",
       "    }\n",
       "</style>\n",
       "<table border=\"1\" class=\"dataframe\">\n",
       "  <thead>\n",
       "    <tr style=\"text-align: right;\">\n",
       "      <th></th>\n",
       "      <th>speaker</th>\n",
       "      <th>race</th>\n",
       "      <th>speaker_original</th>\n",
       "    </tr>\n",
       "    <tr>\n",
       "      <th>gender</th>\n",
       "      <th></th>\n",
       "      <th></th>\n",
       "      <th></th>\n",
       "    </tr>\n",
       "  </thead>\n",
       "  <tbody>\n",
       "    <tr>\n",
       "      <th>f</th>\n",
       "      <td>40</td>\n",
       "      <td>40</td>\n",
       "      <td>40</td>\n",
       "    </tr>\n",
       "    <tr>\n",
       "      <th>m</th>\n",
       "      <td>44</td>\n",
       "      <td>44</td>\n",
       "      <td>44</td>\n",
       "    </tr>\n",
       "  </tbody>\n",
       "</table>\n",
       "</div>"
      ],
      "text/plain": [
       "        speaker  race  speaker_original\n",
       "gender                                 \n",
       "f            40    40                40\n",
       "m            44    44                44"
      ]
     },
     "execution_count": 75,
     "metadata": {},
     "output_type": "execute_result"
    }
   ],
   "source": [
    "black_df.drop_duplicates('speaker').groupby('gender').count()"
   ]
  },
  {
   "cell_type": "code",
   "execution_count": 76,
   "id": "fadb17cd",
   "metadata": {},
   "outputs": [],
   "source": [
    "# salva o dataframe com as classificações de pessoas pretas\n",
    "black_df.to_csv('../data/interview_black_speakers.csv',index=False)"
   ]
  },
  {
   "cell_type": "markdown",
   "id": "335e8871",
   "metadata": {},
   "source": [
    "# White\n",
    "O mesmo processo mas para pessoas brancas"
   ]
  },
  {
   "cell_type": "code",
   "execution_count": null,
   "id": "03c98071",
   "metadata": {},
   "outputs": [],
   "source": []
  },
  {
   "cell_type": "code",
   "execution_count": 77,
   "id": "0bcf5c27",
   "metadata": {},
   "outputs": [
    {
     "data": {
      "text/html": [
       "<div>\n",
       "<style scoped>\n",
       "    .dataframe tbody tr th:only-of-type {\n",
       "        vertical-align: middle;\n",
       "    }\n",
       "\n",
       "    .dataframe tbody tr th {\n",
       "        vertical-align: top;\n",
       "    }\n",
       "\n",
       "    .dataframe thead th {\n",
       "        text-align: right;\n",
       "    }\n",
       "</style>\n",
       "<table border=\"1\" class=\"dataframe\">\n",
       "  <thead>\n",
       "    <tr style=\"text-align: right;\">\n",
       "      <th></th>\n",
       "      <th>speaker</th>\n",
       "      <th>num</th>\n",
       "      <th>categories</th>\n",
       "      <th>url</th>\n",
       "    </tr>\n",
       "  </thead>\n",
       "  <tbody>\n",
       "    <tr>\n",
       "      <th>2519</th>\n",
       "      <td>mark schlissel</td>\n",
       "      <td>21</td>\n",
       "      <td>['1957 births', '20th-century american jews', ...</td>\n",
       "      <td>https://en.wikipedia.org/wiki/Mark_Schlissel</td>\n",
       "    </tr>\n",
       "    <tr>\n",
       "      <th>1680</th>\n",
       "      <td>jason glass</td>\n",
       "      <td>30</td>\n",
       "      <td>['1979 births', '20th-century american male ac...</td>\n",
       "      <td>https://en.wikipedia.org/wiki/Jason_Momoa</td>\n",
       "    </tr>\n",
       "    <tr>\n",
       "      <th>510</th>\n",
       "      <td>brent trout</td>\n",
       "      <td>39</td>\n",
       "      <td>['1976 births', '21st-century american politic...</td>\n",
       "      <td>https://en.wikipedia.org/wiki/Michelle_De_La_Isla</td>\n",
       "    </tr>\n",
       "    <tr>\n",
       "      <th>3532</th>\n",
       "      <td>peter kirkham</td>\n",
       "      <td>27</td>\n",
       "      <td>['1974 births', 'articles with short descripti...</td>\n",
       "      <td>https://en.wikipedia.org/wiki/Peter_Kirkham</td>\n",
       "    </tr>\n",
       "    <tr>\n",
       "      <th>4375</th>\n",
       "      <td>thomas gouttiere</td>\n",
       "      <td>27</td>\n",
       "      <td>['1890 establishments in california', '2005 di...</td>\n",
       "      <td>https://en.wikipedia.org/wiki/Unocal_Corporation</td>\n",
       "    </tr>\n",
       "    <tr>\n",
       "      <th>...</th>\n",
       "      <td>...</td>\n",
       "      <td>...</td>\n",
       "      <td>...</td>\n",
       "      <td>...</td>\n",
       "    </tr>\n",
       "    <tr>\n",
       "      <th>2754</th>\n",
       "      <td>mike murphy</td>\n",
       "      <td>46</td>\n",
       "      <td>['1941 births', 'all wikipedia articles writte...</td>\n",
       "      <td>https://en.wikipedia.org/wiki/Mike_Murphy</td>\n",
       "    </tr>\n",
       "    <tr>\n",
       "      <th>4154</th>\n",
       "      <td>shannon sedgwick davis</td>\n",
       "      <td>37</td>\n",
       "      <td>['cs1 maint: url-status', 'living people', 'ye...</td>\n",
       "      <td>https://en.wikipedia.org/wiki/Shannon_Sedgwick...</td>\n",
       "    </tr>\n",
       "    <tr>\n",
       "      <th>2043</th>\n",
       "      <td>julia greenberg</td>\n",
       "      <td>32</td>\n",
       "      <td>['1966 births', 'all blp articles lacking sour...</td>\n",
       "      <td>https://en.wikipedia.org/wiki/Robin_Goldwasser</td>\n",
       "    </tr>\n",
       "    <tr>\n",
       "      <th>1756</th>\n",
       "      <td>jennifer morgan</td>\n",
       "      <td>23</td>\n",
       "      <td>['1971 births', '21st-century american busines...</td>\n",
       "      <td>https://en.wikipedia.org/wiki/Jennifer_Morgan</td>\n",
       "    </tr>\n",
       "    <tr>\n",
       "      <th>4254</th>\n",
       "      <td>stephen wade</td>\n",
       "      <td>21</td>\n",
       "      <td>['1960 births', '21st-century australian polit...</td>\n",
       "      <td>https://en.wikipedia.org/wiki/Stephen_Wade</td>\n",
       "    </tr>\n",
       "  </tbody>\n",
       "</table>\n",
       "<p>4265 rows × 4 columns</p>\n",
       "</div>"
      ],
      "text/plain": [
       "                     speaker  num  \\\n",
       "2519          mark schlissel   21   \n",
       "1680             jason glass   30   \n",
       "510              brent trout   39   \n",
       "3532           peter kirkham   27   \n",
       "4375        thomas gouttiere   27   \n",
       "...                      ...  ...   \n",
       "2754             mike murphy   46   \n",
       "4154  shannon sedgwick davis   37   \n",
       "2043         julia greenberg   32   \n",
       "1756         jennifer morgan   23   \n",
       "4254            stephen wade   21   \n",
       "\n",
       "                                             categories  \\\n",
       "2519  ['1957 births', '20th-century american jews', ...   \n",
       "1680  ['1979 births', '20th-century american male ac...   \n",
       "510   ['1976 births', '21st-century american politic...   \n",
       "3532  ['1974 births', 'articles with short descripti...   \n",
       "4375  ['1890 establishments in california', '2005 di...   \n",
       "...                                                 ...   \n",
       "2754  ['1941 births', 'all wikipedia articles writte...   \n",
       "4154  ['cs1 maint: url-status', 'living people', 'ye...   \n",
       "2043  ['1966 births', 'all blp articles lacking sour...   \n",
       "1756  ['1971 births', '21st-century american busines...   \n",
       "4254  ['1960 births', '21st-century australian polit...   \n",
       "\n",
       "                                                    url  \n",
       "2519       https://en.wikipedia.org/wiki/Mark_Schlissel  \n",
       "1680          https://en.wikipedia.org/wiki/Jason_Momoa  \n",
       "510   https://en.wikipedia.org/wiki/Michelle_De_La_Isla  \n",
       "3532        https://en.wikipedia.org/wiki/Peter_Kirkham  \n",
       "4375   https://en.wikipedia.org/wiki/Unocal_Corporation  \n",
       "...                                                 ...  \n",
       "2754          https://en.wikipedia.org/wiki/Mike_Murphy  \n",
       "4154  https://en.wikipedia.org/wiki/Shannon_Sedgwick...  \n",
       "2043     https://en.wikipedia.org/wiki/Robin_Goldwasser  \n",
       "1756      https://en.wikipedia.org/wiki/Jennifer_Morgan  \n",
       "4254         https://en.wikipedia.org/wiki/Stephen_Wade  \n",
       "\n",
       "[4265 rows x 4 columns]"
      ]
     },
     "execution_count": 77,
     "metadata": {},
     "output_type": "execute_result"
    }
   ],
   "source": [
    "probably_white = black_spkrs[ ~ black_spkrs.speaker.isin(black_spkrs_cut.speaker)]\n",
    "probably_white = probably_white.sample(frac=1)\n",
    "probably_white"
   ]
  },
  {
   "cell_type": "code",
   "execution_count": 116,
   "id": "33691ed4",
   "metadata": {},
   "outputs": [
    {
     "data": {
      "text/html": [
       "<div>\n",
       "<style scoped>\n",
       "    .dataframe tbody tr th:only-of-type {\n",
       "        vertical-align: middle;\n",
       "    }\n",
       "\n",
       "    .dataframe tbody tr th {\n",
       "        vertical-align: top;\n",
       "    }\n",
       "\n",
       "    .dataframe thead th {\n",
       "        text-align: right;\n",
       "    }\n",
       "</style>\n",
       "<table border=\"1\" class=\"dataframe\">\n",
       "  <thead>\n",
       "    <tr style=\"text-align: right;\">\n",
       "      <th></th>\n",
       "      <th>speaker</th>\n",
       "      <th>num</th>\n",
       "      <th>categories</th>\n",
       "      <th>url</th>\n",
       "    </tr>\n",
       "  </thead>\n",
       "  <tbody>\n",
       "    <tr>\n",
       "      <th>2078</th>\n",
       "      <td>kamin mohammadi</td>\n",
       "      <td>41</td>\n",
       "      <td>['1970 births', 'articles with nkc identifiers...</td>\n",
       "      <td>https://en.wikipedia.org/wiki/Kamin_Mohammadi</td>\n",
       "    </tr>\n",
       "    <tr>\n",
       "      <th>2098</th>\n",
       "      <td>karoun demirjian</td>\n",
       "      <td>35</td>\n",
       "      <td>['1982 births', '21st-century american guitari...</td>\n",
       "      <td>https://en.wikipedia.org/wiki/Karoun_Demirjian</td>\n",
       "    </tr>\n",
       "    <tr>\n",
       "      <th>3697</th>\n",
       "      <td>rachel held evans</td>\n",
       "      <td>54</td>\n",
       "      <td>['1981 births', '2019 deaths', '21st-century a...</td>\n",
       "      <td>https://en.wikipedia.org/wiki/Rachel_Held_Evans</td>\n",
       "    </tr>\n",
       "    <tr>\n",
       "      <th>1758</th>\n",
       "      <td>jennifer pahlka</td>\n",
       "      <td>26</td>\n",
       "      <td>['1969 births', '21st-century american women',...</td>\n",
       "      <td>https://en.wikipedia.org/wiki/Jennifer_Pahlka</td>\n",
       "    </tr>\n",
       "    <tr>\n",
       "      <th>355</th>\n",
       "      <td>barbara lynch</td>\n",
       "      <td>59</td>\n",
       "      <td>['21st-century american women', 'american chef...</td>\n",
       "      <td>https://en.wikipedia.org/wiki/Barbara_Lynch_(r...</td>\n",
       "    </tr>\n",
       "    <tr>\n",
       "      <th>1751</th>\n",
       "      <td>jennifer horn</td>\n",
       "      <td>25</td>\n",
       "      <td>['1964 births', '20th-century american journal...</td>\n",
       "      <td>https://en.wikipedia.org/wiki/Jennifer_Horn</td>\n",
       "    </tr>\n",
       "    <tr>\n",
       "      <th>505</th>\n",
       "      <td>brenda martinez</td>\n",
       "      <td>45</td>\n",
       "      <td>['1987 births', '21st-century american women',...</td>\n",
       "      <td>https://en.wikipedia.org/wiki/Brenda_Martinez</td>\n",
       "    </tr>\n",
       "    <tr>\n",
       "      <th>582</th>\n",
       "      <td>carla power</td>\n",
       "      <td>21</td>\n",
       "      <td>['21st-century american non-fiction writers', ...</td>\n",
       "      <td>https://en.wikipedia.org/wiki/Carla_Power</td>\n",
       "    </tr>\n",
       "    <tr>\n",
       "      <th>2368</th>\n",
       "      <td>lisa gornick</td>\n",
       "      <td>33</td>\n",
       "      <td>['1970 births', '20th-century lgbt people', '2...</td>\n",
       "      <td>https://en.wikipedia.org/wiki/Lisa_Gornick</td>\n",
       "    </tr>\n",
       "    <tr>\n",
       "      <th>1545</th>\n",
       "      <td>hope solo</td>\n",
       "      <td>87</td>\n",
       "      <td>['1981 births', \"2007 fifa women's world cup p...</td>\n",
       "      <td>https://en.wikipedia.org/wiki/Hope_Solo</td>\n",
       "    </tr>\n",
       "  </tbody>\n",
       "</table>\n",
       "</div>"
      ],
      "text/plain": [
       "                speaker  num  \\\n",
       "2078    kamin mohammadi   41   \n",
       "2098   karoun demirjian   35   \n",
       "3697  rachel held evans   54   \n",
       "1758    jennifer pahlka   26   \n",
       "355       barbara lynch   59   \n",
       "1751      jennifer horn   25   \n",
       "505     brenda martinez   45   \n",
       "582         carla power   21   \n",
       "2368       lisa gornick   33   \n",
       "1545          hope solo   87   \n",
       "\n",
       "                                             categories  \\\n",
       "2078  ['1970 births', 'articles with nkc identifiers...   \n",
       "2098  ['1982 births', '21st-century american guitari...   \n",
       "3697  ['1981 births', '2019 deaths', '21st-century a...   \n",
       "1758  ['1969 births', '21st-century american women',...   \n",
       "355   ['21st-century american women', 'american chef...   \n",
       "1751  ['1964 births', '20th-century american journal...   \n",
       "505   ['1987 births', '21st-century american women',...   \n",
       "582   ['21st-century american non-fiction writers', ...   \n",
       "2368  ['1970 births', '20th-century lgbt people', '2...   \n",
       "1545  ['1981 births', \"2007 fifa women's world cup p...   \n",
       "\n",
       "                                                    url  \n",
       "2078      https://en.wikipedia.org/wiki/Kamin_Mohammadi  \n",
       "2098     https://en.wikipedia.org/wiki/Karoun_Demirjian  \n",
       "3697    https://en.wikipedia.org/wiki/Rachel_Held_Evans  \n",
       "1758      https://en.wikipedia.org/wiki/Jennifer_Pahlka  \n",
       "355   https://en.wikipedia.org/wiki/Barbara_Lynch_(r...  \n",
       "1751        https://en.wikipedia.org/wiki/Jennifer_Horn  \n",
       "505       https://en.wikipedia.org/wiki/Brenda_Martinez  \n",
       "582           https://en.wikipedia.org/wiki/Carla_Power  \n",
       "2368         https://en.wikipedia.org/wiki/Lisa_Gornick  \n",
       "1545            https://en.wikipedia.org/wiki/Hope_Solo  "
      ]
     },
     "execution_count": 116,
     "metadata": {},
     "output_type": "execute_result"
    }
   ],
   "source": [
    "#apos classificar sem esse filtro, ja obtive um numero suficiente de homens entao com o filtro, escolhemos somente mulheres\n",
    "i = 40\n",
    "probably_white[probably_white.categories.str.lower().str.contains('female') | probably_white.categories.str.lower().str.contains('women')].iloc[i:i+10]"
   ]
  },
  {
   "cell_type": "code",
   "execution_count": 117,
   "id": "2d5d19a5",
   "metadata": {},
   "outputs": [
    {
     "data": {
      "text/plain": [
       "'https://en.wikipedia.org/wiki/Barbara_Lynch_(restaurateur)'"
      ]
     },
     "execution_count": 117,
     "metadata": {},
     "output_type": "execute_result"
    }
   ],
   "source": [
    "probably_white[probably_white.speaker=='barbara lynch'].iloc[0].url"
   ]
  },
  {
   "cell_type": "code",
   "execution_count": 129,
   "id": "8c777a6c",
   "metadata": {},
   "outputs": [],
   "source": [
    "white_classifications = {\n",
    "    'andrew chamberlain': f,\n",
    "    'reese witherspoon': f,\n",
    "    'karoun demirjian': f,\n",
    "    'rachel held evans': f,\n",
    "    'jennifer pahlka': f,\n",
    "    'barbara lynch': f,\n",
    "    'jennifer horn': f,\n",
    "    'carla power': f,\n",
    "    'lisa gornick': f,\n",
    "\n",
    "\n",
    "    'deputy finance minister jens spahn': m,\n",
    "    'dr. david morrison': m,\n",
    "    'neil frank': m,\n",
    "    'frederick schauer': m,\n",
    "    'rebecca stott': f,\n",
    "    'former secretary of defense william perry': m,\n",
    "    'diane roberts': f,\n",
    "    'tom colicchio': m,\n",
    "    'burton malkiel': m,\n",
    "    'steve cohen': m,\n",
    "    'thomas pierce': m,\n",
    "    'james comer': m,\n",
    "    'julissa arce': f,\n",
    "    'chris murphy': m,\n",
    "    'mark osler': m,\n",
    "    'jay caspian kang': m,\n",
    "    'klint kesto': m,\n",
    "    'rebecca traister': f,\n",
    "    'tristan harris': m,\n",
    "    'jeanne shaheen': f,\n",
    "    'mark rozell': m,\n",
    "    \n",
    "    'kathy gannon': f,\n",
    "    'christie aschwanden': f,\n",
    "    'juleen zierath': f,\n",
    "    'jennifer ouellette': f,\n",
    "    'wendy doniger': f,\n",
    "    'john faso': m,\n",
    "    'michelle fields': f,\n",
    "    'bernard wasserstein': m,\n",
    "    'victoria martin': f,\n",
    "    'john rizzo': m,\n",
    "    'leonard lance': m,\n",
    "    'grant wahl': m,\n",
    "    'john luther adams': m,\n",
    "    'joshua keating': m,\n",
    "    'diane roberts': f,\n",
    "    'john carreyrou': m,\n",
    "    'professor michael gerhardt': m,\n",
    "    'morgan downey': m,\n",
    "    'zachary lazar': m,\n",
    "    'tom fox': m,\n",
    "    'stephen townsend': m,\n",
    "    'senator carl levin': m,\n",
    "\n",
    "    'andrew walker': m,\n",
    "    'jennifer horn': m,\n",
    "    'stuart bowen': m,\n",
    "    'richard cordray': m,\n",
    "    'sean trende': m,\n",
    "    'nancy mceldowney': f,\n",
    "    'gretchen morgenson': f,\n",
    "    'roger scully': m,\n",
    "    'sean trende': m,\n",
    "    'nancy mceldowney': f,\n",
    "    'craig whitlock': m,\n",
    "    'elaine duke': f,\n",
    "    'rachel browne': f,\n",
    "    'tom foreman': m,\n",
    "    'richard clarke': m,\n",
    "    'steve mccurry': m,\n",
    "    'steve mccurry': m,\n",
    "    'tom kent': m,\n",
    "    'elliot goldenthal': m,\n",
    "    'eric shinseki': m,\n",
    "\n",
    "    'deborah blum': f,    \n",
    "\n",
    "    'ilyana kuziemko': f,\n",
    "    'diane douglas': f,\n",
    "    'louise erdrich': f,\n",
    "    'kim gandy': f,\n",
    "    'mayor nan whaley': f,\n",
    "    'helen rosner': f,\n",
    "    'martha mendoza': f,\n",
    "    'professor julia clarke': f,\n",
    "    'kelly mcbride': f,\n",
    "    'karen dawisha': f,\n",
    "    'marilyn tavenner': f,\n",
    "    'dionne searcey': f,\n",
    "    'jennifer michael hecht': f,\n",
    "    'emily dreyfuss': f,\n",
    "    'micheline calmy-rey': f,\n",
    "    'governor chris gregoire': f,\n",
    "    'natalie babbitt': f,\n",
    "    'ann selzer': f,\n",
    "}"
   ]
  },
  {
   "cell_type": "code",
   "execution_count": 130,
   "id": "97c02f72",
   "metadata": {},
   "outputs": [
    {
     "data": {
      "text/html": [
       "<div>\n",
       "<style scoped>\n",
       "    .dataframe tbody tr th:only-of-type {\n",
       "        vertical-align: middle;\n",
       "    }\n",
       "\n",
       "    .dataframe tbody tr th {\n",
       "        vertical-align: top;\n",
       "    }\n",
       "\n",
       "    .dataframe thead th {\n",
       "        text-align: right;\n",
       "    }\n",
       "</style>\n",
       "<table border=\"1\" class=\"dataframe\">\n",
       "  <thead>\n",
       "    <tr style=\"text-align: right;\">\n",
       "      <th></th>\n",
       "      <th>speaker</th>\n",
       "      <th>gender</th>\n",
       "      <th>race</th>\n",
       "      <th>speaker_original</th>\n",
       "    </tr>\n",
       "  </thead>\n",
       "  <tbody>\n",
       "    <tr>\n",
       "      <th>0</th>\n",
       "      <td>andrew chamberlain</td>\n",
       "      <td>f</td>\n",
       "      <td>white</td>\n",
       "      <td>andrew chamberlain</td>\n",
       "    </tr>\n",
       "    <tr>\n",
       "      <th>1</th>\n",
       "      <td>reese witherspoon</td>\n",
       "      <td>f</td>\n",
       "      <td>white</td>\n",
       "      <td>reese witherspoon</td>\n",
       "    </tr>\n",
       "    <tr>\n",
       "      <th>2</th>\n",
       "      <td>karoun demirjian</td>\n",
       "      <td>f</td>\n",
       "      <td>white</td>\n",
       "      <td>karoun demirjian</td>\n",
       "    </tr>\n",
       "    <tr>\n",
       "      <th>3</th>\n",
       "      <td>rachel held evans</td>\n",
       "      <td>f</td>\n",
       "      <td>white</td>\n",
       "      <td>rachel held evans</td>\n",
       "    </tr>\n",
       "    <tr>\n",
       "      <th>4</th>\n",
       "      <td>jennifer pahlka</td>\n",
       "      <td>f</td>\n",
       "      <td>white</td>\n",
       "      <td>jennifer pahlka</td>\n",
       "    </tr>\n",
       "  </tbody>\n",
       "</table>\n",
       "</div>"
      ],
      "text/plain": [
       "              speaker gender   race    speaker_original\n",
       "0  andrew chamberlain      f  white  andrew chamberlain\n",
       "1   reese witherspoon      f  white   reese witherspoon\n",
       "2    karoun demirjian      f  white    karoun demirjian\n",
       "3   rachel held evans      f  white   rachel held evans\n",
       "4     jennifer pahlka      f  white     jennifer pahlka"
      ]
     },
     "execution_count": 130,
     "metadata": {},
     "output_type": "execute_result"
    }
   ],
   "source": [
    "white_df = pd.DataFrame.from_dict(white_classifications,orient='index').reset_index().rename(columns={0:'gender','index':'speaker'})\n",
    "white_df['race'] = 'white'\n",
    "white_df = white_df.merge(s_num[['speaker_original','speaker']],how='left')\n",
    "white_df.head()"
   ]
  },
  {
   "cell_type": "code",
   "execution_count": 131,
   "id": "e2f860ca",
   "metadata": {},
   "outputs": [
    {
     "data": {
      "text/html": [
       "<div>\n",
       "<style scoped>\n",
       "    .dataframe tbody tr th:only-of-type {\n",
       "        vertical-align: middle;\n",
       "    }\n",
       "\n",
       "    .dataframe tbody tr th {\n",
       "        vertical-align: top;\n",
       "    }\n",
       "\n",
       "    .dataframe thead th {\n",
       "        text-align: right;\n",
       "    }\n",
       "</style>\n",
       "<table border=\"1\" class=\"dataframe\">\n",
       "  <thead>\n",
       "    <tr style=\"text-align: right;\">\n",
       "      <th></th>\n",
       "      <th>speaker</th>\n",
       "      <th>gender</th>\n",
       "      <th>race</th>\n",
       "      <th>speaker_original</th>\n",
       "    </tr>\n",
       "  </thead>\n",
       "  <tbody>\n",
       "    <tr>\n",
       "      <th>15</th>\n",
       "      <td>diane roberts</td>\n",
       "      <td>f</td>\n",
       "      <td>white</td>\n",
       "      <td>diane roberts</td>\n",
       "    </tr>\n",
       "    <tr>\n",
       "      <th>16</th>\n",
       "      <td>diane roberts</td>\n",
       "      <td>f</td>\n",
       "      <td>white</td>\n",
       "      <td>diane roberts, byline</td>\n",
       "    </tr>\n",
       "  </tbody>\n",
       "</table>\n",
       "</div>"
      ],
      "text/plain": [
       "          speaker gender   race       speaker_original\n",
       "15  diane roberts      f  white          diane roberts\n",
       "16  diane roberts      f  white  diane roberts, byline"
      ]
     },
     "execution_count": 131,
     "metadata": {},
     "output_type": "execute_result"
    }
   ],
   "source": [
    "#duplicates\n",
    "white_df[white_df.speaker.duplicated(keep=False)]"
   ]
  },
  {
   "cell_type": "code",
   "execution_count": 132,
   "id": "615cf087",
   "metadata": {},
   "outputs": [
    {
     "data": {
      "text/html": [
       "<div>\n",
       "<style scoped>\n",
       "    .dataframe tbody tr th:only-of-type {\n",
       "        vertical-align: middle;\n",
       "    }\n",
       "\n",
       "    .dataframe tbody tr th {\n",
       "        vertical-align: top;\n",
       "    }\n",
       "\n",
       "    .dataframe thead th {\n",
       "        text-align: right;\n",
       "    }\n",
       "</style>\n",
       "<table border=\"1\" class=\"dataframe\">\n",
       "  <thead>\n",
       "    <tr style=\"text-align: right;\">\n",
       "      <th></th>\n",
       "      <th>speaker</th>\n",
       "      <th>race</th>\n",
       "      <th>speaker_original</th>\n",
       "    </tr>\n",
       "    <tr>\n",
       "      <th>gender</th>\n",
       "      <th></th>\n",
       "      <th></th>\n",
       "      <th></th>\n",
       "    </tr>\n",
       "  </thead>\n",
       "  <tbody>\n",
       "    <tr>\n",
       "      <th>f</th>\n",
       "      <td>43</td>\n",
       "      <td>43</td>\n",
       "      <td>43</td>\n",
       "    </tr>\n",
       "    <tr>\n",
       "      <th>m</th>\n",
       "      <td>43</td>\n",
       "      <td>43</td>\n",
       "      <td>43</td>\n",
       "    </tr>\n",
       "  </tbody>\n",
       "</table>\n",
       "</div>"
      ],
      "text/plain": [
       "        speaker  race  speaker_original\n",
       "gender                                 \n",
       "f            43    43                43\n",
       "m            43    43                43"
      ]
     },
     "execution_count": 132,
     "metadata": {},
     "output_type": "execute_result"
    }
   ],
   "source": [
    "white_df.drop_duplicates('speaker').groupby('gender').count()"
   ]
  },
  {
   "cell_type": "code",
   "execution_count": 133,
   "id": "5e4fc6f6",
   "metadata": {},
   "outputs": [],
   "source": [
    "white_df.to_csv('../data/interview_white_speakers.csv',index=False)"
   ]
  },
  {
   "cell_type": "markdown",
   "id": "30038b89",
   "metadata": {},
   "source": [
    "# Juntandos todos dfs\n",
    "Junta e salva os dados no caminho especificado"
   ]
  },
  {
   "cell_type": "code",
   "execution_count": 135,
   "id": "e1a528b5",
   "metadata": {},
   "outputs": [],
   "source": [
    "df = pd.concat([white_df,black_df])"
   ]
  },
  {
   "cell_type": "code",
   "execution_count": 136,
   "id": "e91cf757",
   "metadata": {},
   "outputs": [
    {
     "data": {
      "text/html": [
       "<div>\n",
       "<style scoped>\n",
       "    .dataframe tbody tr th:only-of-type {\n",
       "        vertical-align: middle;\n",
       "    }\n",
       "\n",
       "    .dataframe tbody tr th {\n",
       "        vertical-align: top;\n",
       "    }\n",
       "\n",
       "    .dataframe thead th {\n",
       "        text-align: right;\n",
       "    }\n",
       "</style>\n",
       "<table border=\"1\" class=\"dataframe\">\n",
       "  <thead>\n",
       "    <tr style=\"text-align: right;\">\n",
       "      <th></th>\n",
       "      <th>speaker</th>\n",
       "      <th>gender</th>\n",
       "      <th>race</th>\n",
       "      <th>speaker_original</th>\n",
       "    </tr>\n",
       "  </thead>\n",
       "  <tbody>\n",
       "    <tr>\n",
       "      <th>15</th>\n",
       "      <td>diane roberts</td>\n",
       "      <td>f</td>\n",
       "      <td>white</td>\n",
       "      <td>diane roberts</td>\n",
       "    </tr>\n",
       "    <tr>\n",
       "      <th>16</th>\n",
       "      <td>diane roberts</td>\n",
       "      <td>f</td>\n",
       "      <td>white</td>\n",
       "      <td>diane roberts, byline</td>\n",
       "    </tr>\n",
       "    <tr>\n",
       "      <th>22</th>\n",
       "      <td>john ridley</td>\n",
       "      <td>m</td>\n",
       "      <td>black</td>\n",
       "      <td>john ridley</td>\n",
       "    </tr>\n",
       "    <tr>\n",
       "      <th>23</th>\n",
       "      <td>john ridley</td>\n",
       "      <td>m</td>\n",
       "      <td>black</td>\n",
       "      <td>john ridley, byline</td>\n",
       "    </tr>\n",
       "    <tr>\n",
       "      <th>50</th>\n",
       "      <td>stephen henderson</td>\n",
       "      <td>m</td>\n",
       "      <td>black</td>\n",
       "      <td>stephen henderson</td>\n",
       "    </tr>\n",
       "    <tr>\n",
       "      <th>51</th>\n",
       "      <td>stephen henderson</td>\n",
       "      <td>m</td>\n",
       "      <td>black</td>\n",
       "      <td>stephen henderson, byline</td>\n",
       "    </tr>\n",
       "  </tbody>\n",
       "</table>\n",
       "</div>"
      ],
      "text/plain": [
       "              speaker gender   race           speaker_original\n",
       "15      diane roberts      f  white              diane roberts\n",
       "16      diane roberts      f  white      diane roberts, byline\n",
       "22        john ridley      m  black                john ridley\n",
       "23        john ridley      m  black        john ridley, byline\n",
       "50  stephen henderson      m  black          stephen henderson\n",
       "51  stephen henderson      m  black  stephen henderson, byline"
      ]
     },
     "execution_count": 136,
     "metadata": {},
     "output_type": "execute_result"
    }
   ],
   "source": [
    "#duplicates\n",
    "df[df.speaker.duplicated(keep=False)]"
   ]
  },
  {
   "cell_type": "code",
   "execution_count": 139,
   "id": "fb503dcf",
   "metadata": {},
   "outputs": [
    {
     "data": {
      "text/html": [
       "<div>\n",
       "<style scoped>\n",
       "    .dataframe tbody tr th:only-of-type {\n",
       "        vertical-align: middle;\n",
       "    }\n",
       "\n",
       "    .dataframe tbody tr th {\n",
       "        vertical-align: top;\n",
       "    }\n",
       "\n",
       "    .dataframe thead th {\n",
       "        text-align: right;\n",
       "    }\n",
       "</style>\n",
       "<table border=\"1\" class=\"dataframe\">\n",
       "  <thead>\n",
       "    <tr style=\"text-align: right;\">\n",
       "      <th></th>\n",
       "      <th></th>\n",
       "      <th>speaker</th>\n",
       "      <th>speaker_original</th>\n",
       "    </tr>\n",
       "    <tr>\n",
       "      <th>race</th>\n",
       "      <th>gender</th>\n",
       "      <th></th>\n",
       "      <th></th>\n",
       "    </tr>\n",
       "  </thead>\n",
       "  <tbody>\n",
       "    <tr>\n",
       "      <th rowspan=\"2\" valign=\"top\">black</th>\n",
       "      <th>f</th>\n",
       "      <td>40</td>\n",
       "      <td>40</td>\n",
       "    </tr>\n",
       "    <tr>\n",
       "      <th>m</th>\n",
       "      <td>44</td>\n",
       "      <td>44</td>\n",
       "    </tr>\n",
       "    <tr>\n",
       "      <th rowspan=\"2\" valign=\"top\">white</th>\n",
       "      <th>f</th>\n",
       "      <td>43</td>\n",
       "      <td>43</td>\n",
       "    </tr>\n",
       "    <tr>\n",
       "      <th>m</th>\n",
       "      <td>43</td>\n",
       "      <td>43</td>\n",
       "    </tr>\n",
       "  </tbody>\n",
       "</table>\n",
       "</div>"
      ],
      "text/plain": [
       "              speaker  speaker_original\n",
       "race  gender                           \n",
       "black f            40                40\n",
       "      m            44                44\n",
       "white f            43                43\n",
       "      m            43                43"
      ]
     },
     "execution_count": 139,
     "metadata": {},
     "output_type": "execute_result"
    }
   ],
   "source": [
    "df.drop_duplicates('speaker').groupby(['race','gender']).count()"
   ]
  },
  {
   "cell_type": "code",
   "execution_count": 141,
   "id": "a048cc7b",
   "metadata": {},
   "outputs": [],
   "source": [
    "df.to_csv('../data/00_raw/interview/classifications/all.csv',index=False)"
   ]
  },
  {
   "cell_type": "code",
   "execution_count": null,
   "id": "c45e767a",
   "metadata": {},
   "outputs": [],
   "source": []
  }
 ],
 "metadata": {
  "interpreter": {
   "hash": "716bd3ad375c41b9a51e5bdb0fea9e61f5f5b3cdf5599be47497d0ef2a02897b"
  },
  "kernelspec": {
   "display_name": "Python 3.10.4 ('fake')",
   "language": "python",
   "name": "python3"
  },
  "language_info": {
   "codemirror_mode": {
    "name": "ipython",
    "version": 3
   },
   "file_extension": ".py",
   "mimetype": "text/x-python",
   "name": "python",
   "nbconvert_exporter": "python",
   "pygments_lexer": "ipython3",
   "version": "3.10.4"
  }
 },
 "nbformat": 4,
 "nbformat_minor": 5
}
