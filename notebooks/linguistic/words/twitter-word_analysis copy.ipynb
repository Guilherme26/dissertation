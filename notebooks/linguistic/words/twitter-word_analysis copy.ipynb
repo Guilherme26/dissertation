{
 "cells": [
  {
   "cell_type": "code",
   "execution_count": 1,
   "metadata": {},
   "outputs": [],
   "source": [
    "import numpy as np\n",
    "import pandas as pd\n",
    "from liwc import Liwc\n",
    "from matplotlib import pyplot as plt\n",
    "import seaborn as sns\n",
    "import json\n",
    "from tqdm import tqdm\n",
    "import scipy\n",
    "import glob\n",
    "import re\n",
    "import yaml\n",
    "import warnings\n",
    "import nltk\n",
    "warnings.filterwarnings(\"ignore\")\n",
    "tqdm.pandas()\n",
    "\n",
    "import scipy.stats as stats\n",
    "\n",
    "filepaths = yaml.safe_load(open(\"../../../config/filepaths.yaml\"))\n",
    "\n",
    "import sys\n",
    "sys.path.append(filepaths['utils'])\n",
    "from data import *\n",
    "from liwc_utils import *\n",
    "from analisys import *"
   ]
  },
  {
   "cell_type": "code",
   "execution_count": 2,
   "metadata": {},
   "outputs": [
    {
     "data": {
      "text/plain": [
       "<matplotlib.pyplot._IonContext at 0x7faaed95ae60>"
      ]
     },
     "execution_count": 2,
     "metadata": {},
     "output_type": "execute_result"
    }
   ],
   "source": [
    "plt.rcParams['axes.labelsize']  = 14 # fontes no tamanho usado no template\n",
    "plt.rcParams['axes.titlesize']  = 14\n",
    "plt.rcParams['legend.fontsize'] = 14\n",
    "plt.rcParams['xtick.labelsize'] = 14\n",
    "plt.rcParams['ytick.labelsize'] = 14\n",
    "plt.rcParams['font.family'] = 'serif'\n",
    "# plt.rcParams['text.usetex'] = True\n",
    "plt.rcParams['lines.linewidth'] = 1.5\n",
    "\n",
    "plt.style.use('tableau-colorblind10') # use um estilo colorblind!\n",
    "plt.ion()"
   ]
  },
  {
   "cell_type": "markdown",
   "metadata": {},
   "source": [
    "---"
   ]
  },
  {
   "cell_type": "code",
   "execution_count": 3,
   "metadata": {},
   "outputs": [
    {
     "data": {
      "text/html": [
       "<div>\n",
       "<style scoped>\n",
       "    .dataframe tbody tr th:only-of-type {\n",
       "        vertical-align: middle;\n",
       "    }\n",
       "\n",
       "    .dataframe tbody tr th {\n",
       "        vertical-align: top;\n",
       "    }\n",
       "\n",
       "    .dataframe thead th {\n",
       "        text-align: right;\n",
       "    }\n",
       "</style>\n",
       "<table border=\"1\" class=\"dataframe\">\n",
       "  <thead>\n",
       "    <tr style=\"text-align: right;\">\n",
       "      <th></th>\n",
       "      <th>text</th>\n",
       "      <th>perspective_score</th>\n",
       "      <th>flair_score</th>\n",
       "      <th>textblob_score</th>\n",
       "      <th>vader_score</th>\n",
       "      <th>detoxify_original_score</th>\n",
       "      <th>detoxify_unbiased_score</th>\n",
       "      <th>detoxify_multilingual_score</th>\n",
       "      <th>has_swearing</th>\n",
       "      <th>file</th>\n",
       "      <th>group</th>\n",
       "    </tr>\n",
       "  </thead>\n",
       "  <tbody>\n",
       "    <tr>\n",
       "      <th>0</th>\n",
       "      <td>@user wat r u doin boy</td>\n",
       "      <td>0.037538</td>\n",
       "      <td>0.0</td>\n",
       "      <td>0.0</td>\n",
       "      <td>0.0</td>\n",
       "      <td>0.048113</td>\n",
       "      <td>0.014581</td>\n",
       "      <td>0.146005</td>\n",
       "      <td>False</td>\n",
       "      <td>aa_112.csv</td>\n",
       "      <td>aa</td>\n",
       "    </tr>\n",
       "  </tbody>\n",
       "</table>\n",
       "</div>"
      ],
      "text/plain": [
       "                     text  perspective_score  flair_score  textblob_score  \\\n",
       "0  @user wat r u doin boy           0.037538          0.0             0.0   \n",
       "\n",
       "   vader_score  detoxify_original_score  detoxify_unbiased_score  \\\n",
       "0          0.0                 0.048113                 0.014581   \n",
       "\n",
       "   detoxify_multilingual_score  has_swearing        file group  \n",
       "0                     0.146005         False  aa_112.csv    aa  "
      ]
     },
     "execution_count": 3,
     "metadata": {},
     "output_type": "execute_result"
    }
   ],
   "source": [
    "DATASET = 'twitter' # 'coraal-buckeye' | 'twitter' | 'youtube' | 'interview'\n",
    "\n",
    "data = load_dataset(DATASET)\n",
    "data.head(1)"
   ]
  },
  {
   "cell_type": "code",
   "execution_count": 4,
   "metadata": {},
   "outputs": [],
   "source": [
    "df = data.copy()\n",
    "df['text'] = df['text'].apply(lambda x: re.sub(\"[^\\w\\d'\\s]+\",'',x))\n",
    "df['len'] = df.text.str.split(' ').str.len()\n",
    "df['words'] = df.text.str.split(' ')"
   ]
  },
  {
   "cell_type": "markdown",
   "metadata": {},
   "source": [
    "---"
   ]
  },
  {
   "cell_type": "code",
   "execution_count": 5,
   "metadata": {},
   "outputs": [],
   "source": [
    "def count_word(df,word,group): \n",
    "    return df[df.group.str.contains(group)].words.apply(lambda x: x.count(word)).sum()\n",
    "\n",
    "def group_total_words(df,group):\n",
    "    return df[df.group.str.contains(group)].len.sum()\n",
    "\n",
    "def contain_word_idx(df,word):\n",
    "    return df.words.apply(lambda x: word in x)\n",
    "\n",
    "def calc_word_freq(df,word,group):    \n",
    "    return count_word(df,word,group) / group_total_words(df,group)"
   ]
  },
  {
   "cell_type": "code",
   "execution_count": 6,
   "metadata": {},
   "outputs": [],
   "source": [
    "def sequence_ocurences_in_list(sequence,list):\n",
    "    \"\"\"\n",
    "    count the number of times a sequence appears in a list\n",
    "    \"\"\"\n",
    "    i = 0\n",
    "    count = 0\n",
    "    while i < len(list):\n",
    "        if list[i:i+len(sequence)] == sequence:\n",
    "            count += 1\n",
    "        i += 1\n",
    "    return count\n",
    "\n",
    "def count_sequence(df,sequence,group):\n",
    "    return df[df.group.str.contains(group)].words.apply(lambda x: sequence_ocurences_in_list(sequence,x)).sum()\n",
    "\n",
    "def contain_sequence_idx(df,sequence):\n",
    "    return df.words.apply(lambda x: sequence_ocurences_in_list(sequence,x)) > 0\n",
    "\n",
    "def calc_sequence_freq(df,sequence,group):    \n",
    "    return count_sequence(df,sequence,group) / group_total_words(df,group)\n",
    "\n",
    "def calc_freq(df,x,group):\n",
    "    if isinstance(x,str):\n",
    "        return calc_word_freq(df,x,group)\n",
    "    elif isinstance(x,list):\n",
    "        return calc_sequence_freq(df,x,group)\n",
    "    else:\n",
    "        raise ValueError('x must be a string or a list')\n",
    "\n",
    "def contain_term_idx(df,term):\n",
    "    if isinstance(term,str):\n",
    "        return contain_word_idx(df,term)\n",
    "    elif isinstance(term,list):\n",
    "        return contain_sequence_idx(df,term)\n",
    "    else:\n",
    "        raise ValueError('term must be a string or a list')"
   ]
  },
  {
   "cell_type": "markdown",
   "metadata": {},
   "source": [
    "---"
   ]
  },
  {
   "cell_type": "markdown",
   "metadata": {},
   "source": [
    "# Individual word analysis"
   ]
  },
  {
   "cell_type": "markdown",
   "metadata": {},
   "source": [
    "## Terms more used by black\n",
    "Table 5: https://www.jstor.org/stable/pdf/455845.pdf"
   ]
  },
  {
   "cell_type": "code",
   "execution_count": 10,
   "metadata": {},
   "outputs": [
    {
     "name": "stdout",
     "output_type": "stream",
     "text": [
      "0.0009765625 3 3072\n",
      "0.0011350737797956867 4 3524\n"
     ]
    }
   ],
   "source": [
    "word = 'bad'\n",
    "print(calc_word_freq(df,word,'aa'), count_word(df,word,'aa'), group_total_words(df,'aa'))\n",
    "print(calc_word_freq(df,word,'wh'), count_word(df,word,'wh'), group_total_words(df,'wh'))"
   ]
  },
  {
   "cell_type": "code",
   "execution_count": 11,
   "metadata": {},
   "outputs": [
    {
     "name": "stdout",
     "output_type": "stream",
     "text": [
      "0.0 0 3072\n",
      "0.0 0 3524\n"
     ]
    }
   ],
   "source": [
    "word = 'bougie'\n",
    "print(calc_word_freq(df,word,'aa'), count_word(df,word,'aa'), group_total_words(df,'aa'))\n",
    "print(calc_word_freq(df,word,'wh'), count_word(df,word,'wh'), group_total_words(df,'wh'))"
   ]
  },
  {
   "cell_type": "code",
   "execution_count": 12,
   "metadata": {},
   "outputs": [
    {
     "name": "stdout",
     "output_type": "stream",
     "text": [
      "0.0 0 3072\n",
      "0.0 0 3524\n"
     ]
    }
   ],
   "source": [
    "sequence = ['busting','out']\n",
    "print(calc_sequence_freq(df,sequence,'aa'), count_sequence(df,sequence,'aa'), group_total_words(df,'aa'))\n",
    "print(calc_sequence_freq(df,sequence,'wh'), count_sequence(df,sequence,'wh'), group_total_words(df,'wh'))"
   ]
  },
  {
   "cell_type": "code",
   "execution_count": 13,
   "metadata": {},
   "outputs": [
    {
     "name": "stdout",
     "output_type": "stream",
     "text": [
      "0.0 0 3072\n",
      "0.0 0 3524\n"
     ]
    }
   ],
   "source": [
    "word = 'freak'\n",
    "print(calc_word_freq(df,word,'aa'), count_word(df,word,'aa'), group_total_words(df,'aa'))\n",
    "print(calc_word_freq(df,word,'wh'), count_word(df,word,'wh'), group_total_words(df,'wh'))"
   ]
  },
  {
   "cell_type": "code",
   "execution_count": 14,
   "metadata": {},
   "outputs": [
    {
     "name": "stdout",
     "output_type": "stream",
     "text": [
      "0.0 0 3072\n",
      "0.00028376844494892167 1 3524\n"
     ]
    }
   ],
   "source": [
    "word = 'fresh'\n",
    "print(calc_word_freq(df,word,'aa'), count_word(df,word,'aa'), group_total_words(df,'aa'))\n",
    "print(calc_word_freq(df,word,'wh'), count_word(df,word,'wh'), group_total_words(df,'wh'))"
   ]
  },
  {
   "cell_type": "code",
   "execution_count": 15,
   "metadata": {},
   "outputs": [
    {
     "name": "stdout",
     "output_type": "stream",
     "text": [
      "0.0 0 3072\n",
      "0.0 0 3524\n"
     ]
    }
   ],
   "source": [
    "word = 'homie'\n",
    "print(calc_word_freq(df,word,'aa'), count_word(df,word,'aa'), group_total_words(df,'aa'))\n",
    "print(calc_word_freq(df,word,'wh'), count_word(df,word,'wh'), group_total_words(df,'wh'))"
   ]
  },
  {
   "cell_type": "code",
   "execution_count": 16,
   "metadata": {},
   "outputs": [
    {
     "name": "stdout",
     "output_type": "stream",
     "text": [
      "0.0 0 3072\n",
      "0.0 0 3524\n"
     ]
    }
   ],
   "source": [
    "word = 'jones'\n",
    "print(calc_word_freq(df,word,'aa'), count_word(df,word,'aa'), group_total_words(df,'aa'))\n",
    "print(calc_word_freq(df,word,'wh'), count_word(df,word,'wh'), group_total_words(df,'wh'))"
   ]
  },
  {
   "cell_type": "code",
   "execution_count": 17,
   "metadata": {},
   "outputs": [
    {
     "name": "stdout",
     "output_type": "stream",
     "text": [
      "0.0 0 3072\n",
      "0.0 0 3524\n"
     ]
    }
   ],
   "source": [
    "word = 'mondo'\n",
    "print(calc_word_freq(df,word,'aa'), count_word(df,word,'aa'), group_total_words(df,'aa'))\n",
    "print(calc_word_freq(df,word,'wh'), count_word(df,word,'wh'), group_total_words(df,'wh'))"
   ]
  },
  {
   "cell_type": "code",
   "execution_count": 18,
   "metadata": {},
   "outputs": [
    {
     "name": "stdout",
     "output_type": "stream",
     "text": [
      "0.0 0 3072\n",
      "0.0 0 3524\n"
     ]
    }
   ],
   "source": [
    "word = 'rednecks'\n",
    "print(calc_word_freq(df,word,'aa'), count_word(df,word,'aa'), group_total_words(df,'aa'))\n",
    "print(calc_word_freq(df,word,'wh'), count_word(df,word,'wh'), group_total_words(df,'wh'))"
   ]
  },
  {
   "cell_type": "markdown",
   "metadata": {},
   "source": [
    "## Terms in section 1.4.1 - (3) Terms for females"
   ]
  },
  {
   "cell_type": "code",
   "execution_count": 19,
   "metadata": {},
   "outputs": [
    {
     "name": "stdout",
     "output_type": "stream",
     "text": [
      "0.0 0 3072\n",
      "0.0 0 3524\n"
     ]
    }
   ],
   "source": [
    "word = 'bopper'\n",
    "print(calc_word_freq(df,word,'aa'), count_word(df,word,'aa'), group_total_words(df,'aa'))\n",
    "print(calc_word_freq(df,word,'wh'), count_word(df,word,'wh'), group_total_words(df,'wh'))"
   ]
  },
  {
   "cell_type": "code",
   "execution_count": 20,
   "metadata": {},
   "outputs": [
    {
     "name": "stdout",
     "output_type": "stream",
     "text": [
      "0.0 0 3072\n",
      "0.0 0 3524\n"
     ]
    }
   ],
   "source": [
    "word = 'dime'\n",
    "print(calc_word_freq(df,word,'aa'), count_word(df,word,'aa'), group_total_words(df,'aa'))\n",
    "print(calc_word_freq(df,word,'wh'), count_word(df,word,'wh'), group_total_words(df,'wh'))"
   ]
  },
  {
   "cell_type": "code",
   "execution_count": 21,
   "metadata": {},
   "outputs": [
    {
     "name": "stdout",
     "output_type": "stream",
     "text": [
      "0.0 0 3072\n",
      "0.0 0 3524\n"
     ]
    }
   ],
   "source": [
    "word = 'honey'\n",
    "print(calc_word_freq(df,word,'aa'), count_word(df,word,'aa'), group_total_words(df,'aa'))\n",
    "print(calc_word_freq(df,word,'wh'), count_word(df,word,'wh'), group_total_words(df,'wh'))"
   ]
  },
  {
   "cell_type": "code",
   "execution_count": 22,
   "metadata": {},
   "outputs": [
    {
     "name": "stdout",
     "output_type": "stream",
     "text": [
      "0.0 0 3072\n",
      "0.0 0 3524\n"
     ]
    }
   ],
   "source": [
    "sequence = ['hot','girl']\n",
    "print(calc_sequence_freq(df,sequence,'aa'), count_sequence(df,sequence,'aa'), group_total_words(df,'aa'))\n",
    "print(calc_sequence_freq(df,sequence,'wh'), count_sequence(df,sequence,'wh'), group_total_words(df,'wh'))"
   ]
  },
  {
   "cell_type": "code",
   "execution_count": 23,
   "metadata": {},
   "outputs": [
    {
     "name": "stdout",
     "output_type": "stream",
     "text": [
      "0.0006510416666666666 2 3072\n",
      "0.0 0 3524\n"
     ]
    }
   ],
   "source": [
    "word = 'ma'\n",
    "print(calc_word_freq(df,word,'aa'), count_word(df,word,'aa'), group_total_words(df,'aa'))\n",
    "print(calc_word_freq(df,word,'wh'), count_word(df,word,'wh'), group_total_words(df,'wh'))"
   ]
  },
  {
   "cell_type": "code",
   "execution_count": 24,
   "metadata": {},
   "outputs": [
    {
     "name": "stdout",
     "output_type": "stream",
     "text": [
      "0.0 0 3072\n",
      "0.0 0 3524\n"
     ]
    }
   ],
   "source": [
    "word = 'shorty'\n",
    "print(calc_word_freq(df,word,'aa'), count_word(df,word,'aa'), group_total_words(df,'aa'))\n",
    "print(calc_word_freq(df,word,'wh'), count_word(df,word,'wh'), group_total_words(df,'wh'))"
   ]
  },
  {
   "cell_type": "code",
   "execution_count": 25,
   "metadata": {},
   "outputs": [
    {
     "name": "stdout",
     "output_type": "stream",
     "text": [
      "0.0 0 3072\n",
      "0.0 0 3524\n"
     ]
    }
   ],
   "source": [
    "word = 'wifey'\n",
    "print(calc_word_freq(df,word,'aa'), count_word(df,word,'aa'), group_total_words(df,'aa'))\n",
    "print(calc_word_freq(df,word,'wh'), count_word(df,word,'wh'), group_total_words(df,'wh'))"
   ]
  },
  {
   "cell_type": "markdown",
   "metadata": {},
   "source": [
    "## Terms in section 1.4.1 - (4) Terms for males"
   ]
  },
  {
   "cell_type": "code",
   "execution_count": 26,
   "metadata": {},
   "outputs": [
    {
     "name": "stdout",
     "output_type": "stream",
     "text": [
      "0.0 0 3072\n",
      "0.0 0 3524\n"
     ]
    }
   ],
   "source": [
    "word = 'balla'\n",
    "print(calc_word_freq(df,word,'aa'), count_word(df,word,'aa'), group_total_words(df,'aa'))\n",
    "print(calc_word_freq(df,word,'wh'), count_word(df,word,'wh'), group_total_words(df,'wh'))"
   ]
  },
  {
   "cell_type": "code",
   "execution_count": 27,
   "metadata": {},
   "outputs": [
    {
     "name": "stdout",
     "output_type": "stream",
     "text": [
      "0.0 0 3072\n",
      "0.0 0 3524\n"
     ]
    }
   ],
   "source": [
    "word = 'cat'\n",
    "print(calc_word_freq(df,word,'aa'), count_word(df,word,'aa'), group_total_words(df,'aa'))\n",
    "print(calc_word_freq(df,word,'wh'), count_word(df,word,'wh'), group_total_words(df,'wh'))"
   ]
  },
  {
   "cell_type": "code",
   "execution_count": 28,
   "metadata": {},
   "outputs": [
    {
     "name": "stdout",
     "output_type": "stream",
     "text": [
      "0.0013020833333333333 4 3072\n",
      "0.00028376844494892167 1 3524\n"
     ]
    }
   ],
   "source": [
    "word = 'cuz'\n",
    "print(calc_word_freq(df,word,'aa'), count_word(df,word,'aa'), group_total_words(df,'aa'))\n",
    "print(calc_word_freq(df,word,'wh'), count_word(df,word,'wh'), group_total_words(df,'wh'))"
   ]
  },
  {
   "cell_type": "code",
   "execution_count": 29,
   "metadata": {},
   "outputs": [
    {
     "name": "stdout",
     "output_type": "stream",
     "text": [
      "0.0003255208333333333 1 3072\n",
      "0.0 0 3524\n"
     ]
    }
   ],
   "source": [
    "word = 'dawg'\n",
    "print(calc_word_freq(df,word,'aa'), count_word(df,word,'aa'), group_total_words(df,'aa'))\n",
    "print(calc_word_freq(df,word,'wh'), count_word(df,word,'wh'), group_total_words(df,'wh'))"
   ]
  },
  {
   "cell_type": "code",
   "execution_count": 30,
   "metadata": {},
   "outputs": [
    {
     "name": "stdout",
     "output_type": "stream",
     "text": [
      "0.0003255208333333333 1 3072\n",
      "0.00028376844494892167 1 3524\n"
     ]
    }
   ],
   "source": [
    "word = 'dog'\n",
    "print(calc_word_freq(df,word,'aa'), count_word(df,word,'aa'), group_total_words(df,'aa'))\n",
    "print(calc_word_freq(df,word,'wh'), count_word(df,word,'wh'), group_total_words(df,'wh'))"
   ]
  },
  {
   "cell_type": "code",
   "execution_count": 31,
   "metadata": {},
   "outputs": [
    {
     "name": "stdout",
     "output_type": "stream",
     "text": [
      "0.0009765625 3 3072\n",
      "0.0 0 3524\n"
     ]
    }
   ],
   "source": [
    "word = 'fool'\n",
    "print(calc_word_freq(df,word,'aa'), count_word(df,word,'aa'), group_total_words(df,'aa'))\n",
    "print(calc_word_freq(df,word,'wh'), count_word(df,word,'wh'), group_total_words(df,'wh'))"
   ]
  },
  {
   "cell_type": "code",
   "execution_count": 32,
   "metadata": {},
   "outputs": [
    {
     "name": "stdout",
     "output_type": "stream",
     "text": [
      "0.0 0 3072\n",
      "0.0 0 3524\n"
     ]
    }
   ],
   "source": [
    "word = 'homes'\n",
    "print(calc_word_freq(df,word,'aa'), count_word(df,word,'aa'), group_total_words(df,'aa'))\n",
    "print(calc_word_freq(df,word,'wh'), count_word(df,word,'wh'), group_total_words(df,'wh'))"
   ]
  },
  {
   "cell_type": "code",
   "execution_count": 33,
   "metadata": {},
   "outputs": [
    {
     "name": "stdout",
     "output_type": "stream",
     "text": [
      "0.0 0 3072\n",
      "0.0 0 3524\n"
     ]
    }
   ],
   "source": [
    "word = 'kinfolk'\n",
    "print(calc_word_freq(df,word,'aa'), count_word(df,word,'aa'), group_total_words(df,'aa'))\n",
    "print(calc_word_freq(df,word,'wh'), count_word(df,word,'wh'), group_total_words(df,'wh'))"
   ]
  },
  {
   "cell_type": "code",
   "execution_count": 34,
   "metadata": {},
   "outputs": [
    {
     "name": "stdout",
     "output_type": "stream",
     "text": [
      "0.0 0 3072\n",
      "0.0 0 3524\n"
     ]
    }
   ],
   "source": [
    "word = 'mark'\n",
    "print(calc_word_freq(df,word,'aa'), count_word(df,word,'aa'), group_total_words(df,'aa'))\n",
    "print(calc_word_freq(df,word,'wh'), count_word(df,word,'wh'), group_total_words(df,'wh'))"
   ]
  },
  {
   "cell_type": "code",
   "execution_count": 35,
   "metadata": {},
   "outputs": [
    {
     "name": "stdout",
     "output_type": "stream",
     "text": [
      "0.0009765625 3 3072\n",
      "0.0005675368898978433 2 3524\n"
     ]
    }
   ],
   "source": [
    "word = 'money'\n",
    "print(calc_word_freq(df,word,'aa'), count_word(df,word,'aa'), group_total_words(df,'aa'))\n",
    "print(calc_word_freq(df,word,'wh'), count_word(df,word,'wh'), group_total_words(df,'wh'))"
   ]
  },
  {
   "cell_type": "code",
   "execution_count": 36,
   "metadata": {},
   "outputs": [
    {
     "name": "stdout",
     "output_type": "stream",
     "text": [
      "0.0 0 3072\n",
      "0.0 0 3524\n"
     ]
    }
   ],
   "source": [
    "word = 'player'\n",
    "print(calc_word_freq(df,word,'aa'), count_word(df,word,'aa'), group_total_words(df,'aa'))\n",
    "print(calc_word_freq(df,word,'wh'), count_word(df,word,'wh'), group_total_words(df,'wh'))"
   ]
  },
  {
   "cell_type": "code",
   "execution_count": 37,
   "metadata": {},
   "outputs": [
    {
     "name": "stdout",
     "output_type": "stream",
     "text": [
      "0.0003255208333333333 1 3072\n",
      "0.0 0 3524\n"
     ]
    }
   ],
   "source": [
    "word = 'playa'\n",
    "print(calc_word_freq(df,word,'aa'), count_word(df,word,'aa'), group_total_words(df,'aa'))\n",
    "print(calc_word_freq(df,word,'wh'), count_word(df,word,'wh'), group_total_words(df,'wh'))"
   ]
  },
  {
   "cell_type": "code",
   "execution_count": 38,
   "metadata": {},
   "outputs": [
    {
     "name": "stdout",
     "output_type": "stream",
     "text": [
      "0.0 0 3072\n",
      "0.0 0 3524\n"
     ]
    }
   ],
   "source": [
    "word = 'scrub'\n",
    "print(calc_word_freq(df,word,'aa'), count_word(df,word,'aa'), group_total_words(df,'aa'))\n",
    "print(calc_word_freq(df,word,'wh'), count_word(df,word,'wh'), group_total_words(df,'wh'))"
   ]
  },
  {
   "cell_type": "code",
   "execution_count": 39,
   "metadata": {},
   "outputs": [
    {
     "name": "stdout",
     "output_type": "stream",
     "text": [
      "0.0003255208333333333 1 3072\n",
      "0.0 0 3524\n"
     ]
    }
   ],
   "source": [
    "word = 'slick'\n",
    "print(calc_word_freq(df,word,'aa'), count_word(df,word,'aa'), group_total_words(df,'aa'))\n",
    "print(calc_word_freq(df,word,'wh'), count_word(df,word,'wh'), group_total_words(df,'wh'))"
   ]
  },
  {
   "cell_type": "markdown",
   "metadata": {},
   "source": [
    "## Terms in section 1.4.1 - (8) Terms for money"
   ]
  },
  {
   "cell_type": "code",
   "execution_count": 40,
   "metadata": {},
   "outputs": [
    {
     "name": "stdout",
     "output_type": "stream",
     "text": [
      "0.0 0 3072\n",
      "0.0 0 3524\n"
     ]
    }
   ],
   "source": [
    "word = 'benjis'\n",
    "print(calc_word_freq(df,word,'aa'), count_word(df,word,'aa'), group_total_words(df,'aa'))\n",
    "print(calc_word_freq(df,word,'wh'), count_word(df,word,'wh'), group_total_words(df,'wh'))"
   ]
  },
  {
   "cell_type": "code",
   "execution_count": 41,
   "metadata": {},
   "outputs": [
    {
     "name": "stdout",
     "output_type": "stream",
     "text": [
      "0.0 0 3072\n",
      "0.0 0 3524\n"
     ]
    }
   ],
   "source": [
    "word = 'benjamins'\n",
    "print(calc_word_freq(df,word,'aa'), count_word(df,word,'aa'), group_total_words(df,'aa'))\n",
    "print(calc_word_freq(df,word,'wh'), count_word(df,word,'wh'), group_total_words(df,'wh'))"
   ]
  },
  {
   "cell_type": "code",
   "execution_count": 42,
   "metadata": {},
   "outputs": [
    {
     "name": "stdout",
     "output_type": "stream",
     "text": [
      "0.0 0 3072\n",
      "0.0 0 3524\n"
     ]
    }
   ],
   "source": [
    "word = 'cabbage'\n",
    "print(calc_word_freq(df,word,'aa'), count_word(df,word,'aa'), group_total_words(df,'aa'))\n",
    "print(calc_word_freq(df,word,'wh'), count_word(df,word,'wh'), group_total_words(df,'wh'))"
   ]
  },
  {
   "cell_type": "code",
   "execution_count": 43,
   "metadata": {},
   "outputs": [
    {
     "name": "stdout",
     "output_type": "stream",
     "text": [
      "0.0003255208333333333 1 3072\n",
      "0.00028376844494892167 1 3524\n"
     ]
    }
   ],
   "source": [
    "word = 'cheese'\n",
    "print(calc_word_freq(df,word,'aa'), count_word(df,word,'aa'), group_total_words(df,'aa'))\n",
    "print(calc_word_freq(df,word,'wh'), count_word(df,word,'wh'), group_total_words(df,'wh'))"
   ]
  },
  {
   "cell_type": "code",
   "execution_count": 44,
   "metadata": {},
   "outputs": [
    {
     "name": "stdout",
     "output_type": "stream",
     "text": [
      "0.0 0 3072\n",
      "0.0005675368898978433 2 3524\n"
     ]
    }
   ],
   "source": [
    "word = 'cream'\n",
    "print(calc_word_freq(df,word,'aa'), count_word(df,word,'aa'), group_total_words(df,'aa'))\n",
    "print(calc_word_freq(df,word,'wh'), count_word(df,word,'wh'), group_total_words(df,'wh'))"
   ]
  },
  {
   "cell_type": "code",
   "execution_count": 45,
   "metadata": {},
   "outputs": [
    {
     "name": "stdout",
     "output_type": "stream",
     "text": [
      "0.0 0 3072\n",
      "0.0 0 3524\n"
     ]
    }
   ],
   "source": [
    "word = 'duckets'\n",
    "print(calc_word_freq(df,word,'aa'), count_word(df,word,'aa'), group_total_words(df,'aa'))\n",
    "print(calc_word_freq(df,word,'wh'), count_word(df,word,'wh'), group_total_words(df,'wh'))"
   ]
  },
  {
   "cell_type": "code",
   "execution_count": 46,
   "metadata": {},
   "outputs": [
    {
     "name": "stdout",
     "output_type": "stream",
     "text": [
      "0.0 0 3072\n",
      "0.0 0 3524\n"
     ]
    }
   ],
   "source": [
    "word = 'franklins'\n",
    "print(calc_word_freq(df,word,'aa'), count_word(df,word,'aa'), group_total_words(df,'aa'))\n",
    "print(calc_word_freq(df,word,'wh'), count_word(df,word,'wh'), group_total_words(df,'wh'))"
   ]
  },
  {
   "cell_type": "code",
   "execution_count": 47,
   "metadata": {},
   "outputs": [
    {
     "name": "stdout",
     "output_type": "stream",
     "text": [
      "0.0003255208333333333 1 3072\n",
      "0.0 0 3524\n"
     ]
    }
   ],
   "source": [
    "word = 'paper'\n",
    "print(calc_word_freq(df,word,'aa'), count_word(df,word,'aa'), group_total_words(df,'aa'))\n",
    "print(calc_word_freq(df,word,'wh'), count_word(df,word,'wh'), group_total_words(df,'wh'))"
   ]
  },
  {
   "cell_type": "code",
   "execution_count": 48,
   "metadata": {},
   "outputs": [
    {
     "name": "stdout",
     "output_type": "stream",
     "text": [
      "0.0 0 3072\n",
      "0.0 0 3524\n"
     ]
    }
   ],
   "source": [
    "word = 'scrilla'\n",
    "print(calc_word_freq(df,word,'aa'), count_word(df,word,'aa'), group_total_words(df,'aa'))\n",
    "print(calc_word_freq(df,word,'wh'), count_word(df,word,'wh'), group_total_words(df,'wh'))"
   ]
  },
  {
   "cell_type": "markdown",
   "metadata": {},
   "source": [
    "#### Brathwaite (1992) list"
   ]
  },
  {
   "cell_type": "code",
   "execution_count": 49,
   "metadata": {},
   "outputs": [
    {
     "name": "stdout",
     "output_type": "stream",
     "text": [
      "0.0 0 3072\n",
      "0.0 0 3524\n"
     ]
    }
   ],
   "source": [
    "word = 'bucks'\n",
    "print(calc_word_freq(df,word,'aa'), count_word(df,word,'aa'), group_total_words(df,'aa'))\n",
    "print(calc_word_freq(df,word,'wh'), count_word(df,word,'wh'), group_total_words(df,'wh'))"
   ]
  },
  {
   "cell_type": "code",
   "execution_count": 50,
   "metadata": {},
   "outputs": [
    {
     "name": "stdout",
     "output_type": "stream",
     "text": [
      "0.0 0 3072\n",
      "0.0 0 3524\n"
     ]
    }
   ],
   "source": [
    "sequence = ['dead','presidents']\n",
    "print(calc_sequence_freq(df,sequence,'aa'), count_sequence(df,sequence,'aa'), group_total_words(df,'aa'))\n",
    "print(calc_sequence_freq(df,sequence,'wh'), count_sequence(df,sequence,'wh'), group_total_words(df,'wh'))"
   ]
  },
  {
   "cell_type": "code",
   "execution_count": 51,
   "metadata": {},
   "outputs": [
    {
     "name": "stdout",
     "output_type": "stream",
     "text": [
      "0.0 0 3072\n",
      "0.0 0 3524\n"
     ]
    }
   ],
   "source": [
    "word = 'dime'\n",
    "print(calc_word_freq(df,word,'aa'), count_word(df,word,'aa'), group_total_words(df,'aa'))\n",
    "print(calc_word_freq(df,word,'wh'), count_word(df,word,'wh'), group_total_words(df,'wh'))"
   ]
  },
  {
   "cell_type": "code",
   "execution_count": 52,
   "metadata": {},
   "outputs": [
    {
     "name": "stdout",
     "output_type": "stream",
     "text": [
      "0.0003255208333333333 1 3072\n",
      "0.0 0 3524\n"
     ]
    }
   ],
   "source": [
    "word = 'paper'\n",
    "print(calc_word_freq(df,word,'aa'), count_word(df,word,'aa'), group_total_words(df,'aa'))\n",
    "print(calc_word_freq(df,word,'wh'), count_word(df,word,'wh'), group_total_words(df,'wh'))"
   ]
  },
  {
   "cell_type": "code",
   "execution_count": 53,
   "metadata": {},
   "outputs": [
    {
     "name": "stdout",
     "output_type": "stream",
     "text": [
      "0.0 0 3072\n",
      "0.0 0 3524\n"
     ]
    }
   ],
   "source": [
    "sequence = ['cash','money']\n",
    "print(calc_sequence_freq(df,sequence,'aa'), count_sequence(df,sequence,'aa'), group_total_words(df,'aa'))\n",
    "print(calc_sequence_freq(df,sequence,'wh'), count_sequence(df,sequence,'wh'), group_total_words(df,'wh'))"
   ]
  },
  {
   "cell_type": "code",
   "execution_count": 54,
   "metadata": {},
   "outputs": [
    {
     "name": "stdout",
     "output_type": "stream",
     "text": [
      "0.0 0 3072\n",
      "0.0 0 3524\n"
     ]
    }
   ],
   "source": [
    "word = 'dividends'\n",
    "print(calc_word_freq(df,word,'aa'), count_word(df,word,'aa'), group_total_words(df,'aa'))\n",
    "print(calc_word_freq(df,word,'wh'), count_word(df,word,'wh'), group_total_words(df,'wh'))"
   ]
  },
  {
   "cell_type": "code",
   "execution_count": 55,
   "metadata": {},
   "outputs": [
    {
     "name": "stdout",
     "output_type": "stream",
     "text": [
      "0.0 0 3072\n",
      "0.0 0 3524\n"
     ]
    }
   ],
   "source": [
    "word = 'dough'\n",
    "print(calc_word_freq(df,word,'aa'), count_word(df,word,'aa'), group_total_words(df,'aa'))\n",
    "print(calc_word_freq(df,word,'wh'), count_word(df,word,'wh'), group_total_words(df,'wh'))"
   ]
  },
  {
   "cell_type": "code",
   "execution_count": 56,
   "metadata": {},
   "outputs": [
    {
     "name": "stdout",
     "output_type": "stream",
     "text": [
      "0.0 0 3072\n",
      "0.0 0 3524\n"
     ]
    }
   ],
   "source": [
    "word = 'knot'\n",
    "print(calc_word_freq(df,word,'aa'), count_word(df,word,'aa'), group_total_words(df,'aa'))\n",
    "print(calc_word_freq(df,word,'wh'), count_word(df,word,'wh'), group_total_words(df,'wh'))"
   ]
  },
  {
   "cell_type": "markdown",
   "metadata": {},
   "source": [
    "## Terms for leaving (1)"
   ]
  },
  {
   "cell_type": "code",
   "execution_count": 57,
   "metadata": {},
   "outputs": [
    {
     "name": "stdout",
     "output_type": "stream",
     "text": [
      "0.0 0 3072\n",
      "0.0 0 3524\n"
     ]
    }
   ],
   "source": [
    "word = 'bounce'\n",
    "print(calc_word_freq(df,word,'aa'), count_word(df,word,'aa'), group_total_words(df,'aa'))\n",
    "print(calc_word_freq(df,word,'wh'), count_word(df,word,'wh'), group_total_words(df,'wh'))"
   ]
  },
  {
   "cell_type": "code",
   "execution_count": 58,
   "metadata": {},
   "outputs": [
    {
     "name": "stdout",
     "output_type": "stream",
     "text": [
      "0.0 0 3072\n",
      "0.0 0 3524\n"
     ]
    }
   ],
   "source": [
    "sequence = ['push','off']\n",
    "print(calc_sequence_freq(df,sequence,'aa'), count_sequence(df,sequence,'aa'), group_total_words(df,'aa'))\n",
    "print(calc_sequence_freq(df,sequence,'wh'), count_sequence(df,sequence,'wh'), group_total_words(df,'wh'))"
   ]
  },
  {
   "cell_type": "code",
   "execution_count": 59,
   "metadata": {},
   "outputs": [
    {
     "name": "stdout",
     "output_type": "stream",
     "text": [
      "0.0 0 3072\n",
      "0.0 0 3524\n"
     ]
    }
   ],
   "source": [
    "word = 'murk'\n",
    "print(calc_word_freq(df,word,'aa'), count_word(df,word,'aa'), group_total_words(df,'aa'))\n",
    "print(calc_word_freq(df,word,'wh'), count_word(df,word,'wh'), group_total_words(df,'wh'))"
   ]
  },
  {
   "cell_type": "markdown",
   "metadata": {},
   "source": [
    "##  Terms for expressing or showing envy (2)"
   ]
  },
  {
   "cell_type": "code",
   "execution_count": 60,
   "metadata": {},
   "outputs": [
    {
     "name": "stdout",
     "output_type": "stream",
     "text": [
      "0.0 0 3072\n",
      "0.0 0 3524\n"
     ]
    }
   ],
   "source": [
    "sequence = ['playa','hatin']\n",
    "print(calc_sequence_freq(df,sequence,'aa'), count_sequence(df,sequence,'aa'), group_total_words(df,'aa'))\n",
    "print(calc_sequence_freq(df,sequence,'wh'), count_sequence(df,sequence,'wh'), group_total_words(df,'wh'))"
   ]
  },
  {
   "cell_type": "code",
   "execution_count": 61,
   "metadata": {},
   "outputs": [
    {
     "name": "stdout",
     "output_type": "stream",
     "text": [
      "0.0 0 3072\n",
      "0.0 0 3524\n"
     ]
    }
   ],
   "source": [
    "word = 'hatin'\n",
    "print(calc_word_freq(df,word,'aa'), count_word(df,word,'aa'), group_total_words(df,'aa'))\n",
    "print(calc_word_freq(df,word,'wh'), count_word(df,word,'wh'), group_total_words(df,'wh'))"
   ]
  },
  {
   "cell_type": "code",
   "execution_count": 62,
   "metadata": {},
   "outputs": [
    {
     "name": "stdout",
     "output_type": "stream",
     "text": [
      "0.0 0 3072\n",
      "0.0 0 3524\n"
     ]
    }
   ],
   "source": [
    "word = 'hating'\n",
    "print(calc_word_freq(df,word,'aa'), count_word(df,word,'aa'), group_total_words(df,'aa'))\n",
    "print(calc_word_freq(df,word,'wh'), count_word(df,word,'wh'), group_total_words(df,'wh'))"
   ]
  },
  {
   "cell_type": "code",
   "execution_count": 63,
   "metadata": {},
   "outputs": [
    {
     "name": "stdout",
     "output_type": "stream",
     "text": [
      "0.0 0 3072\n",
      "0.0 0 3524\n"
     ]
    }
   ],
   "source": [
    "sequence = ['hatin','on']\n",
    "print(calc_sequence_freq(df,sequence,'aa'), count_sequence(df,sequence,'aa'), group_total_words(df,'aa'))\n",
    "print(calc_sequence_freq(df,sequence,'wh'), count_sequence(df,sequence,'wh'), group_total_words(df,'wh'))"
   ]
  },
  {
   "cell_type": "code",
   "execution_count": 64,
   "metadata": {},
   "outputs": [
    {
     "name": "stdout",
     "output_type": "stream",
     "text": [
      "0.0 0 3072\n",
      "0.0 0 3524\n"
     ]
    }
   ],
   "source": [
    "sequence = ['balla','blockin']\n",
    "print(calc_sequence_freq(df,sequence,'aa'), count_sequence(df,sequence,'aa'), group_total_words(df,'aa'))\n",
    "print(calc_sequence_freq(df,sequence,'wh'), count_sequence(df,sequence,'wh'), group_total_words(df,'wh'))"
   ]
  },
  {
   "cell_type": "markdown",
   "metadata": {},
   "source": [
    "##  Terms for communicating or connecting (3)"
   ]
  },
  {
   "cell_type": "code",
   "execution_count": 65,
   "metadata": {},
   "outputs": [
    {
     "name": "stdout",
     "output_type": "stream",
     "text": [
      "0.0009765625 3 3072\n",
      "0.0014188422247446084 5 3524\n"
     ]
    }
   ],
   "source": [
    "word = 'feel'\n",
    "print(calc_word_freq(df,word,'aa'), count_word(df,word,'aa'), group_total_words(df,'aa'))\n",
    "print(calc_word_freq(df,word,'wh'), count_word(df,word,'wh'), group_total_words(df,'wh'))"
   ]
  },
  {
   "cell_type": "code",
   "execution_count": 66,
   "metadata": {},
   "outputs": [
    {
     "name": "stdout",
     "output_type": "stream",
     "text": [
      "0.0 0 3072\n",
      "0.0 0 3524\n"
     ]
    }
   ],
   "source": [
    "sequence = [\"we're\",'here']\n",
    "print(calc_sequence_freq(df,sequence,'aa'), count_sequence(df,sequence,'aa'), group_total_words(df,'aa'))\n",
    "print(calc_sequence_freq(df,sequence,'wh'), count_sequence(df,sequence,'wh'), group_total_words(df,'wh'))"
   ]
  },
  {
   "cell_type": "markdown",
   "metadata": {},
   "source": [
    "## Terms for making advances toward a member of the opposite sex (4)"
   ]
  },
  {
   "cell_type": "code",
   "execution_count": 67,
   "metadata": {},
   "outputs": [
    {
     "name": "stdout",
     "output_type": "stream",
     "text": [
      "0.0 0 3072\n",
      "0.0 0 3524\n"
     ]
    }
   ],
   "source": [
    "sequence = ['push','up','on']\n",
    "print(calc_sequence_freq(df,sequence,'aa'), count_sequence(df,sequence,'aa'), group_total_words(df,'aa'))\n",
    "print(calc_sequence_freq(df,sequence,'wh'), count_sequence(df,sequence,'wh'), group_total_words(df,'wh'))"
   ]
  },
  {
   "cell_type": "code",
   "execution_count": 68,
   "metadata": {},
   "outputs": [
    {
     "name": "stdout",
     "output_type": "stream",
     "text": [
      "0.0 0 3072\n",
      "0.0 0 3524\n"
     ]
    }
   ],
   "source": [
    "sequence = ['get','wit']\n",
    "print(calc_sequence_freq(df,sequence,'aa'), count_sequence(df,sequence,'aa'), group_total_words(df,'aa'))\n",
    "print(calc_sequence_freq(df,sequence,'wh'), count_sequence(df,sequence,'wh'), group_total_words(df,'wh'))"
   ]
  },
  {
   "cell_type": "code",
   "execution_count": 69,
   "metadata": {},
   "outputs": [
    {
     "name": "stdout",
     "output_type": "stream",
     "text": [
      "0.0 0 3072\n",
      "0.0 0 3524\n"
     ]
    }
   ],
   "source": [
    "sequence = ['get','with']\n",
    "print(calc_sequence_freq(df,sequence,'aa'), count_sequence(df,sequence,'aa'), group_total_words(df,'aa'))\n",
    "print(calc_sequence_freq(df,sequence,'wh'), count_sequence(df,sequence,'wh'), group_total_words(df,'wh'))"
   ]
  },
  {
   "cell_type": "code",
   "execution_count": 70,
   "metadata": {},
   "outputs": [
    {
     "name": "stdout",
     "output_type": "stream",
     "text": [
      "0.0 0 3072\n",
      "0.0 0 3524\n"
     ]
    }
   ],
   "source": [
    "sequence = ['holler','at','that']\n",
    "print(calc_sequence_freq(df,sequence,'aa'), count_sequence(df,sequence,'aa'), group_total_words(df,'aa'))\n",
    "print(calc_sequence_freq(df,sequence,'wh'), count_sequence(df,sequence,'wh'), group_total_words(df,'wh'))"
   ]
  },
  {
   "cell_type": "code",
   "execution_count": 71,
   "metadata": {},
   "outputs": [
    {
     "name": "stdout",
     "output_type": "stream",
     "text": [
      "0.0 0 3072\n",
      "0.0 0 3524\n"
     ]
    }
   ],
   "source": [
    "word = 'sweatin'\n",
    "print(calc_word_freq(df,word,'aa'), count_word(df,word,'aa'), group_total_words(df,'aa'))\n",
    "print(calc_word_freq(df,word,'wh'), count_word(df,word,'wh'), group_total_words(df,'wh'))"
   ]
  },
  {
   "cell_type": "code",
   "execution_count": 72,
   "metadata": {},
   "outputs": [
    {
     "name": "stdout",
     "output_type": "stream",
     "text": [
      "0.0 0 3072\n",
      "0.0 0 3524\n"
     ]
    }
   ],
   "source": [
    "word = 'sweating'\n",
    "print(calc_word_freq(df,word,'aa'), count_word(df,word,'aa'), group_total_words(df,'aa'))\n",
    "print(calc_word_freq(df,word,'wh'), count_word(df,word,'wh'), group_total_words(df,'wh'))"
   ]
  },
  {
   "cell_type": "markdown",
   "metadata": {},
   "source": [
    "## Terms for labeling that which is good, exciting, etc (5)"
   ]
  },
  {
   "cell_type": "code",
   "execution_count": 73,
   "metadata": {},
   "outputs": [
    {
     "name": "stdout",
     "output_type": "stream",
     "text": [
      "0.0 0 3072\n",
      "0.0 0 3524\n"
     ]
    }
   ],
   "source": [
    "sequence = ['off','the','hook']\n",
    "print(calc_sequence_freq(df,sequence,'aa'), count_sequence(df,sequence,'aa'), group_total_words(df,'aa'))\n",
    "print(calc_sequence_freq(df,sequence,'wh'), count_sequence(df,sequence,'wh'), group_total_words(df,'wh'))"
   ]
  },
  {
   "cell_type": "code",
   "execution_count": 74,
   "metadata": {},
   "outputs": [
    {
     "name": "stdout",
     "output_type": "stream",
     "text": [
      "0.0 0 3072\n",
      "0.0 0 3524\n"
     ]
    }
   ],
   "source": [
    "sequence = ['off','the','chain']\n",
    "print(calc_sequence_freq(df,sequence,'aa'), count_sequence(df,sequence,'aa'), group_total_words(df,'aa'))\n",
    "print(calc_sequence_freq(df,sequence,'wh'), count_sequence(df,sequence,'wh'), group_total_words(df,'wh'))"
   ]
  },
  {
   "cell_type": "code",
   "execution_count": 75,
   "metadata": {},
   "outputs": [
    {
     "name": "stdout",
     "output_type": "stream",
     "text": [
      "0.0 0 3072\n",
      "0.0 0 3524\n"
     ]
    }
   ],
   "source": [
    "word = 'krunk'\n",
    "print(calc_word_freq(df,word,'aa'), count_word(df,word,'aa'), group_total_words(df,'aa'))\n",
    "print(calc_word_freq(df,word,'wh'), count_word(df,word,'wh'), group_total_words(df,'wh'))"
   ]
  },
  {
   "cell_type": "code",
   "execution_count": 76,
   "metadata": {},
   "outputs": [
    {
     "name": "stdout",
     "output_type": "stream",
     "text": [
      "0.0 0 3072\n",
      "0.0 0 3524\n"
     ]
    }
   ],
   "source": [
    "word = 'banging'\n",
    "print(calc_word_freq(df,word,'aa'), count_word(df,word,'aa'), group_total_words(df,'aa'))\n",
    "print(calc_word_freq(df,word,'wh'), count_word(df,word,'wh'), group_total_words(df,'wh'))"
   ]
  },
  {
   "cell_type": "code",
   "execution_count": 77,
   "metadata": {},
   "outputs": [
    {
     "name": "stdout",
     "output_type": "stream",
     "text": [
      "0.0 0 3072\n",
      "0.0 0 3524\n"
     ]
    }
   ],
   "source": [
    "sequence = ['too','stupid']\n",
    "print(calc_sequence_freq(df,sequence,'aa'), count_sequence(df,sequence,'aa'), group_total_words(df,'aa'))\n",
    "print(calc_sequence_freq(df,sequence,'wh'), count_sequence(df,sequence,'wh'), group_total_words(df,'wh'))"
   ]
  },
  {
   "cell_type": "markdown",
   "metadata": {},
   "source": [
    "## Verbs from sction 3.2.3\n",
    "https://aclanthology.org/P18-1131/"
   ]
  },
  {
   "cell_type": "code",
   "execution_count": 78,
   "metadata": {},
   "outputs": [
    {
     "name": "stdout",
     "output_type": "stream",
     "text": [
      "0.0026041666666666665 8 3072\n",
      "0.000851305334846765 3 3524\n"
     ]
    }
   ],
   "source": [
    "word = 'wanna'\n",
    "print(calc_word_freq(df,word,'aa'), count_word(df,word,'aa'), group_total_words(df,'aa'))\n",
    "print(calc_word_freq(df,word,'wh'), count_word(df,word,'wh'), group_total_words(df,'wh'))"
   ]
  },
  {
   "cell_type": "code",
   "execution_count": 79,
   "metadata": {},
   "outputs": [
    {
     "name": "stdout",
     "output_type": "stream",
     "text": [
      "0.0013020833333333333 4 3072\n",
      "0.00028376844494892167 1 3524\n"
     ]
    }
   ],
   "source": [
    "word = 'gotta'\n",
    "print(calc_word_freq(df,word,'aa'), count_word(df,word,'aa'), group_total_words(df,'aa'))\n",
    "print(calc_word_freq(df,word,'wh'), count_word(df,word,'wh'), group_total_words(df,'wh'))"
   ]
  },
  {
   "cell_type": "code",
   "execution_count": 80,
   "metadata": {},
   "outputs": [
    {
     "name": "stdout",
     "output_type": "stream",
     "text": [
      "0.0006510416666666666 2 3072\n",
      "0.0 0 3524\n"
     ]
    }
   ],
   "source": [
    "word = 'finna'\n",
    "print(calc_word_freq(df,word,'aa'), count_word(df,word,'aa'), group_total_words(df,'aa'))\n",
    "print(calc_word_freq(df,word,'wh'), count_word(df,word,'wh'), group_total_words(df,'wh'))"
   ]
  },
  {
   "cell_type": "code",
   "execution_count": 81,
   "metadata": {},
   "outputs": [
    {
     "name": "stdout",
     "output_type": "stream",
     "text": [
      "0.0006510416666666666 2 3072\n",
      "0.0 0 3524\n"
     ]
    }
   ],
   "source": [
    "word = 'bouta'\n",
    "print(calc_word_freq(df,word,'aa'), count_word(df,word,'aa'), group_total_words(df,'aa'))\n",
    "print(calc_word_freq(df,word,'wh'), count_word(df,word,'wh'), group_total_words(df,'wh'))"
   ]
  },
  {
   "cell_type": "code",
   "execution_count": 82,
   "metadata": {},
   "outputs": [
    {
     "name": "stdout",
     "output_type": "stream",
     "text": [
      "0.0009765625 3 3072\n",
      "0.0 0 3524\n"
     ]
    }
   ],
   "source": [
    "word = 'tryna'\n",
    "print(calc_word_freq(df,word,'aa'), count_word(df,word,'aa'), group_total_words(df,'aa'))\n",
    "print(calc_word_freq(df,word,'wh'), count_word(df,word,'wh'), group_total_words(df,'wh'))"
   ]
  },
  {
   "cell_type": "code",
   "execution_count": 83,
   "metadata": {},
   "outputs": [
    {
     "name": "stdout",
     "output_type": "stream",
     "text": [
      "0.0006510416666666666 2 3072\n",
      "0.000851305334846765 3 3524\n"
     ]
    }
   ],
   "source": [
    "word = 'gonna'\n",
    "print(calc_word_freq(df,word,'aa'), count_word(df,word,'aa'), group_total_words(df,'aa'))\n",
    "print(calc_word_freq(df,word,'wh'), count_word(df,word,'wh'), group_total_words(df,'wh'))"
   ]
  },
  {
   "cell_type": "markdown",
   "metadata": {},
   "source": [
    "# All words analysis"
   ]
  },
  {
   "cell_type": "code",
   "execution_count": 84,
   "metadata": {},
   "outputs": [],
   "source": [
    "terms = [\n",
    "    # 'bad', \n",
    "    'bougie',\n",
    "    ['busting','out'], \n",
    "    'freak', \n",
    "    'fresh', \n",
    "    'homie', \n",
    "    'jones', \n",
    "    'mondo',\n",
    "    'rednecks',\n",
    "    'bopper',\n",
    "    'dime',\n",
    "\n",
    "    'honey',\n",
    "    ['hot','girl'],\n",
    "    'ma',\n",
    "    'shorty',\n",
    "    'wifey',\n",
    "\n",
    "    'balla',\n",
    "    'cat',\n",
    "    'cuz',\n",
    "    'dawg',\n",
    "    'dog',\n",
    "    'fool',\n",
    "    'homes',\n",
    "    'kinfolk',\n",
    "    'mark',\n",
    "    'money',\n",
    "    'player',\n",
    "    'playa',\n",
    "    'scrub',\n",
    "    'slick',\n",
    "\n",
    "    'benjis',\n",
    "    'benjamins',\n",
    "    'benjamin',\n",
    "    'cabbage',\n",
    "    'cheese',\n",
    "    'cream',\n",
    "    'duckets',\n",
    "    'franklins',\n",
    "    'franklin',\n",
    "    'paper',\n",
    "    'scrilla',\n",
    "\n",
    "    'bucks',\n",
    "    ['dead','presidents'],\n",
    "    'dime',\n",
    "    'paper',\n",
    "    ['cash','money'],\n",
    "    'dividends',\n",
    "    'dough',\n",
    "    'knot',\n",
    "    'bounce',\n",
    "    ['push','off'],\n",
    "    'murk',\n",
    "\n",
    "    ['playa','hatin'],\n",
    "    'hatin',\n",
    "    'hating',\n",
    "    ['hatin','on'],\n",
    "    ['balla','blockin'],\n",
    "\n",
    "    'feel',\n",
    "    [\"we're\",'here'],\n",
    "\n",
    "    ['push','up','on'],\n",
    "    ['get','wit'],\n",
    "    ['get','with'],\n",
    "    ['holler','at','that'],\n",
    "    'sweatin',\n",
    "\n",
    "    'sweating',\n",
    "    ['off','the','hook'],\n",
    "    ['off','the','chain'],\n",
    "    'krunk',\n",
    "    'banging',\n",
    "    ['too','stupid'],\n",
    "\n",
    "    'wanna',\n",
    "    'gotta',\n",
    "    'finna',\n",
    "    'bouta',\n",
    "    'tryna',\n",
    "    'gonna',\n",
    "]"
   ]
  },
  {
   "cell_type": "code",
   "execution_count": 85,
   "metadata": {},
   "outputs": [
    {
     "data": {
      "text/plain": [
       "0.01399739583333333"
      ]
     },
     "execution_count": 85,
     "metadata": {},
     "output_type": "execute_result"
    }
   ],
   "source": [
    "black_freq = sum([calc_freq(df,x,'aa') for x in terms])\n",
    "black_freq"
   ]
  },
  {
   "cell_type": "code",
   "execution_count": 86,
   "metadata": {},
   "outputs": [
    {
     "data": {
      "text/plain": [
       "0.0056753688989784334"
      ]
     },
     "execution_count": 86,
     "metadata": {},
     "output_type": "execute_result"
    }
   ],
   "source": [
    "white_freq = sum([calc_freq(df,x,'wh') for x in terms])\n",
    "white_freq"
   ]
  },
  {
   "cell_type": "code",
   "execution_count": 87,
   "metadata": {},
   "outputs": [
    {
     "data": {
      "text/plain": [
       "2.466341145833333"
      ]
     },
     "execution_count": 87,
     "metadata": {},
     "output_type": "execute_result"
    }
   ],
   "source": [
    "black_freq/white_freq"
   ]
  },
  {
   "cell_type": "markdown",
   "metadata": {},
   "source": [
    "# Tocixity Analysis"
   ]
  },
  {
   "cell_type": "code",
   "execution_count": 88,
   "metadata": {},
   "outputs": [],
   "source": [
    "idx = pd.Series()\n",
    "for term in terms:\n",
    "    if idx.empty:\n",
    "        idx = contain_term_idx(df,term)\n",
    "    else:\n",
    "        idx = idx | contain_term_idx(df,term)"
   ]
  },
  {
   "cell_type": "code",
   "execution_count": 89,
   "metadata": {},
   "outputs": [
    {
     "name": "stdout",
     "output_type": "stream",
     "text": [
      "54\n"
     ]
    },
    {
     "data": {
      "text/html": [
       "<div>\n",
       "<style scoped>\n",
       "    .dataframe tbody tr th:only-of-type {\n",
       "        vertical-align: middle;\n",
       "    }\n",
       "\n",
       "    .dataframe tbody tr th {\n",
       "        vertical-align: top;\n",
       "    }\n",
       "\n",
       "    .dataframe thead th {\n",
       "        text-align: right;\n",
       "    }\n",
       "</style>\n",
       "<table border=\"1\" class=\"dataframe\">\n",
       "  <thead>\n",
       "    <tr style=\"text-align: right;\">\n",
       "      <th></th>\n",
       "      <th>text</th>\n",
       "      <th>perspective_score</th>\n",
       "      <th>flair_score</th>\n",
       "      <th>textblob_score</th>\n",
       "      <th>vader_score</th>\n",
       "      <th>detoxify_original_score</th>\n",
       "      <th>detoxify_unbiased_score</th>\n",
       "      <th>detoxify_multilingual_score</th>\n",
       "      <th>has_swearing</th>\n",
       "      <th>file</th>\n",
       "      <th>group</th>\n",
       "      <th>len</th>\n",
       "      <th>words</th>\n",
       "      <th>black_term</th>\n",
       "    </tr>\n",
       "  </thead>\n",
       "  <tbody>\n",
       "    <tr>\n",
       "      <th>0</th>\n",
       "      <td>user wat u sorry for fool</td>\n",
       "      <td>0.593379</td>\n",
       "      <td>0.0</td>\n",
       "      <td>0.0</td>\n",
       "      <td>0.512</td>\n",
       "      <td>0.714704</td>\n",
       "      <td>0.983415</td>\n",
       "      <td>0.952162</td>\n",
       "      <td>False</td>\n",
       "      <td>aa_158.csv</td>\n",
       "      <td>aa</td>\n",
       "      <td>6</td>\n",
       "      <td>[user, wat, u, sorry, for, fool]</td>\n",
       "      <td>True</td>\n",
       "    </tr>\n",
       "  </tbody>\n",
       "</table>\n",
       "</div>"
      ],
      "text/plain": [
       "                        text  perspective_score  flair_score  textblob_score  \\\n",
       "0  user wat u sorry for fool           0.593379          0.0             0.0   \n",
       "\n",
       "   vader_score  detoxify_original_score  detoxify_unbiased_score  \\\n",
       "0        0.512                 0.714704                 0.983415   \n",
       "\n",
       "   detoxify_multilingual_score  has_swearing        file group  len  \\\n",
       "0                     0.952162         False  aa_158.csv    aa    6   \n",
       "\n",
       "                              words  black_term  \n",
       "0  [user, wat, u, sorry, for, fool]        True  "
      ]
     },
     "execution_count": 89,
     "metadata": {},
     "output_type": "execute_result"
    }
   ],
   "source": [
    "df_terms = pd.concat([\n",
    "    df.loc[idx].copy().assign(black_term=True),\n",
    "    df.loc[~idx].copy().assign(black_term=False)\n",
    "])\n",
    "print(idx.sum())\n",
    "df_terms.head(1)\n"
   ]
  },
  {
   "cell_type": "code",
   "execution_count": 90,
   "metadata": {},
   "outputs": [
    {
     "data": {
      "image/png": "[encoded data removed]",
      "text/plain": [
       "<Figure size 921.6x403.2 with 8 Axes>"
      ]
     },
     "metadata": {
      "needs_background": "light"
     },
     "output_type": "display_data"
    }
   ],
   "source": [
    "scores = [col for col in df_terms.columns if 'score' in col]\n",
    "\n",
    "fig, axes = plt.subplots(2, 4, sharey=True, sharex=False, figsize=(12.8,5.6))\n",
    "axes = axes.ravel()\n",
    "\n",
    "for i,score in enumerate(scores):\n",
    "    series_present = df_terms[df_terms.black_term][score]\n",
    "    series_not_present = df_terms[ ~ df_terms.black_term][score]\n",
    "    \n",
    "    sns.ecdfplot(series_present, complementary=True, ax=axes[i], legend=False, color='red')\n",
    "    g1 = sns.ecdfplot(series_not_present, complementary=True, ax=axes[i], legend=False, color='black')\n",
    "\n",
    "    axes[i].set(ylabel='P[X>x]',xlabel='%s - x'%score)\n",
    "fig.tight_layout()"
   ]
  },
  {
   "cell_type": "code",
   "execution_count": null,
   "metadata": {},
   "outputs": [],
   "source": [
    "    "
   ]
  }
 ],
 "metadata": {
  "interpreter": {
   "hash": "716bd3ad375c41b9a51e5bdb0fea9e61f5f5b3cdf5599be47497d0ef2a02897b"
  },
  "kernelspec": {
   "display_name": "Python 3.10.4 ('fake')",
   "language": "python",
   "name": "python3"
  },
  "language_info": {
   "codemirror_mode": {
    "name": "ipython",
    "version": 3
   },
   "file_extension": ".py",
   "mimetype": "text/x-python",
   "name": "python",
   "nbconvert_exporter": "python",
   "pygments_lexer": "ipython3",
   "version": "3.10.4"
  },
  "orig_nbformat": 4
 },
 "nbformat": 4,
 "nbformat_minor": 2
}
