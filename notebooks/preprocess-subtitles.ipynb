{
 "cells": [
  {
   "cell_type": "markdown",
   "metadata": {},
   "source": [
    "### Quick Description\n",
    "\n",
    "This notebook calculates the toxicity score for every curse word from a file, gets the curse word with the median toxicity score (according to Perpective), and replace every curse word identifier on the subtitles by the median word"
   ]
  },
  {
   "cell_type": "code",
   "execution_count": null,
   "metadata": {},
   "outputs": [],
   "source": [
    "import os\n",
    "import glob\n",
    "import yaml\n",
    "import time\n",
    "import json\n",
    "\n",
    "from tqdm import tqdm\n",
    "from googleapiclient import discovery"
   ]
  },
  {
   "cell_type": "code",
   "execution_count": null,
   "metadata": {},
   "outputs": [],
   "source": [
    "def get_toxicity_score(service, text):\n",
    "    try:\n",
    "        if len(text) > 0 and len(text) < 3000:\n",
    "            analyze_request = {\n",
    "                'comment': {'text': text},\n",
    "                'requestedAttributes': {'TOXICITY': {}}\n",
    "            }\n",
    "            response = service.comments().analyze(body=analyze_request).execute()\n",
    "            toxicity_score = (\n",
    "                response.get(\"attributeScores\")\n",
    "                .get(\"TOXICITY\")\n",
    "                .get(\"summaryScore\")\n",
    "                .get(\"value\")\n",
    "            )\n",
    "        else:\n",
    "            toxicity_score = None\n",
    "    except:\n",
    "        toxicity_score = None\n",
    "    \n",
    "    return toxicity_score"
   ]
  },
  {
   "cell_type": "code",
   "execution_count": null,
   "metadata": {},
   "outputs": [],
   "source": [
    "credentials = yaml.load(open(\"../credentials.yaml\"))[\"perspective-api\"]\n",
    "\n",
    "service = discovery.build(\n",
    "    \"commentanalyzer\",\n",
    "    \"v1alpha1\",\n",
    "    developerKey=credentials[\"key-1\"],\n",
    "    discoveryServiceUrl=\"https://commentanalyzer.googleapis.com/$discovery/rest?version=v1alpha1\",\n",
    "    static_discovery=False,\n",
    ")"
   ]
  },
  {
   "cell_type": "markdown",
   "metadata": {},
   "source": [
    "### Calculate the Toxicity for Every Curse Word\n",
    "\n",
    "Calculate the toxicity score for every curse word in the file referenced [here](https://www.cs.cmu.edu/~biglou/resources/) built by [Luis von Ahn](https://www.cs.cmu.edu/~biglou/)'s Research Group.\n",
    "\n",
    "We need to take into consideration that some words do not present considerable toxicity scores. For example, \"nook\", \"dahmer\", \"palesimian\" both are considered to be curse words, however, have less than 5.0 toxicity scores, whereas muslim (18.99), medication (18.6), interracial (18.39), and atheist (15.83) are substantially more toxic."
   ]
  },
  {
   "cell_type": "code",
   "execution_count": null,
   "metadata": {},
   "outputs": [],
   "source": [
    "with open(os.path.join(\"../data/\", \"bad_words.txt\")) as f:\n",
    "    curse_words = f.read().split()\n",
    "\n",
    "curse_words_score = {}\n",
    "for word in tqdm(curse_words, total=len(curse_words)):\n",
    "    toxicity = get_toxicity_score(service, word)\n",
    "    \n",
    "    if toxicity is not None:\n",
    "        curse_words_score[word] = toxicity\n",
    "\n",
    "    time.sleep(1)"
   ]
  },
  {
   "cell_type": "markdown",
   "metadata": {},
   "source": [
    "Remove irrelevant words that should not be considered curse words"
   ]
  },
  {
   "cell_type": "code",
   "execution_count": null,
   "metadata": {},
   "outputs": [],
   "source": [
    "filtered_curse_words_score = {}\n",
    "for key, value in curse_words_score.items():\n",
    "    if value > 0.2:\n",
    "        filtered_curse_words_score[key] = value\n",
    "\n",
    "curse_words_score = filtered_curse_words_score\n",
    "del filtered_curse_words_score"
   ]
  },
  {
   "cell_type": "markdown",
   "metadata": {},
   "source": [
    "Persist the scored curse words"
   ]
  },
  {
   "cell_type": "code",
   "execution_count": null,
   "metadata": {},
   "outputs": [],
   "source": [
    "with open('../data/bad_words_scored.json', 'w') as f:\n",
    "    json.dump(dict(curse_words_score), f)"
   ]
  },
  {
   "cell_type": "markdown",
   "metadata": {},
   "source": [
    "Get the median curse word index"
   ]
  },
  {
   "cell_type": "code",
   "execution_count": null,
   "metadata": {},
   "outputs": [],
   "source": [
    "curse_words_score = sorted(curse_words_score.items(), key=lambda item: item[1])\n",
    "\n",
    "median_idx = len(curse_words_score) // 2\n",
    "median_curse_word, median_score = curse_words_score[median_idx]\n",
    "\n",
    "print(f\"The median word is `{median_curse_word}` with a toxicity score of {median_score}\")"
   ]
  },
  {
   "cell_type": "markdown",
   "metadata": {},
   "source": [
    "---\n",
    "\n",
    "### Replace Curse Words\n",
    "\n",
    "Replace all curse words by the word with median toxicity score predicted by Perspective"
   ]
  },
  {
   "cell_type": "code",
   "execution_count": null,
   "metadata": {},
   "outputs": [],
   "source": [
    "input_path = \"../data/00_raw\"\n",
    "output_path = \"../data/01_preprocessed/\"\n",
    "\n",
    "filenames = [file.split(\"/\")[-1] for file in glob.glob(os.path.join(input_path, \"*\"))]\n",
    "\n",
    "for filename in tqdm(filenames, total=len(filenames)):\n",
    "    with open(os.path.join(input_path, filename)) as file:\n",
    "        text = file.read()\n",
    "    \n",
    "    text = text.replace(\"[Music]\", '')\n",
    "    text = text.replace(\"[ __ ]\", median_curse_word)\n",
    "    \n",
    "    with open(os.path.join(output_path, filename), 'w') as file:\n",
    "        file.write(text)"
   ]
  },
  {
   "cell_type": "code",
   "execution_count": null,
   "metadata": {},
   "outputs": [],
   "source": []
  }
 ],
 "metadata": {
  "kernelspec": {
   "display_name": "Python 3",
   "language": "python",
   "name": "python3"
  },
  "language_info": {
   "codemirror_mode": {
    "name": "ipython",
    "version": 3
   },
   "file_extension": ".py",
   "mimetype": "text/x-python",
   "name": "python",
   "nbconvert_exporter": "python",
   "pygments_lexer": "ipython3",
   "version": "3.7.6"
  }
 },
 "nbformat": 4,
 "nbformat_minor": 4
}
