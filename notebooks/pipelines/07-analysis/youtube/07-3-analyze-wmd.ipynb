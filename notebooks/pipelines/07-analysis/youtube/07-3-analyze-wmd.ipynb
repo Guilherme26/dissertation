{
 "cells": [
  {
   "cell_type": "markdown",
   "id": "e73bce7c",
   "metadata": {},
   "source": [
    "### Calculate the Word Mover's Distance between two sentences"
   ]
  },
  {
   "cell_type": "code",
   "execution_count": 1,
   "id": "6f857284",
   "metadata": {},
   "outputs": [],
   "source": [
    "import gensim.downloader as api\n",
    "import glob\n",
    "import sys\n",
    "import os\n",
    "import pandas as pd\n",
    "\n",
    "from tqdm import tqdm\n",
    "\n",
    "sys.path.append(\"../../../../utils\")\n",
    "from absolute_path_builder import AbsolutePathBuilder"
   ]
  },
  {
   "cell_type": "markdown",
   "id": "840ba272",
   "metadata": {},
   "source": [
    "### Read demographic groups' sentences"
   ]
  },
  {
   "cell_type": "code",
   "execution_count": 2,
   "id": "abcff60a",
   "metadata": {},
   "outputs": [
    {
     "name": "stderr",
     "output_type": "stream",
     "text": [
      "100%|██████████████████████████████████████████████████████████████| 486/486 [00:00<00:00, 906.95it/s]\n"
     ]
    },
    {
     "name": "stdout",
     "output_type": "stream",
     "text": [
      "There was 1 reading errors\n"
     ]
    },
    {
     "name": "stderr",
     "output_type": "stream",
     "text": [
      "100%|██████████████████████████████████████████████████████████████| 151/151 [00:00<00:00, 874.81it/s]"
     ]
    },
    {
     "name": "stdout",
     "output_type": "stream",
     "text": [
      "There was 0 reading errors\n"
     ]
    },
    {
     "name": "stderr",
     "output_type": "stream",
     "text": [
      "\n"
     ]
    }
   ],
   "source": [
    "input_path = AbsolutePathBuilder.get_path(\n",
    "    f\"04_youtube_scored\",\n",
    "    filepaths=\"../../../../config/filepaths.yaml\"\n",
    ")\n",
    "\n",
    "df_data_desc = pd.read_csv(\n",
    "    AbsolutePathBuilder.get_path(\n",
    "        \"00_youtube_data_description\",\n",
    "        filepaths=\"../../../../config/filepaths.yaml\"\n",
    "    )\n",
    ")\n",
    "\n",
    "df_data_desc[\"group\"] = df_data_desc.group.apply(lambda s: s.split()[0])\n",
    "group_urls = df_data_desc[df_data_desc.group == \"White\"]    \n",
    "filenames = [row[\"url\"].split(\"v=\")[1].split(\"&\")[0] for _, row in group_urls.iterrows()]\n",
    "\n",
    "dfs = []\n",
    "count = 0\n",
    "for file in tqdm(filenames):\n",
    "    try:\n",
    "        dfs.append(pd.read_csv(os.path.join(input_path, file)))\n",
    "    except:\n",
    "        count += 1\n",
    "\n",
    "df_white = pd.concat(dfs).reset_index(drop=True)\n",
    "print(f\"There was {count} reading errors\")\n",
    "\n",
    "group_urls = df_data_desc[df_data_desc.group == \"Black\"]    \n",
    "filenames = [row[\"url\"].split(\"v=\")[1].split(\"&\")[0] for _, row in group_urls.iterrows()]\n",
    "\n",
    "dfs = []\n",
    "count = 0\n",
    "for file in tqdm(filenames):\n",
    "    try:\n",
    "        dfs.append(pd.read_csv(os.path.join(input_path, file)))\n",
    "    except:\n",
    "        count += 1\n",
    "\n",
    "df_black = pd.concat(dfs).reset_index(drop=True)\n",
    "print(f\"There was {count} reading errors\")"
   ]
  },
  {
   "cell_type": "markdown",
   "id": "6c22b19e",
   "metadata": {},
   "source": [
    "---\n",
    "### Load embedding model"
   ]
  },
  {
   "cell_type": "code",
   "execution_count": 3,
   "id": "7a6248a8",
   "metadata": {},
   "outputs": [],
   "source": [
    "# embedding_model = api.load(\"glove-wiki-gigaword-50\")\n",
    "embedding_model = api.load(\"word2vec-google-news-300\")"
   ]
  },
  {
   "cell_type": "code",
   "execution_count": 13,
   "id": "ff2daa23",
   "metadata": {},
   "outputs": [],
   "source": [
    "df_white = df_white.iloc[:100]\n",
    "df_black = df_black.iloc[:100]"
   ]
  },
  {
   "cell_type": "code",
   "execution_count": 14,
   "id": "eeaf524a",
   "metadata": {},
   "outputs": [
    {
     "name": "stderr",
     "output_type": "stream",
     "text": [
      "100%|█████████████████████████████████████████████████████████████████| 50/50 [00:01<00:00, 43.74it/s]\n"
     ]
    }
   ],
   "source": [
    "import numpy as np\n",
    "\n",
    "data = []\n",
    "distances = []\n",
    "for _, row_white in tqdm(df_white.iterrows(), total=df_white.shape[0]):\n",
    "\n",
    "    closest_row_black = None\n",
    "    closest_dist = np.inf\n",
    "    for _, row_black in df_black.iterrows():\n",
    "        cur_distance = embedding_model.wmdistance(row_white.text, row_black.text)\n",
    "\n",
    "        if(cur_distance < closest_dist):\n",
    "            closest_dist = cur_distance\n",
    "            closest_row_black = row_black\n",
    "\n",
    "    closest_row_black.index = [f\"{name}_black\" for name in closest_row_black.index]\n",
    "    concatenated_row = pd.concat([closest_row_black, row_white])\n",
    "    \n",
    "    data.append(concatenated_row)\n",
    "    distances.append(closest_dist)"
   ]
  },
  {
   "cell_type": "code",
   "execution_count": 15,
   "id": "9136b789",
   "metadata": {},
   "outputs": [],
   "source": [
    "df_wmd = pd.DataFrame(data)\n",
    "df_wmd[\"wmd\"] = distances\n",
    "\n",
    "df_wmd = df_wmd.reset_index(drop=True)"
   ]
  },
  {
   "cell_type": "code",
   "execution_count": 19,
   "id": "aec3e73c",
   "metadata": {},
   "outputs": [],
   "source": [
    "output_path = AbsolutePathBuilder.get_path(\n",
    "    f\"07_word_mover_distance\",\n",
    "    filepaths=\"../../../../config/filepaths.yaml\"\n",
    ")\n",
    "\n",
    "df_wmd.to_csv(os.path.join(output_path, \"youtube_wmd.csv\"), index=False)"
   ]
  },
  {
   "cell_type": "code",
   "execution_count": 16,
   "id": "1859c6b4",
   "metadata": {},
   "outputs": [
    {
     "name": "stderr",
     "output_type": "stream",
     "text": [
      "/home/guilherme/.local/lib/python3.8/site-packages/seaborn/distributions.py:2619: FutureWarning: `distplot` is a deprecated function and will be removed in a future version. Please adapt your code to use either `displot` (a figure-level function with similar flexibility) or `histplot` (an axes-level function for histograms).\n",
      "  warnings.warn(msg, FutureWarning)\n",
      "/home/guilherme/.local/lib/python3.8/site-packages/seaborn/distributions.py:2619: FutureWarning: `distplot` is a deprecated function and will be removed in a future version. Please adapt your code to use either `displot` (a figure-level function with similar flexibility) or `histplot` (an axes-level function for histograms).\n",
      "  warnings.warn(msg, FutureWarning)\n"
     ]
    },
    {
     "data": {
      "image/png": "[encoded data removed]",
      "text/plain": [
       "<Figure size 864x504 with 1 Axes>"
      ]
     },
     "metadata": {
      "needs_background": "light"
     },
     "output_type": "display_data"
    }
   ],
   "source": [
    "import matplotlib.pyplot as plt\n",
    "import seaborn as sns\n",
    "\n",
    "plt.subplots(figsize=(12,7))\n",
    "\n",
    "sns.distplot(df_wmd.perspective_score_black, label=\"Black\")\n",
    "sns.distplot(df_wmd.perspective_score, label=\"White\")\n",
    "\n",
    "plt.legend()\n",
    "plt.show()"
   ]
  },
  {
   "cell_type": "code",
   "execution_count": 18,
   "id": "b6c4f4a1",
   "metadata": {},
   "outputs": [
    {
     "name": "stderr",
     "output_type": "stream",
     "text": [
      "/home/guilherme/.local/lib/python3.8/site-packages/seaborn/distributions.py:2619: FutureWarning: `distplot` is a deprecated function and will be removed in a future version. Please adapt your code to use either `displot` (a figure-level function with similar flexibility) or `histplot` (an axes-level function for histograms).\n",
      "  warnings.warn(msg, FutureWarning)\n"
     ]
    },
    {
     "data": {
      "image/png": "[encoded data removed]",
      "text/plain": [
       "<Figure size 432x288 with 1 Axes>"
      ]
     },
     "metadata": {
      "needs_background": "light"
     },
     "output_type": "display_data"
    }
   ],
   "source": [
    "sns.distplot(df_wmd.wmd)\n",
    "plt.title(\"\")\n",
    "plt.show()"
   ]
  }
 ],
 "metadata": {
  "kernelspec": {
   "display_name": "Python 3 (ipykernel)",
   "language": "python",
   "name": "python3"
  },
  "language_info": {
   "codemirror_mode": {
    "name": "ipython",
    "version": 3
   },
   "file_extension": ".py",
   "mimetype": "text/x-python",
   "name": "python",
   "nbconvert_exporter": "python",
   "pygments_lexer": "ipython3",
   "version": "3.8.10"
  }
 },
 "nbformat": 4,
 "nbformat_minor": 5
}
