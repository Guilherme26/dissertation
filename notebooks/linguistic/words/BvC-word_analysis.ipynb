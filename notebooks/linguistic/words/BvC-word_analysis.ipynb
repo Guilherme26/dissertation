{
 "cells": [
  {
   "cell_type": "code",
   "execution_count": 15,
   "metadata": {},
   "outputs": [],
   "source": [
    "import numpy as np\n",
    "import pandas as pd\n",
    "from liwc import Liwc\n",
    "from matplotlib import pyplot as plt\n",
    "import seaborn as sns\n",
    "import json\n",
    "from tqdm import tqdm\n",
    "import scipy\n",
    "import glob\n",
    "import re\n",
    "import yaml\n",
    "import warnings\n",
    "import nltk\n",
    "warnings.filterwarnings(\"ignore\")\n",
    "tqdm.pandas()\n",
    "\n",
    "import scipy.stats as stats\n",
    "\n",
    "filepaths = yaml.safe_load(open(\"../../../config/filepaths.yaml\"))\n",
    "\n",
    "import sys\n",
    "sys.path.append(filepaths['utils'])\n",
    "from data import *\n",
    "from liwc_utils import *\n",
    "from analisys import *"
   ]
  },
  {
   "cell_type": "code",
   "execution_count": 16,
   "metadata": {},
   "outputs": [
    {
     "data": {
      "text/plain": [
       "<matplotlib.pyplot._IonContext at 0x7f13f0a4f340>"
      ]
     },
     "execution_count": 16,
     "metadata": {},
     "output_type": "execute_result"
    }
   ],
   "source": [
    "plt.rcParams['axes.labelsize']  = 14 # fontes no tamanho usado no template\n",
    "plt.rcParams['axes.titlesize']  = 14\n",
    "plt.rcParams['legend.fontsize'] = 14\n",
    "plt.rcParams['xtick.labelsize'] = 14\n",
    "plt.rcParams['ytick.labelsize'] = 14\n",
    "plt.rcParams['font.family'] = 'serif'\n",
    "# plt.rcParams['text.usetex'] = True\n",
    "plt.rcParams['lines.linewidth'] = 1.5\n",
    "\n",
    "plt.style.use('tableau-colorblind10') # use um estilo colorblind!\n",
    "plt.ion()"
   ]
  },
  {
   "cell_type": "markdown",
   "metadata": {},
   "source": [
    "---"
   ]
  },
  {
   "cell_type": "code",
   "execution_count": 17,
   "metadata": {},
   "outputs": [
    {
     "data": {
      "text/html": [
       "<div>\n",
       "<style scoped>\n",
       "    .dataframe tbody tr th:only-of-type {\n",
       "        vertical-align: middle;\n",
       "    }\n",
       "\n",
       "    .dataframe tbody tr th {\n",
       "        vertical-align: top;\n",
       "    }\n",
       "\n",
       "    .dataframe thead th {\n",
       "        text-align: right;\n",
       "    }\n",
       "</style>\n",
       "<table border=\"1\" class=\"dataframe\">\n",
       "  <thead>\n",
       "    <tr style=\"text-align: right;\">\n",
       "      <th></th>\n",
       "      <th>text</th>\n",
       "      <th>perspective_score</th>\n",
       "      <th>flair_score</th>\n",
       "      <th>textblob_score</th>\n",
       "      <th>vader_score</th>\n",
       "      <th>detoxify_original_score</th>\n",
       "      <th>detoxify_unbiased_score</th>\n",
       "      <th>detoxify_multilingual_score</th>\n",
       "      <th>has_swearing</th>\n",
       "      <th>file</th>\n",
       "      <th>group</th>\n",
       "    </tr>\n",
       "  </thead>\n",
       "  <tbody>\n",
       "    <tr>\n",
       "      <th>0</th>\n",
       "      <td>text, mmhm, yes, um, ivory city northeast ivor...</td>\n",
       "      <td>0.046122</td>\n",
       "      <td>0.789697</td>\n",
       "      <td>0.375</td>\n",
       "      <td>0.0</td>\n",
       "      <td>0.000628</td>\n",
       "      <td>0.000439</td>\n",
       "      <td>0.000305</td>\n",
       "      <td>False</td>\n",
       "      <td>DCB_se1_ag4_f_01_1.txt</td>\n",
       "      <td>Black Woman</td>\n",
       "    </tr>\n",
       "  </tbody>\n",
       "</table>\n",
       "</div>"
      ],
      "text/plain": [
       "                                                text  perspective_score  \\\n",
       "0  text, mmhm, yes, um, ivory city northeast ivor...           0.046122   \n",
       "\n",
       "   flair_score  textblob_score  vader_score  detoxify_original_score  \\\n",
       "0     0.789697           0.375          0.0                 0.000628   \n",
       "\n",
       "   detoxify_unbiased_score  detoxify_multilingual_score  has_swearing  \\\n",
       "0                 0.000439                     0.000305         False   \n",
       "\n",
       "                     file        group  \n",
       "0  DCB_se1_ag4_f_01_1.txt  Black Woman  "
      ]
     },
     "execution_count": 17,
     "metadata": {},
     "output_type": "execute_result"
    }
   ],
   "source": [
    "DATASET = 'coraal-buckeye' # 'coraal-buckeye' | 'twitter' | 'youtube' | 'interview'\n",
    "\n",
    "data = load_dataset(DATASET)\n",
    "data.head(1)"
   ]
  },
  {
   "cell_type": "code",
   "execution_count": 18,
   "metadata": {},
   "outputs": [],
   "source": [
    "df = data.copy()\n",
    "df['text'] = df['text'].apply(lambda x: re.sub(\"[^\\w\\d'\\s]+\",'',x))\n",
    "df['len'] = df.text.str.split(' ').str.len()\n",
    "df['words'] = df.text.str.split(' ')"
   ]
  },
  {
   "cell_type": "markdown",
   "metadata": {},
   "source": [
    "---"
   ]
  },
  {
   "cell_type": "code",
   "execution_count": 19,
   "metadata": {},
   "outputs": [],
   "source": [
    "def count_word(df,word,group): \n",
    "    return df[df.group.str.contains(group)].words.apply(lambda x: x.count(word)).sum()\n",
    "\n",
    "def group_total_words(df,group):\n",
    "    return df[df.group.str.contains(group)].len.sum()\n",
    "\n",
    "def contain_word_idx(df,word):\n",
    "    return df.words.apply(lambda x: word in x)\n",
    "\n",
    "def calc_word_freq(df,word,group):    \n",
    "    return count_word(df,word,group) / group_total_words(df,group)"
   ]
  },
  {
   "cell_type": "code",
   "execution_count": 20,
   "metadata": {},
   "outputs": [],
   "source": [
    "def sequence_ocurences_in_list(sequence,list):\n",
    "    \"\"\"\n",
    "    count the number of times a sequence appears in a list\n",
    "    \"\"\"\n",
    "    i = 0\n",
    "    count = 0\n",
    "    while i < len(list):\n",
    "        if list[i:i+len(sequence)] == sequence:\n",
    "            count += 1\n",
    "        i += 1\n",
    "    return count\n",
    "\n",
    "def count_sequence(df,sequence,group):\n",
    "    return df[df.group.str.contains(group)].words.apply(lambda x: sequence_ocurences_in_list(sequence,x)).sum()\n",
    "\n",
    "def contain_sequence_idx(df,sequence):\n",
    "    return df.words.apply(lambda x: sequence_ocurences_in_list(sequence,x)) > 0\n",
    "\n",
    "def calc_sequence_freq(df,sequence,group):    \n",
    "    return count_sequence(df,sequence,group) / group_total_words(df,group)\n",
    "\n",
    "def calc_freq(df,x,group):\n",
    "    if isinstance(x,str):\n",
    "        return calc_word_freq(df,x,group)\n",
    "    elif isinstance(x,list):\n",
    "        return calc_sequence_freq(df,x,group)\n",
    "    else:\n",
    "        raise ValueError('x must be a string or a list')\n",
    "\n",
    "def contain_term_idx(df,term):\n",
    "    if isinstance(term,str):\n",
    "        return contain_word_idx(df,term)\n",
    "    elif isinstance(term,list):\n",
    "        return contain_sequence_idx(df,term)\n",
    "    else:\n",
    "        raise ValueError('term must be a string or a list')"
   ]
  },
  {
   "cell_type": "markdown",
   "metadata": {},
   "source": [
    "---"
   ]
  },
  {
   "cell_type": "markdown",
   "metadata": {},
   "source": [
    "# Individual word analysis"
   ]
  },
  {
   "cell_type": "markdown",
   "metadata": {},
   "source": [
    "## Terms more used by black\n",
    "Table 5: https://www.jstor.org/stable/pdf/455845.pdf"
   ]
  },
  {
   "cell_type": "code",
   "execution_count": 130,
   "metadata": {},
   "outputs": [
    {
     "name": "stdout",
     "output_type": "stream",
     "text": [
      "0.0003864554043789395 319 825451\n",
      "0.000652575861943951 180 275830\n"
     ]
    }
   ],
   "source": [
    "word = 'bad'\n",
    "print(calc_word_freq(df,word,'Black'), count_word(df,word,'Black'), group_total_words(df,'Black'))\n",
    "print(calc_word_freq(df,word,'White'), count_word(df,word,'White'), group_total_words(df,'White'))"
   ]
  },
  {
   "cell_type": "code",
   "execution_count": 131,
   "metadata": {},
   "outputs": [
    {
     "name": "stdout",
     "output_type": "stream",
     "text": [
      "9.691671583170896e-06 8 825451\n",
      "0.0 0 275830\n"
     ]
    }
   ],
   "source": [
    "word = 'bougie'\n",
    "print(calc_word_freq(df,word,'Black'), count_word(df,word,'Black'), group_total_words(df,'Black'))\n",
    "print(calc_word_freq(df,word,'White'), count_word(df,word,'White'), group_total_words(df,'White'))"
   ]
  },
  {
   "cell_type": "code",
   "execution_count": 132,
   "metadata": {},
   "outputs": [
    {
     "name": "stdout",
     "output_type": "stream",
     "text": [
      "0.0 0 825451\n",
      "0.0 0 275830\n"
     ]
    }
   ],
   "source": [
    "sequence = ['busting','out']\n",
    "print(calc_sequence_freq(df,sequence,'Black'), count_sequence(df,sequence,'Black'), group_total_words(df,'Black'))\n",
    "print(calc_sequence_freq(df,sequence,'White'), count_sequence(df,sequence,'White'), group_total_words(df,'White'))"
   ]
  },
  {
   "cell_type": "code",
   "execution_count": 134,
   "metadata": {},
   "outputs": [
    {
     "name": "stdout",
     "output_type": "stream",
     "text": [
      "4.3612522124269034e-05 36 825451\n",
      "3.625421455244172e-06 1 275830\n"
     ]
    }
   ],
   "source": [
    "word = 'freak'\n",
    "print(calc_word_freq(df,word,'Black'), count_word(df,word,'Black'), group_total_words(df,'Black'))\n",
    "print(calc_word_freq(df,word,'White'), count_word(df,word,'White'), group_total_words(df,'White'))"
   ]
  },
  {
   "cell_type": "code",
   "execution_count": 135,
   "metadata": {},
   "outputs": [
    {
     "name": "stdout",
     "output_type": "stream",
     "text": [
      "4.3612522124269034e-05 36 825451\n",
      "3.625421455244172e-06 1 275830\n"
     ]
    }
   ],
   "source": [
    "word = 'fresh'\n",
    "print(calc_word_freq(df,word,'Black'), count_word(df,word,'Black'), group_total_words(df,'Black'))\n",
    "print(calc_word_freq(df,word,'White'), count_word(df,word,'White'), group_total_words(df,'White'))"
   ]
  },
  {
   "cell_type": "code",
   "execution_count": 136,
   "metadata": {},
   "outputs": [
    {
     "name": "stdout",
     "output_type": "stream",
     "text": [
      "1.211458947896362e-05 10 825451\n",
      "0.0 0 275830\n"
     ]
    }
   ],
   "source": [
    "word = 'homie'\n",
    "print(calc_word_freq(df,word,'Black'), count_word(df,word,'Black'), group_total_words(df,'Black'))\n",
    "print(calc_word_freq(df,word,'White'), count_word(df,word,'White'), group_total_words(df,'White'))"
   ]
  },
  {
   "cell_type": "code",
   "execution_count": 137,
   "metadata": {},
   "outputs": [
    {
     "name": "stdout",
     "output_type": "stream",
     "text": [
      "2.422917895792724e-06 2 825451\n",
      "0.0 0 275830\n"
     ]
    }
   ],
   "source": [
    "word = 'jones'\n",
    "print(calc_word_freq(df,word,'Black'), count_word(df,word,'Black'), group_total_words(df,'Black'))\n",
    "print(calc_word_freq(df,word,'White'), count_word(df,word,'White'), group_total_words(df,'White'))"
   ]
  },
  {
   "cell_type": "code",
   "execution_count": 138,
   "metadata": {},
   "outputs": [
    {
     "name": "stdout",
     "output_type": "stream",
     "text": [
      "0.0 0 825451\n",
      "0.0 0 275830\n"
     ]
    }
   ],
   "source": [
    "word = 'mondo'\n",
    "print(calc_word_freq(df,word,'Black'), count_word(df,word,'Black'), group_total_words(df,'Black'))\n",
    "print(calc_word_freq(df,word,'White'), count_word(df,word,'White'), group_total_words(df,'White'))"
   ]
  },
  {
   "cell_type": "code",
   "execution_count": 139,
   "metadata": {},
   "outputs": [
    {
     "name": "stdout",
     "output_type": "stream",
     "text": [
      "0.0 0 825451\n",
      "0.0 0 275830\n"
     ]
    }
   ],
   "source": [
    "word = 'rednecks'\n",
    "print(calc_word_freq(df,word,'Black'), count_word(df,word,'Black'), group_total_words(df,'Black'))\n",
    "print(calc_word_freq(df,word,'White'), count_word(df,word,'White'), group_total_words(df,'White'))"
   ]
  },
  {
   "cell_type": "markdown",
   "metadata": {},
   "source": [
    "## Terms in section 1.4.1 - (3) Terms for females"
   ]
  },
  {
   "cell_type": "code",
   "execution_count": null,
   "metadata": {},
   "outputs": [
    {
     "name": "stdout",
     "output_type": "stream",
     "text": [
      "0.0 0 825451\n",
      "0.0 0 275830\n"
     ]
    }
   ],
   "source": [
    "word = 'bopper'\n",
    "print(calc_word_freq(df,word,'Black'), count_word(df,word,'Black'), group_total_words(df,'Black'))\n",
    "print(calc_word_freq(df,word,'White'), count_word(df,word,'White'), group_total_words(df,'White'))"
   ]
  },
  {
   "cell_type": "code",
   "execution_count": null,
   "metadata": {},
   "outputs": [
    {
     "name": "stdout",
     "output_type": "stream",
     "text": [
      "3.634376843689086e-06 3 825451\n",
      "1.0876264365732517e-05 3 275830\n"
     ]
    }
   ],
   "source": [
    "word = 'dime'\n",
    "print(calc_word_freq(df,word,'Black'), count_word(df,word,'Black'), group_total_words(df,'Black'))\n",
    "print(calc_word_freq(df,word,'White'), count_word(df,word,'White'), group_total_words(df,'White'))"
   ]
  },
  {
   "cell_type": "code",
   "execution_count": null,
   "metadata": {},
   "outputs": [
    {
     "name": "stdout",
     "output_type": "stream",
     "text": [
      "2.5440637905823603e-05 21 825451\n",
      "1.812710727622086e-05 5 275830\n"
     ]
    }
   ],
   "source": [
    "word = 'honey'\n",
    "print(calc_word_freq(df,word,'Black'), count_word(df,word,'Black'), group_total_words(df,'Black'))\n",
    "print(calc_word_freq(df,word,'White'), count_word(df,word,'White'), group_total_words(df,'White'))"
   ]
  },
  {
   "cell_type": "code",
   "execution_count": 140,
   "metadata": {},
   "outputs": [
    {
     "name": "stdout",
     "output_type": "stream",
     "text": [
      "0.0 0 825451\n",
      "0.0 0 275830\n"
     ]
    }
   ],
   "source": [
    "sequence = ['hot','girl']\n",
    "print(calc_sequence_freq(df,sequence,'Black'), count_sequence(df,sequence,'Black'), group_total_words(df,'Black'))\n",
    "print(calc_sequence_freq(df,sequence,'White'), count_sequence(df,sequence,'White'), group_total_words(df,'White'))"
   ]
  },
  {
   "cell_type": "code",
   "execution_count": 141,
   "metadata": {},
   "outputs": [
    {
     "name": "stdout",
     "output_type": "stream",
     "text": [
      "6.178440634271447e-05 51 825451\n",
      "0.0 0 275830\n"
     ]
    }
   ],
   "source": [
    "word = 'ma'\n",
    "print(calc_word_freq(df,word,'Black'), count_word(df,word,'Black'), group_total_words(df,'Black'))\n",
    "print(calc_word_freq(df,word,'White'), count_word(df,word,'White'), group_total_words(df,'White'))"
   ]
  },
  {
   "cell_type": "code",
   "execution_count": null,
   "metadata": {},
   "outputs": [
    {
     "name": "stdout",
     "output_type": "stream",
     "text": [
      "2.0594802114238155e-05 17 825451\n",
      "0.0 0 275830\n"
     ]
    }
   ],
   "source": [
    "word = 'shorty'\n",
    "print(calc_word_freq(df,word,'Black'), count_word(df,word,'Black'), group_total_words(df,'Black'))\n",
    "print(calc_word_freq(df,word,'White'), count_word(df,word,'White'), group_total_words(df,'White'))"
   ]
  },
  {
   "cell_type": "code",
   "execution_count": null,
   "metadata": {},
   "outputs": [
    {
     "name": "stdout",
     "output_type": "stream",
     "text": [
      "0.0 0 825451\n",
      "0.0 0 275830\n"
     ]
    }
   ],
   "source": [
    "word = 'wifey'\n",
    "print(calc_word_freq(df,word,'Black'), count_word(df,word,'Black'), group_total_words(df,'Black'))\n",
    "print(calc_word_freq(df,word,'White'), count_word(df,word,'White'), group_total_words(df,'White'))"
   ]
  },
  {
   "cell_type": "markdown",
   "metadata": {},
   "source": [
    "## Terms in section 1.4.1 - (4) Terms for males"
   ]
  },
  {
   "cell_type": "code",
   "execution_count": null,
   "metadata": {},
   "outputs": [
    {
     "name": "stdout",
     "output_type": "stream",
     "text": [
      "0.0 0 825451\n",
      "0.0 0 275830\n"
     ]
    }
   ],
   "source": [
    "word = 'balla'\n",
    "print(calc_word_freq(df,word,'Black'), count_word(df,word,'Black'), group_total_words(df,'Black'))\n",
    "print(calc_word_freq(df,word,'White'), count_word(df,word,'White'), group_total_words(df,'White'))"
   ]
  },
  {
   "cell_type": "code",
   "execution_count": null,
   "metadata": {},
   "outputs": [
    {
     "name": "stdout",
     "output_type": "stream",
     "text": [
      "2.1806261062134517e-05 18 825451\n",
      "2.1752528731465034e-05 6 275830\n"
     ]
    }
   ],
   "source": [
    "word = 'cat'\n",
    "print(calc_word_freq(df,word,'Black'), count_word(df,word,'Black'), group_total_words(df,'Black'))\n",
    "print(calc_word_freq(df,word,'White'), count_word(df,word,'White'), group_total_words(df,'White'))"
   ]
  },
  {
   "cell_type": "code",
   "execution_count": null,
   "metadata": {},
   "outputs": [
    {
     "name": "stdout",
     "output_type": "stream",
     "text": [
      "2.0594802114238155e-05 17 825451\n",
      "0.0 0 275830\n"
     ]
    }
   ],
   "source": [
    "word = 'cuz'\n",
    "print(calc_word_freq(df,word,'Black'), count_word(df,word,'Black'), group_total_words(df,'Black'))\n",
    "print(calc_word_freq(df,word,'White'), count_word(df,word,'White'), group_total_words(df,'White'))"
   ]
  },
  {
   "cell_type": "code",
   "execution_count": null,
   "metadata": {},
   "outputs": [
    {
     "name": "stdout",
     "output_type": "stream",
     "text": [
      "0.0 0 825451\n",
      "0.0 0 275830\n"
     ]
    }
   ],
   "source": [
    "word = 'dawg'\n",
    "print(calc_word_freq(df,word,'Black'), count_word(df,word,'Black'), group_total_words(df,'Black'))\n",
    "print(calc_word_freq(df,word,'White'), count_word(df,word,'White'), group_total_words(df,'White'))"
   ]
  },
  {
   "cell_type": "code",
   "execution_count": null,
   "metadata": {},
   "outputs": [
    {
     "name": "stdout",
     "output_type": "stream",
     "text": [
      "0.00010176255162329441 84 825451\n",
      "9.426095783634848e-05 26 275830\n"
     ]
    }
   ],
   "source": [
    "word = 'dog'\n",
    "print(calc_word_freq(df,word,'Black'), count_word(df,word,'Black'), group_total_words(df,'Black'))\n",
    "print(calc_word_freq(df,word,'White'), count_word(df,word,'White'), group_total_words(df,'White'))"
   ]
  },
  {
   "cell_type": "code",
   "execution_count": null,
   "metadata": {},
   "outputs": [
    {
     "name": "stdout",
     "output_type": "stream",
     "text": [
      "1.3326048426859982e-05 11 825451\n",
      "1.4501685820976689e-05 4 275830\n"
     ]
    }
   ],
   "source": [
    "word = 'fool'\n",
    "print(calc_word_freq(df,word,'Black'), count_word(df,word,'Black'), group_total_words(df,'Black'))\n",
    "print(calc_word_freq(df,word,'White'), count_word(df,word,'White'), group_total_words(df,'White'))"
   ]
  },
  {
   "cell_type": "code",
   "execution_count": null,
   "metadata": {},
   "outputs": [
    {
     "name": "stdout",
     "output_type": "stream",
     "text": [
      "5.5727111603232654e-05 46 825451\n",
      "5.438132182866258e-05 15 275830\n"
     ]
    }
   ],
   "source": [
    "word = 'homes'\n",
    "print(calc_word_freq(df,word,'Black'), count_word(df,word,'Black'), group_total_words(df,'Black'))\n",
    "print(calc_word_freq(df,word,'White'), count_word(df,word,'White'), group_total_words(df,'White'))"
   ]
  },
  {
   "cell_type": "code",
   "execution_count": null,
   "metadata": {},
   "outputs": [
    {
     "name": "stdout",
     "output_type": "stream",
     "text": [
      "0.0 0 825451\n",
      "0.0 0 275830\n"
     ]
    }
   ],
   "source": [
    "word = 'kinfolk'\n",
    "print(calc_word_freq(df,word,'Black'), count_word(df,word,'Black'), group_total_words(df,'Black'))\n",
    "print(calc_word_freq(df,word,'White'), count_word(df,word,'White'), group_total_words(df,'White'))"
   ]
  },
  {
   "cell_type": "code",
   "execution_count": null,
   "metadata": {},
   "outputs": [
    {
     "name": "stdout",
     "output_type": "stream",
     "text": [
      "1.5748966322652707e-05 13 825451\n",
      "2.9003371641953377e-05 8 275830\n"
     ]
    }
   ],
   "source": [
    "word = 'mark'\n",
    "print(calc_word_freq(df,word,'Black'), count_word(df,word,'Black'), group_total_words(df,'Black'))\n",
    "print(calc_word_freq(df,word,'White'), count_word(df,word,'White'), group_total_words(df,'White'))"
   ]
  },
  {
   "cell_type": "code",
   "execution_count": null,
   "metadata": {},
   "outputs": [
    {
     "name": "stdout",
     "output_type": "stream",
     "text": [
      "0.000632381570801901 522 825451\n",
      "0.0008410977776166479 232 275830\n"
     ]
    }
   ],
   "source": [
    "word = 'money'\n",
    "print(calc_word_freq(df,word,'Black'), count_word(df,word,'Black'), group_total_words(df,'Black'))\n",
    "print(calc_word_freq(df,word,'White'), count_word(df,word,'White'), group_total_words(df,'White'))"
   ]
  },
  {
   "cell_type": "code",
   "execution_count": null,
   "metadata": {},
   "outputs": [
    {
     "name": "stdout",
     "output_type": "stream",
     "text": [
      "8.116774950905626e-05 67 825451\n",
      "2.1752528731465034e-05 6 275830\n"
     ]
    }
   ],
   "source": [
    "word = 'player'\n",
    "print(calc_word_freq(df,word,'Black'), count_word(df,word,'Black'), group_total_words(df,'Black'))\n",
    "print(calc_word_freq(df,word,'White'), count_word(df,word,'White'), group_total_words(df,'White'))"
   ]
  },
  {
   "cell_type": "code",
   "execution_count": null,
   "metadata": {},
   "outputs": [
    {
     "name": "stdout",
     "output_type": "stream",
     "text": [
      "0.0 0 825451\n",
      "0.0 0 275830\n"
     ]
    }
   ],
   "source": [
    "word = 'playa'\n",
    "print(calc_word_freq(df,word,'Black'), count_word(df,word,'Black'), group_total_words(df,'Black'))\n",
    "print(calc_word_freq(df,word,'White'), count_word(df,word,'White'), group_total_words(df,'White'))"
   ]
  },
  {
   "cell_type": "code",
   "execution_count": null,
   "metadata": {},
   "outputs": [
    {
     "name": "stdout",
     "output_type": "stream",
     "text": [
      "0.0 0 825451\n",
      "0.0 0 275830\n"
     ]
    }
   ],
   "source": [
    "word = 'scrub'\n",
    "print(calc_word_freq(df,word,'Black'), count_word(df,word,'Black'), group_total_words(df,'Black'))\n",
    "print(calc_word_freq(df,word,'White'), count_word(df,word,'White'), group_total_words(df,'White'))"
   ]
  },
  {
   "cell_type": "code",
   "execution_count": null,
   "metadata": {},
   "outputs": [
    {
     "name": "stdout",
     "output_type": "stream",
     "text": [
      "1.211458947896362e-05 10 825451\n",
      "3.625421455244172e-06 1 275830\n"
     ]
    }
   ],
   "source": [
    "word = 'slick'\n",
    "print(calc_word_freq(df,word,'Black'), count_word(df,word,'Black'), group_total_words(df,'Black'))\n",
    "print(calc_word_freq(df,word,'White'), count_word(df,word,'White'), group_total_words(df,'White'))"
   ]
  },
  {
   "cell_type": "markdown",
   "metadata": {},
   "source": [
    "## Terms in section 1.4.1 - (8) Terms for money"
   ]
  },
  {
   "cell_type": "code",
   "execution_count": 142,
   "metadata": {},
   "outputs": [
    {
     "name": "stdout",
     "output_type": "stream",
     "text": [
      "0.0 0 825451\n",
      "0.0 0 275830\n"
     ]
    }
   ],
   "source": [
    "word = 'benjis'\n",
    "print(calc_word_freq(df,word,'Black'), count_word(df,word,'Black'), group_total_words(df,'Black'))\n",
    "print(calc_word_freq(df,word,'White'), count_word(df,word,'White'), group_total_words(df,'White'))"
   ]
  },
  {
   "cell_type": "code",
   "execution_count": 143,
   "metadata": {},
   "outputs": [
    {
     "name": "stdout",
     "output_type": "stream",
     "text": [
      "0.0 0 825451\n",
      "0.0 0 275830\n"
     ]
    }
   ],
   "source": [
    "word = 'benjamins'\n",
    "print(calc_word_freq(df,word,'Black'), count_word(df,word,'Black'), group_total_words(df,'Black'))\n",
    "print(calc_word_freq(df,word,'White'), count_word(df,word,'White'), group_total_words(df,'White'))"
   ]
  },
  {
   "cell_type": "code",
   "execution_count": 144,
   "metadata": {},
   "outputs": [
    {
     "name": "stdout",
     "output_type": "stream",
     "text": [
      "1.211458947896362e-06 1 825451\n",
      "0.0 0 275830\n"
     ]
    }
   ],
   "source": [
    "word = 'cabbage'\n",
    "print(calc_word_freq(df,word,'Black'), count_word(df,word,'Black'), group_total_words(df,'Black'))\n",
    "print(calc_word_freq(df,word,'White'), count_word(df,word,'White'), group_total_words(df,'White'))"
   ]
  },
  {
   "cell_type": "code",
   "execution_count": 145,
   "metadata": {},
   "outputs": [
    {
     "name": "stdout",
     "output_type": "stream",
     "text": [
      "5.815002949902538e-05 48 825451\n",
      "1.4501685820976689e-05 4 275830\n"
     ]
    }
   ],
   "source": [
    "word = 'cheese'\n",
    "print(calc_word_freq(df,word,'Black'), count_word(df,word,'Black'), group_total_words(df,'Black'))\n",
    "print(calc_word_freq(df,word,'White'), count_word(df,word,'White'), group_total_words(df,'White'))"
   ]
  },
  {
   "cell_type": "code",
   "execution_count": 146,
   "metadata": {},
   "outputs": [
    {
     "name": "stdout",
     "output_type": "stream",
     "text": [
      "2.7863555801616327e-05 23 825451\n",
      "3.625421455244172e-06 1 275830\n"
     ]
    }
   ],
   "source": [
    "word = 'cream'\n",
    "print(calc_word_freq(df,word,'Black'), count_word(df,word,'Black'), group_total_words(df,'Black'))\n",
    "print(calc_word_freq(df,word,'White'), count_word(df,word,'White'), group_total_words(df,'White'))"
   ]
  },
  {
   "cell_type": "code",
   "execution_count": 147,
   "metadata": {},
   "outputs": [
    {
     "name": "stdout",
     "output_type": "stream",
     "text": [
      "0.0 0 825451\n",
      "0.0 0 275830\n"
     ]
    }
   ],
   "source": [
    "word = 'duckets'\n",
    "print(calc_word_freq(df,word,'Black'), count_word(df,word,'Black'), group_total_words(df,'Black'))\n",
    "print(calc_word_freq(df,word,'White'), count_word(df,word,'White'), group_total_words(df,'White'))"
   ]
  },
  {
   "cell_type": "code",
   "execution_count": 148,
   "metadata": {},
   "outputs": [
    {
     "name": "stdout",
     "output_type": "stream",
     "text": [
      "0.0 0 825451\n",
      "0.0 0 275830\n"
     ]
    }
   ],
   "source": [
    "word = 'franklins'\n",
    "print(calc_word_freq(df,word,'Black'), count_word(df,word,'Black'), group_total_words(df,'Black'))\n",
    "print(calc_word_freq(df,word,'White'), count_word(df,word,'White'), group_total_words(df,'White'))"
   ]
  },
  {
   "cell_type": "code",
   "execution_count": 149,
   "metadata": {},
   "outputs": [
    {
     "name": "stdout",
     "output_type": "stream",
     "text": [
      "6.541878318640355e-05 54 825451\n",
      "0.00018489649421745278 51 275830\n"
     ]
    }
   ],
   "source": [
    "word = 'paper'\n",
    "print(calc_word_freq(df,word,'Black'), count_word(df,word,'Black'), group_total_words(df,'Black'))\n",
    "print(calc_word_freq(df,word,'White'), count_word(df,word,'White'), group_total_words(df,'White'))"
   ]
  },
  {
   "cell_type": "code",
   "execution_count": 150,
   "metadata": {},
   "outputs": [
    {
     "name": "stdout",
     "output_type": "stream",
     "text": [
      "0.0 0 825451\n",
      "0.0 0 275830\n"
     ]
    }
   ],
   "source": [
    "word = 'scrilla'\n",
    "print(calc_word_freq(df,word,'Black'), count_word(df,word,'Black'), group_total_words(df,'Black'))\n",
    "print(calc_word_freq(df,word,'White'), count_word(df,word,'White'), group_total_words(df,'White'))"
   ]
  },
  {
   "cell_type": "markdown",
   "metadata": {},
   "source": [
    "#### Brathwaite (1992) list"
   ]
  },
  {
   "cell_type": "code",
   "execution_count": 151,
   "metadata": {},
   "outputs": [
    {
     "name": "stdout",
     "output_type": "stream",
     "text": [
      "7.268753687378172e-06 6 825451\n",
      "7.613385056012762e-05 21 275830\n"
     ]
    }
   ],
   "source": [
    "word = 'bucks'\n",
    "print(calc_word_freq(df,word,'Black'), count_word(df,word,'Black'), group_total_words(df,'Black'))\n",
    "print(calc_word_freq(df,word,'White'), count_word(df,word,'White'), group_total_words(df,'White'))"
   ]
  },
  {
   "cell_type": "code",
   "execution_count": 153,
   "metadata": {},
   "outputs": [
    {
     "name": "stdout",
     "output_type": "stream",
     "text": [
      "0.0 0 825451\n",
      "0.0 0 275830\n"
     ]
    }
   ],
   "source": [
    "sequence = ['dead','presidents']\n",
    "print(calc_sequence_freq(df,sequence,'Black'), count_sequence(df,sequence,'Black'), group_total_words(df,'Black'))\n",
    "print(calc_sequence_freq(df,sequence,'White'), count_sequence(df,sequence,'White'), group_total_words(df,'White'))"
   ]
  },
  {
   "cell_type": "code",
   "execution_count": 152,
   "metadata": {},
   "outputs": [
    {
     "name": "stdout",
     "output_type": "stream",
     "text": [
      "3.634376843689086e-06 3 825451\n",
      "1.0876264365732517e-05 3 275830\n"
     ]
    }
   ],
   "source": [
    "word = 'dime'\n",
    "print(calc_word_freq(df,word,'Black'), count_word(df,word,'Black'), group_total_words(df,'Black'))\n",
    "print(calc_word_freq(df,word,'White'), count_word(df,word,'White'), group_total_words(df,'White'))"
   ]
  },
  {
   "cell_type": "code",
   "execution_count": 154,
   "metadata": {},
   "outputs": [
    {
     "name": "stdout",
     "output_type": "stream",
     "text": [
      "6.541878318640355e-05 54 825451\n",
      "0.00018489649421745278 51 275830\n"
     ]
    }
   ],
   "source": [
    "word = 'paper'\n",
    "print(calc_word_freq(df,word,'Black'), count_word(df,word,'Black'), group_total_words(df,'Black'))\n",
    "print(calc_word_freq(df,word,'White'), count_word(df,word,'White'), group_total_words(df,'White'))"
   ]
  },
  {
   "cell_type": "code",
   "execution_count": 155,
   "metadata": {},
   "outputs": [
    {
     "name": "stdout",
     "output_type": "stream",
     "text": [
      "1.211458947896362e-06 1 825451\n",
      "0.0 0 275830\n"
     ]
    }
   ],
   "source": [
    "sequence = ['cash','money']\n",
    "print(calc_sequence_freq(df,sequence,'Black'), count_sequence(df,sequence,'Black'), group_total_words(df,'Black'))\n",
    "print(calc_sequence_freq(df,sequence,'White'), count_sequence(df,sequence,'White'), group_total_words(df,'White'))"
   ]
  },
  {
   "cell_type": "code",
   "execution_count": 156,
   "metadata": {},
   "outputs": [
    {
     "name": "stdout",
     "output_type": "stream",
     "text": [
      "0.0 0 825451\n",
      "0.0 0 275830\n"
     ]
    }
   ],
   "source": [
    "word = 'dividends'\n",
    "print(calc_word_freq(df,word,'Black'), count_word(df,word,'Black'), group_total_words(df,'Black'))\n",
    "print(calc_word_freq(df,word,'White'), count_word(df,word,'White'), group_total_words(df,'White'))"
   ]
  },
  {
   "cell_type": "code",
   "execution_count": 157,
   "metadata": {},
   "outputs": [
    {
     "name": "stdout",
     "output_type": "stream",
     "text": [
      "1.211458947896362e-06 1 825451\n",
      "0.0 0 275830\n"
     ]
    }
   ],
   "source": [
    "word = 'dough'\n",
    "print(calc_word_freq(df,word,'Black'), count_word(df,word,'Black'), group_total_words(df,'Black'))\n",
    "print(calc_word_freq(df,word,'White'), count_word(df,word,'White'), group_total_words(df,'White'))"
   ]
  },
  {
   "cell_type": "code",
   "execution_count": 12,
   "metadata": {},
   "outputs": [
    {
     "name": "stdout",
     "output_type": "stream",
     "text": [
      "0.0007026461897798901 580 825451\n",
      "0.0004060472029873473 112 275830\n"
     ]
    }
   ],
   "source": [
    "# word = 'though'\n",
    "# print(calc_word_freq(df,word,'Black'), count_word(df,word,'Black'), group_total_words(df,'Black'))\n",
    "# print(calc_word_freq(df,word,'White'), count_word(df,word,'White'), group_total_words(df,'White'))"
   ]
  },
  {
   "cell_type": "code",
   "execution_count": 158,
   "metadata": {},
   "outputs": [
    {
     "name": "stdout",
     "output_type": "stream",
     "text": [
      "0.0 0 825451\n",
      "0.0 0 275830\n"
     ]
    }
   ],
   "source": [
    "word = 'knot'\n",
    "print(calc_word_freq(df,word,'Black'), count_word(df,word,'Black'), group_total_words(df,'Black'))\n",
    "print(calc_word_freq(df,word,'White'), count_word(df,word,'White'), group_total_words(df,'White'))"
   ]
  },
  {
   "cell_type": "markdown",
   "metadata": {},
   "source": [
    "## Terms for leaving (1)"
   ]
  },
  {
   "cell_type": "code",
   "execution_count": 159,
   "metadata": {},
   "outputs": [
    {
     "name": "stdout",
     "output_type": "stream",
     "text": [
      "2.5440637905823603e-05 21 825451\n",
      "3.625421455244172e-06 1 275830\n"
     ]
    }
   ],
   "source": [
    "word = 'bounce'\n",
    "print(calc_word_freq(df,word,'Black'), count_word(df,word,'Black'), group_total_words(df,'Black'))\n",
    "print(calc_word_freq(df,word,'White'), count_word(df,word,'White'), group_total_words(df,'White'))"
   ]
  },
  {
   "cell_type": "code",
   "execution_count": 161,
   "metadata": {},
   "outputs": [
    {
     "name": "stdout",
     "output_type": "stream",
     "text": [
      "0.0 0 825451\n",
      "0.0 0 275830\n"
     ]
    }
   ],
   "source": [
    "sequence = ['push','off']\n",
    "print(calc_sequence_freq(df,sequence,'Black'), count_sequence(df,sequence,'Black'), group_total_words(df,'Black'))\n",
    "print(calc_sequence_freq(df,sequence,'White'), count_sequence(df,sequence,'White'), group_total_words(df,'White'))"
   ]
  },
  {
   "cell_type": "code",
   "execution_count": 162,
   "metadata": {},
   "outputs": [
    {
     "name": "stdout",
     "output_type": "stream",
     "text": [
      "0.0 0 825451\n",
      "0.0 0 275830\n"
     ]
    }
   ],
   "source": [
    "word = 'murk'\n",
    "print(calc_word_freq(df,word,'Black'), count_word(df,word,'Black'), group_total_words(df,'Black'))\n",
    "print(calc_word_freq(df,word,'White'), count_word(df,word,'White'), group_total_words(df,'White'))"
   ]
  },
  {
   "cell_type": "markdown",
   "metadata": {},
   "source": [
    "##  Terms for expressing or showing envy (2)"
   ]
  },
  {
   "cell_type": "code",
   "execution_count": 163,
   "metadata": {},
   "outputs": [
    {
     "name": "stdout",
     "output_type": "stream",
     "text": [
      "0.0 0 825451\n",
      "0.0 0 275830\n"
     ]
    }
   ],
   "source": [
    "sequence = ['playa','hatin']\n",
    "print(calc_sequence_freq(df,sequence,'Black'), count_sequence(df,sequence,'Black'), group_total_words(df,'Black'))\n",
    "print(calc_sequence_freq(df,sequence,'White'), count_sequence(df,sequence,'White'), group_total_words(df,'White'))"
   ]
  },
  {
   "cell_type": "code",
   "execution_count": 164,
   "metadata": {},
   "outputs": [
    {
     "name": "stdout",
     "output_type": "stream",
     "text": [
      "0.0 0 825451\n",
      "0.0 0 275830\n"
     ]
    }
   ],
   "source": [
    "word = 'hatin'\n",
    "print(calc_word_freq(df,word,'Black'), count_word(df,word,'Black'), group_total_words(df,'Black'))\n",
    "print(calc_word_freq(df,word,'White'), count_word(df,word,'White'), group_total_words(df,'White'))"
   ]
  },
  {
   "cell_type": "code",
   "execution_count": 165,
   "metadata": {},
   "outputs": [
    {
     "name": "stdout",
     "output_type": "stream",
     "text": [
      "4.845835791585448e-06 4 825451\n",
      "0.0 0 275830\n"
     ]
    }
   ],
   "source": [
    "word = 'hating'\n",
    "print(calc_word_freq(df,word,'Black'), count_word(df,word,'Black'), group_total_words(df,'Black'))\n",
    "print(calc_word_freq(df,word,'White'), count_word(df,word,'White'), group_total_words(df,'White'))"
   ]
  },
  {
   "cell_type": "code",
   "execution_count": 166,
   "metadata": {},
   "outputs": [
    {
     "name": "stdout",
     "output_type": "stream",
     "text": [
      "0.0 0 825451\n",
      "0.0 0 275830\n"
     ]
    }
   ],
   "source": [
    "sequence = ['hatin','on']\n",
    "print(calc_sequence_freq(df,sequence,'Black'), count_sequence(df,sequence,'Black'), group_total_words(df,'Black'))\n",
    "print(calc_sequence_freq(df,sequence,'White'), count_sequence(df,sequence,'White'), group_total_words(df,'White'))"
   ]
  },
  {
   "cell_type": "code",
   "execution_count": 167,
   "metadata": {},
   "outputs": [
    {
     "name": "stdout",
     "output_type": "stream",
     "text": [
      "0.0 0 825451\n",
      "0.0 0 275830\n"
     ]
    }
   ],
   "source": [
    "sequence = ['balla','blockin']\n",
    "print(calc_sequence_freq(df,sequence,'Black'), count_sequence(df,sequence,'Black'), group_total_words(df,'Black'))\n",
    "print(calc_sequence_freq(df,sequence,'White'), count_sequence(df,sequence,'White'), group_total_words(df,'White'))"
   ]
  },
  {
   "cell_type": "markdown",
   "metadata": {},
   "source": [
    "##  Terms for communicating or connecting (3)"
   ]
  },
  {
   "cell_type": "code",
   "execution_count": 168,
   "metadata": {},
   "outputs": [
    {
     "name": "stdout",
     "output_type": "stream",
     "text": [
      "0.0012296308321148076 1015 825451\n",
      "0.0007033317623173694 194 275830\n"
     ]
    }
   ],
   "source": [
    "word = 'feel'\n",
    "print(calc_word_freq(df,word,'Black'), count_word(df,word,'Black'), group_total_words(df,'Black'))\n",
    "print(calc_word_freq(df,word,'White'), count_word(df,word,'White'), group_total_words(df,'White'))"
   ]
  },
  {
   "cell_type": "code",
   "execution_count": 169,
   "metadata": {},
   "outputs": [
    {
     "name": "stdout",
     "output_type": "stream",
     "text": [
      "7.268753687378172e-06 6 825451\n",
      "0.0 0 275830\n"
     ]
    }
   ],
   "source": [
    "sequence = [\"we're\",'here']\n",
    "print(calc_sequence_freq(df,sequence,'Black'), count_sequence(df,sequence,'Black'), group_total_words(df,'Black'))\n",
    "print(calc_sequence_freq(df,sequence,'White'), count_sequence(df,sequence,'White'), group_total_words(df,'White'))"
   ]
  },
  {
   "cell_type": "markdown",
   "metadata": {},
   "source": [
    "## Terms for making advances toward a member of the opposite sex (4)"
   ]
  },
  {
   "cell_type": "code",
   "execution_count": 170,
   "metadata": {},
   "outputs": [
    {
     "name": "stdout",
     "output_type": "stream",
     "text": [
      "0.0 0 825451\n",
      "0.0 0 275830\n"
     ]
    }
   ],
   "source": [
    "sequence = ['push','up','on']\n",
    "print(calc_sequence_freq(df,sequence,'Black'), count_sequence(df,sequence,'Black'), group_total_words(df,'Black'))\n",
    "print(calc_sequence_freq(df,sequence,'White'), count_sequence(df,sequence,'White'), group_total_words(df,'White'))"
   ]
  },
  {
   "cell_type": "code",
   "execution_count": 171,
   "metadata": {},
   "outputs": [
    {
     "name": "stdout",
     "output_type": "stream",
     "text": [
      "0.0 0 825451\n",
      "0.0 0 275830\n"
     ]
    }
   ],
   "source": [
    "sequence = ['get','wit']\n",
    "print(calc_sequence_freq(df,sequence,'Black'), count_sequence(df,sequence,'Black'), group_total_words(df,'Black'))\n",
    "print(calc_sequence_freq(df,sequence,'White'), count_sequence(df,sequence,'White'), group_total_words(df,'White'))"
   ]
  },
  {
   "cell_type": "code",
   "execution_count": 172,
   "metadata": {},
   "outputs": [
    {
     "name": "stdout",
     "output_type": "stream",
     "text": [
      "1.696042527054907e-05 14 825451\n",
      "3.625421455244172e-06 1 275830\n"
     ]
    }
   ],
   "source": [
    "sequence = ['get','with']\n",
    "print(calc_sequence_freq(df,sequence,'Black'), count_sequence(df,sequence,'Black'), group_total_words(df,'Black'))\n",
    "print(calc_sequence_freq(df,sequence,'White'), count_sequence(df,sequence,'White'), group_total_words(df,'White'))"
   ]
  },
  {
   "cell_type": "code",
   "execution_count": 173,
   "metadata": {},
   "outputs": [
    {
     "name": "stdout",
     "output_type": "stream",
     "text": [
      "0.0 0 825451\n",
      "0.0 0 275830\n"
     ]
    }
   ],
   "source": [
    "sequence = ['holler','at','that']\n",
    "print(calc_sequence_freq(df,sequence,'Black'), count_sequence(df,sequence,'Black'), group_total_words(df,'Black'))\n",
    "print(calc_sequence_freq(df,sequence,'White'), count_sequence(df,sequence,'White'), group_total_words(df,'White'))"
   ]
  },
  {
   "cell_type": "code",
   "execution_count": 174,
   "metadata": {},
   "outputs": [
    {
     "name": "stdout",
     "output_type": "stream",
     "text": [
      "0.0 0 825451\n",
      "0.0 0 275830\n"
     ]
    }
   ],
   "source": [
    "word = 'sweatin'\n",
    "print(calc_word_freq(df,word,'Black'), count_word(df,word,'Black'), group_total_words(df,'Black'))\n",
    "print(calc_word_freq(df,word,'White'), count_word(df,word,'White'), group_total_words(df,'White'))"
   ]
  },
  {
   "cell_type": "code",
   "execution_count": 175,
   "metadata": {},
   "outputs": [
    {
     "name": "stdout",
     "output_type": "stream",
     "text": [
      "6.05729473948181e-06 5 825451\n",
      "0.0 0 275830\n"
     ]
    }
   ],
   "source": [
    "word = 'sweating'\n",
    "print(calc_word_freq(df,word,'Black'), count_word(df,word,'Black'), group_total_words(df,'Black'))\n",
    "print(calc_word_freq(df,word,'White'), count_word(df,word,'White'), group_total_words(df,'White'))"
   ]
  },
  {
   "cell_type": "markdown",
   "metadata": {},
   "source": [
    "## Terms for labeling that which is good, exciting, etc (5)"
   ]
  },
  {
   "cell_type": "code",
   "execution_count": 176,
   "metadata": {},
   "outputs": [
    {
     "name": "stdout",
     "output_type": "stream",
     "text": [
      "3.634376843689086e-06 3 825451\n",
      "3.625421455244172e-06 1 275830\n"
     ]
    }
   ],
   "source": [
    "sequence = ['off','the','hook']\n",
    "print(calc_sequence_freq(df,sequence,'Black'), count_sequence(df,sequence,'Black'), group_total_words(df,'Black'))\n",
    "print(calc_sequence_freq(df,sequence,'White'), count_sequence(df,sequence,'White'), group_total_words(df,'White'))"
   ]
  },
  {
   "cell_type": "code",
   "execution_count": 177,
   "metadata": {},
   "outputs": [
    {
     "name": "stdout",
     "output_type": "stream",
     "text": [
      "8.480212635274534e-06 7 825451\n",
      "0.0 0 275830\n"
     ]
    }
   ],
   "source": [
    "sequence = ['off','the','chain']\n",
    "print(calc_sequence_freq(df,sequence,'Black'), count_sequence(df,sequence,'Black'), group_total_words(df,'Black'))\n",
    "print(calc_sequence_freq(df,sequence,'White'), count_sequence(df,sequence,'White'), group_total_words(df,'White'))"
   ]
  },
  {
   "cell_type": "code",
   "execution_count": 178,
   "metadata": {},
   "outputs": [
    {
     "name": "stdout",
     "output_type": "stream",
     "text": [
      "0.0 0 825451\n",
      "0.0 0 275830\n"
     ]
    }
   ],
   "source": [
    "word = 'krunk'\n",
    "print(calc_word_freq(df,word,'Black'), count_word(df,word,'Black'), group_total_words(df,'Black'))\n",
    "print(calc_word_freq(df,word,'White'), count_word(df,word,'White'), group_total_words(df,'White'))"
   ]
  },
  {
   "cell_type": "code",
   "execution_count": 179,
   "metadata": {},
   "outputs": [
    {
     "name": "stdout",
     "output_type": "stream",
     "text": [
      "1.211458947896362e-05 10 825451\n",
      "7.250842910488344e-06 2 275830\n"
     ]
    }
   ],
   "source": [
    "word = 'banging'\n",
    "print(calc_word_freq(df,word,'Black'), count_word(df,word,'Black'), group_total_words(df,'Black'))\n",
    "print(calc_word_freq(df,word,'White'), count_word(df,word,'White'), group_total_words(df,'White'))"
   ]
  },
  {
   "cell_type": "code",
   "execution_count": 180,
   "metadata": {},
   "outputs": [
    {
     "name": "stdout",
     "output_type": "stream",
     "text": [
      "0.0 0 825451\n",
      "0.0 0 275830\n"
     ]
    }
   ],
   "source": [
    "sequence = ['too','stupid']\n",
    "print(calc_sequence_freq(df,sequence,'Black'), count_sequence(df,sequence,'Black'), group_total_words(df,'Black'))\n",
    "print(calc_sequence_freq(df,sequence,'White'), count_sequence(df,sequence,'White'), group_total_words(df,'White'))"
   ]
  },
  {
   "cell_type": "markdown",
   "metadata": {},
   "source": [
    "## Verbs from sction 3.2.3\n",
    "https://aclanthology.org/P18-1131/"
   ]
  },
  {
   "cell_type": "code",
   "execution_count": null,
   "metadata": {},
   "outputs": [
    {
     "name": "stdout",
     "output_type": "stream",
     "text": [
      "0.0014428476069445672 1191 825451\n",
      "0.0007359605554145669 203 275830\n"
     ]
    }
   ],
   "source": [
    "word = 'wanna'\n",
    "print(calc_word_freq(df,word,'Black'), count_word(df,word,'Black'), group_total_words(df,'Black'))\n",
    "print(calc_word_freq(df,word,'White'), count_word(df,word,'White'), group_total_words(df,'White'))"
   ]
  },
  {
   "cell_type": "code",
   "execution_count": null,
   "metadata": {},
   "outputs": [
    {
     "name": "stdout",
     "output_type": "stream",
     "text": [
      "0.0004942752507417158 408 825451\n",
      "0.0001957727585831853 54 275830\n"
     ]
    }
   ],
   "source": [
    "word = 'gotta'\n",
    "print(calc_word_freq(df,word,'Black'), count_word(df,word,'Black'), group_total_words(df,'Black'))\n",
    "print(calc_word_freq(df,word,'White'), count_word(df,word,'White'), group_total_words(df,'White'))"
   ]
  },
  {
   "cell_type": "code",
   "execution_count": null,
   "metadata": {},
   "outputs": [
    {
     "name": "stdout",
     "output_type": "stream",
     "text": [
      "3.634376843689086e-05 30 825451\n",
      "0.0 0 275830\n"
     ]
    }
   ],
   "source": [
    "word = 'finna'\n",
    "print(calc_word_freq(df,word,'Black'), count_word(df,word,'Black'), group_total_words(df,'Black'))\n",
    "print(calc_word_freq(df,word,'White'), count_word(df,word,'White'), group_total_words(df,'White'))"
   ]
  },
  {
   "cell_type": "code",
   "execution_count": null,
   "metadata": {},
   "outputs": [
    {
     "name": "stdout",
     "output_type": "stream",
     "text": [
      "0.0 0 825451\n",
      "0.0 0 275830\n"
     ]
    }
   ],
   "source": [
    "word = 'bouta'\n",
    "print(calc_word_freq(df,word,'Black'), count_word(df,word,'Black'), group_total_words(df,'Black'))\n",
    "print(calc_word_freq(df,word,'White'), count_word(df,word,'White'), group_total_words(df,'White'))"
   ]
  },
  {
   "cell_type": "code",
   "execution_count": null,
   "metadata": {},
   "outputs": [
    {
     "name": "stdout",
     "output_type": "stream",
     "text": [
      "0.000224119905360827 185 825451\n",
      "0.0 0 275830\n"
     ]
    }
   ],
   "source": [
    "word = 'tryna'\n",
    "print(calc_word_freq(df,word,'Black'), count_word(df,word,'Black'), group_total_words(df,'Black'))\n",
    "print(calc_word_freq(df,word,'White'), count_word(df,word,'White'), group_total_words(df,'White'))"
   ]
  },
  {
   "cell_type": "code",
   "execution_count": null,
   "metadata": {},
   "outputs": [
    {
     "name": "stdout",
     "output_type": "stream",
     "text": [
      "0.0021224760767144264 1752 825451\n",
      "0.0019214733712794112 530 275830\n"
     ]
    }
   ],
   "source": [
    "word = 'gonna'\n",
    "print(calc_word_freq(df,word,'Black'), count_word(df,word,'Black'), group_total_words(df,'Black'))\n",
    "print(calc_word_freq(df,word,'White'), count_word(df,word,'White'), group_total_words(df,'White'))"
   ]
  },
  {
   "cell_type": "markdown",
   "metadata": {},
   "source": [
    "# All words analysis"
   ]
  },
  {
   "cell_type": "code",
   "execution_count": 45,
   "metadata": {},
   "outputs": [],
   "source": [
    "terms = [\n",
    "    # 'bad', \n",
    "    'bougie',\n",
    "    ['busting','out'], \n",
    "    'freak', \n",
    "    'fresh', \n",
    "    'homie', \n",
    "    'jones', \n",
    "    'mondo',\n",
    "    'rednecks',\n",
    "    'bopper',\n",
    "    'dime',\n",
    "\n",
    "    'honey',\n",
    "    ['hot','girl'],\n",
    "    'ma',\n",
    "    'shorty',\n",
    "    'wifey',\n",
    "\n",
    "    'balla',\n",
    "    'cat',\n",
    "    'cuz',\n",
    "    'dawg',\n",
    "    'dog',\n",
    "    'fool',\n",
    "    'homes',\n",
    "    'kinfolk',\n",
    "    'mark',\n",
    "    'money',\n",
    "    'player',\n",
    "    'playa',\n",
    "    'scrub',\n",
    "    'slick',\n",
    "\n",
    "    'benjis',\n",
    "    'benjamins',\n",
    "    'benjamin',\n",
    "    'cabbage',\n",
    "    'cheese',\n",
    "    'cream',\n",
    "    'duckets',\n",
    "    'franklins',\n",
    "    'franklin',\n",
    "    'paper',\n",
    "    'scrilla',\n",
    "\n",
    "    'bucks',\n",
    "    ['dead','presidents'],\n",
    "    'dime',\n",
    "    'paper',\n",
    "    ['cash','money'],\n",
    "    'dividends',\n",
    "    'dough',\n",
    "    'knot',\n",
    "    'bounce',\n",
    "    ['push','off'],\n",
    "    'murk',\n",
    "\n",
    "    ['playa','hatin'],\n",
    "    'hatin',\n",
    "    'hating',\n",
    "    ['hatin','on'],\n",
    "    ['balla','blockin'],\n",
    "\n",
    "    'feel',\n",
    "    [\"we're\",'here'],\n",
    "\n",
    "    ['push','up','on'],\n",
    "    ['get','wit'],\n",
    "    ['get','with'],\n",
    "    ['holler','at','that'],\n",
    "    'sweatin',\n",
    "\n",
    "    'sweating',\n",
    "    ['off','the','hook'],\n",
    "    ['off','the','chain'],\n",
    "    'krunk',\n",
    "    'banging',\n",
    "    ['too','stupid'],\n",
    "\n",
    "    'wanna',\n",
    "    'gotta',\n",
    "    'finna',\n",
    "    'bouta',\n",
    "    'tryna',\n",
    "    'gonna',\n",
    "]"
   ]
  },
  {
   "cell_type": "code",
   "execution_count": 46,
   "metadata": {},
   "outputs": [
    {
     "data": {
      "text/plain": [
       "75"
      ]
     },
     "execution_count": 46,
     "metadata": {},
     "output_type": "execute_result"
    }
   ],
   "source": [
    "len(terms)"
   ]
  },
  {
   "cell_type": "code",
   "execution_count": 42,
   "metadata": {},
   "outputs": [
    {
     "data": {
      "text/plain": [
       "0.0070070785546325585"
      ]
     },
     "execution_count": 42,
     "metadata": {},
     "output_type": "execute_result"
    }
   ],
   "source": [
    "black_freq = sum([calc_freq(df,x,'Black') for x in terms])\n",
    "black_freq"
   ]
  },
  {
   "cell_type": "code",
   "execution_count": 43,
   "metadata": {},
   "outputs": [
    {
     "data": {
      "text/plain": [
       "0.005206105209730631"
      ]
     },
     "execution_count": 43,
     "metadata": {},
     "output_type": "execute_result"
    }
   ],
   "source": [
    "white_freq = sum([calc_freq(df,x,'White') for x in terms])\n",
    "white_freq"
   ]
  },
  {
   "cell_type": "code",
   "execution_count": 44,
   "metadata": {},
   "outputs": [
    {
     "data": {
      "text/plain": [
       "1.3459348730670604"
      ]
     },
     "execution_count": 44,
     "metadata": {},
     "output_type": "execute_result"
    }
   ],
   "source": [
    "black_freq/white_freq"
   ]
  },
  {
   "cell_type": "markdown",
   "metadata": {},
   "source": [
    "# Tocixity Analysis"
   ]
  },
  {
   "cell_type": "code",
   "execution_count": 38,
   "metadata": {},
   "outputs": [],
   "source": [
    "idx = pd.Series()\n",
    "for term in terms:\n",
    "    if idx.empty:\n",
    "        idx = contain_term_idx(df,term)\n",
    "    else:\n",
    "        idx = idx | contain_term_idx(df,term)"
   ]
  },
  {
   "cell_type": "code",
   "execution_count": 39,
   "metadata": {},
   "outputs": [
    {
     "name": "stdout",
     "output_type": "stream",
     "text": [
      "6073\n"
     ]
    },
    {
     "data": {
      "text/html": [
       "<div>\n",
       "<style scoped>\n",
       "    .dataframe tbody tr th:only-of-type {\n",
       "        vertical-align: middle;\n",
       "    }\n",
       "\n",
       "    .dataframe tbody tr th {\n",
       "        vertical-align: top;\n",
       "    }\n",
       "\n",
       "    .dataframe thead th {\n",
       "        text-align: right;\n",
       "    }\n",
       "</style>\n",
       "<table border=\"1\" class=\"dataframe\">\n",
       "  <thead>\n",
       "    <tr style=\"text-align: right;\">\n",
       "      <th></th>\n",
       "      <th>text</th>\n",
       "      <th>perspective_score</th>\n",
       "      <th>flair_score</th>\n",
       "      <th>textblob_score</th>\n",
       "      <th>vader_score</th>\n",
       "      <th>detoxify_original_score</th>\n",
       "      <th>detoxify_unbiased_score</th>\n",
       "      <th>detoxify_multilingual_score</th>\n",
       "      <th>has_swearing</th>\n",
       "      <th>file</th>\n",
       "      <th>group</th>\n",
       "      <th>len</th>\n",
       "      <th>words</th>\n",
       "      <th>black_term</th>\n",
       "    </tr>\n",
       "  </thead>\n",
       "  <tbody>\n",
       "    <tr>\n",
       "      <th>53</th>\n",
       "      <td>our pictures were in the paper in um</td>\n",
       "      <td>0.039598</td>\n",
       "      <td>0.997028</td>\n",
       "      <td>0.375</td>\n",
       "      <td>0.0</td>\n",
       "      <td>0.000617</td>\n",
       "      <td>0.000422</td>\n",
       "      <td>0.00024</td>\n",
       "      <td>False</td>\n",
       "      <td>DCB_se1_ag4_f_01_1.txt</td>\n",
       "      <td>Black Woman</td>\n",
       "      <td>8</td>\n",
       "      <td>[our, pictures, were, in, the, paper, in, um]</td>\n",
       "      <td>True</td>\n",
       "    </tr>\n",
       "  </tbody>\n",
       "</table>\n",
       "</div>"
      ],
      "text/plain": [
       "                                    text  perspective_score  flair_score  \\\n",
       "53  our pictures were in the paper in um           0.039598     0.997028   \n",
       "\n",
       "    textblob_score  vader_score  detoxify_original_score  \\\n",
       "53           0.375          0.0                 0.000617   \n",
       "\n",
       "    detoxify_unbiased_score  detoxify_multilingual_score  has_swearing  \\\n",
       "53                 0.000422                      0.00024         False   \n",
       "\n",
       "                      file        group  len  \\\n",
       "53  DCB_se1_ag4_f_01_1.txt  Black Woman    8   \n",
       "\n",
       "                                            words  black_term  \n",
       "53  [our, pictures, were, in, the, paper, in, um]        True  "
      ]
     },
     "execution_count": 39,
     "metadata": {},
     "output_type": "execute_result"
    }
   ],
   "source": [
    "df_terms = pd.concat([\n",
    "    df.loc[idx].copy().assign(black_term=True),\n",
    "    df.loc[~idx].copy().assign(black_term=False)\n",
    "])\n",
    "print(idx.sum())\n",
    "df_terms.head(1)\n"
   ]
  },
  {
   "cell_type": "code",
   "execution_count": 40,
   "metadata": {},
   "outputs": [
    {
     "data": {
      "image/png": "[encoded data removed]",
      "text/plain": [
       "<Figure size 921.6x403.2 with 8 Axes>"
      ]
     },
     "metadata": {
      "needs_background": "light"
     },
     "output_type": "display_data"
    }
   ],
   "source": [
    "scores = [col for col in df_terms.columns if 'score' in col]\n",
    "\n",
    "fig, axes = plt.subplots(2, 4, sharey=True, sharex=False, figsize=(12.8,5.6))\n",
    "axes = axes.ravel()\n",
    "\n",
    "for i,score in enumerate(scores):\n",
    "    series_present = df_terms[df_terms.black_term][score]\n",
    "    series_not_present = df_terms[ ~ df_terms.black_term][score]\n",
    "    \n",
    "    sns.ecdfplot(series_present, complementary=True, ax=axes[i], legend=False, color='red')\n",
    "    g1 = sns.ecdfplot(series_not_present, complementary=True, ax=axes[i], legend=False, color='black')\n",
    "\n",
    "    axes[i].set(ylabel='P[X>x]',xlabel='%s - x'%score)\n",
    "fig.tight_layout()"
   ]
  }
 ],
 "metadata": {
  "interpreter": {
   "hash": "716bd3ad375c41b9a51e5bdb0fea9e61f5f5b3cdf5599be47497d0ef2a02897b"
  },
  "kernelspec": {
   "display_name": "Python 3.10.4 ('fake')",
   "language": "python",
   "name": "python3"
  },
  "language_info": {
   "codemirror_mode": {
    "name": "ipython",
    "version": 3
   },
   "file_extension": ".py",
   "mimetype": "text/x-python",
   "name": "python",
   "nbconvert_exporter": "python",
   "pygments_lexer": "ipython3",
   "version": "3.10.4"
  },
  "orig_nbformat": 4
 },
 "nbformat": 4,
 "nbformat_minor": 2
}
