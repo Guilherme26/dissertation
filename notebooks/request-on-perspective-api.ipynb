{
 "cells": [
  {
   "cell_type": "code",
   "execution_count": 1,
   "metadata": {},
   "outputs": [
    {
     "name": "stdout",
     "output_type": "stream",
     "text": [
      "Requirement already up-to-date: google-api-python-client in /home/guilherme-resende/anaconda3/lib/python3.7/site-packages (2.17.0)\n",
      "Requirement already satisfied, skipping upgrade: google-auth<3.0.0dev,>=1.16.0 in /home/guilherme-resende/anaconda3/lib/python3.7/site-packages (from google-api-python-client) (1.34.0)\n",
      "Requirement already satisfied, skipping upgrade: httplib2<1dev,>=0.15.0 in /home/guilherme-resende/anaconda3/lib/python3.7/site-packages (from google-api-python-client) (0.19.1)\n",
      "Requirement already satisfied, skipping upgrade: uritemplate<4dev,>=3.0.0 in /home/guilherme-resende/anaconda3/lib/python3.7/site-packages (from google-api-python-client) (3.0.1)\n",
      "Requirement already satisfied, skipping upgrade: google-api-core<3.0.0dev,>=1.21.0 in /home/guilherme-resende/anaconda3/lib/python3.7/site-packages (from google-api-python-client) (1.31.1)\n",
      "Requirement already satisfied, skipping upgrade: google-auth-httplib2>=0.1.0 in /home/guilherme-resende/anaconda3/lib/python3.7/site-packages (from google-api-python-client) (0.1.0)\n",
      "Requirement already satisfied, skipping upgrade: setuptools>=40.3.0 in /home/guilherme-resende/anaconda3/lib/python3.7/site-packages (from google-auth<3.0.0dev,>=1.16.0->google-api-python-client) (56.2.0)\n",
      "Requirement already satisfied, skipping upgrade: rsa<5,>=3.1.4; python_version >= \"3.6\" in /home/guilherme-resende/anaconda3/lib/python3.7/site-packages (from google-auth<3.0.0dev,>=1.16.0->google-api-python-client) (4.0)\n",
      "Requirement already satisfied, skipping upgrade: cachetools<5.0,>=2.0.0 in /home/guilherme-resende/anaconda3/lib/python3.7/site-packages (from google-auth<3.0.0dev,>=1.16.0->google-api-python-client) (4.1.0)\n",
      "Requirement already satisfied, skipping upgrade: six>=1.9.0 in /home/guilherme-resende/anaconda3/lib/python3.7/site-packages (from google-auth<3.0.0dev,>=1.16.0->google-api-python-client) (1.16.0)\n",
      "Requirement already satisfied, skipping upgrade: pyasn1-modules>=0.2.1 in /home/guilherme-resende/anaconda3/lib/python3.7/site-packages (from google-auth<3.0.0dev,>=1.16.0->google-api-python-client) (0.2.8)\n",
      "Requirement already satisfied, skipping upgrade: pyparsing<3,>=2.4.2 in /home/guilherme-resende/anaconda3/lib/python3.7/site-packages (from httplib2<1dev,>=0.15.0->google-api-python-client) (2.4.6)\n",
      "Requirement already satisfied, skipping upgrade: packaging>=14.3 in /home/guilherme-resende/anaconda3/lib/python3.7/site-packages (from google-api-core<3.0.0dev,>=1.21.0->google-api-python-client) (20.9)\n",
      "Requirement already satisfied, skipping upgrade: pytz in /home/guilherme-resende/anaconda3/lib/python3.7/site-packages (from google-api-core<3.0.0dev,>=1.21.0->google-api-python-client) (2019.3)\n",
      "Requirement already satisfied, skipping upgrade: googleapis-common-protos<2.0dev,>=1.6.0 in /home/guilherme-resende/anaconda3/lib/python3.7/site-packages (from google-api-core<3.0.0dev,>=1.21.0->google-api-python-client) (1.51.0)\n",
      "Requirement already satisfied, skipping upgrade: protobuf>=3.12.0 in /home/guilherme-resende/anaconda3/lib/python3.7/site-packages (from google-api-core<3.0.0dev,>=1.21.0->google-api-python-client) (3.17.3)\n",
      "Requirement already satisfied, skipping upgrade: requests<3.0.0dev,>=2.18.0 in /home/guilherme-resende/anaconda3/lib/python3.7/site-packages (from google-api-core<3.0.0dev,>=1.21.0->google-api-python-client) (2.21.0)\n",
      "Requirement already satisfied, skipping upgrade: pyasn1>=0.1.3 in /home/guilherme-resende/anaconda3/lib/python3.7/site-packages (from rsa<5,>=3.1.4; python_version >= \"3.6\"->google-auth<3.0.0dev,>=1.16.0->google-api-python-client) (0.4.8)\n",
      "Requirement already satisfied, skipping upgrade: certifi>=2017.4.17 in /home/guilherme-resende/anaconda3/lib/python3.7/site-packages (from requests<3.0.0dev,>=2.18.0->google-api-core<3.0.0dev,>=1.21.0->google-api-python-client) (2021.5.30)\n",
      "Requirement already satisfied, skipping upgrade: idna<2.9,>=2.5 in /home/guilherme-resende/anaconda3/lib/python3.7/site-packages (from requests<3.0.0dev,>=2.18.0->google-api-core<3.0.0dev,>=1.21.0->google-api-python-client) (2.8)\n",
      "Requirement already satisfied, skipping upgrade: urllib3<1.25,>=1.21.1 in /home/guilherme-resende/anaconda3/lib/python3.7/site-packages (from requests<3.0.0dev,>=2.18.0->google-api-core<3.0.0dev,>=1.21.0->google-api-python-client) (1.24.3)\n",
      "Requirement already satisfied, skipping upgrade: chardet<3.1.0,>=3.0.2 in /home/guilherme-resende/anaconda3/lib/python3.7/site-packages (from requests<3.0.0dev,>=2.18.0->google-api-core<3.0.0dev,>=1.21.0->google-api-python-client) (3.0.4)\n"
     ]
    }
   ],
   "source": [
    "!pip install --upgrade google-api-python-client"
   ]
  },
  {
   "cell_type": "code",
   "execution_count": 2,
   "metadata": {},
   "outputs": [],
   "source": [
    "import sys\n",
    "import yaml\n",
    "import glob\n",
    "import os\n",
    "import pandas as pd\n",
    "import time\n",
    "import re\n",
    "\n",
    "from tqdm import tqdm\n",
    "from googleapiclient import discovery"
   ]
  },
  {
   "cell_type": "code",
   "execution_count": 3,
   "metadata": {},
   "outputs": [
    {
     "name": "stderr",
     "output_type": "stream",
     "text": [
      "/home/guilherme-resende/anaconda3/lib/python3.7/site-packages/ipykernel_launcher.py:1: YAMLLoadWarning: calling yaml.load() without Loader=... is deprecated, as the default Loader is unsafe. Please read https://msg.pyyaml.org/load for full details.\n",
      "  \"\"\"Entry point for launching an IPython kernel.\n"
     ]
    }
   ],
   "source": [
    "credentials = yaml.load(open(\"../credentials.yaml\"))[\"perspective-api\"]"
   ]
  },
  {
   "cell_type": "code",
   "execution_count": 4,
   "metadata": {},
   "outputs": [],
   "source": [
    "def get_toxicity_score(service, text):\n",
    "    try:\n",
    "        if sys.getsizeof(text) > 0 and sys.getsizeof(text) < 3000:\n",
    "            analyze_request = {\n",
    "                'comment': {'text': text},\n",
    "                'requestedAttributes': {'TOXICITY': {}}\n",
    "            }\n",
    "            response = service.comments().analyze(body=analyze_request).execute()\n",
    "            toxicity_score = (\n",
    "                response.get(\"attributeScores\")\n",
    "                .get(\"TOXICITY\")\n",
    "                .get(\"summaryScore\")\n",
    "                .get(\"value\")\n",
    "            )\n",
    "        else:\n",
    "            toxicity_score = None\n",
    "    except:\n",
    "        toxicity_score = None\n",
    "    \n",
    "    return toxicity_score"
   ]
  },
  {
   "cell_type": "code",
   "execution_count": 5,
   "metadata": {},
   "outputs": [],
   "source": [
    "service = discovery.build(\n",
    "    \"commentanalyzer\",\n",
    "    \"v1alpha1\",\n",
    "    developerKey=credentials[\"key-1\"],\n",
    "    discoveryServiceUrl=\"https://commentanalyzer.googleapis.com/$discovery/rest?version=v1alpha1\",\n",
    "    static_discovery=False,\n",
    ")"
   ]
  },
  {
   "cell_type": "code",
   "execution_count": 6,
   "metadata": {},
   "outputs": [
    {
     "name": "stderr",
     "output_type": "stream",
     "text": [
      "100%|██████████████████████████████████████████████████████████████████| 3/3 [16:39<00:00, 333.20s/it]\n"
     ]
    }
   ],
   "source": [
    "input_path = \"../data/02_segmented\"\n",
    "output_path = \"../data/03_scored\"\n",
    "filenames = [file.split(\"/\")[-1] for file in glob.glob(os.path.join(input_path, \"*\"))]\n",
    "\n",
    "for filename in tqdm(filenames, total=len(filenames)):\n",
    "    df_sentences = pd.read_csv(os.path.join(input_path, filename))\n",
    "    for i, row in df_sentences.iterrows():\n",
    "        df_sentences.loc[i, \"score\"] = get_toxicity_score(service, row.text)\n",
    "        time.sleep(1)\n",
    "\n",
    "    filename = re.findall(\"\\d+\", filename)[0]\n",
    "    df_sentences.to_csv(os.path.join(output_path, f\"scored-{filename}.csv\"), index=False)"
   ]
  },
  {
   "cell_type": "code",
   "execution_count": null,
   "metadata": {},
   "outputs": [],
   "source": []
  }
 ],
 "metadata": {
  "kernelspec": {
   "display_name": "Python 3",
   "language": "python",
   "name": "python3"
  },
  "language_info": {
   "codemirror_mode": {
    "name": "ipython",
    "version": 3
   },
   "file_extension": ".py",
   "mimetype": "text/x-python",
   "name": "python",
   "nbconvert_exporter": "python",
   "pygments_lexer": "ipython3",
   "version": "3.7.6"
  }
 },
 "nbformat": 4,
 "nbformat_minor": 4
}
