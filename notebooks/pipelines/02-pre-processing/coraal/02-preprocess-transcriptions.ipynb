{
 "cells": [
  {
   "cell_type": "markdown",
   "metadata": {},
   "source": [
    "### Quick Description\n",
    "\n",
    "Process transcribed text to a more readable format based on [CORAAL's User Guide](http://lingtools.uoregon.edu/coraal/userguide/CORAALUserGuide_current.pdf)"
   ]
  },
  {
   "cell_type": "code",
   "execution_count": null,
   "metadata": {},
   "outputs": [],
   "source": [
    "import os\n",
    "import glob\n",
    "import yaml\n",
    "import re\n",
    "import pandas as pd\n",
    "\n",
    "from tqdm import tqdm"
   ]
  },
  {
   "cell_type": "code",
   "execution_count": null,
   "metadata": {},
   "outputs": [],
   "source": [
    "filepaths = yaml.load(open(\"/home/guilherme/Desktop/dissertation/config/filepaths.yaml\"), Loader=yaml.FullLoader)"
   ]
  },
  {
   "cell_type": "markdown",
   "metadata": {},
   "source": [
    "---\n",
    "### Data Cleansing"
   ]
  },
  {
   "cell_type": "code",
   "execution_count": null,
   "metadata": {},
   "outputs": [],
   "source": [
    "filenames = [file.split(\"/\")[-1] for file in glob.glob(os.path.join(filepaths[\"02_coraal_preprocessed\"], \"*\"))]"
   ]
  },
  {
   "cell_type": "markdown",
   "metadata": {},
   "source": [
    "#### Build the entire text"
   ]
  },
  {
   "cell_type": "code",
   "execution_count": null,
   "metadata": {},
   "outputs": [],
   "source": [
    "for filename in tqdm(filenames):\n",
    "    df = pd.read_csv(os.path.join(filepaths[\"01_coraal_raw\"], filename), sep=\"\\t\")\n",
    "\n",
    "    # Get only the interviewed person's sentences\n",
    "    df[\"is_interviewer\"] = df.Spkr.apply(lambda s: \"_int_\" in s)\n",
    "    df = df[~df.is_interviewer]\n",
    "\n",
    "    s = ' '.join(df.Content.values)\n",
    "\n",
    "    # Remove line-level notes, e.g. (laughing)\n",
    "    s = re.sub(\"\\(.*?\\)\", '', s)\n",
    "\n",
    "    # Remove non-linguistic sounds, e.g. `<cough>`\n",
    "    s = re.sub(\"\\<.*?\\>\", '', s)\n",
    "\n",
    "    # Introduce the overlapping text to the regular text\n",
    "    s = re.sub(\"\\[|\\]\", '', s)\n",
    "\n",
    "    # Replace markers with real tokens\n",
    "    s = re.sub(\"\\/RD-ADRESS-[0-9]+\\/\", \"3rd Ave\", s)\n",
    "    s = re.sub(\"\\/RD-NAME-[0-9]+\\/\", \"Mary\", s)\n",
    "    s = re.sub(\"\\/RD-WORK-[0-9]+\\/\", \"Google\", s)\n",
    "    s = re.sub(\"\\/RD-PLACE-[0-9]+\\/\", \"Starbucks\", s)\n",
    "    s = re.sub(\"\\/RD-SCHOOL-[0-9]+\\/\", \"Mission San José High School\", s)\n",
    "\n",
    "    # Remove non-recongnizable text\n",
    "    s = re.sub(\"\\/inaudible\\/\", '', s)\n",
    "    s = re.sub(\"\\/unintelligible\\/\", '', s)\n",
    "\n",
    "    # Remove unknown terms\n",
    "    s = re.sub(\"\\/\\?+\\/\", '', s)\n",
    "    \n",
    "    # Introduce the redacted text to the string as regular text\n",
    "    s = re.sub(\"[\\/\\/]+\", '', s)\n",
    "\n",
    "    # Remove all punctuations\n",
    "    s = re.sub(\"[\\?!;\\-\\.,]+\", '', s)\n",
    "\n",
    "    df = pd.DataFrame([s], columns=[\"text\"])\n",
    "    \n",
    "    df.to_csv(os.path.join(filepaths[\"02_coraal_preprocessed\"], filename), index=False)"
   ]
  }
 ],
 "metadata": {
  "kernelspec": {
   "display_name": "Python 3 (ipykernel)",
   "language": "python",
   "name": "python3"
  },
  "language_info": {
   "codemirror_mode": {
    "name": "ipython",
    "version": 3
   },
   "file_extension": ".py",
   "mimetype": "text/x-python",
   "name": "python",
   "nbconvert_exporter": "python",
   "pygments_lexer": "ipython3",
   "version": "3.8.10"
  }
 },
 "nbformat": 4,
 "nbformat_minor": 4
}
