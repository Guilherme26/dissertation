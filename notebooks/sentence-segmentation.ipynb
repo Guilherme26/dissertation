{
 "cells": [
  {
   "cell_type": "markdown",
   "metadata": {},
   "source": [
    "### Quick Description\n",
    "\n",
    "This notebook implements the sentences' segmentation in two different ways. The first one is done with a machine learning model trained to predict punctuations, and the second one is solely based on a static slicing procedure."
   ]
  },
  {
   "cell_type": "code",
   "execution_count": null,
   "metadata": {},
   "outputs": [],
   "source": [
    "import pandas as pd\n",
    "import sys\n",
    "import os\n",
    "import glob\n",
    "import re\n",
    "from tqdm import tqdm\n",
    "\n",
    "sys.path.append(\"../utils\")\n",
    "from sentence_segmenter import *"
   ]
  },
  {
   "cell_type": "markdown",
   "metadata": {
    "id": "mwLbDqhyQhYu"
   },
   "source": [
    "### Sentence Segmentation (Model-based Approach)"
   ]
  },
  {
   "cell_type": "code",
   "execution_count": null,
   "metadata": {},
   "outputs": [],
   "source": [
    "%%script False\n",
    "\n",
    "segmenter = GptSegmenter()\n",
    "\n",
    "for filename in tqdm(filenames, total=len(filenames)):\n",
    "    with open(os.path.join(input_path, filename)) as file:\n",
    "        text = file.read()\n",
    "\n",
    "    # Get the segmented sentences. Each list is a phrase\n",
    "    sentences = segmenter.segment(text)\n",
    "\n",
    "    df = pd.DataFrame(map(lambda words: ' '.join(words), sentences), columns=[\"text\"])\n",
    "    df.to_csv(os.path.join(output_path, f\"segmented-{re.sub(r'.txt', '.csv', filename)}\"), index=False)"
   ]
  },
  {
   "cell_type": "markdown",
   "metadata": {},
   "source": [
    "---"
   ]
  },
  {
   "cell_type": "code",
   "execution_count": null,
   "metadata": {},
   "outputs": [],
   "source": [
    "def segment_sentences(input_path, output_path, context_size=15):\n",
    "    filenames = [file.split(\"/\")[-1] for file in glob.glob(os.path.join(input_path, \"*\"))]\n",
    "\n",
    "    for filename in tqdm(filenames, total=len(filenames)):\n",
    "        with open(os.path.join(input_path, filename)) as file:\n",
    "            text = file.read().split()\n",
    "\n",
    "        sentences = []\n",
    "        initial_idx = 0\n",
    "        for final_idx in range(context_size, len(text), context_size):\n",
    "            sentences.append(' '.join(text[initial_idx:final_idx]))\n",
    "            initial_idx = final_idx\n",
    "\n",
    "        df = pd.DataFrame(sentences, columns=[\"text\"])\n",
    "        df.to_csv(os.path.join(output_path, filename), index=False)"
   ]
  },
  {
   "cell_type": "markdown",
   "metadata": {},
   "source": [
    "---\n",
    "\n",
    "### Sentence Segmentation (Statitic Approach)\n",
    "\n",
    "According to [this reference](https://medium.com/@theacropolitan/sentence-length-has-declined-75-in-the-past-500-years-2e40f80f589f#:~:text=On%20average%2C%20sentences%20today%20range,per%20sentence%20in%20some%20years.), the average sentence size is somewhere between 15 ~ 20 words. So, lets segments by this approach."
   ]
  },
  {
   "cell_type": "code",
   "execution_count": null,
   "metadata": {
    "scrolled": false
   },
   "outputs": [],
   "source": [
    "segment_sentences(\n",
    "    \"../data/01_preprocessed/without_curse_words\",\n",
    "    \"../data/02_segmented/fixed_size_context/without_curse_words\"\n",
    ")"
   ]
  }
 ],
 "metadata": {
  "colab": {
   "authorship_tag": "ABX9TyOICPQ5KHDTg4cO5523I3yO",
   "collapsed_sections": [],
   "name": "use-exemple.ipynb",
   "provenance": []
  },
  "kernelspec": {
   "display_name": "Python 3",
   "language": "python",
   "name": "python3"
  },
  "language_info": {
   "codemirror_mode": {
    "name": "ipython",
    "version": 3
   },
   "file_extension": ".py",
   "mimetype": "text/x-python",
   "name": "python",
   "nbconvert_exporter": "python",
   "pygments_lexer": "ipython3",
   "version": "3.7.6"
  }
 },
 "nbformat": 4,
 "nbformat_minor": 1
}
