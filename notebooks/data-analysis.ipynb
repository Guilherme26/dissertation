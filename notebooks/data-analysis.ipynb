{
 "cells": [
  {
   "cell_type": "code",
   "execution_count": 1,
   "metadata": {},
   "outputs": [],
   "source": [
    "import os\n",
    "import re\n",
    "import path"
   ]
  },
  {
   "cell_type": "code",
   "execution_count": 2,
   "metadata": {},
   "outputs": [],
   "source": [
    "pwd = \"../data/00_raw\"\n",
    "filenames = os.listdir(pwd)\n",
    "\n",
    "PERSPECTIVE_CHAR_LIMIT = 5000\n",
    "n_small_corpus = 0\n",
    "n_curse_words = 0\n",
    "for file in filenames:\n",
    "    with open(os.path.join(pwd, file)) as f:\n",
    "        content = f.read()\n",
    "    \n",
    "    if len(content) <= PERSPECTIVE_CHAR_LIMIT:\n",
    "        n_small_corpus += 1\n",
    "    \n",
    "    n_curse_words += len(re.findall(\"\\[ __ \\]+\", content))"
   ]
  },
  {
   "cell_type": "code",
   "execution_count": 3,
   "metadata": {},
   "outputs": [
    {
     "name": "stdout",
     "output_type": "stream",
     "text": [
      "Basic Statistics\n",
      "----------------\n",
      "  - Percentage of data with less than 5000 characters is 23.31%\n",
      "  - Average number of curse words is 0.77 per file\n"
     ]
    }
   ],
   "source": [
    "n_files = len(filenames)\n",
    "\n",
    "print(\"Basic Statistics\")\n",
    "print(\"----------------\")\n",
    "print(f\"  - Percentage of data with less than 5000 characters is {n_small_corpus/n_files*100:0.2f}%\")\n",
    "print(f\"  - Average number of curse words is {n_curse_words/n_files:0.2f} per file\")"
   ]
  },
  {
   "cell_type": "code",
   "execution_count": null,
   "metadata": {},
   "outputs": [],
   "source": []
  }
 ],
 "metadata": {
  "kernelspec": {
   "display_name": "Python 3",
   "language": "python",
   "name": "python3"
  },
  "language_info": {
   "codemirror_mode": {
    "name": "ipython",
    "version": 3
   },
   "file_extension": ".py",
   "mimetype": "text/x-python",
   "name": "python",
   "nbconvert_exporter": "python",
   "pygments_lexer": "ipython3",
   "version": "3.7.6"
  }
 },
 "nbformat": 4,
 "nbformat_minor": 4
}
