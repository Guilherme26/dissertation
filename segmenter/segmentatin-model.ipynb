{
 "cells": [
  {
   "cell_type": "markdown",
   "metadata": {},
   "source": [
    "## Segmentation Model\n",
    "\n",
    "Here I intend to develop a segmentation model with the aid of previously pre-trained deep neural models. To load the GloVe Embeddings, I followed [this tutorial](https://keras.io/examples/nlp/pretrained_word_embeddings/).\n",
    "\n",
    "---\n",
    "### To Do:\n",
    "- Find a way to best embed numbers"
   ]
  },
  {
   "cell_type": "code",
   "execution_count": 1,
   "metadata": {},
   "outputs": [
    {
     "name": "stderr",
     "output_type": "stream",
     "text": [
      "2022-01-20 14:07:53.937394: W tensorflow/stream_executor/platform/default/dso_loader.cc:64] Could not load dynamic library 'libcudart.so.11.0'; dlerror: libcudart.so.11.0: cannot open shared object file: No such file or directory; LD_LIBRARY_PATH: /opt/oracle/instantclient_19_11:\n",
      "2022-01-20 14:07:53.937418: I tensorflow/stream_executor/cuda/cudart_stub.cc:29] Ignore above cudart dlerror if you do not have a GPU set up on your machine.\n"
     ]
    }
   ],
   "source": [
    "import numpy as np\n",
    "import tensorflow as tf\n",
    "import pandas as pd\n",
    "import matplotlib.pyplot as plt\n",
    "\n",
    "from numpy.random import seed\n",
    "from tensorflow import keras\n",
    "from tensorflow.keras.layers import (\n",
    "    TextVectorization, Input, Embedding, LSTM, Bidirectional, TimeDistributed, Dense\n",
    ")\n",
    "from keras.models import Sequential\n",
    "from tensorflow.keras.optimizers import Adam\n",
    "from tensorflow.keras.losses import BinaryCrossentropy\n",
    "from tensorflow.keras.metrics import Precision, Recall\n",
    "from sklearn.metrics import precision_score, recall_score"
   ]
  },
  {
   "cell_type": "code",
   "execution_count": 2,
   "metadata": {},
   "outputs": [],
   "source": [
    "np.random.seed(1996)\n",
    "tf.random.set_seed(1996)"
   ]
  },
  {
   "cell_type": "code",
   "execution_count": 3,
   "metadata": {},
   "outputs": [],
   "source": [
    "EMBEDDING_DIM = 100\n",
    "MIN_TOKENS = 30\n",
    "MAX_TOKENS = 200\n",
    "VOCAB_SIZE = 20000\n",
    "TEST_PCT = 0.15\n",
    "\n",
    "def get_sentence_labels(text):\n",
    "    \"\"\"\n",
    "        This function gets the label for each word on the sentences\n",
    "    \"\"\"\n",
    "    global MAX_TOKENS\n",
    "    ORDINARY_TOKEN = 0\n",
    "    END_OF_SENTENCE_TOKEN = 1\n",
    "    \n",
    "    labels = []\n",
    "    sentences = text.split('.')\n",
    "    for i, sentence in enumerate(sentences, start=1):\n",
    "        n_words = len(sentence.split())\n",
    "\n",
    "        if (sentence == ''):\n",
    "            continue\n",
    "\n",
    "        partial_labels = [ORDINARY_TOKEN] * n_words\n",
    "\n",
    "        if (i != len(sentences)):\n",
    "            partial_labels[-1] = END_OF_SENTENCE_TOKEN\n",
    "\n",
    "        labels += partial_labels\n",
    "    \n",
    "    n_paddings = MAX_TOKENS - len(labels)\n",
    "    labels += [0] * n_paddings\n",
    "    \n",
    "    return labels\n",
    "    \n",
    "\n",
    "def build_random_sized_sentences(text):\n",
    "    \"\"\"\n",
    "        Build random sized sentences out of a single corpus per function call\n",
    "    \"\"\"\n",
    "    global MIN_TOKENS\n",
    "    global MAX_TOKENS\n",
    "    \n",
    "    text_tokens = text.split()\n",
    "    prev_index = 0\n",
    "    sentences = []\n",
    "    while prev_index < len(text_tokens):\n",
    "        final_index = prev_index + np.random.randint(MIN_TOKENS, MAX_TOKENS)\n",
    "        sentences.append(' '.join(text_tokens[prev_index:final_index]))\n",
    "        \n",
    "        prev_index = final_index\n",
    "        \n",
    "    return np.array(sentences)"
   ]
  },
  {
   "cell_type": "markdown",
   "metadata": {},
   "source": [
    "---\n",
    "## Training sentences\n",
    "\n",
    "The training sentences are built by drawing random sentence sizes, and sequentially slicing the original corpora"
   ]
  },
  {
   "cell_type": "code",
   "execution_count": 4,
   "metadata": {},
   "outputs": [
    {
     "data": {
      "text/html": [
       "<div>\n",
       "<style scoped>\n",
       "    .dataframe tbody tr th:only-of-type {\n",
       "        vertical-align: middle;\n",
       "    }\n",
       "\n",
       "    .dataframe tbody tr th {\n",
       "        vertical-align: top;\n",
       "    }\n",
       "\n",
       "    .dataframe thead th {\n",
       "        text-align: right;\n",
       "    }\n",
       "</style>\n",
       "<table border=\"1\" class=\"dataframe\">\n",
       "  <thead>\n",
       "    <tr style=\"text-align: right;\">\n",
       "      <th></th>\n",
       "      <th>subtitle</th>\n",
       "      <th>url</th>\n",
       "    </tr>\n",
       "  </thead>\n",
       "  <tbody>\n",
       "    <tr>\n",
       "      <th>0</th>\n",
       "      <td>this is the air jordan number black cement. th...</td>\n",
       "      <td>https://www.ted.com/talks/josh_luber_why_sneak...</td>\n",
       "    </tr>\n",
       "    <tr>\n",
       "      <th>1</th>\n",
       "      <td>if you want to buy high quality low price coca...</td>\n",
       "      <td>https://www.ted.com/talks/jamie_bartlett_how_t...</td>\n",
       "    </tr>\n",
       "    <tr>\n",
       "      <th>2</th>\n",
       "      <td>do you know how many choices you make in a typ...</td>\n",
       "      <td>https://www.ted.com/talks/sheena_iyengar_how_t...</td>\n",
       "    </tr>\n",
       "  </tbody>\n",
       "</table>\n",
       "</div>"
      ],
      "text/plain": [
       "                                            subtitle  \\\n",
       "0  this is the air jordan number black cement. th...   \n",
       "1  if you want to buy high quality low price coca...   \n",
       "2  do you know how many choices you make in a typ...   \n",
       "\n",
       "                                                 url  \n",
       "0  https://www.ted.com/talks/josh_luber_why_sneak...  \n",
       "1  https://www.ted.com/talks/jamie_bartlett_how_t...  \n",
       "2  https://www.ted.com/talks/sheena_iyengar_how_t...  "
      ]
     },
     "execution_count": 4,
     "metadata": {},
     "output_type": "execute_result"
    }
   ],
   "source": [
    "df = pd.read_csv(\"../data/TED_Talks/02_preprocessed/subtitles_preprocessed.csv\")\n",
    "df.head(3)"
   ]
  },
  {
   "cell_type": "code",
   "execution_count": 5,
   "metadata": {},
   "outputs": [],
   "source": [
    "entire_corpora = df.subtitle.apply(lambda text: build_random_sized_sentences(text))\n",
    "entire_corpora = np.concatenate(entire_corpora.values)"
   ]
  },
  {
   "cell_type": "code",
   "execution_count": 6,
   "metadata": {
    "scrolled": false
   },
   "outputs": [],
   "source": [
    "corpus_size = len(entire_corpora)\n",
    "train_upper_idx = int(corpus_size * (1 - TEST_PCT))\n",
    "\n",
    "X_train = entire_corpora[:train_upper_idx]\n",
    "Y_train = np.array([get_sentence_labels(text) for text in X_train])\n",
    "\n",
    "X_test = entire_corpora[train_upper_idx:]\n",
    "Y_test = np.array([get_sentence_labels(text) for text in X_test])"
   ]
  },
  {
   "cell_type": "markdown",
   "metadata": {},
   "source": [
    "---\n",
    "## Text Vectorization"
   ]
  },
  {
   "cell_type": "code",
   "execution_count": 7,
   "metadata": {},
   "outputs": [
    {
     "name": "stderr",
     "output_type": "stream",
     "text": [
      "2022-01-20 14:08:01.410103: E tensorflow/stream_executor/cuda/cuda_driver.cc:271] failed call to cuInit: CUDA_ERROR_NO_DEVICE: no CUDA-capable device is detected\n",
      "2022-01-20 14:08:01.410123: I tensorflow/stream_executor/cuda/cuda_diagnostics.cc:156] kernel driver does not appear to be running on this host (kunumi): /proc/driver/nvidia/version does not exist\n",
      "2022-01-20 14:08:01.410298: I tensorflow/core/platform/cpu_feature_guard.cc:151] This TensorFlow binary is optimized with oneAPI Deep Neural Network Library (oneDNN) to use the following CPU instructions in performance-critical operations:  AVX2 FMA\n",
      "To enable them in other operations, rebuild TensorFlow with the appropriate compiler flags.\n"
     ]
    }
   ],
   "source": [
    "vectorizer = TextVectorization(max_tokens=VOCAB_SIZE, output_sequence_length=MAX_TOKENS)\n",
    "text_ds = tf.data.Dataset.from_tensor_slices(X_train).batch(128)"
   ]
  },
  {
   "cell_type": "markdown",
   "metadata": {},
   "source": [
    "Learn the most frequent words on the `train_data`"
   ]
  },
  {
   "cell_type": "code",
   "execution_count": 8,
   "metadata": {},
   "outputs": [],
   "source": [
    "vectorizer.adapt(text_ds)"
   ]
  },
  {
   "cell_type": "markdown",
   "metadata": {},
   "source": [
    "Build a mapper from words to their respective indices"
   ]
  },
  {
   "cell_type": "code",
   "execution_count": 9,
   "metadata": {
    "scrolled": true
   },
   "outputs": [],
   "source": [
    "word_index = {word: i for i, word in enumerate(vectorizer.get_vocabulary())}"
   ]
  },
  {
   "cell_type": "markdown",
   "metadata": {},
   "source": [
    "---\n",
    "\n",
    "## Build the Embedding Layer"
   ]
  },
  {
   "cell_type": "code",
   "execution_count": 10,
   "metadata": {},
   "outputs": [],
   "source": [
    "embeddings = {}\n",
    "with open(f\"../data/embeddings/glove/glove.6B.{EMBEDDING_DIM}d.txt\") as file:\n",
    "    for line in file:\n",
    "        word, coefs = line.split(maxsplit=1)\n",
    "        embeddings[word] = np.fromstring(coefs, 'f', sep=' ')"
   ]
  },
  {
   "cell_type": "markdown",
   "metadata": {},
   "source": [
    "Build the embedding matrix"
   ]
  },
  {
   "cell_type": "code",
   "execution_count": 11,
   "metadata": {},
   "outputs": [
    {
     "name": "stdout",
     "output_type": "stream",
     "text": [
      "Converted 12504 words (309 misses)\n"
     ]
    }
   ],
   "source": [
    "hits, misses = 0, 0\n",
    "\n",
    "# +2 due to empty string and UKN token\n",
    "embedding_matrix = np.zeros((VOCAB_SIZE+2, EMBEDDING_DIM))\n",
    "for word, i in word_index.items():\n",
    "    embedding_vector = embeddings.get(word)\n",
    "    if embedding_vector is not None:\n",
    "        # Words not found in embedding index will be all-zeros.\n",
    "        # This includes the representation for \"padding\" and \"OOV\"\n",
    "        embedding_matrix[i] = embedding_vector\n",
    "        hits += 1\n",
    "    else:\n",
    "        misses += 1\n",
    "print(\"Converted %d words (%d misses)\" % (hits, misses))"
   ]
  },
  {
   "cell_type": "markdown",
   "metadata": {},
   "source": [
    "## Building a Model on Top on the Pre-Trained Embeddings"
   ]
  },
  {
   "cell_type": "code",
   "execution_count": 12,
   "metadata": {},
   "outputs": [],
   "source": [
    "model = Sequential()\n",
    "\n",
    "model.add(tf.keras.Input(shape=(1,), dtype=tf.string))\n",
    "\n",
    "model.add(vectorizer)\n",
    "\n",
    "model.add(\n",
    "    Embedding(\n",
    "        VOCAB_SIZE+2,\n",
    "        EMBEDDING_DIM,\n",
    "        embeddings_initializer=keras.initializers.Constant(embedding_matrix),\n",
    "        trainable=False,\n",
    "    )\n",
    ")\n",
    "\n",
    "model.add(\n",
    "    Bidirectional(\n",
    "        LSTM(\n",
    "            units=20,\n",
    "            return_sequences=True\n",
    "        )\n",
    "    )\n",
    ")\n",
    "\n",
    "model.add(\n",
    "    TimeDistributed(\n",
    "        Dense(1, activation='sigmoid')\n",
    "    )\n",
    ")\n",
    "\n",
    "model.compile(\n",
    "    optimizer=Adam(learning_rate=1e-3),\n",
    "    loss=BinaryCrossentropy(),\n",
    "    metrics=[\n",
    "        Precision(),\n",
    "        Recall()\n",
    "    ]\n",
    ")"
   ]
  },
  {
   "cell_type": "code",
   "execution_count": 13,
   "metadata": {
    "scrolled": true
   },
   "outputs": [
    {
     "name": "stdout",
     "output_type": "stream",
     "text": [
      "Model: \"sequential\"\n",
      "_________________________________________________________________\n",
      " Layer (type)                Output Shape              Param #   \n",
      "=================================================================\n",
      " text_vectorization (TextVec  (None, 200)              0         \n",
      " torization)                                                     \n",
      "                                                                 \n",
      " embedding (Embedding)       (None, 200, 100)          2000200   \n",
      "                                                                 \n",
      " bidirectional (Bidirectiona  (None, 200, 40)          19360     \n",
      " l)                                                              \n",
      "                                                                 \n",
      " time_distributed (TimeDistr  (None, 200, 1)           41        \n",
      " ibuted)                                                         \n",
      "                                                                 \n",
      "=================================================================\n",
      "Total params: 2,019,601\n",
      "Trainable params: 19,401\n",
      "Non-trainable params: 2,000,200\n",
      "_________________________________________________________________\n"
     ]
    }
   ],
   "source": [
    "model.summary()"
   ]
  },
  {
   "cell_type": "code",
   "execution_count": 14,
   "metadata": {},
   "outputs": [],
   "source": [
    "N_EPOCHS = 16"
   ]
  },
  {
   "cell_type": "code",
   "execution_count": 15,
   "metadata": {},
   "outputs": [
    {
     "name": "stdout",
     "output_type": "stream",
     "text": [
      "Epoch 1/16\n",
      "259/259 [==============================] - 48s 174ms/step - loss: 0.1834 - precision: 0.0708 - recall: 0.0094 - val_loss: 0.1115 - val_precision: 0.6667 - val_recall: 3.3789e-04\n",
      "Epoch 2/16\n",
      "259/259 [==============================] - 46s 179ms/step - loss: 0.1112 - precision: 0.6223 - recall: 0.0105 - val_loss: 0.0934 - val_precision: 0.5792 - val_recall: 0.0468\n",
      "Epoch 3/16\n",
      "259/259 [==============================] - 46s 176ms/step - loss: 0.0943 - precision: 0.6265 - recall: 0.1256 - val_loss: 0.0842 - val_precision: 0.5658 - val_recall: 0.1748\n",
      "Epoch 4/16\n",
      "259/259 [==============================] - 47s 182ms/step - loss: 0.0849 - precision: 0.6431 - recall: 0.2486 - val_loss: 0.0793 - val_precision: 0.6155 - val_recall: 0.2519\n",
      "Epoch 5/16\n",
      "259/259 [==============================] - 42s 163ms/step - loss: 0.0783 - precision: 0.6673 - recall: 0.3304 - val_loss: 0.0765 - val_precision: 0.6324 - val_recall: 0.3438\n",
      "Epoch 6/16\n",
      "259/259 [==============================] - 41s 159ms/step - loss: 0.0732 - precision: 0.6910 - recall: 0.3934 - val_loss: 0.0744 - val_precision: 0.6455 - val_recall: 0.3780\n",
      "Epoch 7/16\n",
      "259/259 [==============================] - 41s 159ms/step - loss: 0.0691 - precision: 0.7111 - recall: 0.4444 - val_loss: 0.0734 - val_precision: 0.6402 - val_recall: 0.3960\n",
      "Epoch 8/16\n",
      "259/259 [==============================] - 42s 160ms/step - loss: 0.0658 - precision: 0.7270 - recall: 0.4822 - val_loss: 0.0730 - val_precision: 0.6174 - val_recall: 0.4210\n",
      "Epoch 9/16\n",
      "259/259 [==============================] - 41s 160ms/step - loss: 0.0628 - precision: 0.7408 - recall: 0.5126 - val_loss: 0.0732 - val_precision: 0.6184 - val_recall: 0.4238\n",
      "Epoch 10/16\n",
      "259/259 [==============================] - 41s 159ms/step - loss: 0.0601 - precision: 0.7545 - recall: 0.5404 - val_loss: 0.0739 - val_precision: 0.5905 - val_recall: 0.4582\n",
      "Epoch 11/16\n",
      "259/259 [==============================] - 41s 158ms/step - loss: 0.0575 - precision: 0.7657 - recall: 0.5653 - val_loss: 0.0746 - val_precision: 0.6094 - val_recall: 0.4632\n",
      "Epoch 12/16\n",
      "259/259 [==============================] - 42s 163ms/step - loss: 0.0551 - precision: 0.7773 - recall: 0.5909 - val_loss: 0.0760 - val_precision: 0.5931 - val_recall: 0.4657\n",
      "Epoch 13/16\n",
      "259/259 [==============================] - 41s 159ms/step - loss: 0.0528 - precision: 0.7884 - recall: 0.6134 - val_loss: 0.0775 - val_precision: 0.5855 - val_recall: 0.4919\n",
      "Epoch 14/16\n",
      "259/259 [==============================] - 41s 160ms/step - loss: 0.0507 - precision: 0.7992 - recall: 0.6365 - val_loss: 0.0798 - val_precision: 0.5923 - val_recall: 0.4683\n",
      "Epoch 15/16\n",
      "259/259 [==============================] - 41s 159ms/step - loss: 0.0487 - precision: 0.8103 - recall: 0.6552 - val_loss: 0.0817 - val_precision: 0.5726 - val_recall: 0.4694\n",
      "Epoch 16/16\n",
      "259/259 [==============================] - 41s 160ms/step - loss: 0.0468 - precision: 0.8196 - recall: 0.6741 - val_loss: 0.0842 - val_precision: 0.5609 - val_recall: 0.5016\n"
     ]
    }
   ],
   "source": [
    "history = model.fit(\n",
    "    X_train,\n",
    "    Y_train,\n",
    "    batch_size=256,\n",
    "    epochs=N_EPOCHS,\n",
    "    validation_split=0.1\n",
    ")"
   ]
  },
  {
   "cell_type": "markdown",
   "metadata": {},
   "source": [
    "## Model Performance"
   ]
  },
  {
   "cell_type": "code",
   "execution_count": 16,
   "metadata": {},
   "outputs": [
    {
     "data": {
      "image/png": "[encoded data removed]",
      "text/plain": [
       "<Figure size 432x288 with 1 Axes>"
      ]
     },
     "metadata": {
      "needs_background": "light"
     },
     "output_type": "display_data"
    }
   ],
   "source": [
    "plt.plot(range(1, N_EPOCHS+1), history.history[\"val_precision\"], label=\"Precision - Validation\", color=\"blue\")\n",
    "plt.plot(range(1, N_EPOCHS+1), history.history[\"precision\"], label=\"Precision - Train\", color=\"blue\", linestyle=\"--\")\n",
    "plt.plot(range(1, N_EPOCHS+1), history.history[\"val_recall\"], label=\"Recall - Validation\", color=\"red\")\n",
    "plt.plot(range(1, N_EPOCHS+1), history.history[\"recall\"], label=\"Recall - Train\", color=\"red\", linestyle=\"--\")\n",
    "\n",
    "plt.legend()\n",
    "plt.title(\"Scores @ Epoch\")\n",
    "plt.xlabel(\"Epoch\")\n",
    "plt.ylabel(\"Score\")\n",
    "plt.show()"
   ]
  },
  {
   "cell_type": "code",
   "execution_count": 18,
   "metadata": {},
   "outputs": [
    {
     "data": {
      "text/plain": [
       "'understanding of who we are where weve come from and the times we live in. during the numberth century we witnessed the atrocities of stalin hitler mao pol pot rwanda and other genocides and even though the numberst century is only seven years old we have already witnessed an ongoing genocide in darfur and the daily horrors of iraq. this has led to a common understanding of our situation namely that modernity has brought us terrible violence and perhaps that native peoples lived in a state of harmony that we have departed from to our peril. here is an example from an op ed on thanksgiving in the boston globe a couple of years ago where the writer wrote the indian life was a difficult one but'"
      ]
     },
     "execution_count": 18,
     "metadata": {},
     "output_type": "execute_result"
    }
   ],
   "source": [
    "X_test[0]"
   ]
  },
  {
   "cell_type": "code",
   "execution_count": 19,
   "metadata": {},
   "outputs": [
    {
     "data": {
      "text/plain": [
       "array([0, 0, 0, 0, 0, 0, 0, 0, 0, 0, 0, 0, 0, 0, 1, 0, 0, 0, 0, 0, 0, 0,\n",
       "       0, 0, 0, 0, 0, 0, 0, 0, 0, 0, 0, 0, 0, 0, 0, 0, 0, 0, 0, 0, 0, 0,\n",
       "       0, 0, 0, 0, 0, 0, 0, 0, 0, 0, 0, 0, 0, 0, 1, 0, 0, 0, 0, 0, 0, 0,\n",
       "       0, 0, 0, 0, 0, 0, 0, 0, 0, 0, 0, 0, 0, 0, 0, 0, 0, 0, 0, 0, 0, 0,\n",
       "       0, 0, 0, 0, 0, 0, 0, 1, 0, 0, 0, 0, 0, 0, 0, 0, 0, 0, 0, 0, 0, 0,\n",
       "       0, 0, 0, 0, 0, 0, 0, 0, 0, 0, 0, 0, 0, 0, 0, 0, 0, 0, 0, 0, 0, 0,\n",
       "       0, 0, 0, 0, 0, 0, 0, 0, 0, 0, 0, 0, 0, 0, 0, 0, 0, 0, 0, 0, 0, 0,\n",
       "       0, 0, 0, 0, 0, 0, 0, 0, 0, 0, 0, 0, 0, 0, 0, 0, 0, 0, 0, 0, 0, 0,\n",
       "       0, 0, 0, 0, 0, 0, 0, 0, 0, 0, 0, 0, 0, 0, 0, 0, 0, 0, 0, 0, 0, 0,\n",
       "       0, 0])"
      ]
     },
     "execution_count": 19,
     "metadata": {},
     "output_type": "execute_result"
    }
   ],
   "source": [
    "Y_test[0]"
   ]
  },
  {
   "cell_type": "code",
   "execution_count": 20,
   "metadata": {},
   "outputs": [],
   "source": [
    "preds = model.predict(np.array([X_test[0]])).reshape(1,-1)\n",
    "preds = (preds > 0.5).astype(int)"
   ]
  },
  {
   "cell_type": "markdown",
   "metadata": {},
   "source": [
    "### Visualizing the Segmentations"
   ]
  },
  {
   "cell_type": "code",
   "execution_count": 21,
   "metadata": {},
   "outputs": [
    {
     "name": "stdout",
     "output_type": "stream",
     "text": [
      "understanding of who we are where weve come from \n",
      "\n",
      "and the times we live in. during the numberth century we witnessed the atrocities of stalin hitler mao pol pot rwanda and other genocides and even though the numberst century is only seven years old \n",
      "\n",
      "we have already witnessed an ongoing genocide in darfur and the daily horrors of iraq. \n",
      "\n",
      "this has led to a common understanding of our situation namely that modernity has brought us terrible violence \n",
      "\n",
      "and perhaps that native peoples lived in a state of harmony that we have departed from to our peril. \n",
      "\n",
      "here is an example from an op ed on thanksgiving in the boston globe \n",
      "\n"
     ]
    }
   ],
   "source": [
    "indices = np.argwhere(preds == np.amax(preds))[:,1] + 1\n",
    "indices = [0] + indices.tolist()\n",
    "for i in range(1, len(indices)):\n",
    "    idx_begin = indices[i-1]\n",
    "    idx_end = indices[i]\n",
    "    \n",
    "    words = X_test[0].split()\n",
    "    \n",
    "    print(' '.join(words[idx_begin: idx_end]),\"\\n\")"
   ]
  },
  {
   "cell_type": "markdown",
   "metadata": {},
   "source": [
    "## Performance on the Test Set"
   ]
  },
  {
   "cell_type": "code",
   "execution_count": 22,
   "metadata": {},
   "outputs": [],
   "source": [
    "preds = model.predict(X_test)\n",
    "\n",
    "preds = (preds > 0.5).astype(int)"
   ]
  },
  {
   "cell_type": "code",
   "execution_count": 23,
   "metadata": {},
   "outputs": [
    {
     "name": "stdout",
     "output_type": "stream",
     "text": [
      "0.5455241725553457 0.4378616029798003\n"
     ]
    },
    {
     "name": "stderr",
     "output_type": "stream",
     "text": [
      "/home/guilherme-resende/anaconda3/lib/python3.7/site-packages/sklearn/metrics/_classification.py:1245: UndefinedMetricWarning: Recall is ill-defined and being set to 0.0 in labels with no true samples. Use `zero_division` parameter to control this behavior.\n",
      "  _warn_prf(average, modifier, msg_start, len(result))\n"
     ]
    }
   ],
   "source": [
    "print(\n",
    "    precision_score(Y_test.reshape(-1, 200), preds.reshape(-1, 200), average=\"macro\"),\n",
    "    recall_score(Y_test.reshape(-1, 200), preds.reshape(-1, 200), average=\"macro\")\n",
    ")"
   ]
  },
  {
   "cell_type": "markdown",
   "metadata": {},
   "source": [
    "## Save Model"
   ]
  },
  {
   "cell_type": "code",
   "execution_count": 24,
   "metadata": {},
   "outputs": [
    {
     "name": "stderr",
     "output_type": "stream",
     "text": [
      "2022-01-20 14:24:29.066316: W tensorflow/python/util/util.cc:368] Sets are not currently considered sequences, but this may change in the future, so consider avoiding using them.\n",
      "WARNING:absl:Found untraced functions such as lstm_cell_1_layer_call_fn, lstm_cell_1_layer_call_and_return_conditional_losses, lstm_cell_2_layer_call_fn, lstm_cell_2_layer_call_and_return_conditional_losses, lstm_cell_1_layer_call_fn while saving (showing 5 of 10). These functions will not be directly callable after loading.\n"
     ]
    },
    {
     "name": "stdout",
     "output_type": "stream",
     "text": [
      "INFO:tensorflow:Assets written to: ../data/models/GloVe_w_LSTM/assets\n"
     ]
    },
    {
     "name": "stderr",
     "output_type": "stream",
     "text": [
      "INFO:tensorflow:Assets written to: ../data/models/GloVe_w_LSTM/assets\n",
      "WARNING:absl:<keras.layers.recurrent.LSTMCell object at 0x7fdf88ba7c90> has the same name 'LSTMCell' as a built-in Keras object. Consider renaming <class 'keras.layers.recurrent.LSTMCell'> to avoid naming conflicts when loading with `tf.keras.models.load_model`. If renaming is not possible, pass the object in the `custom_objects` parameter of the load function.\n",
      "WARNING:absl:<keras.layers.recurrent.LSTMCell object at 0x7fdf2cab2c90> has the same name 'LSTMCell' as a built-in Keras object. Consider renaming <class 'keras.layers.recurrent.LSTMCell'> to avoid naming conflicts when loading with `tf.keras.models.load_model`. If renaming is not possible, pass the object in the `custom_objects` parameter of the load function.\n"
     ]
    }
   ],
   "source": [
    "model.save(\"../data/models/GloVe_w_LSTM\")"
   ]
  },
  {
   "cell_type": "code",
   "execution_count": null,
   "metadata": {},
   "outputs": [],
   "source": []
  }
 ],
 "metadata": {
  "kernelspec": {
   "display_name": "Python 3",
   "language": "python",
   "name": "python3"
  },
  "language_info": {
   "codemirror_mode": {
    "name": "ipython",
    "version": 3
   },
   "file_extension": ".py",
   "mimetype": "text/x-python",
   "name": "python",
   "nbconvert_exporter": "python",
   "pygments_lexer": "ipython3",
   "version": "3.7.6"
  }
 },
 "nbformat": 4,
 "nbformat_minor": 4
}
