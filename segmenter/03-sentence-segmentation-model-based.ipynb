{
 "cells": [
  {
   "cell_type": "code",
   "execution_count": 1,
   "metadata": {},
   "outputs": [
    {
     "name": "stderr",
     "output_type": "stream",
     "text": [
      "2022-01-20 16:26:21.256090: W tensorflow/stream_executor/platform/default/dso_loader.cc:64] Could not load dynamic library 'libcudart.so.11.0'; dlerror: libcudart.so.11.0: cannot open shared object file: No such file or directory; LD_LIBRARY_PATH: /opt/oracle/instantclient_19_11:\n",
      "2022-01-20 16:26:21.256119: I tensorflow/stream_executor/cuda/cudart_stub.cc:29] Ignore above cudart dlerror if you do not have a GPU set up on your machine.\n"
     ]
    }
   ],
   "source": [
    "import tensorflow as tf\n",
    "import numpy as np"
   ]
  },
  {
   "cell_type": "code",
   "execution_count": 2,
   "metadata": {},
   "outputs": [],
   "source": [
    "class Segmenter():\n",
    "    def __init__(self, model_path=\"../data/models/GloVe_w_LSTM\", max_tokens=200):\n",
    "        self.model = tf.keras.models.load_model(model_path)\n",
    "        self.max_tokens = max_tokens\n",
    "        \n",
    "\n",
    "#     def predict(self, X):\n",
    "#         preds = []\n",
    "        \n",
    "#         X_splitted = X.split()\n",
    "#         n_tokens = len(X_splitted)\n",
    "#         if n_tokens < self.max_tokens:\n",
    "#             print(\"came here\")\n",
    "#             x_to_pred = np.array([' '.join(X_splitted)])\n",
    "            \n",
    "#             preds = self.model.predict(X).numpy().reshape(1,-1)\n",
    "#             preds = (preds > 0.5).astype(int)\n",
    "#         else:\n",
    "#             i = 0\n",
    "#             while i < n_tokens:\n",
    "#                 print(\"no. It actually came here\")\n",
    "#                 print(i, n_tokens)\n",
    "#                 x_sliced = X_splitted[i:i + self.max_tokens]\n",
    "#                 x_to_pred = np.array([' '.join(x_sliced)])\n",
    "                \n",
    "#                 partial_preds = self.model.predict(x_to_pred).numpy().reshape(1,-1)\n",
    "#                 partial_preds = (partial_preds > 0.5).astype(int)\n",
    "\n",
    "#                 punctuations = np.argwhere(partial_preds == 1)\n",
    "#                 # Shift all index by 1\n",
    "#                 punctuations += 1\n",
    "#                 if punctuations.shape[0] == 0:\n",
    "#                     preds += [n_tokens]\n",
    "#                     break\n",
    "#                 else:\n",
    "#                     punctuations = punctuations[:, 1].reshape(-1)\n",
    "#                     last_punctuation = punctuations[-1]\n",
    "\n",
    "#                 # Adds only the text until the last punctuation, because\n",
    "#                 # otherwise the next phrase will lack the entire context\n",
    "#                 punctuations += i\n",
    "#                 preds += punctuations.tolist()\n",
    "\n",
    "#                 i += last_punctuation\n",
    "        \n",
    "#         return preds\n",
    "\n",
    "    def predict(self, X):\n",
    "            preds = [0]\n",
    "\n",
    "            X_splitted = X.split()\n",
    "            n_tokens = len(X_splitted)\n",
    "            i = 0\n",
    "            while i < n_tokens:\n",
    "                x_sliced = X_splitted[i:i + self.max_tokens]\n",
    "                x_to_pred = np.array([' '.join(x_sliced)])\n",
    "\n",
    "                partial_preds = self.model.predict(x_to_pred).numpy().reshape(1,-1)\n",
    "                partial_preds = (partial_preds > 0.5).astype(int)\n",
    "\n",
    "                punctuations = np.argwhere(partial_preds == 1)\n",
    "                # Shift all index by 1\n",
    "                punctuations += 1\n",
    "                if punctuations.shape[0] == 0:\n",
    "                    preds += [n_tokens]\n",
    "                    break\n",
    "                else:\n",
    "                    punctuations = punctuations[:, 1].reshape(-1)\n",
    "                    last_punctuation = punctuations[-1]\n",
    "\n",
    "                # Adds only the text until the last punctuation, because\n",
    "                # otherwise the next phrase will lack the entire context\n",
    "                punctuations += i\n",
    "                preds += punctuations.tolist()\n",
    "\n",
    "                i += last_punctuation\n",
    "\n",
    "            return preds\n",
    "    \n",
    "    def segment(self, X, punctuations):\n",
    "        sentences = []\n",
    "        \n",
    "        X_splitted = X.split()\n",
    "        for i in range(1, len(punctuations)):\n",
    "            left = punctuations[i-1]\n",
    "            right = punctuations[i]\n",
    "            \n",
    "            sentences.append(' '.join(X_splitted[left:right]))\n",
    "        \n",
    "        return sentences"
   ]
  },
  {
   "cell_type": "code",
   "execution_count": 3,
   "metadata": {},
   "outputs": [
    {
     "name": "stderr",
     "output_type": "stream",
     "text": [
      "2022-01-20 16:26:24.042306: E tensorflow/stream_executor/cuda/cuda_driver.cc:271] failed call to cuInit: CUDA_ERROR_NO_DEVICE: no CUDA-capable device is detected\n",
      "2022-01-20 16:26:24.042324: I tensorflow/stream_executor/cuda/cuda_diagnostics.cc:156] kernel driver does not appear to be running on this host (kunumi): /proc/driver/nvidia/version does not exist\n",
      "2022-01-20 16:26:24.042490: I tensorflow/core/platform/cpu_feature_guard.cc:151] This TensorFlow binary is optimized with oneAPI Deep Neural Network Library (oneDNN) to use the following CPU instructions in performance-critical operations:  AVX2 FMA\n",
      "To enable them in other operations, rebuild TensorFlow with the appropriate compiler flags.\n"
     ]
    }
   ],
   "source": [
    "segmenter = Segmenter()"
   ]
  },
  {
   "cell_type": "code",
   "execution_count": 4,
   "metadata": {},
   "outputs": [],
   "source": [
    "f = open(\"../data/01_preprocessed/without_inputation/-66g38EP0pI\")"
   ]
  },
  {
   "cell_type": "code",
   "execution_count": 5,
   "metadata": {},
   "outputs": [],
   "source": [
    "X = f.read()"
   ]
  },
  {
   "cell_type": "code",
   "execution_count": 6,
   "metadata": {},
   "outputs": [
    {
     "data": {
      "text/plain": [
       "[\"hey I'm an angel and today we're gonna talk about Dunkirk which is director Christopher Nolan's 2017 war drama on MG and the echo Oh Bela and I had reacted to the trailer when it came out and I was surprised to see Christopher Nolan attacking war on attacking producing a war movie it didn't really seem to be a theme consistent with what he's been producing so far\",\n",
       " \"and I guess maybe I was expecting something like hacksaw Ridge but that's not at all we get\",\n",
       " \"so let's dive in this movie is dark sea\",\n",
       " \"I had recently watched the movie it and that didn't give me nightmares surprisingly Dunkirk gave me nightmares\",\n",
       " 'I had night terrors waking up with these war memories',\n",
       " 'and I think I had a very tiny glimpse of what it must be like to be a veteran and suffer from PTSD',\n",
       " 'and it is terrifying',\n",
       " 'my heart was racing',\n",
       " 'I felt like I was being bombed',\n",
       " 'anyways this movie gets into your head if you let it',\n",
       " 'and how can you not as a person who personally is terrified of the notion of not breathing and drowning',\n",
       " 'there is a lot of drowning',\n",
       " \"so if that's a trigger for you be warned you're not going to enjoy it because it's a very suffocating movie very claustrophobic at times a lot of water a lot of confined spaces in a beach setting where I assumed most of the action would have happened on the beach where the soldiers were stranded Hans Zimmer produced the music I mean the score is great as usual\",\n",
       " 'he never fails',\n",
       " 'so the visual definitely have that Nolan II teal blue color palette that usually works with dark yet beautiful',\n",
       " 'so really cinematography here you are well served war movies are usually brown',\n",
       " \"there's a lot of brown going on with the earth and the dirt and the grime and I'm really appreciated that we were more in a clean blue ocean a theme\",\n",
       " 'at times I would just be like oh if you remove the bombs and the fire and you know the screaming in the dismay put a few coconut trees in there you got yourself a nice vacation then you were reminded that no',\n",
       " 'you know it looks nice',\n",
       " 'but this is a war',\n",
       " 'and then the water can crush you and drown you',\n",
       " 'and things like that',\n",
       " \"so mmm speaking of visuals the cast a one yummy visually appealing ladies and fellas who know what I'm talking about yes\",\n",
       " 'it was a beautiful cast of beautiful young men very enjoyable',\n",
       " 'I felt the story tellings timeline was messy but I think that was done intentionally to convey the feeling of war which is messy which is chaotic',\n",
       " \"and you don't know what's going on at any given time\",\n",
       " \"so we're going to past events present events future events kind of all at the same time seeing characters\",\n",
       " \"okay this is what happened like a day before this is what happened a few hours ago oh this is what happened in the future and it's messy\",\n",
       " 'but eh it destabilizes the audience',\n",
       " \"and I think that was the intention it's to really make you feel like what's gonna happen next where am i I'm kind of terrified\",\n",
       " \"adrenaline rush the thrill of not knowing exactly what's happening cuz\",\n",
       " \"it's not a linear story\",\n",
       " 'so it was very clever',\n",
       " 'nice one Noland subtitles',\n",
       " \"please I'm sorry but a lot of the okay\",\n",
       " \"so first of all this much dialogue like really sparse and on top of that I couldn't understand what most of the characters were saying maybe\",\n",
       " \"he's because my ears aren't fine-tuned for British English but as usual I would say that Nolan produced another movie with a method he's a socially conscious director who tries to push the barriers of consciousness and reality society social sociology\",\n",
       " 'if I could say I like the commentary he tries to make and he tries to convey messages without being didactic',\n",
       " 'and the message is pretty clear here war sucks real lives are at stake',\n",
       " \"people who don't know why they're fighting while the big fat guys in the offices just sign decrees and make speeches and speak about people that they haven't even met real kids are out\",\n",
       " 'there really this movie makes you feel',\n",
       " \"the loss makes you feel the fear the confusion the frustration the patients and the uneasiness that comes with war of course we're talking about world war two times have changed even the landscape of war has change\",\n",
       " \"there's a lot more machinery involved but I think that it's still the same right\",\n",
       " \"we're all just human\",\n",
       " 'beings',\n",
       " \"and that's one thing\",\n",
       " 'actually I wanted to note',\n",
       " 'I thought it was an interesting choice to never show the enemy which is Germany and Germans',\n",
       " 'in this case which makes for a easy good guy',\n",
       " 'bad guy clear distinction scenario right however I still think the movie could have benefited from showing us',\n",
       " 'a few German soldiers and really showing the true face of war that even the other side',\n",
       " \"you think they're bad but they're also good in the sense that they think they're fighting for something good\",\n",
       " \"everyone thinks they're right\",\n",
       " \"in these cases when you leave it like this it just makes it feel like what we are used to hearing is World War 2 the Germans were bad as if Germans were just born and bred soldiers like in 300 or something fighting since they were kids nah they're regular people too they were kids who were manipulated into fighting for something that they thought would benefit them and their families just like the the English and the French\",\n",
       " 'everyone here is trying to protect family community',\n",
       " \"if Nolan's job was to destabilize and to really make you feel like war\",\n",
       " 'sucks',\n",
       " \"yeah we shouldn't really put our people our children our brothers our fathers our sons through this and I guess nowadays daughters mothers sisters as well yeah well the point was fairly made\",\n",
       " \"oh what do you think let us know in the comment section below it's your turn to talk\",\n",
       " 'I hope that you enjoyed this review remember to Like subscribe to Mt use reactions etc entertainment take care',\n",
       " \"i'm i'm angel signing off\"]"
      ]
     },
     "execution_count": 6,
     "metadata": {},
     "output_type": "execute_result"
    }
   ],
   "source": [
    "segmenter.segment(X, segmenter.predict(X))"
   ]
  },
  {
   "cell_type": "code",
   "execution_count": null,
   "metadata": {},
   "outputs": [],
   "source": []
  }
 ],
 "metadata": {
  "kernelspec": {
   "display_name": "Python 3",
   "language": "python",
   "name": "python3"
  },
  "language_info": {
   "codemirror_mode": {
    "name": "ipython",
    "version": 3
   },
   "file_extension": ".py",
   "mimetype": "text/x-python",
   "name": "python",
   "nbconvert_exporter": "python",
   "pygments_lexer": "ipython3",
   "version": "3.7.6"
  }
 },
 "nbformat": 4,
 "nbformat_minor": 4
}
