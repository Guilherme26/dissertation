{
 "cells": [
  {
   "cell_type": "markdown",
   "id": "e85fd94d",
   "metadata": {},
   "source": [
    "## Quick Description\n",
    "\n",
    "Data is stored in [CoNLL-U Format](https://universaldependencies.org/format.html). Each file encompass several posts from an English Dialect.\n",
    "\n",
    "The corpus was downloaded at [University of Massachusetts Amherst](http://slanglab.cs.umass.edu/TwitterAAE/)"
   ]
  },
  {
   "cell_type": "code",
   "execution_count": 1,
   "id": "fbd406ce",
   "metadata": {},
   "outputs": [],
   "source": [
    "import pandas as pd\n",
    "import yaml\n",
    "import glob\n",
    "import os\n",
    "\n",
    "from conllu import parse"
   ]
  },
  {
   "cell_type": "code",
   "execution_count": 2,
   "id": "a9025237",
   "metadata": {},
   "outputs": [],
   "source": [
    "filepaths = yaml.load(open(\"/home/guilherme/Desktop/dissertation/config/filepaths.yaml\"), Loader=yaml.FullLoader)"
   ]
  },
  {
   "cell_type": "code",
   "execution_count": 3,
   "id": "2abedd19",
   "metadata": {
    "scrolled": true
   },
   "outputs": [],
   "source": [
    "for group in [\"aa\", \"wh\"]: # AAE, SAE\n",
    "    with open(os.path.join(filepaths[\"01_twitter_raw\"], f\"{group}250_gold.conllu\")) as f:\n",
    "        raw_text = f.read()\n",
    "\n",
    "    for i, post in enumerate(parse(raw_text), start=1):\n",
    "        df = pd.DataFrame([token for token in post])\n",
    "\n",
    "        df.to_csv(\n",
    "            os.path.join(filepaths[\"02_twitter_preprocessed\"], f\"{group}_{i}.csv\"),\n",
    "            index=False\n",
    "        )"
   ]
  },
  {
   "cell_type": "code",
   "execution_count": null,
   "id": "b97361cb",
   "metadata": {},
   "outputs": [],
   "source": []
  }
 ],
 "metadata": {
  "kernelspec": {
   "display_name": "Python 3 (ipykernel)",
   "language": "python",
   "name": "python3"
  },
  "language_info": {
   "codemirror_mode": {
    "name": "ipython",
    "version": 3
   },
   "file_extension": ".py",
   "mimetype": "text/x-python",
   "name": "python",
   "nbconvert_exporter": "python",
   "pygments_lexer": "ipython3",
   "version": "3.8.10"
  }
 },
 "nbformat": 4,
 "nbformat_minor": 5
}
