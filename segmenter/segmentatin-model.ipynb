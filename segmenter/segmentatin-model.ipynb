{
 "cells": [
  {
   "cell_type": "markdown",
   "metadata": {},
   "source": [
    "## Segmentation Model\n",
    "\n",
    "Here I intend to develop a segmentation model with the aid of previously pre-trained deep neural models. To load the GloVe Embeddings, I followed [this tutorial](https://keras.io/examples/nlp/pretrained_word_embeddings/).\n",
    "\n",
    "---\n",
    "### To Do:\n",
    "- Find a way to best embed numbers"
   ]
  },
  {
   "cell_type": "code",
   "execution_count": 1,
   "metadata": {},
   "outputs": [
    {
     "name": "stderr",
     "output_type": "stream",
     "text": [
      "2021-12-30 19:23:47.746016: W tensorflow/stream_executor/platform/default/dso_loader.cc:64] Could not load dynamic library 'libcudart.so.11.0'; dlerror: libcudart.so.11.0: cannot open shared object file: No such file or directory; LD_LIBRARY_PATH: /opt/oracle/instantclient_19_11:\n",
      "2021-12-30 19:23:47.746042: I tensorflow/stream_executor/cuda/cudart_stub.cc:29] Ignore above cudart dlerror if you do not have a GPU set up on your machine.\n"
     ]
    }
   ],
   "source": [
    "import numpy as np\n",
    "import tensorflow as tf\n",
    "import pandas as pd\n",
    "import matplotlib.pyplot as plt\n",
    "\n",
    "from numpy.random import seed\n",
    "from tensorflow import keras\n",
    "from tensorflow.keras.layers import (\n",
    "    TextVectorization, Input, Embedding, LSTM, Bidirectional, TimeDistributed, Dense\n",
    ")\n",
    "from keras.models import Sequential\n",
    "from tensorflow.keras.optimizers import Adam\n",
    "from tensorflow.keras.losses import BinaryCrossentropy\n",
    "from tensorflow.keras.metrics import Precision, Recall"
   ]
  },
  {
   "cell_type": "code",
   "execution_count": 2,
   "metadata": {},
   "outputs": [],
   "source": [
    "np.random.seed(1996)\n",
    "tf.random.set_seed(1996)"
   ]
  },
  {
   "cell_type": "code",
   "execution_count": 3,
   "metadata": {},
   "outputs": [],
   "source": [
    "EMBEDDING_DIM = 100\n",
    "MIN_TOKENS = 30\n",
    "MAX_TOKENS = 200\n",
    "VOCAB_SIZE = 20000\n",
    "TEST_PCT = 0.15\n",
    "\n",
    "def get_sentence_labels(text):\n",
    "    \"\"\"\n",
    "        This function gets the label for each word on the sentences\n",
    "    \"\"\"\n",
    "    global MAX_TOKENS\n",
    "    ORDINARY_TOKEN = 0\n",
    "    END_OF_SENTENCE_TOKEN = 1\n",
    "    \n",
    "    labels = []\n",
    "    sentences = text.split('.')\n",
    "    for i, sentence in enumerate(sentences, start=1):\n",
    "        n_words = len(sentence.split())\n",
    "\n",
    "        if (sentence == ''):\n",
    "            continue\n",
    "\n",
    "        partial_labels = [ORDINARY_TOKEN] * n_words\n",
    "\n",
    "        if (i != len(sentences)):\n",
    "            partial_labels[-1] = END_OF_SENTENCE_TOKEN\n",
    "\n",
    "        labels += partial_labels\n",
    "    \n",
    "    n_paddings = MAX_TOKENS - len(labels)\n",
    "    labels += [0] * n_paddings\n",
    "    \n",
    "    return labels\n",
    "    \n",
    "\n",
    "def build_random_sized_sentences(text):\n",
    "    \"\"\"\n",
    "        Build random sized sentences out of a single corpus per function call\n",
    "    \"\"\"\n",
    "    global MIN_TOKENS\n",
    "    global MAX_TOKENS\n",
    "    \n",
    "    text_tokens = text.split()\n",
    "    prev_index = 0\n",
    "    sentences = []\n",
    "    while prev_index < len(text_tokens):\n",
    "        final_index = prev_index + np.random.randint(MIN_TOKENS, MAX_TOKENS)\n",
    "        sentences.append(' '.join(text_tokens[prev_index:final_index]))\n",
    "        \n",
    "        prev_index = final_index\n",
    "        \n",
    "    return np.array(sentences)"
   ]
  },
  {
   "cell_type": "markdown",
   "metadata": {},
   "source": [
    "---\n",
    "## Training sentences\n",
    "\n",
    "The training sentences are built by drawing random sentence sizes, and sequentially slicing the original corpora"
   ]
  },
  {
   "cell_type": "code",
   "execution_count": 4,
   "metadata": {},
   "outputs": [
    {
     "data": {
      "text/html": [
       "<div>\n",
       "<style scoped>\n",
       "    .dataframe tbody tr th:only-of-type {\n",
       "        vertical-align: middle;\n",
       "    }\n",
       "\n",
       "    .dataframe tbody tr th {\n",
       "        vertical-align: top;\n",
       "    }\n",
       "\n",
       "    .dataframe thead th {\n",
       "        text-align: right;\n",
       "    }\n",
       "</style>\n",
       "<table border=\"1\" class=\"dataframe\">\n",
       "  <thead>\n",
       "    <tr style=\"text-align: right;\">\n",
       "      <th></th>\n",
       "      <th>subtitle</th>\n",
       "      <th>url</th>\n",
       "    </tr>\n",
       "  </thead>\n",
       "  <tbody>\n",
       "    <tr>\n",
       "      <th>0</th>\n",
       "      <td>this is the air jordan number black cement. th...</td>\n",
       "      <td>https://www.ted.com/talks/josh_luber_why_sneak...</td>\n",
       "    </tr>\n",
       "    <tr>\n",
       "      <th>1</th>\n",
       "      <td>if you want to buy high quality low price coca...</td>\n",
       "      <td>https://www.ted.com/talks/jamie_bartlett_how_t...</td>\n",
       "    </tr>\n",
       "    <tr>\n",
       "      <th>2</th>\n",
       "      <td>do you know how many choices you make in a typ...</td>\n",
       "      <td>https://www.ted.com/talks/sheena_iyengar_how_t...</td>\n",
       "    </tr>\n",
       "  </tbody>\n",
       "</table>\n",
       "</div>"
      ],
      "text/plain": [
       "                                            subtitle  \\\n",
       "0  this is the air jordan number black cement. th...   \n",
       "1  if you want to buy high quality low price coca...   \n",
       "2  do you know how many choices you make in a typ...   \n",
       "\n",
       "                                                 url  \n",
       "0  https://www.ted.com/talks/josh_luber_why_sneak...  \n",
       "1  https://www.ted.com/talks/jamie_bartlett_how_t...  \n",
       "2  https://www.ted.com/talks/sheena_iyengar_how_t...  "
      ]
     },
     "execution_count": 4,
     "metadata": {},
     "output_type": "execute_result"
    }
   ],
   "source": [
    "df = pd.read_csv(\"../data/TED_Talks/02_preprocessed/subtitles_preprocessed.csv\")\n",
    "df.head(3)"
   ]
  },
  {
   "cell_type": "code",
   "execution_count": 5,
   "metadata": {},
   "outputs": [],
   "source": [
    "entire_corpora = df.subtitle.apply(lambda text: build_random_sized_sentences(text))\n",
    "entire_corpora = np.concatenate(entire_corpora.values)"
   ]
  },
  {
   "cell_type": "code",
   "execution_count": 6,
   "metadata": {
    "scrolled": false
   },
   "outputs": [],
   "source": [
    "corpus_size = len(entire_corpora)\n",
    "train_upper_idx = int(corpus_size * (1 - TEST_PCT))\n",
    "\n",
    "X_train = entire_corpora[:train_upper_idx]\n",
    "Y_train = np.array([get_sentence_labels(text) for text in X_train])\n",
    "\n",
    "X_test = entire_corpora[train_upper_idx:]\n",
    "Y_test = np.array([get_sentence_labels(text) for text in X_test])"
   ]
  },
  {
   "cell_type": "markdown",
   "metadata": {},
   "source": [
    "---\n",
    "## Text Vectorization"
   ]
  },
  {
   "cell_type": "code",
   "execution_count": 7,
   "metadata": {},
   "outputs": [
    {
     "name": "stderr",
     "output_type": "stream",
     "text": [
      "2021-12-30 19:23:52.981220: E tensorflow/stream_executor/cuda/cuda_driver.cc:271] failed call to cuInit: CUDA_ERROR_NO_DEVICE: no CUDA-capable device is detected\n",
      "2021-12-30 19:23:52.981237: I tensorflow/stream_executor/cuda/cuda_diagnostics.cc:156] kernel driver does not appear to be running on this host (kunumi): /proc/driver/nvidia/version does not exist\n",
      "2021-12-30 19:23:52.981406: I tensorflow/core/platform/cpu_feature_guard.cc:151] This TensorFlow binary is optimized with oneAPI Deep Neural Network Library (oneDNN) to use the following CPU instructions in performance-critical operations:  AVX2 FMA\n",
      "To enable them in other operations, rebuild TensorFlow with the appropriate compiler flags.\n"
     ]
    }
   ],
   "source": [
    "vectorizer = TextVectorization(max_tokens=VOCAB_SIZE, output_sequence_length=MAX_TOKENS)\n",
    "text_ds = tf.data.Dataset.from_tensor_slices(X_train).batch(128)"
   ]
  },
  {
   "cell_type": "markdown",
   "metadata": {},
   "source": [
    "Learn the most frequent words on the `train_data`"
   ]
  },
  {
   "cell_type": "code",
   "execution_count": 8,
   "metadata": {},
   "outputs": [],
   "source": [
    "vectorizer.adapt(text_ds)"
   ]
  },
  {
   "cell_type": "markdown",
   "metadata": {},
   "source": [
    "Build a mapper from words to their respective indices"
   ]
  },
  {
   "cell_type": "code",
   "execution_count": 9,
   "metadata": {
    "scrolled": true
   },
   "outputs": [],
   "source": [
    "word_index = {word: i for i, word in enumerate(vectorizer.get_vocabulary())}"
   ]
  },
  {
   "cell_type": "markdown",
   "metadata": {},
   "source": [
    "---\n",
    "\n",
    "## Build the Embedding Layer"
   ]
  },
  {
   "cell_type": "code",
   "execution_count": 10,
   "metadata": {},
   "outputs": [],
   "source": [
    "embeddings = {}\n",
    "with open(f\"../data/embeddings/glove/glove.6B.{EMBEDDING_DIM}d.txt\") as file:\n",
    "    for line in file:\n",
    "        word, coefs = line.split(maxsplit=1)\n",
    "        embeddings[word] = np.fromstring(coefs, 'f', sep=' ')"
   ]
  },
  {
   "cell_type": "markdown",
   "metadata": {},
   "source": [
    "Build the embedding matrix"
   ]
  },
  {
   "cell_type": "code",
   "execution_count": 11,
   "metadata": {},
   "outputs": [
    {
     "name": "stdout",
     "output_type": "stream",
     "text": [
      "Converted 12504 words (309 misses)\n"
     ]
    }
   ],
   "source": [
    "hits, misses = 0, 0\n",
    "\n",
    "# +2 due to empty string and UKN token\n",
    "embedding_matrix = np.zeros((VOCAB_SIZE+2, EMBEDDING_DIM))\n",
    "for word, i in word_index.items():\n",
    "    embedding_vector = embeddings.get(word)\n",
    "    if embedding_vector is not None:\n",
    "        # Words not found in embedding index will be all-zeros.\n",
    "        # This includes the representation for \"padding\" and \"OOV\"\n",
    "        embedding_matrix[i] = embedding_vector\n",
    "        hits += 1\n",
    "    else:\n",
    "        misses += 1\n",
    "print(\"Converted %d words (%d misses)\" % (hits, misses))"
   ]
  },
  {
   "cell_type": "code",
   "execution_count": 12,
   "metadata": {},
   "outputs": [],
   "source": [
    "model = Sequential()\n",
    "\n",
    "model.add(\n",
    "    Embedding(\n",
    "        VOCAB_SIZE+2,\n",
    "        EMBEDDING_DIM,\n",
    "        embeddings_initializer=keras.initializers.Constant(embedding_matrix),\n",
    "        trainable=False,\n",
    "        input_shape=(200,)\n",
    "    )\n",
    ")\n",
    "\n",
    "model.add(\n",
    "    Bidirectional(\n",
    "        LSTM(\n",
    "            units=15,\n",
    "            return_sequences=True\n",
    "        )\n",
    "    )\n",
    ")\n",
    "\n",
    "model.add(\n",
    "    TimeDistributed(\n",
    "        Dense(1, activation='sigmoid')\n",
    "    )\n",
    ")\n",
    "\n",
    "model.compile(\n",
    "    optimizer=Adam(learning_rate=1e-3),\n",
    "    loss=BinaryCrossentropy(),\n",
    "    metrics=[\n",
    "        Precision(),\n",
    "        Recall()\n",
    "    ]\n",
    ")"
   ]
  },
  {
   "cell_type": "code",
   "execution_count": 13,
   "metadata": {
    "scrolled": true
   },
   "outputs": [
    {
     "name": "stdout",
     "output_type": "stream",
     "text": [
      "Model: \"sequential\"\n",
      "_________________________________________________________________\n",
      " Layer (type)                Output Shape              Param #   \n",
      "=================================================================\n",
      " embedding (Embedding)       (None, 200, 100)          2000200   \n",
      "                                                                 \n",
      " bidirectional (Bidirectiona  (None, 200, 30)          13920     \n",
      " l)                                                              \n",
      "                                                                 \n",
      " time_distributed (TimeDistr  (None, 200, 1)           31        \n",
      " ibuted)                                                         \n",
      "                                                                 \n",
      "=================================================================\n",
      "Total params: 2,014,151\n",
      "Trainable params: 13,951\n",
      "Non-trainable params: 2,000,200\n",
      "_________________________________________________________________\n"
     ]
    }
   ],
   "source": [
    "model.summary()"
   ]
  },
  {
   "cell_type": "code",
   "execution_count": 14,
   "metadata": {},
   "outputs": [
    {
     "name": "stdout",
     "output_type": "stream",
     "text": [
      "Epoch 1/100\n",
      "259/259 [==============================] - 35s 125ms/step - loss: 0.1998 - precision: 0.0791 - recall: 0.0052 - val_loss: 0.1194 - val_precision: 0.2222 - val_recall: 4.2236e-05\n",
      "Epoch 2/100\n",
      "259/259 [==============================] - 34s 131ms/step - loss: 0.1214 - precision: 0.4499 - recall: 0.0012 - val_loss: 0.1021 - val_precision: 0.4363 - val_recall: 0.0024\n",
      "Epoch 3/100\n",
      "259/259 [==============================] - 34s 131ms/step - loss: 0.1033 - precision: 0.5768 - recall: 0.0415 - val_loss: 0.0903 - val_precision: 0.5815 - val_recall: 0.0917\n",
      "Epoch 4/100\n",
      "259/259 [==============================] - 34s 132ms/step - loss: 0.0928 - precision: 0.6136 - recall: 0.1475 - val_loss: 0.0843 - val_precision: 0.5505 - val_recall: 0.1850\n",
      "Epoch 5/100\n",
      "259/259 [==============================] - 34s 131ms/step - loss: 0.0862 - precision: 0.6395 - recall: 0.2380 - val_loss: 0.0808 - val_precision: 0.5574 - val_recall: 0.2479\n",
      "Epoch 6/100\n",
      "259/259 [==============================] - 34s 131ms/step - loss: 0.0811 - precision: 0.6667 - recall: 0.3047 - val_loss: 0.0786 - val_precision: 0.5879 - val_recall: 0.2914\n",
      "Epoch 7/100\n",
      "259/259 [==============================] - 34s 132ms/step - loss: 0.0769 - precision: 0.6890 - recall: 0.3574 - val_loss: 0.0770 - val_precision: 0.5935 - val_recall: 0.2946\n",
      "Epoch 8/100\n",
      "259/259 [==============================] - 34s 131ms/step - loss: 0.0732 - precision: 0.7024 - recall: 0.4002 - val_loss: 0.0761 - val_precision: 0.6075 - val_recall: 0.3386\n",
      "Epoch 9/100\n",
      "259/259 [==============================] - 34s 132ms/step - loss: 0.0701 - precision: 0.7129 - recall: 0.4342 - val_loss: 0.0758 - val_precision: 0.6004 - val_recall: 0.3380\n",
      "Epoch 10/100\n",
      "259/259 [==============================] - 34s 132ms/step - loss: 0.0674 - precision: 0.7245 - recall: 0.4643 - val_loss: 0.0759 - val_precision: 0.5991 - val_recall: 0.3660\n",
      "Epoch 11/100\n",
      "259/259 [==============================] - 34s 132ms/step - loss: 0.0650 - precision: 0.7334 - recall: 0.4907 - val_loss: 0.0765 - val_precision: 0.5993 - val_recall: 0.3665\n",
      "Epoch 12/100\n",
      "259/259 [==============================] - 36s 140ms/step - loss: 0.0629 - precision: 0.7435 - recall: 0.5141 - val_loss: 0.0774 - val_precision: 0.5784 - val_recall: 0.3951\n",
      "Epoch 13/100\n",
      "259/259 [==============================] - 40s 155ms/step - loss: 0.0610 - precision: 0.7525 - recall: 0.5373 - val_loss: 0.0780 - val_precision: 0.5894 - val_recall: 0.3978\n",
      "Epoch 14/100\n",
      "259/259 [==============================] - 41s 158ms/step - loss: 0.0592 - precision: 0.7617 - recall: 0.5578 - val_loss: 0.0791 - val_precision: 0.5716 - val_recall: 0.4087\n",
      "Epoch 15/100\n",
      "259/259 [==============================] - 39s 152ms/step - loss: 0.0575 - precision: 0.7700 - recall: 0.5752 - val_loss: 0.0801 - val_precision: 0.5669 - val_recall: 0.4200\n",
      "Epoch 16/100\n",
      "259/259 [==============================] - 41s 159ms/step - loss: 0.0559 - precision: 0.7770 - recall: 0.5923 - val_loss: 0.0812 - val_precision: 0.5590 - val_recall: 0.4274\n",
      "Epoch 17/100\n",
      "259/259 [==============================] - 39s 150ms/step - loss: 0.0545 - precision: 0.7845 - recall: 0.6085 - val_loss: 0.0824 - val_precision: 0.5422 - val_recall: 0.4266\n",
      "Epoch 18/100\n",
      "259/259 [==============================] - 39s 152ms/step - loss: 0.0531 - precision: 0.7910 - recall: 0.6238 - val_loss: 0.0835 - val_precision: 0.5400 - val_recall: 0.4344\n",
      "Epoch 19/100\n",
      "259/259 [==============================] - 42s 161ms/step - loss: 0.0517 - precision: 0.7979 - recall: 0.6378 - val_loss: 0.0844 - val_precision: 0.5402 - val_recall: 0.4211\n",
      "Epoch 20/100\n",
      "259/259 [==============================] - 41s 158ms/step - loss: 0.0505 - precision: 0.8031 - recall: 0.6494 - val_loss: 0.0863 - val_precision: 0.5093 - val_recall: 0.4465\n",
      "Epoch 21/100\n",
      "259/259 [==============================] - 40s 154ms/step - loss: 0.0493 - precision: 0.8084 - recall: 0.6613 - val_loss: 0.0868 - val_precision: 0.5272 - val_recall: 0.4330\n",
      "Epoch 22/100\n",
      "259/259 [==============================] - 44s 170ms/step - loss: 0.0482 - precision: 0.8139 - recall: 0.6721 - val_loss: 0.0884 - val_precision: 0.5216 - val_recall: 0.4534\n",
      "Epoch 23/100\n",
      "259/259 [==============================] - 44s 170ms/step - loss: 0.0471 - precision: 0.8195 - recall: 0.6828 - val_loss: 0.0893 - val_precision: 0.5309 - val_recall: 0.4342\n",
      "Epoch 24/100\n",
      "259/259 [==============================] - 40s 155ms/step - loss: 0.0461 - precision: 0.8244 - recall: 0.6933 - val_loss: 0.0902 - val_precision: 0.5243 - val_recall: 0.4396\n",
      "Epoch 25/100\n",
      "259/259 [==============================] - 40s 155ms/step - loss: 0.0451 - precision: 0.8285 - recall: 0.7028 - val_loss: 0.0914 - val_precision: 0.5242 - val_recall: 0.4511\n",
      "Epoch 26/100\n",
      "259/259 [==============================] - 40s 155ms/step - loss: 0.0442 - precision: 0.8329 - recall: 0.7123 - val_loss: 0.0926 - val_precision: 0.5197 - val_recall: 0.4567\n",
      "Epoch 27/100\n",
      "259/259 [==============================] - 41s 156ms/step - loss: 0.0434 - precision: 0.8365 - recall: 0.7200 - val_loss: 0.0937 - val_precision: 0.5168 - val_recall: 0.4433\n",
      "Epoch 28/100\n",
      "259/259 [==============================] - 40s 153ms/step - loss: 0.0426 - precision: 0.8407 - recall: 0.7277 - val_loss: 0.0950 - val_precision: 0.5186 - val_recall: 0.4446\n",
      "Epoch 29/100\n",
      "259/259 [==============================] - 40s 156ms/step - loss: 0.0418 - precision: 0.8446 - recall: 0.7347 - val_loss: 0.0964 - val_precision: 0.5089 - val_recall: 0.4436\n",
      "Epoch 30/100\n",
      "259/259 [==============================] - 40s 156ms/step - loss: 0.0410 - precision: 0.8483 - recall: 0.7425 - val_loss: 0.0980 - val_precision: 0.5123 - val_recall: 0.4371\n",
      "Epoch 31/100\n",
      "259/259 [==============================] - 39s 150ms/step - loss: 0.0402 - precision: 0.8519 - recall: 0.7497 - val_loss: 0.1002 - val_precision: 0.5000 - val_recall: 0.4469\n",
      "Epoch 32/100\n",
      "259/259 [==============================] - 41s 160ms/step - loss: 0.0395 - precision: 0.8554 - recall: 0.7570 - val_loss: 0.1019 - val_precision: 0.4945 - val_recall: 0.4444\n",
      "Epoch 33/100\n",
      "259/259 [==============================] - 44s 172ms/step - loss: 0.0388 - precision: 0.8590 - recall: 0.7630 - val_loss: 0.1034 - val_precision: 0.4923 - val_recall: 0.4475\n",
      "Epoch 34/100\n",
      "259/259 [==============================] - 41s 159ms/step - loss: 0.0381 - precision: 0.8626 - recall: 0.7691 - val_loss: 0.1052 - val_precision: 0.4898 - val_recall: 0.4413\n",
      "Epoch 35/100\n",
      "259/259 [==============================] - 41s 157ms/step - loss: 0.0375 - precision: 0.8659 - recall: 0.7752 - val_loss: 0.1065 - val_precision: 0.4885 - val_recall: 0.4426\n",
      "Epoch 36/100\n",
      "259/259 [==============================] - 39s 151ms/step - loss: 0.0369 - precision: 0.8685 - recall: 0.7808 - val_loss: 0.1086 - val_precision: 0.4765 - val_recall: 0.4385\n",
      "Epoch 37/100\n",
      "259/259 [==============================] - 43s 166ms/step - loss: 0.0363 - precision: 0.8716 - recall: 0.7855 - val_loss: 0.1106 - val_precision: 0.4829 - val_recall: 0.4483\n",
      "Epoch 38/100\n",
      "259/259 [==============================] - 43s 167ms/step - loss: 0.0358 - precision: 0.8734 - recall: 0.7905 - val_loss: 0.1119 - val_precision: 0.4787 - val_recall: 0.4496\n",
      "Epoch 39/100\n",
      "259/259 [==============================] - 41s 159ms/step - loss: 0.0353 - precision: 0.8764 - recall: 0.7953 - val_loss: 0.1136 - val_precision: 0.4740 - val_recall: 0.4409\n",
      "Epoch 40/100\n",
      "259/259 [==============================] - 43s 167ms/step - loss: 0.0348 - precision: 0.8788 - recall: 0.7994 - val_loss: 0.1147 - val_precision: 0.4828 - val_recall: 0.4388\n",
      "Epoch 41/100\n",
      "259/259 [==============================] - 39s 150ms/step - loss: 0.0343 - precision: 0.8808 - recall: 0.8033 - val_loss: 0.1162 - val_precision: 0.4855 - val_recall: 0.4382\n",
      "Epoch 42/100\n",
      "259/259 [==============================] - 40s 155ms/step - loss: 0.0339 - precision: 0.8829 - recall: 0.8070 - val_loss: 0.1189 - val_precision: 0.4705 - val_recall: 0.4574\n",
      "Epoch 43/100\n",
      "259/259 [==============================] - 41s 157ms/step - loss: 0.0334 - precision: 0.8855 - recall: 0.8106 - val_loss: 0.1200 - val_precision: 0.4650 - val_recall: 0.4449\n",
      "Epoch 44/100\n",
      "259/259 [==============================] - 42s 162ms/step - loss: 0.0330 - precision: 0.8867 - recall: 0.8138 - val_loss: 0.1218 - val_precision: 0.4679 - val_recall: 0.4426\n"
     ]
    },
    {
     "name": "stdout",
     "output_type": "stream",
     "text": [
      "Epoch 45/100\n",
      "259/259 [==============================] - 41s 158ms/step - loss: 0.0326 - precision: 0.8890 - recall: 0.8165 - val_loss: 0.1227 - val_precision: 0.4674 - val_recall: 0.4454\n",
      "Epoch 46/100\n",
      "259/259 [==============================] - 41s 157ms/step - loss: 0.0323 - precision: 0.8907 - recall: 0.8199 - val_loss: 0.1250 - val_precision: 0.4616 - val_recall: 0.4381\n",
      "Epoch 47/100\n",
      "259/259 [==============================] - 39s 152ms/step - loss: 0.0319 - precision: 0.8923 - recall: 0.8226 - val_loss: 0.1257 - val_precision: 0.4645 - val_recall: 0.4597\n",
      "Epoch 48/100\n",
      "259/259 [==============================] - 40s 156ms/step - loss: 0.0316 - precision: 0.8940 - recall: 0.8262 - val_loss: 0.1273 - val_precision: 0.4692 - val_recall: 0.4486\n",
      "Epoch 49/100\n",
      "259/259 [==============================] - 39s 151ms/step - loss: 0.0312 - precision: 0.8956 - recall: 0.8290 - val_loss: 0.1282 - val_precision: 0.4708 - val_recall: 0.4536\n",
      "Epoch 50/100\n",
      "259/259 [==============================] - 39s 149ms/step - loss: 0.0309 - precision: 0.8970 - recall: 0.8315 - val_loss: 0.1298 - val_precision: 0.4659 - val_recall: 0.4522\n",
      "Epoch 51/100\n",
      "259/259 [==============================] - 38s 145ms/step - loss: 0.0306 - precision: 0.8986 - recall: 0.8345 - val_loss: 0.1307 - val_precision: 0.4632 - val_recall: 0.4606\n",
      "Epoch 52/100\n",
      "259/259 [==============================] - 34s 133ms/step - loss: 0.0303 - precision: 0.8997 - recall: 0.8364 - val_loss: 0.1323 - val_precision: 0.4616 - val_recall: 0.4472\n",
      "Epoch 53/100\n",
      "259/259 [==============================] - 34s 132ms/step - loss: 0.0300 - precision: 0.9012 - recall: 0.8387 - val_loss: 0.1334 - val_precision: 0.4594 - val_recall: 0.4533\n",
      "Epoch 54/100\n",
      "259/259 [==============================] - 34s 131ms/step - loss: 0.0298 - precision: 0.9025 - recall: 0.8416 - val_loss: 0.1344 - val_precision: 0.4630 - val_recall: 0.4580\n",
      "Epoch 55/100\n",
      "259/259 [==============================] - 34s 132ms/step - loss: 0.0295 - precision: 0.9037 - recall: 0.8433 - val_loss: 0.1357 - val_precision: 0.4559 - val_recall: 0.4341\n",
      "Epoch 56/100\n",
      "259/259 [==============================] - 40s 154ms/step - loss: 0.0292 - precision: 0.9046 - recall: 0.8447 - val_loss: 0.1371 - val_precision: 0.4521 - val_recall: 0.4537\n",
      "Epoch 57/100\n",
      "259/259 [==============================] - 42s 161ms/step - loss: 0.0290 - precision: 0.9056 - recall: 0.8468 - val_loss: 0.1375 - val_precision: 0.4515 - val_recall: 0.4532\n",
      "Epoch 58/100\n",
      "259/259 [==============================] - 39s 152ms/step - loss: 0.0288 - precision: 0.9068 - recall: 0.8487 - val_loss: 0.1388 - val_precision: 0.4448 - val_recall: 0.4488\n",
      "Epoch 59/100\n",
      "259/259 [==============================] - 39s 150ms/step - loss: 0.0285 - precision: 0.9075 - recall: 0.8507 - val_loss: 0.1403 - val_precision: 0.4505 - val_recall: 0.4434\n",
      "Epoch 60/100\n",
      "259/259 [==============================] - 39s 150ms/step - loss: 0.0283 - precision: 0.9089 - recall: 0.8521 - val_loss: 0.1412 - val_precision: 0.4465 - val_recall: 0.4592\n",
      "Epoch 61/100\n",
      "259/259 [==============================] - 39s 150ms/step - loss: 0.0281 - precision: 0.9093 - recall: 0.8539 - val_loss: 0.1421 - val_precision: 0.4477 - val_recall: 0.4440\n",
      "Epoch 62/100\n",
      "259/259 [==============================] - 40s 154ms/step - loss: 0.0279 - precision: 0.9108 - recall: 0.8553 - val_loss: 0.1430 - val_precision: 0.4448 - val_recall: 0.4582\n",
      "Epoch 63/100\n",
      "259/259 [==============================] - 35s 133ms/step - loss: 0.0277 - precision: 0.9113 - recall: 0.8570 - val_loss: 0.1434 - val_precision: 0.4451 - val_recall: 0.4521\n",
      "Epoch 64/100\n",
      "259/259 [==============================] - 35s 134ms/step - loss: 0.0275 - precision: 0.9122 - recall: 0.8581 - val_loss: 0.1440 - val_precision: 0.4517 - val_recall: 0.4434\n",
      "Epoch 65/100\n",
      "259/259 [==============================] - 38s 145ms/step - loss: 0.0273 - precision: 0.9133 - recall: 0.8593 - val_loss: 0.1455 - val_precision: 0.4483 - val_recall: 0.4484\n",
      "Epoch 66/100\n",
      "259/259 [==============================] - 34s 131ms/step - loss: 0.0272 - precision: 0.9137 - recall: 0.8609 - val_loss: 0.1456 - val_precision: 0.4470 - val_recall: 0.4508\n",
      "Epoch 67/100\n",
      "259/259 [==============================] - 36s 137ms/step - loss: 0.0270 - precision: 0.9147 - recall: 0.8625 - val_loss: 0.1462 - val_precision: 0.4486 - val_recall: 0.4478\n",
      "Epoch 68/100\n",
      "259/259 [==============================] - 35s 134ms/step - loss: 0.0268 - precision: 0.9153 - recall: 0.8636 - val_loss: 0.1470 - val_precision: 0.4479 - val_recall: 0.4431\n",
      "Epoch 69/100\n",
      "259/259 [==============================] - 33s 128ms/step - loss: 0.0267 - precision: 0.9158 - recall: 0.8645 - val_loss: 0.1484 - val_precision: 0.4494 - val_recall: 0.4540\n",
      "Epoch 70/100\n",
      "259/259 [==============================] - 33s 128ms/step - loss: 0.0265 - precision: 0.9166 - recall: 0.8660 - val_loss: 0.1478 - val_precision: 0.4543 - val_recall: 0.4510\n",
      "Epoch 71/100\n",
      "259/259 [==============================] - 33s 128ms/step - loss: 0.0263 - precision: 0.9173 - recall: 0.8673 - val_loss: 0.1496 - val_precision: 0.4595 - val_recall: 0.4386\n",
      "Epoch 72/100\n",
      "259/259 [==============================] - 33s 127ms/step - loss: 0.0261 - precision: 0.9181 - recall: 0.8685 - val_loss: 0.1501 - val_precision: 0.4491 - val_recall: 0.4522\n",
      "Epoch 73/100\n",
      "259/259 [==============================] - 33s 128ms/step - loss: 0.0260 - precision: 0.9186 - recall: 0.8693 - val_loss: 0.1504 - val_precision: 0.4498 - val_recall: 0.4467\n",
      "Epoch 74/100\n",
      "259/259 [==============================] - 33s 127ms/step - loss: 0.0258 - precision: 0.9193 - recall: 0.8706 - val_loss: 0.1512 - val_precision: 0.4464 - val_recall: 0.4497\n",
      "Epoch 75/100\n",
      "259/259 [==============================] - 33s 129ms/step - loss: 0.0257 - precision: 0.9201 - recall: 0.8721 - val_loss: 0.1517 - val_precision: 0.4512 - val_recall: 0.4542\n",
      "Epoch 76/100\n",
      "259/259 [==============================] - 33s 128ms/step - loss: 0.0256 - precision: 0.9207 - recall: 0.8726 - val_loss: 0.1528 - val_precision: 0.4519 - val_recall: 0.4389\n",
      "Epoch 77/100\n",
      "259/259 [==============================] - 33s 127ms/step - loss: 0.0254 - precision: 0.9216 - recall: 0.8744 - val_loss: 0.1529 - val_precision: 0.4575 - val_recall: 0.4381\n",
      "Epoch 78/100\n",
      "259/259 [==============================] - 33s 128ms/step - loss: 0.0253 - precision: 0.9224 - recall: 0.8754 - val_loss: 0.1535 - val_precision: 0.4517 - val_recall: 0.4442\n",
      "Epoch 79/100\n",
      "259/259 [==============================] - 33s 128ms/step - loss: 0.0251 - precision: 0.9231 - recall: 0.8764 - val_loss: 0.1550 - val_precision: 0.4457 - val_recall: 0.4487\n",
      "Epoch 80/100\n",
      "259/259 [==============================] - 33s 129ms/step - loss: 0.0250 - precision: 0.9233 - recall: 0.8773 - val_loss: 0.1559 - val_precision: 0.4525 - val_recall: 0.4446\n",
      "Epoch 81/100\n",
      "259/259 [==============================] - 33s 128ms/step - loss: 0.0249 - precision: 0.9242 - recall: 0.8784 - val_loss: 0.1564 - val_precision: 0.4551 - val_recall: 0.4518\n",
      "Epoch 82/100\n",
      "259/259 [==============================] - 33s 127ms/step - loss: 0.0248 - precision: 0.9245 - recall: 0.8793 - val_loss: 0.1569 - val_precision: 0.4492 - val_recall: 0.4478\n",
      "Epoch 83/100\n",
      "259/259 [==============================] - 33s 127ms/step - loss: 0.0246 - precision: 0.9253 - recall: 0.8807 - val_loss: 0.1577 - val_precision: 0.4571 - val_recall: 0.4456\n",
      "Epoch 84/100\n",
      "259/259 [==============================] - 33s 128ms/step - loss: 0.0245 - precision: 0.9254 - recall: 0.8811 - val_loss: 0.1583 - val_precision: 0.4540 - val_recall: 0.4604\n",
      "Epoch 85/100\n",
      "259/259 [==============================] - 33s 127ms/step - loss: 0.0244 - precision: 0.9259 - recall: 0.8821 - val_loss: 0.1588 - val_precision: 0.4562 - val_recall: 0.4543\n",
      "Epoch 86/100\n",
      "259/259 [==============================] - 33s 127ms/step - loss: 0.0243 - precision: 0.9264 - recall: 0.8829 - val_loss: 0.1594 - val_precision: 0.4595 - val_recall: 0.4580\n",
      "Epoch 87/100\n",
      "259/259 [==============================] - 33s 127ms/step - loss: 0.0242 - precision: 0.9269 - recall: 0.8836 - val_loss: 0.1602 - val_precision: 0.4459 - val_recall: 0.4601\n",
      "Epoch 88/100\n",
      "259/259 [==============================] - 33s 127ms/step - loss: 0.0241 - precision: 0.9274 - recall: 0.8842 - val_loss: 0.1617 - val_precision: 0.4547 - val_recall: 0.4607\n"
     ]
    },
    {
     "name": "stdout",
     "output_type": "stream",
     "text": [
      "Epoch 89/100\n",
      "259/259 [==============================] - 33s 128ms/step - loss: 0.0240 - precision: 0.9275 - recall: 0.8851 - val_loss: 0.1617 - val_precision: 0.4520 - val_recall: 0.4521\n",
      "Epoch 90/100\n",
      "259/259 [==============================] - 33s 127ms/step - loss: 0.0239 - precision: 0.9283 - recall: 0.8857 - val_loss: 0.1617 - val_precision: 0.4498 - val_recall: 0.4469\n",
      "Epoch 91/100\n",
      "259/259 [==============================] - 33s 127ms/step - loss: 0.0238 - precision: 0.9283 - recall: 0.8863 - val_loss: 0.1621 - val_precision: 0.4488 - val_recall: 0.4571\n",
      "Epoch 92/100\n",
      "259/259 [==============================] - 33s 127ms/step - loss: 0.0237 - precision: 0.9290 - recall: 0.8876 - val_loss: 0.1636 - val_precision: 0.4529 - val_recall: 0.4545\n",
      "Epoch 93/100\n",
      "259/259 [==============================] - 34s 129ms/step - loss: 0.0236 - precision: 0.9295 - recall: 0.8884 - val_loss: 0.1638 - val_precision: 0.4479 - val_recall: 0.4606\n",
      "Epoch 94/100\n",
      "259/259 [==============================] - 33s 129ms/step - loss: 0.0235 - precision: 0.9293 - recall: 0.8886 - val_loss: 0.1643 - val_precision: 0.4502 - val_recall: 0.4532\n",
      "Epoch 95/100\n",
      "259/259 [==============================] - 33s 127ms/step - loss: 0.0234 - precision: 0.9301 - recall: 0.8895 - val_loss: 0.1643 - val_precision: 0.4556 - val_recall: 0.4557\n",
      "Epoch 96/100\n",
      "259/259 [==============================] - 33s 128ms/step - loss: 0.0234 - precision: 0.9302 - recall: 0.8898 - val_loss: 0.1647 - val_precision: 0.4482 - val_recall: 0.4555\n",
      "Epoch 97/100\n",
      "259/259 [==============================] - 36s 141ms/step - loss: 0.0233 - precision: 0.9305 - recall: 0.8909 - val_loss: 0.1659 - val_precision: 0.4456 - val_recall: 0.4507\n",
      "Epoch 98/100\n",
      "259/259 [==============================] - 40s 154ms/step - loss: 0.0232 - precision: 0.9312 - recall: 0.8914 - val_loss: 0.1658 - val_precision: 0.4497 - val_recall: 0.4553\n",
      "Epoch 99/100\n",
      "259/259 [==============================] - 35s 133ms/step - loss: 0.0231 - precision: 0.9316 - recall: 0.8921 - val_loss: 0.1654 - val_precision: 0.4496 - val_recall: 0.4655\n",
      "Epoch 100/100\n",
      "259/259 [==============================] - 34s 131ms/step - loss: 0.0231 - precision: 0.9307 - recall: 0.8919 - val_loss: 0.1666 - val_precision: 0.4502 - val_recall: 0.4608\n"
     ]
    },
    {
     "data": {
      "text/plain": [
       "<keras.callbacks.History at 0x7fd103ad3610>"
      ]
     },
     "execution_count": 14,
     "metadata": {},
     "output_type": "execute_result"
    }
   ],
   "source": [
    "X_train = vectorizer(X_train)\n",
    "model.fit(X_train, Y_train, batch_size=256, epochs=100, validation_split=0.1)"
   ]
  },
  {
   "cell_type": "markdown",
   "metadata": {},
   "source": [
    "## Model Performance"
   ]
  },
  {
   "cell_type": "code",
   "execution_count": 26,
   "metadata": {},
   "outputs": [
    {
     "data": {
      "image/png": "[encoded data removed]",
      "text/plain": [
       "<Figure size 432x288 with 1 Axes>"
      ]
     },
     "metadata": {
      "needs_background": "light"
     },
     "output_type": "display_data"
    }
   ],
   "source": [
    "plt.plot(range(100), model.history.history[\"precision\"], label=\"Precision\")\n",
    "plt.plot(range(100), model.history.history[\"recall\"], label=\"Recall\")\n",
    "plt.plot(range(100), model.history.history[\"loss\"], label=\"Error\")\n",
    "\n",
    "plt.legend()\n",
    "plt.title(\"Scores @ Epoch\")\n",
    "plt.xlabel(\"Epoch\")\n",
    "plt.ylabel(\"Score\")\n",
    "plt.show()"
   ]
  },
  {
   "cell_type": "code",
   "execution_count": 28,
   "metadata": {},
   "outputs": [
    {
     "data": {
      "text/plain": [
       "'understanding of who we are where weve come from and the times we live in. during the numberth century we witnessed the atrocities of stalin hitler mao pol pot rwanda and other genocides and even though the numberst century is only seven years old we have already witnessed an ongoing genocide in darfur and the daily horrors of iraq. this has led to a common understanding of our situation namely that modernity has brought us terrible violence and perhaps that native peoples lived in a state of harmony that we have departed from to our peril. here is an example from an op ed on thanksgiving in the boston globe a couple of years ago where the writer wrote the indian life was a difficult one but'"
      ]
     },
     "execution_count": 28,
     "metadata": {},
     "output_type": "execute_result"
    }
   ],
   "source": [
    "X_test[0]"
   ]
  },
  {
   "cell_type": "code",
   "execution_count": 29,
   "metadata": {},
   "outputs": [
    {
     "data": {
      "text/plain": [
       "array([0, 0, 0, 0, 0, 0, 0, 0, 0, 0, 0, 0, 0, 0, 1, 0, 0, 0, 0, 0, 0, 0,\n",
       "       0, 0, 0, 0, 0, 0, 0, 0, 0, 0, 0, 0, 0, 0, 0, 0, 0, 0, 0, 0, 0, 0,\n",
       "       0, 0, 0, 0, 0, 0, 0, 0, 0, 0, 0, 0, 0, 0, 1, 0, 0, 0, 0, 0, 0, 0,\n",
       "       0, 0, 0, 0, 0, 0, 0, 0, 0, 0, 0, 0, 0, 0, 0, 0, 0, 0, 0, 0, 0, 0,\n",
       "       0, 0, 0, 0, 0, 0, 0, 1, 0, 0, 0, 0, 0, 0, 0, 0, 0, 0, 0, 0, 0, 0,\n",
       "       0, 0, 0, 0, 0, 0, 0, 0, 0, 0, 0, 0, 0, 0, 0, 0, 0, 0, 0, 0, 0, 0,\n",
       "       0, 0, 0, 0, 0, 0, 0, 0, 0, 0, 0, 0, 0, 0, 0, 0, 0, 0, 0, 0, 0, 0,\n",
       "       0, 0, 0, 0, 0, 0, 0, 0, 0, 0, 0, 0, 0, 0, 0, 0, 0, 0, 0, 0, 0, 0,\n",
       "       0, 0, 0, 0, 0, 0, 0, 0, 0, 0, 0, 0, 0, 0, 0, 0, 0, 0, 0, 0, 0, 0,\n",
       "       0, 0])"
      ]
     },
     "execution_count": 29,
     "metadata": {},
     "output_type": "execute_result"
    }
   ],
   "source": [
    "Y_test[0]"
   ]
  },
  {
   "cell_type": "code",
   "execution_count": 42,
   "metadata": {},
   "outputs": [],
   "source": [
    "pred = model.predict(np.array([vectorizer(X_test[0])])).reshape(1,-1)\n",
    "pred = (pred > 0.5).astype(int)"
   ]
  },
  {
   "cell_type": "code",
   "execution_count": 43,
   "metadata": {},
   "outputs": [
    {
     "data": {
      "text/plain": [
       "array([[0, 0, 0, 0, 0, 0, 0, 0, 0, 0, 0, 0, 0, 0, 0, 0, 0, 0, 0, 0, 0, 0,\n",
       "        0, 1, 1, 0, 0, 0, 0, 0, 0, 0, 1, 0, 1, 0, 0, 0, 0, 0, 0, 0, 0, 1,\n",
       "        0, 0, 0, 0, 0, 0, 0, 0, 0, 0, 0, 0, 0, 0, 0, 0, 0, 0, 0, 0, 0, 0,\n",
       "        0, 0, 0, 0, 0, 0, 0, 0, 0, 0, 1, 0, 0, 0, 0, 0, 0, 0, 0, 0, 0, 0,\n",
       "        0, 0, 0, 0, 0, 1, 0, 0, 0, 0, 0, 0, 0, 0, 0, 0, 0, 0, 0, 0, 0, 0,\n",
       "        0, 0, 0, 0, 0, 0, 0, 0, 0, 0, 0, 0, 0, 0, 0, 0, 0, 0, 0, 0, 0, 0,\n",
       "        0, 0, 0, 0, 0, 0, 0, 0, 0, 0, 0, 0, 0, 0, 0, 0, 0, 0, 0, 0, 0, 0,\n",
       "        0, 0, 0, 0, 0, 0, 0, 0, 0, 0, 0, 0, 0, 0, 0, 0, 0, 0, 0, 0, 0, 0,\n",
       "        0, 0, 0, 0, 0, 0, 0, 0, 0, 0, 0, 0, 0, 0, 0, 0, 0, 0, 0, 0, 0, 0,\n",
       "        0, 0]])"
      ]
     },
     "execution_count": 43,
     "metadata": {},
     "output_type": "execute_result"
    }
   ],
   "source": [
    "pred"
   ]
  },
  {
   "cell_type": "code",
   "execution_count": null,
   "metadata": {},
   "outputs": [],
   "source": []
  }
 ],
 "metadata": {
  "kernelspec": {
   "display_name": "Python 3",
   "language": "python",
   "name": "python3"
  },
  "language_info": {
   "codemirror_mode": {
    "name": "ipython",
    "version": 3
   },
   "file_extension": ".py",
   "mimetype": "text/x-python",
   "name": "python",
   "nbconvert_exporter": "python",
   "pygments_lexer": "ipython3",
   "version": "3.7.6"
  }
 },
 "nbformat": 4,
 "nbformat_minor": 4
}
