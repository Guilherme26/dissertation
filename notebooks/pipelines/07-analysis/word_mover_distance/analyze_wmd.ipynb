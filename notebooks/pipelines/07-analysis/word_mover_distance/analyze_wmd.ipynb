{
 "cells": [
  {
   "cell_type": "code",
   "execution_count": 1,
   "id": "6f857284",
   "metadata": {},
   "outputs": [],
   "source": [
    "import gensim.downloader as api\n",
    "import glob\n",
    "import sys\n",
    "import os\n",
    "import pandas as pd\n",
    "\n",
    "from tqdm import tqdm\n",
    "\n",
    "sys.path.append(\"../../../../utils\")\n",
    "from absolute_path_builder import AbsolutePathBuilder"
   ]
  },
  {
   "cell_type": "code",
   "execution_count": 2,
   "id": "b1c1fa1b",
   "metadata": {},
   "outputs": [
    {
     "name": "stderr",
     "output_type": "stream",
     "text": [
      "100%|██████████████████████████████████████████████████████████████| 634/634 [00:00<00:00, 973.63it/s]\n"
     ]
    }
   ],
   "source": [
    "DATASET = \"youtube\"\n",
    "\n",
    "input_path = AbsolutePathBuilder.get_path(\n",
    "    f\"04_{DATASET}_scored\",\n",
    "    filepaths=\"../../../../config/filepaths.yaml\"\n",
    ")\n",
    "\n",
    "dfs = []\n",
    "\n",
    "filenames = [file.split(\"/\")[-1] for file in glob.glob(os.path.join(input_path, \"*\"))]\n",
    "for file in tqdm(filenames):\n",
    "    dfs.append(pd.read_csv(os.path.join(input_path, file)))\n",
    "    \n",
    "df = pd.concat(dfs)\n",
    "del dfs"
   ]
  },
  {
   "cell_type": "code",
   "execution_count": 3,
   "id": "915c21fd",
   "metadata": {},
   "outputs": [],
   "source": [
    "df = df.iloc[:1500]"
   ]
  },
  {
   "cell_type": "markdown",
   "id": "6c22b19e",
   "metadata": {},
   "source": [
    "---"
   ]
  },
  {
   "cell_type": "code",
   "execution_count": 6,
   "id": "7a6248a8",
   "metadata": {},
   "outputs": [
    {
     "name": "stdout",
     "output_type": "stream",
     "text": [
      "[==================================================] 100.0% 1662.8/1662.8MB downloaded\n"
     ]
    }
   ],
   "source": [
    "# embedding_model = api.load(\"glove-wiki-gigaword-50\")\n",
    "embedding_model = api.load(\"word2vec-google-news-300\")"
   ]
  },
  {
   "cell_type": "code",
   "execution_count": 7,
   "id": "eeaf524a",
   "metadata": {},
   "outputs": [],
   "source": [
    "idx_vs_score = []\n",
    "\n",
    "for i, row1 in df.iterrows():\n",
    "    for j, row2 in df.iterrows():\n",
    "        if i == j:\n",
    "            continue\n",
    "\n",
    "        dist = embedding_model.wmdistance(row1.text, row2.text)\n",
    "\n",
    "        idx_vs_score.append((row1.perspective_score, row2.perspective_score, dist))"
   ]
  },
  {
   "cell_type": "code",
   "execution_count": 8,
   "id": "3afb243a",
   "metadata": {
    "scrolled": false
   },
   "outputs": [],
   "source": [
    "idx_vs_score = sorted(idx_vs_score, key=lambda x: x[2])\n",
    "\n",
    "idx_vs_score = [item for item in idx_vs_score if item[2] > 0]\n",
    "idx_vs_score = [item for item in idx_vs_score if item[2] < 0.35]"
   ]
  },
  {
   "cell_type": "code",
   "execution_count": 9,
   "id": "998ecb93",
   "metadata": {},
   "outputs": [],
   "source": [
    "d = pd.DataFrame(idx_vs_score, columns=[\"p1\", \"p2\", \"d\"])"
   ]
  },
  {
   "cell_type": "code",
   "execution_count": 10,
   "id": "6a35ec1d",
   "metadata": {},
   "outputs": [],
   "source": [
    "d.d = d.d.round(4)\n",
    "d = d.drop_duplicates(subset=\"d\")"
   ]
  },
  {
   "cell_type": "code",
   "execution_count": 11,
   "id": "1859c6b4",
   "metadata": {},
   "outputs": [
    {
     "name": "stderr",
     "output_type": "stream",
     "text": [
      "/home/guilherme/.local/lib/python3.8/site-packages/seaborn/distributions.py:2619: FutureWarning: `distplot` is a deprecated function and will be removed in a future version. Please adapt your code to use either `displot` (a figure-level function with similar flexibility) or `histplot` (an axes-level function for histograms).\n",
      "  warnings.warn(msg, FutureWarning)\n",
      "/home/guilherme/.local/lib/python3.8/site-packages/seaborn/distributions.py:2619: FutureWarning: `distplot` is a deprecated function and will be removed in a future version. Please adapt your code to use either `displot` (a figure-level function with similar flexibility) or `histplot` (an axes-level function for histograms).\n",
      "  warnings.warn(msg, FutureWarning)\n"
     ]
    },
    {
     "data": {
      "image/png": "[encoded data removed]",
      "text/plain": [
       "<Figure size 864x504 with 1 Axes>"
      ]
     },
     "metadata": {
      "needs_background": "light"
     },
     "output_type": "display_data"
    }
   ],
   "source": [
    "import matplotlib.pyplot as plt\n",
    "import seaborn as sns\n",
    "\n",
    "plt.subplots(figsize=(12,7))\n",
    "\n",
    "sns.distplot(d.p1, label=\"a\")\n",
    "sns.distplot(d.p2, label=\"b\")\n",
    "\n",
    "plt.legend()\n",
    "plt.show()"
   ]
  },
  {
   "cell_type": "code",
   "execution_count": 12,
   "id": "ed21ab26",
   "metadata": {},
   "outputs": [
    {
     "data": {
      "text/html": [
       "<div>\n",
       "<style scoped>\n",
       "    .dataframe tbody tr th:only-of-type {\n",
       "        vertical-align: middle;\n",
       "    }\n",
       "\n",
       "    .dataframe tbody tr th {\n",
       "        vertical-align: top;\n",
       "    }\n",
       "\n",
       "    .dataframe thead th {\n",
       "        text-align: right;\n",
       "    }\n",
       "</style>\n",
       "<table border=\"1\" class=\"dataframe\">\n",
       "  <thead>\n",
       "    <tr style=\"text-align: right;\">\n",
       "      <th></th>\n",
       "      <th>p1</th>\n",
       "      <th>p2</th>\n",
       "      <th>d</th>\n",
       "    </tr>\n",
       "  </thead>\n",
       "  <tbody>\n",
       "    <tr>\n",
       "      <th>0</th>\n",
       "      <td>0.141043</td>\n",
       "      <td>0.130177</td>\n",
       "      <td>0.0698</td>\n",
       "    </tr>\n",
       "    <tr>\n",
       "      <th>2</th>\n",
       "      <td>0.138351</td>\n",
       "      <td>0.042688</td>\n",
       "      <td>0.0700</td>\n",
       "    </tr>\n",
       "    <tr>\n",
       "      <th>4</th>\n",
       "      <td>0.058929</td>\n",
       "      <td>0.094948</td>\n",
       "      <td>0.0746</td>\n",
       "    </tr>\n",
       "    <tr>\n",
       "      <th>6</th>\n",
       "      <td>0.027581</td>\n",
       "      <td>0.137005</td>\n",
       "      <td>0.0763</td>\n",
       "    </tr>\n",
       "    <tr>\n",
       "      <th>8</th>\n",
       "      <td>0.106349</td>\n",
       "      <td>0.271282</td>\n",
       "      <td>0.0768</td>\n",
       "    </tr>\n",
       "    <tr>\n",
       "      <th>...</th>\n",
       "      <td>...</td>\n",
       "      <td>...</td>\n",
       "      <td>...</td>\n",
       "    </tr>\n",
       "    <tr>\n",
       "      <th>943918</th>\n",
       "      <td>0.054135</td>\n",
       "      <td>0.039598</td>\n",
       "      <td>0.3496</td>\n",
       "    </tr>\n",
       "    <tr>\n",
       "      <th>944608</th>\n",
       "      <td>0.121805</td>\n",
       "      <td>0.379542</td>\n",
       "      <td>0.3497</td>\n",
       "    </tr>\n",
       "    <tr>\n",
       "      <th>945270</th>\n",
       "      <td>0.085551</td>\n",
       "      <td>0.016660</td>\n",
       "      <td>0.3498</td>\n",
       "    </tr>\n",
       "    <tr>\n",
       "      <th>946056</th>\n",
       "      <td>0.108281</td>\n",
       "      <td>0.112145</td>\n",
       "      <td>0.3499</td>\n",
       "    </tr>\n",
       "    <tr>\n",
       "      <th>946702</th>\n",
       "      <td>0.029641</td>\n",
       "      <td>0.107637</td>\n",
       "      <td>0.3500</td>\n",
       "    </tr>\n",
       "  </tbody>\n",
       "</table>\n",
       "<p>2524 rows × 3 columns</p>\n",
       "</div>"
      ],
      "text/plain": [
       "              p1        p2       d\n",
       "0       0.141043  0.130177  0.0698\n",
       "2       0.138351  0.042688  0.0700\n",
       "4       0.058929  0.094948  0.0746\n",
       "6       0.027581  0.137005  0.0763\n",
       "8       0.106349  0.271282  0.0768\n",
       "...          ...       ...     ...\n",
       "943918  0.054135  0.039598  0.3496\n",
       "944608  0.121805  0.379542  0.3497\n",
       "945270  0.085551  0.016660  0.3498\n",
       "946056  0.108281  0.112145  0.3499\n",
       "946702  0.029641  0.107637  0.3500\n",
       "\n",
       "[2524 rows x 3 columns]"
      ]
     },
     "execution_count": 12,
     "metadata": {},
     "output_type": "execute_result"
    }
   ],
   "source": [
    "d"
   ]
  },
  {
   "cell_type": "code",
   "execution_count": null,
   "id": "b6c4f4a1",
   "metadata": {},
   "outputs": [],
   "source": []
  }
 ],
 "metadata": {
  "kernelspec": {
   "display_name": "Python 3 (ipykernel)",
   "language": "python",
   "name": "python3"
  },
  "language_info": {
   "codemirror_mode": {
    "name": "ipython",
    "version": 3
   },
   "file_extension": ".py",
   "mimetype": "text/x-python",
   "name": "python",
   "nbconvert_exporter": "python",
   "pygments_lexer": "ipython3",
   "version": "3.8.10"
  }
 },
 "nbformat": 4,
 "nbformat_minor": 5
}
