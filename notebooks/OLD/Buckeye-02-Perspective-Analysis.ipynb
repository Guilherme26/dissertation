{
 "cells": [
  {
   "cell_type": "code",
   "execution_count": 2,
   "id": "14b5ce4d-eb2f-472f-8006-7889e2d028fc",
   "metadata": {},
   "outputs": [],
   "source": [
    "import pandas as pd\n",
    "import glob\n",
    "import os\n",
    "import matplotlib.pyplot as plt\n",
    "import numpy as np\n",
    "import seaborn as sns\n",
    "\n",
    "from scipy.stats import ks_2samp\n",
    "from mpl_toolkits.axes_grid1.inset_locator import zoomed_inset_axes\n",
    "from statsmodels.distributions.empirical_distribution import ECDF"
   ]
  },
  {
   "cell_type": "markdown",
   "id": "ca88b781-75e7-4f72-9393-b4163a745c4f",
   "metadata": {
    "tags": []
   },
   "source": [
    "# Manual \n",
    "We recorded 40 people, each being interviewed for about one hour. The group of speakers is stratified on age and gender - 20 old, 20 young, 20 male, 20 female. They were all Caucasian, long-time local residents of Columbus, Ohio. The style of speech is unmonitored casual speech. The speakers responded to a newspaper advertisement seeking people to participate in a focus group on current local issues. Only after the recordings were made were they told the true purpose of the recordings. The acoustic signal is clear of noise, digitally recorded in a quiet room with a close-talking head-mounted microphone. The words spoken by these people are entered in word label files (as used by XWaves or WaveSurfer) and have time stamps that indicate the exact acoustic chunk that corresponds to each word.\n",
    "\n",
    "Manual: https://buckeyecorpus.osu.edu/BuckeyeCorpusmanual.pdf"
   ]
  },
  {
   "cell_type": "code",
   "execution_count": 3,
   "id": "3b76ec52-0509-4155-9280-86a62c9e8d4d",
   "metadata": {},
   "outputs": [
    {
     "data": {
      "text/html": [
       "<div>\n",
       "<style scoped>\n",
       "    .dataframe tbody tr th:only-of-type {\n",
       "        vertical-align: middle;\n",
       "    }\n",
       "\n",
       "    .dataframe tbody tr th {\n",
       "        vertical-align: top;\n",
       "    }\n",
       "\n",
       "    .dataframe thead th {\n",
       "        text-align: right;\n",
       "    }\n",
       "</style>\n",
       "<table border=\"1\" class=\"dataframe\">\n",
       "  <thead>\n",
       "    <tr style=\"text-align: right;\">\n",
       "      <th></th>\n",
       "      <th>original</th>\n",
       "      <th>part</th>\n",
       "      <th>interviewed</th>\n",
       "      <th>sentence</th>\n",
       "    </tr>\n",
       "  </thead>\n",
       "  <tbody>\n",
       "    <tr>\n",
       "      <th>0</th>\n",
       "      <td>&lt;SIL&gt; aren't really saying much new where if t...</td>\n",
       "      <td>s3403b</td>\n",
       "      <td>s34</td>\n",
       "      <td>aren't really saying much new where if they ha...</td>\n",
       "    </tr>\n",
       "    <tr>\n",
       "      <th>1</th>\n",
       "      <td>well that's it's competition to be earliest an...</td>\n",
       "      <td>s3403b</td>\n",
       "      <td>s34</td>\n",
       "      <td>well that's it's competition to be earliest an...</td>\n",
       "    </tr>\n",
       "    <tr>\n",
       "      <th>2</th>\n",
       "      <td>&lt;VOCNOISE&gt; that's &lt;VOCNOISE&gt; probably what i'l...</td>\n",
       "      <td>s3403b</td>\n",
       "      <td>s34</td>\n",
       "      <td>that's probably what i'll do ignore it till un...</td>\n",
       "    </tr>\n",
       "    <tr>\n",
       "      <th>3</th>\n",
       "      <td>&lt;VOCNOISE&gt; &lt;SIL&gt; yeah &lt;SIL&gt; &lt;VOCNOISE&gt; wait ri...</td>\n",
       "      <td>s3403b</td>\n",
       "      <td>s34</td>\n",
       "      <td>yeah wait right the amount of money that is sp...</td>\n",
       "    </tr>\n",
       "    <tr>\n",
       "      <th>4</th>\n",
       "      <td>my background &lt;IVER&gt;</td>\n",
       "      <td>s3403b</td>\n",
       "      <td>s34</td>\n",
       "      <td>my background</td>\n",
       "    </tr>\n",
       "  </tbody>\n",
       "</table>\n",
       "</div>"
      ],
      "text/plain": [
       "                                            original    part interviewed  \\\n",
       "0  <SIL> aren't really saying much new where if t...  s3403b         s34   \n",
       "1  well that's it's competition to be earliest an...  s3403b         s34   \n",
       "2  <VOCNOISE> that's <VOCNOISE> probably what i'l...  s3403b         s34   \n",
       "3  <VOCNOISE> <SIL> yeah <SIL> <VOCNOISE> wait ri...  s3403b         s34   \n",
       "4                               my background <IVER>  s3403b         s34   \n",
       "\n",
       "                                            sentence  \n",
       "0  aren't really saying much new where if they ha...  \n",
       "1  well that's it's competition to be earliest an...  \n",
       "2  that's probably what i'll do ignore it till un...  \n",
       "3  yeah wait right the amount of money that is sp...  \n",
       "4                                      my background  "
      ]
     },
     "execution_count": 3,
     "metadata": {},
     "output_type": "execute_result"
    }
   ],
   "source": [
    "corpus = pd.read_csv('../Buckeye/sentences.csv')\n",
    "corpus.head()"
   ]
  },
  {
   "cell_type": "code",
   "execution_count": 4,
   "id": "81f5b486-71bf-4a63-b381-018010122a3d",
   "metadata": {},
   "outputs": [],
   "source": [
    "BUCKEYE_FILE_PATH = 'data/coraal/Buckeye/01_scored/'\n",
    "CORAAL_SCORED_FILES_PATH = 'data/coraal/CORAAL/01_scored/'"
   ]
  },
  {
   "cell_type": "code",
   "execution_count": 14,
   "id": "5cf10f0c-edac-4f1b-a211-301630315667",
   "metadata": {},
   "outputs": [
    {
     "name": "stdout",
     "output_type": "stream",
     "text": [
      "Errors while reading CORAAL data: 0\n",
      "Errors while reading INTERVIEW data: 0\n"
     ]
    },
    {
     "data": {
      "text/html": [
       "<div>\n",
       "<style scoped>\n",
       "    .dataframe tbody tr th:only-of-type {\n",
       "        vertical-align: middle;\n",
       "    }\n",
       "\n",
       "    .dataframe tbody tr th {\n",
       "        vertical-align: top;\n",
       "    }\n",
       "\n",
       "    .dataframe thead th {\n",
       "        text-align: right;\n",
       "    }\n",
       "</style>\n",
       "<table border=\"1\" class=\"dataframe\">\n",
       "  <thead>\n",
       "    <tr style=\"text-align: right;\">\n",
       "      <th></th>\n",
       "      <th>text</th>\n",
       "      <th>score</th>\n",
       "      <th>corpus</th>\n",
       "    </tr>\n",
       "  </thead>\n",
       "  <tbody>\n",
       "    <tr>\n",
       "      <th>0</th>\n",
       "      <td>um</td>\n",
       "      <td>0.012811</td>\n",
       "      <td>BUCKEYE</td>\n",
       "    </tr>\n",
       "    <tr>\n",
       "      <th>0</th>\n",
       "      <td>it that's</td>\n",
       "      <td>0.030843</td>\n",
       "      <td>BUCKEYE</td>\n",
       "    </tr>\n",
       "    <tr>\n",
       "      <th>0</th>\n",
       "      <td>She was like, look.</td>\n",
       "      <td>0.079736</td>\n",
       "      <td>CORAAL</td>\n",
       "    </tr>\n",
       "    <tr>\n",
       "      <th>0</th>\n",
       "      <td>Um, so going into band was great.</td>\n",
       "      <td>0.061069</td>\n",
       "      <td>CORAAL</td>\n",
       "    </tr>\n",
       "  </tbody>\n",
       "</table>\n",
       "</div>"
      ],
      "text/plain": [
       "                                text     score   corpus\n",
       "0                                um   0.012811  BUCKEYE\n",
       "0                         it that's   0.030843  BUCKEYE\n",
       "0                She was like, look.  0.079736   CORAAL\n",
       "0  Um, so going into band was great.  0.061069   CORAAL"
      ]
     },
     "execution_count": 14,
     "metadata": {},
     "output_type": "execute_result"
    }
   ],
   "source": [
    "# BUCKEYE\n",
    "filenames_score_buckeye = glob.glob(BUCKEYE_FILE_PATH+'*')\n",
    "count_interviews = 0\n",
    "\n",
    "df_buckeye = []\n",
    "for filename in filenames_score_buckeye:\n",
    "    try:\n",
    "        df_buckeye.append(pd.read_csv(filename))\n",
    "    except:\n",
    "        count_interviews += 1\n",
    "\n",
    "# CORAAL\n",
    "filenames_score_coraal = glob.glob(CORAAL_SCORED_FILES_PATH+'*')\n",
    "count_coraal = 0\n",
    "        \n",
    "df_coraal = []\n",
    "for filename in filenames_score_coraal:\n",
    "    try:\n",
    "        df_coraal.append(pd.read_csv(filename))\n",
    "    except:\n",
    "        count_coraal += 1        \n",
    "\n",
    "print(\"Errors while reading CORAAL data:\", count_coraal)\n",
    "print(\"Errors while reading INTERVIEW data:\", count_interviews)\n",
    "df_buckeye = pd.concat(df_buckeye)\n",
    "df_coraal = pd.concat(df_coraal)\n",
    "df_buckeye['corpus'] = \"BUCKEYE\"\n",
    "df_coraal['corpus'] = \"CORAAL\"\n",
    "df = pd.concat([df_buckeye,df_coraal])\n",
    "\n",
    "#head and tail\n",
    "df.iloc[np.r_[0:2, -2:0]]"
   ]
  },
  {
   "cell_type": "code",
   "execution_count": 15,
   "id": "8e9a66b5-ffde-4171-9554-46b7b036d3a2",
   "metadata": {},
   "outputs": [
    {
     "data": {
      "image/png": "[encoded data removed]",
      "text/plain": [
       "<Figure size 432x288 with 1 Axes>"
      ]
     },
     "metadata": {
      "needs_background": "light"
     },
     "output_type": "display_data"
    },
    {
     "data": {
      "image/png": "[encoded data removed]",
      "text/plain": [
       "<Figure size 432x288 with 1 Axes>"
      ]
     },
     "metadata": {
      "needs_background": "light"
     },
     "output_type": "display_data"
    }
   ],
   "source": [
    "df_buckeye.score.hist()\n",
    "plt.title('BUCKEYE')\n",
    "plt.show()\n",
    "\n",
    "df_coraal.score.hist()\n",
    "plt.title('CORAAL')\n",
    "plt.show()"
   ]
  },
  {
   "cell_type": "code",
   "execution_count": 16,
   "id": "65a9f4a2-156f-4d53-a11e-43b86e6ab1a3",
   "metadata": {},
   "outputs": [
    {
     "data": {
      "image/png": "[encoded data removed]",
      "text/plain": [
       "<Figure size 1008x648 with 1 Axes>"
      ]
     },
     "metadata": {
      "needs_background": "light"
     },
     "output_type": "display_data"
    }
   ],
   "source": [
    "figure, ax = plt.subplots(figsize=(14,9))\n",
    "\n",
    "ecdf_i = ECDF(df_buckeye.score)\n",
    "ecdf_c = ECDF(df_coraal.score)\n",
    "\n",
    "ax.plot(ecdf_i.x, 1-ecdf_i.y, label=\"BUCKEYE\")\n",
    "ax.plot(ecdf_c.x, 1-ecdf_c.y, label=\"CORAAL\")\n",
    "ax.set(yscale='log')\n",
    "\n",
    "plt.legend()\n",
    "plt.show()\n"
   ]
  },
  {
   "cell_type": "code",
   "execution_count": 17,
   "id": "8d1a990d-055f-4994-889b-f894363d4a2a",
   "metadata": {},
   "outputs": [
    {
     "data": {
      "image/png": "[encoded data removed]",
      "text/plain": [
       "<Figure size 432x288 with 1 Axes>"
      ]
     },
     "metadata": {
      "needs_background": "light"
     },
     "output_type": "display_data"
    }
   ],
   "source": [
    "sns.boxplot(data=df, x=\"corpus\", y=\"score\", showfliers=False)\n",
    "plt.xlabel(\"Group\")\n",
    "plt.ylabel(\"Score\")\n",
    "\n",
    "plt.show()"
   ]
  },
  {
   "cell_type": "code",
   "execution_count": 19,
   "id": "34068f94-08a2-4a41-9a80-4fcfb80d3677",
   "metadata": {},
   "outputs": [
    {
     "data": {
      "text/plain": [
       "(0.43484883005041897, 0.0)"
      ]
     },
     "execution_count": 19,
     "metadata": {},
     "output_type": "execute_result"
    }
   ],
   "source": [
    "statistic, p_value = ks_2samp(\n",
    "    df[df.corpus == 'CORAAL'].score,\n",
    "    df[df.corpus == 'BUCKEYE'].score\n",
    ")\n",
    "statistic, p_value"
   ]
  }
 ],
 "metadata": {
  "interpreter": {
   "hash": "716bd3ad375c41b9a51e5bdb0fea9e61f5f5b3cdf5599be47497d0ef2a02897b"
  },
  "kernelspec": {
   "display_name": "Python 3 (ipykernel)",
   "language": "python",
   "name": "python3"
  },
  "language_info": {
   "codemirror_mode": {
    "name": "ipython",
    "version": 3
   },
   "file_extension": ".py",
   "mimetype": "text/x-python",
   "name": "python",
   "nbconvert_exporter": "python",
   "pygments_lexer": "ipython3",
   "version": "3.10.4"
  }
 },
 "nbformat": 4,
 "nbformat_minor": 5
}
