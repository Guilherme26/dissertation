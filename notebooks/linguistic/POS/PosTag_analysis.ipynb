{
 "cells": [
  {
   "cell_type": "code",
   "execution_count": 1,
   "metadata": {},
   "outputs": [
    {
     "name": "stderr",
     "output_type": "stream",
     "text": [
      "/home/luiznery/anaconda3/envs/fake/lib/python3.10/site-packages/tqdm/auto.py:22: TqdmWarning: IProgress not found. Please update jupyter and ipywidgets. See https://ipywidgets.readthedocs.io/en/stable/user_install.html\n",
      "  from .autonotebook import tqdm as notebook_tqdm\n"
     ]
    }
   ],
   "source": [
    "import numpy as np\n",
    "import pandas as pd\n",
    "from liwc import Liwc\n",
    "from matplotlib import pyplot as plt\n",
    "import seaborn as sns\n",
    "import json\n",
    "from tqdm import tqdm\n",
    "import scipy\n",
    "import glob\n",
    "import re\n",
    "import yaml\n",
    "import warnings\n",
    "import nltk\n",
    "import spacy\n",
    "warnings.filterwarnings(\"ignore\")\n",
    "tqdm.pandas()\n",
    "\n",
    "import scipy.stats as stats\n",
    "\n",
    "filepaths = yaml.safe_load(open(\"../../../config/filepaths.yaml\"))\n",
    "\n",
    "import sys\n",
    "sys.path.append(filepaths['utils'])\n",
    "from data import *\n",
    "from liwc_utils import *\n",
    "from analisys import *"
   ]
  },
  {
   "cell_type": "code",
   "execution_count": 2,
   "metadata": {},
   "outputs": [
    {
     "data": {
      "text/plain": [
       "<matplotlib.pyplot._IonContext at 0x7fc7db795090>"
      ]
     },
     "execution_count": 2,
     "metadata": {},
     "output_type": "execute_result"
    }
   ],
   "source": [
    "plt.rcParams['axes.labelsize']  = 14 # fontes no tamanho usado no template\n",
    "plt.rcParams['axes.titlesize']  = 14\n",
    "plt.rcParams['legend.fontsize'] = 14\n",
    "plt.rcParams['xtick.labelsize'] = 14\n",
    "plt.rcParams['ytick.labelsize'] = 14\n",
    "plt.rcParams['font.family'] = 'serif'\n",
    "# plt.rcParams['text.usetex'] = True\n",
    "plt.rcParams['lines.linewidth'] = 1.5\n",
    "\n",
    "plt.style.use('tableau-colorblind10') # use um estilo colorblind!\n",
    "plt.ion()"
   ]
  },
  {
   "cell_type": "markdown",
   "metadata": {},
   "source": [
    "---"
   ]
  },
  {
   "cell_type": "code",
   "execution_count": 9,
   "metadata": {},
   "outputs": [
    {
     "data": {
      "text/html": [
       "<div>\n",
       "<style scoped>\n",
       "    .dataframe tbody tr th:only-of-type {\n",
       "        vertical-align: middle;\n",
       "    }\n",
       "\n",
       "    .dataframe tbody tr th {\n",
       "        vertical-align: top;\n",
       "    }\n",
       "\n",
       "    .dataframe thead th {\n",
       "        text-align: right;\n",
       "    }\n",
       "</style>\n",
       "<table border=\"1\" class=\"dataframe\">\n",
       "  <thead>\n",
       "    <tr style=\"text-align: right;\">\n",
       "      <th></th>\n",
       "      <th>text</th>\n",
       "      <th>perspective_score</th>\n",
       "      <th>flair_score</th>\n",
       "      <th>textblob_score</th>\n",
       "      <th>vader_score</th>\n",
       "      <th>detoxify_original_score</th>\n",
       "      <th>detoxify_unbiased_score</th>\n",
       "      <th>detoxify_multilingual_score</th>\n",
       "      <th>has_swearing</th>\n",
       "      <th>file</th>\n",
       "      <th>group</th>\n",
       "    </tr>\n",
       "  </thead>\n",
       "  <tbody>\n",
       "    <tr>\n",
       "      <th>0</th>\n",
       "      <td>@user wat r u doin boy</td>\n",
       "      <td>0.037538</td>\n",
       "      <td>0.0</td>\n",
       "      <td>0.0</td>\n",
       "      <td>0.0</td>\n",
       "      <td>0.048113</td>\n",
       "      <td>0.014581</td>\n",
       "      <td>0.146005</td>\n",
       "      <td>False</td>\n",
       "      <td>aa_112.csv</td>\n",
       "      <td>aa</td>\n",
       "    </tr>\n",
       "  </tbody>\n",
       "</table>\n",
       "</div>"
      ],
      "text/plain": [
       "                     text  perspective_score  flair_score  textblob_score  \\\n",
       "0  @user wat r u doin boy           0.037538          0.0             0.0   \n",
       "\n",
       "   vader_score  detoxify_original_score  detoxify_unbiased_score  \\\n",
       "0          0.0                 0.048113                 0.014581   \n",
       "\n",
       "   detoxify_multilingual_score  has_swearing        file group  \n",
       "0                     0.146005         False  aa_112.csv    aa  "
      ]
     },
     "execution_count": 9,
     "metadata": {},
     "output_type": "execute_result"
    }
   ],
   "source": [
    "DATASET = 'twitter' # 'coraal-buckeye' | 'twitter' | 'youtube' | 'interview'\n",
    "BLACK = 'aa'\n",
    "WHITE = 'wh'\n",
    "\n",
    "data = load_dataset(DATASET)\n",
    "data.head(1)"
   ]
  },
  {
   "cell_type": "code",
   "execution_count": 4,
   "metadata": {},
   "outputs": [],
   "source": [
    "df = data.copy()\n",
    "df['text'] = df['text'].apply(lambda x: re.sub(\"[^\\w\\d'\\s]+\",'',x))\n",
    "df['len'] = df.text.str.split(' ').str.len()\n",
    "df['words'] = df.text.str.split(' ')"
   ]
  },
  {
   "cell_type": "markdown",
   "metadata": {},
   "source": [
    "---"
   ]
  },
  {
   "cell_type": "code",
   "execution_count": 5,
   "metadata": {},
   "outputs": [],
   "source": [
    "nlp = spacy.load(\"en_core_web_sm\")\n"
   ]
  },
  {
   "cell_type": "code",
   "execution_count": 6,
   "metadata": {},
   "outputs": [
    {
     "name": "stderr",
     "output_type": "stream",
     "text": [
      "100%|██████████| 500/500 [00:03<00:00, 152.73it/s]\n"
     ]
    }
   ],
   "source": [
    "df['POS'] = df.text.progress_apply(lambda x: [(tag.text,tag.pos_) for tag in nlp(x)])"
   ]
  },
  {
   "cell_type": "markdown",
   "metadata": {},
   "source": [
    "---"
   ]
  },
  {
   "cell_type": "code",
   "execution_count": 7,
   "metadata": {},
   "outputs": [],
   "source": [
    "def check_ocurence_in_list(sequence,pos_list):\n",
    "    \"\"\"\n",
    "    count the number of times a sequence appears in a list\n",
    "    \"\"\"\n",
    "    i = 0\n",
    "    while i < len(pos_list)-len(sequence)+1:\n",
    "        #            if (sequence[j][0] == None and sequence[j][1] == None) or (sequence[j][0] != None and sequence[j][1] != None): raise Exception(\"Bad input sequence\")#\n",
    "    \n",
    "        is_eq = True\n",
    "        for j in range(len(sequence)):\n",
    "            if sequence[j][0] == None and sequence[j][1] != pos_list[i+j][1]:\n",
    "                is_eq = False\n",
    "                break\n",
    "            elif sequence[j][0] != None and sequence[j][0] != pos_list[i+j][0]:\n",
    "                is_eq = False\n",
    "                break\n",
    "            \n",
    "        if is_eq:\n",
    "            return 1\n",
    "\n",
    "        i += 1\n",
    "\n",
    "    return 0\n",
    "\n",
    "def count_sequence(df,sequence,group):\n",
    "    return df[df.group.str.contains(group)].POS.apply(lambda x: check_ocurence_in_list(sequence,x)).sum()\n",
    "\n",
    "def contain_sequence_idx(df,sequence):\n",
    "    return df.POS.apply(lambda x: check_ocurence_in_list(sequence,x)) > 0\n",
    "\n",
    "def group_total(df,group):\n",
    "    return len(df[df.group.str.contains(group)])\n",
    "\n",
    "def calc_sequence_freq(df,sequence,group):    \n",
    "    return count_sequence(df,sequence,group) / group_total(df,group)"
   ]
  },
  {
   "cell_type": "markdown",
   "metadata": {},
   "source": [
    "\n",
    "### O - b/be - V -> PRON - be - VERB"
   ]
  },
  {
   "cell_type": "code",
   "execution_count": 10,
   "metadata": {},
   "outputs": [
    {
     "name": "stdout",
     "output_type": "stream",
     "text": [
      "0.004 1 250\n",
      "0.0 0 250\n"
     ]
    }
   ],
   "source": [
    "seq = [(None,'PRON'), ('be',None), (None,'VERB')]\n",
    "print(calc_sequence_freq(df,seq,BLACK), count_sequence(df,seq,BLACK), group_total(df,BLACK))\n",
    "print(calc_sequence_freq(df,seq,WHITE), count_sequence(df,seq,WHITE), group_total(df,WHITE))"
   ]
  },
  {
   "cell_type": "markdown",
   "metadata": {},
   "source": [
    "\n",
    "### gone - V -> gone - VERB"
   ]
  },
  {
   "cell_type": "code",
   "execution_count": 11,
   "metadata": {},
   "outputs": [
    {
     "name": "stdout",
     "output_type": "stream",
     "text": [
      "0.004 1 250\n",
      "0.0 0 250\n"
     ]
    }
   ],
   "source": [
    "seq = [('gone',None), (None,'VERB')]\n",
    "print(calc_sequence_freq(df,seq,BLACK), count_sequence(df,seq,BLACK), group_total(df,BLACK))\n",
    "print(calc_sequence_freq(df,seq,WHITE), count_sequence(df,seq,WHITE), group_total(df,WHITE))"
   ]
  },
  {
   "cell_type": "markdown",
   "metadata": {},
   "source": [
    "\n",
    "### done - V -> done - VERB"
   ]
  },
  {
   "cell_type": "code",
   "execution_count": 12,
   "metadata": {},
   "outputs": [
    {
     "name": "stdout",
     "output_type": "stream",
     "text": [
      "0.004 1 250\n",
      "0.004 1 250\n"
     ]
    }
   ],
   "source": [
    "seq = [('done',None), (None,'VERB')]\n",
    "print(calc_sequence_freq(df,seq,BLACK), count_sequence(df,seq,BLACK), group_total(df,BLACK))\n",
    "print(calc_sequence_freq(df,seq,WHITE), count_sequence(df,seq,WHITE), group_total(df,WHITE))"
   ]
  }
 ],
 "metadata": {
  "interpreter": {
   "hash": "716bd3ad375c41b9a51e5bdb0fea9e61f5f5b3cdf5599be47497d0ef2a02897b"
  },
  "kernelspec": {
   "display_name": "Python 3.10.4 ('fake')",
   "language": "python",
   "name": "python3"
  },
  "language_info": {
   "codemirror_mode": {
    "name": "ipython",
    "version": 3
   },
   "file_extension": ".py",
   "mimetype": "text/x-python",
   "name": "python",
   "nbconvert_exporter": "python",
   "pygments_lexer": "ipython3",
   "version": "3.10.4"
  },
  "orig_nbformat": 4
 },
 "nbformat": 4,
 "nbformat_minor": 2
}
