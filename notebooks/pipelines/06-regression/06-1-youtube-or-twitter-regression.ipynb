{
 "cells": [
  {
   "cell_type": "code",
   "execution_count": null,
   "id": "607d7980",
   "metadata": {},
   "outputs": [],
   "source": [
    "import numpy as np\n",
    "import sys\n",
    "import glob\n",
    "import os\n",
    "import pandas as pd\n",
    "import yaml\n",
    "\n",
    "from sklearn.linear_model import LinearRegression\n",
    "from sklearn.feature_selection import SequentialFeatureSelector\n",
    "from statsmodels.discrete.discrete_model import Logit\n",
    "from tqdm import tqdm\n",
    "from sklearn.preprocessing import MinMaxScaler\n",
    "from sklearn.model_selection import train_test_split\n",
    "\n",
    "sys.path.append(\"../../../utils\")\n",
    "from absolute_path_builder import AbsolutePathBuilder"
   ]
  },
  {
   "cell_type": "code",
   "execution_count": null,
   "id": "05d7c1f3",
   "metadata": {},
   "outputs": [],
   "source": [
    "np.random.seed(1007)\n",
    "\n",
    "DATASET = \"twitter\"\n",
    "\n",
    "input_path = AbsolutePathBuilder.get_path(\n",
    "    f\"05_{DATASET}_features\",\n",
    "    filepaths=\"../../../config/filepaths.yaml\"\n",
    ")\n",
    "\n",
    "output_path = AbsolutePathBuilder.get_path(\n",
    "    f\"06_{DATASET}_regression\",\n",
    "    filepaths=\"../../../config/filepaths.yaml\"\n",
    ")\n",
    "\n",
    "cols_to_remove = yaml.safe_load(\n",
    "    open(\n",
    "        AbsolutePathBuilder.get_path(\n",
    "            f\"00_cols_to_remove\",\n",
    "            filepaths=\"../../../config/filepaths.yaml\"\n",
    "        )\n",
    "    )\n",
    ")[\"cols_to_remove\"]"
   ]
  },
  {
   "cell_type": "code",
   "execution_count": null,
   "id": "d2a3a8fb",
   "metadata": {},
   "outputs": [],
   "source": [
    "dfs = []\n",
    "\n",
    "filenames = [file.split(\"/\")[-1] for file in glob.glob(os.path.join(input_path, \"*\"))]\n",
    "for file in tqdm(filenames):\n",
    "    dfs.append(pd.read_csv(os.path.join(input_path, file)))"
   ]
  },
  {
   "cell_type": "markdown",
   "id": "405b4f50",
   "metadata": {},
   "source": [
    "---"
   ]
  },
  {
   "cell_type": "code",
   "execution_count": null,
   "id": "690bf4da",
   "metadata": {},
   "outputs": [],
   "source": [
    "for SCORE_MODEL in tqdm(\n",
    "    [\n",
    "        \"perspective_score\",\n",
    "        \"flair_score\",\n",
    "        \"textblob_score\",\n",
    "        \"vader_score\",\n",
    "        \"detoxify_original_score\",\n",
    "        \"detoxify_unbiased_score\",\n",
    "        \"detoxify_multilingual_score\"\n",
    "    ]\n",
    "):\n",
    "    df = pd.concat(dfs).reset_index(drop=True)\n",
    "    df.drop(columns=cols_to_remove, inplace=True)\n",
    "    \n",
    "    liwc_cols = df.columns[df.columns.str.contains(\"LIWC_\")].tolist()\n",
    "    pos_cols = df.columns[df.columns.str.contains(\"POS_\")].tolist()\n",
    "\n",
    "    use_cols = liwc_cols + pos_cols + [\"AAE_TERMS_COUNT\"]\n",
    "\n",
    "    df[\"race\"] = df.race.apply(lambda race: -1 if race==\"White\" else 1)\n",
    "\n",
    "    combined_cols = [f\"RACE_VS_{col}\" for col in use_cols]\n",
    "    df[combined_cols] = df[use_cols].multiply(df[\"race\"], axis=\"index\")\n",
    "\n",
    "    use_cols += combined_cols\n",
    "\n",
    "    df = df.fillna(0)\n",
    "    df[\"intercept\"] = 1\n",
    "\n",
    "    # scaler = MinMaxScaler()\n",
    "    # df[use_cols] = scaler.fit_transform(df[use_cols])\n",
    "\n",
    "    use_cols.append(\"race\")\n",
    "    use_cols.append(\"intercept\")\n",
    "\n",
    "    model = Logit(df[SCORE_MODEL], df[use_cols]).fit()\n",
    "\n",
    "    df_coefs = pd.DataFrame(\n",
    "        list(\n",
    "            zip(\n",
    "                model.pvalues.index,\n",
    "                model.pvalues.values,\n",
    "                model.params.values\n",
    "            )\n",
    "        ),\n",
    "        columns=[\"column\", \"pvalue\", \"coef\"]\n",
    "    )\n",
    "\n",
    "    df_coefs = df_coefs.sort_values(\"coef\", key=lambda x: abs(x), ascending=False)\n",
    "\n",
    "    df_coefs.to_csv(os.path.join(output_path, f\"{SCORE_MODEL}_coefs.csv\"), index=False)"
   ]
  },
  {
   "cell_type": "code",
   "execution_count": null,
   "id": "a2994a69",
   "metadata": {},
   "outputs": [],
   "source": []
  }
 ],
 "metadata": {
  "kernelspec": {
   "display_name": "Python 3 (ipykernel)",
   "language": "python",
   "name": "python3"
  },
  "language_info": {
   "codemirror_mode": {
    "name": "ipython",
    "version": 3
   },
   "file_extension": ".py",
   "mimetype": "text/x-python",
   "name": "python",
   "nbconvert_exporter": "python",
   "pygments_lexer": "ipython3",
   "version": "3.8.10"
  }
 },
 "nbformat": 4,
 "nbformat_minor": 5
}
