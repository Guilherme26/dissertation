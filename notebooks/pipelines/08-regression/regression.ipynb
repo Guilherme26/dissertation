{
 "cells": [
  {
   "cell_type": "code",
   "execution_count": 1,
   "metadata": {},
   "outputs": [],
   "source": [
    "import pandas as pd\n",
    "import numpy as np\n",
    "import matplotlib.pyplot as plt\n",
    "import yaml\n",
    "from liwc import Liwc\n",
    "from statsmodels.discrete.discrete_model import Logit\n",
    "from tqdm import tqdm\n",
    "\n",
    "tqdm.pandas()"
   ]
  },
  {
   "cell_type": "code",
   "execution_count": 2,
   "metadata": {},
   "outputs": [
    {
     "name": "stderr",
     "output_type": "stream",
     "text": [
      "/tmp/ipykernel_485948/152710845.py:1: YAMLLoadWarning: calling yaml.load() without Loader=... is deprecated, as the default Loader is unsafe. Please read https://msg.pyyaml.org/load for full details.\n",
      "  filepaths = yaml.load(open(\"/home/luiznery/locus/dissertation/config/filepaths.yaml\"))\n"
     ]
    }
   ],
   "source": [
    "filepaths = yaml.load(open(\"/home/luiznery/locus/dissertation/config/filepaths.yaml\"))"
   ]
  },
  {
   "cell_type": "code",
   "execution_count": 3,
   "metadata": {},
   "outputs": [],
   "source": [
    "import warnings\n",
    "warnings.filterwarnings(\"ignore\")"
   ]
  },
  {
   "cell_type": "code",
   "execution_count": 4,
   "metadata": {},
   "outputs": [],
   "source": [
    "np.random.seed(1007)"
   ]
  },
  {
   "cell_type": "markdown",
   "metadata": {},
   "source": [
    "#### Dataset"
   ]
  },
  {
   "cell_type": "code",
   "execution_count": 5,
   "metadata": {},
   "outputs": [
    {
     "name": "stdout",
     "output_type": "stream",
     "text": [
      "(500, 105)\n",
      "['text', 'perspective_score', 'flair_score', 'textblob_score', 'vader_score', 'detoxify_original_score', 'detoxify_unbiased_score', 'detoxify_multilingual_score', 'has_swearing', 'file', 'group', 'race', 'clean_text', 'liwc_interrog', 'liwc_informal', 'liwc_netspeak', 'liwc_function', 'liwc_pronoun', 'liwc_ppron', 'liwc_you', 'liwc_social', 'liwc_male', 'liwc_adverb', 'liwc_verb', 'liwc_drives', 'liwc_reward', 'liwc_focuspast', 'liwc_prep', 'liwc_relativ', 'liwc_space', 'liwc_article', 'liwc_home', 'liwc_conj', 'liwc_cogproc', 'liwc_differ', 'liwc_i', 'liwc_auxverb', 'liwc_bio', 'liwc_ingest', 'liwc_adj', 'liwc_affect', 'liwc_negemo', 'liwc_anger', 'liwc_posemo', 'liwc_swear', 'liwc_focuspresent', 'liwc_time', 'liwc_negate', 'liwc_ipron', 'liwc_they', 'liwc_discrep', 'liwc_cause', 'liwc_compare', 'liwc_quant', 'liwc_achiev', 'liwc_work', 'liwc_affiliation', 'liwc_leisure', 'liwc_insight', 'liwc_tentat', 'liwc_certain', 'liwc_health', 'liwc_sad', 'liwc_death', 'liwc_anx', 'liwc_power', 'liwc_shehe', 'liwc_female', 'liwc_percept', 'liwc_see', 'liwc_filler', 'liwc_risk', 'liwc_feel', 'liwc_focusfuture', 'liwc_assent', 'liwc_nonflu', 'liwc_body', 'liwc_money', 'liwc_hear', 'liwc_friend', 'liwc_family', 'liwc_motion', 'liwc_sexual', 'liwc_we', 'liwc_relig', 'liwc_number', 'aae_terms_count', 'pos_ADJ', 'pos_NOUN', 'pos_INTJ', 'pos_ADV', 'pos_VERB', 'pos_ADP', 'pos_DET', 'pos_PUNCT', 'pos_SCONJ', 'pos_PRON', 'pos_AUX', 'pos_PROPN', 'pos_SYM', 'pos_CCONJ', 'pos_PART', 'pos_NUM', 'pos_X', 'pos_SPACE']\n"
     ]
    }
   ],
   "source": [
    "DATASET = 'twitter' # youtube | coraal-buckeye | twitter | interview\n",
    "score = 'perspective_score'\n",
    "\n",
    "BINS = 50\n",
    "\n",
    "WH_VAL = -1\n",
    "AA_VAL = 1\n",
    "\n",
    "FILEPATH_KEY = None\n",
    "if DATASET == 'youtube':\n",
    "    FILEPATH_KEY = '05_youtube_features'\n",
    "elif DATASET == 'coraal-buckeye':\n",
    "    FILEPATH_KEY = '05_buckeye_corall_features'\n",
    "elif DATASET == 'twitter':\n",
    "    FILEPATH_KEY = '05_twitter_features'\n",
    "else:\n",
    "    raise Exception('Dataset does not exists')\n",
    "\n",
    "df = pd.read_csv(filepaths[FILEPATH_KEY])\n",
    "print(df.shape)\n",
    "print(list(df.columns))"
   ]
  },
  {
   "cell_type": "code",
   "execution_count": 6,
   "metadata": {},
   "outputs": [
    {
     "name": "stdout",
     "output_type": "stream",
     "text": [
      "92\n"
     ]
    }
   ],
   "source": [
    "liwc_cols = [col for col in df.columns if 'liwc_' in col]\n",
    "pos_cols = [col for col in df.columns if 'pos_' in col]\n",
    "features = ['aae_terms_count'] + liwc_cols + pos_cols\n",
    "print(len(features))"
   ]
  },
  {
   "cell_type": "code",
   "execution_count": 7,
   "metadata": {},
   "outputs": [
    {
     "name": "stdout",
     "output_type": "stream",
     "text": [
      "7\n"
     ]
    }
   ],
   "source": [
    "y_cols = [col for col in df.columns if '_score' in col]\n",
    "print(len(y_cols))"
   ]
  },
  {
   "cell_type": "code",
   "execution_count": 8,
   "metadata": {},
   "outputs": [
    {
     "name": "stdout",
     "output_type": "stream",
     "text": [
      "6\n"
     ]
    }
   ],
   "source": [
    "extra_cols = list(set(list(df.columns)) - set(features) - set(y_cols))\n",
    "print(len(extra_cols))"
   ]
  },
  {
   "cell_type": "markdown",
   "metadata": {},
   "source": [
    "#### Null analysis"
   ]
  },
  {
   "cell_type": "code",
   "execution_count": 9,
   "metadata": {},
   "outputs": [
    {
     "name": "stdout",
     "output_type": "stream",
     "text": [
      "There feature colums with null values? False\n",
      "There y colums with null values? False\n"
     ]
    }
   ],
   "source": [
    "print('There feature colums with null values?', (df[features].isnull().sum()>0).any())\n",
    "print('There y colums with null values?', (df[y_cols].isnull().sum()>0).any())"
   ]
  },
  {
   "cell_type": "markdown",
   "metadata": {},
   "source": [
    "#### Enconding on 'race' variable "
   ]
  },
  {
   "cell_type": "code",
   "execution_count": 10,
   "metadata": {},
   "outputs": [
    {
     "data": {
      "text/plain": [
       "aa    250\n",
       "wh    250\n",
       "Name: race, dtype: int64"
      ]
     },
     "execution_count": 10,
     "metadata": {},
     "output_type": "execute_result"
    }
   ],
   "source": [
    "df.race.value_counts(dropna=False)"
   ]
  },
  {
   "cell_type": "code",
   "execution_count": 11,
   "metadata": {},
   "outputs": [],
   "source": [
    "df['race'] = df['race'].apply(lambda x: 0 if x=='wh' else 1)"
   ]
  },
  {
   "cell_type": "markdown",
   "metadata": {},
   "source": [
    "#### Normalizing\n",
    "\n",
    "TODO: Normalizar por linha"
   ]
  },
  {
   "cell_type": "code",
   "execution_count": 12,
   "metadata": {},
   "outputs": [],
   "source": [
    "from sklearn.preprocessing import MinMaxScaler,StandardScaler"
   ]
  },
  {
   "cell_type": "code",
   "execution_count": 13,
   "metadata": {},
   "outputs": [],
   "source": [
    "scaler = StandardScaler()\n",
    "df[features] = scaler.fit_transform(df[features])"
   ]
  },
  {
   "cell_type": "code",
   "execution_count": 14,
   "metadata": {},
   "outputs": [
    {
     "data": {
      "text/html": [
       "<div>\n",
       "<style scoped>\n",
       "    .dataframe tbody tr th:only-of-type {\n",
       "        vertical-align: middle;\n",
       "    }\n",
       "\n",
       "    .dataframe tbody tr th {\n",
       "        vertical-align: top;\n",
       "    }\n",
       "\n",
       "    .dataframe thead th {\n",
       "        text-align: right;\n",
       "    }\n",
       "</style>\n",
       "<table border=\"1\" class=\"dataframe\">\n",
       "  <thead>\n",
       "    <tr style=\"text-align: right;\">\n",
       "      <th></th>\n",
       "      <th>aae_terms_count</th>\n",
       "      <th>liwc_interrog</th>\n",
       "      <th>liwc_informal</th>\n",
       "      <th>liwc_netspeak</th>\n",
       "      <th>liwc_function</th>\n",
       "      <th>liwc_pronoun</th>\n",
       "      <th>liwc_ppron</th>\n",
       "      <th>liwc_you</th>\n",
       "      <th>liwc_social</th>\n",
       "      <th>liwc_male</th>\n",
       "      <th>...</th>\n",
       "      <th>pos_SCONJ</th>\n",
       "      <th>pos_PRON</th>\n",
       "      <th>pos_AUX</th>\n",
       "      <th>pos_PROPN</th>\n",
       "      <th>pos_SYM</th>\n",
       "      <th>pos_CCONJ</th>\n",
       "      <th>pos_PART</th>\n",
       "      <th>pos_NUM</th>\n",
       "      <th>pos_X</th>\n",
       "      <th>pos_SPACE</th>\n",
       "    </tr>\n",
       "  </thead>\n",
       "  <tbody>\n",
       "    <tr>\n",
       "      <th>count</th>\n",
       "      <td>5.000000e+02</td>\n",
       "      <td>5.000000e+02</td>\n",
       "      <td>5.000000e+02</td>\n",
       "      <td>5.000000e+02</td>\n",
       "      <td>5.000000e+02</td>\n",
       "      <td>5.000000e+02</td>\n",
       "      <td>5.000000e+02</td>\n",
       "      <td>5.000000e+02</td>\n",
       "      <td>5.000000e+02</td>\n",
       "      <td>5.000000e+02</td>\n",
       "      <td>...</td>\n",
       "      <td>5.000000e+02</td>\n",
       "      <td>5.000000e+02</td>\n",
       "      <td>5.000000e+02</td>\n",
       "      <td>5.000000e+02</td>\n",
       "      <td>5.000000e+02</td>\n",
       "      <td>5.000000e+02</td>\n",
       "      <td>5.000000e+02</td>\n",
       "      <td>5.000000e+02</td>\n",
       "      <td>5.000000e+02</td>\n",
       "      <td>5.000000e+02</td>\n",
       "    </tr>\n",
       "    <tr>\n",
       "      <th>mean</th>\n",
       "      <td>1.207923e-16</td>\n",
       "      <td>1.773026e-16</td>\n",
       "      <td>2.747802e-17</td>\n",
       "      <td>-2.737810e-16</td>\n",
       "      <td>5.662137e-17</td>\n",
       "      <td>9.910128e-17</td>\n",
       "      <td>9.370282e-17</td>\n",
       "      <td>-1.295630e-16</td>\n",
       "      <td>-1.303402e-16</td>\n",
       "      <td>1.660894e-16</td>\n",
       "      <td>...</td>\n",
       "      <td>-7.638334e-17</td>\n",
       "      <td>-1.835199e-16</td>\n",
       "      <td>4.080070e-16</td>\n",
       "      <td>2.491340e-16</td>\n",
       "      <td>-7.882583e-17</td>\n",
       "      <td>-9.325873e-18</td>\n",
       "      <td>9.769963e-17</td>\n",
       "      <td>-1.947331e-16</td>\n",
       "      <td>4.272138e-16</td>\n",
       "      <td>6.317169e-17</td>\n",
       "    </tr>\n",
       "    <tr>\n",
       "      <th>std</th>\n",
       "      <td>1.001002e+00</td>\n",
       "      <td>1.001002e+00</td>\n",
       "      <td>1.001002e+00</td>\n",
       "      <td>1.001002e+00</td>\n",
       "      <td>1.001002e+00</td>\n",
       "      <td>1.001002e+00</td>\n",
       "      <td>1.001002e+00</td>\n",
       "      <td>1.001002e+00</td>\n",
       "      <td>1.001002e+00</td>\n",
       "      <td>1.001002e+00</td>\n",
       "      <td>...</td>\n",
       "      <td>1.001002e+00</td>\n",
       "      <td>1.001002e+00</td>\n",
       "      <td>1.001002e+00</td>\n",
       "      <td>1.001002e+00</td>\n",
       "      <td>1.001002e+00</td>\n",
       "      <td>1.001002e+00</td>\n",
       "      <td>1.001002e+00</td>\n",
       "      <td>1.001002e+00</td>\n",
       "      <td>1.001002e+00</td>\n",
       "      <td>1.001002e+00</td>\n",
       "    </tr>\n",
       "    <tr>\n",
       "      <th>min</th>\n",
       "      <td>-3.296171e-01</td>\n",
       "      <td>-4.271011e-01</td>\n",
       "      <td>-7.800118e-01</td>\n",
       "      <td>-5.945640e-01</td>\n",
       "      <td>-1.667283e+00</td>\n",
       "      <td>-1.321238e+00</td>\n",
       "      <td>-1.170885e+00</td>\n",
       "      <td>-4.845957e-01</td>\n",
       "      <td>-8.778057e-01</td>\n",
       "      <td>-3.439665e-01</td>\n",
       "      <td>...</td>\n",
       "      <td>-5.456805e-01</td>\n",
       "      <td>-1.223612e+00</td>\n",
       "      <td>-8.553466e-01</td>\n",
       "      <td>-6.223527e-01</td>\n",
       "      <td>-3.270930e-01</td>\n",
       "      <td>-5.111372e-01</td>\n",
       "      <td>-6.695775e-01</td>\n",
       "      <td>-3.618594e-01</td>\n",
       "      <td>-2.577498e-01</td>\n",
       "      <td>-1.479044e-01</td>\n",
       "    </tr>\n",
       "    <tr>\n",
       "      <th>25%</th>\n",
       "      <td>-3.296171e-01</td>\n",
       "      <td>-4.271011e-01</td>\n",
       "      <td>-7.800118e-01</td>\n",
       "      <td>-5.945640e-01</td>\n",
       "      <td>-7.420427e-01</td>\n",
       "      <td>-6.415887e-01</td>\n",
       "      <td>-3.416463e-01</td>\n",
       "      <td>-4.845957e-01</td>\n",
       "      <td>-8.778057e-01</td>\n",
       "      <td>-3.439665e-01</td>\n",
       "      <td>...</td>\n",
       "      <td>-5.456805e-01</td>\n",
       "      <td>-5.438277e-01</td>\n",
       "      <td>-8.553466e-01</td>\n",
       "      <td>-6.223527e-01</td>\n",
       "      <td>-3.270930e-01</td>\n",
       "      <td>-5.111372e-01</td>\n",
       "      <td>-6.695775e-01</td>\n",
       "      <td>-3.618594e-01</td>\n",
       "      <td>-2.577498e-01</td>\n",
       "      <td>-1.479044e-01</td>\n",
       "    </tr>\n",
       "    <tr>\n",
       "      <th>50%</th>\n",
       "      <td>-3.296171e-01</td>\n",
       "      <td>-4.271011e-01</td>\n",
       "      <td>9.640596e-02</td>\n",
       "      <td>-5.945640e-01</td>\n",
       "      <td>-1.252159e-01</td>\n",
       "      <td>3.806034e-02</td>\n",
       "      <td>-3.416463e-01</td>\n",
       "      <td>-4.845957e-01</td>\n",
       "      <td>-7.247937e-02</td>\n",
       "      <td>-3.439665e-01</td>\n",
       "      <td>...</td>\n",
       "      <td>-5.456805e-01</td>\n",
       "      <td>-2.039354e-01</td>\n",
       "      <td>1.605045e-01</td>\n",
       "      <td>-6.223527e-01</td>\n",
       "      <td>-3.270930e-01</td>\n",
       "      <td>-5.111372e-01</td>\n",
       "      <td>-6.695775e-01</td>\n",
       "      <td>-3.618594e-01</td>\n",
       "      <td>-2.577498e-01</td>\n",
       "      <td>-1.479044e-01</td>\n",
       "    </tr>\n",
       "    <tr>\n",
       "      <th>75%</th>\n",
       "      <td>-3.296171e-01</td>\n",
       "      <td>-4.271011e-01</td>\n",
       "      <td>9.640596e-02</td>\n",
       "      <td>5.146972e-01</td>\n",
       "      <td>4.916110e-01</td>\n",
       "      <td>7.177094e-01</td>\n",
       "      <td>4.875924e-01</td>\n",
       "      <td>-4.845957e-01</td>\n",
       "      <td>7.328470e-01</td>\n",
       "      <td>-3.439665e-01</td>\n",
       "      <td>...</td>\n",
       "      <td>-5.140469e-02</td>\n",
       "      <td>8.157416e-01</td>\n",
       "      <td>1.605045e-01</td>\n",
       "      <td>2.492898e-01</td>\n",
       "      <td>-3.270930e-01</td>\n",
       "      <td>-5.111372e-01</td>\n",
       "      <td>8.117886e-01</td>\n",
       "      <td>-3.618594e-01</td>\n",
       "      <td>-2.577498e-01</td>\n",
       "      <td>-1.479044e-01</td>\n",
       "    </tr>\n",
       "    <tr>\n",
       "      <th>max</th>\n",
       "      <td>4.902401e+00</td>\n",
       "      <td>6.316601e+00</td>\n",
       "      <td>5.354913e+00</td>\n",
       "      <td>7.170264e+00</td>\n",
       "      <td>4.500986e+00</td>\n",
       "      <td>4.115954e+00</td>\n",
       "      <td>3.804547e+00</td>\n",
       "      <td>5.498068e+00</td>\n",
       "      <td>6.370131e+00</td>\n",
       "      <td>6.822002e+00</td>\n",
       "      <td>...</td>\n",
       "      <td>5.385629e+00</td>\n",
       "      <td>3.534880e+00</td>\n",
       "      <td>5.239760e+00</td>\n",
       "      <td>5.479145e+00</td>\n",
       "      <td>5.035088e+00</td>\n",
       "      <td>6.539031e+00</td>\n",
       "      <td>5.255887e+00</td>\n",
       "      <td>6.177768e+00</td>\n",
       "      <td>1.085215e+01</td>\n",
       "      <td>1.290248e+01</td>\n",
       "    </tr>\n",
       "  </tbody>\n",
       "</table>\n",
       "<p>8 rows × 92 columns</p>\n",
       "</div>"
      ],
      "text/plain": [
       "       aae_terms_count  liwc_interrog  liwc_informal  liwc_netspeak  \\\n",
       "count     5.000000e+02   5.000000e+02   5.000000e+02   5.000000e+02   \n",
       "mean      1.207923e-16   1.773026e-16   2.747802e-17  -2.737810e-16   \n",
       "std       1.001002e+00   1.001002e+00   1.001002e+00   1.001002e+00   \n",
       "min      -3.296171e-01  -4.271011e-01  -7.800118e-01  -5.945640e-01   \n",
       "25%      -3.296171e-01  -4.271011e-01  -7.800118e-01  -5.945640e-01   \n",
       "50%      -3.296171e-01  -4.271011e-01   9.640596e-02  -5.945640e-01   \n",
       "75%      -3.296171e-01  -4.271011e-01   9.640596e-02   5.146972e-01   \n",
       "max       4.902401e+00   6.316601e+00   5.354913e+00   7.170264e+00   \n",
       "\n",
       "       liwc_function  liwc_pronoun    liwc_ppron      liwc_you   liwc_social  \\\n",
       "count   5.000000e+02  5.000000e+02  5.000000e+02  5.000000e+02  5.000000e+02   \n",
       "mean    5.662137e-17  9.910128e-17  9.370282e-17 -1.295630e-16 -1.303402e-16   \n",
       "std     1.001002e+00  1.001002e+00  1.001002e+00  1.001002e+00  1.001002e+00   \n",
       "min    -1.667283e+00 -1.321238e+00 -1.170885e+00 -4.845957e-01 -8.778057e-01   \n",
       "25%    -7.420427e-01 -6.415887e-01 -3.416463e-01 -4.845957e-01 -8.778057e-01   \n",
       "50%    -1.252159e-01  3.806034e-02 -3.416463e-01 -4.845957e-01 -7.247937e-02   \n",
       "75%     4.916110e-01  7.177094e-01  4.875924e-01 -4.845957e-01  7.328470e-01   \n",
       "max     4.500986e+00  4.115954e+00  3.804547e+00  5.498068e+00  6.370131e+00   \n",
       "\n",
       "          liwc_male  ...     pos_SCONJ      pos_PRON       pos_AUX  \\\n",
       "count  5.000000e+02  ...  5.000000e+02  5.000000e+02  5.000000e+02   \n",
       "mean   1.660894e-16  ... -7.638334e-17 -1.835199e-16  4.080070e-16   \n",
       "std    1.001002e+00  ...  1.001002e+00  1.001002e+00  1.001002e+00   \n",
       "min   -3.439665e-01  ... -5.456805e-01 -1.223612e+00 -8.553466e-01   \n",
       "25%   -3.439665e-01  ... -5.456805e-01 -5.438277e-01 -8.553466e-01   \n",
       "50%   -3.439665e-01  ... -5.456805e-01 -2.039354e-01  1.605045e-01   \n",
       "75%   -3.439665e-01  ... -5.140469e-02  8.157416e-01  1.605045e-01   \n",
       "max    6.822002e+00  ...  5.385629e+00  3.534880e+00  5.239760e+00   \n",
       "\n",
       "          pos_PROPN       pos_SYM     pos_CCONJ      pos_PART       pos_NUM  \\\n",
       "count  5.000000e+02  5.000000e+02  5.000000e+02  5.000000e+02  5.000000e+02   \n",
       "mean   2.491340e-16 -7.882583e-17 -9.325873e-18  9.769963e-17 -1.947331e-16   \n",
       "std    1.001002e+00  1.001002e+00  1.001002e+00  1.001002e+00  1.001002e+00   \n",
       "min   -6.223527e-01 -3.270930e-01 -5.111372e-01 -6.695775e-01 -3.618594e-01   \n",
       "25%   -6.223527e-01 -3.270930e-01 -5.111372e-01 -6.695775e-01 -3.618594e-01   \n",
       "50%   -6.223527e-01 -3.270930e-01 -5.111372e-01 -6.695775e-01 -3.618594e-01   \n",
       "75%    2.492898e-01 -3.270930e-01 -5.111372e-01  8.117886e-01 -3.618594e-01   \n",
       "max    5.479145e+00  5.035088e+00  6.539031e+00  5.255887e+00  6.177768e+00   \n",
       "\n",
       "              pos_X     pos_SPACE  \n",
       "count  5.000000e+02  5.000000e+02  \n",
       "mean   4.272138e-16  6.317169e-17  \n",
       "std    1.001002e+00  1.001002e+00  \n",
       "min   -2.577498e-01 -1.479044e-01  \n",
       "25%   -2.577498e-01 -1.479044e-01  \n",
       "50%   -2.577498e-01 -1.479044e-01  \n",
       "75%   -2.577498e-01 -1.479044e-01  \n",
       "max    1.085215e+01  1.290248e+01  \n",
       "\n",
       "[8 rows x 92 columns]"
      ]
     },
     "execution_count": 14,
     "metadata": {},
     "output_type": "execute_result"
    }
   ],
   "source": [
    "df[features].describe()"
   ]
  },
  {
   "cell_type": "markdown",
   "metadata": {},
   "source": [
    "#### Adding intercept"
   ]
  },
  {
   "cell_type": "code",
   "execution_count": 15,
   "metadata": {},
   "outputs": [],
   "source": [
    "df['intercept'] = 1\n",
    "features.append('intercept')\n",
    "features.append('race')"
   ]
  },
  {
   "cell_type": "markdown",
   "metadata": {},
   "source": [
    "#### Model"
   ]
  },
  {
   "cell_type": "code",
   "execution_count": 16,
   "metadata": {},
   "outputs": [],
   "source": [
    "from statsmodels.discrete.discrete_model import Logit\n",
    "from sklearn.model_selection import train_test_split"
   ]
  },
  {
   "cell_type": "code",
   "execution_count": 17,
   "metadata": {},
   "outputs": [],
   "source": [
    "df_train,df_test = train_test_split(df, stratify=df['race'])"
   ]
  },
  {
   "cell_type": "code",
   "execution_count": 18,
   "metadata": {},
   "outputs": [
    {
     "name": "stdout",
     "output_type": "stream",
     "text": [
      "Optimization terminated successfully.\n",
      "         Current function value: 0.319107\n",
      "         Iterations 8\n"
     ]
    },
    {
     "data": {
      "text/plain": [
       "<statsmodels.discrete.discrete_model.BinaryResultsWrapper at 0x7f9662864af0>"
      ]
     },
     "execution_count": 18,
     "metadata": {},
     "output_type": "execute_result"
    }
   ],
   "source": [
    "model = Logit(df_train[score], df_train[features]).fit()\n",
    "model"
   ]
  },
  {
   "cell_type": "markdown",
   "metadata": {},
   "source": [
    "#### Predicting"
   ]
  },
  {
   "cell_type": "code",
   "execution_count": 19,
   "metadata": {},
   "outputs": [],
   "source": [
    "df_test['pred_score'] = model.predict(df_test[features])\n",
    "df_train['pred_score'] = model.predict(df_train[features])"
   ]
  },
  {
   "cell_type": "markdown",
   "metadata": {},
   "source": [
    "#### Evaluating error"
   ]
  },
  {
   "cell_type": "code",
   "execution_count": 20,
   "metadata": {},
   "outputs": [
    {
     "name": "stdout",
     "output_type": "stream",
     "text": [
      "Train:\n",
      "0.08883425442187431\n",
      "0.06502557870116141\n",
      "\n",
      "Test:\n",
      "0.10260096375390922\n",
      "0.08134930223076406\n"
     ]
    }
   ],
   "source": [
    "from sklearn.metrics import mean_absolute_error, median_absolute_error\n",
    "\n",
    "print('Train:')\n",
    "print(mean_absolute_error(df_train[score],df_train['pred_score']))\n",
    "print(median_absolute_error(df_train[score],df_train['pred_score']))\n",
    "\n",
    "print()\n",
    "print('Test:')\n",
    "print(mean_absolute_error(df_test[score],df_test['pred_score']))\n",
    "print(median_absolute_error(df_test[score],df_test['pred_score']))\n"
   ]
  },
  {
   "cell_type": "code",
   "execution_count": 21,
   "metadata": {},
   "outputs": [
    {
     "data": {
      "text/plain": [
       "<AxesSubplot:>"
      ]
     },
     "execution_count": 21,
     "metadata": {},
     "output_type": "execute_result"
    },
    {
     "data": {
      "image/png": "[encoded data removed]",
      "text/plain": [
       "<Figure size 432x288 with 1 Axes>"
      ]
     },
     "metadata": {
      "needs_background": "light"
     },
     "output_type": "display_data"
    }
   ],
   "source": [
    "(df_test[score] - df_test['pred_score']).hist(bins=BINS)"
   ]
  },
  {
   "cell_type": "code",
   "execution_count": 22,
   "metadata": {},
   "outputs": [
    {
     "data": {
      "image/png": "[encoded data removed]",
      "text/plain": [
       "<Figure size 432x288 with 1 Axes>"
      ]
     },
     "metadata": {
      "needs_background": "light"
     },
     "output_type": "display_data"
    }
   ],
   "source": [
    "(df_test[df_test.race==0][score] - df_test[df_test.race==0]['pred_score']).hist(bins=BINS,density=True,histtype='step')\n",
    "(df_test[df_test.race==1][score] - df_test[df_test.race==1]['pred_score']).hist(bins=BINS,density=True,histtype='step')\n",
    "plt.show()"
   ]
  },
  {
   "cell_type": "markdown",
   "metadata": {},
   "source": [
    "#### Evaluating Features"
   ]
  },
  {
   "cell_type": "code",
   "execution_count": 23,
   "metadata": {},
   "outputs": [
    {
     "name": "stdout",
     "output_type": "stream",
     "text": [
      "94\n",
      "1\n"
     ]
    },
    {
     "data": {
      "text/html": [
       "<div>\n",
       "<style scoped>\n",
       "    .dataframe tbody tr th:only-of-type {\n",
       "        vertical-align: middle;\n",
       "    }\n",
       "\n",
       "    .dataframe tbody tr th {\n",
       "        vertical-align: top;\n",
       "    }\n",
       "\n",
       "    .dataframe thead th {\n",
       "        text-align: right;\n",
       "    }\n",
       "</style>\n",
       "<table border=\"1\" class=\"dataframe\">\n",
       "  <thead>\n",
       "    <tr style=\"text-align: right;\">\n",
       "      <th></th>\n",
       "      <th>col</th>\n",
       "      <th>pval</th>\n",
       "      <th>param</th>\n",
       "    </tr>\n",
       "  </thead>\n",
       "  <tbody>\n",
       "    <tr>\n",
       "      <th>92</th>\n",
       "      <td>intercept</td>\n",
       "      <td>3.028833e-08</td>\n",
       "      <td>-1.432376</td>\n",
       "    </tr>\n",
       "  </tbody>\n",
       "</table>\n",
       "</div>"
      ],
      "text/plain": [
       "          col          pval     param\n",
       "92  intercept  3.028833e-08 -1.432376"
      ]
     },
     "execution_count": 23,
     "metadata": {},
     "output_type": "execute_result"
    }
   ],
   "source": [
    "param_df = pd.DataFrame(list(zip(model.pvalues.index, model.pvalues.values, model.params.values)), columns=['col','pval','param'])\n",
    "param_df = param_df.sort_values('param',key=lambda x: abs(x),ascending=False)\n",
    "print(len(param_df))\n",
    "print(len(param_df[param_df.pval<0.05]))\n",
    "param_df[param_df.pval<0.05]"
   ]
  },
  {
   "cell_type": "code",
   "execution_count": 24,
   "metadata": {},
   "outputs": [
    {
     "data": {
      "text/html": [
       "<div>\n",
       "<style scoped>\n",
       "    .dataframe tbody tr th:only-of-type {\n",
       "        vertical-align: middle;\n",
       "    }\n",
       "\n",
       "    .dataframe tbody tr th {\n",
       "        vertical-align: top;\n",
       "    }\n",
       "\n",
       "    .dataframe thead th {\n",
       "        text-align: right;\n",
       "    }\n",
       "</style>\n",
       "<table border=\"1\" class=\"dataframe\">\n",
       "  <thead>\n",
       "    <tr style=\"text-align: right;\">\n",
       "      <th></th>\n",
       "      <th>col</th>\n",
       "      <th>pval</th>\n",
       "      <th>param</th>\n",
       "    </tr>\n",
       "  </thead>\n",
       "  <tbody>\n",
       "    <tr>\n",
       "      <th>92</th>\n",
       "      <td>intercept</td>\n",
       "      <td>3.028833e-08</td>\n",
       "      <td>-1.432376</td>\n",
       "    </tr>\n",
       "    <tr>\n",
       "      <th>29</th>\n",
       "      <td>liwc_negemo</td>\n",
       "      <td>8.979892e-01</td>\n",
       "      <td>0.722563</td>\n",
       "    </tr>\n",
       "    <tr>\n",
       "      <th>32</th>\n",
       "      <td>liwc_swear</td>\n",
       "      <td>5.944766e-02</td>\n",
       "      <td>0.675135</td>\n",
       "    </tr>\n",
       "    <tr>\n",
       "      <th>2</th>\n",
       "      <td>liwc_informal</td>\n",
       "      <td>4.277708e-01</td>\n",
       "      <td>0.526934</td>\n",
       "    </tr>\n",
       "    <tr>\n",
       "      <th>28</th>\n",
       "      <td>liwc_affect</td>\n",
       "      <td>9.511495e-01</td>\n",
       "      <td>-0.495762</td>\n",
       "    </tr>\n",
       "    <tr>\n",
       "      <th>3</th>\n",
       "      <td>liwc_netspeak</td>\n",
       "      <td>3.950481e-01</td>\n",
       "      <td>-0.398000</td>\n",
       "    </tr>\n",
       "    <tr>\n",
       "      <th>4</th>\n",
       "      <td>liwc_function</td>\n",
       "      <td>7.328605e-01</td>\n",
       "      <td>-0.375796</td>\n",
       "    </tr>\n",
       "    <tr>\n",
       "      <th>93</th>\n",
       "      <td>race</td>\n",
       "      <td>4.347860e-01</td>\n",
       "      <td>0.310861</td>\n",
       "    </tr>\n",
       "    <tr>\n",
       "      <th>16</th>\n",
       "      <td>liwc_relativ</td>\n",
       "      <td>8.430918e-01</td>\n",
       "      <td>-0.306577</td>\n",
       "    </tr>\n",
       "    <tr>\n",
       "      <th>70</th>\n",
       "      <td>liwc_sexual</td>\n",
       "      <td>1.927490e-01</td>\n",
       "      <td>0.284635</td>\n",
       "    </tr>\n",
       "    <tr>\n",
       "      <th>54</th>\n",
       "      <td>liwc_shehe</td>\n",
       "      <td>NaN</td>\n",
       "      <td>0.254457</td>\n",
       "    </tr>\n",
       "    <tr>\n",
       "      <th>31</th>\n",
       "      <td>liwc_posemo</td>\n",
       "      <td>9.696716e-01</td>\n",
       "      <td>0.247092</td>\n",
       "    </tr>\n",
       "    <tr>\n",
       "      <th>9</th>\n",
       "      <td>liwc_male</td>\n",
       "      <td>4.689059e-01</td>\n",
       "      <td>-0.239413</td>\n",
       "    </tr>\n",
       "    <tr>\n",
       "      <th>80</th>\n",
       "      <td>pos_DET</td>\n",
       "      <td>5.407506e-01</td>\n",
       "      <td>0.232389</td>\n",
       "    </tr>\n",
       "    <tr>\n",
       "      <th>44</th>\n",
       "      <td>liwc_affiliation</td>\n",
       "      <td>6.491397e-01</td>\n",
       "      <td>-0.231067</td>\n",
       "    </tr>\n",
       "    <tr>\n",
       "      <th>78</th>\n",
       "      <td>pos_VERB</td>\n",
       "      <td>4.673170e-01</td>\n",
       "      <td>0.204314</td>\n",
       "    </tr>\n",
       "    <tr>\n",
       "      <th>65</th>\n",
       "      <td>liwc_money</td>\n",
       "      <td>3.629760e-01</td>\n",
       "      <td>-0.191979</td>\n",
       "    </tr>\n",
       "    <tr>\n",
       "      <th>62</th>\n",
       "      <td>liwc_assent</td>\n",
       "      <td>3.890168e-01</td>\n",
       "      <td>-0.187264</td>\n",
       "    </tr>\n",
       "    <tr>\n",
       "      <th>30</th>\n",
       "      <td>liwc_anger</td>\n",
       "      <td>5.967161e-01</td>\n",
       "      <td>-0.183603</td>\n",
       "    </tr>\n",
       "    <tr>\n",
       "      <th>68</th>\n",
       "      <td>liwc_family</td>\n",
       "      <td>4.177717e-01</td>\n",
       "      <td>0.177023</td>\n",
       "    </tr>\n",
       "    <tr>\n",
       "      <th>10</th>\n",
       "      <td>liwc_adverb</td>\n",
       "      <td>5.948062e-01</td>\n",
       "      <td>0.172274</td>\n",
       "    </tr>\n",
       "    <tr>\n",
       "      <th>24</th>\n",
       "      <td>liwc_auxverb</td>\n",
       "      <td>7.561273e-01</td>\n",
       "      <td>0.168382</td>\n",
       "    </tr>\n",
       "    <tr>\n",
       "      <th>74</th>\n",
       "      <td>pos_ADJ</td>\n",
       "      <td>4.736960e-01</td>\n",
       "      <td>0.158629</td>\n",
       "    </tr>\n",
       "    <tr>\n",
       "      <th>90</th>\n",
       "      <td>pos_X</td>\n",
       "      <td>5.172249e-01</td>\n",
       "      <td>-0.151715</td>\n",
       "    </tr>\n",
       "    <tr>\n",
       "      <th>15</th>\n",
       "      <td>liwc_prep</td>\n",
       "      <td>7.745811e-01</td>\n",
       "      <td>0.151079</td>\n",
       "    </tr>\n",
       "    <tr>\n",
       "      <th>75</th>\n",
       "      <td>pos_NOUN</td>\n",
       "      <td>5.183416e-01</td>\n",
       "      <td>0.145400</td>\n",
       "    </tr>\n",
       "    <tr>\n",
       "      <th>55</th>\n",
       "      <td>liwc_female</td>\n",
       "      <td>6.529569e-01</td>\n",
       "      <td>-0.144983</td>\n",
       "    </tr>\n",
       "    <tr>\n",
       "      <th>39</th>\n",
       "      <td>liwc_cause</td>\n",
       "      <td>6.506287e-01</td>\n",
       "      <td>-0.141067</td>\n",
       "    </tr>\n",
       "    <tr>\n",
       "      <th>72</th>\n",
       "      <td>liwc_relig</td>\n",
       "      <td>4.540799e-01</td>\n",
       "      <td>-0.140233</td>\n",
       "    </tr>\n",
       "    <tr>\n",
       "      <th>35</th>\n",
       "      <td>liwc_negate</td>\n",
       "      <td>5.984527e-01</td>\n",
       "      <td>0.138335</td>\n",
       "    </tr>\n",
       "  </tbody>\n",
       "</table>\n",
       "</div>"
      ],
      "text/plain": [
       "                 col          pval     param\n",
       "92         intercept  3.028833e-08 -1.432376\n",
       "29       liwc_negemo  8.979892e-01  0.722563\n",
       "32        liwc_swear  5.944766e-02  0.675135\n",
       "2      liwc_informal  4.277708e-01  0.526934\n",
       "28       liwc_affect  9.511495e-01 -0.495762\n",
       "3      liwc_netspeak  3.950481e-01 -0.398000\n",
       "4      liwc_function  7.328605e-01 -0.375796\n",
       "93              race  4.347860e-01  0.310861\n",
       "16      liwc_relativ  8.430918e-01 -0.306577\n",
       "70       liwc_sexual  1.927490e-01  0.284635\n",
       "54        liwc_shehe           NaN  0.254457\n",
       "31       liwc_posemo  9.696716e-01  0.247092\n",
       "9          liwc_male  4.689059e-01 -0.239413\n",
       "80           pos_DET  5.407506e-01  0.232389\n",
       "44  liwc_affiliation  6.491397e-01 -0.231067\n",
       "78          pos_VERB  4.673170e-01  0.204314\n",
       "65        liwc_money  3.629760e-01 -0.191979\n",
       "62       liwc_assent  3.890168e-01 -0.187264\n",
       "30        liwc_anger  5.967161e-01 -0.183603\n",
       "68       liwc_family  4.177717e-01  0.177023\n",
       "10       liwc_adverb  5.948062e-01  0.172274\n",
       "24      liwc_auxverb  7.561273e-01  0.168382\n",
       "74           pos_ADJ  4.736960e-01  0.158629\n",
       "90             pos_X  5.172249e-01 -0.151715\n",
       "15         liwc_prep  7.745811e-01  0.151079\n",
       "75          pos_NOUN  5.183416e-01  0.145400\n",
       "55       liwc_female  6.529569e-01 -0.144983\n",
       "39        liwc_cause  6.506287e-01 -0.141067\n",
       "72        liwc_relig  4.540799e-01 -0.140233\n",
       "35       liwc_negate  5.984527e-01  0.138335"
      ]
     },
     "execution_count": 24,
     "metadata": {},
     "output_type": "execute_result"
    }
   ],
   "source": [
    "param_df.iloc[:30]\n",
    "\n",
    "# Hipotese nula: parametro igual a zero -> rejeitar significa evidencia que a var é relevante pra classificação"
   ]
  },
  {
   "cell_type": "code",
   "execution_count": 25,
   "metadata": {},
   "outputs": [
    {
     "data": {
      "text/plain": [
       "liwc_differ        0.026555\n",
       "liwc_money         0.030355\n",
       "liwc_friend        0.040825\n",
       "liwc_power         0.049541\n",
       "liwc_interrog      0.067437\n",
       "liwc_negemo        0.074468\n",
       "liwc_anx           0.075216\n",
       "liwc_female        0.083311\n",
       "liwc_shehe         0.090006\n",
       "liwc_anger         0.092408\n",
       "liwc_sexual        0.097282\n",
       "liwc_body          0.104989\n",
       "liwc_male          0.105101\n",
       "aae_terms_count    0.120336\n",
       "pos_PROPN          0.162126\n",
       "liwc_swear         0.293616\n",
       "liwc_netspeak      0.386023\n",
       "liwc_informal      0.443467\n",
       "intercept          1.000000\n",
       "race               1.000000\n",
       "dtype: float64"
      ]
     },
     "execution_count": 25,
     "metadata": {},
     "output_type": "execute_result"
    }
   ],
   "source": [
    "df.loc[df.race==1,features].mean().sort_values().iloc[-20:]\n"
   ]
  },
  {
   "cell_type": "code",
   "execution_count": 26,
   "metadata": {},
   "outputs": [
    {
     "data": {
      "text/plain": [
       "liwc_adverb          0.112428\n",
       "liwc_achiev          0.122513\n",
       "pos_DET              0.133313\n",
       "liwc_leisure         0.140322\n",
       "liwc_certain         0.144561\n",
       "liwc_verb            0.145687\n",
       "liwc_posemo          0.146455\n",
       "liwc_focuspresent    0.149783\n",
       "pos_ADP              0.150130\n",
       "liwc_relativ         0.151592\n",
       "liwc_cogproc         0.156617\n",
       "pos_ADV              0.156857\n",
       "pos_SYM              0.166228\n",
       "liwc_prep            0.172699\n",
       "liwc_article         0.174364\n",
       "liwc_auxverb         0.179530\n",
       "liwc_time            0.196385\n",
       "pos_AUX              0.213329\n",
       "liwc_function        0.217740\n",
       "intercept            1.000000\n",
       "dtype: float64"
      ]
     },
     "execution_count": 26,
     "metadata": {},
     "output_type": "execute_result"
    }
   ],
   "source": [
    "df.loc[df.race==0,features].mean().sort_values().iloc[-20:]"
   ]
  },
  {
   "cell_type": "code",
   "execution_count": 27,
   "metadata": {},
   "outputs": [
    {
     "data": {
      "image/png": "[encoded data removed]",
      "text/plain": [
       "<Figure size 864x504 with 1 Axes>"
      ]
     },
     "metadata": {
      "needs_background": "light"
     },
     "output_type": "display_data"
    }
   ],
   "source": [
    "data = np.abs(\n",
    "    df.loc[df.race==1,features].mean()\n",
    "    - df.loc[df.race==0,features].mean()\n",
    ")\n",
    "\n",
    "plt.subplots(figsize=(12,7))\n",
    "plt.bar(data.index, data.values)\n",
    "plt.xticks(rotation=90)\n",
    "plt.show()"
   ]
  },
  {
   "cell_type": "code",
   "execution_count": null,
   "metadata": {},
   "outputs": [],
   "source": []
  }
 ],
 "metadata": {
  "interpreter": {
   "hash": "716bd3ad375c41b9a51e5bdb0fea9e61f5f5b3cdf5599be47497d0ef2a02897b"
  },
  "kernelspec": {
   "display_name": "Python 3.10.4 ('fake')",
   "language": "python",
   "name": "python3"
  },
  "language_info": {
   "codemirror_mode": {
    "name": "ipython",
    "version": 3
   },
   "file_extension": ".py",
   "mimetype": "text/x-python",
   "name": "python",
   "nbconvert_exporter": "python",
   "pygments_lexer": "ipython3",
   "version": "3.10.4"
  },
  "orig_nbformat": 4
 },
 "nbformat": 4,
 "nbformat_minor": 2
}
