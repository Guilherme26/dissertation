{
 "cells": [
  {
   "cell_type": "code",
   "execution_count": 1,
   "id": "0b2ec60a",
   "metadata": {},
   "outputs": [],
   "source": [
    "import sys\n",
    "import liwc\n",
    "import glob\n",
    "import os\n",
    "import pandas as pd\n",
    "import yaml\n",
    "\n",
    "from tqdm import tqdm\n",
    "\n",
    "sys.path.append(\"../../../../utils\")\n",
    "from absolute_path_builder import AbsolutePathBuilder"
   ]
  },
  {
   "cell_type": "code",
   "execution_count": 2,
   "id": "b4f5b8fc",
   "metadata": {},
   "outputs": [],
   "source": [
    "pd.set_option('display.max_rows', None)"
   ]
  },
  {
   "cell_type": "code",
   "execution_count": 3,
   "id": "58575427",
   "metadata": {},
   "outputs": [],
   "source": [
    "coraal_path = AbsolutePathBuilder.get_path(\n",
    "    \"05_coraal_features\",\n",
    "    filepaths=\"../../../../config/filepaths.yaml\"\n",
    ")\n",
    "\n",
    "buckeye_path = AbsolutePathBuilder.get_path(\n",
    "    \"05_buckeye_features\",\n",
    "    filepaths=\"../../../../config/filepaths.yaml\"\n",
    ")"
   ]
  },
  {
   "cell_type": "code",
   "execution_count": 4,
   "id": "468038d3",
   "metadata": {},
   "outputs": [
    {
     "name": "stderr",
     "output_type": "stream",
     "text": [
      "100%|██████████████████████████████████████████████████████████████| 142/142 [00:00<00:00, 232.95it/s]\n",
      "100%|████████████████████████████████████████████████████████████████| 39/39 [00:00<00:00, 219.55it/s]\n"
     ]
    }
   ],
   "source": [
    "dfs = []\n",
    "\n",
    "filenames = [file.split(\"/\")[-1] for file in glob.glob(os.path.join(coraal_path, \"*\"))]\n",
    "for file in tqdm(filenames):\n",
    "    dfs.append(pd.read_csv(os.path.join(coraal_path, file)))\n",
    "    \n",
    "filenames = [file.split(\"/\")[-1] for file in glob.glob(os.path.join(buckeye_path, \"*\"))]\n",
    "for file in tqdm(filenames):\n",
    "    dfs.append(pd.read_csv(os.path.join(buckeye_path, file)))\n",
    "    \n",
    "df = pd.concat(dfs).reset_index(drop=True)"
   ]
  },
  {
   "cell_type": "code",
   "execution_count": 5,
   "id": "8d1453c1",
   "metadata": {},
   "outputs": [],
   "source": [
    "cols_to_use = [col for col in df.columns if (\"LIWC\" in col) or (\"AAE_TERMS_COUNT\" in col)]\n",
    "\n",
    "df = df[cols_to_use + [\"race\"]]"
   ]
  },
  {
   "cell_type": "code",
   "execution_count": 6,
   "id": "629982cc",
   "metadata": {},
   "outputs": [],
   "source": [
    "df_grouped_by_race = df.groupby(\"race\").mean()"
   ]
  },
  {
   "cell_type": "code",
   "execution_count": 7,
   "id": "846063f6",
   "metadata": {},
   "outputs": [],
   "source": [
    "biggest_mean_group = [df_grouped_by_race[col].nlargest(1) for col in cols_to_use]\n",
    "\n",
    "data = [{\"tool class\": item.name, \"biggest mean demographic group\": item.index[0]} for item in biggest_mean_group]"
   ]
  },
  {
   "cell_type": "code",
   "execution_count": 8,
   "id": "a216d09d",
   "metadata": {},
   "outputs": [],
   "source": [
    "relevant_cols = [\n",
    "    'LIWC_SWEAR', 'LIWC_SEXUAL', 'LIWC_DEATH', 'LIWC_BODY',\n",
    "    'LIWC_ANGER', 'LIWC_NEGEMO', 'AAE_TERMS_COUNT', 'LIWC_SAD',\n",
    "    'LIWC_SEE', 'LIWC_SOCIAL', 'LIWC_POWER', 'LIWC_WORK', 'LIWC_ANX',\n",
    "    'LIWC_FOCUSPAST', 'LIWC_DISCREP', 'LIWC_TENTAT', 'LIWC_CAUSE',\n",
    "    'LIWC_HEALTH', 'LIWC_BIO', 'LIWC_COGPROC', 'LIWC_FOCUSPRESENT'\n",
    "]"
   ]
  },
  {
   "cell_type": "code",
   "execution_count": 10,
   "id": "3af3de0a",
   "metadata": {
    "scrolled": false
   },
   "outputs": [
    {
     "data": {
      "text/html": [
       "<div>\n",
       "<style scoped>\n",
       "    .dataframe tbody tr th:only-of-type {\n",
       "        vertical-align: middle;\n",
       "    }\n",
       "\n",
       "    .dataframe tbody tr th {\n",
       "        vertical-align: top;\n",
       "    }\n",
       "\n",
       "    .dataframe thead th {\n",
       "        text-align: right;\n",
       "    }\n",
       "</style>\n",
       "<table border=\"1\" class=\"dataframe\">\n",
       "  <thead>\n",
       "    <tr style=\"text-align: right;\">\n",
       "      <th></th>\n",
       "      <th>tool class</th>\n",
       "      <th>biggest mean demographic group</th>\n",
       "    </tr>\n",
       "  </thead>\n",
       "  <tbody>\n",
       "    <tr>\n",
       "      <th>3</th>\n",
       "      <td>LIWC_SOCIAL</td>\n",
       "      <td>Black</td>\n",
       "    </tr>\n",
       "    <tr>\n",
       "      <th>4</th>\n",
       "      <td>LIWC_COGPROC</td>\n",
       "      <td>White</td>\n",
       "    </tr>\n",
       "    <tr>\n",
       "      <th>5</th>\n",
       "      <td>LIWC_DISCREP</td>\n",
       "      <td>White</td>\n",
       "    </tr>\n",
       "    <tr>\n",
       "      <th>6</th>\n",
       "      <td>LIWC_FOCUSPRESENT</td>\n",
       "      <td>White</td>\n",
       "    </tr>\n",
       "    <tr>\n",
       "      <th>10</th>\n",
       "      <td>LIWC_FOCUSPAST</td>\n",
       "      <td>Black</td>\n",
       "    </tr>\n",
       "    <tr>\n",
       "      <th>13</th>\n",
       "      <td>LIWC_BIO</td>\n",
       "      <td>Black</td>\n",
       "    </tr>\n",
       "    <tr>\n",
       "      <th>14</th>\n",
       "      <td>LIWC_HEALTH</td>\n",
       "      <td>White</td>\n",
       "    </tr>\n",
       "    <tr>\n",
       "      <th>16</th>\n",
       "      <td>LIWC_SEXUAL</td>\n",
       "      <td>White</td>\n",
       "    </tr>\n",
       "    <tr>\n",
       "      <th>21</th>\n",
       "      <td>LIWC_TENTAT</td>\n",
       "      <td>White</td>\n",
       "    </tr>\n",
       "    <tr>\n",
       "      <th>32</th>\n",
       "      <td>LIWC_WORK</td>\n",
       "      <td>White</td>\n",
       "    </tr>\n",
       "    <tr>\n",
       "      <th>33</th>\n",
       "      <td>LIWC_CAUSE</td>\n",
       "      <td>Black</td>\n",
       "    </tr>\n",
       "    <tr>\n",
       "      <th>38</th>\n",
       "      <td>LIWC_POWER</td>\n",
       "      <td>Black</td>\n",
       "    </tr>\n",
       "    <tr>\n",
       "      <th>41</th>\n",
       "      <td>LIWC_NEGEMO</td>\n",
       "      <td>White</td>\n",
       "    </tr>\n",
       "    <tr>\n",
       "      <th>42</th>\n",
       "      <td>LIWC_SWEAR</td>\n",
       "      <td>Black</td>\n",
       "    </tr>\n",
       "    <tr>\n",
       "      <th>47</th>\n",
       "      <td>LIWC_SEE</td>\n",
       "      <td>Black</td>\n",
       "    </tr>\n",
       "    <tr>\n",
       "      <th>49</th>\n",
       "      <td>LIWC_BODY</td>\n",
       "      <td>Black</td>\n",
       "    </tr>\n",
       "    <tr>\n",
       "      <th>51</th>\n",
       "      <td>LIWC_ANX</td>\n",
       "      <td>White</td>\n",
       "    </tr>\n",
       "    <tr>\n",
       "      <th>52</th>\n",
       "      <td>LIWC_ANGER</td>\n",
       "      <td>White</td>\n",
       "    </tr>\n",
       "    <tr>\n",
       "      <th>54</th>\n",
       "      <td>LIWC_DEATH</td>\n",
       "      <td>Black</td>\n",
       "    </tr>\n",
       "    <tr>\n",
       "      <th>57</th>\n",
       "      <td>LIWC_SAD</td>\n",
       "      <td>Black</td>\n",
       "    </tr>\n",
       "    <tr>\n",
       "      <th>58</th>\n",
       "      <td>AAE_TERMS_COUNT</td>\n",
       "      <td>Black</td>\n",
       "    </tr>\n",
       "  </tbody>\n",
       "</table>\n",
       "</div>"
      ],
      "text/plain": [
       "           tool class biggest mean demographic group\n",
       "3         LIWC_SOCIAL                          Black\n",
       "4        LIWC_COGPROC                          White\n",
       "5        LIWC_DISCREP                          White\n",
       "6   LIWC_FOCUSPRESENT                          White\n",
       "10     LIWC_FOCUSPAST                          Black\n",
       "13           LIWC_BIO                          Black\n",
       "14        LIWC_HEALTH                          White\n",
       "16        LIWC_SEXUAL                          White\n",
       "21        LIWC_TENTAT                          White\n",
       "32          LIWC_WORK                          White\n",
       "33         LIWC_CAUSE                          Black\n",
       "38         LIWC_POWER                          Black\n",
       "41        LIWC_NEGEMO                          White\n",
       "42         LIWC_SWEAR                          Black\n",
       "47           LIWC_SEE                          Black\n",
       "49          LIWC_BODY                          Black\n",
       "51           LIWC_ANX                          White\n",
       "52         LIWC_ANGER                          White\n",
       "54         LIWC_DEATH                          Black\n",
       "57           LIWC_SAD                          Black\n",
       "58    AAE_TERMS_COUNT                          Black"
      ]
     },
     "execution_count": 10,
     "metadata": {},
     "output_type": "execute_result"
    }
   ],
   "source": [
    "df_prevalance = pd.DataFrame(data)\n",
    "df_prevalance[df_prevalance[\"tool class\"].isin(relevant_cols)]"
   ]
  },
  {
   "cell_type": "code",
   "execution_count": null,
   "id": "98188564",
   "metadata": {},
   "outputs": [],
   "source": []
  }
 ],
 "metadata": {
  "kernelspec": {
   "display_name": "Python 3 (ipykernel)",
   "language": "python",
   "name": "python3"
  },
  "language_info": {
   "codemirror_mode": {
    "name": "ipython",
    "version": 3
   },
   "file_extension": ".py",
   "mimetype": "text/x-python",
   "name": "python",
   "nbconvert_exporter": "python",
   "pygments_lexer": "ipython3",
   "version": "3.8.10"
  }
 },
 "nbformat": 4,
 "nbformat_minor": 5
}
