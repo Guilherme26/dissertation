{
 "cells": [
  {
   "cell_type": "code",
   "execution_count": 1,
   "id": "0b2ec60a",
   "metadata": {},
   "outputs": [],
   "source": [
    "import sys\n",
    "import liwc\n",
    "import glob\n",
    "import os\n",
    "import pandas as pd\n",
    "import yaml\n",
    "\n",
    "from tqdm import tqdm\n",
    "\n",
    "sys.path.append(\"../../../../utils\")\n",
    "from absolute_path_builder import AbsolutePathBuilder"
   ]
  },
  {
   "cell_type": "code",
   "execution_count": 2,
   "id": "b4f5b8fc",
   "metadata": {},
   "outputs": [],
   "source": [
    "pd.set_option('display.max_rows', None)"
   ]
  },
  {
   "cell_type": "code",
   "execution_count": 3,
   "id": "58575427",
   "metadata": {},
   "outputs": [],
   "source": [
    "DATASET = \"twitter\"\n",
    "\n",
    "data_path = AbsolutePathBuilder.get_path(\n",
    "    f\"05_{DATASET}_features\",\n",
    "    filepaths=\"../../../../config/filepaths.yaml\"\n",
    ")"
   ]
  },
  {
   "cell_type": "code",
   "execution_count": 4,
   "id": "468038d3",
   "metadata": {},
   "outputs": [],
   "source": [
    "filenames = [file.split(\"/\")[-1] for file in glob.glob(os.path.join(data_path, \"*\"))]"
   ]
  },
  {
   "cell_type": "code",
   "execution_count": 5,
   "id": "b21d10c6",
   "metadata": {},
   "outputs": [],
   "source": [
    "df = pd.concat([pd.read_csv(os.path.join(data_path, file)) for file in filenames])"
   ]
  },
  {
   "cell_type": "code",
   "execution_count": 6,
   "id": "8d1453c1",
   "metadata": {},
   "outputs": [],
   "source": [
    "cols_to_use = [col for col in df.columns if \"LIWC\" in col]\n",
    "\n",
    "df = df[cols_to_use + [\"race\"]]"
   ]
  },
  {
   "cell_type": "code",
   "execution_count": 7,
   "id": "629982cc",
   "metadata": {},
   "outputs": [],
   "source": [
    "df_grouped_by_race = df.groupby(\"race\").mean()"
   ]
  },
  {
   "cell_type": "code",
   "execution_count": 8,
   "id": "846063f6",
   "metadata": {},
   "outputs": [],
   "source": [
    "biggest_mean_group = [df_grouped_by_race[col].nlargest(1) for col in cols_to_use]\n",
    "\n",
    "data = [{\"tool class\": item.name, \"biggest mean demographic group\": item.index[0]} for item in biggest_mean_group]"
   ]
  },
  {
   "cell_type": "code",
   "execution_count": 9,
   "id": "5a5a1873",
   "metadata": {},
   "outputs": [],
   "source": [
    "relevant_cols = [\n",
    "    'LIWC_SWEAR', 'LIWC_NETSPEAK', 'LIWC_INFORMAL', 'LIWC_SEXUAL',\n",
    "    'POS_X', 'LIWC_FILLER', 'LIWC_ASSENT', 'POS_DET', 'race'\n",
    "]"
   ]
  },
  {
   "cell_type": "code",
   "execution_count": 10,
   "id": "3af3de0a",
   "metadata": {
    "scrolled": false
   },
   "outputs": [
    {
     "data": {
      "text/html": [
       "<div>\n",
       "<style scoped>\n",
       "    .dataframe tbody tr th:only-of-type {\n",
       "        vertical-align: middle;\n",
       "    }\n",
       "\n",
       "    .dataframe tbody tr th {\n",
       "        vertical-align: top;\n",
       "    }\n",
       "\n",
       "    .dataframe thead th {\n",
       "        text-align: right;\n",
       "    }\n",
       "</style>\n",
       "<table border=\"1\" class=\"dataframe\">\n",
       "  <thead>\n",
       "    <tr style=\"text-align: right;\">\n",
       "      <th></th>\n",
       "      <th>tool class</th>\n",
       "      <th>biggest mean demographic group</th>\n",
       "    </tr>\n",
       "  </thead>\n",
       "  <tbody>\n",
       "    <tr>\n",
       "      <th>12</th>\n",
       "      <td>LIWC_INFORMAL</td>\n",
       "      <td>Black</td>\n",
       "    </tr>\n",
       "    <tr>\n",
       "      <th>13</th>\n",
       "      <td>LIWC_SWEAR</td>\n",
       "      <td>Black</td>\n",
       "    </tr>\n",
       "    <tr>\n",
       "      <th>33</th>\n",
       "      <td>LIWC_NETSPEAK</td>\n",
       "      <td>Black</td>\n",
       "    </tr>\n",
       "    <tr>\n",
       "      <th>51</th>\n",
       "      <td>LIWC_SEXUAL</td>\n",
       "      <td>Black</td>\n",
       "    </tr>\n",
       "    <tr>\n",
       "      <th>65</th>\n",
       "      <td>LIWC_ASSENT</td>\n",
       "      <td>White</td>\n",
       "    </tr>\n",
       "    <tr>\n",
       "      <th>72</th>\n",
       "      <td>LIWC_FILLER</td>\n",
       "      <td>Black</td>\n",
       "    </tr>\n",
       "  </tbody>\n",
       "</table>\n",
       "</div>"
      ],
      "text/plain": [
       "       tool class biggest mean demographic group\n",
       "12  LIWC_INFORMAL                          Black\n",
       "13     LIWC_SWEAR                          Black\n",
       "33  LIWC_NETSPEAK                          Black\n",
       "51    LIWC_SEXUAL                          Black\n",
       "65    LIWC_ASSENT                          White\n",
       "72    LIWC_FILLER                          Black"
      ]
     },
     "execution_count": 10,
     "metadata": {},
     "output_type": "execute_result"
    }
   ],
   "source": [
    "df_prevalance = pd.DataFrame(data)\n",
    "df_prevalance[df_prevalance[\"tool class\"].isin(relevant_cols)]"
   ]
  },
  {
   "cell_type": "code",
   "execution_count": null,
   "id": "bf1c0f3a",
   "metadata": {},
   "outputs": [],
   "source": []
  }
 ],
 "metadata": {
  "kernelspec": {
   "display_name": "Python 3 (ipykernel)",
   "language": "python",
   "name": "python3"
  },
  "language_info": {
   "codemirror_mode": {
    "name": "ipython",
    "version": 3
   },
   "file_extension": ".py",
   "mimetype": "text/x-python",
   "name": "python",
   "nbconvert_exporter": "python",
   "pygments_lexer": "ipython3",
   "version": "3.8.10"
  }
 },
 "nbformat": 4,
 "nbformat_minor": 5
}
