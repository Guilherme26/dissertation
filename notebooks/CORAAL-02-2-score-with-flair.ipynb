{
 "cells": [
  {
   "cell_type": "markdown",
   "metadata": {},
   "source": [
    "### Quick Description\n",
    "\n",
    "This notebook calculates the toxicity score from each sentence in a subtitles' file. Finally, it persists the data in a DataFrame like output."
   ]
  },
  {
   "cell_type": "code",
   "execution_count": 3,
   "metadata": {},
   "outputs": [
    {
     "name": "stderr",
     "output_type": "stream",
     "text": [
      "/home/luiznery/anaconda3/envs/fake/lib/python3.10/site-packages/tqdm/auto.py:22: TqdmWarning: IProgress not found. Please update jupyter and ipywidgets. See https://ipywidgets.readthedocs.io/en/stable/user_install.html\n",
      "  from .autonotebook import tqdm as notebook_tqdm\n"
     ]
    }
   ],
   "source": [
    "import yaml\n",
    "import glob\n",
    "import os\n",
    "import pandas as pd\n",
    "import time\n",
    "import re\n",
    "import logging\n",
    "import sys\n",
    "\n",
    "from tqdm import tqdm\n",
    "from flair.models import TextClassifier\n",
    "from flair.data import Sentence\n",
    "\n",
    "\n",
    "sys.path.append(\"../utils\")\n",
    "from toxicity_api_communication import get_toxicity_score"
   ]
  },
  {
   "cell_type": "code",
   "execution_count": 4,
   "metadata": {},
   "outputs": [
    {
     "name": "stderr",
     "output_type": "stream",
     "text": [
      "/tmp/ipykernel_359549/1089545284.py:1: YAMLLoadWarning: calling yaml.load() without Loader=... is deprecated, as the default Loader is unsafe. Please read https://msg.pyyaml.org/load for full details.\n",
      "  filepaths = yaml.load(open(\"../config/filepaths.yaml\"))\n",
      "/tmp/ipykernel_359549/1089545284.py:2: YAMLLoadWarning: calling yaml.load() without Loader=... is deprecated, as the default Loader is unsafe. Please read https://msg.pyyaml.org/load for full details.\n",
      "  credentials = yaml.load(open(\"../config/credentials.yaml\"))[\"perspective-api\"]\n"
     ]
    }
   ],
   "source": [
    "filepaths = yaml.load(open(\"../config/filepaths.yaml\"))\n",
    "credentials = yaml.load(open(\"../config/credentials.yaml\"))[\"perspective-api\"]"
   ]
  },
  {
   "cell_type": "code",
   "execution_count": 5,
   "metadata": {},
   "outputs": [],
   "source": [
    "def calculate_toxicity_scores(credentials, save_dir):\n",
    "    classifier = TextClassifier.load('en-sentiment')\n",
    "    filenames = [file.split(\"/\")[-1] for file in glob.glob(os.path.join(save_dir, \"*\"))]\n",
    "\n",
    "    for filename in tqdm(filenames, total=len(filenames)):\n",
    "        df_sentences = pd.read_csv(os.path.join(save_dir, filename))\n",
    "        for i, row in df_sentences.iterrows():\n",
    "            sentence = Sentence(row.text)\n",
    "            classifier.predict(sentence)\n",
    "\n",
    "            df_sentences.loc[i, \"flair_score\"] = (\n",
    "                1 - sentence.labels[0]._score\n",
    "                if sentence.labels[0]._value == \"POSITIVE\"\n",
    "                else 1 + sentence.labels[0]._score\n",
    "            )\n",
    "            \n",
    "        # Because 2 is the absolute maximum value\n",
    "        df_sentences[\"flair_score\"] = (\n",
    "            (df_sentences[\"flair_score\"] - df_sentences[\"flair_score\"].min())\n",
    "            / (2 - df_sentences[\"flair_score\"].min())\n",
    "        )\n",
    "\n",
    "        df_sentences.to_csv(os.path.join(save_dir, filename), index=False)"
   ]
  },
  {
   "cell_type": "code",
   "execution_count": 6,
   "metadata": {},
   "outputs": [
    {
     "name": "stdout",
     "output_type": "stream",
     "text": [
      "2022-06-03 17:03:24,113 https://nlp.informatik.hu-berlin.de/resources/models/sentiment-curated-distilbert/sentiment-en-mix-distillbert_4.pt not found in cache, downloading to /tmp/tmpnvmqxj1g\n"
     ]
    },
    {
     "name": "stderr",
     "output_type": "stream",
     "text": [
      "100%|██████████| 265512723/265512723 [00:24<00:00, 10713305.78B/s]"
     ]
    },
    {
     "name": "stdout",
     "output_type": "stream",
     "text": [
      "2022-06-03 17:03:49,469 copying /tmp/tmpnvmqxj1g to cache at /home/luiznery/.flair/models/sentiment-en-mix-distillbert_4.pt\n",
      "2022-06-03 17:03:49,622 removing temp file /tmp/tmpnvmqxj1g\n",
      "2022-06-03 17:03:49,651 loading file /home/luiznery/.flair/models/sentiment-en-mix-distillbert_4.pt\n"
     ]
    },
    {
     "name": "stderr",
     "output_type": "stream",
     "text": [
      "\n",
      "Downloading: 100%|██████████| 28.0/28.0 [00:00<00:00, 15.2kB/s]\n",
      "Downloading: 100%|██████████| 483/483 [00:00<00:00, 272kB/s]\n",
      "Downloading: 100%|██████████| 226k/226k [00:00<00:00, 455kB/s]  \n",
      "Downloading: 100%|██████████| 455k/455k [00:00<00:00, 734kB/s]  \n",
      "100%|██████████| 108/108 [25:01<00:00, 13.90s/it]\n"
     ]
    }
   ],
   "source": [
    "calculate_toxicity_scores(\n",
    "    credentials,\n",
    "    filepaths[\"coraal_scored\"]\n",
    ")"
   ]
  }
 ],
 "metadata": {
  "interpreter": {
   "hash": "716bd3ad375c41b9a51e5bdb0fea9e61f5f5b3cdf5599be47497d0ef2a02897b"
  },
  "kernelspec": {
   "display_name": "Python 3.10.4 ('fake')",
   "language": "python",
   "name": "python3"
  },
  "language_info": {
   "codemirror_mode": {
    "name": "ipython",
    "version": 3
   },
   "file_extension": ".py",
   "mimetype": "text/x-python",
   "name": "python",
   "nbconvert_exporter": "python",
   "pygments_lexer": "ipython3",
   "version": "3.10.4"
  }
 },
 "nbformat": 4,
 "nbformat_minor": 4
}
