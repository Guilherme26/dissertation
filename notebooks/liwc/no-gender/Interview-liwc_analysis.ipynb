{
 "cells": [
  {
   "cell_type": "markdown",
   "metadata": {},
   "source": [
    "# Imports, styles, etc"
   ]
  },
  {
   "cell_type": "code",
   "execution_count": 3,
   "metadata": {},
   "outputs": [],
   "source": [
    "import numpy as np\n",
    "import pandas as pd\n",
    "from liwc import Liwc\n",
    "from matplotlib import pyplot as plt\n",
    "import seaborn as sns\n",
    "import json\n",
    "from tqdm import tqdm\n",
    "import scipy\n",
    "import glob\n",
    "import re\n",
    "import yaml\n",
    "import warnings\n",
    "warnings.filterwarnings(\"ignore\")\n",
    "tqdm.pandas()\n",
    "\n",
    "import scipy.stats as stats\n",
    "\n",
    "filepaths = yaml.safe_load(open(\"../../../config/filepaths.yaml\"))\n",
    "\n",
    "import sys\n",
    "sys.path.append(filepaths['utils'])\n",
    "from data import *\n",
    "from liwc_utils import *\n",
    "from analisys import *"
   ]
  },
  {
   "cell_type": "code",
   "execution_count": 4,
   "metadata": {},
   "outputs": [
    {
     "data": {
      "text/plain": [
       "<matplotlib.pyplot._IonContext at 0x7ff0de989540>"
      ]
     },
     "execution_count": 4,
     "metadata": {},
     "output_type": "execute_result"
    }
   ],
   "source": [
    "plt.rcParams['axes.labelsize']  = 14 # fontes no tamanho usado no template\n",
    "plt.rcParams['axes.titlesize']  = 14\n",
    "plt.rcParams['legend.fontsize'] = 14\n",
    "plt.rcParams['xtick.labelsize'] = 14\n",
    "plt.rcParams['ytick.labelsize'] = 14\n",
    "plt.rcParams['font.family'] = 'serif'\n",
    "# plt.rcParams['text.usetex'] = True\n",
    "plt.rcParams['lines.linewidth'] = 1.5\n",
    "\n",
    "plt.style.use('tableau-colorblind10') # use um estilo colorblind!\n",
    "plt.ion()"
   ]
  },
  {
   "cell_type": "markdown",
   "metadata": {},
   "source": [
    "---"
   ]
  },
  {
   "cell_type": "code",
   "execution_count": 5,
   "metadata": {},
   "outputs": [
    {
     "data": {
      "text/html": [
       "<div>\n",
       "<style scoped>\n",
       "    .dataframe tbody tr th:only-of-type {\n",
       "        vertical-align: middle;\n",
       "    }\n",
       "\n",
       "    .dataframe tbody tr th {\n",
       "        vertical-align: top;\n",
       "    }\n",
       "\n",
       "    .dataframe thead th {\n",
       "        text-align: right;\n",
       "    }\n",
       "</style>\n",
       "<table border=\"1\" class=\"dataframe\">\n",
       "  <thead>\n",
       "    <tr style=\"text-align: right;\">\n",
       "      <th></th>\n",
       "      <th>text</th>\n",
       "      <th>perspective_score</th>\n",
       "      <th>flair_score</th>\n",
       "      <th>textblob_score</th>\n",
       "      <th>vader_score</th>\n",
       "      <th>file</th>\n",
       "      <th>group</th>\n",
       "    </tr>\n",
       "  </thead>\n",
       "  <tbody>\n",
       "    <tr>\n",
       "      <th>0</th>\n",
       "      <td>They are taxpayer-owned entities.</td>\n",
       "      <td>0.028611</td>\n",
       "      <td>0.156813</td>\n",
       "      <td>0.444444</td>\n",
       "      <td>0.0</td>\n",
       "      <td>white-f-gretchen morgenson</td>\n",
       "      <td>White Woman</td>\n",
       "    </tr>\n",
       "  </tbody>\n",
       "</table>\n",
       "</div>"
      ],
      "text/plain": [
       "                                text  perspective_score  flair_score  \\\n",
       "0  They are taxpayer-owned entities.           0.028611     0.156813   \n",
       "\n",
       "   textblob_score  vader_score                        file        group  \n",
       "0        0.444444          0.0  white-f-gretchen morgenson  White Woman  "
      ]
     },
     "execution_count": 5,
     "metadata": {},
     "output_type": "execute_result"
    }
   ],
   "source": [
    "DATASET = 'interview' # 'coraal-buckeye' | 'twitter' | 'youtube' | 'interview'\n",
    "\n",
    "data = load_dataset(DATASET)\n",
    "data.head(1)"
   ]
  },
  {
   "cell_type": "code",
   "execution_count": 6,
   "metadata": {},
   "outputs": [
    {
     "data": {
      "text/plain": [
       "group\n",
       "Black Man      44\n",
       "Black Woman    40\n",
       "White Man      43\n",
       "White Woman    43\n",
       "Name: text, dtype: int64"
      ]
     },
     "execution_count": 6,
     "metadata": {},
     "output_type": "execute_result"
    }
   ],
   "source": [
    "#Numero de amostras de cada tipo\n",
    "data.drop_duplicates('file').groupby('group').count()['text']"
   ]
  },
  {
   "cell_type": "markdown",
   "metadata": {},
   "source": [
    "# Reading and processing data"
   ]
  },
  {
   "cell_type": "code",
   "execution_count": 7,
   "metadata": {},
   "outputs": [],
   "source": [
    "# Faz copia dos dados e remove qualquer caracter que não seja textual ou apóstrofo\n",
    "df = data.copy()\n",
    "df['text'] = df['text'].apply(lambda x: re.sub(\"[^\\w\\d'\\s]+\",'',x))"
   ]
  },
  {
   "cell_type": "code",
   "execution_count": 8,
   "metadata": {},
   "outputs": [
    {
     "data": {
      "text/plain": [
       "group\n",
       "AA    84\n",
       "WH    86\n",
       "Name: text, dtype: int64"
      ]
     },
     "execution_count": 8,
     "metadata": {},
     "output_type": "execute_result"
    }
   ],
   "source": [
    "df.loc[df.group.isin(['Black Woman', 'Black Man']),'group'] = 'AA'\n",
    "df.loc[df.group.isin(['White Woman', 'White Man']),'group'] = 'WH'\n",
    "df.drop_duplicates('file').groupby('group').count()['text']"
   ]
  },
  {
   "cell_type": "code",
   "execution_count": 9,
   "metadata": {},
   "outputs": [
    {
     "data": {
      "text/html": [
       "<div>\n",
       "<style scoped>\n",
       "    .dataframe tbody tr th:only-of-type {\n",
       "        vertical-align: middle;\n",
       "    }\n",
       "\n",
       "    .dataframe tbody tr th {\n",
       "        vertical-align: top;\n",
       "    }\n",
       "\n",
       "    .dataframe thead th {\n",
       "        text-align: right;\n",
       "    }\n",
       "</style>\n",
       "<table border=\"1\" class=\"dataframe\">\n",
       "  <thead>\n",
       "    <tr style=\"text-align: right;\">\n",
       "      <th></th>\n",
       "      <th>file</th>\n",
       "      <th>text</th>\n",
       "      <th>group</th>\n",
       "    </tr>\n",
       "  </thead>\n",
       "  <tbody>\n",
       "    <tr>\n",
       "      <th>0</th>\n",
       "      <td>black-f-alexis mcgill johnson</td>\n",
       "      <td>Implicit bias is our brains' automatic process...</td>\n",
       "      <td>AA</td>\n",
       "    </tr>\n",
       "    <tr>\n",
       "      <th>1</th>\n",
       "      <td>black-f-alondra nelson</td>\n",
       "      <td>As a very young girl it became clear that I wa...</td>\n",
       "      <td>AA</td>\n",
       "    </tr>\n",
       "    <tr>\n",
       "      <th>2</th>\n",
       "      <td>black-f-alysia montano</td>\n",
       "      <td>We're not paid a huge salary by a league at al...</td>\n",
       "      <td>AA</td>\n",
       "    </tr>\n",
       "  </tbody>\n",
       "</table>\n",
       "</div>"
      ],
      "text/plain": [
       "                            file  \\\n",
       "0  black-f-alexis mcgill johnson   \n",
       "1         black-f-alondra nelson   \n",
       "2         black-f-alysia montano   \n",
       "\n",
       "                                                text group  \n",
       "0  Implicit bias is our brains' automatic process...    AA  \n",
       "1  As a very young girl it became clear that I wa...    AA  \n",
       "2  We're not paid a huge salary by a league at al...    AA  "
      ]
     },
     "execution_count": 9,
     "metadata": {},
     "output_type": "execute_result"
    }
   ],
   "source": [
    "# executes a join in column text grouped by file, this will join all the texts and keep group info\n",
    "text_df = df.groupby('file',as_index=False).agg({\n",
    "    'text': lambda x: ' '.join(x),\n",
    "    'group': lambda x: x.iloc[0]\n",
    "})\n",
    "text_df.head(3)"
   ]
  },
  {
   "cell_type": "code",
   "execution_count": 10,
   "metadata": {},
   "outputs": [
    {
     "data": {
      "text/html": [
       "<div>\n",
       "<style scoped>\n",
       "    .dataframe tbody tr th:only-of-type {\n",
       "        vertical-align: middle;\n",
       "    }\n",
       "\n",
       "    .dataframe tbody tr th {\n",
       "        vertical-align: top;\n",
       "    }\n",
       "\n",
       "    .dataframe thead th {\n",
       "        text-align: right;\n",
       "    }\n",
       "</style>\n",
       "<table border=\"1\" class=\"dataframe\">\n",
       "  <thead>\n",
       "    <tr style=\"text-align: right;\">\n",
       "      <th></th>\n",
       "      <th>file</th>\n",
       "      <th>text</th>\n",
       "      <th>group</th>\n",
       "      <th>liwc_count</th>\n",
       "    </tr>\n",
       "  </thead>\n",
       "  <tbody>\n",
       "    <tr>\n",
       "      <th>0</th>\n",
       "      <td>black-f-alexis mcgill johnson</td>\n",
       "      <td>Implicit bias is our brains' automatic process...</td>\n",
       "      <td>AA</td>\n",
       "      <td>{'function': 230, 'auxverb': 47, 'verb': 77, '...</td>\n",
       "    </tr>\n",
       "    <tr>\n",
       "      <th>1</th>\n",
       "      <td>black-f-alondra nelson</td>\n",
       "      <td>As a very young girl it became clear that I wa...</td>\n",
       "      <td>AA</td>\n",
       "      <td>{'function': 467, 'article': 67, 'adverb': 42,...</td>\n",
       "    </tr>\n",
       "    <tr>\n",
       "      <th>2</th>\n",
       "      <td>black-f-alysia montano</td>\n",
       "      <td>We're not paid a huge salary by a league at al...</td>\n",
       "      <td>AA</td>\n",
       "      <td>{'function': 333, 'negate': 11, 'cogproc': 60,...</td>\n",
       "    </tr>\n",
       "  </tbody>\n",
       "</table>\n",
       "</div>"
      ],
      "text/plain": [
       "                            file  \\\n",
       "0  black-f-alexis mcgill johnson   \n",
       "1         black-f-alondra nelson   \n",
       "2         black-f-alysia montano   \n",
       "\n",
       "                                                text group  \\\n",
       "0  Implicit bias is our brains' automatic process...    AA   \n",
       "1  As a very young girl it became clear that I wa...    AA   \n",
       "2  We're not paid a huge salary by a league at al...    AA   \n",
       "\n",
       "                                          liwc_count  \n",
       "0  {'function': 230, 'auxverb': 47, 'verb': 77, '...  \n",
       "1  {'function': 467, 'article': 67, 'adverb': 42,...  \n",
       "2  {'function': 333, 'negate': 11, 'cogproc': 60,...  "
      ]
     },
     "execution_count": 10,
     "metadata": {},
     "output_type": "execute_result"
    }
   ],
   "source": [
    "# carrega o dicionário e inicializa a classe do LIWC\n",
    "liwc_parser = Liwc(filepaths['liwc_dict']) \n",
    "\n",
    "#aplica do liwc\n",
    "text_df['liwc_count'] = text_df['text'].apply(liwc_sentence_parse, args=(liwc_parser,)) \n",
    "text_df = text_df.reset_index(drop=True)\n",
    "text_df.head(3)"
   ]
  },
  {
   "cell_type": "markdown",
   "metadata": {},
   "source": [
    "---"
   ]
  },
  {
   "cell_type": "markdown",
   "metadata": {},
   "source": [
    "# Processing data with LIWC"
   ]
  },
  {
   "cell_type": "code",
   "execution_count": 11,
   "metadata": {},
   "outputs": [
    {
     "data": {
      "text/html": [
       "<div>\n",
       "<style scoped>\n",
       "    .dataframe tbody tr th:only-of-type {\n",
       "        vertical-align: middle;\n",
       "    }\n",
       "\n",
       "    .dataframe tbody tr th {\n",
       "        vertical-align: top;\n",
       "    }\n",
       "\n",
       "    .dataframe thead th {\n",
       "        text-align: right;\n",
       "    }\n",
       "</style>\n",
       "<table border=\"1\" class=\"dataframe\">\n",
       "  <thead>\n",
       "    <tr style=\"text-align: right;\">\n",
       "      <th></th>\n",
       "      <th>function</th>\n",
       "      <th>pronoun</th>\n",
       "      <th>ppron</th>\n",
       "      <th>i</th>\n",
       "      <th>we</th>\n",
       "      <th>you</th>\n",
       "      <th>shehe</th>\n",
       "      <th>they</th>\n",
       "      <th>ipron</th>\n",
       "      <th>article</th>\n",
       "      <th>...</th>\n",
       "      <th>money</th>\n",
       "      <th>relig</th>\n",
       "      <th>death</th>\n",
       "      <th>informal</th>\n",
       "      <th>swear</th>\n",
       "      <th>netspeak</th>\n",
       "      <th>assent</th>\n",
       "      <th>nonflu</th>\n",
       "      <th>filler</th>\n",
       "      <th>group</th>\n",
       "    </tr>\n",
       "  </thead>\n",
       "  <tbody>\n",
       "    <tr>\n",
       "      <th>0</th>\n",
       "      <td>0.181675</td>\n",
       "      <td>0.060032</td>\n",
       "      <td>0.033965</td>\n",
       "      <td>0.000790</td>\n",
       "      <td>0.022907</td>\n",
       "      <td>0.007109</td>\n",
       "      <td>0.000000</td>\n",
       "      <td>0.003160</td>\n",
       "      <td>0.026066</td>\n",
       "      <td>0.016588</td>\n",
       "      <td>...</td>\n",
       "      <td>0.000790</td>\n",
       "      <td>0.000000</td>\n",
       "      <td>0.0</td>\n",
       "      <td>0.001580</td>\n",
       "      <td>0.0</td>\n",
       "      <td>0.0</td>\n",
       "      <td>0.001580</td>\n",
       "      <td>0.000000</td>\n",
       "      <td>0.0</td>\n",
       "      <td>AA</td>\n",
       "    </tr>\n",
       "    <tr>\n",
       "      <th>1</th>\n",
       "      <td>0.195316</td>\n",
       "      <td>0.051861</td>\n",
       "      <td>0.027185</td>\n",
       "      <td>0.006692</td>\n",
       "      <td>0.002509</td>\n",
       "      <td>0.007528</td>\n",
       "      <td>0.006692</td>\n",
       "      <td>0.003764</td>\n",
       "      <td>0.024676</td>\n",
       "      <td>0.028022</td>\n",
       "      <td>...</td>\n",
       "      <td>0.001255</td>\n",
       "      <td>0.000836</td>\n",
       "      <td>0.0</td>\n",
       "      <td>0.000836</td>\n",
       "      <td>0.0</td>\n",
       "      <td>0.0</td>\n",
       "      <td>0.000000</td>\n",
       "      <td>0.000836</td>\n",
       "      <td>0.0</td>\n",
       "      <td>AA</td>\n",
       "    </tr>\n",
       "    <tr>\n",
       "      <th>2</th>\n",
       "      <td>0.194509</td>\n",
       "      <td>0.052570</td>\n",
       "      <td>0.028037</td>\n",
       "      <td>0.008178</td>\n",
       "      <td>0.005257</td>\n",
       "      <td>0.007593</td>\n",
       "      <td>0.004673</td>\n",
       "      <td>0.002336</td>\n",
       "      <td>0.024533</td>\n",
       "      <td>0.020444</td>\n",
       "      <td>...</td>\n",
       "      <td>0.004089</td>\n",
       "      <td>0.000000</td>\n",
       "      <td>0.0</td>\n",
       "      <td>0.001168</td>\n",
       "      <td>0.0</td>\n",
       "      <td>0.0</td>\n",
       "      <td>0.000584</td>\n",
       "      <td>0.000000</td>\n",
       "      <td>0.0</td>\n",
       "      <td>AA</td>\n",
       "    </tr>\n",
       "  </tbody>\n",
       "</table>\n",
       "<p>3 rows × 74 columns</p>\n",
       "</div>"
      ],
      "text/plain": [
       "   function   pronoun     ppron         i        we       you     shehe  \\\n",
       "0  0.181675  0.060032  0.033965  0.000790  0.022907  0.007109  0.000000   \n",
       "1  0.195316  0.051861  0.027185  0.006692  0.002509  0.007528  0.006692   \n",
       "2  0.194509  0.052570  0.028037  0.008178  0.005257  0.007593  0.004673   \n",
       "\n",
       "       they     ipron   article  ...     money     relig  death  informal  \\\n",
       "0  0.003160  0.026066  0.016588  ...  0.000790  0.000000    0.0  0.001580   \n",
       "1  0.003764  0.024676  0.028022  ...  0.001255  0.000836    0.0  0.000836   \n",
       "2  0.002336  0.024533  0.020444  ...  0.004089  0.000000    0.0  0.001168   \n",
       "\n",
       "   swear  netspeak    assent    nonflu  filler  group  \n",
       "0    0.0       0.0  0.001580  0.000000     0.0     AA  \n",
       "1    0.0       0.0  0.000000  0.000836     0.0     AA  \n",
       "2    0.0       0.0  0.000584  0.000000     0.0     AA  \n",
       "\n",
       "[3 rows x 74 columns]"
      ]
     },
     "execution_count": 11,
     "metadata": {},
     "output_type": "execute_result"
    }
   ],
   "source": [
    "# create a new dataset where the dicts inside liwc_cont are expanded in columns\n",
    "liwc_df = pd.concat([text_df.drop(['liwc_count'], axis=1), text_df['liwc_count'].apply(pd.Series)], axis=1)\n",
    "liwc_df = liwc_df.fillna(0)\n",
    "\n",
    "#normalizing\n",
    "liwc_df_norm = (liwc_df[liwc_parser.categories.values()].T * ( 1 / liwc_df[liwc_parser.categories.values()].sum(axis=1) )).T\n",
    "liwc_df_norm.reset_index(drop=True,inplace=True)\n",
    "\n",
    "liwc_df_norm['group'] = text_df['group']\n",
    "liwc_df_norm = liwc_df_norm.fillna(0)\n",
    "liwc_df_norm.head(3)"
   ]
  },
  {
   "cell_type": "markdown",
   "metadata": {},
   "source": [
    "---"
   ]
  },
  {
   "cell_type": "markdown",
   "metadata": {},
   "source": [
    "## Kruscal-Wallis Test"
   ]
  },
  {
   "cell_type": "code",
   "execution_count": 16,
   "metadata": {},
   "outputs": [],
   "source": [
    "experiments = []\n",
    "old_experiments = []\n",
    "\n",
    "for feature in liwc_parser.categories.values():\n",
    "    \n",
    "    result = stats.kruskal(\n",
    "        liwc_df_norm[liwc_df_norm.group=='AA'][feature],\n",
    "        liwc_df_norm[liwc_df_norm.group=='WH'][feature]\n",
    "    )\n",
    "    experiments.append({\n",
    "        'feature': feature,\n",
    "        'statistic': result[0],\n",
    "        'pvalue': result[1]\n",
    "    })\n",
    "experiments = pd.DataFrame(experiments)"
   ]
  },
  {
   "cell_type": "markdown",
   "metadata": {},
   "source": [
    "## Relevant features\n",
    "\n",
    "https://www.liwc.net/LIWC2007LanguageManual.pdf\n",
    "\n",
    "https://repositories.lib.utexas.edu/bitstream/handle/2152/31333/LIWC2015_LanguageManual.pdf"
   ]
  },
  {
   "cell_type": "code",
   "execution_count": 17,
   "metadata": {},
   "outputs": [
    {
     "name": "stdout",
     "output_type": "stream",
     "text": [
      "0\n"
     ]
    },
    {
     "data": {
      "text/html": [
       "<div>\n",
       "<style scoped>\n",
       "    .dataframe tbody tr th:only-of-type {\n",
       "        vertical-align: middle;\n",
       "    }\n",
       "\n",
       "    .dataframe tbody tr th {\n",
       "        vertical-align: top;\n",
       "    }\n",
       "\n",
       "    .dataframe thead th {\n",
       "        text-align: right;\n",
       "    }\n",
       "</style>\n",
       "<table border=\"1\" class=\"dataframe\">\n",
       "  <thead>\n",
       "    <tr style=\"text-align: right;\">\n",
       "      <th></th>\n",
       "      <th>feature</th>\n",
       "      <th>statistic</th>\n",
       "      <th>pvalue</th>\n",
       "    </tr>\n",
       "  </thead>\n",
       "  <tbody>\n",
       "  </tbody>\n",
       "</table>\n",
       "</div>"
      ],
      "text/plain": [
       "Empty DataFrame\n",
       "Columns: [feature, statistic, pvalue]\n",
       "Index: []"
      ]
     },
     "execution_count": 17,
     "metadata": {},
     "output_type": "execute_result"
    }
   ],
   "source": [
    "import statsmodels.stats.multitest as smt\n",
    "idx = smt.multipletests(pvals=experiments.pvalue, alpha=0.01, method=\"bonferroni\")[0]\n",
    "print(len(experiments[idx].sort_values('pvalue')))\n",
    "experiments[idx].sort_values('pvalue')"
   ]
  },
  {
   "cell_type": "code",
   "execution_count": 18,
   "metadata": {},
   "outputs": [
    {
     "data": {
      "text/html": [
       "<div>\n",
       "<style scoped>\n",
       "    .dataframe tbody tr th:only-of-type {\n",
       "        vertical-align: middle;\n",
       "    }\n",
       "\n",
       "    .dataframe tbody tr th {\n",
       "        vertical-align: top;\n",
       "    }\n",
       "\n",
       "    .dataframe thead th {\n",
       "        text-align: right;\n",
       "    }\n",
       "</style>\n",
       "<table border=\"1\" class=\"dataframe\">\n",
       "  <thead>\n",
       "    <tr style=\"text-align: right;\">\n",
       "      <th></th>\n",
       "      <th>feature</th>\n",
       "      <th>statistic</th>\n",
       "      <th>pvalue</th>\n",
       "    </tr>\n",
       "  </thead>\n",
       "  <tbody>\n",
       "    <tr>\n",
       "      <th>3</th>\n",
       "      <td>i</td>\n",
       "      <td>10.732464</td>\n",
       "      <td>0.001053</td>\n",
       "    </tr>\n",
       "    <tr>\n",
       "      <th>39</th>\n",
       "      <td>percept</td>\n",
       "      <td>10.126489</td>\n",
       "      <td>0.001462</td>\n",
       "    </tr>\n",
       "    <tr>\n",
       "      <th>19</th>\n",
       "      <td>number</td>\n",
       "      <td>9.723899</td>\n",
       "      <td>0.001819</td>\n",
       "    </tr>\n",
       "    <tr>\n",
       "      <th>63</th>\n",
       "      <td>home</td>\n",
       "      <td>8.932643</td>\n",
       "      <td>0.002801</td>\n",
       "    </tr>\n",
       "    <tr>\n",
       "      <th>28</th>\n",
       "      <td>family</td>\n",
       "      <td>8.415832</td>\n",
       "      <td>0.003720</td>\n",
       "    </tr>\n",
       "  </tbody>\n",
       "</table>\n",
       "</div>"
      ],
      "text/plain": [
       "    feature  statistic    pvalue\n",
       "3         i  10.732464  0.001053\n",
       "39  percept  10.126489  0.001462\n",
       "19   number   9.723899  0.001819\n",
       "63     home   8.932643  0.002801\n",
       "28   family   8.415832  0.003720"
      ]
     },
     "execution_count": 18,
     "metadata": {},
     "output_type": "execute_result"
    }
   ],
   "source": [
    "experiments[experiments.pvalue<0.01].sort_values('pvalue')"
   ]
  },
  {
   "cell_type": "code",
   "execution_count": 20,
   "metadata": {},
   "outputs": [
    {
     "data": {
      "image/png": "[encoded data removed]",
      "text/plain": [
       "<Figure size 1152x201.6 with 5 Axes>"
      ]
     },
     "metadata": {
      "needs_background": "light"
     },
     "output_type": "display_data"
    }
   ],
   "source": [
    "plot_liwc_features(\n",
    "    liwc_df_norm, \n",
    "    ploting_vars=experiments[experiments.pvalue<0.01].feature, \n",
    "    hue_order=['AA','WH'],\n",
    "    legend_labels = ['AA', 'WH'],\n",
    "    palette=['red','orange'], \n",
    ")"
   ]
  },
  {
   "cell_type": "markdown",
   "metadata": {},
   "source": [
    "# individual categories analisys"
   ]
  },
  {
   "cell_type": "markdown",
   "metadata": {},
   "source": [
    "### calculating liwc per sentence"
   ]
  },
  {
   "cell_type": "code",
   "execution_count": 21,
   "metadata": {},
   "outputs": [
    {
     "data": {
      "text/html": [
       "<div>\n",
       "<style scoped>\n",
       "    .dataframe tbody tr th:only-of-type {\n",
       "        vertical-align: middle;\n",
       "    }\n",
       "\n",
       "    .dataframe tbody tr th {\n",
       "        vertical-align: top;\n",
       "    }\n",
       "\n",
       "    .dataframe thead th {\n",
       "        text-align: right;\n",
       "    }\n",
       "</style>\n",
       "<table border=\"1\" class=\"dataframe\">\n",
       "  <thead>\n",
       "    <tr style=\"text-align: right;\">\n",
       "      <th></th>\n",
       "      <th>sentence_id</th>\n",
       "      <th>text</th>\n",
       "      <th>perspective_score</th>\n",
       "      <th>flair_score</th>\n",
       "      <th>textblob_score</th>\n",
       "      <th>vader_score</th>\n",
       "      <th>file</th>\n",
       "      <th>group</th>\n",
       "      <th>len</th>\n",
       "      <th>function</th>\n",
       "      <th>...</th>\n",
       "      <th>health</th>\n",
       "      <th>death</th>\n",
       "      <th>i</th>\n",
       "      <th>anger</th>\n",
       "      <th>family</th>\n",
       "      <th>relig</th>\n",
       "      <th>female</th>\n",
       "      <th>friend</th>\n",
       "      <th>filler</th>\n",
       "      <th>swear</th>\n",
       "    </tr>\n",
       "  </thead>\n",
       "  <tbody>\n",
       "    <tr>\n",
       "      <th>0</th>\n",
       "      <td>0</td>\n",
       "      <td>They are taxpayerowned entities</td>\n",
       "      <td>0.028611</td>\n",
       "      <td>0.156813</td>\n",
       "      <td>0.444444</td>\n",
       "      <td>0.0</td>\n",
       "      <td>white-f-gretchen morgenson</td>\n",
       "      <td>WH</td>\n",
       "      <td>4</td>\n",
       "      <td>1.0</td>\n",
       "      <td>...</td>\n",
       "      <td>0.0</td>\n",
       "      <td>0.0</td>\n",
       "      <td>0.0</td>\n",
       "      <td>0.0</td>\n",
       "      <td>0.0</td>\n",
       "      <td>0.0</td>\n",
       "      <td>0.0</td>\n",
       "      <td>0.0</td>\n",
       "      <td>0.0</td>\n",
       "      <td>0.0</td>\n",
       "    </tr>\n",
       "  </tbody>\n",
       "</table>\n",
       "<p>1 rows × 82 columns</p>\n",
       "</div>"
      ],
      "text/plain": [
       "   sentence_id                             text  perspective_score  \\\n",
       "0            0  They are taxpayerowned entities           0.028611   \n",
       "\n",
       "   flair_score  textblob_score  vader_score                        file group  \\\n",
       "0     0.156813        0.444444          0.0  white-f-gretchen morgenson    WH   \n",
       "\n",
       "   len  function  ...  health  death    i  anger  family  relig  female  \\\n",
       "0    4       1.0  ...     0.0    0.0  0.0    0.0     0.0    0.0     0.0   \n",
       "\n",
       "   friend  filler  swear  \n",
       "0     0.0     0.0    0.0  \n",
       "\n",
       "[1 rows x 82 columns]"
      ]
     },
     "execution_count": 21,
     "metadata": {},
     "output_type": "execute_result"
    }
   ],
   "source": [
    "scores_liwc = df.copy()\n",
    "\n",
    "scores_liwc['liwc_count'] = scores_liwc['text'].apply(liwc_sentence_parse, args=(liwc_parser,)) #aplica do liwc\n",
    "scores_liwc['len'] = scores_liwc.text.str.split(' ').str.len()\n",
    "scores_liwc = scores_liwc.reset_index().rename(columns={'index':'sentence_id'})\n",
    "scores_liwc = pd.concat([scores_liwc.drop(['liwc_count'], axis=1), scores_liwc['liwc_count'].apply(pd.Series)], axis=1)\n",
    "scores_liwc = scores_liwc.fillna(0)\n",
    "scores_liwc.head(1)"
   ]
  },
  {
   "cell_type": "markdown",
   "metadata": {},
   "source": [
    "### KS test and bonferroni correction - For liwc categories scored"
   ]
  },
  {
   "cell_type": "code",
   "execution_count": 22,
   "metadata": {},
   "outputs": [
    {
     "data": {
      "text/html": [
       "<div>\n",
       "<style scoped>\n",
       "    .dataframe tbody tr th:only-of-type {\n",
       "        vertical-align: middle;\n",
       "    }\n",
       "\n",
       "    .dataframe tbody tr th {\n",
       "        vertical-align: top;\n",
       "    }\n",
       "\n",
       "    .dataframe thead th {\n",
       "        text-align: right;\n",
       "    }\n",
       "</style>\n",
       "<table border=\"1\" class=\"dataframe\">\n",
       "  <thead>\n",
       "    <tr style=\"text-align: right;\">\n",
       "      <th></th>\n",
       "      <th>feature</th>\n",
       "      <th>statistic</th>\n",
       "      <th>pvalue</th>\n",
       "      <th>score</th>\n",
       "    </tr>\n",
       "  </thead>\n",
       "  <tbody>\n",
       "    <tr>\n",
       "      <th>32</th>\n",
       "      <td>cogproc</td>\n",
       "      <td>0.177451</td>\n",
       "      <td>0.000000e+00</td>\n",
       "      <td>perspective_score</td>\n",
       "    </tr>\n",
       "    <tr>\n",
       "      <th>105</th>\n",
       "      <td>cogproc</td>\n",
       "      <td>0.255768</td>\n",
       "      <td>0.000000e+00</td>\n",
       "      <td>flair_score</td>\n",
       "    </tr>\n",
       "    <tr>\n",
       "      <th>251</th>\n",
       "      <td>cogproc</td>\n",
       "      <td>0.169696</td>\n",
       "      <td>0.000000e+00</td>\n",
       "      <td>vader_score</td>\n",
       "    </tr>\n",
       "    <tr>\n",
       "      <th>240</th>\n",
       "      <td>affect</td>\n",
       "      <td>0.376103</td>\n",
       "      <td>6.370270e-212</td>\n",
       "      <td>vader_score</td>\n",
       "    </tr>\n",
       "    <tr>\n",
       "      <th>244</th>\n",
       "      <td>anger</td>\n",
       "      <td>0.733585</td>\n",
       "      <td>8.283878e-211</td>\n",
       "      <td>vader_score</td>\n",
       "    </tr>\n",
       "    <tr>\n",
       "      <th>...</th>\n",
       "      <td>...</td>\n",
       "      <td>...</td>\n",
       "      <td>...</td>\n",
       "      <td>...</td>\n",
       "    </tr>\n",
       "    <tr>\n",
       "      <th>216</th>\n",
       "      <td>assent</td>\n",
       "      <td>0.055711</td>\n",
       "      <td>8.371323e-01</td>\n",
       "      <td>textblob_score</td>\n",
       "    </tr>\n",
       "    <tr>\n",
       "      <th>286</th>\n",
       "      <td>informal</td>\n",
       "      <td>0.032647</td>\n",
       "      <td>9.441144e-01</td>\n",
       "      <td>vader_score</td>\n",
       "    </tr>\n",
       "    <tr>\n",
       "      <th>266</th>\n",
       "      <td>ingest</td>\n",
       "      <td>0.034914</td>\n",
       "      <td>9.841900e-01</td>\n",
       "      <td>vader_score</td>\n",
       "    </tr>\n",
       "    <tr>\n",
       "      <th>291</th>\n",
       "      <td>filler</td>\n",
       "      <td>0.266282</td>\n",
       "      <td>9.978896e-01</td>\n",
       "      <td>vader_score</td>\n",
       "    </tr>\n",
       "    <tr>\n",
       "      <th>289</th>\n",
       "      <td>assent</td>\n",
       "      <td>0.022657</td>\n",
       "      <td>9.999999e-01</td>\n",
       "      <td>vader_score</td>\n",
       "    </tr>\n",
       "  </tbody>\n",
       "</table>\n",
       "<p>292 rows × 4 columns</p>\n",
       "</div>"
      ],
      "text/plain": [
       "      feature  statistic         pvalue              score\n",
       "32    cogproc   0.177451   0.000000e+00  perspective_score\n",
       "105   cogproc   0.255768   0.000000e+00        flair_score\n",
       "251   cogproc   0.169696   0.000000e+00        vader_score\n",
       "240    affect   0.376103  6.370270e-212        vader_score\n",
       "244     anger   0.733585  8.283878e-211        vader_score\n",
       "..        ...        ...            ...                ...\n",
       "216    assent   0.055711   8.371323e-01     textblob_score\n",
       "286  informal   0.032647   9.441144e-01        vader_score\n",
       "266    ingest   0.034914   9.841900e-01        vader_score\n",
       "291    filler   0.266282   9.978896e-01        vader_score\n",
       "289    assent   0.022657   9.999999e-01        vader_score\n",
       "\n",
       "[292 rows x 4 columns]"
      ]
     },
     "execution_count": 22,
     "metadata": {},
     "output_type": "execute_result"
    }
   ],
   "source": [
    "liwc_toxicity_experiments = []\n",
    "for score in [col for col in scores_liwc.columns if 'score' in col]:\n",
    "    for feature in liwc_parser.categories.values():\n",
    "        if (len(scores_liwc[scores_liwc[feature]==0]) == 0 \n",
    "                and len(scores_liwc[scores_liwc[feature]>0] == 0)):\n",
    "            liwc_toxicity_experiments.append({\n",
    "                'feature': feature,\n",
    "                'statistic': np.nan,\n",
    "                'pvalue': np.nan,\n",
    "                'score': score\n",
    "            })\n",
    "        else:\n",
    "            result = stats.ks_2samp(\n",
    "                scores_liwc[scores_liwc[feature]==0][score],\n",
    "                scores_liwc[scores_liwc[feature]>0][score]\n",
    "            )\n",
    "            liwc_toxicity_experiments.append({\n",
    "                'feature': feature,\n",
    "                'statistic': result[0],\n",
    "                'pvalue': result[1],\n",
    "                'score': score\n",
    "            })\n",
    "\n",
    "liwc_toxicity_experiments = pd.DataFrame(liwc_toxicity_experiments)\n",
    "liwc_toxicity_experiments.sort_values('pvalue')"
   ]
  },
  {
   "cell_type": "code",
   "execution_count": 23,
   "metadata": {},
   "outputs": [
    {
     "data": {
      "text/plain": [
       "array(['adj', 'adverb', 'affect', 'anger', 'anx', 'article', 'auxverb',\n",
       "       'cause', 'certain', 'cogproc', 'compare', 'conj', 'death',\n",
       "       'differ', 'drives', 'feel', 'focuspast', 'focuspresent',\n",
       "       'function', 'insight', 'interrog', 'ipron', 'negate', 'negemo',\n",
       "       'percept', 'posemo', 'power', 'ppron', 'prep', 'pronoun', 'quant',\n",
       "       'relativ', 'risk', 'social', 'space', 'tentat', 'verb', 'you'],\n",
       "      dtype=object)"
      ]
     },
     "execution_count": 23,
     "metadata": {},
     "output_type": "execute_result"
    }
   ],
   "source": [
    "#seleciona as categorias em que todos scores são estatisticamente diferentes (p-value < 0.01)\n",
    "#TODO: Bonferroni correction\n",
    "\n",
    "relevant_categories_by_toxicity = liwc_toxicity_experiments.iloc[\n",
    "    liwc_toxicity_experiments.groupby('feature').agg({\n",
    "        'pvalue': lambda x: x.idxmax(),\n",
    "    })['pvalue']\n",
    "].query('pvalue < 0.01').feature.unique()\n",
    "\n",
    "relevant_categories_by_toxicity"
   ]
  },
  {
   "cell_type": "code",
   "execution_count": 25,
   "metadata": {},
   "outputs": [
    {
     "data": {
      "text/html": [
       "<div>\n",
       "<style scoped>\n",
       "    .dataframe tbody tr th:only-of-type {\n",
       "        vertical-align: middle;\n",
       "    }\n",
       "\n",
       "    .dataframe tbody tr th {\n",
       "        vertical-align: top;\n",
       "    }\n",
       "\n",
       "    .dataframe thead th {\n",
       "        text-align: right;\n",
       "    }\n",
       "</style>\n",
       "<table border=\"1\" class=\"dataframe\">\n",
       "  <thead>\n",
       "    <tr style=\"text-align: right;\">\n",
       "      <th></th>\n",
       "      <th>feature</th>\n",
       "      <th>statistic</th>\n",
       "      <th>pvalue</th>\n",
       "    </tr>\n",
       "  </thead>\n",
       "  <tbody>\n",
       "    <tr>\n",
       "      <th>39</th>\n",
       "      <td>percept</td>\n",
       "      <td>10.126489</td>\n",
       "      <td>0.001462</td>\n",
       "    </tr>\n",
       "  </tbody>\n",
       "</table>\n",
       "</div>"
      ],
      "text/plain": [
       "    feature  statistic    pvalue\n",
       "39  percept  10.126489  0.001462"
      ]
     },
     "execution_count": 25,
     "metadata": {},
     "output_type": "execute_result"
    }
   ],
   "source": [
    "experiments[(experiments.pvalue<0.01) & experiments.feature.isin(relevant_categories_by_toxicity) ]"
   ]
  },
  {
   "cell_type": "markdown",
   "metadata": {},
   "source": [
    "---\n",
    "# Associating categories frequencies with toxicity"
   ]
  },
  {
   "cell_type": "code",
   "execution_count": 27,
   "metadata": {},
   "outputs": [
    {
     "data": {
      "image/png": "[encoded data removed]",
      "text/plain": [
       "<Figure size 1152x201.6 with 5 Axes>"
      ]
     },
     "metadata": {
      "needs_background": "light"
     },
     "output_type": "display_data"
    },
    {
     "data": {
      "image/png": "[encoded data removed]",
      "text/plain": [
       "<Figure size 1152x201.6 with 5 Axes>"
      ]
     },
     "metadata": {
      "needs_background": "light"
     },
     "output_type": "display_data"
    },
    {
     "data": {
      "image/png": "[encoded data removed]",
      "text/plain": [
       "<Figure size 1152x201.6 with 5 Axes>"
      ]
     },
     "metadata": {
      "needs_background": "light"
     },
     "output_type": "display_data"
    },
    {
     "data": {
      "image/png": "[encoded data removed]",
      "text/plain": [
       "<Figure size 1152x201.6 with 5 Axes>"
      ]
     },
     "metadata": {
      "needs_background": "light"
     },
     "output_type": "display_data"
    },
    {
     "data": {
      "image/png": "[encoded data removed]",
      "text/plain": [
       "<Figure size 1152x201.6 with 5 Axes>"
      ]
     },
     "metadata": {
      "needs_background": "light"
     },
     "output_type": "display_data"
    }
   ],
   "source": [
    "# TODO: nos graficos de score (with e without) usar distribuições com o \n",
    "# mesmo numero de sentenças de pretos e brancos, homem e mulher, no momento, \n",
    "# nenhuma das formas considera um numero de amostras igual por genero e raça\n",
    "\n",
    "\n",
    "# analisa i a i de 5 em 5 categorias as categorias que são estatisticamente diferentes obtidas \n",
    "# na analise anterior e plota suas frequencias e seus scores\n",
    "# i = 0\n",
    "# i += 5\n",
    "# ploting_vars = ['number','percept','i', 'verb', 'discrep','interrog','focusfuture']\n",
    "# #list(experiments[experiments.feature.isin(relevant_categories_by_toxicity)].sort_values('pvalue').iloc[i:i+5].feature)\n",
    "\n",
    "ploting_vars = experiments[experiments.pvalue<0.01].feature\n",
    "plot_figsize = (16,2.8)\n",
    "\n",
    "plot_liwc_features(\n",
    "    liwc_df_norm, \n",
    "    ploting_vars=ploting_vars, \n",
    "    hue_order=['AA','WH'],\n",
    "    legend_labels = ['AA', 'WH'],\n",
    "    palette=['black','orange'], \n",
    "    plot_figsize=plot_figsize\n",
    ")\n",
    "plot_liwc_scored(\n",
    "    scores_liwc,\n",
    "    ploting_vars=ploting_vars, \n",
    "    scores=scores_liwc.columns,\n",
    "    comparative_behaviour='same_sz_sample',\n",
    "    plot_figsize=plot_figsize\n",
    ")\n",
    "\n",
    "# categorias interessantes: filler, tentat, affiliation, famale, you, motion, auxverb, quant, focuspast, ipron, percept, home, family, \n",
    "# differ, relativ, they, anger, drives, negemo, leisure, cogproc, risk, hear, affect, i, informal, anx, space, money, relig, spcial, sad,\n",
    "# posemo, see, sexual, cause, friend, power, ingest, focousfuture, body, death, bio, feel"
   ]
  },
  {
   "cell_type": "markdown",
   "metadata": {},
   "source": [
    "---"
   ]
  },
  {
   "cell_type": "markdown",
   "metadata": {},
   "source": [
    "# Avg. words per video"
   ]
  },
  {
   "cell_type": "code",
   "execution_count": 26,
   "metadata": {},
   "outputs": [
    {
     "data": {
      "text/html": [
       "<div>\n",
       "<style scoped>\n",
       "    .dataframe tbody tr th:only-of-type {\n",
       "        vertical-align: middle;\n",
       "    }\n",
       "\n",
       "    .dataframe tbody tr th {\n",
       "        vertical-align: top;\n",
       "    }\n",
       "\n",
       "    .dataframe thead th {\n",
       "        text-align: right;\n",
       "    }\n",
       "</style>\n",
       "<table border=\"1\" class=\"dataframe\">\n",
       "  <thead>\n",
       "    <tr style=\"text-align: right;\">\n",
       "      <th></th>\n",
       "      <th>len</th>\n",
       "    </tr>\n",
       "    <tr>\n",
       "      <th>group</th>\n",
       "      <th></th>\n",
       "    </tr>\n",
       "  </thead>\n",
       "  <tbody>\n",
       "    <tr>\n",
       "      <th>AA</th>\n",
       "      <td>695.904762</td>\n",
       "    </tr>\n",
       "    <tr>\n",
       "      <th>WH</th>\n",
       "      <td>583.372093</td>\n",
       "    </tr>\n",
       "  </tbody>\n",
       "</table>\n",
       "</div>"
      ],
      "text/plain": [
       "              len\n",
       "group            \n",
       "AA     695.904762\n",
       "WH     583.372093"
      ]
     },
     "execution_count": 26,
     "metadata": {},
     "output_type": "execute_result"
    }
   ],
   "source": [
    "scores_liwc.groupby(['file','group']).sum()[['len']].reset_index().groupby('group').mean()"
   ]
  },
  {
   "cell_type": "code",
   "execution_count": null,
   "metadata": {},
   "outputs": [],
   "source": []
  }
 ],
 "metadata": {
  "interpreter": {
   "hash": "716bd3ad375c41b9a51e5bdb0fea9e61f5f5b3cdf5599be47497d0ef2a02897b"
  },
  "kernelspec": {
   "display_name": "Python 3.10.4 ('fake')",
   "language": "python",
   "name": "python3"
  },
  "language_info": {
   "codemirror_mode": {
    "name": "ipython",
    "version": 3
   },
   "file_extension": ".py",
   "mimetype": "text/x-python",
   "name": "python",
   "nbconvert_exporter": "python",
   "pygments_lexer": "ipython3",
   "version": "3.10.4"
  }
 },
 "nbformat": 4,
 "nbformat_minor": 4
}
