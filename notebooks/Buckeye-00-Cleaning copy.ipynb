{
 "cells": [
  {
   "cell_type": "code",
   "execution_count": 1,
   "id": "14b5ce4d-eb2f-472f-8006-7889e2d028fc",
   "metadata": {},
   "outputs": [],
   "source": [
    "import pandas as pd\n",
    "import glob\n",
    "import yaml\n",
    "import matplotlib.pyplot as plt\n",
    "import numpy as np\n",
    "import seaborn as sns\n",
    "import warnings\n",
    "warnings.filterwarnings(\"ignore\", category=FutureWarning)"
   ]
  },
  {
   "cell_type": "code",
   "execution_count": 2,
   "id": "6fb1bbbf",
   "metadata": {},
   "outputs": [],
   "source": [
    "filepaths = yaml.safe_load(open(\"../config/filepaths.yaml\"))"
   ]
  },
  {
   "cell_type": "markdown",
   "id": "ca88b781-75e7-4f72-9393-b4163a745c4f",
   "metadata": {
    "tags": []
   },
   "source": [
    "# Manual \n",
    "https://buckeyecorpus.osu.edu/BuckeyeCorpusmanual.pdf"
   ]
  },
  {
   "cell_type": "code",
   "execution_count": 3,
   "id": "ce096735-8f6e-437a-a082-63a527e8c71b",
   "metadata": {},
   "outputs": [],
   "source": [
    "def get_sentences_df(file):\n",
    "    try:\n",
    "        s = open(file).read()\n",
    "        lines = s.split('\\n')\n",
    "        df = pd.DataFrame(lines, columns=['original'])\n",
    "        # df = pd.DataFrame(lines, columns=['sentence'])\n",
    "        # df['tags'] = df.sentence.str.split(' ').apply(lambda x: [w for w in x if '<' in w or '>' in w])\n",
    "        # df['original'] = df['sentence']\n",
    "        # df.sentence = df.sentence.apply(lambda x: \" \".join([w for w in x.split(' ') if '>' not in w and '<' not in w]))\n",
    "        df['part'] = file.split('/')[-1].split('.')[0]\n",
    "        return df\n",
    "    except:\n",
    "        print(file)"
   ]
  },
  {
   "cell_type": "code",
   "execution_count": 4,
   "id": "467031c6-8a2d-4d05-95b2-5b5a26612f38",
   "metadata": {},
   "outputs": [
    {
     "data": {
      "text/html": [
       "<div>\n",
       "<style scoped>\n",
       "    .dataframe tbody tr th:only-of-type {\n",
       "        vertical-align: middle;\n",
       "    }\n",
       "\n",
       "    .dataframe tbody tr th {\n",
       "        vertical-align: top;\n",
       "    }\n",
       "\n",
       "    .dataframe thead th {\n",
       "        text-align: right;\n",
       "    }\n",
       "</style>\n",
       "<table border=\"1\" class=\"dataframe\">\n",
       "  <thead>\n",
       "    <tr style=\"text-align: right;\">\n",
       "      <th></th>\n",
       "      <th>original</th>\n",
       "      <th>part</th>\n",
       "      <th>interviewed</th>\n",
       "    </tr>\n",
       "  </thead>\n",
       "  <tbody>\n",
       "    <tr>\n",
       "      <th>0</th>\n",
       "      <td>&lt;VOCNOISE&gt; &lt;SIL&gt; &lt;VOCNOISE&gt; &lt;VOCNOISE=brrr&gt; &lt;S...</td>\n",
       "      <td>s3502a</td>\n",
       "      <td>s35</td>\n",
       "    </tr>\n",
       "    <tr>\n",
       "      <th>1</th>\n",
       "      <td>yeah &lt;IVER&gt;</td>\n",
       "      <td>s3502a</td>\n",
       "      <td>s35</td>\n",
       "    </tr>\n",
       "    <tr>\n",
       "      <th>2</th>\n",
       "      <td>yeah it did and then she &lt;CUTOFF-tuh=?&gt; &lt;VOCNO...</td>\n",
       "      <td>s3502a</td>\n",
       "      <td>s35</td>\n",
       "    </tr>\n",
       "    <tr>\n",
       "      <th>3</th>\n",
       "      <td>they'd uh heard it all before and they &lt;UNKNOW...</td>\n",
       "      <td>s3502a</td>\n",
       "      <td>s35</td>\n",
       "    </tr>\n",
       "    <tr>\n",
       "      <th>4</th>\n",
       "      <td>&lt;VOCNOISE&gt; well i wasn't i was in &lt;CUTOFF-mana...</td>\n",
       "      <td>s3502a</td>\n",
       "      <td>s35</td>\n",
       "    </tr>\n",
       "  </tbody>\n",
       "</table>\n",
       "</div>"
      ],
      "text/plain": [
       "                                            original    part interviewed\n",
       "0  <VOCNOISE> <SIL> <VOCNOISE> <VOCNOISE=brrr> <S...  s3502a         s35\n",
       "1                                        yeah <IVER>  s3502a         s35\n",
       "2  yeah it did and then she <CUTOFF-tuh=?> <VOCNO...  s3502a         s35\n",
       "3  they'd uh heard it all before and they <UNKNOW...  s3502a         s35\n",
       "4  <VOCNOISE> well i wasn't i was in <CUTOFF-mana...  s3502a         s35"
      ]
     },
     "execution_count": 4,
     "metadata": {},
     "output_type": "execute_result"
    }
   ],
   "source": [
    "df = pd.DataFrame()\n",
    "for folder in glob.glob(filepaths['buckeye_original_textfiles']+'*'):\n",
    "    name = folder.split('/')[-1]\n",
    "    tmp = pd.concat([get_sentences_df(d) for d in glob.glob(folder+'/*.txt')])\n",
    "    tmp['interviewed'] = name\n",
    "    df = df.append(tmp)\n",
    "df = df.reset_index(drop=True)\n",
    "df.head()"
   ]
  },
  {
   "cell_type": "code",
   "execution_count": 5,
   "id": "8a17844e-0a43-46bb-b304-d31144eaedab",
   "metadata": {},
   "outputs": [],
   "source": [
    "def process_tags(s,SIL=True):\n",
    "    processed = []\n",
    "    exclude = False\n",
    "    for w in s.split(' '):\n",
    "        if exclude and '{E_THIRD_SPKR}' in w:\n",
    "            exclude = False\n",
    "            continue\n",
    "\n",
    "        if exclude:\n",
    "            continue\n",
    "\n",
    "        if '{B_THIRD_SPKR}' in w:\n",
    "            exclude = True\n",
    "            continue\n",
    "\n",
    "        if '{B_TRANS}' in w or '{E_TRANS}' in w:\n",
    "            continue\n",
    "\n",
    "        if '<' not in w:\n",
    "            processed.append(w)\n",
    "            continue\n",
    "\n",
    "        if 'EXCLUDE' in w or 'VOICE' in w or 'IVER' in w:\n",
    "            continue\n",
    "        \n",
    "        if 'SIL' in w and SIL:\n",
    "            processed.append(w)\n",
    "            continue\n",
    "        \n",
    "        if '-' in w:\n",
    "            if '=' not in w:            \n",
    "                tag_w = w.replace('>','').split('-')[-1]\n",
    "                tag_w = [i for i in tag_w.split('_')]\n",
    "                for i in tag_w:\n",
    "                    processed.append(i)\n",
    "                continue\n",
    "            else:\n",
    "                tag_w = w.replace('>','').split('-')[-1].split('=')[-1]\n",
    "                tag_w = [i for i in tag_w.split('_')]\n",
    "                for i in tag_w:\n",
    "                    processed.append(i)\n",
    "                continue\n",
    "        \n",
    "    processed = ' '.join(processed)\n",
    "    return processed"
   ]
  },
  {
   "cell_type": "code",
   "execution_count": 6,
   "id": "74dc0873-0688-4d0f-aa18-d5274e868ba2",
   "metadata": {},
   "outputs": [
    {
     "data": {
      "text/html": [
       "<div>\n",
       "<style scoped>\n",
       "    .dataframe tbody tr th:only-of-type {\n",
       "        vertical-align: middle;\n",
       "    }\n",
       "\n",
       "    .dataframe tbody tr th {\n",
       "        vertical-align: top;\n",
       "    }\n",
       "\n",
       "    .dataframe thead th {\n",
       "        text-align: right;\n",
       "    }\n",
       "</style>\n",
       "<table border=\"1\" class=\"dataframe\">\n",
       "  <thead>\n",
       "    <tr style=\"text-align: right;\">\n",
       "      <th></th>\n",
       "      <th>original</th>\n",
       "      <th>part</th>\n",
       "      <th>interviewed</th>\n",
       "      <th>sentence</th>\n",
       "    </tr>\n",
       "  </thead>\n",
       "  <tbody>\n",
       "    <tr>\n",
       "      <th>0</th>\n",
       "      <td>&lt;VOCNOISE&gt; &lt;SIL&gt; &lt;VOCNOISE&gt; &lt;VOCNOISE=brrr&gt; &lt;S...</td>\n",
       "      <td>s3502a</td>\n",
       "      <td>s35</td>\n",
       "      <td>she couldn't understand accept the fact that y...</td>\n",
       "    </tr>\n",
       "    <tr>\n",
       "      <th>1</th>\n",
       "      <td>yeah &lt;IVER&gt;</td>\n",
       "      <td>s3502a</td>\n",
       "      <td>s35</td>\n",
       "      <td>yeah</td>\n",
       "    </tr>\n",
       "    <tr>\n",
       "      <th>2</th>\n",
       "      <td>yeah it did and then she &lt;CUTOFF-tuh=?&gt; &lt;VOCNO...</td>\n",
       "      <td>s3502a</td>\n",
       "      <td>s35</td>\n",
       "      <td>yeah it did and then she ? but she was kind of...</td>\n",
       "    </tr>\n",
       "    <tr>\n",
       "      <th>3</th>\n",
       "      <td>they'd uh heard it all before and they &lt;UNKNOW...</td>\n",
       "      <td>s3502a</td>\n",
       "      <td>s35</td>\n",
       "      <td>they'd uh heard it all before and they some of...</td>\n",
       "    </tr>\n",
       "    <tr>\n",
       "      <th>4</th>\n",
       "      <td>&lt;VOCNOISE&gt; well i wasn't i was in &lt;CUTOFF-mana...</td>\n",
       "      <td>s3502a</td>\n",
       "      <td>s35</td>\n",
       "      <td>well i wasn't i was in management for about th...</td>\n",
       "    </tr>\n",
       "  </tbody>\n",
       "</table>\n",
       "</div>"
      ],
      "text/plain": [
       "                                            original    part interviewed  \\\n",
       "0  <VOCNOISE> <SIL> <VOCNOISE> <VOCNOISE=brrr> <S...  s3502a         s35   \n",
       "1                                        yeah <IVER>  s3502a         s35   \n",
       "2  yeah it did and then she <CUTOFF-tuh=?> <VOCNO...  s3502a         s35   \n",
       "3  they'd uh heard it all before and they <UNKNOW...  s3502a         s35   \n",
       "4  <VOCNOISE> well i wasn't i was in <CUTOFF-mana...  s3502a         s35   \n",
       "\n",
       "                                            sentence  \n",
       "0  she couldn't understand accept the fact that y...  \n",
       "1                                               yeah  \n",
       "2  yeah it did and then she ? but she was kind of...  \n",
       "3  they'd uh heard it all before and they some of...  \n",
       "4  well i wasn't i was in management for about th...  "
      ]
     },
     "execution_count": 6,
     "metadata": {},
     "output_type": "execute_result"
    }
   ],
   "source": [
    "df['sentence'] = df.original.apply(lambda x: process_tags(x,SIL=False))\n",
    "df.head()"
   ]
  },
  {
   "cell_type": "code",
   "execution_count": 7,
   "id": "d7fda02d-a759-472b-acec-9ee702b53b38",
   "metadata": {},
   "outputs": [
    {
     "data": {
      "text/plain": [
       "<AxesSubplot:>"
      ]
     },
     "execution_count": 7,
     "metadata": {},
     "output_type": "execute_result"
    },
    {
     "data": {
      "image/png": "[encoded data removed]",
      "text/plain": [
       "<Figure size 432x288 with 1 Axes>"
      ]
     },
     "metadata": {
      "needs_background": "light"
     },
     "output_type": "display_data"
    }
   ],
   "source": [
    "df.sentence.str.len().hist(bins=200)"
   ]
  },
  {
   "cell_type": "code",
   "execution_count": 9,
   "id": "1f32198c-c431-4b19-876f-22e167c2667e",
   "metadata": {},
   "outputs": [],
   "source": [
    "# PERSPECTIVE_MAX_LEN = 2999\n",
    "# df.loc[df.sentence.str.len()>PERSPECTIVE_MAX_LEN,'sentence'] = df.loc[df.sentence.str.len()>PERSPECTIVE_MAX_LEN,'original'].apply(lambda x: process_tags(x,SIL=True).split('<SIL>'))\n",
    "# df = df.explode('sentence').reset_index(drop=True)\n",
    "# print('len df:',len(df))\n",
    "# print('max len sentence',df.sentence.str.len().max())\n",
    "# df.sentence.str.len().hist(bins=200)\n",
    "# plt.show()\n"
   ]
  },
  {
   "cell_type": "code",
   "execution_count": 10,
   "id": "b30b03eb-20ed-40aa-b670-4eedd9fc3c61",
   "metadata": {},
   "outputs": [
    {
     "data": {
      "text/plain": [
       "3000"
      ]
     },
     "execution_count": 10,
     "metadata": {},
     "output_type": "execute_result"
    }
   ],
   "source": [
    "def cut_on_n(s,n=2999):\n",
    "    sentences = []\n",
    "    last_space = 0\n",
    "    last_cut = 0\n",
    "    count = 0\n",
    "    for i in range(len(s)):\n",
    "        if s[i] == ' ':\n",
    "            last_space = i\n",
    "        if i > count+n:\n",
    "            sentences.append(s[last_cut:last_space])\n",
    "            count += last_space - last_cut\n",
    "            last_cut = last_space+1 \n",
    "\n",
    "    sentences.append(s[last_cut:])\n",
    "\n",
    "    return sentences\n",
    "\n",
    "df.sentence = df.sentence.apply(lambda x: cut_on_n(x))\n",
    "df = df.explode('sentence').reset_index(drop=True)\n",
    "df.sentence.str.len().max()"
   ]
  },
  {
   "cell_type": "code",
   "execution_count": 11,
   "id": "14bf4967",
   "metadata": {},
   "outputs": [
    {
     "data": {
      "text/plain": [
       "<AxesSubplot:>"
      ]
     },
     "execution_count": 11,
     "metadata": {},
     "output_type": "execute_result"
    },
    {
     "data": {
      "image/png": "[encoded data removed]",
      "text/plain": [
       "<Figure size 432x288 with 1 Axes>"
      ]
     },
     "metadata": {
      "needs_background": "light"
     },
     "output_type": "display_data"
    }
   ],
   "source": [
    "df.sentence.str.len().hist(bins=200)"
   ]
  },
  {
   "cell_type": "code",
   "execution_count": 12,
   "id": "07eaf42a-b528-4986-b12a-31a0e50bcec0",
   "metadata": {},
   "outputs": [
    {
     "data": {
      "text/plain": [
       "array(['i', '?', 'I'], dtype=object)"
      ]
     },
     "execution_count": 12,
     "metadata": {},
     "output_type": "execute_result"
    }
   ],
   "source": [
    "df[df.sentence.str.len()==1].sentence.unique()"
   ]
  },
  {
   "cell_type": "code",
   "execution_count": 13,
   "id": "7e41ae92-ccf8-4701-9ff5-a4b06f537944",
   "metadata": {},
   "outputs": [
    {
     "data": {
      "text/html": [
       "<div>\n",
       "<style scoped>\n",
       "    .dataframe tbody tr th:only-of-type {\n",
       "        vertical-align: middle;\n",
       "    }\n",
       "\n",
       "    .dataframe tbody tr th {\n",
       "        vertical-align: top;\n",
       "    }\n",
       "\n",
       "    .dataframe thead th {\n",
       "        text-align: right;\n",
       "    }\n",
       "</style>\n",
       "<table border=\"1\" class=\"dataframe\">\n",
       "  <thead>\n",
       "    <tr style=\"text-align: right;\">\n",
       "      <th></th>\n",
       "      <th>original</th>\n",
       "      <th>part</th>\n",
       "      <th>interviewed</th>\n",
       "      <th>sentence</th>\n",
       "    </tr>\n",
       "  </thead>\n",
       "  <tbody>\n",
       "    <tr>\n",
       "      <th>0</th>\n",
       "      <td>&lt;VOCNOISE&gt; &lt;SIL&gt; &lt;VOCNOISE&gt; &lt;VOCNOISE=brrr&gt; &lt;S...</td>\n",
       "      <td>s3502a</td>\n",
       "      <td>s35</td>\n",
       "      <td>she couldn't understand accept the fact that y...</td>\n",
       "    </tr>\n",
       "    <tr>\n",
       "      <th>1</th>\n",
       "      <td>yeah &lt;IVER&gt;</td>\n",
       "      <td>s3502a</td>\n",
       "      <td>s35</td>\n",
       "      <td>yeah</td>\n",
       "    </tr>\n",
       "    <tr>\n",
       "      <th>2</th>\n",
       "      <td>yeah it did and then she &lt;CUTOFF-tuh=?&gt; &lt;VOCNO...</td>\n",
       "      <td>s3502a</td>\n",
       "      <td>s35</td>\n",
       "      <td>yeah it did and then she ? but she was kind of...</td>\n",
       "    </tr>\n",
       "    <tr>\n",
       "      <th>3</th>\n",
       "      <td>they'd uh heard it all before and they &lt;UNKNOW...</td>\n",
       "      <td>s3502a</td>\n",
       "      <td>s35</td>\n",
       "      <td>they'd uh heard it all before and they some of...</td>\n",
       "    </tr>\n",
       "    <tr>\n",
       "      <th>4</th>\n",
       "      <td>&lt;VOCNOISE&gt; well i wasn't i was in &lt;CUTOFF-mana...</td>\n",
       "      <td>s3502a</td>\n",
       "      <td>s35</td>\n",
       "      <td>well i wasn't i was in management for about th...</td>\n",
       "    </tr>\n",
       "    <tr>\n",
       "      <th>...</th>\n",
       "      <td>...</td>\n",
       "      <td>...</td>\n",
       "      <td>...</td>\n",
       "      <td>...</td>\n",
       "    </tr>\n",
       "    <tr>\n",
       "      <th>9192</th>\n",
       "      <td>really &lt;LAUGH&gt; &lt;IVER&gt;</td>\n",
       "      <td>s3701a</td>\n",
       "      <td>s37</td>\n",
       "      <td>really</td>\n",
       "    </tr>\n",
       "    <tr>\n",
       "      <th>9193</th>\n",
       "      <td>are they friendlier other than than the koalas...</td>\n",
       "      <td>s3701a</td>\n",
       "      <td>s37</td>\n",
       "      <td>are they friendlier other than than the koalas</td>\n",
       "    </tr>\n",
       "    <tr>\n",
       "      <th>9194</th>\n",
       "      <td>yeah can you go up and like feed them and &lt;IVER&gt;</td>\n",
       "      <td>s3701a</td>\n",
       "      <td>s37</td>\n",
       "      <td>yeah can you go up and like feed them and</td>\n",
       "    </tr>\n",
       "    <tr>\n",
       "      <th>9195</th>\n",
       "      <td>um-hum &lt;IVER&gt;</td>\n",
       "      <td>s3701a</td>\n",
       "      <td>s37</td>\n",
       "      <td>um-hum</td>\n",
       "    </tr>\n",
       "    <tr>\n",
       "      <th>9196</th>\n",
       "      <td>do you have like any friendly animals whatsoev...</td>\n",
       "      <td>s3701a</td>\n",
       "      <td>s37</td>\n",
       "      <td>do you have like any friendly animals whatsoev...</td>\n",
       "    </tr>\n",
       "  </tbody>\n",
       "</table>\n",
       "<p>9197 rows × 4 columns</p>\n",
       "</div>"
      ],
      "text/plain": [
       "                                               original    part interviewed  \\\n",
       "0     <VOCNOISE> <SIL> <VOCNOISE> <VOCNOISE=brrr> <S...  s3502a         s35   \n",
       "1                                           yeah <IVER>  s3502a         s35   \n",
       "2     yeah it did and then she <CUTOFF-tuh=?> <VOCNO...  s3502a         s35   \n",
       "3     they'd uh heard it all before and they <UNKNOW...  s3502a         s35   \n",
       "4     <VOCNOISE> well i wasn't i was in <CUTOFF-mana...  s3502a         s35   \n",
       "...                                                 ...     ...         ...   \n",
       "9192                              really <LAUGH> <IVER>  s3701a         s37   \n",
       "9193  are they friendlier other than than the koalas...  s3701a         s37   \n",
       "9194   yeah can you go up and like feed them and <IVER>  s3701a         s37   \n",
       "9195                                      um-hum <IVER>  s3701a         s37   \n",
       "9196  do you have like any friendly animals whatsoev...  s3701a         s37   \n",
       "\n",
       "                                               sentence  \n",
       "0     she couldn't understand accept the fact that y...  \n",
       "1                                                  yeah  \n",
       "2     yeah it did and then she ? but she was kind of...  \n",
       "3     they'd uh heard it all before and they some of...  \n",
       "4     well i wasn't i was in management for about th...  \n",
       "...                                                 ...  \n",
       "9192                                             really  \n",
       "9193     are they friendlier other than than the koalas  \n",
       "9194          yeah can you go up and like feed them and  \n",
       "9195                                             um-hum  \n",
       "9196  do you have like any friendly animals whatsoev...  \n",
       "\n",
       "[9197 rows x 4 columns]"
      ]
     },
     "execution_count": 13,
     "metadata": {},
     "output_type": "execute_result"
    }
   ],
   "source": [
    "filtred = df[df.sentence.str.len()>1].reset_index(drop=True)\n",
    "filtred"
   ]
  },
  {
   "cell_type": "code",
   "execution_count": 16,
   "id": "c8ad301a",
   "metadata": {},
   "outputs": [],
   "source": [
    "for i in filtred.interviewed.unique():\n",
    "    filtred[filtred.interviewed==i][['sentence']].rename(columns={'sentence':'text'}).to_csv(filepaths['buckeye_senteces']+i+'.csv',index=False)"
   ]
  }
 ],
 "metadata": {
  "interpreter": {
   "hash": "716bd3ad375c41b9a51e5bdb0fea9e61f5f5b3cdf5599be47497d0ef2a02897b"
  },
  "kernelspec": {
   "display_name": "Python 3.10.4 ('fake')",
   "language": "python",
   "name": "python3"
  },
  "language_info": {
   "codemirror_mode": {
    "name": "ipython",
    "version": 3
   },
   "file_extension": ".py",
   "mimetype": "text/x-python",
   "name": "python",
   "nbconvert_exporter": "python",
   "pygments_lexer": "ipython3",
   "version": "3.10.4"
  }
 },
 "nbformat": 4,
 "nbformat_minor": 5
}
