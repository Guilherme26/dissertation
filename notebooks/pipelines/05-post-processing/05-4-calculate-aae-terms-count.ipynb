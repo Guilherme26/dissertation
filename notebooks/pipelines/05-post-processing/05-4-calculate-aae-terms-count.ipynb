{
 "cells": [
  {
   "cell_type": "code",
   "execution_count": 1,
   "metadata": {},
   "outputs": [],
   "source": [
    "import sys\n",
    "import liwc\n",
    "import glob\n",
    "import os\n",
    "import pandas as pd\n",
    "import yaml\n",
    "\n",
    "from tqdm import tqdm\n",
    "\n",
    "sys.path.append(\"../../../utils\")\n",
    "from absolute_path_builder import AbsolutePathBuilder"
   ]
  },
  {
   "cell_type": "code",
   "execution_count": 2,
   "metadata": {},
   "outputs": [],
   "source": [
    "DATASET = \"twitter\"\n",
    "\n",
    "data_path = AbsolutePathBuilder.get_path(\n",
    "    f\"05_{DATASET}_features\",\n",
    "    filepaths=\"../../../config/filepaths.yaml\"\n",
    ")\n",
    "\n",
    "aae_terms_path = AbsolutePathBuilder.get_path(\n",
    "    \"00_aae_terms\",\n",
    "    filepaths=\"../../../config/filepaths.yaml\"\n",
    ")"
   ]
  },
  {
   "cell_type": "code",
   "execution_count": 3,
   "metadata": {},
   "outputs": [],
   "source": [
    "terms = yaml.safe_load(open(aae_terms_path))[\"terms\"]"
   ]
  },
  {
   "cell_type": "code",
   "execution_count": 4,
   "metadata": {},
   "outputs": [],
   "source": [
    "def count_selected_terms(sentence, terms):\n",
    "    count = 0\n",
    "    for token in sentence.split(' '):\n",
    "        if token in terms:\n",
    "            count += 1\n",
    "            \n",
    "    return count\n",
    "\n",
    "def calculate_aae_terms_count(input_path, terms):\n",
    "    filenames = [file.split(\"/\")[-1] for file in glob.glob(os.path.join(input_path, \"*\"))]\n",
    "    for file in tqdm(filenames):\n",
    "        df = pd.read_csv(os.path.join(input_path, file))\n",
    "        df[\"text_wo_punctuation\"] = df.text.str.replace(r\"[^\\w\\d'\\s]+\", '', regex=True)\n",
    "\n",
    "        df[\"AAE_TERMS_COUNT\"] = df.text_wo_punctuation.apply(lambda s: count_selected_terms(s, terms))\n",
    "\n",
    "        df.drop(columns=[\"text_wo_punctuation\"], inplace=True)\n",
    "        df.to_csv(os.path.join(input_path, file), index=False)    "
   ]
  },
  {
   "cell_type": "code",
   "execution_count": 5,
   "metadata": {},
   "outputs": [
    {
     "name": "stderr",
     "output_type": "stream",
     "text": [
      "100%|██████████████████████████████████████████████████████████████| 500/500 [00:01<00:00, 453.58it/s]\n"
     ]
    }
   ],
   "source": [
    "calculate_aae_terms_count(data_path, terms)"
   ]
  }
 ],
 "metadata": {
  "interpreter": {
   "hash": "716bd3ad375c41b9a51e5bdb0fea9e61f5f5b3cdf5599be47497d0ef2a02897b"
  },
  "kernelspec": {
   "display_name": "Python 3 (ipykernel)",
   "language": "python",
   "name": "python3"
  },
  "language_info": {
   "codemirror_mode": {
    "name": "ipython",
    "version": 3
   },
   "file_extension": ".py",
   "mimetype": "text/x-python",
   "name": "python",
   "nbconvert_exporter": "python",
   "pygments_lexer": "ipython3",
   "version": "3.8.10"
  }
 },
 "nbformat": 4,
 "nbformat_minor": 2
}
