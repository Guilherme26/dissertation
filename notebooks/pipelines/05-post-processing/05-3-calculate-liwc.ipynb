{
 "cells": [
  {
   "cell_type": "markdown",
   "metadata": {},
   "source": [
    "### Quick Description\n",
    "\n",
    "This notebook calculates the LIWC categories for each sentence within a document. We count the frequency of each category in a sentence, and save the count vector as features.\n",
    "\n",
    "In case of doubt, read [LIWC 2007 Manual](https://www.liwc.net/LIWC2007LanguageManual.pdf) and/or [LIWC 2015 Manual](https://repositories.lib.utexas.edu/bitstream/handle/2152/31333/LIWC2015_LanguageManual.pdf])."
   ]
  },
  {
   "cell_type": "code",
   "execution_count": 1,
   "metadata": {},
   "outputs": [],
   "source": [
    "import sys\n",
    "import liwc\n",
    "import glob\n",
    "import os\n",
    "import pandas as pd\n",
    "import yaml\n",
    "\n",
    "from collections import Counter\n",
    "from tqdm import tqdm\n",
    "\n",
    "sys.path.append(\"../../../utils\")\n",
    "from absolute_path_builder import AbsolutePathBuilder"
   ]
  },
  {
   "cell_type": "code",
   "execution_count": 2,
   "metadata": {},
   "outputs": [],
   "source": [
    "DATASET = \"twitter\"\n",
    "\n",
    "data_path = AbsolutePathBuilder.get_path(\n",
    "    f\"05_{DATASET}_features\",\n",
    "    filepaths=\"../../../config/filepaths.yaml\"\n",
    ")\n",
    "\n",
    "liwc_path = AbsolutePathBuilder.get_path(\n",
    "    \"00_liwc_dict\",\n",
    "    filepaths=\"../../../config/filepaths.yaml\"\n",
    ")\n",
    "\n",
    "cols_to_remove = yaml.safe_load(\n",
    "    open(\n",
    "        AbsolutePathBuilder.get_path(\n",
    "            f\"00_cols_to_remove\",\n",
    "            filepaths=\"../../../config/filepaths.yaml\"\n",
    "        )\n",
    "    )\n",
    ")[\"cols_to_remove\"]"
   ]
  },
  {
   "cell_type": "code",
   "execution_count": 3,
   "metadata": {},
   "outputs": [],
   "source": [
    "def calculate_liwc_features(input_path, liwc_path, cols_to_remove):\n",
    "    parser, category_names = liwc.load_token_parser(liwc_path)\n",
    "    \n",
    "    filenames = [file.split(\"/\")[-1] for file in glob.glob(os.path.join(input_path, \"*\"))]\n",
    "    for file in tqdm(filenames):\n",
    "        df = pd.read_csv(os.path.join(input_path, file))\n",
    "        df[\"text_wo_punctuation\"] = df.text.str.replace(r\"[^\\w\\d'\\s]+\", '', regex=True)\n",
    "\n",
    "        df_liwc = (\n",
    "            pd.DataFrame(\n",
    "                df.text.apply(\n",
    "                    lambda s: Counter([category for token in s.split(' ') for category in parser(token)])\n",
    "                ).values\n",
    "                .tolist()\n",
    "            ).fillna(0)\n",
    "        )\n",
    "\n",
    "        df_liwc.columns = [f\"LIWC_{col.upper()}\" for col in df_liwc.columns]\n",
    "        cols_to_remove = set(cols_to_remove).intersection(df_liwc.columns)\n",
    "        df_liwc.drop(columns=cols_to_remove, inplace=True)\n",
    "\n",
    "        df_liwc = df_liwc.div(df_liwc.sum(axis=1), axis=0)\n",
    "        \n",
    "        df = pd.concat([df, df_liwc], axis=1)\n",
    "        df.drop(columns=[\"text_wo_punctuation\"], inplace=True)\n",
    "\n",
    "        df.to_csv(os.path.join(input_path, file), index=False)"
   ]
  },
  {
   "cell_type": "code",
   "execution_count": 4,
   "metadata": {},
   "outputs": [
    {
     "name": "stderr",
     "output_type": "stream",
     "text": [
      "100%|██████████████████████████████████████████████████████████████| 500/500 [00:01<00:00, 330.65it/s]\n"
     ]
    }
   ],
   "source": [
    "calculate_liwc_features(data_path, liwc_path, cols_to_remove)"
   ]
  }
 ],
 "metadata": {
  "interpreter": {
   "hash": "716bd3ad375c41b9a51e5bdb0fea9e61f5f5b3cdf5599be47497d0ef2a02897b"
  },
  "kernelspec": {
   "display_name": "Python 3 (ipykernel)",
   "language": "python",
   "name": "python3"
  },
  "language_info": {
   "codemirror_mode": {
    "name": "ipython",
    "version": 3
   },
   "file_extension": ".py",
   "mimetype": "text/x-python",
   "name": "python",
   "nbconvert_exporter": "python",
   "pygments_lexer": "ipython3",
   "version": "3.8.10"
  }
 },
 "nbformat": 4,
 "nbformat_minor": 4
}
