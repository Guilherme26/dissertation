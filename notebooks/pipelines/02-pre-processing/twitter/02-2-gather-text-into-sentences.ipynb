{
 "cells": [
  {
   "cell_type": "markdown",
   "id": "00171ce6",
   "metadata": {},
   "source": [
    "## Quick Description\n",
    "\n",
    "Each file will represent a Twitter post. However, before the execution of this notebook, the post is splitted with a word (and its part of speech features) per row."
   ]
  },
  {
   "cell_type": "code",
   "execution_count": 1,
   "id": "338964e1",
   "metadata": {},
   "outputs": [],
   "source": [
    "import pandas as pd\n",
    "import yaml\n",
    "import glob\n",
    "import os"
   ]
  },
  {
   "cell_type": "code",
   "execution_count": 2,
   "id": "ed923948",
   "metadata": {},
   "outputs": [],
   "source": [
    "filepaths = yaml.load(open(\"/home/guilherme/Desktop/dissertation/config/filepaths.yaml\"), Loader=yaml.FullLoader)"
   ]
  },
  {
   "cell_type": "code",
   "execution_count": 3,
   "id": "73ae7d27",
   "metadata": {},
   "outputs": [],
   "source": [
    "filenames = [file.split(\"/\")[-1] for file in glob.glob(os.path.join(filepaths[\"02_twitter_preprocessed\"], \"*\"))]"
   ]
  },
  {
   "cell_type": "code",
   "execution_count": 4,
   "id": "5ea471cc",
   "metadata": {},
   "outputs": [],
   "source": [
    "for filename in filenames:\n",
    "    df = pd.read_csv(os.path.join(filepaths[\"02_twitter_preprocessed\"], filename))\n",
    "    \n",
    "    # If `null` appears in the text, the reading functions will recognize it as None\n",
    "    df[\"form\"] = df.form.fillna('null')\n",
    "    \n",
    "    sentence = ' '.join(df.form.values)\n",
    "    sentence = sentence.replace(\"ATMENTION\", \"@user\")\n",
    "    sentence = sentence.replace(\"EMOJI\", '')\n",
    "    \n",
    "    df = pd.DataFrame([sentence], columns=[\"text\"])\n",
    "    df.to_csv(os.path.join(filepaths[\"03_twitter_segmented\"], filename), index=False)"
   ]
  },
  {
   "cell_type": "code",
   "execution_count": null,
   "id": "e21240a8",
   "metadata": {},
   "outputs": [],
   "source": []
  }
 ],
 "metadata": {
  "kernelspec": {
   "display_name": "Python 3 (ipykernel)",
   "language": "python",
   "name": "python3"
  },
  "language_info": {
   "codemirror_mode": {
    "name": "ipython",
    "version": 3
   },
   "file_extension": ".py",
   "mimetype": "text/x-python",
   "name": "python",
   "nbconvert_exporter": "python",
   "pygments_lexer": "ipython3",
   "version": "3.8.10"
  }
 },
 "nbformat": 4,
 "nbformat_minor": 5
}
