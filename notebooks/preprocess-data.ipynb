{
 "cells": [
  {
   "cell_type": "markdown",
   "metadata": {},
   "source": [
    "Execution pipeline:\n",
    "    - List all videos to be downloaded\n",
    "        - ID: int\n",
    "        - Group = [Black, White, Men, Women] : str\n",
    "        - Movie: str\n",
    "        - URL: str\n",
    "        - Has English Subtitles: [True, False] : bool\n",
    "    - Download all videos (YouTube-dl)\n",
    "    - Preprocess the subtitle file\n",
    "        - Remove the timestamps\n",
    "        - Process the sentences so they don't lose the intended meaning\n",
    "    - Rename the videos to their ID and group names"
   ]
  }
 ],
 "metadata": {
  "kernelspec": {
   "display_name": "Python 3",
   "language": "python",
   "name": "python3"
  },
  "language_info": {
   "codemirror_mode": {
    "name": "ipython",
    "version": 3
   },
   "file_extension": ".py",
   "mimetype": "text/x-python",
   "name": "python",
   "nbconvert_exporter": "python",
   "pygments_lexer": "ipython3",
   "version": "3.7.6"
  }
 },
 "nbformat": 4,
 "nbformat_minor": 4
}
