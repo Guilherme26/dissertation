{
 "cells": [
  {
   "cell_type": "code",
   "execution_count": 15,
   "metadata": {},
   "outputs": [],
   "source": [
    "import tensorflow as tf\n",
    "import numpy as np"
   ]
  },
  {
   "cell_type": "markdown",
   "metadata": {},
   "source": [
    "Need to insert the vectorizer"
   ]
  },
  {
   "cell_type": "code",
   "execution_count": 16,
   "metadata": {},
   "outputs": [],
   "source": [
    "class Segmenter():\n",
    "    def __init__(self, model_path=\"../data/models/GloVe_w_LSTM\", max_tokens=200):\n",
    "        self.model = tf.saved_model.load(model_path)\n",
    "        self.max_tokens = max_tokens\n",
    "        \n",
    "\n",
    "    def predict(self, X):\n",
    "        preds = []\n",
    "        if X.shape[0] < self.max_tokens:\n",
    "            preds = (self.mode.predict(X) > 0.5)\n",
    "        \n",
    "        i = 0\n",
    "        while i < X.shape[0]:\n",
    "            x_sliced = X[i:i + self.max_tokens]\n",
    "            partial_preds = self.model.predict(x_sliced)\n",
    "            partial_preds = (partial_preds > 0.5)\n",
    "            \n",
    "            punctuations = np.argwhere(partial_preds == 1).reshape(-1)\n",
    "            if len(punctuations) == 0:\n",
    "                print(\"Something bad happenned.\")\n",
    "                last_punctuation = self.max_token\n",
    "            else:\n",
    "                last_punctuation = punctuations[-1]\n",
    "            \n",
    "            # Adds only the text until the last punctuation, because\n",
    "            # otherwise the next phrase will lack the entire context\n",
    "            preds.append(partial_preds[:last_punctuation])\n",
    "            \n",
    "            i += last_punctuation\n",
    "        \n",
    "        return np.argwhere(partial_preds == 1).reshape(-1)\n",
    "    \n",
    "    def segment(self, X, punctuations):\n",
    "        sentences = []\n",
    "        \n",
    "        # That is, there is no dot after the last token\n",
    "        if punctuations[-1] != len(X):\n",
    "            punctuations.append(len(X))\n",
    "\n",
    "        for i in range(1, len(punctuations)):\n",
    "            left = punctuations[i-1]\n",
    "            right = punctuations[i]\n",
    "            \n",
    "            sentences.append(X[left:right])\n",
    "        \n",
    "        return sentences"
   ]
  },
  {
   "cell_type": "code",
   "execution_count": 17,
   "metadata": {},
   "outputs": [],
   "source": [
    "segmenter = Segmenter()"
   ]
  },
  {
   "cell_type": "code",
   "execution_count": null,
   "metadata": {},
   "outputs": [],
   "source": [
    "segmenter.predict()"
   ]
  }
 ],
 "metadata": {
  "kernelspec": {
   "display_name": "Python 3",
   "language": "python",
   "name": "python3"
  },
  "language_info": {
   "codemirror_mode": {
    "name": "ipython",
    "version": 3
   },
   "file_extension": ".py",
   "mimetype": "text/x-python",
   "name": "python",
   "nbconvert_exporter": "python",
   "pygments_lexer": "ipython3",
   "version": "3.7.6"
  }
 },
 "nbformat": 4,
 "nbformat_minor": 4
}
