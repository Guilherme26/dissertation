{
 "cells": [
  {
   "cell_type": "code",
   "execution_count": 1,
   "metadata": {},
   "outputs": [],
   "source": [
    "import pandas as pd\n",
    "import subprocess\n",
    "import logging\n",
    "\n",
    "from tqdm import tqdm"
   ]
  },
  {
   "cell_type": "code",
   "execution_count": 2,
   "metadata": {},
   "outputs": [
    {
     "name": "stderr",
     "output_type": "stream",
     "text": [
      "100%|███████████████████████████████████████████| 11/11 [00:18<00:00,  1.69s/it]\n"
     ]
    }
   ],
   "source": [
    "download_desc_file = \"../data/download_descriptions.json\"\n",
    "\n",
    "df = pd.read_json(download_desc_file)\n",
    "for i, row in tqdm(df.iterrows(), total=len(df)):\n",
    "    if row[\"has-en-sub\"]:\n",
    "        command = f\"youtube-dl -o ../data/00_raw/{i} --write-sub --sub-lang=en --skip-download {row.url}\".split()\n",
    "    else:\n",
    "        command = f\"youtube-dl -o ../data/00_raw/{i} --write-auto-sub --skip-download {row.url}\".split()\n",
    "    \n",
    "    response = subprocess.run(command, capture_output=True)\n",
    "    if response.returncode != 0:\n",
    "        logging.error(f\"Error while downloading the {i}-th video. \\n {response.stderr}\")"
   ]
  },
  {
   "cell_type": "code",
   "execution_count": null,
   "metadata": {},
   "outputs": [],
   "source": []
  }
 ],
 "metadata": {
  "kernelspec": {
   "display_name": "Python 3",
   "language": "python",
   "name": "python3"
  },
  "language_info": {
   "codemirror_mode": {
    "name": "ipython",
    "version": 3
   },
   "file_extension": ".py",
   "mimetype": "text/x-python",
   "name": "python",
   "nbconvert_exporter": "python",
   "pygments_lexer": "ipython3",
   "version": "3.7.6"
  }
 },
 "nbformat": 4,
 "nbformat_minor": 4
}
