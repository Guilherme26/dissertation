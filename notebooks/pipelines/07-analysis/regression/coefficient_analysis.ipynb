{
 "cells": [
  {
   "cell_type": "code",
   "execution_count": 1,
   "id": "208da003",
   "metadata": {},
   "outputs": [],
   "source": [
    "import pandas as pd\n",
    "import sys\n",
    "import glob\n",
    "import os\n",
    "\n",
    "from tqdm import tqdm\n",
    "\n",
    "sys.path.append(\"../../../../utils\")\n",
    "from absolute_path_builder import AbsolutePathBuilder"
   ]
  },
  {
   "cell_type": "code",
   "execution_count": 2,
   "id": "060e9142",
   "metadata": {},
   "outputs": [],
   "source": [
    "SCORE_MODEL = \"flair\"\n",
    "\n",
    "youtube_path = AbsolutePathBuilder.get_path(\n",
    "    f\"06_youtube_regression\",\n",
    "    filepaths=\"../../../../config/filepaths.yaml\"\n",
    ")\n",
    "\n",
    "coraal_vs_buckeye_path = AbsolutePathBuilder.get_path(\n",
    "    f\"06_coraal_vs_buckeye_regression\",\n",
    "    filepaths=\"../../../../config/filepaths.yaml\"\n",
    ")\n",
    "\n",
    "twitter_path = AbsolutePathBuilder.get_path(\n",
    "    f\"06_twitter_regression\",\n",
    "    filepaths=\"../../../../config/filepaths.yaml\"\n",
    ")"
   ]
  },
  {
   "cell_type": "code",
   "execution_count": 10,
   "id": "63ff6391",
   "metadata": {},
   "outputs": [],
   "source": [
    "dfs = []\n",
    "\n",
    "i = 0\n",
    "for input_path in [\n",
    "    youtube_path,\n",
    "    coraal_vs_buckeye_path,\n",
    "    twitter_path\n",
    "]:\n",
    "    df = pd.read_csv(os.path.join(input_path, f\"{SCORE_MODEL}_score_coefs.csv\"))\n",
    "    df[\"base\"] = i\n",
    "    dfs.append(df)\n",
    "    \n",
    "    i += 1\n",
    "    \n",
    "df = pd.concat(dfs)"
   ]
  },
  {
   "cell_type": "code",
   "execution_count": 11,
   "id": "41a3f725",
   "metadata": {},
   "outputs": [],
   "source": [
    "pd.set_option('display.max_rows', None)"
   ]
  },
  {
   "cell_type": "code",
   "execution_count": 13,
   "id": "bfec69a2",
   "metadata": {},
   "outputs": [
    {
     "data": {
      "text/plain": [
       "(195, 4)"
      ]
     },
     "execution_count": 13,
     "metadata": {},
     "output_type": "execute_result"
    }
   ],
   "source": [
    "cols = df[df.pvalue < 0.01].column.unique()\n",
    "\n",
    "df[df.column.isin(cols)].sort_values(\"column\").shape"
   ]
  },
  {
   "cell_type": "code",
   "execution_count": 7,
   "id": "380b6dca",
   "metadata": {},
   "outputs": [],
   "source": [
    "df = df.groupby(\"column\", as_index=False).mean()"
   ]
  },
  {
   "cell_type": "code",
   "execution_count": 8,
   "id": "ebf9c6a3",
   "metadata": {},
   "outputs": [
    {
     "data": {
      "text/html": [
       "<div>\n",
       "<style scoped>\n",
       "    .dataframe tbody tr th:only-of-type {\n",
       "        vertical-align: middle;\n",
       "    }\n",
       "\n",
       "    .dataframe tbody tr th {\n",
       "        vertical-align: top;\n",
       "    }\n",
       "\n",
       "    .dataframe thead th {\n",
       "        text-align: right;\n",
       "    }\n",
       "</style>\n",
       "<table border=\"1\" class=\"dataframe\">\n",
       "  <thead>\n",
       "    <tr style=\"text-align: right;\">\n",
       "      <th></th>\n",
       "      <th>column</th>\n",
       "      <th>pvalue</th>\n",
       "      <th>coef</th>\n",
       "      <th>base</th>\n",
       "    </tr>\n",
       "  </thead>\n",
       "  <tbody>\n",
       "    <tr>\n",
       "      <th>11</th>\n",
       "      <td>LIWC_BIO</td>\n",
       "      <td>0.000258</td>\n",
       "      <td>-10.953950</td>\n",
       "      <td>1.0</td>\n",
       "    </tr>\n",
       "    <tr>\n",
       "      <th>12</th>\n",
       "      <td>LIWC_BODY</td>\n",
       "      <td>0.000354</td>\n",
       "      <td>6.866180</td>\n",
       "      <td>1.0</td>\n",
       "    </tr>\n",
       "    <tr>\n",
       "      <th>14</th>\n",
       "      <td>LIWC_CERTAIN</td>\n",
       "      <td>0.006554</td>\n",
       "      <td>-2.300069</td>\n",
       "      <td>1.0</td>\n",
       "    </tr>\n",
       "    <tr>\n",
       "      <th>28</th>\n",
       "      <td>LIWC_FOCUSPRESENT</td>\n",
       "      <td>0.023617</td>\n",
       "      <td>-3.220721</td>\n",
       "      <td>1.0</td>\n",
       "    </tr>\n",
       "    <tr>\n",
       "      <th>31</th>\n",
       "      <td>LIWC_HEALTH</td>\n",
       "      <td>0.000516</td>\n",
       "      <td>6.909265</td>\n",
       "      <td>1.0</td>\n",
       "    </tr>\n",
       "    <tr>\n",
       "      <th>36</th>\n",
       "      <td>LIWC_INGEST</td>\n",
       "      <td>0.004162</td>\n",
       "      <td>8.859609</td>\n",
       "      <td>1.0</td>\n",
       "    </tr>\n",
       "    <tr>\n",
       "      <th>41</th>\n",
       "      <td>LIWC_MALE</td>\n",
       "      <td>0.026650</td>\n",
       "      <td>0.212332</td>\n",
       "      <td>1.0</td>\n",
       "    </tr>\n",
       "    <tr>\n",
       "      <th>44</th>\n",
       "      <td>LIWC_NEGATE</td>\n",
       "      <td>0.005302</td>\n",
       "      <td>7.181092</td>\n",
       "      <td>1.0</td>\n",
       "    </tr>\n",
       "    <tr>\n",
       "      <th>62</th>\n",
       "      <td>LIWC_SEXUAL</td>\n",
       "      <td>0.000190</td>\n",
       "      <td>6.201504</td>\n",
       "      <td>1.0</td>\n",
       "    </tr>\n",
       "    <tr>\n",
       "      <th>70</th>\n",
       "      <td>LIWC_VERB</td>\n",
       "      <td>0.015549</td>\n",
       "      <td>3.851578</td>\n",
       "      <td>1.0</td>\n",
       "    </tr>\n",
       "  </tbody>\n",
       "</table>\n",
       "</div>"
      ],
      "text/plain": [
       "               column    pvalue       coef  base\n",
       "11           LIWC_BIO  0.000258 -10.953950   1.0\n",
       "12          LIWC_BODY  0.000354   6.866180   1.0\n",
       "14       LIWC_CERTAIN  0.006554  -2.300069   1.0\n",
       "28  LIWC_FOCUSPRESENT  0.023617  -3.220721   1.0\n",
       "31        LIWC_HEALTH  0.000516   6.909265   1.0\n",
       "36        LIWC_INGEST  0.004162   8.859609   1.0\n",
       "41          LIWC_MALE  0.026650   0.212332   1.0\n",
       "44        LIWC_NEGATE  0.005302   7.181092   1.0\n",
       "62        LIWC_SEXUAL  0.000190   6.201504   1.0\n",
       "70          LIWC_VERB  0.015549   3.851578   1.0"
      ]
     },
     "execution_count": 8,
     "metadata": {},
     "output_type": "execute_result"
    }
   ],
   "source": [
    "df[df.pvalue < 0.05]"
   ]
  },
  {
   "cell_type": "code",
   "execution_count": null,
   "id": "9079e4f1",
   "metadata": {},
   "outputs": [],
   "source": []
  }
 ],
 "metadata": {
  "kernelspec": {
   "display_name": "Python 3 (ipykernel)",
   "language": "python",
   "name": "python3"
  },
  "language_info": {
   "codemirror_mode": {
    "name": "ipython",
    "version": 3
   },
   "file_extension": ".py",
   "mimetype": "text/x-python",
   "name": "python",
   "nbconvert_exporter": "python",
   "pygments_lexer": "ipython3",
   "version": "3.8.10"
  }
 },
 "nbformat": 4,
 "nbformat_minor": 5
}
