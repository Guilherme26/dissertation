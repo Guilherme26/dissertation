{
 "cells": [
  {
   "cell_type": "markdown",
   "metadata": {},
   "source": [
    "### Quick Description\n",
    "\n",
    "This notebook calculates the POS Tagging categories for each sentence within a document. We count the frequency of each category in a sentence, and save the count vector as features."
   ]
  },
  {
   "cell_type": "code",
   "execution_count": 1,
   "metadata": {},
   "outputs": [
    {
     "name": "stderr",
     "output_type": "stream",
     "text": [
      "2022-08-13 15:55:31.828621: I tensorflow/core/util/util.cc:169] oneDNN custom operations are on. You may see slightly different numerical results due to floating-point round-off errors from different computation orders. To turn them off, set the environment variable `TF_ENABLE_ONEDNN_OPTS=0`.\n",
      "2022-08-13 15:55:31.831186: W tensorflow/stream_executor/platform/default/dso_loader.cc:64] Could not load dynamic library 'libcudart.so.11.0'; dlerror: libcudart.so.11.0: cannot open shared object file: No such file or directory\n",
      "2022-08-13 15:55:31.831194: I tensorflow/stream_executor/cuda/cudart_stub.cc:29] Ignore above cudart dlerror if you do not have a GPU set up on your machine.\n",
      "2022-08-13 15:55:36.706558: E tensorflow/stream_executor/cuda/cuda_driver.cc:271] failed call to cuInit: CUDA_ERROR_NO_DEVICE: no CUDA-capable device is detected\n",
      "2022-08-13 15:55:36.706606: I tensorflow/stream_executor/cuda/cuda_diagnostics.cc:156] kernel driver does not appear to be running on this host (guilherme-Vostro-15-5510): /proc/driver/nvidia/version does not exist\n"
     ]
    }
   ],
   "source": [
    "import pandas as pd\n",
    "import spacy\n",
    "import yaml\n",
    "import glob\n",
    "import os\n",
    "import sys\n",
    "\n",
    "from tqdm import tqdm\n",
    "from collections import Counter\n",
    "\n",
    "sys.path.append(\"../../../utils\")\n",
    "from absolute_path_builder import AbsolutePathBuilder"
   ]
  },
  {
   "cell_type": "code",
   "execution_count": 2,
   "metadata": {},
   "outputs": [],
   "source": [
    "DATASET = \"twitter\"\n",
    "\n",
    "input_path = AbsolutePathBuilder.get_path(\n",
    "    f\"04_{DATASET}_scored\",\n",
    "    filepaths=\"../../../config/filepaths.yaml\"\n",
    ")\n",
    "\n",
    "output_path = AbsolutePathBuilder.get_path(\n",
    "    f\"05_{DATASET}_features\",\n",
    "    filepaths=\"../../../config/filepaths.yaml\"\n",
    ")"
   ]
  },
  {
   "cell_type": "code",
   "execution_count": 3,
   "metadata": {},
   "outputs": [],
   "source": [
    "def calculate_pos_tag(input_path, output_path):\n",
    "    pos_tagger = spacy.load(\"en_core_web_sm\")\n",
    "    \n",
    "    filenames = [file.split(\"/\")[-1] for file in glob.glob(os.path.join(input_path, \"*\"))]    \n",
    "    for file in tqdm(filenames):\n",
    "        df = pd.read_csv(os.path.join(input_path, file))\n",
    "\n",
    "        df_pos = (\n",
    "            pd.DataFrame(\n",
    "                df.text.apply(\n",
    "                    lambda s: dict(Counter([token.pos_ for token in pos_tagger(s)]))\n",
    "                ).values\n",
    "                .tolist()\n",
    "            ).fillna(0)\n",
    "        )\n",
    "\n",
    "        df_pos.columns = [f\"POS_{col}\" for col in df_pos.columns]\n",
    "\n",
    "        df = pd.concat([df, df_pos], axis=1)\n",
    "        df.to_csv(os.path.join(output_path, file), index=False)"
   ]
  },
  {
   "cell_type": "code",
   "execution_count": 4,
   "metadata": {},
   "outputs": [
    {
     "name": "stderr",
     "output_type": "stream",
     "text": [
      "100%|██████████████████████████████████████████████████████████████| 500/500 [00:02<00:00, 171.63it/s]\n"
     ]
    }
   ],
   "source": [
    "calculate_pos_tag(input_path, output_path)"
   ]
  },
  {
   "cell_type": "code",
   "execution_count": null,
   "metadata": {},
   "outputs": [],
   "source": []
  }
 ],
 "metadata": {
  "interpreter": {
   "hash": "716bd3ad375c41b9a51e5bdb0fea9e61f5f5b3cdf5599be47497d0ef2a02897b"
  },
  "kernelspec": {
   "display_name": "Python 3 (ipykernel)",
   "language": "python",
   "name": "python3"
  },
  "language_info": {
   "codemirror_mode": {
    "name": "ipython",
    "version": 3
   },
   "file_extension": ".py",
   "mimetype": "text/x-python",
   "name": "python",
   "nbconvert_exporter": "python",
   "pygments_lexer": "ipython3",
   "version": "3.8.10"
  }
 },
 "nbformat": 4,
 "nbformat_minor": 2
}
