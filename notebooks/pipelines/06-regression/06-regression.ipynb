{
 "cells": [
  {
   "cell_type": "code",
   "execution_count": null,
   "id": "607d7980",
   "metadata": {},
   "outputs": [],
   "source": [
    "import numpy as np\n",
    "import sys\n",
    "import glob\n",
    "import os\n",
    "import pandas as pd\n",
    "\n",
    "from statsmodels.discrete.discrete_model import Logit\n",
    "from tqdm import tqdm\n",
    "from sklearn.preprocessing import MinMaxScaler\n",
    "from sklearn.model_selection import train_test_split\n",
    "\n",
    "sys.path.append(\"../../../utils\")\n",
    "from absolute_path_builder import AbsolutePathBuilder"
   ]
  },
  {
   "cell_type": "code",
   "execution_count": null,
   "id": "05d7c1f3",
   "metadata": {},
   "outputs": [],
   "source": [
    "np.random.seed(1007)\n",
    "\n",
    "DATASET = \"youtube\"\n",
    "SCORE_MODEL = \"perspective_score\""
   ]
  },
  {
   "cell_type": "code",
   "execution_count": null,
   "id": "dfe43b9c",
   "metadata": {},
   "outputs": [],
   "source": [
    "data_path = AbsolutePathBuilder.get_path(\n",
    "    f\"05_{DATASET}_features\",\n",
    "    filepaths=\"../../../config/filepaths.yaml\"\n",
    ")"
   ]
  },
  {
   "cell_type": "markdown",
   "id": "405b4f50",
   "metadata": {},
   "source": [
    "---\n",
    "### Concatenate every intermediate file"
   ]
  },
  {
   "cell_type": "code",
   "execution_count": null,
   "id": "690bf4da",
   "metadata": {},
   "outputs": [],
   "source": [
    "dfs = []\n",
    "\n",
    "filenames = [file.split(\"/\")[-1] for file in glob.glob(os.path.join(data_path, \"*\"))]\n",
    "for file in tqdm(filenames):\n",
    "    dfs.append(pd.read_csv(os.path.join(data_path, file)))\n",
    "    \n",
    "df = pd.concat(dfs).reset_index(drop=True)\n",
    "df = df.fillna(0)"
   ]
  },
  {
   "cell_type": "markdown",
   "id": "67592489",
   "metadata": {},
   "source": [
    "---\n",
    "### Build a list with the columns to use"
   ]
  },
  {
   "cell_type": "code",
   "execution_count": null,
   "id": "9a05739b",
   "metadata": {},
   "outputs": [],
   "source": [
    "liwc_cols = df.columns[df.columns.str.contains(\"LIWC\")].tolist()\n",
    "pos_cols = df.columns[df.columns.str.contains(\"POS\")].tolist()\n",
    "\n",
    "use_cols = liwc_cols + pos_cols + [\"AAE_TERMS_COUNT\"]"
   ]
  },
  {
   "cell_type": "code",
   "execution_count": null,
   "id": "b7448efb",
   "metadata": {},
   "outputs": [],
   "source": [
    "df[\"intercept\"] = 1\n",
    "df[\"race\"] = df.race.apply(lambda race: -1 if race==\"White\" else 1)\n",
    "\n",
    "df.race.value_counts()"
   ]
  },
  {
   "cell_type": "markdown",
   "id": "fdb32e7c",
   "metadata": {},
   "source": [
    "---\n",
    "### Rescale data"
   ]
  },
  {
   "cell_type": "code",
   "execution_count": null,
   "id": "ac295a5b",
   "metadata": {},
   "outputs": [],
   "source": [
    "scaler = MinMaxScaler()\n",
    "df[use_cols] = scaler.fit_transform(df[use_cols])"
   ]
  },
  {
   "cell_type": "code",
   "execution_count": null,
   "id": "344a8c1b",
   "metadata": {},
   "outputs": [],
   "source": [
    "use_cols.append(\"race\")\n",
    "use_cols.append(\"intercept\")"
   ]
  },
  {
   "cell_type": "code",
   "execution_count": null,
   "id": "aee39d9a",
   "metadata": {},
   "outputs": [],
   "source": [
    "df.describe()"
   ]
  },
  {
   "cell_type": "markdown",
   "id": "9b221a8f",
   "metadata": {},
   "source": [
    "---\n",
    "### Builds a Logistic Regression model"
   ]
  },
  {
   "cell_type": "code",
   "execution_count": null,
   "id": "43d8769f",
   "metadata": {},
   "outputs": [],
   "source": [
    "model = Logit(df[SCORE_MODEL], df[use_cols]).fit()"
   ]
  },
  {
   "cell_type": "code",
   "execution_count": null,
   "id": "695f39a3",
   "metadata": {},
   "outputs": [],
   "source": [
    "df_coefs = pd.DataFrame(\n",
    "    list(\n",
    "        zip(\n",
    "            model.pvalues.index,\n",
    "            model.pvalues.values,\n",
    "            model.params.values\n",
    "        )\n",
    "    ),\n",
    "    columns=[\"column\", \"pvalue\", \"coef\"]\n",
    ")\n",
    "\n",
    "df_coefs = df_coefs.sort_values(\"coef\", key=lambda x: abs(x), ascending=False)\n",
    "df_coefs[df_coefs.pvalue < 0.05]"
   ]
  },
  {
   "cell_type": "code",
   "execution_count": null,
   "id": "489e662e",
   "metadata": {},
   "outputs": [],
   "source": []
  }
 ],
 "metadata": {
  "kernelspec": {
   "display_name": "Python 3 (ipykernel)",
   "language": "python",
   "name": "python3"
  },
  "language_info": {
   "codemirror_mode": {
    "name": "ipython",
    "version": 3
   },
   "file_extension": ".py",
   "mimetype": "text/x-python",
   "name": "python",
   "nbconvert_exporter": "python",
   "pygments_lexer": "ipython3",
   "version": "3.8.10"
  }
 },
 "nbformat": 4,
 "nbformat_minor": 5
}
