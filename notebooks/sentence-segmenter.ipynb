{
 "cells": [
  {
   "cell_type": "code",
   "execution_count": 1,
   "metadata": {
    "colab": {
     "base_uri": "https://localhost:8080/"
    },
    "executionInfo": {
     "elapsed": 8252,
     "status": "ok",
     "timestamp": 1628533328583,
     "user": {
      "displayName": "Luiz Felipe Nery",
      "photoUrl": "https://lh3.googleusercontent.com/a-/AOh14GjcsGjja9lD2FzIiLrsa7DLaf2MQ9hZUuGRuZfh-Q=s64",
      "userId": "14354653398940778173"
     },
     "user_tz": 180
    },
    "id": "Bg-hpAnwSQiM",
    "outputId": "21ad11b5-8ce4-43f5-a45f-9a1b3d7d5cc4"
   },
   "outputs": [
    {
     "name": "stdout",
     "output_type": "stream",
     "text": [
      "Requirement already satisfied: transformers in /home/guilherme-resende/anaconda3/lib/python3.7/site-packages (4.9.2)\n",
      "Requirement already satisfied: filelock in /home/guilherme-resende/anaconda3/lib/python3.7/site-packages (from transformers) (3.0.12)\n",
      "Requirement already satisfied: packaging in /home/guilherme-resende/anaconda3/lib/python3.7/site-packages (from transformers) (20.9)\n",
      "Requirement already satisfied: requests in /home/guilherme-resende/anaconda3/lib/python3.7/site-packages (from transformers) (2.21.0)\n",
      "Requirement already satisfied: numpy>=1.17 in /home/guilherme-resende/anaconda3/lib/python3.7/site-packages (from transformers) (1.19.5)\n",
      "Requirement already satisfied: sacremoses in /home/guilherme-resende/anaconda3/lib/python3.7/site-packages (from transformers) (0.0.45)\n",
      "Requirement already satisfied: huggingface-hub==0.0.12 in /home/guilherme-resende/anaconda3/lib/python3.7/site-packages (from transformers) (0.0.12)\n",
      "Requirement already satisfied: pyyaml>=5.1 in /home/guilherme-resende/anaconda3/lib/python3.7/site-packages (from transformers) (5.3)\n",
      "Requirement already satisfied: tqdm>=4.27 in /home/guilherme-resende/anaconda3/lib/python3.7/site-packages (from transformers) (4.61.1)\n",
      "Requirement already satisfied: regex!=2019.12.17 in /home/guilherme-resende/anaconda3/lib/python3.7/site-packages (from transformers) (2020.11.13)\n",
      "Requirement already satisfied: tokenizers<0.11,>=0.10.1 in /home/guilherme-resende/anaconda3/lib/python3.7/site-packages (from transformers) (0.10.3)\n",
      "Requirement already satisfied: importlib-metadata; python_version < \"3.8\" in /home/guilherme-resende/anaconda3/lib/python3.7/site-packages (from transformers) (1.7.0)\n",
      "Requirement already satisfied: pyparsing>=2.0.2 in /home/guilherme-resende/anaconda3/lib/python3.7/site-packages (from packaging->transformers) (2.4.6)\n",
      "Requirement already satisfied: urllib3<1.25,>=1.21.1 in /home/guilherme-resende/anaconda3/lib/python3.7/site-packages (from requests->transformers) (1.24.3)\n",
      "Requirement already satisfied: chardet<3.1.0,>=3.0.2 in /home/guilherme-resende/anaconda3/lib/python3.7/site-packages (from requests->transformers) (3.0.4)\n",
      "Requirement already satisfied: certifi>=2017.4.17 in /home/guilherme-resende/anaconda3/lib/python3.7/site-packages (from requests->transformers) (2021.5.30)\n",
      "Requirement already satisfied: idna<2.9,>=2.5 in /home/guilherme-resende/anaconda3/lib/python3.7/site-packages (from requests->transformers) (2.8)\n",
      "Requirement already satisfied: click in /home/guilherme-resende/anaconda3/lib/python3.7/site-packages (from sacremoses->transformers) (7.1.1)\n",
      "Requirement already satisfied: six in /home/guilherme-resende/anaconda3/lib/python3.7/site-packages (from sacremoses->transformers) (1.16.0)\n",
      "Requirement already satisfied: joblib in /home/guilherme-resende/anaconda3/lib/python3.7/site-packages (from sacremoses->transformers) (0.14.1)\n",
      "Requirement already satisfied: typing-extensions in /home/guilherme-resende/anaconda3/lib/python3.7/site-packages (from huggingface-hub==0.0.12->transformers) (3.7.4.3)\n",
      "Requirement already satisfied: zipp>=0.5 in /home/guilherme-resende/anaconda3/lib/python3.7/site-packages (from importlib-metadata; python_version < \"3.8\"->transformers) (3.1.0)\n"
     ]
    }
   ],
   "source": [
    "!pip install transformers"
   ]
  },
  {
   "cell_type": "code",
   "execution_count": 2,
   "metadata": {},
   "outputs": [],
   "source": [
    "import json\n",
    "import pandas as pd\n",
    "import sys\n",
    "import os\n",
    "import glob\n",
    "import re\n",
    "from tqdm import tqdm\n",
    "\n",
    "sys.path.append(\"../utils\")\n",
    "import vtt2text\n",
    "from sentence_segmenter import *"
   ]
  },
  {
   "cell_type": "markdown",
   "metadata": {},
   "source": [
    "### Subtitle Cleansing and Convertion to .txt"
   ]
  },
  {
   "cell_type": "code",
   "execution_count": 3,
   "metadata": {},
   "outputs": [],
   "source": [
    "input_path = \"../data/00_raw\"\n",
    "output_path = \"../data/01_preprocessed\"\n",
    "\n",
    "filenames = [file.split(\"/\")[-1] for file in glob.glob(os.path.join(input_path, \"*\"))]"
   ]
  },
  {
   "cell_type": "code",
   "execution_count": 4,
   "metadata": {
    "scrolled": false
   },
   "outputs": [
    {
     "name": "stderr",
     "output_type": "stream",
     "text": [
      "100%|██████████████████████████████████████████| 11/11 [00:00<00:00, 148.20it/s]\n"
     ]
    }
   ],
   "source": [
    "for filename in tqdm(filenames, total=len(filenames)):\n",
    "    with open(os.path.join(input_path, filename)) as file:\n",
    "        text = file.read()\n",
    "    \n",
    "    text = vtt2text.remove_tags(text)\n",
    "    \n",
    "    lines = text.splitlines()\n",
    "    lines = vtt2text.remove_header(lines)\n",
    "    lines = vtt2text.merge_duplicates(lines)\n",
    "    lines = list(lines)\n",
    "    \n",
    "    lines = vtt2text.merge_short_lines(lines)\n",
    "    lines = list(lines)\n",
    "    \n",
    "    final_text = []\n",
    "    for line in lines:\n",
    "        line = line.replace(\"&nbsp;\", '')\n",
    "        if not \"-->\" in line:\n",
    "            final_text.append(line)\n",
    "    \n",
    "    final_text = ' '.join(final_text)\n",
    "    with open(os.path.join(output_path, re.sub(r'.vtt', '.txt', filename)), 'w') as file:\n",
    "        file.writelines(final_text)"
   ]
  },
  {
   "cell_type": "markdown",
   "metadata": {
    "id": "mwLbDqhyQhYu"
   },
   "source": [
    "### Text Segmentation"
   ]
  },
  {
   "cell_type": "code",
   "execution_count": 5,
   "metadata": {},
   "outputs": [],
   "source": [
    "input_path = \"../data/01_preprocessed\"\n",
    "output_path = \"../data/02_segmented\"\n",
    "\n",
    "filenames = [file.split(\"/\")[-1] for file in glob.glob(os.path.join(input_path, \"*\"))]"
   ]
  },
  {
   "cell_type": "code",
   "execution_count": 6,
   "metadata": {},
   "outputs": [
    {
     "name": "stderr",
     "output_type": "stream",
     "text": [
      "/home/guilherme-resende/anaconda3/lib/python3.7/site-packages/transformers/models/auto/modeling_auto.py:902: FutureWarning: The class `AutoModelWithLMHead` is deprecated and will be removed in a future version. Please use `AutoModelForCausalLM` for causal language models, `AutoModelForMaskedLM` for masked language models and `AutoModelForSeq2SeqLM` for encoder-decoder models.\n",
      "  FutureWarning,\n",
      "  0%|                                                    | 0/11 [00:00<?, ?it/s]"
     ]
    },
    {
     "name": "stdout",
     "output_type": "stream",
     "text": [
      "\n"
     ]
    },
    {
     "name": "stderr",
     "output_type": "stream",
     "text": [
      "100%|███████████████████████████████████████████| 11/11 [14:56<00:00, 81.46s/it]\n"
     ]
    }
   ],
   "source": [
    "segmenter = GptSegmenter()\n",
    "\n",
    "for filename in tqdm(filenames, total=len(filenames)):\n",
    "    with open(os.path.join(input_path, filename)) as file:\n",
    "        text = file.read()\n",
    "\n",
    "    # Get the segmented sentences. Each list is a phrase\n",
    "    sentences = segmenter.segment(text)\n",
    "\n",
    "    df = pd.DataFrame(map(lambda words: ' '.join(words), sentences), columns=[\"text\"])\n",
    "    df.to_csv(os.path.join(output_path, f\"segmented-{re.sub(r'.txt', '.csv', filename)}\"), index=False)"
   ]
  },
  {
   "cell_type": "code",
   "execution_count": null,
   "metadata": {},
   "outputs": [],
   "source": []
  }
 ],
 "metadata": {
  "colab": {
   "authorship_tag": "ABX9TyOICPQ5KHDTg4cO5523I3yO",
   "collapsed_sections": [],
   "name": "use-exemple.ipynb",
   "provenance": []
  },
  "kernelspec": {
   "display_name": "Python 3",
   "language": "python",
   "name": "python3"
  },
  "language_info": {
   "codemirror_mode": {
    "name": "ipython",
    "version": 3
   },
   "file_extension": ".py",
   "mimetype": "text/x-python",
   "name": "python",
   "nbconvert_exporter": "python",
   "pygments_lexer": "ipython3",
   "version": "3.7.6"
  }
 },
 "nbformat": 4,
 "nbformat_minor": 1
}
