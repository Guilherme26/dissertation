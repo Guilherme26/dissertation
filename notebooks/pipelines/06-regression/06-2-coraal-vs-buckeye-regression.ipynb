{
 "cells": [
  {
   "cell_type": "code",
   "execution_count": 1,
   "id": "607d7980",
   "metadata": {},
   "outputs": [],
   "source": [
    "import numpy as np\n",
    "import sys\n",
    "import glob\n",
    "import os\n",
    "import pandas as pd\n",
    "import warnings\n",
    "import yaml\n",
    "\n",
    "from statsmodels.regression.linear_model import GLS\n",
    "from tqdm import tqdm\n",
    "from sklearn.preprocessing import MinMaxScaler\n",
    "from sklearn.model_selection import train_test_split\n",
    "\n",
    "sys.path.append(\"../../../utils\")\n",
    "from absolute_path_builder import AbsolutePathBuilder"
   ]
  },
  {
   "cell_type": "code",
   "execution_count": 2,
   "id": "00c70c58",
   "metadata": {},
   "outputs": [],
   "source": [
    "# Disable this for any new modification to make sure everything is ok\n",
    "warnings.filterwarnings(\"ignore\")"
   ]
  },
  {
   "cell_type": "code",
   "execution_count": 3,
   "id": "05d7c1f3",
   "metadata": {},
   "outputs": [],
   "source": [
    "np.random.seed(1007)\n",
    "\n",
    "coraal_path = AbsolutePathBuilder.get_path(\n",
    "    \"05_coraal_features\",\n",
    "    filepaths=\"../../../config/filepaths.yaml\"\n",
    ")\n",
    "\n",
    "buckeye_path = AbsolutePathBuilder.get_path(\n",
    "    \"05_buckeye_features\",\n",
    "    filepaths=\"../../../config/filepaths.yaml\"\n",
    ")\n",
    "\n",
    "output_path = AbsolutePathBuilder.get_path(\n",
    "    f\"06_coraal_vs_buckeye_regression\",\n",
    "    filepaths=\"../../../config/filepaths.yaml\"\n",
    ")"
   ]
  },
  {
   "cell_type": "code",
   "execution_count": 4,
   "id": "1b8ab33b",
   "metadata": {},
   "outputs": [
    {
     "name": "stderr",
     "output_type": "stream",
     "text": [
      "100%|██████████████████████████████████████████████████████████████| 142/142 [00:00<00:00, 208.29it/s]\n",
      "100%|████████████████████████████████████████████████████████████████| 39/39 [00:00<00:00, 200.18it/s]\n"
     ]
    }
   ],
   "source": [
    "dfs = []\n",
    "\n",
    "filenames = [file.split(\"/\")[-1] for file in glob.glob(os.path.join(coraal_path, \"*\"))]\n",
    "for file in tqdm(filenames):\n",
    "    dfs.append(pd.read_csv(os.path.join(coraal_path, file)))\n",
    "    \n",
    "filenames = [file.split(\"/\")[-1] for file in glob.glob(os.path.join(buckeye_path, \"*\"))]\n",
    "for file in tqdm(filenames):\n",
    "    dfs.append(pd.read_csv(os.path.join(buckeye_path, file)))"
   ]
  },
  {
   "cell_type": "markdown",
   "id": "405b4f50",
   "metadata": {},
   "source": [
    "---"
   ]
  },
  {
   "cell_type": "code",
   "execution_count": 5,
   "id": "690bf4da",
   "metadata": {},
   "outputs": [
    {
     "name": "stderr",
     "output_type": "stream",
     "text": [
      "100%|███████████████████████████████████████████████████████████████████| 7/7 [00:07<00:00,  1.14s/it]\n"
     ]
    }
   ],
   "source": [
    "for SCORE_MODEL in tqdm(\n",
    "    [\n",
    "        \"perspective_score\",\n",
    "        \"flair_score\",\n",
    "        \"textblob_score\",\n",
    "        \"vader_score\",\n",
    "        \"detoxify_original_score\",\n",
    "        \"detoxify_unbiased_score\",\n",
    "        \"detoxify_multilingual_score\"\n",
    "    ]\n",
    "):\n",
    "    df = pd.concat(dfs).reset_index(drop=True)\n",
    "\n",
    "    liwc_cols = df.columns[df.columns.str.contains(\"LIWC_\")].tolist()\n",
    "    pos_cols = df.columns[df.columns.str.contains(\"POS_\")].tolist()\n",
    "\n",
    "    use_cols = liwc_cols + pos_cols + [\"AAE_TERMS_COUNT\"]\n",
    "    \n",
    "    df[\"race\"] = df.race.apply(lambda race: 0 if race==\"White\" else 1)\n",
    "\n",
    "    df = df.fillna(0)\n",
    "    df[\"intercept\"] = 1\n",
    "\n",
    "    scaler = MinMaxScaler()\n",
    "    df[use_cols] = scaler.fit_transform(df[use_cols])\n",
    "\n",
    "    use_cols.append(\"race\")\n",
    "    use_cols.append(\"intercept\")\n",
    "\n",
    "    model = GLS(df[SCORE_MODEL], df[use_cols]).fit()\n",
    "\n",
    "    df_coefs = pd.DataFrame(\n",
    "        list(\n",
    "            zip(\n",
    "                model.pvalues.index,\n",
    "                model.pvalues.values,\n",
    "                model.params.values\n",
    "            )\n",
    "        ),\n",
    "        columns=[\"column\", \"pvalue\", \"coef\"]\n",
    "    )\n",
    "\n",
    "    df_coefs = df_coefs.sort_values(\"coef\", key=lambda x: abs(x), ascending=False)\n",
    "\n",
    "    df_coefs.to_csv(os.path.join(output_path, f\"{SCORE_MODEL}_coefs.csv\"), index=False)"
   ]
  }
 ],
 "metadata": {
  "kernelspec": {
   "display_name": "Python 3 (ipykernel)",
   "language": "python",
   "name": "python3"
  },
  "language_info": {
   "codemirror_mode": {
    "name": "ipython",
    "version": 3
   },
   "file_extension": ".py",
   "mimetype": "text/x-python",
   "name": "python",
   "nbconvert_exporter": "python",
   "pygments_lexer": "ipython3",
   "version": "3.8.10"
  }
 },
 "nbformat": 4,
 "nbformat_minor": 5
}
