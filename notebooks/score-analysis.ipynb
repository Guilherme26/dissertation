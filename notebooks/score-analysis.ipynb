{
 "cells": [
  {
   "cell_type": "code",
   "execution_count": null,
   "metadata": {},
   "outputs": [],
   "source": [
    "import numpy as np\n",
    "import pandas as pd\n",
    "import seaborn as sns\n",
    "import glob\n",
    "import os\n",
    "import matplotlib.pyplot as plt\n",
    "\n",
    "from scipy.stats import ks_2samp\n",
    "from statsmodels.distributions.empirical_distribution import ECDF"
   ]
  },
  {
   "cell_type": "code",
   "execution_count": null,
   "metadata": {},
   "outputs": [],
   "source": [
    "plt.rcParams['figure.figsize']  = (3.33, 5.5)\n",
    "plt.rcParams['axes.labelsize']  = 16\n",
    "plt.rcParams['axes.titlesize']  = 18\n",
    "plt.rcParams['legend.fontsize'] = 16\n",
    "plt.rcParams['xtick.labelsize'] = 16\n",
    "plt.rcParams['ytick.labelsize'] = 16\n",
    "plt.rcParams['lines.linewidth'] = 3"
   ]
  },
  {
   "cell_type": "code",
   "execution_count": null,
   "metadata": {},
   "outputs": [],
   "source": [
    "df_downloads_desc = pd.read_csv(\"../data/download_descriptions.csv\")\n",
    "\n",
    "input_path = \"../data/03_scored/without_curse_words/\"\n",
    "output_path = \"../data/imgs\"\n",
    "\n",
    "bins = np.linspace(0, 1, num=20)"
   ]
  },
  {
   "cell_type": "markdown",
   "metadata": {},
   "source": [
    "---\n",
    "\n",
    "### Toxicity Score Cumulative Distribution Function (CDF)"
   ]
  },
  {
   "cell_type": "code",
   "execution_count": null,
   "metadata": {},
   "outputs": [],
   "source": [
    "plt.subplots(figsize=(14,9))\n",
    "\n",
    "for group in df_downloads_desc[\"group\"].unique():\n",
    "    group_urls = df_downloads_desc[df_downloads_desc.group == group]    \n",
    "    filenames = [row[\"url\"].split(\"v=\")[1].split(\"&\")[0] for _, row in group_urls.iterrows()]\n",
    "    \n",
    "    dfs = []\n",
    "    count = 0\n",
    "    for filename in filenames:\n",
    "        try:\n",
    "            dfs.append(pd.read_csv(os.path.join(input_path, filename)))\n",
    "        except:\n",
    "            count += 1\n",
    "    \n",
    "    print(f\"Group: `{group}` had {count} reading problems\")\n",
    "    \n",
    "    df = pd.concat(dfs)\n",
    "    del dfs\n",
    "    \n",
    "    ecdf = ECDF(df.score)\n",
    "    plt.plot(ecdf.x, 1-ecdf.y, label=group)\n",
    "\n",
    "plt.xlabel(\"Toxicity Score - x\")\n",
    "plt.ylabel(r\"$P(X \\geq x)$\")\n",
    "plt.legend()\n",
    "\n",
    "plt.savefig(os.path.join(output_path, \"inverse_cdf.pdf\"))\n",
    "plt.show()"
   ]
  },
  {
   "cell_type": "markdown",
   "metadata": {},
   "source": [
    "---\n",
    "\n",
    "### Toxicity Score Distribution"
   ]
  },
  {
   "cell_type": "code",
   "execution_count": null,
   "metadata": {},
   "outputs": [],
   "source": [
    "plt.subplots(figsize=(14,9))\n",
    "\n",
    "dfs = []\n",
    "for group in df_downloads_desc[\"group\"].unique():\n",
    "    group_urls = df_downloads_desc[df_downloads_desc.group == group]    \n",
    "    filenames = [row[\"url\"].split(\"v=\")[1].split(\"&\")[0] for _, row in group_urls.iterrows()]\n",
    "    \n",
    "    df_group = []\n",
    "    count = 0\n",
    "    for filename in filenames:\n",
    "        try:\n",
    "            df_group.append(pd.read_csv(os.path.join(input_path, filename)))\n",
    "        except:\n",
    "            count += 1\n",
    "    \n",
    "    print(f\"Group: `{group}` had {count} reading problems\")\n",
    "    \n",
    "    df_group = pd.concat(df_group)\n",
    "    df_group[\"group\"] = group\n",
    "    \n",
    "    dfs.append(df_group)\n",
    "\n",
    "df = pd.concat(dfs)\n",
    "del dfs, df_group\n",
    "\n",
    "sns.boxplot(data=df, x=\"group\", y=\"score\", showfliers=False)\n",
    "plt.xlabel(\"Group\")\n",
    "plt.ylabel(\"Score\")\n",
    "\n",
    "plt.savefig(os.path.join(output_path, \"group_distribution.pdf\"))\n",
    "plt.show()"
   ]
  },
  {
   "cell_type": "markdown",
   "metadata": {},
   "source": [
    "---\n",
    "\n",
    "### Two-Sample Kolmogorov-Smirnov's Test"
   ]
  },
  {
   "cell_type": "code",
   "execution_count": null,
   "metadata": {},
   "outputs": [],
   "source": [
    "ks_all = []\n",
    "groups = df.group.unique()\n",
    "for first_group in groups:\n",
    "    ks_one_vs_all = []\n",
    "    for second_group in groups:\n",
    "        statistic, p_value = ks_2samp(\n",
    "            df[df.group == first_group].score,\n",
    "            df[df.group == second_group].score\n",
    "        )\n",
    "        \n",
    "        ks_one_vs_all.append(\n",
    "            f\"{np.abs(np.round(statistic*100, 3))} ({np.round(p_value*100, 3)})\"\n",
    "        )\n",
    "    ks_all.append(ks_one_vs_all)"
   ]
  },
  {
   "cell_type": "code",
   "execution_count": null,
   "metadata": {},
   "outputs": [],
   "source": [
    "pd.DataFrame(ks_all, columns=groups, index=groups)"
   ]
  }
 ],
 "metadata": {
  "kernelspec": {
   "display_name": "Python 3",
   "language": "python",
   "name": "python3"
  },
  "language_info": {
   "codemirror_mode": {
    "name": "ipython",
    "version": 3
   },
   "file_extension": ".py",
   "mimetype": "text/x-python",
   "name": "python",
   "nbconvert_exporter": "python",
   "pygments_lexer": "ipython3",
   "version": "3.7.6"
  }
 },
 "nbformat": 4,
 "nbformat_minor": 4
}
