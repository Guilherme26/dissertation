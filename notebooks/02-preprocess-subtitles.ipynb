{
 "cells": [
  {
   "cell_type": "markdown",
   "metadata": {},
   "source": [
    "### Quick Description\n",
    "\n",
    "This notebook calculates the toxicity score for every curse word from a file, gets the curse word with the median toxicity score (according to Perpective), and replace every curse word identifier on the subtitles by the median word"
   ]
  },
  {
   "cell_type": "code",
   "execution_count": 1,
   "metadata": {},
   "outputs": [],
   "source": [
    "import os\n",
    "import glob\n",
    "import yaml\n",
    "import time\n",
    "import json\n",
    "import sys\n",
    "import re\n",
    "import pandas as pd\n",
    "\n",
    "from tqdm import tqdm\n",
    "from googleapiclient import discovery\n",
    "\n",
    "sys.path.append(\"../utils\")\n",
    "from toxicity_api_communication import get_toxicity_score"
   ]
  },
  {
   "cell_type": "code",
   "execution_count": 30,
   "metadata": {},
   "outputs": [
    {
     "name": "stderr",
     "output_type": "stream",
     "text": [
      "/tmp/ipykernel_102897/1225555520.py:1: YAMLLoadWarning: calling yaml.load() without Loader=... is deprecated, as the default Loader is unsafe. Please read https://msg.pyyaml.org/load for full details.\n",
      "  filepaths = yaml.load(open(\"../config/filepaths.yaml\"))\n",
      "/tmp/ipykernel_102897/1225555520.py:2: YAMLLoadWarning: calling yaml.load() without Loader=... is deprecated, as the default Loader is unsafe. Please read https://msg.pyyaml.org/load for full details.\n",
      "  credentials = yaml.load(open(\"../config/credentials.yaml\"))[\"perspective-api\"]\n"
     ]
    }
   ],
   "source": [
    "filepaths = yaml.load(open(\"../config/filepaths.yaml\"))\n",
    "credentials = yaml.load(open(\"../config/credentials.yaml\"))[\"perspective-api\"]\n",
    "\n",
    "service = discovery.build(\n",
    "    \"commentanalyzer\",\n",
    "    \"v1alpha1\",\n",
    "    developerKey=credentials[\"key-1\"],\n",
    "    discoveryServiceUrl=\"https://commentanalyzer.googleapis.com/$discovery/rest?version=v1alpha1\",\n",
    "    static_discovery=False,\n",
    ")"
   ]
  },
  {
   "cell_type": "markdown",
   "metadata": {},
   "source": [
    "### Calculate the Toxicity for Every Curse Word\n",
    "\n",
    "https://www.noswearing.com/dictionary/"
   ]
  },
  {
   "cell_type": "code",
   "execution_count": 3,
   "metadata": {},
   "outputs": [
    {
     "data": {
      "text/html": [
       "<div>\n",
       "<style scoped>\n",
       "    .dataframe tbody tr th:only-of-type {\n",
       "        vertical-align: middle;\n",
       "    }\n",
       "\n",
       "    .dataframe tbody tr th {\n",
       "        vertical-align: top;\n",
       "    }\n",
       "\n",
       "    .dataframe thead th {\n",
       "        text-align: right;\n",
       "    }\n",
       "</style>\n",
       "<table border=\"1\" class=\"dataframe\">\n",
       "  <thead>\n",
       "    <tr style=\"text-align: right;\">\n",
       "      <th></th>\n",
       "      <th>swearing</th>\n",
       "    </tr>\n",
       "  </thead>\n",
       "  <tbody>\n",
       "    <tr>\n",
       "      <th>0</th>\n",
       "      <td>anus</td>\n",
       "    </tr>\n",
       "    <tr>\n",
       "      <th>1</th>\n",
       "      <td>arse</td>\n",
       "    </tr>\n",
       "    <tr>\n",
       "      <th>2</th>\n",
       "      <td>arsehole</td>\n",
       "    </tr>\n",
       "  </tbody>\n",
       "</table>\n",
       "</div>"
      ],
      "text/plain": [
       "   swearing\n",
       "0      anus\n",
       "1      arse\n",
       "2  arsehole"
      ]
     },
     "execution_count": 3,
     "metadata": {},
     "output_type": "execute_result"
    }
   ],
   "source": [
    "df_swearings = pd.read_csv(filepaths[\"bad_words_raw\"], names=[\"swearing\"])\n",
    "df_swearings.head(3)"
   ]
  },
  {
   "cell_type": "code",
   "execution_count": 4,
   "metadata": {
    "scrolled": true
   },
   "outputs": [
    {
     "name": "stderr",
     "output_type": "stream",
     "text": [
      "  1%|▌                                                                | 3/361 [00:06<12:15,  2.05s/it]ERROR:root:The following error occured: \n",
      "({'vary': 'Origin, X-Origin, Referer', 'content-type': 'application/json; charset=UTF-8', 'date': 'Tue, 24 May 2022 01:01:25 GMT', 'server': 'ESF', 'cache-control': 'private', 'x-xss-protection': '0', 'x-frame-options': 'SAMEORIGIN', 'x-content-type-options': 'nosniff', 'alt-svc': 'h3=\":443\"; ma=2592000,h3-29=\":443\"; ma=2592000,h3-Q050=\":443\"; ma=2592000,h3-Q046=\":443\"; ma=2592000,h3-Q043=\":443\"; ma=2592000,quic=\":443\"; ma=2592000; v=\"46,43\"', 'transfer-encoding': 'chunked', 'status': '400', 'content-length': '482', '-content-encoding': 'gzip'}, b'{\\n  \"error\": {\\n    \"code\": 400,\\n    \"message\": \"Attribute TOXICITY does not support request languages: lb\",\\n    \"status\": \"INVALID_ARGUMENT\",\\n    \"details\": [\\n      {\\n        \"@type\": \"type.googleapis.com/google.commentanalyzer.v1alpha1.Error\",\\n        \"errorType\": \"LANGUAGE_NOT_SUPPORTED_BY_ATTRIBUTE\",\\n        \"languageNotSupportedByAttributeError\": {\\n          \"detectedLanguages\": [\\n            \"lb\"\\n          ],\\n          \"attribute\": \"TOXICITY\"\\n        }\\n      }\\n    ]\\n  }\\n}\\n')\n",
      "  2%|█▍                                                               | 8/361 [00:16<12:01,  2.04s/it]ERROR:root:The following error occured: \n",
      "({'vary': 'Origin, X-Origin, Referer', 'content-type': 'application/json; charset=UTF-8', 'date': 'Tue, 24 May 2022 01:01:35 GMT', 'server': 'ESF', 'cache-control': 'private', 'x-xss-protection': '0', 'x-frame-options': 'SAMEORIGIN', 'x-content-type-options': 'nosniff', 'alt-svc': 'h3=\":443\"; ma=2592000,h3-29=\":443\"; ma=2592000,h3-Q050=\":443\"; ma=2592000,h3-Q046=\":443\"; ma=2592000,h3-Q043=\":443\"; ma=2592000,quic=\":443\"; ma=2592000; v=\"46,43\"', 'transfer-encoding': 'chunked', 'status': '400', 'content-length': '482', '-content-encoding': 'gzip'}, b'{\\n  \"error\": {\\n    \"code\": 400,\\n    \"message\": \"Attribute TOXICITY does not support request languages: lb\",\\n    \"status\": \"INVALID_ARGUMENT\",\\n    \"details\": [\\n      {\\n        \"@type\": \"type.googleapis.com/google.commentanalyzer.v1alpha1.Error\",\\n        \"errorType\": \"LANGUAGE_NOT_SUPPORTED_BY_ATTRIBUTE\",\\n        \"languageNotSupportedByAttributeError\": {\\n          \"detectedLanguages\": [\\n            \"lb\"\\n          ],\\n          \"attribute\": \"TOXICITY\"\\n        }\\n      }\\n    ]\\n  }\\n}\\n')\n",
      "  6%|████                                                            | 23/361 [00:43<09:26,  1.68s/it]ERROR:root:The following error occured: \n",
      "({'vary': 'Origin, X-Origin, Referer', 'content-type': 'application/json; charset=UTF-8', 'date': 'Tue, 24 May 2022 01:02:03 GMT', 'server': 'ESF', 'cache-control': 'private', 'x-xss-protection': '0', 'x-frame-options': 'SAMEORIGIN', 'x-content-type-options': 'nosniff', 'alt-svc': 'h3=\":443\"; ma=2592000,h3-29=\":443\"; ma=2592000,h3-Q050=\":443\"; ma=2592000,h3-Q046=\":443\"; ma=2592000,h3-Q043=\":443\"; ma=2592000,quic=\":443\"; ma=2592000; v=\"46,43\"', 'transfer-encoding': 'chunked', 'status': '400', 'content-length': '482', '-content-encoding': 'gzip'}, b'{\\n  \"error\": {\\n    \"code\": 400,\\n    \"message\": \"Attribute TOXICITY does not support request languages: sv\",\\n    \"status\": \"INVALID_ARGUMENT\",\\n    \"details\": [\\n      {\\n        \"@type\": \"type.googleapis.com/google.commentanalyzer.v1alpha1.Error\",\\n        \"errorType\": \"LANGUAGE_NOT_SUPPORTED_BY_ATTRIBUTE\",\\n        \"languageNotSupportedByAttributeError\": {\\n          \"detectedLanguages\": [\\n            \"sv\"\\n          ],\\n          \"attribute\": \"TOXICITY\"\\n        }\\n      }\\n    ]\\n  }\\n}\\n')\n",
      "  9%|██████                                                          | 34/361 [01:03<10:02,  1.84s/it]ERROR:root:The following error occured: \n",
      "({'vary': 'Origin, X-Origin, Referer', 'content-type': 'application/json; charset=UTF-8', 'date': 'Tue, 24 May 2022 01:02:23 GMT', 'server': 'ESF', 'cache-control': 'private', 'x-xss-protection': '0', 'x-frame-options': 'SAMEORIGIN', 'x-content-type-options': 'nosniff', 'alt-svc': 'h3=\":443\"; ma=2592000,h3-29=\":443\"; ma=2592000,h3-Q050=\":443\"; ma=2592000,h3-Q046=\":443\"; ma=2592000,h3-Q043=\":443\"; ma=2592000,quic=\":443\"; ma=2592000; v=\"46,43\"', 'transfer-encoding': 'chunked', 'status': '400', 'content-length': '492', '-content-encoding': 'gzip'}, b'{\\n  \"error\": {\\n    \"code\": 400,\\n    \"message\": \"Attribute TOXICITY does not support request languages: ar-Latn\",\\n    \"status\": \"INVALID_ARGUMENT\",\\n    \"details\": [\\n      {\\n        \"@type\": \"type.googleapis.com/google.commentanalyzer.v1alpha1.Error\",\\n        \"errorType\": \"LANGUAGE_NOT_SUPPORTED_BY_ATTRIBUTE\",\\n        \"languageNotSupportedByAttributeError\": {\\n          \"detectedLanguages\": [\\n            \"ar-Latn\"\\n          ],\\n          \"attribute\": \"TOXICITY\"\\n        }\\n      }\\n    ]\\n  }\\n}\\n')\n",
      " 14%|████████▋                                                       | 49/361 [01:32<09:35,  1.85s/it]ERROR:root:The following error occured: \n",
      "({'vary': 'Origin, X-Origin, Referer', 'content-type': 'application/json; charset=UTF-8', 'date': 'Tue, 24 May 2022 01:02:51 GMT', 'server': 'ESF', 'cache-control': 'private', 'x-xss-protection': '0', 'x-frame-options': 'SAMEORIGIN', 'x-content-type-options': 'nosniff', 'alt-svc': 'h3=\":443\"; ma=2592000,h3-29=\":443\"; ma=2592000,h3-Q050=\":443\"; ma=2592000,h3-Q046=\":443\"; ma=2592000,h3-Q043=\":443\"; ma=2592000,quic=\":443\"; ma=2592000; v=\"46,43\"', 'transfer-encoding': 'chunked', 'status': '400', 'content-length': '482', '-content-encoding': 'gzip'}, b'{\\n  \"error\": {\\n    \"code\": 400,\\n    \"message\": \"Attribute TOXICITY does not support request languages: uz\",\\n    \"status\": \"INVALID_ARGUMENT\",\\n    \"details\": [\\n      {\\n        \"@type\": \"type.googleapis.com/google.commentanalyzer.v1alpha1.Error\",\\n        \"errorType\": \"LANGUAGE_NOT_SUPPORTED_BY_ATTRIBUTE\",\\n        \"languageNotSupportedByAttributeError\": {\\n          \"detectedLanguages\": [\\n            \"uz\"\\n          ],\\n          \"attribute\": \"TOXICITY\"\\n        }\\n      }\\n    ]\\n  }\\n}\\n')\n",
      " 18%|███████████▎                                                    | 64/361 [01:57<07:54,  1.60s/it]ERROR:root:The following error occured: \n",
      "({'vary': 'Origin, X-Origin, Referer', 'content-type': 'application/json; charset=UTF-8', 'date': 'Tue, 24 May 2022 01:03:17 GMT', 'server': 'ESF', 'cache-control': 'private', 'x-xss-protection': '0', 'x-frame-options': 'SAMEORIGIN', 'x-content-type-options': 'nosniff', 'alt-svc': 'h3=\":443\"; ma=2592000,h3-29=\":443\"; ma=2592000,h3-Q050=\":443\"; ma=2592000,h3-Q046=\":443\"; ma=2592000,h3-Q043=\":443\"; ma=2592000,quic=\":443\"; ma=2592000; v=\"46,43\"', 'transfer-encoding': 'chunked', 'status': '400', 'content-length': '482', '-content-encoding': 'gzip'}, b'{\\n  \"error\": {\\n    \"code\": 400,\\n    \"message\": \"Attribute TOXICITY does not support request languages: sk\",\\n    \"status\": \"INVALID_ARGUMENT\",\\n    \"details\": [\\n      {\\n        \"@type\": \"type.googleapis.com/google.commentanalyzer.v1alpha1.Error\",\\n        \"errorType\": \"LANGUAGE_NOT_SUPPORTED_BY_ATTRIBUTE\",\\n        \"languageNotSupportedByAttributeError\": {\\n          \"detectedLanguages\": [\\n            \"sk\"\\n          ],\\n          \"attribute\": \"TOXICITY\"\\n        }\\n      }\\n    ]\\n  }\\n}\\n')\n",
      " 27%|█████████████████▎                                              | 98/361 [02:54<08:19,  1.90s/it]ERROR:root:The following error occured: \n",
      "({'vary': 'Origin, X-Origin, Referer', 'content-type': 'application/json; charset=UTF-8', 'date': 'Tue, 24 May 2022 01:04:13 GMT', 'server': 'ESF', 'cache-control': 'private', 'x-xss-protection': '0', 'x-frame-options': 'SAMEORIGIN', 'x-content-type-options': 'nosniff', 'alt-svc': 'h3=\":443\"; ma=2592000,h3-29=\":443\"; ma=2592000,h3-Q050=\":443\"; ma=2592000,h3-Q046=\":443\"; ma=2592000,h3-Q043=\":443\"; ma=2592000,quic=\":443\"; ma=2592000; v=\"46,43\"', 'transfer-encoding': 'chunked', 'status': '400', 'content-length': '482', '-content-encoding': 'gzip'}, b'{\\n  \"error\": {\\n    \"code\": 400,\\n    \"message\": \"Attribute TOXICITY does not support request languages: ro\",\\n    \"status\": \"INVALID_ARGUMENT\",\\n    \"details\": [\\n      {\\n        \"@type\": \"type.googleapis.com/google.commentanalyzer.v1alpha1.Error\",\\n        \"errorType\": \"LANGUAGE_NOT_SUPPORTED_BY_ATTRIBUTE\",\\n        \"languageNotSupportedByAttributeError\": {\\n          \"detectedLanguages\": [\\n            \"ro\"\\n          ],\\n          \"attribute\": \"TOXICITY\"\\n        }\\n      }\\n    ]\\n  }\\n}\\n')\n"
     ]
    },
    {
     "name": "stderr",
     "output_type": "stream",
     "text": [
      " 30%|██████████████████▊                                            | 108/361 [03:10<06:43,  1.59s/it]ERROR:root:The following error occured: \n",
      "({'vary': 'Origin, X-Origin, Referer', 'content-type': 'application/json; charset=UTF-8', 'date': 'Tue, 24 May 2022 01:04:29 GMT', 'server': 'ESF', 'cache-control': 'private', 'x-xss-protection': '0', 'x-frame-options': 'SAMEORIGIN', 'x-content-type-options': 'nosniff', 'alt-svc': 'h3=\":443\"; ma=2592000,h3-29=\":443\"; ma=2592000,h3-Q050=\":443\"; ma=2592000,h3-Q046=\":443\"; ma=2592000,h3-Q043=\":443\"; ma=2592000,quic=\":443\"; ma=2592000; v=\"46,43\"', 'transfer-encoding': 'chunked', 'status': '400', 'content-length': '482', '-content-encoding': 'gzip'}, b'{\\n  \"error\": {\\n    \"code\": 400,\\n    \"message\": \"Attribute TOXICITY does not support request languages: ga\",\\n    \"status\": \"INVALID_ARGUMENT\",\\n    \"details\": [\\n      {\\n        \"@type\": \"type.googleapis.com/google.commentanalyzer.v1alpha1.Error\",\\n        \"errorType\": \"LANGUAGE_NOT_SUPPORTED_BY_ATTRIBUTE\",\\n        \"languageNotSupportedByAttributeError\": {\\n          \"detectedLanguages\": [\\n            \"ga\"\\n          ],\\n          \"attribute\": \"TOXICITY\"\\n        }\\n      }\\n    ]\\n  }\\n}\\n')\n",
      " 31%|███████████████████▌                                           | 112/361 [03:17<07:08,  1.72s/it]ERROR:root:The following error occured: \n",
      "({'vary': 'Origin, X-Origin, Referer', 'content-type': 'application/json; charset=UTF-8', 'date': 'Tue, 24 May 2022 01:04:35 GMT', 'server': 'ESF', 'cache-control': 'private', 'x-xss-protection': '0', 'x-frame-options': 'SAMEORIGIN', 'x-content-type-options': 'nosniff', 'alt-svc': 'h3=\":443\"; ma=2592000,h3-29=\":443\"; ma=2592000,h3-Q050=\":443\"; ma=2592000,h3-Q046=\":443\"; ma=2592000,h3-Q043=\":443\"; ma=2592000,quic=\":443\"; ma=2592000; v=\"46,43\"', 'transfer-encoding': 'chunked', 'status': '400', 'content-length': '482', '-content-encoding': 'gzip'}, b'{\\n  \"error\": {\\n    \"code\": 400,\\n    \"message\": \"Attribute TOXICITY does not support request languages: co\",\\n    \"status\": \"INVALID_ARGUMENT\",\\n    \"details\": [\\n      {\\n        \"@type\": \"type.googleapis.com/google.commentanalyzer.v1alpha1.Error\",\\n        \"errorType\": \"LANGUAGE_NOT_SUPPORTED_BY_ATTRIBUTE\",\\n        \"languageNotSupportedByAttributeError\": {\\n          \"detectedLanguages\": [\\n            \"co\"\\n          ],\\n          \"attribute\": \"TOXICITY\"\\n        }\\n      }\\n    ]\\n  }\\n}\\n')\n",
      " 32%|███████████████████▉                                           | 114/361 [03:19<06:21,  1.54s/it]ERROR:root:The following error occured: \n",
      "({'vary': 'Origin, X-Origin, Referer', 'content-type': 'application/json; charset=UTF-8', 'date': 'Tue, 24 May 2022 01:04:39 GMT', 'server': 'ESF', 'cache-control': 'private', 'x-xss-protection': '0', 'x-frame-options': 'SAMEORIGIN', 'x-content-type-options': 'nosniff', 'alt-svc': 'h3=\":443\"; ma=2592000,h3-29=\":443\"; ma=2592000,h3-Q050=\":443\"; ma=2592000,h3-Q046=\":443\"; ma=2592000,h3-Q043=\":443\"; ma=2592000,quic=\":443\"; ma=2592000; v=\"46,43\"', 'transfer-encoding': 'chunked', 'status': '400', 'content-length': '482', '-content-encoding': 'gzip'}, b'{\\n  \"error\": {\\n    \"code\": 400,\\n    \"message\": \"Attribute TOXICITY does not support request languages: eu\",\\n    \"status\": \"INVALID_ARGUMENT\",\\n    \"details\": [\\n      {\\n        \"@type\": \"type.googleapis.com/google.commentanalyzer.v1alpha1.Error\",\\n        \"errorType\": \"LANGUAGE_NOT_SUPPORTED_BY_ATTRIBUTE\",\\n        \"languageNotSupportedByAttributeError\": {\\n          \"detectedLanguages\": [\\n            \"eu\"\\n          ],\\n          \"attribute\": \"TOXICITY\"\\n        }\\n      }\\n    ]\\n  }\\n}\\n')\n",
      " 32%|████████████████████▏                                          | 116/361 [03:23<06:51,  1.68s/it]ERROR:root:The following error occured: \n",
      "({'vary': 'Origin, X-Origin, Referer', 'content-type': 'application/json; charset=UTF-8', 'date': 'Tue, 24 May 2022 01:04:42 GMT', 'server': 'ESF', 'cache-control': 'private', 'x-xss-protection': '0', 'x-frame-options': 'SAMEORIGIN', 'x-content-type-options': 'nosniff', 'alt-svc': 'h3=\":443\"; ma=2592000,h3-29=\":443\"; ma=2592000,h3-Q050=\":443\"; ma=2592000,h3-Q046=\":443\"; ma=2592000,h3-Q043=\":443\"; ma=2592000,quic=\":443\"; ma=2592000; v=\"46,43\"', 'transfer-encoding': 'chunked', 'status': '400', 'content-length': '482', '-content-encoding': 'gzip'}, b'{\\n  \"error\": {\\n    \"code\": 400,\\n    \"message\": \"Attribute TOXICITY does not support request languages: so\",\\n    \"status\": \"INVALID_ARGUMENT\",\\n    \"details\": [\\n      {\\n        \"@type\": \"type.googleapis.com/google.commentanalyzer.v1alpha1.Error\",\\n        \"errorType\": \"LANGUAGE_NOT_SUPPORTED_BY_ATTRIBUTE\",\\n        \"languageNotSupportedByAttributeError\": {\\n          \"detectedLanguages\": [\\n            \"so\"\\n          ],\\n          \"attribute\": \"TOXICITY\"\\n        }\\n      }\\n    ]\\n  }\\n}\\n')\n",
      " 37%|███████████████████████▌                                       | 135/361 [03:52<05:30,  1.46s/it]ERROR:root:The following error occured: \n",
      "({'vary': 'Origin, X-Origin, Referer', 'content-type': 'application/json; charset=UTF-8', 'date': 'Tue, 24 May 2022 01:05:11 GMT', 'server': 'ESF', 'cache-control': 'private', 'x-xss-protection': '0', 'x-frame-options': 'SAMEORIGIN', 'x-content-type-options': 'nosniff', 'alt-svc': 'h3=\":443\"; ma=2592000,h3-29=\":443\"; ma=2592000,h3-Q050=\":443\"; ma=2592000,h3-Q046=\":443\"; ma=2592000,h3-Q043=\":443\"; ma=2592000,quic=\":443\"; ma=2592000; v=\"46,43\"', 'transfer-encoding': 'chunked', 'status': '400', 'content-length': '482', '-content-encoding': 'gzip'}, b'{\\n  \"error\": {\\n    \"code\": 400,\\n    \"message\": \"Attribute TOXICITY does not support request languages: lb\",\\n    \"status\": \"INVALID_ARGUMENT\",\\n    \"details\": [\\n      {\\n        \"@type\": \"type.googleapis.com/google.commentanalyzer.v1alpha1.Error\",\\n        \"errorType\": \"LANGUAGE_NOT_SUPPORTED_BY_ATTRIBUTE\",\\n        \"languageNotSupportedByAttributeError\": {\\n          \"detectedLanguages\": [\\n            \"lb\"\\n          ],\\n          \"attribute\": \"TOXICITY\"\\n        }\\n      }\\n    ]\\n  }\\n}\\n')\n",
      " 38%|███████████████████████▋                                       | 136/361 [03:54<05:22,  1.43s/it]ERROR:root:The following error occured: \n",
      "({'vary': 'Origin, X-Origin, Referer', 'content-type': 'application/json; charset=UTF-8', 'date': 'Tue, 24 May 2022 01:05:13 GMT', 'server': 'ESF', 'cache-control': 'private', 'x-xss-protection': '0', 'x-frame-options': 'SAMEORIGIN', 'x-content-type-options': 'nosniff', 'alt-svc': 'h3=\":443\"; ma=2592000,h3-29=\":443\"; ma=2592000,h3-Q050=\":443\"; ma=2592000,h3-Q046=\":443\"; ma=2592000,h3-Q043=\":443\"; ma=2592000,quic=\":443\"; ma=2592000; v=\"46,43\"', 'transfer-encoding': 'chunked', 'status': '400', 'content-length': '482', '-content-encoding': 'gzip'}, b'{\\n  \"error\": {\\n    \"code\": 400,\\n    \"message\": \"Attribute TOXICITY does not support request languages: lb\",\\n    \"status\": \"INVALID_ARGUMENT\",\\n    \"details\": [\\n      {\\n        \"@type\": \"type.googleapis.com/google.commentanalyzer.v1alpha1.Error\",\\n        \"errorType\": \"LANGUAGE_NOT_SUPPORTED_BY_ATTRIBUTE\",\\n        \"languageNotSupportedByAttributeError\": {\\n          \"detectedLanguages\": [\\n            \"lb\"\\n          ],\\n          \"attribute\": \"TOXICITY\"\\n        }\\n      }\\n    ]\\n  }\\n}\\n')\n",
      " 38%|████████████████████████                                       | 138/361 [03:57<05:50,  1.57s/it]ERROR:root:The following error occured: \n",
      "({'vary': 'Origin, X-Origin, Referer', 'content-type': 'application/json; charset=UTF-8', 'date': 'Tue, 24 May 2022 01:05:16 GMT', 'server': 'ESF', 'cache-control': 'private', 'x-xss-protection': '0', 'x-frame-options': 'SAMEORIGIN', 'x-content-type-options': 'nosniff', 'alt-svc': 'h3=\":443\"; ma=2592000,h3-29=\":443\"; ma=2592000,h3-Q050=\":443\"; ma=2592000,h3-Q046=\":443\"; ma=2592000,h3-Q043=\":443\"; ma=2592000,quic=\":443\"; ma=2592000; v=\"46,43\"', 'transfer-encoding': 'chunked', 'status': '400', 'content-length': '482', '-content-encoding': 'gzip'}, b'{\\n  \"error\": {\\n    \"code\": 400,\\n    \"message\": \"Attribute TOXICITY does not support request languages: ku\",\\n    \"status\": \"INVALID_ARGUMENT\",\\n    \"details\": [\\n      {\\n        \"@type\": \"type.googleapis.com/google.commentanalyzer.v1alpha1.Error\",\\n        \"errorType\": \"LANGUAGE_NOT_SUPPORTED_BY_ATTRIBUTE\",\\n        \"languageNotSupportedByAttributeError\": {\\n          \"detectedLanguages\": [\\n            \"ku\"\\n          ],\\n          \"attribute\": \"TOXICITY\"\\n        }\\n      }\\n    ]\\n  }\\n}\\n')\n"
     ]
    },
    {
     "name": "stderr",
     "output_type": "stream",
     "text": [
      " 39%|████████████████████████▍                                      | 140/361 [04:00<05:41,  1.54s/it]ERROR:root:The following error occured: \n",
      "({'vary': 'Origin, X-Origin, Referer', 'content-type': 'application/json; charset=UTF-8', 'date': 'Tue, 24 May 2022 01:05:19 GMT', 'server': 'ESF', 'cache-control': 'private', 'x-xss-protection': '0', 'x-frame-options': 'SAMEORIGIN', 'x-content-type-options': 'nosniff', 'alt-svc': 'h3=\":443\"; ma=2592000,h3-29=\":443\"; ma=2592000,h3-Q050=\":443\"; ma=2592000,h3-Q046=\":443\"; ma=2592000,h3-Q043=\":443\"; ma=2592000,quic=\":443\"; ma=2592000; v=\"46,43\"', 'transfer-encoding': 'chunked', 'status': '400', 'content-length': '482', '-content-encoding': 'gzip'}, b'{\\n  \"error\": {\\n    \"code\": 400,\\n    \"message\": \"Attribute TOXICITY does not support request languages: sq\",\\n    \"status\": \"INVALID_ARGUMENT\",\\n    \"details\": [\\n      {\\n        \"@type\": \"type.googleapis.com/google.commentanalyzer.v1alpha1.Error\",\\n        \"errorType\": \"LANGUAGE_NOT_SUPPORTED_BY_ATTRIBUTE\",\\n        \"languageNotSupportedByAttributeError\": {\\n          \"detectedLanguages\": [\\n            \"sq\"\\n          ],\\n          \"attribute\": \"TOXICITY\"\\n        }\\n      }\\n    ]\\n  }\\n}\\n')\n",
      " 40%|█████████████████████████▎                                     | 145/361 [04:08<05:44,  1.59s/it]ERROR:root:The following error occured: \n",
      "({'vary': 'Origin, X-Origin, Referer', 'content-type': 'application/json; charset=UTF-8', 'date': 'Tue, 24 May 2022 01:05:27 GMT', 'server': 'ESF', 'cache-control': 'private', 'x-xss-protection': '0', 'x-frame-options': 'SAMEORIGIN', 'x-content-type-options': 'nosniff', 'alt-svc': 'h3=\":443\"; ma=2592000,h3-29=\":443\"; ma=2592000,h3-Q050=\":443\"; ma=2592000,h3-Q046=\":443\"; ma=2592000,h3-Q043=\":443\"; ma=2592000,quic=\":443\"; ma=2592000; v=\"46,43\"', 'transfer-encoding': 'chunked', 'status': '400', 'content-length': '492', '-content-encoding': 'gzip'}, b'{\\n  \"error\": {\\n    \"code\": 400,\\n    \"message\": \"Attribute TOXICITY does not support request languages: ar-Latn\",\\n    \"status\": \"INVALID_ARGUMENT\",\\n    \"details\": [\\n      {\\n        \"@type\": \"type.googleapis.com/google.commentanalyzer.v1alpha1.Error\",\\n        \"errorType\": \"LANGUAGE_NOT_SUPPORTED_BY_ATTRIBUTE\",\\n        \"languageNotSupportedByAttributeError\": {\\n          \"detectedLanguages\": [\\n            \"ar-Latn\"\\n          ],\\n          \"attribute\": \"TOXICITY\"\\n        }\\n      }\\n    ]\\n  }\\n}\\n')\n",
      " 43%|███████████████████████████                                    | 155/361 [04:23<04:56,  1.44s/it]ERROR:root:The following error occured: \n",
      "({'vary': 'Origin, X-Origin, Referer', 'content-type': 'application/json; charset=UTF-8', 'date': 'Tue, 24 May 2022 01:05:41 GMT', 'server': 'ESF', 'cache-control': 'private', 'x-xss-protection': '0', 'x-frame-options': 'SAMEORIGIN', 'x-content-type-options': 'nosniff', 'alt-svc': 'h3=\":443\"; ma=2592000,h3-29=\":443\"; ma=2592000,h3-Q050=\":443\"; ma=2592000,h3-Q046=\":443\"; ma=2592000,h3-Q043=\":443\"; ma=2592000,quic=\":443\"; ma=2592000; v=\"46,43\"', 'transfer-encoding': 'chunked', 'status': '400', 'content-length': '482', '-content-encoding': 'gzip'}, b'{\\n  \"error\": {\\n    \"code\": 400,\\n    \"message\": \"Attribute TOXICITY does not support request languages: da\",\\n    \"status\": \"INVALID_ARGUMENT\",\\n    \"details\": [\\n      {\\n        \"@type\": \"type.googleapis.com/google.commentanalyzer.v1alpha1.Error\",\\n        \"errorType\": \"LANGUAGE_NOT_SUPPORTED_BY_ATTRIBUTE\",\\n        \"languageNotSupportedByAttributeError\": {\\n          \"detectedLanguages\": [\\n            \"da\"\\n          ],\\n          \"attribute\": \"TOXICITY\"\\n        }\\n      }\\n    ]\\n  }\\n}\\n')\n",
      " 43%|███████████████████████████▏                                   | 156/361 [04:24<04:41,  1.38s/it]ERROR:root:The following error occured: \n",
      "({'vary': 'Origin, X-Origin, Referer', 'content-type': 'application/json; charset=UTF-8', 'date': 'Tue, 24 May 2022 01:05:43 GMT', 'server': 'ESF', 'cache-control': 'private', 'x-xss-protection': '0', 'x-frame-options': 'SAMEORIGIN', 'x-content-type-options': 'nosniff', 'alt-svc': 'h3=\":443\"; ma=2592000,h3-29=\":443\"; ma=2592000,h3-Q050=\":443\"; ma=2592000,h3-Q046=\":443\"; ma=2592000,h3-Q043=\":443\"; ma=2592000,quic=\":443\"; ma=2592000; v=\"46,43\"', 'transfer-encoding': 'chunked', 'status': '400', 'content-length': '484', '-content-encoding': 'gzip'}, b'{\\n  \"error\": {\\n    \"code\": 400,\\n    \"message\": \"Attribute TOXICITY does not support request languages: ceb\",\\n    \"status\": \"INVALID_ARGUMENT\",\\n    \"details\": [\\n      {\\n        \"@type\": \"type.googleapis.com/google.commentanalyzer.v1alpha1.Error\",\\n        \"errorType\": \"LANGUAGE_NOT_SUPPORTED_BY_ATTRIBUTE\",\\n        \"languageNotSupportedByAttributeError\": {\\n          \"detectedLanguages\": [\\n            \"ceb\"\\n          ],\\n          \"attribute\": \"TOXICITY\"\\n        }\\n      }\\n    ]\\n  }\\n}\\n')\n",
      " 45%|████████████████████████████                                   | 161/361 [04:32<05:06,  1.53s/it]ERROR:root:The following error occured: \n",
      "({'vary': 'Origin, X-Origin, Referer', 'content-type': 'application/json; charset=UTF-8', 'date': 'Tue, 24 May 2022 01:05:51 GMT', 'server': 'ESF', 'cache-control': 'private', 'x-xss-protection': '0', 'x-frame-options': 'SAMEORIGIN', 'x-content-type-options': 'nosniff', 'alt-svc': 'h3=\":443\"; ma=2592000,h3-29=\":443\"; ma=2592000,h3-Q050=\":443\"; ma=2592000,h3-Q046=\":443\"; ma=2592000,h3-Q043=\":443\"; ma=2592000,quic=\":443\"; ma=2592000; v=\"46,43\"', 'transfer-encoding': 'chunked', 'status': '400', 'content-length': '492', '-content-encoding': 'gzip'}, b'{\\n  \"error\": {\\n    \"code\": 400,\\n    \"message\": \"Attribute TOXICITY does not support request languages: ru-Latn\",\\n    \"status\": \"INVALID_ARGUMENT\",\\n    \"details\": [\\n      {\\n        \"@type\": \"type.googleapis.com/google.commentanalyzer.v1alpha1.Error\",\\n        \"errorType\": \"LANGUAGE_NOT_SUPPORTED_BY_ATTRIBUTE\",\\n        \"languageNotSupportedByAttributeError\": {\\n          \"detectedLanguages\": [\\n            \"ru-Latn\"\\n          ],\\n          \"attribute\": \"TOXICITY\"\\n        }\\n      }\\n    ]\\n  }\\n}\\n')\n",
      " 45%|████████████████████████████▍                                  | 163/361 [04:35<05:41,  1.72s/it]ERROR:root:The following error occured: \n",
      "({'vary': 'Origin, X-Origin, Referer', 'content-type': 'application/json; charset=UTF-8', 'date': 'Tue, 24 May 2022 01:05:55 GMT', 'server': 'ESF', 'cache-control': 'private', 'x-xss-protection': '0', 'x-frame-options': 'SAMEORIGIN', 'x-content-type-options': 'nosniff', 'alt-svc': 'h3=\":443\"; ma=2592000,h3-29=\":443\"; ma=2592000,h3-Q050=\":443\"; ma=2592000,h3-Q046=\":443\"; ma=2592000,h3-Q043=\":443\"; ma=2592000,quic=\":443\"; ma=2592000; v=\"46,43\"', 'transfer-encoding': 'chunked', 'status': '400', 'content-length': '492', '-content-encoding': 'gzip'}, b'{\\n  \"error\": {\\n    \"code\": 400,\\n    \"message\": \"Attribute TOXICITY does not support request languages: ar-Latn\",\\n    \"status\": \"INVALID_ARGUMENT\",\\n    \"details\": [\\n      {\\n        \"@type\": \"type.googleapis.com/google.commentanalyzer.v1alpha1.Error\",\\n        \"errorType\": \"LANGUAGE_NOT_SUPPORTED_BY_ATTRIBUTE\",\\n        \"languageNotSupportedByAttributeError\": {\\n          \"detectedLanguages\": [\\n            \"ar-Latn\"\\n          ],\\n          \"attribute\": \"TOXICITY\"\\n        }\\n      }\\n    ]\\n  }\\n}\\n')\n",
      " 47%|█████████████████████████████▋                                 | 170/361 [04:48<05:46,  1.81s/it]ERROR:root:The following error occured: \n",
      "({'vary': 'Origin, X-Origin, Referer', 'content-type': 'application/json; charset=UTF-8', 'date': 'Tue, 24 May 2022 01:06:07 GMT', 'server': 'ESF', 'cache-control': 'private', 'x-xss-protection': '0', 'x-frame-options': 'SAMEORIGIN', 'x-content-type-options': 'nosniff', 'alt-svc': 'h3=\":443\"; ma=2592000,h3-29=\":443\"; ma=2592000,h3-Q050=\":443\"; ma=2592000,h3-Q046=\":443\"; ma=2592000,h3-Q043=\":443\"; ma=2592000,quic=\":443\"; ma=2592000; v=\"46,43\"', 'transfer-encoding': 'chunked', 'status': '400', 'content-length': '484', '-content-encoding': 'gzip'}, b'{\\n  \"error\": {\\n    \"code\": 400,\\n    \"message\": \"Attribute TOXICITY does not support request languages: fil\",\\n    \"status\": \"INVALID_ARGUMENT\",\\n    \"details\": [\\n      {\\n        \"@type\": \"type.googleapis.com/google.commentanalyzer.v1alpha1.Error\",\\n        \"errorType\": \"LANGUAGE_NOT_SUPPORTED_BY_ATTRIBUTE\",\\n        \"languageNotSupportedByAttributeError\": {\\n          \"detectedLanguages\": [\\n            \"fil\"\\n          ],\\n          \"attribute\": \"TOXICITY\"\\n        }\\n      }\\n    ]\\n  }\\n}\\n')\n"
     ]
    },
    {
     "name": "stderr",
     "output_type": "stream",
     "text": [
      " 51%|████████████████████████████████                               | 184/361 [05:10<04:32,  1.54s/it]ERROR:root:The following error occured: \n",
      "({'vary': 'Origin, X-Origin, Referer', 'content-type': 'application/json; charset=UTF-8', 'date': 'Tue, 24 May 2022 01:06:29 GMT', 'server': 'ESF', 'cache-control': 'private', 'x-xss-protection': '0', 'x-frame-options': 'SAMEORIGIN', 'x-content-type-options': 'nosniff', 'alt-svc': 'h3=\":443\"; ma=2592000,h3-29=\":443\"; ma=2592000,h3-Q050=\":443\"; ma=2592000,h3-Q046=\":443\"; ma=2592000,h3-Q043=\":443\"; ma=2592000,quic=\":443\"; ma=2592000; v=\"46,43\"', 'transfer-encoding': 'chunked', 'status': '400', 'content-length': '482', '-content-encoding': 'gzip'}, b'{\\n  \"error\": {\\n    \"code\": 400,\\n    \"message\": \"Attribute TOXICITY does not support request languages: no\",\\n    \"status\": \"INVALID_ARGUMENT\",\\n    \"details\": [\\n      {\\n        \"@type\": \"type.googleapis.com/google.commentanalyzer.v1alpha1.Error\",\\n        \"errorType\": \"LANGUAGE_NOT_SUPPORTED_BY_ATTRIBUTE\",\\n        \"languageNotSupportedByAttributeError\": {\\n          \"detectedLanguages\": [\\n            \"no\"\\n          ],\\n          \"attribute\": \"TOXICITY\"\\n        }\\n      }\\n    ]\\n  }\\n}\\n')\n",
      " 55%|██████████████████████████████████▌                            | 198/361 [05:32<04:13,  1.56s/it]ERROR:root:The following error occured: \n",
      "({'vary': 'Origin, X-Origin, Referer', 'content-type': 'application/json; charset=UTF-8', 'date': 'Tue, 24 May 2022 01:06:51 GMT', 'server': 'ESF', 'cache-control': 'private', 'x-xss-protection': '0', 'x-frame-options': 'SAMEORIGIN', 'x-content-type-options': 'nosniff', 'alt-svc': 'h3=\":443\"; ma=2592000,h3-29=\":443\"; ma=2592000,h3-Q050=\":443\"; ma=2592000,h3-Q046=\":443\"; ma=2592000,h3-Q043=\":443\"; ma=2592000,quic=\":443\"; ma=2592000; v=\"46,43\"', 'transfer-encoding': 'chunked', 'status': '400', 'content-length': '492', '-content-encoding': 'gzip'}, b'{\\n  \"error\": {\\n    \"code\": 400,\\n    \"message\": \"Attribute TOXICITY does not support request languages: el-Latn\",\\n    \"status\": \"INVALID_ARGUMENT\",\\n    \"details\": [\\n      {\\n        \"@type\": \"type.googleapis.com/google.commentanalyzer.v1alpha1.Error\",\\n        \"errorType\": \"LANGUAGE_NOT_SUPPORTED_BY_ATTRIBUTE\",\\n        \"languageNotSupportedByAttributeError\": {\\n          \"detectedLanguages\": [\\n            \"el-Latn\"\\n          ],\\n          \"attribute\": \"TOXICITY\"\\n        }\\n      }\\n    ]\\n  }\\n}\\n')\n",
      " 55%|██████████████████████████████████▉                            | 200/361 [05:34<03:51,  1.44s/it]ERROR:root:The following error occured: \n",
      "({'vary': 'Origin, X-Origin, Referer', 'content-type': 'application/json; charset=UTF-8', 'date': 'Tue, 24 May 2022 01:06:53 GMT', 'server': 'ESF', 'cache-control': 'private', 'x-xss-protection': '0', 'x-frame-options': 'SAMEORIGIN', 'x-content-type-options': 'nosniff', 'alt-svc': 'h3=\":443\"; ma=2592000,h3-29=\":443\"; ma=2592000,h3-Q050=\":443\"; ma=2592000,h3-Q046=\":443\"; ma=2592000,h3-Q043=\":443\"; ma=2592000,quic=\":443\"; ma=2592000; v=\"46,43\"', 'transfer-encoding': 'chunked', 'status': '400', 'content-length': '482', '-content-encoding': 'gzip'}, b'{\\n  \"error\": {\\n    \"code\": 400,\\n    \"message\": \"Attribute TOXICITY does not support request languages: sv\",\\n    \"status\": \"INVALID_ARGUMENT\",\\n    \"details\": [\\n      {\\n        \"@type\": \"type.googleapis.com/google.commentanalyzer.v1alpha1.Error\",\\n        \"errorType\": \"LANGUAGE_NOT_SUPPORTED_BY_ATTRIBUTE\",\\n        \"languageNotSupportedByAttributeError\": {\\n          \"detectedLanguages\": [\\n            \"sv\"\\n          ],\\n          \"attribute\": \"TOXICITY\"\\n        }\\n      }\\n    ]\\n  }\\n}\\n')\n",
      " 56%|███████████████████████████████████▎                           | 202/361 [05:37<03:41,  1.40s/it]ERROR:root:The following error occured: \n",
      "({'vary': 'Origin, X-Origin, Referer', 'content-type': 'application/json; charset=UTF-8', 'date': 'Tue, 24 May 2022 01:06:56 GMT', 'server': 'ESF', 'cache-control': 'private', 'x-xss-protection': '0', 'x-frame-options': 'SAMEORIGIN', 'x-content-type-options': 'nosniff', 'alt-svc': 'h3=\":443\"; ma=2592000,h3-29=\":443\"; ma=2592000,h3-Q050=\":443\"; ma=2592000,h3-Q046=\":443\"; ma=2592000,h3-Q043=\":443\"; ma=2592000,quic=\":443\"; ma=2592000; v=\"46,43\"', 'transfer-encoding': 'chunked', 'status': '400', 'content-length': '492', '-content-encoding': 'gzip'}, b'{\\n  \"error\": {\\n    \"code\": 400,\\n    \"message\": \"Attribute TOXICITY does not support request languages: ru-Latn\",\\n    \"status\": \"INVALID_ARGUMENT\",\\n    \"details\": [\\n      {\\n        \"@type\": \"type.googleapis.com/google.commentanalyzer.v1alpha1.Error\",\\n        \"errorType\": \"LANGUAGE_NOT_SUPPORTED_BY_ATTRIBUTE\",\\n        \"languageNotSupportedByAttributeError\": {\\n          \"detectedLanguages\": [\\n            \"ru-Latn\"\\n          ],\\n          \"attribute\": \"TOXICITY\"\\n        }\\n      }\\n    ]\\n  }\\n}\\n')\n",
      " 56%|███████████████████████████████████▍                           | 203/361 [05:38<03:31,  1.34s/it]ERROR:root:The following error occured: \n",
      "({'vary': 'Origin, X-Origin, Referer', 'content-type': 'application/json; charset=UTF-8', 'date': 'Tue, 24 May 2022 01:06:57 GMT', 'server': 'ESF', 'cache-control': 'private', 'x-xss-protection': '0', 'x-frame-options': 'SAMEORIGIN', 'x-content-type-options': 'nosniff', 'alt-svc': 'h3=\":443\"; ma=2592000,h3-29=\":443\"; ma=2592000,h3-Q050=\":443\"; ma=2592000,h3-Q046=\":443\"; ma=2592000,h3-Q043=\":443\"; ma=2592000,quic=\":443\"; ma=2592000; v=\"46,43\"', 'transfer-encoding': 'chunked', 'status': '400', 'content-length': '482', '-content-encoding': 'gzip'}, b'{\\n  \"error\": {\\n    \"code\": 400,\\n    \"message\": \"Attribute TOXICITY does not support request languages: sw\",\\n    \"status\": \"INVALID_ARGUMENT\",\\n    \"details\": [\\n      {\\n        \"@type\": \"type.googleapis.com/google.commentanalyzer.v1alpha1.Error\",\\n        \"errorType\": \"LANGUAGE_NOT_SUPPORTED_BY_ATTRIBUTE\",\\n        \"languageNotSupportedByAttributeError\": {\\n          \"detectedLanguages\": [\\n            \"sw\"\\n          ],\\n          \"attribute\": \"TOXICITY\"\\n        }\\n      }\\n    ]\\n  }\\n}\\n')\n",
      " 58%|████████████████████████████████████▊                          | 211/361 [05:51<03:57,  1.58s/it]ERROR:root:The following error occured: \n",
      "({'vary': 'Origin, X-Origin, Referer', 'content-type': 'application/json; charset=UTF-8', 'date': 'Tue, 24 May 2022 01:07:09 GMT', 'server': 'ESF', 'cache-control': 'private', 'x-xss-protection': '0', 'x-frame-options': 'SAMEORIGIN', 'x-content-type-options': 'nosniff', 'alt-svc': 'h3=\":443\"; ma=2592000,h3-29=\":443\"; ma=2592000,h3-Q050=\":443\"; ma=2592000,h3-Q046=\":443\"; ma=2592000,h3-Q043=\":443\"; ma=2592000,quic=\":443\"; ma=2592000; v=\"46,43\"', 'transfer-encoding': 'chunked', 'status': '400', 'content-length': '482', '-content-encoding': 'gzip'}, b'{\\n  \"error\": {\\n    \"code\": 400,\\n    \"message\": \"Attribute TOXICITY does not support request languages: hu\",\\n    \"status\": \"INVALID_ARGUMENT\",\\n    \"details\": [\\n      {\\n        \"@type\": \"type.googleapis.com/google.commentanalyzer.v1alpha1.Error\",\\n        \"errorType\": \"LANGUAGE_NOT_SUPPORTED_BY_ATTRIBUTE\",\\n        \"languageNotSupportedByAttributeError\": {\\n          \"detectedLanguages\": [\\n            \"hu\"\\n          ],\\n          \"attribute\": \"TOXICITY\"\\n        }\\n      }\\n    ]\\n  }\\n}\\n')\n",
      " 59%|█████████████████████████████████████▏                         | 213/361 [05:53<03:39,  1.48s/it]ERROR:root:The following error occured: \n",
      "({'vary': 'Origin, X-Origin, Referer', 'content-type': 'application/json; charset=UTF-8', 'date': 'Tue, 24 May 2022 01:07:13 GMT', 'server': 'ESF', 'cache-control': 'private', 'x-xss-protection': '0', 'x-frame-options': 'SAMEORIGIN', 'x-content-type-options': 'nosniff', 'alt-svc': 'h3=\":443\"; ma=2592000,h3-29=\":443\"; ma=2592000,h3-Q050=\":443\"; ma=2592000,h3-Q046=\":443\"; ma=2592000,h3-Q043=\":443\"; ma=2592000,quic=\":443\"; ma=2592000; v=\"46,43\"', 'transfer-encoding': 'chunked', 'status': '400', 'content-length': '482', '-content-encoding': 'gzip'}, b'{\\n  \"error\": {\\n    \"code\": 400,\\n    \"message\": \"Attribute TOXICITY does not support request languages: so\",\\n    \"status\": \"INVALID_ARGUMENT\",\\n    \"details\": [\\n      {\\n        \"@type\": \"type.googleapis.com/google.commentanalyzer.v1alpha1.Error\",\\n        \"errorType\": \"LANGUAGE_NOT_SUPPORTED_BY_ATTRIBUTE\",\\n        \"languageNotSupportedByAttributeError\": {\\n          \"detectedLanguages\": [\\n            \"so\"\\n          ],\\n          \"attribute\": \"TOXICITY\"\\n        }\\n      }\\n    ]\\n  }\\n}\\n')\n"
     ]
    },
    {
     "name": "stderr",
     "output_type": "stream",
     "text": [
      " 60%|█████████████████████████████████████▌                         | 215/361 [05:57<03:43,  1.53s/it]ERROR:root:The following error occured: \n",
      "({'vary': 'Origin, X-Origin, Referer', 'content-type': 'application/json; charset=UTF-8', 'date': 'Tue, 24 May 2022 01:07:15 GMT', 'server': 'ESF', 'cache-control': 'private', 'x-xss-protection': '0', 'x-frame-options': 'SAMEORIGIN', 'x-content-type-options': 'nosniff', 'alt-svc': 'h3=\":443\"; ma=2592000,h3-29=\":443\"; ma=2592000,h3-Q050=\":443\"; ma=2592000,h3-Q046=\":443\"; ma=2592000,h3-Q043=\":443\"; ma=2592000,quic=\":443\"; ma=2592000; v=\"46,43\"', 'transfer-encoding': 'chunked', 'status': '400', 'content-length': '482', '-content-encoding': 'gzip'}, b'{\\n  \"error\": {\\n    \"code\": 400,\\n    \"message\": \"Attribute TOXICITY does not support request languages: st\",\\n    \"status\": \"INVALID_ARGUMENT\",\\n    \"details\": [\\n      {\\n        \"@type\": \"type.googleapis.com/google.commentanalyzer.v1alpha1.Error\",\\n        \"errorType\": \"LANGUAGE_NOT_SUPPORTED_BY_ATTRIBUTE\",\\n        \"languageNotSupportedByAttributeError\": {\\n          \"detectedLanguages\": [\\n            \"st\"\\n          ],\\n          \"attribute\": \"TOXICITY\"\\n        }\\n      }\\n    ]\\n  }\\n}\\n')\n",
      " 62%|███████████████████████████████████████▎                       | 225/361 [06:13<03:57,  1.75s/it]ERROR:root:The following error occured: \n",
      "({'vary': 'Origin, X-Origin, Referer', 'content-type': 'application/json; charset=UTF-8', 'date': 'Tue, 24 May 2022 01:07:32 GMT', 'server': 'ESF', 'cache-control': 'private', 'x-xss-protection': '0', 'x-frame-options': 'SAMEORIGIN', 'x-content-type-options': 'nosniff', 'alt-svc': 'h3=\":443\"; ma=2592000,h3-29=\":443\"; ma=2592000,h3-Q050=\":443\"; ma=2592000,h3-Q046=\":443\"; ma=2592000,h3-Q043=\":443\"; ma=2592000,quic=\":443\"; ma=2592000; v=\"46,43\"', 'transfer-encoding': 'chunked', 'status': '400', 'content-length': '482', '-content-encoding': 'gzip'}, b'{\\n  \"error\": {\\n    \"code\": 400,\\n    \"message\": \"Attribute TOXICITY does not support request languages: lv\",\\n    \"status\": \"INVALID_ARGUMENT\",\\n    \"details\": [\\n      {\\n        \"@type\": \"type.googleapis.com/google.commentanalyzer.v1alpha1.Error\",\\n        \"errorType\": \"LANGUAGE_NOT_SUPPORTED_BY_ATTRIBUTE\",\\n        \"languageNotSupportedByAttributeError\": {\\n          \"detectedLanguages\": [\\n            \"lv\"\\n          ],\\n          \"attribute\": \"TOXICITY\"\\n        }\\n      }\\n    ]\\n  }\\n}\\n')\n",
      " 63%|███████████████████████████████████████▍                       | 226/361 [06:15<03:39,  1.63s/it]ERROR:root:The following error occured: \n",
      "({'vary': 'Origin, X-Origin, Referer', 'content-type': 'application/json; charset=UTF-8', 'date': 'Tue, 24 May 2022 01:07:33 GMT', 'server': 'ESF', 'cache-control': 'private', 'x-xss-protection': '0', 'x-frame-options': 'SAMEORIGIN', 'x-content-type-options': 'nosniff', 'alt-svc': 'h3=\":443\"; ma=2592000,h3-29=\":443\"; ma=2592000,h3-Q050=\":443\"; ma=2592000,h3-Q046=\":443\"; ma=2592000,h3-Q043=\":443\"; ma=2592000,quic=\":443\"; ma=2592000; v=\"46,43\"', 'transfer-encoding': 'chunked', 'status': '400', 'content-length': '482', '-content-encoding': 'gzip'}, b'{\\n  \"error\": {\\n    \"code\": 400,\\n    \"message\": \"Attribute TOXICITY does not support request languages: so\",\\n    \"status\": \"INVALID_ARGUMENT\",\\n    \"details\": [\\n      {\\n        \"@type\": \"type.googleapis.com/google.commentanalyzer.v1alpha1.Error\",\\n        \"errorType\": \"LANGUAGE_NOT_SUPPORTED_BY_ATTRIBUTE\",\\n        \"languageNotSupportedByAttributeError\": {\\n          \"detectedLanguages\": [\\n            \"so\"\\n          ],\\n          \"attribute\": \"TOXICITY\"\\n        }\\n      }\\n    ]\\n  }\\n}\\n')\n",
      " 64%|████████████████████████████████████████▏                      | 230/361 [06:21<03:33,  1.63s/it]ERROR:root:The following error occured: \n",
      "({'vary': 'Origin, X-Origin, Referer', 'content-type': 'application/json; charset=UTF-8', 'date': 'Tue, 24 May 2022 01:07:40 GMT', 'server': 'ESF', 'cache-control': 'private', 'x-xss-protection': '0', 'x-frame-options': 'SAMEORIGIN', 'x-content-type-options': 'nosniff', 'alt-svc': 'h3=\":443\"; ma=2592000,h3-29=\":443\"; ma=2592000,h3-Q050=\":443\"; ma=2592000,h3-Q046=\":443\"; ma=2592000,h3-Q043=\":443\"; ma=2592000,quic=\":443\"; ma=2592000; v=\"46,43\"', 'transfer-encoding': 'chunked', 'status': '400', 'content-length': '482', '-content-encoding': 'gzip'}, b'{\\n  \"error\": {\\n    \"code\": 400,\\n    \"message\": \"Attribute TOXICITY does not support request languages: sw\",\\n    \"status\": \"INVALID_ARGUMENT\",\\n    \"details\": [\\n      {\\n        \"@type\": \"type.googleapis.com/google.commentanalyzer.v1alpha1.Error\",\\n        \"errorType\": \"LANGUAGE_NOT_SUPPORTED_BY_ATTRIBUTE\",\\n        \"languageNotSupportedByAttributeError\": {\\n          \"detectedLanguages\": [\\n            \"sw\"\\n          ],\\n          \"attribute\": \"TOXICITY\"\\n        }\\n      }\\n    ]\\n  }\\n}\\n')\n",
      " 65%|█████████████████████████████████████████                      | 235/361 [06:28<03:05,  1.47s/it]ERROR:root:The following error occured: \n",
      "({'vary': 'Origin, X-Origin, Referer', 'content-type': 'application/json; charset=UTF-8', 'date': 'Tue, 24 May 2022 01:07:48 GMT', 'server': 'ESF', 'cache-control': 'private', 'x-xss-protection': '0', 'x-frame-options': 'SAMEORIGIN', 'x-content-type-options': 'nosniff', 'alt-svc': 'h3=\":443\"; ma=2592000,h3-29=\":443\"; ma=2592000,h3-Q050=\":443\"; ma=2592000,h3-Q046=\":443\"; ma=2592000,h3-Q043=\":443\"; ma=2592000,quic=\":443\"; ma=2592000; v=\"46,43\"', 'transfer-encoding': 'chunked', 'status': '400', 'content-length': '482', '-content-encoding': 'gzip'}, b'{\\n  \"error\": {\\n    \"code\": 400,\\n    \"message\": \"Attribute TOXICITY does not support request languages: af\",\\n    \"status\": \"INVALID_ARGUMENT\",\\n    \"details\": [\\n      {\\n        \"@type\": \"type.googleapis.com/google.commentanalyzer.v1alpha1.Error\",\\n        \"errorType\": \"LANGUAGE_NOT_SUPPORTED_BY_ATTRIBUTE\",\\n        \"languageNotSupportedByAttributeError\": {\\n          \"detectedLanguages\": [\\n            \"af\"\\n          ],\\n          \"attribute\": \"TOXICITY\"\\n        }\\n      }\\n    ]\\n  }\\n}\\n')\n",
      " 66%|█████████████████████████████████████████▎                     | 237/361 [06:32<03:30,  1.70s/it]ERROR:root:The following error occured: \n",
      "({'vary': 'Origin, X-Origin, Referer', 'content-type': 'application/json; charset=UTF-8', 'date': 'Tue, 24 May 2022 01:07:51 GMT', 'server': 'ESF', 'cache-control': 'private', 'x-xss-protection': '0', 'x-frame-options': 'SAMEORIGIN', 'x-content-type-options': 'nosniff', 'alt-svc': 'h3=\":443\"; ma=2592000,h3-29=\":443\"; ma=2592000,h3-Q050=\":443\"; ma=2592000,h3-Q046=\":443\"; ma=2592000,h3-Q043=\":443\"; ma=2592000,quic=\":443\"; ma=2592000; v=\"46,43\"', 'transfer-encoding': 'chunked', 'status': '400', 'content-length': '482', '-content-encoding': 'gzip'}, b'{\\n  \"error\": {\\n    \"code\": 400,\\n    \"message\": \"Attribute TOXICITY does not support request languages: lb\",\\n    \"status\": \"INVALID_ARGUMENT\",\\n    \"details\": [\\n      {\\n        \"@type\": \"type.googleapis.com/google.commentanalyzer.v1alpha1.Error\",\\n        \"errorType\": \"LANGUAGE_NOT_SUPPORTED_BY_ATTRIBUTE\",\\n        \"languageNotSupportedByAttributeError\": {\\n          \"detectedLanguages\": [\\n            \"lb\"\\n          ],\\n          \"attribute\": \"TOXICITY\"\\n        }\\n      }\\n    ]\\n  }\\n}\\n')\n",
      " 66%|█████████████████████████████████████████▋                     | 239/361 [06:35<03:05,  1.52s/it]ERROR:root:The following error occured: \n",
      "({'vary': 'Origin, X-Origin, Referer', 'content-type': 'application/json; charset=UTF-8', 'date': 'Tue, 24 May 2022 01:07:54 GMT', 'server': 'ESF', 'cache-control': 'private', 'x-xss-protection': '0', 'x-frame-options': 'SAMEORIGIN', 'x-content-type-options': 'nosniff', 'alt-svc': 'h3=\":443\"; ma=2592000,h3-29=\":443\"; ma=2592000,h3-Q050=\":443\"; ma=2592000,h3-Q046=\":443\"; ma=2592000,h3-Q043=\":443\"; ma=2592000,quic=\":443\"; ma=2592000; v=\"46,43\"', 'transfer-encoding': 'chunked', 'status': '400', 'content-length': '482', '-content-encoding': 'gzip'}, b'{\\n  \"error\": {\\n    \"code\": 400,\\n    \"message\": \"Attribute TOXICITY does not support request languages: fi\",\\n    \"status\": \"INVALID_ARGUMENT\",\\n    \"details\": [\\n      {\\n        \"@type\": \"type.googleapis.com/google.commentanalyzer.v1alpha1.Error\",\\n        \"errorType\": \"LANGUAGE_NOT_SUPPORTED_BY_ATTRIBUTE\",\\n        \"languageNotSupportedByAttributeError\": {\\n          \"detectedLanguages\": [\\n            \"fi\"\\n          ],\\n          \"attribute\": \"TOXICITY\"\\n        }\\n      }\\n    ]\\n  }\\n}\\n')\n"
     ]
    },
    {
     "name": "stderr",
     "output_type": "stream",
     "text": [
      " 67%|██████████████████████████████████████████▏                    | 242/361 [06:39<03:02,  1.54s/it]ERROR:root:The following error occured: \n",
      "({'vary': 'Origin, X-Origin, Referer', 'content-type': 'application/json; charset=UTF-8', 'date': 'Tue, 24 May 2022 01:07:58 GMT', 'server': 'ESF', 'cache-control': 'private', 'x-xss-protection': '0', 'x-frame-options': 'SAMEORIGIN', 'x-content-type-options': 'nosniff', 'alt-svc': 'h3=\":443\"; ma=2592000,h3-29=\":443\"; ma=2592000,h3-Q050=\":443\"; ma=2592000,h3-Q046=\":443\"; ma=2592000,h3-Q043=\":443\"; ma=2592000,quic=\":443\"; ma=2592000; v=\"46,43\"', 'transfer-encoding': 'chunked', 'status': '400', 'content-length': '482', '-content-encoding': 'gzip'}, b'{\\n  \"error\": {\\n    \"code\": 400,\\n    \"message\": \"Attribute TOXICITY does not support request languages: fy\",\\n    \"status\": \"INVALID_ARGUMENT\",\\n    \"details\": [\\n      {\\n        \"@type\": \"type.googleapis.com/google.commentanalyzer.v1alpha1.Error\",\\n        \"errorType\": \"LANGUAGE_NOT_SUPPORTED_BY_ATTRIBUTE\",\\n        \"languageNotSupportedByAttributeError\": {\\n          \"detectedLanguages\": [\\n            \"fy\"\\n          ],\\n          \"attribute\": \"TOXICITY\"\\n        }\\n      }\\n    ]\\n  }\\n}\\n')\n",
      " 68%|██████████████████████████████████████████▌                    | 244/361 [06:42<02:57,  1.52s/it]ERROR:root:The following error occured: \n",
      "({'vary': 'Origin, X-Origin, Referer', 'content-type': 'application/json; charset=UTF-8', 'date': 'Tue, 24 May 2022 01:08:01 GMT', 'server': 'ESF', 'cache-control': 'private', 'x-xss-protection': '0', 'x-frame-options': 'SAMEORIGIN', 'x-content-type-options': 'nosniff', 'alt-svc': 'h3=\":443\"; ma=2592000,h3-29=\":443\"; ma=2592000,h3-Q050=\":443\"; ma=2592000,h3-Q046=\":443\"; ma=2592000,h3-Q043=\":443\"; ma=2592000,quic=\":443\"; ma=2592000; v=\"46,43\"', 'transfer-encoding': 'chunked', 'status': '400', 'content-length': '482', '-content-encoding': 'gzip'}, b'{\\n  \"error\": {\\n    \"code\": 400,\\n    \"message\": \"Attribute TOXICITY does not support request languages: et\",\\n    \"status\": \"INVALID_ARGUMENT\",\\n    \"details\": [\\n      {\\n        \"@type\": \"type.googleapis.com/google.commentanalyzer.v1alpha1.Error\",\\n        \"errorType\": \"LANGUAGE_NOT_SUPPORTED_BY_ATTRIBUTE\",\\n        \"languageNotSupportedByAttributeError\": {\\n          \"detectedLanguages\": [\\n            \"et\"\\n          ],\\n          \"attribute\": \"TOXICITY\"\\n        }\\n      }\\n    ]\\n  }\\n}\\n')\n",
      " 69%|███████████████████████████████████████████▋                   | 250/361 [06:51<02:47,  1.51s/it]ERROR:root:The following error occured: \n",
      "({'vary': 'Origin, X-Origin, Referer', 'content-type': 'application/json; charset=UTF-8', 'date': 'Tue, 24 May 2022 01:08:10 GMT', 'server': 'ESF', 'cache-control': 'private', 'x-xss-protection': '0', 'x-frame-options': 'SAMEORIGIN', 'x-content-type-options': 'nosniff', 'alt-svc': 'h3=\":443\"; ma=2592000,h3-29=\":443\"; ma=2592000,h3-Q050=\":443\"; ma=2592000,h3-Q046=\":443\"; ma=2592000,h3-Q043=\":443\"; ma=2592000,quic=\":443\"; ma=2592000; v=\"46,43\"', 'transfer-encoding': 'chunked', 'status': '400', 'content-length': '482', '-content-encoding': 'gzip'}, b'{\\n  \"error\": {\\n    \"code\": 400,\\n    \"message\": \"Attribute TOXICITY does not support request languages: sv\",\\n    \"status\": \"INVALID_ARGUMENT\",\\n    \"details\": [\\n      {\\n        \"@type\": \"type.googleapis.com/google.commentanalyzer.v1alpha1.Error\",\\n        \"errorType\": \"LANGUAGE_NOT_SUPPORTED_BY_ATTRIBUTE\",\\n        \"languageNotSupportedByAttributeError\": {\\n          \"detectedLanguages\": [\\n            \"sv\"\\n          ],\\n          \"attribute\": \"TOXICITY\"\\n        }\\n      }\\n    ]\\n  }\\n}\\n')\n",
      " 70%|███████████████████████████████████████████▊                   | 251/361 [06:52<02:37,  1.43s/it]ERROR:root:The following error occured: \n",
      "({'vary': 'Origin, X-Origin, Referer', 'content-type': 'application/json; charset=UTF-8', 'date': 'Tue, 24 May 2022 01:08:12 GMT', 'server': 'ESF', 'cache-control': 'private', 'x-xss-protection': '0', 'x-frame-options': 'SAMEORIGIN', 'x-content-type-options': 'nosniff', 'alt-svc': 'h3=\":443\"; ma=2592000,h3-29=\":443\"; ma=2592000,h3-Q050=\":443\"; ma=2592000,h3-Q046=\":443\"; ma=2592000,h3-Q043=\":443\"; ma=2592000,quic=\":443\"; ma=2592000; v=\"46,43\"', 'transfer-encoding': 'chunked', 'status': '400', 'content-length': '482', '-content-encoding': 'gzip'}, b'{\\n  \"error\": {\\n    \"code\": 400,\\n    \"message\": \"Attribute TOXICITY does not support request languages: jv\",\\n    \"status\": \"INVALID_ARGUMENT\",\\n    \"details\": [\\n      {\\n        \"@type\": \"type.googleapis.com/google.commentanalyzer.v1alpha1.Error\",\\n        \"errorType\": \"LANGUAGE_NOT_SUPPORTED_BY_ATTRIBUTE\",\\n        \"languageNotSupportedByAttributeError\": {\\n          \"detectedLanguages\": [\\n            \"jv\"\\n          ],\\n          \"attribute\": \"TOXICITY\"\\n        }\\n      }\\n    ]\\n  }\\n}\\n')\n",
      " 70%|████████████████████████████████████████████▎                  | 254/361 [06:57<02:39,  1.49s/it]ERROR:root:The following error occured: \n",
      "({'vary': 'Origin, X-Origin, Referer', 'content-type': 'application/json; charset=UTF-8', 'date': 'Tue, 24 May 2022 01:08:17 GMT', 'server': 'ESF', 'cache-control': 'private', 'x-xss-protection': '0', 'x-frame-options': 'SAMEORIGIN', 'x-content-type-options': 'nosniff', 'alt-svc': 'h3=\":443\"; ma=2592000,h3-29=\":443\"; ma=2592000,h3-Q050=\":443\"; ma=2592000,h3-Q046=\":443\"; ma=2592000,h3-Q043=\":443\"; ma=2592000,quic=\":443\"; ma=2592000; v=\"46,43\"', 'transfer-encoding': 'chunked', 'status': '400', 'content-length': '482', '-content-encoding': 'gzip'}, b'{\\n  \"error\": {\\n    \"code\": 400,\\n    \"message\": \"Attribute TOXICITY does not support request languages: so\",\\n    \"status\": \"INVALID_ARGUMENT\",\\n    \"details\": [\\n      {\\n        \"@type\": \"type.googleapis.com/google.commentanalyzer.v1alpha1.Error\",\\n        \"errorType\": \"LANGUAGE_NOT_SUPPORTED_BY_ATTRIBUTE\",\\n        \"languageNotSupportedByAttributeError\": {\\n          \"detectedLanguages\": [\\n            \"so\"\\n          ],\\n          \"attribute\": \"TOXICITY\"\\n        }\\n      }\\n    ]\\n  }\\n}\\n')\n",
      " 73%|█████████████████████████████████████████████▉                 | 263/361 [07:12<02:31,  1.54s/it]ERROR:root:The following error occured: \n",
      "({'vary': 'Origin, X-Origin, Referer', 'content-type': 'application/json; charset=UTF-8', 'date': 'Tue, 24 May 2022 01:08:31 GMT', 'server': 'ESF', 'cache-control': 'private', 'x-xss-protection': '0', 'x-frame-options': 'SAMEORIGIN', 'x-content-type-options': 'nosniff', 'alt-svc': 'h3=\":443\"; ma=2592000,h3-29=\":443\"; ma=2592000,h3-Q050=\":443\"; ma=2592000,h3-Q046=\":443\"; ma=2592000,h3-Q043=\":443\"; ma=2592000,quic=\":443\"; ma=2592000; v=\"46,43\"', 'transfer-encoding': 'chunked', 'status': '400', 'content-length': '484', '-content-encoding': 'gzip'}, b'{\\n  \"error\": {\\n    \"code\": 400,\\n    \"message\": \"Attribute TOXICITY does not support request languages: fil\",\\n    \"status\": \"INVALID_ARGUMENT\",\\n    \"details\": [\\n      {\\n        \"@type\": \"type.googleapis.com/google.commentanalyzer.v1alpha1.Error\",\\n        \"errorType\": \"LANGUAGE_NOT_SUPPORTED_BY_ATTRIBUTE\",\\n        \"languageNotSupportedByAttributeError\": {\\n          \"detectedLanguages\": [\\n            \"fil\"\\n          ],\\n          \"attribute\": \"TOXICITY\"\\n        }\\n      }\\n    ]\\n  }\\n}\\n')\n",
      " 77%|████████████████████████████████████████████████▌              | 278/361 [07:35<02:01,  1.47s/it]ERROR:root:The following error occured: \n",
      "({'vary': 'Origin, X-Origin, Referer', 'content-type': 'application/json; charset=UTF-8', 'date': 'Tue, 24 May 2022 01:08:53 GMT', 'server': 'ESF', 'cache-control': 'private', 'x-xss-protection': '0', 'x-frame-options': 'SAMEORIGIN', 'x-content-type-options': 'nosniff', 'alt-svc': 'h3=\":443\"; ma=2592000,h3-29=\":443\"; ma=2592000,h3-Q050=\":443\"; ma=2592000,h3-Q046=\":443\"; ma=2592000,h3-Q043=\":443\"; ma=2592000,quic=\":443\"; ma=2592000; v=\"46,43\"', 'transfer-encoding': 'chunked', 'status': '400', 'content-length': '482', '-content-encoding': 'gzip'}, b'{\\n  \"error\": {\\n    \"code\": 400,\\n    \"message\": \"Attribute TOXICITY does not support request languages: mi\",\\n    \"status\": \"INVALID_ARGUMENT\",\\n    \"details\": [\\n      {\\n        \"@type\": \"type.googleapis.com/google.commentanalyzer.v1alpha1.Error\",\\n        \"errorType\": \"LANGUAGE_NOT_SUPPORTED_BY_ATTRIBUTE\",\\n        \"languageNotSupportedByAttributeError\": {\\n          \"detectedLanguages\": [\\n            \"mi\"\\n          ],\\n          \"attribute\": \"TOXICITY\"\\n        }\\n      }\\n    ]\\n  }\\n}\\n')\n"
     ]
    },
    {
     "name": "stderr",
     "output_type": "stream",
     "text": [
      " 77%|████████████████████████████████████████████████▋              | 279/361 [07:36<01:55,  1.40s/it]ERROR:root:The following error occured: \n",
      "({'vary': 'Origin, X-Origin, Referer', 'content-type': 'application/json; charset=UTF-8', 'date': 'Tue, 24 May 2022 01:08:55 GMT', 'server': 'ESF', 'cache-control': 'private', 'x-xss-protection': '0', 'x-frame-options': 'SAMEORIGIN', 'x-content-type-options': 'nosniff', 'alt-svc': 'h3=\":443\"; ma=2592000,h3-29=\":443\"; ma=2592000,h3-Q050=\":443\"; ma=2592000,h3-Q046=\":443\"; ma=2592000,h3-Q043=\":443\"; ma=2592000,quic=\":443\"; ma=2592000; v=\"46,43\"', 'transfer-encoding': 'chunked', 'status': '400', 'content-length': '482', '-content-encoding': 'gzip'}, b'{\\n  \"error\": {\\n    \"code\": 400,\\n    \"message\": \"Attribute TOXICITY does not support request languages: mg\",\\n    \"status\": \"INVALID_ARGUMENT\",\\n    \"details\": [\\n      {\\n        \"@type\": \"type.googleapis.com/google.commentanalyzer.v1alpha1.Error\",\\n        \"errorType\": \"LANGUAGE_NOT_SUPPORTED_BY_ATTRIBUTE\",\\n        \"languageNotSupportedByAttributeError\": {\\n          \"detectedLanguages\": [\\n            \"mg\"\\n          ],\\n          \"attribute\": \"TOXICITY\"\\n        }\\n      }\\n    ]\\n  }\\n}\\n')\n",
      " 78%|████████████████████████████████████████████████▊              | 280/361 [07:37<01:51,  1.38s/it]ERROR:root:The following error occured: \n",
      "({'vary': 'Origin, X-Origin, Referer', 'content-type': 'application/json; charset=UTF-8', 'date': 'Tue, 24 May 2022 01:08:57 GMT', 'server': 'ESF', 'cache-control': 'private', 'x-xss-protection': '0', 'x-frame-options': 'SAMEORIGIN', 'x-content-type-options': 'nosniff', 'alt-svc': 'h3=\":443\"; ma=2592000,h3-29=\":443\"; ma=2592000,h3-Q050=\":443\"; ma=2592000,h3-Q046=\":443\"; ma=2592000,h3-Q043=\":443\"; ma=2592000,quic=\":443\"; ma=2592000; v=\"46,43\"', 'transfer-encoding': 'chunked', 'status': '400', 'content-length': '484', '-content-encoding': 'gzip'}, b'{\\n  \"error\": {\\n    \"code\": 400,\\n    \"message\": \"Attribute TOXICITY does not support request languages: fil\",\\n    \"status\": \"INVALID_ARGUMENT\",\\n    \"details\": [\\n      {\\n        \"@type\": \"type.googleapis.com/google.commentanalyzer.v1alpha1.Error\",\\n        \"errorType\": \"LANGUAGE_NOT_SUPPORTED_BY_ATTRIBUTE\",\\n        \"languageNotSupportedByAttributeError\": {\\n          \"detectedLanguages\": [\\n            \"fil\"\\n          ],\\n          \"attribute\": \"TOXICITY\"\\n        }\\n      }\\n    ]\\n  }\\n}\\n')\n",
      " 79%|█████████████████████████████████████████████████▌             | 284/361 [07:44<02:01,  1.57s/it]ERROR:root:The following error occured: \n",
      "({'vary': 'Origin, X-Origin, Referer', 'content-type': 'application/json; charset=UTF-8', 'date': 'Tue, 24 May 2022 01:09:03 GMT', 'server': 'ESF', 'cache-control': 'private', 'x-xss-protection': '0', 'x-frame-options': 'SAMEORIGIN', 'x-content-type-options': 'nosniff', 'alt-svc': 'h3=\":443\"; ma=2592000,h3-29=\":443\"; ma=2592000,h3-Q050=\":443\"; ma=2592000,h3-Q046=\":443\"; ma=2592000,h3-Q043=\":443\"; ma=2592000,quic=\":443\"; ma=2592000; v=\"46,43\"', 'transfer-encoding': 'chunked', 'status': '400', 'content-length': '482', '-content-encoding': 'gzip'}, b'{\\n  \"error\": {\\n    \"code\": 400,\\n    \"message\": \"Attribute TOXICITY does not support request languages: ga\",\\n    \"status\": \"INVALID_ARGUMENT\",\\n    \"details\": [\\n      {\\n        \"@type\": \"type.googleapis.com/google.commentanalyzer.v1alpha1.Error\",\\n        \"errorType\": \"LANGUAGE_NOT_SUPPORTED_BY_ATTRIBUTE\",\\n        \"languageNotSupportedByAttributeError\": {\\n          \"detectedLanguages\": [\\n            \"ga\"\\n          ],\\n          \"attribute\": \"TOXICITY\"\\n        }\\n      }\\n    ]\\n  }\\n}\\n')\n",
      " 80%|██████████████████████████████████████████████████▍            | 289/361 [07:52<01:48,  1.51s/it]ERROR:root:The following error occured: \n",
      "({'vary': 'Origin, X-Origin, Referer', 'content-type': 'application/json; charset=UTF-8', 'date': 'Tue, 24 May 2022 01:09:10 GMT', 'server': 'ESF', 'cache-control': 'private', 'x-xss-protection': '0', 'x-frame-options': 'SAMEORIGIN', 'x-content-type-options': 'nosniff', 'alt-svc': 'h3=\":443\"; ma=2592000,h3-29=\":443\"; ma=2592000,h3-Q050=\":443\"; ma=2592000,h3-Q046=\":443\"; ma=2592000,h3-Q043=\":443\"; ma=2592000,quic=\":443\"; ma=2592000; v=\"46,43\"', 'transfer-encoding': 'chunked', 'status': '400', 'content-length': '482', '-content-encoding': 'gzip'}, b'{\\n  \"error\": {\\n    \"code\": 400,\\n    \"message\": \"Attribute TOXICITY does not support request languages: la\",\\n    \"status\": \"INVALID_ARGUMENT\",\\n    \"details\": [\\n      {\\n        \"@type\": \"type.googleapis.com/google.commentanalyzer.v1alpha1.Error\",\\n        \"errorType\": \"LANGUAGE_NOT_SUPPORTED_BY_ATTRIBUTE\",\\n        \"languageNotSupportedByAttributeError\": {\\n          \"detectedLanguages\": [\\n            \"la\"\\n          ],\\n          \"attribute\": \"TOXICITY\"\\n        }\\n      }\\n    ]\\n  }\\n}\\n')\n",
      " 81%|███████████████████████████████████████████████████▎           | 294/361 [07:59<01:45,  1.57s/it]ERROR:root:The following error occured: \n",
      "({'vary': 'Origin, X-Origin, Referer', 'content-type': 'application/json; charset=UTF-8', 'date': 'Tue, 24 May 2022 01:09:18 GMT', 'server': 'ESF', 'cache-control': 'private', 'x-xss-protection': '0', 'x-frame-options': 'SAMEORIGIN', 'x-content-type-options': 'nosniff', 'alt-svc': 'h3=\":443\"; ma=2592000,h3-29=\":443\"; ma=2592000,h3-Q050=\":443\"; ma=2592000,h3-Q046=\":443\"; ma=2592000,h3-Q043=\":443\"; ma=2592000,quic=\":443\"; ma=2592000; v=\"46,43\"', 'transfer-encoding': 'chunked', 'status': '400', 'content-length': '482', '-content-encoding': 'gzip'}, b'{\\n  \"error\": {\\n    \"code\": 400,\\n    \"message\": \"Attribute TOXICITY does not support request languages: ht\",\\n    \"status\": \"INVALID_ARGUMENT\",\\n    \"details\": [\\n      {\\n        \"@type\": \"type.googleapis.com/google.commentanalyzer.v1alpha1.Error\",\\n        \"errorType\": \"LANGUAGE_NOT_SUPPORTED_BY_ATTRIBUTE\",\\n        \"languageNotSupportedByAttributeError\": {\\n          \"detectedLanguages\": [\\n            \"ht\"\\n          ],\\n          \"attribute\": \"TOXICITY\"\\n        }\\n      }\\n    ]\\n  }\\n}\\n')\n",
      " 82%|███████████████████████████████████████████████████▋           | 296/361 [08:02<01:35,  1.46s/it]ERROR:root:The following error occured: \n",
      "({'vary': 'Origin, X-Origin, Referer', 'content-type': 'application/json; charset=UTF-8', 'date': 'Tue, 24 May 2022 01:09:21 GMT', 'server': 'ESF', 'cache-control': 'private', 'x-xss-protection': '0', 'x-frame-options': 'SAMEORIGIN', 'x-content-type-options': 'nosniff', 'alt-svc': 'h3=\":443\"; ma=2592000,h3-29=\":443\"; ma=2592000,h3-Q050=\":443\"; ma=2592000,h3-Q046=\":443\"; ma=2592000,h3-Q043=\":443\"; ma=2592000,quic=\":443\"; ma=2592000; v=\"46,43\"', 'transfer-encoding': 'chunked', 'status': '400', 'content-length': '482', '-content-encoding': 'gzip'}, b'{\\n  \"error\": {\\n    \"code\": 400,\\n    \"message\": \"Attribute TOXICITY does not support request languages: hr\",\\n    \"status\": \"INVALID_ARGUMENT\",\\n    \"details\": [\\n      {\\n        \"@type\": \"type.googleapis.com/google.commentanalyzer.v1alpha1.Error\",\\n        \"errorType\": \"LANGUAGE_NOT_SUPPORTED_BY_ATTRIBUTE\",\\n        \"languageNotSupportedByAttributeError\": {\\n          \"detectedLanguages\": [\\n            \"hr\"\\n          ],\\n          \"attribute\": \"TOXICITY\"\\n        }\\n      }\\n    ]\\n  }\\n}\\n')\n",
      " 83%|████████████████████████████████████████████████████           | 298/361 [08:05<01:31,  1.46s/it]ERROR:root:The following error occured: \n",
      "({'vary': 'Origin, X-Origin, Referer', 'content-type': 'application/json; charset=UTF-8', 'date': 'Tue, 24 May 2022 01:09:24 GMT', 'server': 'ESF', 'cache-control': 'private', 'x-xss-protection': '0', 'x-frame-options': 'SAMEORIGIN', 'x-content-type-options': 'nosniff', 'alt-svc': 'h3=\":443\"; ma=2592000,h3-29=\":443\"; ma=2592000,h3-Q050=\":443\"; ma=2592000,h3-Q046=\":443\"; ma=2592000,h3-Q043=\":443\"; ma=2592000,quic=\":443\"; ma=2592000; v=\"46,43\"', 'transfer-encoding': 'chunked', 'status': '400', 'content-length': '482', '-content-encoding': 'gzip'}, b'{\\n  \"error\": {\\n    \"code\": 400,\\n    \"message\": \"Attribute TOXICITY does not support request languages: sv\",\\n    \"status\": \"INVALID_ARGUMENT\",\\n    \"details\": [\\n      {\\n        \"@type\": \"type.googleapis.com/google.commentanalyzer.v1alpha1.Error\",\\n        \"errorType\": \"LANGUAGE_NOT_SUPPORTED_BY_ATTRIBUTE\",\\n        \"languageNotSupportedByAttributeError\": {\\n          \"detectedLanguages\": [\\n            \"sv\"\\n          ],\\n          \"attribute\": \"TOXICITY\"\\n        }\\n      }\\n    ]\\n  }\\n}\\n')\n"
     ]
    },
    {
     "name": "stderr",
     "output_type": "stream",
     "text": [
      " 83%|████████████████████████████████████████████████████▏          | 299/361 [08:06<01:25,  1.38s/it]ERROR:root:The following error occured: \n",
      "({'vary': 'Origin, X-Origin, Referer', 'content-type': 'application/json; charset=UTF-8', 'date': 'Tue, 24 May 2022 01:09:25 GMT', 'server': 'ESF', 'cache-control': 'private', 'x-xss-protection': '0', 'x-frame-options': 'SAMEORIGIN', 'x-content-type-options': 'nosniff', 'alt-svc': 'h3=\":443\"; ma=2592000,h3-29=\":443\"; ma=2592000,h3-Q050=\":443\"; ma=2592000,h3-Q046=\":443\"; ma=2592000,h3-Q043=\":443\"; ma=2592000,quic=\":443\"; ma=2592000; v=\"46,43\"', 'transfer-encoding': 'chunked', 'status': '400', 'content-length': '484', '-content-encoding': 'gzip'}, b'{\\n  \"error\": {\\n    \"code\": 400,\\n    \"message\": \"Attribute TOXICITY does not support request languages: hmn\",\\n    \"status\": \"INVALID_ARGUMENT\",\\n    \"details\": [\\n      {\\n        \"@type\": \"type.googleapis.com/google.commentanalyzer.v1alpha1.Error\",\\n        \"errorType\": \"LANGUAGE_NOT_SUPPORTED_BY_ATTRIBUTE\",\\n        \"languageNotSupportedByAttributeError\": {\\n          \"detectedLanguages\": [\\n            \"hmn\"\\n          ],\\n          \"attribute\": \"TOXICITY\"\\n        }\\n      }\\n    ]\\n  }\\n}\\n')\n",
      " 86%|██████████████████████████████████████████████████████▍        | 312/361 [08:26<01:20,  1.64s/it]ERROR:root:The following error occured: \n",
      "({'vary': 'Origin, X-Origin, Referer', 'content-type': 'application/json; charset=UTF-8', 'date': 'Tue, 24 May 2022 01:09:45 GMT', 'server': 'ESF', 'cache-control': 'private', 'x-xss-protection': '0', 'x-frame-options': 'SAMEORIGIN', 'x-content-type-options': 'nosniff', 'alt-svc': 'h3=\":443\"; ma=2592000,h3-29=\":443\"; ma=2592000,h3-Q050=\":443\"; ma=2592000,h3-Q046=\":443\"; ma=2592000,h3-Q043=\":443\"; ma=2592000,quic=\":443\"; ma=2592000; v=\"46,43\"', 'transfer-encoding': 'chunked', 'status': '400', 'content-length': '482', '-content-encoding': 'gzip'}, b'{\\n  \"error\": {\\n    \"code\": 400,\\n    \"message\": \"Attribute TOXICITY does not support request languages: gd\",\\n    \"status\": \"INVALID_ARGUMENT\",\\n    \"details\": [\\n      {\\n        \"@type\": \"type.googleapis.com/google.commentanalyzer.v1alpha1.Error\",\\n        \"errorType\": \"LANGUAGE_NOT_SUPPORTED_BY_ATTRIBUTE\",\\n        \"languageNotSupportedByAttributeError\": {\\n          \"detectedLanguages\": [\\n            \"gd\"\\n          ],\\n          \"attribute\": \"TOXICITY\"\\n        }\\n      }\\n    ]\\n  }\\n}\\n')\n",
      " 87%|██████████████████████████████████████████████████████▌        | 313/361 [08:28<01:12,  1.52s/it]ERROR:root:The following error occured: \n",
      "({'vary': 'Origin, X-Origin, Referer', 'content-type': 'application/json; charset=UTF-8', 'date': 'Tue, 24 May 2022 01:09:47 GMT', 'server': 'ESF', 'cache-control': 'private', 'x-xss-protection': '0', 'x-frame-options': 'SAMEORIGIN', 'x-content-type-options': 'nosniff', 'alt-svc': 'h3=\":443\"; ma=2592000,h3-29=\":443\"; ma=2592000,h3-Q050=\":443\"; ma=2592000,h3-Q046=\":443\"; ma=2592000,h3-Q043=\":443\"; ma=2592000,quic=\":443\"; ma=2592000; v=\"46,43\"', 'transfer-encoding': 'chunked', 'status': '400', 'content-length': '482', '-content-encoding': 'gzip'}, b'{\\n  \"error\": {\\n    \"code\": 400,\\n    \"message\": \"Attribute TOXICITY does not support request languages: zu\",\\n    \"status\": \"INVALID_ARGUMENT\",\\n    \"details\": [\\n      {\\n        \"@type\": \"type.googleapis.com/google.commentanalyzer.v1alpha1.Error\",\\n        \"errorType\": \"LANGUAGE_NOT_SUPPORTED_BY_ATTRIBUTE\",\\n        \"languageNotSupportedByAttributeError\": {\\n          \"detectedLanguages\": [\\n            \"zu\"\\n          ],\\n          \"attribute\": \"TOXICITY\"\\n        }\\n      }\\n    ]\\n  }\\n}\\n')\n",
      " 88%|███████████████████████████████████████████████████████▎       | 317/361 [08:34<01:05,  1.48s/it]ERROR:root:The following error occured: \n",
      "({'vary': 'Origin, X-Origin, Referer', 'content-type': 'application/json; charset=UTF-8', 'date': 'Tue, 24 May 2022 01:09:52 GMT', 'server': 'ESF', 'cache-control': 'private', 'x-xss-protection': '0', 'x-frame-options': 'SAMEORIGIN', 'x-content-type-options': 'nosniff', 'alt-svc': 'h3=\":443\"; ma=2592000,h3-29=\":443\"; ma=2592000,h3-Q050=\":443\"; ma=2592000,h3-Q046=\":443\"; ma=2592000,h3-Q043=\":443\"; ma=2592000,quic=\":443\"; ma=2592000; v=\"46,43\"', 'transfer-encoding': 'chunked', 'status': '400', 'content-length': '492', '-content-encoding': 'gzip'}, b'{\\n  \"error\": {\\n    \"code\": 400,\\n    \"message\": \"Attribute TOXICITY does not support request languages: ja-Latn\",\\n    \"status\": \"INVALID_ARGUMENT\",\\n    \"details\": [\\n      {\\n        \"@type\": \"type.googleapis.com/google.commentanalyzer.v1alpha1.Error\",\\n        \"errorType\": \"LANGUAGE_NOT_SUPPORTED_BY_ATTRIBUTE\",\\n        \"languageNotSupportedByAttributeError\": {\\n          \"detectedLanguages\": [\\n            \"ja-Latn\"\\n          ],\\n          \"attribute\": \"TOXICITY\"\\n        }\\n      }\\n    ]\\n  }\\n}\\n')\n",
      " 89%|████████████████████████████████████████████████████████       | 321/361 [08:39<00:56,  1.42s/it]ERROR:root:The following error occured: \n",
      "({'vary': 'Origin, X-Origin, Referer', 'content-type': 'application/json; charset=UTF-8', 'date': 'Tue, 24 May 2022 01:09:58 GMT', 'server': 'ESF', 'cache-control': 'private', 'x-xss-protection': '0', 'x-frame-options': 'SAMEORIGIN', 'x-content-type-options': 'nosniff', 'alt-svc': 'h3=\":443\"; ma=2592000,h3-29=\":443\"; ma=2592000,h3-Q050=\":443\"; ma=2592000,h3-Q046=\":443\"; ma=2592000,h3-Q043=\":443\"; ma=2592000,quic=\":443\"; ma=2592000; v=\"46,43\"', 'transfer-encoding': 'chunked', 'status': '400', 'content-length': '484', '-content-encoding': 'gzip'}, b'{\\n  \"error\": {\\n    \"code\": 400,\\n    \"message\": \"Attribute TOXICITY does not support request languages: fil\",\\n    \"status\": \"INVALID_ARGUMENT\",\\n    \"details\": [\\n      {\\n        \"@type\": \"type.googleapis.com/google.commentanalyzer.v1alpha1.Error\",\\n        \"errorType\": \"LANGUAGE_NOT_SUPPORTED_BY_ATTRIBUTE\",\\n        \"languageNotSupportedByAttributeError\": {\\n          \"detectedLanguages\": [\\n            \"fil\"\\n          ],\\n          \"attribute\": \"TOXICITY\"\\n        }\\n      }\\n    ]\\n  }\\n}\\n')\n",
      " 89%|████████████████████████████████████████████████████████▏      | 322/361 [08:40<00:52,  1.36s/it]ERROR:root:The following error occured: \n",
      "({'vary': 'Origin, X-Origin, Referer', 'content-type': 'application/json; charset=UTF-8', 'date': 'Tue, 24 May 2022 01:09:59 GMT', 'server': 'ESF', 'cache-control': 'private', 'x-xss-protection': '0', 'x-frame-options': 'SAMEORIGIN', 'x-content-type-options': 'nosniff', 'alt-svc': 'h3=\":443\"; ma=2592000,h3-29=\":443\"; ma=2592000,h3-Q050=\":443\"; ma=2592000,h3-Q046=\":443\"; ma=2592000,h3-Q043=\":443\"; ma=2592000,quic=\":443\"; ma=2592000; v=\"46,43\"', 'transfer-encoding': 'chunked', 'status': '400', 'content-length': '482', '-content-encoding': 'gzip'}, b'{\\n  \"error\": {\\n    \"code\": 400,\\n    \"message\": \"Attribute TOXICITY does not support request languages: sq\",\\n    \"status\": \"INVALID_ARGUMENT\",\\n    \"details\": [\\n      {\\n        \"@type\": \"type.googleapis.com/google.commentanalyzer.v1alpha1.Error\",\\n        \"errorType\": \"LANGUAGE_NOT_SUPPORTED_BY_ATTRIBUTE\",\\n        \"languageNotSupportedByAttributeError\": {\\n          \"detectedLanguages\": [\\n            \"sq\"\\n          ],\\n          \"attribute\": \"TOXICITY\"\\n        }\\n      }\\n    ]\\n  }\\n}\\n')\n",
      " 90%|████████████████████████████████████████████████████████▉      | 326/361 [08:47<00:54,  1.56s/it]ERROR:root:The following error occured: \n",
      "({'vary': 'Origin, X-Origin, Referer', 'content-type': 'application/json; charset=UTF-8', 'date': 'Tue, 24 May 2022 01:10:05 GMT', 'server': 'ESF', 'cache-control': 'private', 'x-xss-protection': '0', 'x-frame-options': 'SAMEORIGIN', 'x-content-type-options': 'nosniff', 'alt-svc': 'h3=\":443\"; ma=2592000,h3-29=\":443\"; ma=2592000,h3-Q050=\":443\"; ma=2592000,h3-Q046=\":443\"; ma=2592000,h3-Q043=\":443\"; ma=2592000,quic=\":443\"; ma=2592000; v=\"46,43\"', 'transfer-encoding': 'chunked', 'status': '400', 'content-length': '482', '-content-encoding': 'gzip'}, b'{\\n  \"error\": {\\n    \"code\": 400,\\n    \"message\": \"Attribute TOXICITY does not support request languages: sv\",\\n    \"status\": \"INVALID_ARGUMENT\",\\n    \"details\": [\\n      {\\n        \"@type\": \"type.googleapis.com/google.commentanalyzer.v1alpha1.Error\",\\n        \"errorType\": \"LANGUAGE_NOT_SUPPORTED_BY_ATTRIBUTE\",\\n        \"languageNotSupportedByAttributeError\": {\\n          \"detectedLanguages\": [\\n            \"sv\"\\n          ],\\n          \"attribute\": \"TOXICITY\"\\n        }\\n      }\\n    ]\\n  }\\n}\\n')\n"
     ]
    },
    {
     "name": "stderr",
     "output_type": "stream",
     "text": [
      " 91%|█████████████████████████████████████████████████████████      | 327/361 [08:48<00:49,  1.46s/it]ERROR:root:The following error occured: \n",
      "({'vary': 'Origin, X-Origin, Referer', 'content-type': 'application/json; charset=UTF-8', 'date': 'Tue, 24 May 2022 01:10:07 GMT', 'server': 'ESF', 'cache-control': 'private', 'x-xss-protection': '0', 'x-frame-options': 'SAMEORIGIN', 'x-content-type-options': 'nosniff', 'alt-svc': 'h3=\":443\"; ma=2592000,h3-29=\":443\"; ma=2592000,h3-Q050=\":443\"; ma=2592000,h3-Q046=\":443\"; ma=2592000,h3-Q043=\":443\"; ma=2592000,quic=\":443\"; ma=2592000; v=\"46,43\"', 'transfer-encoding': 'chunked', 'status': '400', 'content-length': '482', '-content-encoding': 'gzip'}, b'{\\n  \"error\": {\\n    \"code\": 400,\\n    \"message\": \"Attribute TOXICITY does not support request languages: sv\",\\n    \"status\": \"INVALID_ARGUMENT\",\\n    \"details\": [\\n      {\\n        \"@type\": \"type.googleapis.com/google.commentanalyzer.v1alpha1.Error\",\\n        \"errorType\": \"LANGUAGE_NOT_SUPPORTED_BY_ATTRIBUTE\",\\n        \"languageNotSupportedByAttributeError\": {\\n          \"detectedLanguages\": [\\n            \"sv\"\\n          ],\\n          \"attribute\": \"TOXICITY\"\\n        }\\n      }\\n    ]\\n  }\\n}\\n')\n",
      " 92%|█████████████████████████████████████████████████████████▉     | 332/361 [08:55<00:42,  1.48s/it]ERROR:root:The following error occured: \n",
      "({'vary': 'Origin, X-Origin, Referer', 'content-type': 'application/json; charset=UTF-8', 'date': 'Tue, 24 May 2022 01:10:14 GMT', 'server': 'ESF', 'cache-control': 'private', 'x-xss-protection': '0', 'x-frame-options': 'SAMEORIGIN', 'x-content-type-options': 'nosniff', 'alt-svc': 'h3=\":443\"; ma=2592000,h3-29=\":443\"; ma=2592000,h3-Q050=\":443\"; ma=2592000,h3-Q046=\":443\"; ma=2592000,h3-Q043=\":443\"; ma=2592000,quic=\":443\"; ma=2592000; v=\"46,43\"', 'transfer-encoding': 'chunked', 'status': '400', 'content-length': '482', '-content-encoding': 'gzip'}, b'{\\n  \"error\": {\\n    \"code\": 400,\\n    \"message\": \"Attribute TOXICITY does not support request languages: af\",\\n    \"status\": \"INVALID_ARGUMENT\",\\n    \"details\": [\\n      {\\n        \"@type\": \"type.googleapis.com/google.commentanalyzer.v1alpha1.Error\",\\n        \"errorType\": \"LANGUAGE_NOT_SUPPORTED_BY_ATTRIBUTE\",\\n        \"languageNotSupportedByAttributeError\": {\\n          \"detectedLanguages\": [\\n            \"af\"\\n          ],\\n          \"attribute\": \"TOXICITY\"\\n        }\\n      }\\n    ]\\n  }\\n}\\n')\n",
      " 96%|████████████████████████████████████████████████████████████▏  | 345/361 [09:14<00:23,  1.46s/it]ERROR:root:The following error occured: \n",
      "({'vary': 'Origin, X-Origin, Referer', 'content-type': 'application/json; charset=UTF-8', 'date': 'Tue, 24 May 2022 01:10:33 GMT', 'server': 'ESF', 'cache-control': 'private', 'x-xss-protection': '0', 'x-frame-options': 'SAMEORIGIN', 'x-content-type-options': 'nosniff', 'alt-svc': 'h3=\":443\"; ma=2592000,h3-29=\":443\"; ma=2592000,h3-Q050=\":443\"; ma=2592000,h3-Q046=\":443\"; ma=2592000,h3-Q043=\":443\"; ma=2592000,quic=\":443\"; ma=2592000; v=\"46,43\"', 'transfer-encoding': 'chunked', 'status': '400', 'content-length': '482', '-content-encoding': 'gzip'}, b'{\\n  \"error\": {\\n    \"code\": 400,\\n    \"message\": \"Attribute TOXICITY does not support request languages: sw\",\\n    \"status\": \"INVALID_ARGUMENT\",\\n    \"details\": [\\n      {\\n        \"@type\": \"type.googleapis.com/google.commentanalyzer.v1alpha1.Error\",\\n        \"errorType\": \"LANGUAGE_NOT_SUPPORTED_BY_ATTRIBUTE\",\\n        \"languageNotSupportedByAttributeError\": {\\n          \"detectedLanguages\": [\\n            \"sw\"\\n          ],\\n          \"attribute\": \"TOXICITY\"\\n        }\\n      }\\n    ]\\n  }\\n}\\n')\n",
      "100%|███████████████████████████████████████████████████████████████| 361/361 [09:39<00:00,  1.61s/it]\n"
     ]
    }
   ],
   "source": [
    "curse_words_score = []\n",
    "for _, row in tqdm(df_swearings.iterrows(), total=df_swearings.shape[0]):\n",
    "    toxicity = get_toxicity_score(service, row.swearing)\n",
    "    \n",
    "    curse_words_score.append((row.swearing, toxicity))\n",
    "\n",
    "    time.sleep(1)"
   ]
  },
  {
   "cell_type": "markdown",
   "metadata": {},
   "source": [
    "Persist the scored curse words"
   ]
  },
  {
   "cell_type": "code",
   "execution_count": 8,
   "metadata": {},
   "outputs": [
    {
     "data": {
      "text/html": [
       "<div>\n",
       "<style scoped>\n",
       "    .dataframe tbody tr th:only-of-type {\n",
       "        vertical-align: middle;\n",
       "    }\n",
       "\n",
       "    .dataframe tbody tr th {\n",
       "        vertical-align: top;\n",
       "    }\n",
       "\n",
       "    .dataframe thead th {\n",
       "        text-align: right;\n",
       "    }\n",
       "</style>\n",
       "<table border=\"1\" class=\"dataframe\">\n",
       "  <thead>\n",
       "    <tr style=\"text-align: right;\">\n",
       "      <th></th>\n",
       "      <th>swearing</th>\n",
       "      <th>score</th>\n",
       "    </tr>\n",
       "  </thead>\n",
       "  <tbody>\n",
       "    <tr>\n",
       "      <th>0</th>\n",
       "      <td>anus</td>\n",
       "      <td>0.534307</td>\n",
       "    </tr>\n",
       "    <tr>\n",
       "      <th>1</th>\n",
       "      <td>arse</td>\n",
       "      <td>0.355017</td>\n",
       "    </tr>\n",
       "    <tr>\n",
       "      <th>2</th>\n",
       "      <td>arsehole</td>\n",
       "      <td>0.595890</td>\n",
       "    </tr>\n",
       "  </tbody>\n",
       "</table>\n",
       "</div>"
      ],
      "text/plain": [
       "   swearing     score\n",
       "0      anus  0.534307\n",
       "1      arse  0.355017\n",
       "2  arsehole  0.595890"
      ]
     },
     "execution_count": 8,
     "metadata": {},
     "output_type": "execute_result"
    }
   ],
   "source": [
    "df_scored = pd.DataFrame(curse_words_score, columns=[\"swearing\", \"score\"])\n",
    "df_scored.head(3)"
   ]
  },
  {
   "cell_type": "code",
   "execution_count": 6,
   "metadata": {},
   "outputs": [],
   "source": [
    "df_scored.to_csv(filepaths[\"bad_words_scored\"], index=False)"
   ]
  },
  {
   "cell_type": "markdown",
   "metadata": {},
   "source": [
    "Get the median curse word index"
   ]
  },
  {
   "cell_type": "code",
   "execution_count": 20,
   "metadata": {},
   "outputs": [
    {
     "name": "stdout",
     "output_type": "stream",
     "text": [
      "The median word is `cockmonkey` with a toxicity score of 0.58919406\n"
     ]
    }
   ],
   "source": [
    "df_swearings_wo_na = df_scored.dropna().sort_values(\"score\").reset_index(drop=True)\n",
    "pivot = df_swearings_wo_na.shape[0] // 2\n",
    "\n",
    "median = df_swearings_wo_na.iloc[pivot]\n",
    "print(f\"The median word is `{median.swearing}` with a toxicity score of {median.score}\")"
   ]
  },
  {
   "cell_type": "markdown",
   "metadata": {},
   "source": [
    "---\n",
    "### Replace tokens with curse words"
   ]
  },
  {
   "cell_type": "code",
   "execution_count": 32,
   "metadata": {},
   "outputs": [
    {
     "name": "stderr",
     "output_type": "stream",
     "text": [
      "100%|████████████████████████████████████████████████████████████| 634/634 [00:00<00:00, 19880.30it/s]\n"
     ]
    }
   ],
   "source": [
    "inputted_curse_words = []\n",
    "filenames = [file.split(\"/\")[-1] for file in glob.glob(os.path.join(filepaths[\"raw_data\"], \"*\"))]\n",
    "for filename in tqdm(filenames, total=len(filenames)):\n",
    "    with open(os.path.join(filepaths[\"raw_data\"], filename)) as file:\n",
    "        text = file.read()\n",
    "        \n",
    "    inputted_curse_words.append((filename, 1 if \"[ __ ]\" in text else 0))\n",
    "\n",
    "    text = re.sub(r\"\\[ __ \\]\", median.swearing, text).strip()\n",
    "    text = re.sub(r\"\\[(.*?)\\]\", '', text).strip()\n",
    "        \n",
    "    with open(os.path.join(filepaths[\"preprocessed_data\"], filename), 'w') as file:\n",
    "        file.write(text)\n",
    "\n",
    "df_inputation_schema = pd.DataFrame(inputted_curse_words, columns=[\"filename\", \"inputted\"])"
   ]
  },
  {
   "cell_type": "code",
   "execution_count": 33,
   "metadata": {},
   "outputs": [],
   "source": [
    "df_inputation_schema.to_csv(os.path.join(filepaths[\"inputation_schema\"], \"inputation_schema.csv\"), index=False)"
   ]
  }
 ],
 "metadata": {
  "kernelspec": {
   "display_name": "Python 3 (ipykernel)",
   "language": "python",
   "name": "python3"
  },
  "language_info": {
   "codemirror_mode": {
    "name": "ipython",
    "version": 3
   },
   "file_extension": ".py",
   "mimetype": "text/x-python",
   "name": "python",
   "nbconvert_exporter": "python",
   "pygments_lexer": "ipython3",
   "version": "3.8.10"
  }
 },
 "nbformat": 4,
 "nbformat_minor": 4
}
