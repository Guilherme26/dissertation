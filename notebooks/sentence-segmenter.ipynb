{
 "cells": [
  {
   "cell_type": "code",
   "execution_count": null,
   "metadata": {
    "colab": {
     "base_uri": "https://localhost:8080/"
    },
    "executionInfo": {
     "elapsed": 8252,
     "status": "ok",
     "timestamp": 1628533328583,
     "user": {
      "displayName": "Luiz Felipe Nery",
      "photoUrl": "https://lh3.googleusercontent.com/a-/AOh14GjcsGjja9lD2FzIiLrsa7DLaf2MQ9hZUuGRuZfh-Q=s64",
      "userId": "14354653398940778173"
     },
     "user_tz": 180
    },
    "id": "Bg-hpAnwSQiM",
    "outputId": "21ad11b5-8ce4-43f5-a45f-9a1b3d7d5cc4"
   },
   "outputs": [],
   "source": [
    "!pip install transformers"
   ]
  },
  {
   "cell_type": "code",
   "execution_count": null,
   "metadata": {},
   "outputs": [],
   "source": [
    "import json\n",
    "import pandas as pd\n",
    "import sys\n",
    "import os\n",
    "import glob\n",
    "\n",
    "sys.path.append(\"../utils\")\n",
    "from sentence_segmenter import *"
   ]
  },
  {
   "cell_type": "code",
   "execution_count": null,
   "metadata": {
    "id": "mwLbDqhyQhYu"
   },
   "outputs": [],
   "source": [
    "segmenter = GptSegmenter()"
   ]
  },
  {
   "cell_type": "code",
   "execution_count": null,
   "metadata": {},
   "outputs": [],
   "source": [
    "input_path = \"../data/00_raw\"\n",
    "output_path = \"../data/01_preprocessed\"\n",
    "filenames = [file.split(\"/\")[-1] for file in glob.glob(os.path.join(input_path, \"*\"))]\n",
    "\n",
    "for filename in filenames:\n",
    "    # Load the subtitles from a JSON\n",
    "    df_subtitle = pd.read_json(os.path.join(input_path, filename))\n",
    "\n",
    "    # Creates a single text with all phrases\n",
    "    sub_text = ' '.join(df_subtitle.text)\n",
    "\n",
    "    # Get the segmented sentences. Each list is a phrase\n",
    "    sentences = segmenter.segment(sub_text)\n",
    "\n",
    "    df = pd.DataFrame(map(lambda words: ' '.join(words), sentences), columns=[\"text\"])\n",
    "    df.to_csv(os.path.join(output_path, f\"segmented-{filename}.csv\"), index=False)"
   ]
  },
  {
   "cell_type": "code",
   "execution_count": null,
   "metadata": {},
   "outputs": [],
   "source": []
  }
 ],
 "metadata": {
  "colab": {
   "authorship_tag": "ABX9TyOICPQ5KHDTg4cO5523I3yO",
   "collapsed_sections": [],
   "name": "use-exemple.ipynb",
   "provenance": []
  },
  "kernelspec": {
   "display_name": "Python 3",
   "language": "python",
   "name": "python3"
  },
  "language_info": {
   "codemirror_mode": {
    "name": "ipython",
    "version": 3
   },
   "file_extension": ".py",
   "mimetype": "text/x-python",
   "name": "python",
   "nbconvert_exporter": "python",
   "pygments_lexer": "ipython3",
   "version": "3.7.6"
  }
 },
 "nbformat": 4,
 "nbformat_minor": 1
}
