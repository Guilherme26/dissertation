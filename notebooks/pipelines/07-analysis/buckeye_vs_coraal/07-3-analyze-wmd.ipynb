{
 "cells": [
  {
   "cell_type": "markdown",
   "id": "e73bce7c",
   "metadata": {},
   "source": [
    "### Calculate the Word Mover's Distance between two sentences"
   ]
  },
  {
   "cell_type": "code",
   "execution_count": 1,
   "id": "6f857284",
   "metadata": {},
   "outputs": [],
   "source": [
    "import gensim.downloader as api\n",
    "import glob\n",
    "import sys\n",
    "import os\n",
    "import pandas as pd\n",
    "\n",
    "from tqdm import tqdm\n",
    "\n",
    "sys.path.append(\"../../../../utils\")\n",
    "from absolute_path_builder import AbsolutePathBuilder"
   ]
  },
  {
   "cell_type": "markdown",
   "id": "840ba272",
   "metadata": {},
   "source": [
    "### Read demographic groups' sentences"
   ]
  },
  {
   "cell_type": "code",
   "execution_count": 2,
   "id": "abcff60a",
   "metadata": {},
   "outputs": [],
   "source": [
    "buckeye_datapath = AbsolutePathBuilder.get_path(\n",
    "    \"04_buckeye_scored\",\n",
    "    filepaths=\"../../../../config/filepaths.yaml\"\n",
    ")\n",
    "\n",
    "df_white = pd.concat(\n",
    "    [pd.read_csv(file) for file in glob.glob(os.path.join(buckeye_datapath, \"*\"))],\n",
    "    ignore_index=True\n",
    ")\n",
    "\n",
    "coraal_datapath = AbsolutePathBuilder.get_path(\n",
    "    \"04_coraal_scored\",\n",
    "    filepaths=\"../../../../config/filepaths.yaml\"\n",
    ")\n",
    "\n",
    "df_black = pd.concat(\n",
    "    [pd.read_csv(file) for file in glob.glob(os.path.join(coraal_datapath, \"*\"))],\n",
    "    ignore_index=True\n",
    ")"
   ]
  },
  {
   "cell_type": "markdown",
   "id": "6c22b19e",
   "metadata": {},
   "source": [
    "---\n",
    "### Load embedding model"
   ]
  },
  {
   "cell_type": "code",
   "execution_count": 5,
   "id": "7a6248a8",
   "metadata": {},
   "outputs": [],
   "source": [
    "# https://github.com/RaRe-Technologies/gensim-data\n",
    "\n",
    "embedding_model = api.load(\"glove-wiki-gigaword-50\")"
   ]
  },
  {
   "cell_type": "code",
   "execution_count": 6,
   "id": "eeaf524a",
   "metadata": {},
   "outputs": [
    {
     "name": "stderr",
     "output_type": "stream",
     "text": [
      "100%|██████████████████████████████████████████████████████████| 19304/19304 [00:39<00:00, 490.90it/s]\n"
     ]
    }
   ],
   "source": [
    "import numpy as np\n",
    "\n",
    "output_path = AbsolutePathBuilder.get_path(\n",
    "    f\"07_coraal_vs_buckeye_wmd\",\n",
    "    filepaths=\"../../../../config/filepaths.yaml\"\n",
    ")\n",
    "\n",
    "file_idx = 0\n",
    "data = []\n",
    "distances = []\n",
    "for idx, row_white in tqdm(df_white.iterrows(), total=df_white.shape[0]):\n",
    "    closest_row_black = None\n",
    "    closest_dist = np.inf\n",
    "    for _, row_black in df_black.iterrows():\n",
    "        cur_distance = embedding_model.wmdistance(row_white.text, row_black.text)\n",
    "\n",
    "        if(cur_distance < closest_dist):\n",
    "            closest_dist = cur_distance\n",
    "            closest_row_black = row_black\n",
    "\n",
    "    closest_row_black.index = [f\"{name}_black\" for name in closest_row_black.index]\n",
    "    concatenated_row = pd.concat([closest_row_black, row_white])\n",
    "    \n",
    "    data.append(concatenated_row)\n",
    "    distances.append(closest_dist)\n",
    "    \n",
    "    if (idx % 250) or (idx == df_white.index[-1]):\n",
    "        df_wmd = pd.DataFrame(data)\n",
    "        df_wmd = df_wmd.reset_index(drop=True)\n",
    "\n",
    "        df_wmd[\"wmd\"] = distances\n",
    "\n",
    "        data = []\n",
    "        distances = []\n",
    "        df_wmd.to_csv(os.path.join(output_path, f\"buckeye_vs_coraal_wmd_p{file_idx}.csv\"), index=False)\n",
    "        file_idx += 1"
   ]
  },
  {
   "cell_type": "code",
   "execution_count": 7,
   "id": "1859c6b4",
   "metadata": {},
   "outputs": [
    {
     "name": "stderr",
     "output_type": "stream",
     "text": [
      "/home/guilherme/.local/lib/python3.8/site-packages/seaborn/distributions.py:2619: FutureWarning: `distplot` is a deprecated function and will be removed in a future version. Please adapt your code to use either `displot` (a figure-level function with similar flexibility) or `histplot` (an axes-level function for histograms).\n",
      "  warnings.warn(msg, FutureWarning)\n",
      "/home/guilherme/.local/lib/python3.8/site-packages/seaborn/distributions.py:316: UserWarning: Dataset has 0 variance; skipping density estimate. Pass `warn_singular=False` to disable this warning.\n",
      "  warnings.warn(msg, UserWarning)\n",
      "/home/guilherme/.local/lib/python3.8/site-packages/seaborn/distributions.py:2619: FutureWarning: `distplot` is a deprecated function and will be removed in a future version. Please adapt your code to use either `displot` (a figure-level function with similar flexibility) or `histplot` (an axes-level function for histograms).\n",
      "  warnings.warn(msg, FutureWarning)\n",
      "/home/guilherme/.local/lib/python3.8/site-packages/seaborn/distributions.py:316: UserWarning: Dataset has 0 variance; skipping density estimate. Pass `warn_singular=False` to disable this warning.\n",
      "  warnings.warn(msg, UserWarning)\n"
     ]
    },
    {
     "data": {
      "image/png": "[encoded data removed]",
      "text/plain": [
       "<Figure size 864x504 with 1 Axes>"
      ]
     },
     "metadata": {
      "needs_background": "light"
     },
     "output_type": "display_data"
    }
   ],
   "source": [
    "import matplotlib.pyplot as plt\n",
    "import seaborn as sns\n",
    "\n",
    "plt.subplots(figsize=(12,7))\n",
    "\n",
    "sns.distplot(df_wmd.perspective_score_black, label=\"Black\")\n",
    "sns.distplot(df_wmd.perspective_score, label=\"White\")\n",
    "\n",
    "plt.legend()\n",
    "plt.show()"
   ]
  },
  {
   "cell_type": "code",
   "execution_count": 8,
   "id": "b6c4f4a1",
   "metadata": {},
   "outputs": [
    {
     "name": "stderr",
     "output_type": "stream",
     "text": [
      "/home/guilherme/.local/lib/python3.8/site-packages/seaborn/distributions.py:2619: FutureWarning: `distplot` is a deprecated function and will be removed in a future version. Please adapt your code to use either `displot` (a figure-level function with similar flexibility) or `histplot` (an axes-level function for histograms).\n",
      "  warnings.warn(msg, FutureWarning)\n",
      "/home/guilherme/.local/lib/python3.8/site-packages/seaborn/distributions.py:316: UserWarning: Dataset has 0 variance; skipping density estimate. Pass `warn_singular=False` to disable this warning.\n",
      "  warnings.warn(msg, UserWarning)\n"
     ]
    },
    {
     "data": {
      "image/png": "[encoded data removed]",
      "text/plain": [
       "<Figure size 432x288 with 1 Axes>"
      ]
     },
     "metadata": {
      "needs_background": "light"
     },
     "output_type": "display_data"
    }
   ],
   "source": [
    "sns.distplot(df_wmd.wmd)\n",
    "plt.title(\"\")\n",
    "plt.show()"
   ]
  }
 ],
 "metadata": {
  "kernelspec": {
   "display_name": "Python 3 (ipykernel)",
   "language": "python",
   "name": "python3"
  },
  "language_info": {
   "codemirror_mode": {
    "name": "ipython",
    "version": 3
   },
   "file_extension": ".py",
   "mimetype": "text/x-python",
   "name": "python",
   "nbconvert_exporter": "python",
   "pygments_lexer": "ipython3",
   "version": "3.8.10"
  }
 },
 "nbformat": 4,
 "nbformat_minor": 5
}
