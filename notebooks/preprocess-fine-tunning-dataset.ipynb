{
 "cells": [
  {
   "cell_type": "code",
   "execution_count": 1,
   "metadata": {},
   "outputs": [],
   "source": [
    "import pandas as pd\n",
    "import re"
   ]
  },
  {
   "cell_type": "code",
   "execution_count": 2,
   "metadata": {},
   "outputs": [],
   "source": [
    "def preprocess_text(sentence):\n",
    "    sentence = sentence.lower()\n",
    "    \n",
    "    # Replace &\n",
    "    sentence = sentence.replace(\"&amp;\", \"&\")\n",
    "    # Remove parenthesis and its inner content\n",
    "    sentence = re.sub('\\([^)]*\\)+', '', sentence)\n",
    "    # Remove unwanted symbols\n",
    "    sentence = re.sub('([\\[\\],:$\\'\\\"])', '', sentence)\n",
    "    # Remove scaped characters\n",
    "    sentence = re.sub('([\\n\\t\\-])+', ' ', sentence)\n",
    "    # Replace punctuations\n",
    "    sentence = re.sub('([?!;])+', '.', sentence)\n",
    "    # Remove exceeding white spaces\n",
    "    sentence = re.sub('\\s+', ' ', sentence).strip()\n",
    "    # Remove numbers\n",
    "    sentence = re.sub('\\d+((.|,)\\d+)?', \"number\", sentence)\n",
    "    # Remove abbreviations\n",
    "    sentence = re.sub('(\\w+(\\.\\w+)+)', 'abbr', sentence)\n",
    "    \n",
    "    return sentence"
   ]
  },
  {
   "cell_type": "code",
   "execution_count": 3,
   "metadata": {},
   "outputs": [],
   "source": [
    "df = pd.read_json(\"../data/TED_Talks/01_raw/subtitles.json\")"
   ]
  },
  {
   "cell_type": "code",
   "execution_count": 4,
   "metadata": {
    "scrolled": true
   },
   "outputs": [],
   "source": [
    "df[\"subtitle\"] = df.subtitle.apply(preprocess_text)"
   ]
  },
  {
   "cell_type": "code",
   "execution_count": 5,
   "metadata": {},
   "outputs": [],
   "source": [
    "df.to_csv(\"../data/TED_Talks/02_preprocessed/subtitles_preprocessed.csv\", index=False)"
   ]
  },
  {
   "cell_type": "code",
   "execution_count": 8,
   "metadata": {},
   "outputs": [
    {
     "data": {
      "text/plain": [
       "631649"
      ]
     },
     "execution_count": 8,
     "metadata": {},
     "output_type": "execute_result"
    }
   ],
   "source": [
    "df[\"subtitle\"].apply(lambda row: len(row.split('.'))).sum()"
   ]
  },
  {
   "cell_type": "code",
   "execution_count": null,
   "metadata": {},
   "outputs": [],
   "source": []
  }
 ],
 "metadata": {
  "kernelspec": {
   "display_name": "Python 3",
   "language": "python",
   "name": "python3"
  },
  "language_info": {
   "codemirror_mode": {
    "name": "ipython",
    "version": 3
   },
   "file_extension": ".py",
   "mimetype": "text/x-python",
   "name": "python",
   "nbconvert_exporter": "python",
   "pygments_lexer": "ipython3",
   "version": "3.7.6"
  }
 },
 "nbformat": 4,
 "nbformat_minor": 4
}
