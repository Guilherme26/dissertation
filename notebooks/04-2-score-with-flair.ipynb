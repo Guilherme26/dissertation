{
 "cells": [
  {
   "cell_type": "markdown",
   "metadata": {},
   "source": [
    "### Quick Description\n",
    "\n",
    "This notebook calculates the toxicity score from each sentence in a subtitles' file. Finally, it persists the data in a DataFrame like output."
   ]
  },
  {
   "cell_type": "code",
   "execution_count": 1,
   "metadata": {},
   "outputs": [],
   "source": [
    "import yaml\n",
    "import glob\n",
    "import os\n",
    "import pandas as pd\n",
    "import time\n",
    "import re\n",
    "import logging\n",
    "import sys\n",
    "\n",
    "from tqdm import tqdm\n",
    "from flair.models import TextClassifier\n",
    "from flair.data import Sentence\n",
    "\n",
    "\n",
    "sys.path.append(\"../utils\")\n",
    "from toxicity_api_communication import get_toxicity_score"
   ]
  },
  {
   "cell_type": "code",
   "execution_count": 2,
   "metadata": {},
   "outputs": [
    {
     "name": "stderr",
     "output_type": "stream",
     "text": [
      "/tmp/ipykernel_166383/1089545284.py:1: YAMLLoadWarning: calling yaml.load() without Loader=... is deprecated, as the default Loader is unsafe. Please read https://msg.pyyaml.org/load for full details.\n",
      "  filepaths = yaml.load(open(\"../config/filepaths.yaml\"))\n",
      "/tmp/ipykernel_166383/1089545284.py:2: YAMLLoadWarning: calling yaml.load() without Loader=... is deprecated, as the default Loader is unsafe. Please read https://msg.pyyaml.org/load for full details.\n",
      "  credentials = yaml.load(open(\"../config/credentials.yaml\"))[\"perspective-api\"]\n"
     ]
    }
   ],
   "source": [
    "filepaths = yaml.load(open(\"../config/filepaths.yaml\"))\n",
    "credentials = yaml.load(open(\"../config/credentials.yaml\"))[\"perspective-api\"]"
   ]
  },
  {
   "cell_type": "code",
   "execution_count": 3,
   "metadata": {},
   "outputs": [],
   "source": [
    "def calculate_toxicity_scores(credentials, save_dir):\n",
    "    classifier = TextClassifier.load('en-sentiment')\n",
    "    filenames = [file.split(\"/\")[-1] for file in glob.glob(os.path.join(save_dir, \"*\"))]\n",
    "\n",
    "    for filename in tqdm(filenames, total=len(filenames)):\n",
    "        df_sentences = pd.read_csv(os.path.join(save_dir, filename))\n",
    "        for i, row in df_sentences.iterrows():\n",
    "            sentence = Sentence(row.text)\n",
    "            classifier.predict(sentence)\n",
    "\n",
    "            df_sentences.loc[i, \"flair_score\"] = (\n",
    "                1 - sentence.labels[0]._score\n",
    "                if sentence.labels[0]._value == \"POSITIVE\"\n",
    "                else 1 + sentence.labels[0]._score\n",
    "            )\n",
    "            \n",
    "        # Because 2 is the absolute maximum value\n",
    "        df_sentences[\"flair_score\"] = (\n",
    "            (df_sentences[\"flair_score\"] - df_sentences[\"flair_score\"].min())\n",
    "            / (2 - df_sentences[\"flair_score\"].min())\n",
    "        )\n",
    "\n",
    "        df_sentences.to_csv(os.path.join(save_dir, filename), index=False)"
   ]
  },
  {
   "cell_type": "code",
   "execution_count": 4,
   "metadata": {},
   "outputs": [
    {
     "name": "stdout",
     "output_type": "stream",
     "text": [
      "2022-05-25 22:46:38,973 loading file /home/guilherme/.flair/models/sentiment-en-mix-distillbert_4.pt\n"
     ]
    },
    {
     "name": "stderr",
     "output_type": "stream",
     "text": [
      "100%|███████████████████████████████████████████████████████████████| 634/634 [18:54<00:00,  1.79s/it]\n"
     ]
    }
   ],
   "source": [
    "calculate_toxicity_scores(\n",
    "    credentials,\n",
    "    filepaths[\"scored_data\"]\n",
    ")"
   ]
  },
  {
   "cell_type": "code",
   "execution_count": null,
   "metadata": {},
   "outputs": [],
   "source": []
  }
 ],
 "metadata": {
  "kernelspec": {
   "display_name": "Python 3 (ipykernel)",
   "language": "python",
   "name": "python3"
  },
  "language_info": {
   "codemirror_mode": {
    "name": "ipython",
    "version": 3
   },
   "file_extension": ".py",
   "mimetype": "text/x-python",
   "name": "python",
   "nbconvert_exporter": "python",
   "pygments_lexer": "ipython3",
   "version": "3.8.10"
  }
 },
 "nbformat": 4,
 "nbformat_minor": 4
}
