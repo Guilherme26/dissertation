{
 "cells": [
  {
   "cell_type": "code",
   "execution_count": null,
   "metadata": {},
   "outputs": [],
   "source": [
    "import json\n",
    "import pandas as pd\n",
    "import matplotlib.pyplot as plt"
   ]
  },
  {
   "cell_type": "code",
   "execution_count": null,
   "metadata": {},
   "outputs": [],
   "source": [
    "import seaborn as sns\n",
    "sns.set()"
   ]
  },
  {
   "cell_type": "code",
   "execution_count": null,
   "metadata": {},
   "outputs": [],
   "source": [
    "downloads_desc = json.loads(open(\"../data/download_descriptions.json\").read())"
   ]
  },
  {
   "cell_type": "code",
   "execution_count": null,
   "metadata": {},
   "outputs": [],
   "source": [
    "plt.subplots(figsize=(12,9))\n",
    "stats = {}\n",
    "for i, description in enumerate(downloads_desc):\n",
    "    df = pd.read_csv(f\"../data/03_scored/scored-{i}.csv\")\n",
    "    \n",
    "    stats[i] = {\n",
    "        \"group\": description[\"group\"],\n",
    "        \"avg-score\": df.score.mean()\n",
    "    }\n",
    "    \n",
    "    plt.hist(df.score, histtype=\"step\", label=description[\"group\"])\n",
    "\n",
    "plt.title(\"Toxicity Scores Histograms\")\n",
    "plt.legend()\n",
    "plt.show()"
   ]
  }
 ],
 "metadata": {
  "kernelspec": {
   "display_name": "Python 3",
   "language": "python",
   "name": "python3"
  },
  "language_info": {
   "codemirror_mode": {
    "name": "ipython",
    "version": 3
   },
   "file_extension": ".py",
   "mimetype": "text/x-python",
   "name": "python",
   "nbconvert_exporter": "python",
   "pygments_lexer": "ipython3",
   "version": "3.7.6"
  }
 },
 "nbformat": 4,
 "nbformat_minor": 4
}
