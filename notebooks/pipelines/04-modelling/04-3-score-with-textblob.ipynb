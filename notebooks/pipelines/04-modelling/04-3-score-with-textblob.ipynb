{
 "cells": [
  {
   "cell_type": "markdown",
   "metadata": {},
   "source": [
    "### Quick Description\n",
    "\n",
    "This notebook calculates the toxicity score from each sentence in a subtitles' file. Finally, it persists the data in a DataFrame like output."
   ]
  },
  {
   "cell_type": "code",
   "execution_count": 1,
   "metadata": {},
   "outputs": [],
   "source": [
    "import yaml\n",
    "import glob\n",
    "import os\n",
    "import pandas as pd\n",
    "\n",
    "from tqdm import tqdm\n",
    "from textblob import TextBlob"
   ]
  },
  {
   "cell_type": "code",
   "execution_count": 2,
   "metadata": {},
   "outputs": [
    {
     "name": "stderr",
     "output_type": "stream",
     "text": [
      "/tmp/ipykernel_511789/670096696.py:3: YAMLLoadWarning: calling yaml.load() without Loader=... is deprecated, as the default Loader is unsafe. Please read https://msg.pyyaml.org/load for full details.\n",
      "  filepaths = yaml.load(open(\"/home/guilherme/Desktop/dissertation/config/filepaths.yaml\"))\n"
     ]
    }
   ],
   "source": [
    "dataset = \"coraal\"\n",
    "\n",
    "filepaths = yaml.load(open(\"/home/guilherme/Desktop/dissertation/config/filepaths.yaml\"))"
   ]
  },
  {
   "cell_type": "code",
   "execution_count": 3,
   "metadata": {},
   "outputs": [],
   "source": [
    "def calculate_toxicity_scores(save_dir):\n",
    "    filenames = [file.split(\"/\")[-1] for file in glob.glob(os.path.join(save_dir, \"*\"))]\n",
    "\n",
    "    for filename in tqdm(filenames, total=len(filenames)):\n",
    "        df_sentences = pd.read_csv(os.path.join(save_dir, filename))\n",
    "        for i, row in df_sentences.iterrows():\n",
    "            df_sentences.loc[i, \"textblob_score\"] = TextBlob(row.text).sentiment.polarity\n",
    "\n",
    "        df_sentences[\"textblob_score\"] = 1 - df_sentences.textblob_score\n",
    "        \n",
    "        # Because 2 is the absolute maximum value\n",
    "        df_sentences[\"textblob_score\"] = (\n",
    "            (df_sentences[\"textblob_score\"] - df_sentences[\"textblob_score\"].min())\n",
    "            / (2 - df_sentences[\"textblob_score\"].min())\n",
    "        )\n",
    "\n",
    "        df_sentences.to_csv(os.path.join(save_dir, filename), index=False)"
   ]
  },
  {
   "cell_type": "code",
   "execution_count": 4,
   "metadata": {},
   "outputs": [
    {
     "name": "stderr",
     "output_type": "stream",
     "text": [
      "100%|███████████████████████████████████████████████████████████████| 142/142 [00:14<00:00,  9.50it/s]\n"
     ]
    }
   ],
   "source": [
    "calculate_toxicity_scores(filepaths[f\"04_{dataset}_scored\"])"
   ]
  },
  {
   "cell_type": "code",
   "execution_count": null,
   "metadata": {},
   "outputs": [],
   "source": []
  }
 ],
 "metadata": {
  "kernelspec": {
   "display_name": "Python 3 (ipykernel)",
   "language": "python",
   "name": "python3"
  },
  "language_info": {
   "codemirror_mode": {
    "name": "ipython",
    "version": 3
   },
   "file_extension": ".py",
   "mimetype": "text/x-python",
   "name": "python",
   "nbconvert_exporter": "python",
   "pygments_lexer": "ipython3",
   "version": "3.8.10"
  }
 },
 "nbformat": 4,
 "nbformat_minor": 4
}
