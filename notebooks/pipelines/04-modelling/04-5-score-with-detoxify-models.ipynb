{
 "cells": [
  {
   "cell_type": "markdown",
   "id": "2666fb35",
   "metadata": {},
   "source": [
    "### Quick Description\n",
    "This notebook uses [Unitary AI toxicity scoring models](https://github.com/unitaryai/detoxify) to score different datasets"
   ]
  },
  {
   "cell_type": "code",
   "execution_count": 1,
   "id": "78502148",
   "metadata": {},
   "outputs": [],
   "source": [
    "import yaml\n",
    "import glob\n",
    "import os\n",
    "import pandas as pd\n",
    "\n",
    "from tqdm import tqdm\n",
    "from detoxify import Detoxify"
   ]
  },
  {
   "cell_type": "code",
   "execution_count": 2,
   "id": "653f2f95",
   "metadata": {},
   "outputs": [],
   "source": [
    "dataset = \"buckeye\"\n",
    "\n",
    "filepaths = yaml.load(open(\"/home/guilherme/Desktop/dissertation/config/filepaths.yaml\"), Loader=yaml.FullLoader)"
   ]
  },
  {
   "cell_type": "code",
   "execution_count": 3,
   "id": "5ada2b15",
   "metadata": {},
   "outputs": [],
   "source": [
    "def calculate_toxicity_scores(save_dir):\n",
    "    filenames = [file.split(\"/\")[-1] for file in glob.glob(os.path.join(save_dir, \"*\"))]\n",
    "    \n",
    "    original_model = Detoxify(\"original\")\n",
    "    unbiased_model = Detoxify(\"unbiased\")\n",
    "    multilingual_model = Detoxify(\"multilingual\")\n",
    "\n",
    "    for filename in tqdm(filenames, total=len(filenames)):\n",
    "        df_sentences = pd.read_csv(os.path.join(save_dir, filename))\n",
    "        for i, row in df_sentences.iterrows():\n",
    "            score = original_model.predict(row.text)\n",
    "            df_sentences.loc[i, \"detoxify_original_score\"] = score[\"toxicity\"]\n",
    "            \n",
    "            score = unbiased_model.predict(row.text)\n",
    "            df_sentences.loc[i, \"detoxify_unbiased_score\"] = score[\"toxicity\"]\n",
    "            \n",
    "            score = multilingual_model.predict(row.text)\n",
    "            df_sentences.loc[i, \"detoxify_multilingual_score\"] = score[\"toxicity\"]\n",
    "\n",
    "        df_sentences.to_csv(os.path.join(save_dir, filename), index=False)"
   ]
  },
  {
   "cell_type": "code",
   "execution_count": 4,
   "id": "ac9305f5",
   "metadata": {},
   "outputs": [
    {
     "name": "stderr",
     "output_type": "stream",
     "text": [
      "100%|█████████████████████████████████████████████████████████████████| 39/39 [35:57<00:00, 55.31s/it]\n"
     ]
    }
   ],
   "source": [
    "calculate_toxicity_scores(filepaths[f\"04_{dataset}_scored\"])"
   ]
  },
  {
   "cell_type": "code",
   "execution_count": null,
   "id": "a290bfec",
   "metadata": {},
   "outputs": [],
   "source": []
  }
 ],
 "metadata": {
  "kernelspec": {
   "display_name": "Python 3 (ipykernel)",
   "language": "python",
   "name": "python3"
  },
  "language_info": {
   "codemirror_mode": {
    "name": "ipython",
    "version": 3
   },
   "file_extension": ".py",
   "mimetype": "text/x-python",
   "name": "python",
   "nbconvert_exporter": "python",
   "pygments_lexer": "ipython3",
   "version": "3.8.10"
  }
 },
 "nbformat": 4,
 "nbformat_minor": 5
}
