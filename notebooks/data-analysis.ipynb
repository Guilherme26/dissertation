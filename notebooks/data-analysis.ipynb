{
 "cells": [
  {
   "cell_type": "code",
   "execution_count": 2,
   "metadata": {},
   "outputs": [],
   "source": [
    "import os\n",
    "import re\n",
    "import path\n",
    "import pandas as pd\n",
    "import matplotlib.pyplot as plt"
   ]
  },
  {
   "cell_type": "code",
   "execution_count": 9,
   "metadata": {},
   "outputs": [],
   "source": [
    "pwd = \"../data/00_raw\"\n",
    "filenames = os.listdir(pwd)\n",
    "\n",
    "PERSPECTIVE_CHAR_LIMIT = 3000\n",
    "n_small_corpus = 0\n",
    "n_curse_words = 0\n",
    "\n",
    "for file in filenames:\n",
    "    with open(os.path.join(pwd, file)) as f:\n",
    "        content = f.read()\n",
    "    \n",
    "    if len(content) <= PERSPECTIVE_CHAR_LIMIT:\n",
    "        n_small_corpus += 1\n",
    "    \n",
    "    n_curse_words += len(re.findall(\"\\[ __ \\]+\", content))"
   ]
  },
  {
   "cell_type": "code",
   "execution_count": 10,
   "metadata": {},
   "outputs": [
    {
     "name": "stdout",
     "output_type": "stream",
     "text": [
      "Basic Statistics\n",
      "----------------\n",
      "  - Percentage of data with less than 5000 characters is 6.62%\n",
      "  - Average number of curse words is 0.78 per file\n"
     ]
    }
   ],
   "source": [
    "n_files = len(filenames)\n",
    "\n",
    "print(\"Basic Statistics\")\n",
    "print(\"----------------\")\n",
    "print(f\"  - Percentage of data with less than 5000 characters is {n_small_corpus/n_files*100:0.2f}%\")\n",
    "print(f\"  - Average number of curse words is {n_curse_words/n_files:0.2f} per file\")"
   ]
  },
  {
   "cell_type": "markdown",
   "metadata": {},
   "source": [
    "---"
   ]
  },
  {
   "cell_type": "code",
   "execution_count": 11,
   "metadata": {},
   "outputs": [
    {
     "name": "stdout",
     "output_type": "stream",
     "text": [
      "Basic Statistics\n",
      "----------------\n",
      "  - There are 50 different movies\n"
     ]
    }
   ],
   "source": [
    "df_download_info = pd.read_csv(\"../data/download_descriptions.csv\")\n",
    "\n",
    "print(\"Basic Statistics\")\n",
    "print(\"----------------\")\n",
    "print(f\"  - There are {df_download_info.movie.nunique()} different movies\")"
   ]
  },
  {
   "cell_type": "markdown",
   "metadata": {},
   "source": [
    "---"
   ]
  },
  {
   "cell_type": "code",
   "execution_count": 12,
   "metadata": {},
   "outputs": [
    {
     "name": "stdout",
     "output_type": "stream",
     "text": [
      "  - There are 635 different review videos\n"
     ]
    }
   ],
   "source": [
    "pwd = \"../data/03_scored\"\n",
    "filenames = os.listdir(pwd)\n",
    "\n",
    "print(f\"  - There are {len(filenames)} different review videos\")"
   ]
  },
  {
   "cell_type": "markdown",
   "metadata": {},
   "source": [
    "---"
   ]
  },
  {
   "cell_type": "code",
   "execution_count": 17,
   "metadata": {},
   "outputs": [],
   "source": [
    "pwd = \"../data/01_preprocessed\"\n",
    "filenames = os.listdir(pwd)\n",
    "\n",
    "corpus_sizes = []\n",
    "for file in filenames:\n",
    "    with open(os.path.join(pwd, file)) as f:\n",
    "        content = f.read()\n",
    "    \n",
    "    corpus_sizes.append(len(content))"
   ]
  },
  {
   "cell_type": "code",
   "execution_count": 23,
   "metadata": {},
   "outputs": [
    {
     "data": {
      "image/png": "[encoded data removed]",
      "text/plain": [
       "<Figure size 432x288 with 1 Axes>"
      ]
     },
     "metadata": {
      "needs_background": "light"
     },
     "output_type": "display_data"
    }
   ],
   "source": [
    "plt.hist(corpus_sizes, bins=40)\n",
    "plt.show()"
   ]
  },
  {
   "cell_type": "code",
   "execution_count": 25,
   "metadata": {
    "scrolled": true
   },
   "outputs": [
    {
     "data": {
      "image/png": "[encoded data removed]",
      "text/plain": [
       "<Figure size 432x288 with 1 Axes>"
      ]
     },
     "metadata": {
      "needs_background": "light"
     },
     "output_type": "display_data"
    }
   ],
   "source": [
    "plt.boxplot(corpus_sizes)\n",
    "plt.show()"
   ]
  },
  {
   "cell_type": "markdown",
   "metadata": {},
   "source": [
    "---"
   ]
  },
  {
   "cell_type": "code",
   "execution_count": 26,
   "metadata": {},
   "outputs": [
    {
     "data": {
      "image/png": "[encoded data removed]",
      "text/plain": [
       "<Figure size 432x288 with 1 Axes>"
      ]
     },
     "metadata": {
      "needs_background": "light"
     },
     "output_type": "display_data"
    }
   ],
   "source": [
    "df = pd.read_csv(\"../data/download_descriptions.csv\")\n",
    "\n",
    "data = df.groupby(\"group\").movie.count()\n",
    "plt.bar(data.index, data.values/df.shape[0])\n",
    "plt.title(\"Group Proportion\")\n",
    "plt.show()"
   ]
  },
  {
   "cell_type": "code",
   "execution_count": null,
   "metadata": {},
   "outputs": [],
   "source": []
  }
 ],
 "metadata": {
  "kernelspec": {
   "display_name": "Python 3",
   "language": "python",
   "name": "python3"
  },
  "language_info": {
   "codemirror_mode": {
    "name": "ipython",
    "version": 3
   },
   "file_extension": ".py",
   "mimetype": "text/x-python",
   "name": "python",
   "nbconvert_exporter": "python",
   "pygments_lexer": "ipython3",
   "version": "3.7.6"
  }
 },
 "nbformat": 4,
 "nbformat_minor": 4
}
