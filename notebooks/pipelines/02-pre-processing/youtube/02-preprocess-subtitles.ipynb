{
 "cells": [
  {
   "cell_type": "markdown",
   "metadata": {},
   "source": [
    "### Quick Description\n",
    "\n",
    "Substitutes unknown tokens by the special token `__fuckin__`\n",
    "\n",
    "[Swear Words Dictionary](https://www.noswearing.com/dictionary/)"
   ]
  },
  {
   "cell_type": "code",
   "execution_count": 1,
   "metadata": {},
   "outputs": [],
   "source": [
    "import os\n",
    "import glob\n",
    "import yaml\n",
    "import time\n",
    "import json\n",
    "import sys\n",
    "import re\n",
    "import pandas as pd\n",
    "\n",
    "from tqdm import tqdm\n",
    "from googleapiclient import discovery\n",
    "\n",
    "sys.path.append(\"../utils\")\n",
    "from toxicity_api_communication import get_toxicity_score"
   ]
  },
  {
   "cell_type": "code",
   "execution_count": 30,
   "metadata": {},
   "outputs": [
    {
     "name": "stderr",
     "output_type": "stream",
     "text": [
      "/tmp/ipykernel_102897/1225555520.py:1: YAMLLoadWarning: calling yaml.load() without Loader=... is deprecated, as the default Loader is unsafe. Please read https://msg.pyyaml.org/load for full details.\n",
      "  filepaths = yaml.load(open(\"../config/filepaths.yaml\"))\n",
      "/tmp/ipykernel_102897/1225555520.py:2: YAMLLoadWarning: calling yaml.load() without Loader=... is deprecated, as the default Loader is unsafe. Please read https://msg.pyyaml.org/load for full details.\n",
      "  credentials = yaml.load(open(\"../config/credentials.yaml\"))[\"perspective-api\"]\n"
     ]
    }
   ],
   "source": [
    "filepaths = yaml.load(open(\"/home/guilherme/Desktop/dissertation/config/filepaths.yaml\"))\n",
    "credentials = yaml.load(open(\"/home/guilherme/Desktop/dissertation/config/credentials.yaml\"))[\"perspective-api\"]\n",
    "\n",
    "service = discovery.build(\n",
    "    \"commentanalyzer\",\n",
    "    \"v1alpha1\",\n",
    "    developerKey=credentials[\"key-1\"],\n",
    "    discoveryServiceUrl=\"https://commentanalyzer.googleapis.com/$discovery/rest?version=v1alpha1\",\n",
    "    static_discovery=False,\n",
    ")"
   ]
  },
  {
   "cell_type": "markdown",
   "metadata": {},
   "source": [
    "---\n",
    "### Replace tokens with curse words"
   ]
  },
  {
   "cell_type": "code",
   "execution_count": 32,
   "metadata": {},
   "outputs": [
    {
     "name": "stderr",
     "output_type": "stream",
     "text": [
      "100%|████████████████████████████████████████████████████████████| 634/634 [00:00<00:00, 19880.30it/s]\n"
     ]
    }
   ],
   "source": [
    "inputted_curse_words = []\n",
    "filenames = [file.split(\"/\")[-1] for file in glob.glob(os.path.join(filepaths[\"01_youtube_raw\"], \"*\"))]\n",
    "for filename in tqdm(filenames, total=len(filenames)):\n",
    "    with open(os.path.join(filepaths[\"01_youtube_raw\"], filename)) as file:\n",
    "        text = file.read()\n",
    "        \n",
    "    inputted_curse_words.append((filename, 1 if \"[ __ ]\" in text else 0))\n",
    "\n",
    "    text = re.sub(r\"\\[ __ \\]\", \"__fuckin__\", text).strip()\n",
    "    text = re.sub(r\"\\[(.*?)\\]\", '', text).strip()\n",
    "        \n",
    "    with open(os.path.join(filepaths[\"02_youtube_preprocessed\"], filename), 'w') as file:\n",
    "        file.write(text)\n",
    "\n",
    "df_inputation_schema = pd.DataFrame(inputted_curse_words, columns=[\"filename\", \"inputted\"])"
   ]
  },
  {
   "cell_type": "code",
   "execution_count": 33,
   "metadata": {},
   "outputs": [],
   "source": [
    "df_inputation_schema.to_csv(filepaths[\"00_inputation_schema\"], index=False)"
   ]
  }
 ],
 "metadata": {
  "kernelspec": {
   "display_name": "Python 3 (ipykernel)",
   "language": "python",
   "name": "python3"
  },
  "language_info": {
   "codemirror_mode": {
    "name": "ipython",
    "version": 3
   },
   "file_extension": ".py",
   "mimetype": "text/x-python",
   "name": "python",
   "nbconvert_exporter": "python",
   "pygments_lexer": "ipython3",
   "version": "3.8.10"
  }
 },
 "nbformat": 4,
 "nbformat_minor": 4
}
