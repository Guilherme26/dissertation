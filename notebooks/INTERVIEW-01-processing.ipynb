{
 "cells": [
  {
   "cell_type": "markdown",
   "metadata": {},
   "source": [
    "# Obtem todas as senteças que os usuarios classificados produziram"
   ]
  },
  {
   "cell_type": "code",
   "execution_count": 143,
   "id": "5630edc2",
   "metadata": {},
   "outputs": [],
   "source": [
    "import pandas as pd\n",
    "import datetime\n",
    "import matplotlib.pyplot as plt\n",
    "import yaml\n",
    "\n",
    "filepaths = yaml.safe_load(open(\"../config/filepaths.yaml\"))"
   ]
  },
  {
   "cell_type": "code",
   "execution_count": 46,
   "id": "2f9808a3",
   "metadata": {},
   "outputs": [
    {
     "data": {
      "text/html": [
       "<div>\n",
       "<style scoped>\n",
       "    .dataframe tbody tr th:only-of-type {\n",
       "        vertical-align: middle;\n",
       "    }\n",
       "\n",
       "    .dataframe tbody tr th {\n",
       "        vertical-align: top;\n",
       "    }\n",
       "\n",
       "    .dataframe thead th {\n",
       "        text-align: right;\n",
       "    }\n",
       "</style>\n",
       "<table border=\"1\" class=\"dataframe\">\n",
       "  <thead>\n",
       "    <tr style=\"text-align: right;\">\n",
       "      <th></th>\n",
       "      <th>id</th>\n",
       "      <th>program</th>\n",
       "      <th>title</th>\n",
       "      <th>episode_date</th>\n",
       "    </tr>\n",
       "  </thead>\n",
       "  <tbody>\n",
       "    <tr>\n",
       "      <th>0</th>\n",
       "      <td>98814</td>\n",
       "      <td>Morning Edition</td>\n",
       "      <td>Senate Ushers In New Year With 'Fiscal Cliff' ...</td>\n",
       "      <td>2013-01-01</td>\n",
       "    </tr>\n",
       "    <tr>\n",
       "      <th>1</th>\n",
       "      <td>98824</td>\n",
       "      <td>Morning Edition</td>\n",
       "      <td>Cheap Bubbly Or Expensive Sparkling Wine? Look...</td>\n",
       "      <td>2012-12-31</td>\n",
       "    </tr>\n",
       "    <tr>\n",
       "      <th>2</th>\n",
       "      <td>98821</td>\n",
       "      <td>Morning Edition</td>\n",
       "      <td>U.S. Gas Prices Reach Record Level In 2012</td>\n",
       "      <td>2013-01-01</td>\n",
       "    </tr>\n",
       "    <tr>\n",
       "      <th>3</th>\n",
       "      <td>98806</td>\n",
       "      <td>Morning Edition</td>\n",
       "      <td>House Approves 'Fiscal Cliff' Measure</td>\n",
       "      <td>2013-01-02</td>\n",
       "    </tr>\n",
       "    <tr>\n",
       "      <th>4</th>\n",
       "      <td>98823</td>\n",
       "      <td>Morning Edition</td>\n",
       "      <td>The Fiscal Cliff: A Love Story</td>\n",
       "      <td>2012-12-31</td>\n",
       "    </tr>\n",
       "    <tr>\n",
       "      <th>...</th>\n",
       "      <td>...</td>\n",
       "      <td>...</td>\n",
       "      <td>...</td>\n",
       "      <td>...</td>\n",
       "    </tr>\n",
       "    <tr>\n",
       "      <th>105843</th>\n",
       "      <td>98839</td>\n",
       "      <td>All Things Considered</td>\n",
       "      <td>With Malaysia Airlines Crash, A Loss For AIDS ...</td>\n",
       "      <td>2014-07-19</td>\n",
       "    </tr>\n",
       "    <tr>\n",
       "      <th>105844</th>\n",
       "      <td>98840</td>\n",
       "      <td>All Things Considered</td>\n",
       "      <td>The Israeli-Palestinian Conflict, Remixed And ...</td>\n",
       "      <td>2014-07-19</td>\n",
       "    </tr>\n",
       "    <tr>\n",
       "      <th>105845</th>\n",
       "      <td>98842</td>\n",
       "      <td>All Things Considered</td>\n",
       "      <td>As Superheroes Go Mainstream, Comic Cons Get C...</td>\n",
       "      <td>2014-07-19</td>\n",
       "    </tr>\n",
       "    <tr>\n",
       "      <th>105846</th>\n",
       "      <td>98833</td>\n",
       "      <td>All Things Considered</td>\n",
       "      <td>Despite California's Drought, Taps Still Flowi...</td>\n",
       "      <td>2014-07-20</td>\n",
       "    </tr>\n",
       "    <tr>\n",
       "      <th>105847</th>\n",
       "      <td>98845</td>\n",
       "      <td>All Things Considered</td>\n",
       "      <td>An American Radio Station That's Saying 'Jambo...</td>\n",
       "      <td>2014-07-19</td>\n",
       "    </tr>\n",
       "  </tbody>\n",
       "</table>\n",
       "<p>105848 rows × 4 columns</p>\n",
       "</div>"
      ],
      "text/plain": [
       "           id                program                                              title episode_date\n",
       "0       98814        Morning Edition  Senate Ushers In New Year With 'Fiscal Cliff' ...   2013-01-01\n",
       "1       98824        Morning Edition  Cheap Bubbly Or Expensive Sparkling Wine? Look...   2012-12-31\n",
       "2       98821        Morning Edition         U.S. Gas Prices Reach Record Level In 2012   2013-01-01\n",
       "3       98806        Morning Edition              House Approves 'Fiscal Cliff' Measure   2013-01-02\n",
       "4       98823        Morning Edition                     The Fiscal Cliff: A Love Story   2012-12-31\n",
       "...       ...                    ...                                                ...          ...\n",
       "105843  98839  All Things Considered  With Malaysia Airlines Crash, A Loss For AIDS ...   2014-07-19\n",
       "105844  98840  All Things Considered  The Israeli-Palestinian Conflict, Remixed And ...   2014-07-19\n",
       "105845  98842  All Things Considered  As Superheroes Go Mainstream, Comic Cons Get C...   2014-07-19\n",
       "105846  98833  All Things Considered  Despite California's Drought, Taps Still Flowi...   2014-07-20\n",
       "105847  98845  All Things Considered  An American Radio Station That's Saying 'Jambo...   2014-07-19\n",
       "\n",
       "[105848 rows x 4 columns]"
      ]
     },
     "execution_count": 46,
     "metadata": {},
     "output_type": "execute_result"
    }
   ],
   "source": [
    "episodes = pd.read_csv(filepaths['interview_original']+'episodes.csv')\n",
    "episodes.episode_date = episodes.episode_date.apply(lambda x: datetime.datetime.strptime(x,\"%Y-%m-%d\"))\n",
    "episodes"
   ]
  },
  {
   "cell_type": "code",
   "execution_count": 13,
   "id": "a7b297fe",
   "metadata": {},
   "outputs": [],
   "source": [
    "episodes = episodes[episodes.episode_date>datetime.datetime.strptime('2010',\"%Y\")]"
   ]
  },
  {
   "cell_type": "code",
   "execution_count": 14,
   "id": "9511815f",
   "metadata": {},
   "outputs": [
    {
     "data": {
      "text/html": [
       "<div>\n",
       "<style scoped>\n",
       "    .dataframe tbody tr th:only-of-type {\n",
       "        vertical-align: middle;\n",
       "    }\n",
       "\n",
       "    .dataframe tbody tr th {\n",
       "        vertical-align: top;\n",
       "    }\n",
       "\n",
       "    .dataframe thead th {\n",
       "        text-align: right;\n",
       "    }\n",
       "</style>\n",
       "<table border=\"1\" class=\"dataframe\">\n",
       "  <thead>\n",
       "    <tr style=\"text-align: right;\">\n",
       "      <th></th>\n",
       "      <th>episode</th>\n",
       "      <th>episode_order</th>\n",
       "      <th>turn_order</th>\n",
       "      <th>speaker_order</th>\n",
       "      <th>host_id</th>\n",
       "      <th>is_host</th>\n",
       "      <th>utterance</th>\n",
       "    </tr>\n",
       "  </thead>\n",
       "  <tbody>\n",
       "    <tr>\n",
       "      <th>0</th>\n",
       "      <td>1</td>\n",
       "      <td>1</td>\n",
       "      <td>0</td>\n",
       "      <td>0</td>\n",
       "      <td>0</td>\n",
       "      <td>True</td>\n",
       "      <td>The impeachment inquiry picks up tomorrow wher...</td>\n",
       "    </tr>\n",
       "    <tr>\n",
       "      <th>1</th>\n",
       "      <td>1</td>\n",
       "      <td>1</td>\n",
       "      <td>1</td>\n",
       "      <td>0</td>\n",
       "      <td>0</td>\n",
       "      <td>True</td>\n",
       "      <td>Just this morning, the lawyer for the whistleb...</td>\n",
       "    </tr>\n",
       "    <tr>\n",
       "      <th>2</th>\n",
       "      <td>1</td>\n",
       "      <td>1</td>\n",
       "      <td>2</td>\n",
       "      <td>0</td>\n",
       "      <td>0</td>\n",
       "      <td>True</td>\n",
       "      <td>There's are a lot of moving parts.</td>\n",
       "    </tr>\n",
       "    <tr>\n",
       "      <th>3</th>\n",
       "      <td>1</td>\n",
       "      <td>1</td>\n",
       "      <td>3</td>\n",
       "      <td>0</td>\n",
       "      <td>0</td>\n",
       "      <td>True</td>\n",
       "      <td>Fortunately, NPR's Mara Liasson is here to help.</td>\n",
       "    </tr>\n",
       "    <tr>\n",
       "      <th>4</th>\n",
       "      <td>1</td>\n",
       "      <td>2</td>\n",
       "      <td>0</td>\n",
       "      <td>0</td>\n",
       "      <td>0</td>\n",
       "      <td>True</td>\n",
       "      <td>Good morning.</td>\n",
       "    </tr>\n",
       "  </tbody>\n",
       "</table>\n",
       "</div>"
      ],
      "text/plain": [
       "   episode  episode_order  turn_order  speaker_order  host_id  is_host  \\\n",
       "0        1              1           0              0        0     True   \n",
       "1        1              1           1              0        0     True   \n",
       "2        1              1           2              0        0     True   \n",
       "3        1              1           3              0        0     True   \n",
       "4        1              2           0              0        0     True   \n",
       "\n",
       "                                           utterance  \n",
       "0  The impeachment inquiry picks up tomorrow wher...  \n",
       "1  Just this morning, the lawyer for the whistleb...  \n",
       "2                 There's are a lot of moving parts.  \n",
       "3   Fortunately, NPR's Mara Liasson is here to help.  \n",
       "4                                      Good morning.  "
      ]
     },
     "execution_count": 14,
     "metadata": {},
     "output_type": "execute_result"
    }
   ],
   "source": [
    "interview = pd.read_csv(filepaths['interview_original']+'utterances-2sp.csv')\n",
    "interview.head()"
   ]
  },
  {
   "cell_type": "code",
   "execution_count": 15,
   "id": "72fd46f4",
   "metadata": {},
   "outputs": [
    {
     "data": {
      "text/plain": [
       "443184"
      ]
     },
     "execution_count": 15,
     "metadata": {},
     "output_type": "execute_result"
    }
   ],
   "source": [
    "interview = interview[\n",
    "    (interview.is_host==False)\n",
    "    & (interview.episode.isin(episodes.id.unique()))\n",
    "]\n",
    "len(interview)"
   ]
  },
  {
   "cell_type": "code",
   "execution_count": 16,
   "id": "840ffe5e",
   "metadata": {},
   "outputs": [
    {
     "data": {
      "text/plain": [
       "438458"
      ]
     },
     "execution_count": 16,
     "metadata": {},
     "output_type": "execute_result"
    }
   ],
   "source": [
    "# exclui episodeos em que depois de selecionar somente o entrevistado (acima) \n",
    "# o speaker order é duplicado considerando que somente deveriam existir 2 pessoas na conversa\n",
    "\n",
    "more_than_one = interview[['episode','speaker_order']].drop_duplicates()['episode'][interview[['episode','speaker_order']].drop_duplicates()['episode'].duplicated()]\n",
    "interview = interview[~ interview.episode.isin(more_than_one)]\n",
    "len(interview)"
   ]
  },
  {
   "cell_type": "code",
   "execution_count": 17,
   "id": "422bd62a",
   "metadata": {},
   "outputs": [
    {
     "data": {
      "text/html": [
       "<div>\n",
       "<style scoped>\n",
       "    .dataframe tbody tr th:only-of-type {\n",
       "        vertical-align: middle;\n",
       "    }\n",
       "\n",
       "    .dataframe tbody tr th {\n",
       "        vertical-align: top;\n",
       "    }\n",
       "\n",
       "    .dataframe thead th {\n",
       "        text-align: right;\n",
       "    }\n",
       "</style>\n",
       "<table border=\"1\" class=\"dataframe\">\n",
       "  <thead>\n",
       "    <tr style=\"text-align: right;\">\n",
       "      <th></th>\n",
       "      <th>episode</th>\n",
       "      <th>episode_order</th>\n",
       "      <th>speaker</th>\n",
       "      <th>utterance</th>\n",
       "    </tr>\n",
       "  </thead>\n",
       "  <tbody>\n",
       "    <tr>\n",
       "      <th>0</th>\n",
       "      <td>57264</td>\n",
       "      <td>9</td>\n",
       "      <td>Ms. LOREN MOONEY (Editor-in-Chief, Bicycling M...</td>\n",
       "      <td>It's a 2,200-mile race. To give some sense of ...</td>\n",
       "    </tr>\n",
       "    <tr>\n",
       "      <th>1</th>\n",
       "      <td>57264</td>\n",
       "      <td>10</td>\n",
       "      <td>Ms. LOREN MOONEY (Editor-in-Chief, Bicycling M...</td>\n",
       "      <td>So for a top competitor like Lance to try to m...</td>\n",
       "    </tr>\n",
       "    <tr>\n",
       "      <th>2</th>\n",
       "      <td>57264</td>\n",
       "      <td>11</td>\n",
       "      <td>NEAL CONAN, host</td>\n",
       "      <td>So in every team, presumably there's one star,...</td>\n",
       "    </tr>\n",
       "    <tr>\n",
       "      <th>3</th>\n",
       "      <td>57264</td>\n",
       "      <td>12</td>\n",
       "      <td>Ms. LOREN MOONEY (Editor-in-Chief, Bicycling M...</td>\n",
       "      <td>That's right. Each team has nine riders. And w...</td>\n",
       "    </tr>\n",
       "    <tr>\n",
       "      <th>4</th>\n",
       "      <td>57264</td>\n",
       "      <td>13</td>\n",
       "      <td>NEAL CONAN, host</td>\n",
       "      <td>So slipstream, this is like drafting in car ra...</td>\n",
       "    </tr>\n",
       "  </tbody>\n",
       "</table>\n",
       "</div>"
      ],
      "text/plain": [
       "   episode  episode_order                                            speaker  \\\n",
       "0    57264              9  Ms. LOREN MOONEY (Editor-in-Chief, Bicycling M...   \n",
       "1    57264             10  Ms. LOREN MOONEY (Editor-in-Chief, Bicycling M...   \n",
       "2    57264             11                                   NEAL CONAN, host   \n",
       "3    57264             12  Ms. LOREN MOONEY (Editor-in-Chief, Bicycling M...   \n",
       "4    57264             13                                   NEAL CONAN, host   \n",
       "\n",
       "                                           utterance  \n",
       "0  It's a 2,200-mile race. To give some sense of ...  \n",
       "1  So for a top competitor like Lance to try to m...  \n",
       "2  So in every team, presumably there's one star,...  \n",
       "3  That's right. Each team has nine riders. And w...  \n",
       "4  So slipstream, this is like drafting in car ra...  "
      ]
     },
     "execution_count": 17,
     "metadata": {},
     "output_type": "execute_result"
    }
   ],
   "source": [
    "all_episodes = pd.read_csv(filepaths['interview_original']+'utterances.csv')\n",
    "all_episodes.head()"
   ]
  },
  {
   "cell_type": "code",
   "execution_count": 18,
   "id": "f923cd59",
   "metadata": {},
   "outputs": [
    {
     "data": {
      "text/html": [
       "<div>\n",
       "<style scoped>\n",
       "    .dataframe tbody tr th:only-of-type {\n",
       "        vertical-align: middle;\n",
       "    }\n",
       "\n",
       "    .dataframe tbody tr th {\n",
       "        vertical-align: top;\n",
       "    }\n",
       "\n",
       "    .dataframe thead th {\n",
       "        text-align: right;\n",
       "    }\n",
       "</style>\n",
       "<table border=\"1\" class=\"dataframe\">\n",
       "  <thead>\n",
       "    <tr style=\"text-align: right;\">\n",
       "      <th></th>\n",
       "      <th>speaker</th>\n",
       "    </tr>\n",
       "    <tr>\n",
       "      <th>episode</th>\n",
       "      <th></th>\n",
       "    </tr>\n",
       "  </thead>\n",
       "  <tbody>\n",
       "  </tbody>\n",
       "</table>\n",
       "</div>"
      ],
      "text/plain": [
       "Empty DataFrame\n",
       "Columns: [speaker]\n",
       "Index: []"
      ]
     },
     "execution_count": 18,
     "metadata": {},
     "output_type": "execute_result"
    }
   ],
   "source": [
    "speakers = all_episodes[all_episodes.episode.isin(interview.episode.unique())][['episode','speaker']].drop_duplicates()\n",
    "speakers.speaker = speakers.speaker.str.lower()\n",
    "speakers = speakers[~ speakers.speaker.str.contains('_no_speaker')]\n",
    "\n",
    "speakers.groupby('episode').count().query('speaker > 2')"
   ]
  },
  {
   "cell_type": "code",
   "execution_count": 19,
   "id": "4b2fea6d",
   "metadata": {},
   "outputs": [
    {
     "data": {
      "text/plain": [
       "13423"
      ]
     },
     "execution_count": 19,
     "metadata": {},
     "output_type": "execute_result"
    }
   ],
   "source": [
    "speakers[speakers.speaker.str.contains('host')].episode.nunique()"
   ]
  },
  {
   "cell_type": "code",
   "execution_count": 20,
   "id": "2cddf696",
   "metadata": {},
   "outputs": [
    {
     "data": {
      "text/plain": [
       "13416"
      ]
     },
     "execution_count": 20,
     "metadata": {},
     "output_type": "execute_result"
    }
   ],
   "source": [
    "guests = speakers[~speakers.speaker.str.contains('host')]\n",
    "guests.episode.nunique()"
   ]
  },
  {
   "cell_type": "code",
   "execution_count": 21,
   "id": "0967b340",
   "metadata": {},
   "outputs": [
    {
     "data": {
      "text/html": [
       "<div>\n",
       "<style scoped>\n",
       "    .dataframe tbody tr th:only-of-type {\n",
       "        vertical-align: middle;\n",
       "    }\n",
       "\n",
       "    .dataframe tbody tr th {\n",
       "        vertical-align: top;\n",
       "    }\n",
       "\n",
       "    .dataframe thead th {\n",
       "        text-align: right;\n",
       "    }\n",
       "</style>\n",
       "<table border=\"1\" class=\"dataframe\">\n",
       "  <thead>\n",
       "    <tr style=\"text-align: right;\">\n",
       "      <th></th>\n",
       "      <th>speaker</th>\n",
       "    </tr>\n",
       "    <tr>\n",
       "      <th>episode</th>\n",
       "      <th></th>\n",
       "    </tr>\n",
       "  </thead>\n",
       "  <tbody>\n",
       "  </tbody>\n",
       "</table>\n",
       "</div>"
      ],
      "text/plain": [
       "Empty DataFrame\n",
       "Columns: [speaker]\n",
       "Index: []"
      ]
     },
     "execution_count": 21,
     "metadata": {},
     "output_type": "execute_result"
    }
   ],
   "source": [
    "guests.groupby('episode').count().query('speaker > 1')"
   ]
  },
  {
   "cell_type": "code",
   "execution_count": 22,
   "id": "5bdcfa1b",
   "metadata": {},
   "outputs": [
    {
     "name": "stdout",
     "output_type": "stream",
     "text": [
      "438458\n",
      "438249\n"
     ]
    }
   ],
   "source": [
    "print(len(interview))\n",
    "sentences = interview.merge(guests)[['episode','episode_order','turn_order','utterance','speaker']]\n",
    "print(len(sentences))"
   ]
  },
  {
   "cell_type": "code",
   "execution_count": 23,
   "id": "7df60141",
   "metadata": {},
   "outputs": [
    {
     "data": {
      "text/html": [
       "<div>\n",
       "<style scoped>\n",
       "    .dataframe tbody tr th:only-of-type {\n",
       "        vertical-align: middle;\n",
       "    }\n",
       "\n",
       "    .dataframe tbody tr th {\n",
       "        vertical-align: top;\n",
       "    }\n",
       "\n",
       "    .dataframe thead th {\n",
       "        text-align: right;\n",
       "    }\n",
       "</style>\n",
       "<table border=\"1\" class=\"dataframe\">\n",
       "  <thead>\n",
       "    <tr style=\"text-align: right;\">\n",
       "      <th></th>\n",
       "      <th>utterance</th>\n",
       "      <th>speaker</th>\n",
       "      <th>utterance_id</th>\n",
       "    </tr>\n",
       "  </thead>\n",
       "  <tbody>\n",
       "    <tr>\n",
       "      <th>0</th>\n",
       "      <td>Good morning, Lulu.</td>\n",
       "      <td>mara liasson, byline</td>\n",
       "      <td>1_3_0</td>\n",
       "    </tr>\n",
       "    <tr>\n",
       "      <th>1</th>\n",
       "      <td>Well, the latest is that the lawyer for the fi...</td>\n",
       "      <td>mara liasson, byline</td>\n",
       "      <td>1_5_0</td>\n",
       "    </tr>\n",
       "    <tr>\n",
       "      <th>2</th>\n",
       "      <td>The first whistleblower only had second and th...</td>\n",
       "      <td>mara liasson, byline</td>\n",
       "      <td>1_5_1</td>\n",
       "    </tr>\n",
       "    <tr>\n",
       "      <th>3</th>\n",
       "      <td>We also know that there are subpoenas for Whit...</td>\n",
       "      <td>mara liasson, byline</td>\n",
       "      <td>1_5_2</td>\n",
       "    </tr>\n",
       "    <tr>\n",
       "      <th>4</th>\n",
       "      <td>We don't know how cooperative the administrati...</td>\n",
       "      <td>mara liasson, byline</td>\n",
       "      <td>1_5_3</td>\n",
       "    </tr>\n",
       "  </tbody>\n",
       "</table>\n",
       "</div>"
      ],
      "text/plain": [
       "                                           utterance               speaker  \\\n",
       "0                                Good morning, Lulu.  mara liasson, byline   \n",
       "1  Well, the latest is that the lawyer for the fi...  mara liasson, byline   \n",
       "2  The first whistleblower only had second and th...  mara liasson, byline   \n",
       "3  We also know that there are subpoenas for Whit...  mara liasson, byline   \n",
       "4  We don't know how cooperative the administrati...  mara liasson, byline   \n",
       "\n",
       "  utterance_id  \n",
       "0        1_3_0  \n",
       "1        1_5_0  \n",
       "2        1_5_1  \n",
       "3        1_5_2  \n",
       "4        1_5_3  "
      ]
     },
     "execution_count": 23,
     "metadata": {},
     "output_type": "execute_result"
    }
   ],
   "source": [
    "sentences['utterance_id'] = sentences[['episode','episode_order','turn_order']].apply(lambda x: '_'.join(x.values.astype(str)), axis=1)\n",
    "sentences = sentences.drop(columns=['episode','episode_order','turn_order'])\n",
    "sentences.head()"
   ]
  },
  {
   "cell_type": "code",
   "execution_count": 24,
   "metadata": {},
   "outputs": [
    {
     "data": {
      "text/html": [
       "<div>\n",
       "<style scoped>\n",
       "    .dataframe tbody tr th:only-of-type {\n",
       "        vertical-align: middle;\n",
       "    }\n",
       "\n",
       "    .dataframe tbody tr th {\n",
       "        vertical-align: top;\n",
       "    }\n",
       "\n",
       "    .dataframe thead th {\n",
       "        text-align: right;\n",
       "    }\n",
       "</style>\n",
       "<table border=\"1\" class=\"dataframe\">\n",
       "  <thead>\n",
       "    <tr style=\"text-align: right;\">\n",
       "      <th></th>\n",
       "      <th>utterance</th>\n",
       "      <th>speaker</th>\n",
       "      <th>utterance_id</th>\n",
       "    </tr>\n",
       "  </thead>\n",
       "  <tbody>\n",
       "    <tr>\n",
       "      <th>0</th>\n",
       "      <td>Good morning, Lulu.</td>\n",
       "      <td>mara liasson, byline</td>\n",
       "      <td>1_3_0</td>\n",
       "    </tr>\n",
       "    <tr>\n",
       "      <th>1</th>\n",
       "      <td>Well, the latest is that the lawyer for the fi...</td>\n",
       "      <td>mara liasson, byline</td>\n",
       "      <td>1_5_0</td>\n",
       "    </tr>\n",
       "    <tr>\n",
       "      <th>2</th>\n",
       "      <td>The first whistleblower only had second and th...</td>\n",
       "      <td>mara liasson, byline</td>\n",
       "      <td>1_5_1</td>\n",
       "    </tr>\n",
       "    <tr>\n",
       "      <th>3</th>\n",
       "      <td>We also know that there are subpoenas for Whit...</td>\n",
       "      <td>mara liasson, byline</td>\n",
       "      <td>1_5_2</td>\n",
       "    </tr>\n",
       "    <tr>\n",
       "      <th>4</th>\n",
       "      <td>We don't know how cooperative the administrati...</td>\n",
       "      <td>mara liasson, byline</td>\n",
       "      <td>1_5_3</td>\n",
       "    </tr>\n",
       "    <tr>\n",
       "      <th>...</th>\n",
       "      <td>...</td>\n",
       "      <td>...</td>\n",
       "      <td>...</td>\n",
       "    </tr>\n",
       "    <tr>\n",
       "      <th>438244</th>\n",
       "      <td>Thank you so much.</td>\n",
       "      <td>ms. caroline herring (singer)</td>\n",
       "      <td>122299_46_0</td>\n",
       "    </tr>\n",
       "    <tr>\n",
       "      <th>438245</th>\n",
       "      <td>(Singing) I had a few more questions, I never ...</td>\n",
       "      <td>ms. caroline herring (singer)</td>\n",
       "      <td>122299_49_0</td>\n",
       "    </tr>\n",
       "    <tr>\n",
       "      <th>438246</th>\n",
       "      <td>You were feeling downhearted, the last time we...</td>\n",
       "      <td>ms. caroline herring (singer)</td>\n",
       "      <td>122299_49_1</td>\n",
       "    </tr>\n",
       "    <tr>\n",
       "      <th>438247</th>\n",
       "      <td>With a shuck of the white hair, life has chang...</td>\n",
       "      <td>ms. caroline herring (singer)</td>\n",
       "      <td>122299_49_2</td>\n",
       "    </tr>\n",
       "    <tr>\n",
       "      <th>438248</th>\n",
       "      <td>And I'm kind of scared of that, it bottoms out...</td>\n",
       "      <td>ms. caroline herring (singer)</td>\n",
       "      <td>122299_49_3</td>\n",
       "    </tr>\n",
       "  </tbody>\n",
       "</table>\n",
       "<p>438249 rows × 3 columns</p>\n",
       "</div>"
      ],
      "text/plain": [
       "                                                utterance  \\\n",
       "0                                     Good morning, Lulu.   \n",
       "1       Well, the latest is that the lawyer for the fi...   \n",
       "2       The first whistleblower only had second and th...   \n",
       "3       We also know that there are subpoenas for Whit...   \n",
       "4       We don't know how cooperative the administrati...   \n",
       "...                                                   ...   \n",
       "438244                                 Thank you so much.   \n",
       "438245  (Singing) I had a few more questions, I never ...   \n",
       "438246  You were feeling downhearted, the last time we...   \n",
       "438247  With a shuck of the white hair, life has chang...   \n",
       "438248  And I'm kind of scared of that, it bottoms out...   \n",
       "\n",
       "                              speaker utterance_id  \n",
       "0                mara liasson, byline        1_3_0  \n",
       "1                mara liasson, byline        1_5_0  \n",
       "2                mara liasson, byline        1_5_1  \n",
       "3                mara liasson, byline        1_5_2  \n",
       "4                mara liasson, byline        1_5_3  \n",
       "...                               ...          ...  \n",
       "438244  ms. caroline herring (singer)  122299_46_0  \n",
       "438245  ms. caroline herring (singer)  122299_49_0  \n",
       "438246  ms. caroline herring (singer)  122299_49_1  \n",
       "438247  ms. caroline herring (singer)  122299_49_2  \n",
       "438248  ms. caroline herring (singer)  122299_49_3  \n",
       "\n",
       "[438249 rows x 3 columns]"
      ]
     },
     "execution_count": 24,
     "metadata": {},
     "output_type": "execute_result"
    }
   ],
   "source": [
    "sentences"
   ]
  },
  {
   "cell_type": "code",
   "execution_count": 26,
   "metadata": {},
   "outputs": [
    {
     "data": {
      "text/html": [
       "<div>\n",
       "<style scoped>\n",
       "    .dataframe tbody tr th:only-of-type {\n",
       "        vertical-align: middle;\n",
       "    }\n",
       "\n",
       "    .dataframe tbody tr th {\n",
       "        vertical-align: top;\n",
       "    }\n",
       "\n",
       "    .dataframe thead th {\n",
       "        text-align: right;\n",
       "    }\n",
       "</style>\n",
       "<table border=\"1\" class=\"dataframe\">\n",
       "  <thead>\n",
       "    <tr style=\"text-align: right;\">\n",
       "      <th></th>\n",
       "      <th>speaker</th>\n",
       "      <th>gender</th>\n",
       "      <th>race</th>\n",
       "      <th>speaker_original</th>\n",
       "    </tr>\n",
       "  </thead>\n",
       "  <tbody>\n",
       "    <tr>\n",
       "      <th>0</th>\n",
       "      <td>andrew chamberlain</td>\n",
       "      <td>f</td>\n",
       "      <td>white</td>\n",
       "      <td>andrew chamberlain</td>\n",
       "    </tr>\n",
       "    <tr>\n",
       "      <th>1</th>\n",
       "      <td>reese witherspoon</td>\n",
       "      <td>f</td>\n",
       "      <td>white</td>\n",
       "      <td>reese witherspoon</td>\n",
       "    </tr>\n",
       "    <tr>\n",
       "      <th>2</th>\n",
       "      <td>karoun demirjian</td>\n",
       "      <td>f</td>\n",
       "      <td>white</td>\n",
       "      <td>karoun demirjian</td>\n",
       "    </tr>\n",
       "    <tr>\n",
       "      <th>3</th>\n",
       "      <td>rachel held evans</td>\n",
       "      <td>f</td>\n",
       "      <td>white</td>\n",
       "      <td>rachel held evans</td>\n",
       "    </tr>\n",
       "    <tr>\n",
       "      <th>4</th>\n",
       "      <td>jennifer pahlka</td>\n",
       "      <td>f</td>\n",
       "      <td>white</td>\n",
       "      <td>jennifer pahlka</td>\n",
       "    </tr>\n",
       "  </tbody>\n",
       "</table>\n",
       "</div>"
      ],
      "text/plain": [
       "              speaker gender   race    speaker_original\n",
       "0  andrew chamberlain      f  white  andrew chamberlain\n",
       "1   reese witherspoon      f  white   reese witherspoon\n",
       "2    karoun demirjian      f  white    karoun demirjian\n",
       "3   rachel held evans      f  white   rachel held evans\n",
       "4     jennifer pahlka      f  white     jennifer pahlka"
      ]
     },
     "execution_count": 26,
     "metadata": {},
     "output_type": "execute_result"
    }
   ],
   "source": [
    "classifictions = pd.read_csv(filepaths['interview_classifications']+'all.csv')\n",
    "classifictions.head()"
   ]
  },
  {
   "cell_type": "code",
   "execution_count": 33,
   "metadata": {},
   "outputs": [],
   "source": [
    "sentences = sentences.merge(classifictions, left_on='speaker',right_on='speaker_original',how='right',suffixes=('_sentences','')).drop(columns=['speaker_sentences'])"
   ]
  },
  {
   "cell_type": "code",
   "execution_count": 36,
   "metadata": {},
   "outputs": [
    {
     "data": {
      "text/html": [
       "<div>\n",
       "<style scoped>\n",
       "    .dataframe tbody tr th:only-of-type {\n",
       "        vertical-align: middle;\n",
       "    }\n",
       "\n",
       "    .dataframe tbody tr th {\n",
       "        vertical-align: top;\n",
       "    }\n",
       "\n",
       "    .dataframe thead th {\n",
       "        text-align: right;\n",
       "    }\n",
       "</style>\n",
       "<table border=\"1\" class=\"dataframe\">\n",
       "  <thead>\n",
       "    <tr style=\"text-align: right;\">\n",
       "      <th></th>\n",
       "      <th></th>\n",
       "      <th>utterance</th>\n",
       "      <th>utterance_id</th>\n",
       "      <th>speaker</th>\n",
       "      <th>speaker_original</th>\n",
       "    </tr>\n",
       "    <tr>\n",
       "      <th>race</th>\n",
       "      <th>gender</th>\n",
       "      <th></th>\n",
       "      <th></th>\n",
       "      <th></th>\n",
       "      <th></th>\n",
       "    </tr>\n",
       "  </thead>\n",
       "  <tbody>\n",
       "    <tr>\n",
       "      <th rowspan=\"2\" valign=\"top\">black</th>\n",
       "      <th>f</th>\n",
       "      <td>1698</td>\n",
       "      <td>1698</td>\n",
       "      <td>1698</td>\n",
       "      <td>1698</td>\n",
       "    </tr>\n",
       "    <tr>\n",
       "      <th>m</th>\n",
       "      <td>2001</td>\n",
       "      <td>2001</td>\n",
       "      <td>2001</td>\n",
       "      <td>2001</td>\n",
       "    </tr>\n",
       "    <tr>\n",
       "      <th rowspan=\"2\" valign=\"top\">white</th>\n",
       "      <th>f</th>\n",
       "      <td>1729</td>\n",
       "      <td>1729</td>\n",
       "      <td>1729</td>\n",
       "      <td>1729</td>\n",
       "    </tr>\n",
       "    <tr>\n",
       "      <th>m</th>\n",
       "      <td>1499</td>\n",
       "      <td>1499</td>\n",
       "      <td>1499</td>\n",
       "      <td>1499</td>\n",
       "    </tr>\n",
       "  </tbody>\n",
       "</table>\n",
       "</div>"
      ],
      "text/plain": [
       "              utterance  utterance_id  speaker  speaker_original\n",
       "race  gender                                                    \n",
       "black f            1698          1698     1698              1698\n",
       "      m            2001          2001     2001              2001\n",
       "white f            1729          1729     1729              1729\n",
       "      m            1499          1499     1499              1499"
      ]
     },
     "execution_count": 36,
     "metadata": {},
     "output_type": "execute_result"
    }
   ],
   "source": [
    "sentences.groupby(['race','gender']).count()"
   ]
  },
  {
   "cell_type": "markdown",
   "metadata": {},
   "source": [
    "#### Salva na formatação desejada"
   ]
  },
  {
   "cell_type": "code",
   "execution_count": 66,
   "metadata": {},
   "outputs": [],
   "source": [
    "for spkr in sentences.speaker.unique():\n",
    "    df = sentences[sentences.speaker==spkr]\n",
    "    spkr_data = classifictions[classifictions.speaker==spkr].iloc[0]\n",
    "    df[['utterance']].rename(columns={'utterance':'text'}).to_csv(\n",
    "        filepaths['interview_sentences']+{}-{}-{}'.format(spkr_data.race,spkr_data.gender,spkr_data.speaker),\n",
    "        index=False\n",
    "    )"
   ]
  }
 ],
 "metadata": {
  "interpreter": {
   "hash": "716bd3ad375c41b9a51e5bdb0fea9e61f5f5b3cdf5599be47497d0ef2a02897b"
  },
  "kernelspec": {
   "display_name": "Python 3.10.4 ('fake')",
   "language": "python",
   "name": "python3"
  },
  "language_info": {
   "codemirror_mode": {
    "name": "ipython",
    "version": 3
   },
   "file_extension": ".py",
   "mimetype": "text/x-python",
   "name": "python",
   "nbconvert_exporter": "python",
   "pygments_lexer": "ipython3",
   "version": "3.10.4"
  },
  "orig_nbformat": 4
 },
 "nbformat": 4,
 "nbformat_minor": 2
}
