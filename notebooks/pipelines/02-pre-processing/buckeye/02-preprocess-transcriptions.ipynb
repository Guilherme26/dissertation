{
 "cells": [
  {
   "cell_type": "markdown",
   "metadata": {},
   "source": [
    "### Quick Description\n",
    "\n",
    "Process transcribed text to a more readable format based on [Buckeye's User Guide](https://buckeyecorpus.osu.edu/BuckeyeCorpusmanual.pdf)"
   ]
  },
  {
   "cell_type": "code",
   "execution_count": 2,
   "metadata": {},
   "outputs": [],
   "source": [
    "import os\n",
    "import glob\n",
    "import yaml\n",
    "import re\n",
    "import pandas as pd\n",
    "\n",
    "from tqdm import tqdm"
   ]
  },
  {
   "cell_type": "code",
   "execution_count": 3,
   "metadata": {},
   "outputs": [],
   "source": [
    "filepaths = yaml.load(open(\"/home/guilherme/Desktop/dissertation/config/filepaths.yaml\"), Loader=yaml.FullLoader)"
   ]
  },
  {
   "cell_type": "markdown",
   "metadata": {},
   "source": [
    "---\n",
    "### Data Cleansing"
   ]
  },
  {
   "cell_type": "code",
   "execution_count": 3,
   "metadata": {},
   "outputs": [],
   "source": [
    "filenames = [file.split(\"/\")[-1] for file in glob.glob(os.path.join(filepaths[\"02_buckeye_preprocessed\"], \"*\"))]"
   ]
  },
  {
   "cell_type": "markdown",
   "metadata": {},
   "source": [
    "#### Build the entire text"
   ]
  },
  {
   "cell_type": "code",
   "execution_count": 4,
   "metadata": {},
   "outputs": [
    {
     "name": "stderr",
     "output_type": "stream",
     "text": [
      "100%|██████████████████████████████████████████████████████████████| 142/142 [00:00<00:00, 227.93it/s]\n"
     ]
    }
   ],
   "source": [
    "for filename in tqdm(filenames):\n",
    "    with open(os.path.join(filepaths[\"02_buckeye_preprocessed\"], filename)) as f:\n",
    "        s = f.read()\n",
    "\n",
    "    # Remove non-linguistic sounds, e.g. `<LAUGH>`\n",
    "    s = re.sub(\"\\<.*?\\>\", '', s)\n",
    "    s = s.replace('\\n', '')\n",
    "    s = s.strip()\n",
    "\n",
    "    df = pd.DataFrame(s.split('.'), columns=[\"text\"])\n",
    "    df[\"text\"] = df.text.apply(lambda s: s.strip())\n",
    "    df = df[df.text != '']\n",
    "    \n",
    "    df.to_csv(os.path.join(filepaths[\"03_buckeye_segmented\"], filename), index=False)"
   ]
  }
 ],
 "metadata": {
  "kernelspec": {
   "display_name": "Python 3 (ipykernel)",
   "language": "python",
   "name": "python3"
  },
  "language_info": {
   "codemirror_mode": {
    "name": "ipython",
    "version": 3
   },
   "file_extension": ".py",
   "mimetype": "text/x-python",
   "name": "python",
   "nbconvert_exporter": "python",
   "pygments_lexer": "ipython3",
   "version": "3.8.10"
  }
 },
 "nbformat": 4,
 "nbformat_minor": 4
}
